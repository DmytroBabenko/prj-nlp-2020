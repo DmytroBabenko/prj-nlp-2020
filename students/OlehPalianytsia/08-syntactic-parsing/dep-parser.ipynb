{
 "cells": [
  {
   "cell_type": "markdown",
   "metadata": {},
   "source": [
    "## Частина, яку ми робили на практичній"
   ]
  },
  {
   "cell_type": "code",
   "execution_count": 2,
   "metadata": {},
   "outputs": [
    {
     "name": "stdout",
     "output_type": "stream",
     "text": [
      "У <-- домі\n",
      "домі <-- була\n",
      "римського <-- патриція\n",
      "патриція <-- домі\n",
      "Руфіна <-- патриція\n",
      "була <-- root\n",
      "прегарна <-- фреска\n",
      "фреска <-- була\n",
      ", <-- зображення\n",
      "зображення <-- фреска\n",
      "Венери <-- зображення\n",
      "та <-- Адоніса\n",
      "Адоніса <-- Венери\n",
      ". <-- була\n"
     ]
    }
   ],
   "source": [
    "from collections import OrderedDict\n",
    "from conllu import parse\n",
    "\n",
    "PATH = 'UD_Ukrainian-IU/'\n",
    "\n",
    "with open(PATH + 'uk_iu-ud-train.conllu', 'r') as f:\n",
    "    train_trees = parse(f.read())\n",
    "\n",
    "tree = train_trees[0]\n",
    "for node in tree:\n",
    "    head = node['head']\n",
    "    print('{} <-- {}'.format(node['form'],\n",
    "                             tree[head - 1]['form']\n",
    "                             if head > 0 else 'root'))"
   ]
  },
  {
   "cell_type": "code",
   "execution_count": 3,
   "metadata": {},
   "outputs": [],
   "source": [
    "from enum import Enum\n",
    "class Actions(str, Enum):\n",
    "    SHIFT = \"shift\"\n",
    "    REDUCE = \"reduce\"\n",
    "    RIGHT = \"right\"\n",
    "    LEFT = \"left\"\n",
    "\n",
    "ROOT = OrderedDict([('id', 0), ('form', 'ROOT'), ('lemma', 'ROOT'), ('upostag', 'ROOT'),\n",
    "                    ('xpostag', None), ('feats', None), ('head', None), ('deprel', None),\n",
    "                    ('deps', None), ('misc', None)])"
   ]
  },
  {
   "cell_type": "code",
   "execution_count": 4,
   "metadata": {},
   "outputs": [
    {
     "data": {
      "text/plain": [
       "[<Actions.SHIFT: 'shift'>,\n",
       " <Actions.LEFT: 'left'>,\n",
       " <Actions.SHIFT: 'shift'>,\n",
       " <Actions.SHIFT: 'shift'>,\n",
       " <Actions.LEFT: 'left'>,\n",
       " <Actions.RIGHT: 'right'>,\n",
       " <Actions.RIGHT: 'right'>,\n",
       " <Actions.REDUCE: 'reduce'>,\n",
       " <Actions.REDUCE: 'reduce'>,\n",
       " <Actions.LEFT: 'left'>,\n",
       " <Actions.RIGHT: 'right'>,\n",
       " <Actions.SHIFT: 'shift'>,\n",
       " <Actions.LEFT: 'left'>,\n",
       " <Actions.RIGHT: 'right'>,\n",
       " <Actions.SHIFT: 'shift'>,\n",
       " <Actions.LEFT: 'left'>,\n",
       " <Actions.RIGHT: 'right'>,\n",
       " <Actions.RIGHT: 'right'>,\n",
       " <Actions.SHIFT: 'shift'>,\n",
       " <Actions.LEFT: 'left'>,\n",
       " <Actions.RIGHT: 'right'>,\n",
       " <Actions.REDUCE: 'reduce'>,\n",
       " <Actions.REDUCE: 'reduce'>,\n",
       " <Actions.REDUCE: 'reduce'>,\n",
       " <Actions.REDUCE: 'reduce'>,\n",
       " <Actions.RIGHT: 'right'>,\n",
       " <Actions.REDUCE: 'reduce'>,\n",
       " <Actions.REDUCE: 'reduce'>,\n",
       " <Actions.REDUCE: 'reduce'>]"
      ]
     },
     "execution_count": 4,
     "metadata": {},
     "output_type": "execute_result"
    }
   ],
   "source": [
    "def initial_state(tree):\n",
    "    return [ROOT], tree, []\n",
    "\n",
    "def infer_action(stack, queue, deps):\n",
    "    if stack and len(queue) == 0:\n",
    "        return Actions.REDUCE\n",
    "    elif queue[0]['head'] == stack[0]['id']:\n",
    "        return Actions.RIGHT\n",
    "    elif stack[0]['head'] == queue[0]['id']:\n",
    "        return Actions.LEFT\n",
    "    elif (stack[0]['id'] in [child for _, child in deps] and\n",
    "             (queue[0]['head'] < stack[0]['id'] or\n",
    "                 queue[0]['id'] in [s['head'] for s in stack])):\n",
    "        return Actions.REDUCE\n",
    "\n",
    "    return Actions.SHIFT\n",
    "\n",
    "def apply_action(action, stack, queue, deps):\n",
    "    if action == Actions.REDUCE:\n",
    "        return stack[1:], queue, deps\n",
    "    elif action == Actions.SHIFT:\n",
    "        return [queue[0]] + stack, queue[1:], deps\n",
    "    elif action == Actions.LEFT:\n",
    "        return stack[1:], queue, deps + [(queue[0]['id'], stack[0]['id'])]\n",
    "    elif action == Actions.RIGHT:\n",
    "        return [queue[0]] + stack, queue[1:], deps + [(stack[0]['id'], queue[0]['id'])]\n",
    "    \n",
    "def oracle(tree):\n",
    "    stack, queue, deps = initial_state(tree)\n",
    "    actions = []\n",
    "    \n",
    "    while stack or queue:\n",
    "        action = infer_action(stack, queue, deps)\n",
    "        actions.append(action)\n",
    "        stack, queue, deps = apply_action(action, stack, queue, deps)\n",
    "        \n",
    "    return actions\n",
    "\n",
    "oracle(tree)"
   ]
  },
  {
   "cell_type": "code",
   "execution_count": 5,
   "metadata": {},
   "outputs": [],
   "source": [
    "def extract_initial_features(tree, stack, queue, deps):\n",
    "    feats = {}\n",
    "    \n",
    "    if stack:\n",
    "        top_stack = stack[0]\n",
    "        feats['stack-0-form'] = top_stack['form']\n",
    "        feats['stack-0-lemma'] = top_stack['lemma']\n",
    "        feats['stack-0-pos'] = top_stack['upostag']\n",
    "    if len(stack) > 1:\n",
    "        feats['stack-1-pos'] = stack[1]['upostag']\n",
    "        \n",
    "    if queue:\n",
    "        top_queue = queue[0]\n",
    "        feats['queue-0-form'] = top_queue['form']\n",
    "        feats['queue-0-lemma'] = top_queue['lemma']\n",
    "        feats['queue-0-pos'] = top_queue['upostag']\n",
    "    if len(queue) > 1:\n",
    "        feats['queue-1-form'] = queue[1]['form']\n",
    "        feats['queue-1-pos'] = queue[1]['upostag']\n",
    "    \n",
    "    if len(queue) > 2:\n",
    "        feats['queue-2-pos'] = queue[2]['upostag']\n",
    "\n",
    "    if len(queue) > 3:\n",
    "        feats['queue-3-pos'] = queue[3]['upostag']\n",
    "\n",
    "    return feats"
   ]
  },
  {
   "cell_type": "code",
   "execution_count": 6,
   "metadata": {},
   "outputs": [
    {
     "data": {
      "text/plain": [
       "[{'stack-0-form': 'ROOT',\n",
       "  'stack-0-lemma': 'ROOT',\n",
       "  'stack-0-pos': 'ROOT',\n",
       "  'queue-0-form': 'У',\n",
       "  'queue-0-lemma': 'у',\n",
       "  'queue-0-pos': 'ADP',\n",
       "  'queue-1-form': 'домі',\n",
       "  'queue-1-pos': 'NOUN',\n",
       "  'queue-2-pos': 'ADJ',\n",
       "  'queue-3-pos': 'NOUN'},\n",
       " {'stack-0-form': 'У',\n",
       "  'stack-0-lemma': 'у',\n",
       "  'stack-0-pos': 'ADP',\n",
       "  'stack-1-pos': 'ROOT',\n",
       "  'queue-0-form': 'домі',\n",
       "  'queue-0-lemma': 'дім',\n",
       "  'queue-0-pos': 'NOUN',\n",
       "  'queue-1-form': 'римського',\n",
       "  'queue-1-pos': 'ADJ',\n",
       "  'queue-2-pos': 'NOUN',\n",
       "  'queue-3-pos': 'PROPN'},\n",
       " {'stack-0-form': 'ROOT',\n",
       "  'stack-0-lemma': 'ROOT',\n",
       "  'stack-0-pos': 'ROOT',\n",
       "  'queue-0-form': 'домі',\n",
       "  'queue-0-lemma': 'дім',\n",
       "  'queue-0-pos': 'NOUN',\n",
       "  'queue-1-form': 'римського',\n",
       "  'queue-1-pos': 'ADJ',\n",
       "  'queue-2-pos': 'NOUN',\n",
       "  'queue-3-pos': 'PROPN'},\n",
       " {'stack-0-form': 'домі',\n",
       "  'stack-0-lemma': 'дім',\n",
       "  'stack-0-pos': 'NOUN',\n",
       "  'stack-1-pos': 'ROOT',\n",
       "  'queue-0-form': 'римського',\n",
       "  'queue-0-lemma': 'римський',\n",
       "  'queue-0-pos': 'ADJ',\n",
       "  'queue-1-form': 'патриція',\n",
       "  'queue-1-pos': 'NOUN',\n",
       "  'queue-2-pos': 'PROPN',\n",
       "  'queue-3-pos': 'VERB'},\n",
       " {'stack-0-form': 'римського',\n",
       "  'stack-0-lemma': 'римський',\n",
       "  'stack-0-pos': 'ADJ',\n",
       "  'stack-1-pos': 'NOUN',\n",
       "  'queue-0-form': 'патриція',\n",
       "  'queue-0-lemma': 'патрицій',\n",
       "  'queue-0-pos': 'NOUN',\n",
       "  'queue-1-form': 'Руфіна',\n",
       "  'queue-1-pos': 'PROPN',\n",
       "  'queue-2-pos': 'VERB',\n",
       "  'queue-3-pos': 'ADJ'},\n",
       " {'stack-0-form': 'домі',\n",
       "  'stack-0-lemma': 'дім',\n",
       "  'stack-0-pos': 'NOUN',\n",
       "  'stack-1-pos': 'ROOT',\n",
       "  'queue-0-form': 'патриція',\n",
       "  'queue-0-lemma': 'патрицій',\n",
       "  'queue-0-pos': 'NOUN',\n",
       "  'queue-1-form': 'Руфіна',\n",
       "  'queue-1-pos': 'PROPN',\n",
       "  'queue-2-pos': 'VERB',\n",
       "  'queue-3-pos': 'ADJ'},\n",
       " {'stack-0-form': 'патриція',\n",
       "  'stack-0-lemma': 'патрицій',\n",
       "  'stack-0-pos': 'NOUN',\n",
       "  'stack-1-pos': 'NOUN',\n",
       "  'queue-0-form': 'Руфіна',\n",
       "  'queue-0-lemma': 'Руфін',\n",
       "  'queue-0-pos': 'PROPN',\n",
       "  'queue-1-form': 'була',\n",
       "  'queue-1-pos': 'VERB',\n",
       "  'queue-2-pos': 'ADJ',\n",
       "  'queue-3-pos': 'NOUN'},\n",
       " {'stack-0-form': 'Руфіна',\n",
       "  'stack-0-lemma': 'Руфін',\n",
       "  'stack-0-pos': 'PROPN',\n",
       "  'stack-1-pos': 'NOUN',\n",
       "  'queue-0-form': 'була',\n",
       "  'queue-0-lemma': 'бути',\n",
       "  'queue-0-pos': 'VERB',\n",
       "  'queue-1-form': 'прегарна',\n",
       "  'queue-1-pos': 'ADJ',\n",
       "  'queue-2-pos': 'NOUN',\n",
       "  'queue-3-pos': 'PUNCT'},\n",
       " {'stack-0-form': 'патриція',\n",
       "  'stack-0-lemma': 'патрицій',\n",
       "  'stack-0-pos': 'NOUN',\n",
       "  'stack-1-pos': 'NOUN',\n",
       "  'queue-0-form': 'була',\n",
       "  'queue-0-lemma': 'бути',\n",
       "  'queue-0-pos': 'VERB',\n",
       "  'queue-1-form': 'прегарна',\n",
       "  'queue-1-pos': 'ADJ',\n",
       "  'queue-2-pos': 'NOUN',\n",
       "  'queue-3-pos': 'PUNCT'},\n",
       " {'stack-0-form': 'домі',\n",
       "  'stack-0-lemma': 'дім',\n",
       "  'stack-0-pos': 'NOUN',\n",
       "  'stack-1-pos': 'ROOT',\n",
       "  'queue-0-form': 'була',\n",
       "  'queue-0-lemma': 'бути',\n",
       "  'queue-0-pos': 'VERB',\n",
       "  'queue-1-form': 'прегарна',\n",
       "  'queue-1-pos': 'ADJ',\n",
       "  'queue-2-pos': 'NOUN',\n",
       "  'queue-3-pos': 'PUNCT'},\n",
       " {'stack-0-form': 'ROOT',\n",
       "  'stack-0-lemma': 'ROOT',\n",
       "  'stack-0-pos': 'ROOT',\n",
       "  'queue-0-form': 'була',\n",
       "  'queue-0-lemma': 'бути',\n",
       "  'queue-0-pos': 'VERB',\n",
       "  'queue-1-form': 'прегарна',\n",
       "  'queue-1-pos': 'ADJ',\n",
       "  'queue-2-pos': 'NOUN',\n",
       "  'queue-3-pos': 'PUNCT'},\n",
       " {'stack-0-form': 'була',\n",
       "  'stack-0-lemma': 'бути',\n",
       "  'stack-0-pos': 'VERB',\n",
       "  'stack-1-pos': 'ROOT',\n",
       "  'queue-0-form': 'прегарна',\n",
       "  'queue-0-lemma': 'прегарний',\n",
       "  'queue-0-pos': 'ADJ',\n",
       "  'queue-1-form': 'фреска',\n",
       "  'queue-1-pos': 'NOUN',\n",
       "  'queue-2-pos': 'PUNCT',\n",
       "  'queue-3-pos': 'NOUN'},\n",
       " {'stack-0-form': 'прегарна',\n",
       "  'stack-0-lemma': 'прегарний',\n",
       "  'stack-0-pos': 'ADJ',\n",
       "  'stack-1-pos': 'VERB',\n",
       "  'queue-0-form': 'фреска',\n",
       "  'queue-0-lemma': 'фреска',\n",
       "  'queue-0-pos': 'NOUN',\n",
       "  'queue-1-form': ',',\n",
       "  'queue-1-pos': 'PUNCT',\n",
       "  'queue-2-pos': 'NOUN',\n",
       "  'queue-3-pos': 'PROPN'},\n",
       " {'stack-0-form': 'була',\n",
       "  'stack-0-lemma': 'бути',\n",
       "  'stack-0-pos': 'VERB',\n",
       "  'stack-1-pos': 'ROOT',\n",
       "  'queue-0-form': 'фреска',\n",
       "  'queue-0-lemma': 'фреска',\n",
       "  'queue-0-pos': 'NOUN',\n",
       "  'queue-1-form': ',',\n",
       "  'queue-1-pos': 'PUNCT',\n",
       "  'queue-2-pos': 'NOUN',\n",
       "  'queue-3-pos': 'PROPN'},\n",
       " {'stack-0-form': 'фреска',\n",
       "  'stack-0-lemma': 'фреска',\n",
       "  'stack-0-pos': 'NOUN',\n",
       "  'stack-1-pos': 'VERB',\n",
       "  'queue-0-form': ',',\n",
       "  'queue-0-lemma': ',',\n",
       "  'queue-0-pos': 'PUNCT',\n",
       "  'queue-1-form': 'зображення',\n",
       "  'queue-1-pos': 'NOUN',\n",
       "  'queue-2-pos': 'PROPN',\n",
       "  'queue-3-pos': 'CCONJ'},\n",
       " {'stack-0-form': ',',\n",
       "  'stack-0-lemma': ',',\n",
       "  'stack-0-pos': 'PUNCT',\n",
       "  'stack-1-pos': 'NOUN',\n",
       "  'queue-0-form': 'зображення',\n",
       "  'queue-0-lemma': 'зображення',\n",
       "  'queue-0-pos': 'NOUN',\n",
       "  'queue-1-form': 'Венери',\n",
       "  'queue-1-pos': 'PROPN',\n",
       "  'queue-2-pos': 'CCONJ',\n",
       "  'queue-3-pos': 'PROPN'},\n",
       " {'stack-0-form': 'фреска',\n",
       "  'stack-0-lemma': 'фреска',\n",
       "  'stack-0-pos': 'NOUN',\n",
       "  'stack-1-pos': 'VERB',\n",
       "  'queue-0-form': 'зображення',\n",
       "  'queue-0-lemma': 'зображення',\n",
       "  'queue-0-pos': 'NOUN',\n",
       "  'queue-1-form': 'Венери',\n",
       "  'queue-1-pos': 'PROPN',\n",
       "  'queue-2-pos': 'CCONJ',\n",
       "  'queue-3-pos': 'PROPN'},\n",
       " {'stack-0-form': 'зображення',\n",
       "  'stack-0-lemma': 'зображення',\n",
       "  'stack-0-pos': 'NOUN',\n",
       "  'stack-1-pos': 'NOUN',\n",
       "  'queue-0-form': 'Венери',\n",
       "  'queue-0-lemma': 'Венера',\n",
       "  'queue-0-pos': 'PROPN',\n",
       "  'queue-1-form': 'та',\n",
       "  'queue-1-pos': 'CCONJ',\n",
       "  'queue-2-pos': 'PROPN',\n",
       "  'queue-3-pos': 'PUNCT'},\n",
       " {'stack-0-form': 'Венери',\n",
       "  'stack-0-lemma': 'Венера',\n",
       "  'stack-0-pos': 'PROPN',\n",
       "  'stack-1-pos': 'NOUN',\n",
       "  'queue-0-form': 'та',\n",
       "  'queue-0-lemma': 'та',\n",
       "  'queue-0-pos': 'CCONJ',\n",
       "  'queue-1-form': 'Адоніса',\n",
       "  'queue-1-pos': 'PROPN',\n",
       "  'queue-2-pos': 'PUNCT'},\n",
       " {'stack-0-form': 'та',\n",
       "  'stack-0-lemma': 'та',\n",
       "  'stack-0-pos': 'CCONJ',\n",
       "  'stack-1-pos': 'PROPN',\n",
       "  'queue-0-form': 'Адоніса',\n",
       "  'queue-0-lemma': 'Адоніс',\n",
       "  'queue-0-pos': 'PROPN',\n",
       "  'queue-1-form': '.',\n",
       "  'queue-1-pos': 'PUNCT'},\n",
       " {'stack-0-form': 'Венери',\n",
       "  'stack-0-lemma': 'Венера',\n",
       "  'stack-0-pos': 'PROPN',\n",
       "  'stack-1-pos': 'NOUN',\n",
       "  'queue-0-form': 'Адоніса',\n",
       "  'queue-0-lemma': 'Адоніс',\n",
       "  'queue-0-pos': 'PROPN',\n",
       "  'queue-1-form': '.',\n",
       "  'queue-1-pos': 'PUNCT'},\n",
       " {'stack-0-form': 'Адоніса',\n",
       "  'stack-0-lemma': 'Адоніс',\n",
       "  'stack-0-pos': 'PROPN',\n",
       "  'stack-1-pos': 'PROPN',\n",
       "  'queue-0-form': '.',\n",
       "  'queue-0-lemma': '.',\n",
       "  'queue-0-pos': 'PUNCT'},\n",
       " {'stack-0-form': 'Венери',\n",
       "  'stack-0-lemma': 'Венера',\n",
       "  'stack-0-pos': 'PROPN',\n",
       "  'stack-1-pos': 'NOUN',\n",
       "  'queue-0-form': '.',\n",
       "  'queue-0-lemma': '.',\n",
       "  'queue-0-pos': 'PUNCT'},\n",
       " {'stack-0-form': 'зображення',\n",
       "  'stack-0-lemma': 'зображення',\n",
       "  'stack-0-pos': 'NOUN',\n",
       "  'stack-1-pos': 'NOUN',\n",
       "  'queue-0-form': '.',\n",
       "  'queue-0-lemma': '.',\n",
       "  'queue-0-pos': 'PUNCT'},\n",
       " {'stack-0-form': 'фреска',\n",
       "  'stack-0-lemma': 'фреска',\n",
       "  'stack-0-pos': 'NOUN',\n",
       "  'stack-1-pos': 'VERB',\n",
       "  'queue-0-form': '.',\n",
       "  'queue-0-lemma': '.',\n",
       "  'queue-0-pos': 'PUNCT'},\n",
       " {'stack-0-form': 'була',\n",
       "  'stack-0-lemma': 'бути',\n",
       "  'stack-0-pos': 'VERB',\n",
       "  'stack-1-pos': 'ROOT',\n",
       "  'queue-0-form': '.',\n",
       "  'queue-0-lemma': '.',\n",
       "  'queue-0-pos': 'PUNCT'},\n",
       " {'stack-0-form': '.',\n",
       "  'stack-0-lemma': '.',\n",
       "  'stack-0-pos': 'PUNCT',\n",
       "  'stack-1-pos': 'VERB'},\n",
       " {'stack-0-form': 'була',\n",
       "  'stack-0-lemma': 'бути',\n",
       "  'stack-0-pos': 'VERB',\n",
       "  'stack-1-pos': 'ROOT'},\n",
       " {'stack-0-form': 'ROOT', 'stack-0-lemma': 'ROOT', 'stack-0-pos': 'ROOT'}]"
      ]
     },
     "execution_count": 6,
     "metadata": {},
     "output_type": "execute_result"
    }
   ],
   "source": [
    "def combine_extractors(*funcs):\n",
    "    def combined(*args):\n",
    "        feats = {}\n",
    "        for f in funcs:\n",
    "            feats.update(f(*args))\n",
    "        return feats\n",
    "    return combined\n",
    "\n",
    "def tree_data(tree, extractors):\n",
    "    actions = oracle(tree)\n",
    "    state = initial_state(tree)\n",
    "    features = []\n",
    "    labels = []\n",
    "    extractor = combine_extractors(*extractors)\n",
    "    \n",
    "    for a in actions:\n",
    "        stack, queue, deps = state\n",
    "        action_feats = extractor(tree, stack, queue, deps)\n",
    "        \n",
    "        labels.append(a.value)\n",
    "        features.append(action_feats)\n",
    "        state = apply_action(a, *state)\n",
    "    return features, labels\n",
    "\n",
    "tree_data(tree, [extract_initial_features])[0]"
   ]
  },
  {
   "cell_type": "code",
   "execution_count": 7,
   "metadata": {},
   "outputs": [],
   "source": [
    "def prepare_data(trees, extractors):\n",
    "    features, labels = [], []\n",
    "    \n",
    "    for tree in trees:\n",
    "        t_feats, t_labels = tree_data([t for t in tree if type(t['id'])==int], extractors)\n",
    "        features += t_feats\n",
    "        labels += t_labels\n",
    "    return features, labels\n",
    "\n",
    "with open(PATH + 'uk_iu-ud-dev.conllu', 'r') as f:\n",
    "    test_trees = parse(f.read())\n",
    "\n",
    "train_feats, train_labels = prepare_data(train_trees, [extract_initial_features])\n",
    "test_feats, test_labels = prepare_data(test_trees, [extract_initial_features])"
   ]
  },
  {
   "cell_type": "code",
   "execution_count": 8,
   "metadata": {},
   "outputs": [],
   "source": [
    "from sklearn.feature_extraction import DictVectorizer\n",
    "from sklearn.linear_model import LogisticRegression\n",
    "from sklearn.pipeline import Pipeline\n",
    "from sklearn.metrics import classification_report\n",
    "\n",
    "def make_lrc():\n",
    "    clf = Pipeline([('vect', DictVectorizer()),\n",
    "                    ('log_reg', LogisticRegression(multi_class='multinomial', \n",
    "                                                   solver='sag', \n",
    "                                                   random_state=42, \n",
    "                                                   max_iter=5000))])\n",
    "    return clf"
   ]
  },
  {
   "cell_type": "code",
   "execution_count": 9,
   "metadata": {},
   "outputs": [
    {
     "name": "stdout",
     "output_type": "stream",
     "text": [
      "              precision    recall  f1-score   support\n",
      "\n",
      "        left       0.86      0.87      0.86      6371\n",
      "      reduce       0.85      0.78      0.81      6875\n",
      "       right       0.75      0.79      0.77      5996\n",
      "       shift       0.85      0.87      0.86      6578\n",
      "\n",
      "   micro avg       0.83      0.83      0.83     25820\n",
      "   macro avg       0.83      0.83      0.83     25820\n",
      "weighted avg       0.83      0.83      0.83     25820\n",
      "\n"
     ]
    }
   ],
   "source": [
    "clf = make_lrc()\n",
    "clf.fit(train_feats, train_labels)\n",
    "print(classification_report(test_labels, clf.predict(test_feats)))"
   ]
  },
  {
   "cell_type": "code",
   "execution_count": 10,
   "metadata": {},
   "outputs": [
    {
     "data": {
      "text/plain": [
       "[(0, 6),\n",
       " (2, 1),\n",
       " (2, 4),\n",
       " (4, 3),\n",
       " (4, 5),\n",
       " (6, 2),\n",
       " (6, 8),\n",
       " (6, 14),\n",
       " (8, 7),\n",
       " (8, 10),\n",
       " (10, 9),\n",
       " (10, 11),\n",
       " (11, 13),\n",
       " (13, 12)]"
      ]
     },
     "execution_count": 10,
     "metadata": {},
     "output_type": "execute_result"
    }
   ],
   "source": [
    "def dep_parse(tree, clf, extractors):\n",
    "    extractor = combine_extractors(*extractors)\n",
    "    stack, queue, deps = initial_state(tree)\n",
    "\n",
    "    while queue or stack:\n",
    "        if stack and not queue:\n",
    "            stack.pop()\n",
    "        else:\n",
    "            features = extractor(tree, stack, queue, deps)\n",
    "            action = clf.predict([features])[0]\n",
    "            stack, queue, deps = apply_action(action, stack, queue, deps)\n",
    "\n",
    "    return sorted(deps)\n",
    "\n",
    "dep_parse(tree, clf, [extract_initial_features])"
   ]
  },
  {
   "cell_type": "code",
   "execution_count": 11,
   "metadata": {},
   "outputs": [
    {
     "name": "stdout",
     "output_type": "stream",
     "text": [
      "Total: 14\n",
      "Correctly defined: 14\n",
      "UAS: 1.0\n",
      "Full match: 0.0\n"
     ]
    }
   ],
   "source": [
    "def uas_report(trees, clf, extractors):\n",
    "    total, tp, full_match = 0, 0, 0\n",
    "    for tree in trees:\n",
    "        tree = [t for t in tree if type(t[\"id\"])==int]\n",
    "        golden = [(node[\"head\"], node[\"id\"]) for node in tree]\n",
    "        predicted = dep_parse(tree, clf, extractors)\n",
    "        total += len(tree)\n",
    "        tp += len(set(golden).intersection(set(predicted)))\n",
    "        if set(golden) == set(predicted):\n",
    "            full_match += 1\n",
    "\n",
    "    print(\"Total:\", total)\n",
    "    print(\"Correctly defined:\", tp)\n",
    "    print(\"UAS:\", round(tp/total, 2))\n",
    "    print(\"Full match:\", round(full_match/len(test_trees), 2))\n",
    "    \n",
    "uas_report([tree], clf, [extract_initial_features])"
   ]
  },
  {
   "cell_type": "code",
   "execution_count": 12,
   "metadata": {
    "scrolled": true
   },
   "outputs": [
    {
     "name": "stdout",
     "output_type": "stream",
     "text": [
      "Total: 12574\n",
      "Correctly defined: 8717\n",
      "UAS: 0.69\n",
      "Full match: 0.09\n"
     ]
    }
   ],
   "source": [
    "uas_report(test_trees, clf, [extract_initial_features])"
   ]
  },
  {
   "cell_type": "markdown",
   "metadata": {},
   "source": [
    "## Покращення класифікатора. Підбираю нові фічі."
   ]
  },
  {
   "cell_type": "markdown",
   "metadata": {},
   "source": [
    "### Ітерація №1"
   ]
  },
  {
   "cell_type": "code",
   "execution_count": 13,
   "metadata": {},
   "outputs": [],
   "source": [
    "def has_head_(x, deps):\n",
    "    return x['id'] in [child for _, child in deps]\n",
    "def children_num_(x, deps):\n",
    "    return len([head for head, _ in deps if head == x['id']])\n",
    "\n",
    "def extract_features_1(tree, stack, queue, deps):\n",
    "    feats = {}\n",
    "    \n",
    "    if stack:\n",
    "        feats['stack-0-has-head'] = has_head_(stack[0], deps)\n",
    "        feats['stack-0-children-num'] = children_num_(stack[0], deps)\n",
    "\n",
    "    if queue:\n",
    "        feats['queue-0-has-head'] = has_head_(queue[0], deps)\n",
    "        feats['queue-0-children-num'] = children_num_(queue[0], deps)\n",
    "\n",
    "    return feats"
   ]
  },
  {
   "cell_type": "code",
   "execution_count": 14,
   "metadata": {},
   "outputs": [],
   "source": [
    "extractors = [extract_initial_features, extract_features_1]\n",
    "train_feats, train_labels = prepare_data(train_trees, extractors)\n",
    "test_feats, test_labels = prepare_data(test_trees, extractors)"
   ]
  },
  {
   "cell_type": "markdown",
   "metadata": {},
   "source": [
    "### Є покращення"
   ]
  },
  {
   "cell_type": "code",
   "execution_count": 15,
   "metadata": {},
   "outputs": [
    {
     "name": "stdout",
     "output_type": "stream",
     "text": [
      "              precision    recall  f1-score   support\n",
      "\n",
      "        left       0.93      0.94      0.93      6371\n",
      "      reduce       0.90      0.84      0.87      6875\n",
      "       right       0.78      0.81      0.79      5996\n",
      "       shift       0.85      0.88      0.87      6578\n",
      "\n",
      "   micro avg       0.87      0.87      0.87     25820\n",
      "   macro avg       0.86      0.86      0.86     25820\n",
      "weighted avg       0.87      0.87      0.87     25820\n",
      "\n"
     ]
    }
   ],
   "source": [
    "clf = make_lrc()\n",
    "clf.fit(train_feats, train_labels)\n",
    "print(classification_report(test_labels, clf.predict(test_feats)))"
   ]
  },
  {
   "cell_type": "code",
   "execution_count": 16,
   "metadata": {
    "scrolled": true
   },
   "outputs": [
    {
     "name": "stdout",
     "output_type": "stream",
     "text": [
      "Total: 12574\n",
      "Correctly defined: 8714\n",
      "UAS: 0.69\n",
      "Full match: 0.13\n"
     ]
    }
   ],
   "source": [
    "uas_report(test_trees, clf, extractors)"
   ]
  },
  {
   "cell_type": "markdown",
   "metadata": {},
   "source": [
    "### Ітерація №2"
   ]
  },
  {
   "cell_type": "code",
   "execution_count": 17,
   "metadata": {},
   "outputs": [],
   "source": [
    "def extract_features_2(tree, stack, queue, deps):\n",
    "    feats = {}\n",
    "\n",
    "    if len(stack) > 1:\n",
    "        feats['stack-1-has-head'] = has_head_(stack[1], deps)\n",
    "        feats['stack-1-children-num'] = children_num_(stack[1], deps)\n",
    "    if len(stack) > 2:\n",
    "        feats['stack-2-has-head'] = has_head_(stack[2], deps)\n",
    "        feats['stack-2-children-num'] = children_num_(stack[2], deps)\n",
    "    \n",
    "    if len(queue) > 1:\n",
    "        feats['queue-1-has-head'] = has_head_(queue[1], deps)\n",
    "        feats['queue-1-children-num'] = children_num_(queue[1], deps)\n",
    "    if len(queue) > 2:\n",
    "        feats['queue-2-has-head'] = has_head_(queue[2], deps)\n",
    "        feats['queue-2-children-num'] = children_num_(queue[2], deps)\n",
    "    \n",
    "    return feats"
   ]
  },
  {
   "cell_type": "code",
   "execution_count": 18,
   "metadata": {},
   "outputs": [],
   "source": [
    "extractors = [extract_initial_features, extract_features_1, extract_features_2]\n",
    "train_feats, train_labels = prepare_data(train_trees, extractors)\n",
    "test_feats, test_labels = prepare_data(test_trees, extractors)"
   ]
  },
  {
   "cell_type": "markdown",
   "metadata": {},
   "source": [
    "### Покращення немає, в подальшому цей набір фіч не буду використовувати"
   ]
  },
  {
   "cell_type": "code",
   "execution_count": 19,
   "metadata": {
    "scrolled": true
   },
   "outputs": [
    {
     "name": "stdout",
     "output_type": "stream",
     "text": [
      "              precision    recall  f1-score   support\n",
      "\n",
      "        left       0.93      0.94      0.93      6371\n",
      "      reduce       0.89      0.84      0.87      6875\n",
      "       right       0.78      0.80      0.79      5996\n",
      "       shift       0.86      0.88      0.87      6578\n",
      "\n",
      "   micro avg       0.87      0.87      0.87     25820\n",
      "   macro avg       0.86      0.87      0.86     25820\n",
      "weighted avg       0.87      0.87      0.87     25820\n",
      "\n",
      "Total: 12574\n",
      "Correctly defined: 8693\n",
      "UAS: 0.69\n",
      "Full match: 0.13\n"
     ]
    }
   ],
   "source": [
    "clf = make_lrc()\n",
    "clf.fit(train_feats, train_labels)\n",
    "print(classification_report(test_labels, clf.predict(test_feats)))\n",
    "uas_report(test_trees, clf, extractors)"
   ]
  },
  {
   "cell_type": "markdown",
   "metadata": {},
   "source": [
    "### Ітерація №3"
   ]
  },
  {
   "cell_type": "code",
   "execution_count": 20,
   "metadata": {},
   "outputs": [],
   "source": [
    "def find_head_(tree, deps, x):\n",
    "    parents = [parent for parent, child in deps if child == x['id']]\n",
    "    return tree[parents[0] - 1] if parents else None    \n",
    "\n",
    "def find_children_(tree, deps, x):\n",
    "    children = [child for parent, child in deps if parent == x['id']]\n",
    "    return [tree[c - 1] for c in children]\n",
    "\n",
    "def extract_features_3(tree, stack, queue, deps):\n",
    "    feats = {}\n",
    "    if stack:\n",
    "        head = find_head_(tree, deps, stack[0])\n",
    "        if head:\n",
    "            feats['stack-0-head-form'] = head['form']\n",
    "            feats['stack-0-head-lemma'] = head['lemma']\n",
    "            feats['stack-0-head-pos'] = head['upostag']\n",
    "        children = find_children_(tree, deps, stack[0])\n",
    "        if children:\n",
    "            for i, child in zip(range(3), children):\n",
    "                feats['stack-0-child-{i}-form'] = child['form']\n",
    "                feats['stack-0-child-{i}-lemma'] = child['lemma']\n",
    "                feats['stack-0-child-{i}-pos'] = child['upostag']\n",
    "\n",
    "    if queue:\n",
    "        head = find_head_(tree, deps, queue[0])\n",
    "        if head:\n",
    "            feats['queue-0-head-form'] = head['form']\n",
    "            feats['queue-0-head-lemma'] = head['lemma']\n",
    "            feats['queue-0-head-pos'] = head['upostag']\n",
    "        children = find_children_(tree, deps, queue[0])\n",
    "        if children:\n",
    "            for i, child in zip(range(3), children):\n",
    "                feats['queue-0-child-{i}-form'] = children[i]['form']\n",
    "                feats['queue-0-child-{i}-lemma'] = children[i]['lemma']\n",
    "                feats['queue-0-child-{i}-pos'] = children[i]['upostag']\n",
    "                \n",
    "    return feats\n"
   ]
  },
  {
   "cell_type": "code",
   "execution_count": 21,
   "metadata": {},
   "outputs": [],
   "source": [
    "extractors = [extract_initial_features, extract_features_1, extract_features_3]\n",
    "train_feats, train_labels = prepare_data(train_trees, extractors)\n",
    "test_feats, test_labels = prepare_data(test_trees, extractors)"
   ]
  },
  {
   "cell_type": "markdown",
   "metadata": {},
   "source": [
    "### Є покращення"
   ]
  },
  {
   "cell_type": "code",
   "execution_count": 22,
   "metadata": {
    "scrolled": true
   },
   "outputs": [
    {
     "name": "stdout",
     "output_type": "stream",
     "text": [
      "              precision    recall  f1-score   support\n",
      "\n",
      "        left       0.94      0.95      0.95      6371\n",
      "      reduce       0.89      0.87      0.88      6875\n",
      "       right       0.82      0.82      0.82      5996\n",
      "       shift       0.87      0.89      0.88      6578\n",
      "\n",
      "   micro avg       0.88      0.88      0.88     25820\n",
      "   macro avg       0.88      0.88      0.88     25820\n",
      "weighted avg       0.88      0.88      0.88     25820\n",
      "\n",
      "Total: 12574\n",
      "Correctly defined: 8869\n",
      "UAS: 0.71\n",
      "Full match: 0.15\n"
     ]
    }
   ],
   "source": [
    "clf = make_lrc()\n",
    "clf.fit(train_feats, train_labels)\n",
    "print(classification_report(test_labels, clf.predict(test_feats)))\n",
    "uas_report(test_trees, clf, extractors)"
   ]
  },
  {
   "cell_type": "markdown",
   "metadata": {},
   "source": [
    "### Ітерація №4"
   ]
  },
  {
   "cell_type": "code",
   "execution_count": 23,
   "metadata": {},
   "outputs": [],
   "source": [
    "def extract_features_4(tree, stack, queue, deps):\n",
    "    feats = {}\n",
    "    feats['sent-len'] = len(tree)\n",
    "    if stack:\n",
    "        feats['stack-0-idx'] = stack[0]['id']\n",
    "        feats['stack-0-rev-idx'] = len(tree) - stack[0]['id']\n",
    "    if queue:\n",
    "        feats['queue-0-idx'] = queue[0]['id']\n",
    "        feats['queue-0-rev-idx'] = len(tree) - queue[0]['id']\n",
    "\n",
    "    return feats"
   ]
  },
  {
   "cell_type": "code",
   "execution_count": 24,
   "metadata": {},
   "outputs": [],
   "source": [
    "extractors = [extract_initial_features, extract_features_1, extract_features_3, extract_features_4]\n",
    "train_feats, train_labels = prepare_data(train_trees, extractors)\n",
    "test_feats, test_labels = prepare_data(test_trees, extractors)"
   ]
  },
  {
   "cell_type": "markdown",
   "metadata": {},
   "source": [
    "### Є покращення"
   ]
  },
  {
   "cell_type": "code",
   "execution_count": 25,
   "metadata": {
    "scrolled": true
   },
   "outputs": [
    {
     "name": "stdout",
     "output_type": "stream",
     "text": [
      "              precision    recall  f1-score   support\n",
      "\n",
      "        left       0.94      0.95      0.95      6371\n",
      "      reduce       0.90      0.87      0.89      6875\n",
      "       right       0.84      0.83      0.83      5996\n",
      "       shift       0.88      0.90      0.89      6578\n",
      "\n",
      "   micro avg       0.89      0.89      0.89     25820\n",
      "   macro avg       0.89      0.89      0.89     25820\n",
      "weighted avg       0.89      0.89      0.89     25820\n",
      "\n",
      "Total: 12574\n",
      "Correctly defined: 8955\n",
      "UAS: 0.71\n",
      "Full match: 0.14\n"
     ]
    }
   ],
   "source": [
    "clf = make_lrc()\n",
    "clf.fit(train_feats, train_labels)\n",
    "print(classification_report(test_labels, clf.predict(test_feats)))\n",
    "uas_report(test_trees, clf, extractors)"
   ]
  },
  {
   "cell_type": "markdown",
   "metadata": {},
   "source": [
    "### Ітерація №5"
   ]
  },
  {
   "cell_type": "code",
   "execution_count": 26,
   "metadata": {},
   "outputs": [],
   "source": [
    "def extract_features_5(tree, stack, queue, deps):\n",
    "    feats = {}\n",
    "    if len(stack) > 1:\n",
    "        feats['stack-1-idx'] = stack[1]['id']\n",
    "        feats['stack-1-rev-idx'] = len(tree) - stack[1]['id']\n",
    "    if len(stack) > 2:\n",
    "        feats['stack-2-idx'] = stack[2]['id']\n",
    "        feats['stack-2-rev-idx'] = len(tree) - stack[2]['id']\n",
    "\n",
    "    if len(queue) > 1:\n",
    "        feats['queue-1-idx'] = queue[1]['id']\n",
    "        feats['queue-1-rev-idx'] = len(tree) - queue[1]['id']\n",
    "    if len(queue) > 2:\n",
    "        feats['queue-2-idx'] = queue[2]['id']\n",
    "        feats['queue-2-rev-idx'] = len(tree) - queue[2]['id']\n",
    "\n",
    "    return feats"
   ]
  },
  {
   "cell_type": "code",
   "execution_count": 27,
   "metadata": {},
   "outputs": [],
   "source": [
    "extractors = [extract_initial_features, extract_features_1, extract_features_3, extract_features_4, extract_features_5]\n",
    "train_feats, train_labels = prepare_data(train_trees, extractors)\n",
    "test_feats, test_labels = prepare_data(test_trees, extractors)"
   ]
  },
  {
   "cell_type": "markdown",
   "metadata": {},
   "source": [
    "### Є покращення в класифікації, але UAS значення погіршились, тому не буду використовувати цей набір."
   ]
  },
  {
   "cell_type": "code",
   "execution_count": 28,
   "metadata": {},
   "outputs": [
    {
     "name": "stdout",
     "output_type": "stream",
     "text": [
      "              precision    recall  f1-score   support\n",
      "\n",
      "        left       0.94      0.95      0.94      6371\n",
      "      reduce       0.90      0.87      0.89      6875\n",
      "       right       0.84      0.83      0.83      5996\n",
      "       shift       0.88      0.90      0.89      6578\n",
      "\n",
      "   micro avg       0.89      0.89      0.89     25820\n",
      "   macro avg       0.89      0.89      0.89     25820\n",
      "weighted avg       0.89      0.89      0.89     25820\n",
      "\n",
      "Total: 12574\n",
      "Correctly defined: 8902\n",
      "UAS: 0.71\n",
      "Full match: 0.14\n"
     ]
    }
   ],
   "source": [
    "clf = make_lrc()\n",
    "clf.fit(train_feats, train_labels)\n",
    "print(classification_report(test_labels, clf.predict(test_feats)))\n",
    "uas_report(test_trees, clf, extractors)"
   ]
  },
  {
   "cell_type": "markdown",
   "metadata": {},
   "source": [
    "### Ітерація №6"
   ]
  },
  {
   "cell_type": "code",
   "execution_count": 29,
   "metadata": {},
   "outputs": [],
   "source": [
    "def extract_feats_(prefix, x):\n",
    "    feats = x['feats']\n",
    "    if feats:\n",
    "        return {prefix + '-' + k: v for k, v in feats.items()}\n",
    "    else:\n",
    "        return {}\n",
    "\n",
    "def extract_features_6(tree, stack, queue, deps):    \n",
    "    feats = {}\n",
    "    if stack:\n",
    "        feats.update(extract_feats_('stack-0', stack[0]))\n",
    "    if queue:\n",
    "        feats.update(extract_feats_('queue-0', queue[0]))\n",
    "\n",
    "    return feats"
   ]
  },
  {
   "cell_type": "code",
   "execution_count": 30,
   "metadata": {},
   "outputs": [],
   "source": [
    "extractors = [extract_initial_features, extract_features_1, extract_features_3, extract_features_4, extract_features_6]\n",
    "train_feats, train_labels = prepare_data(train_trees, extractors)\n",
    "test_feats, test_labels = prepare_data(test_trees, extractors)"
   ]
  },
  {
   "cell_type": "markdown",
   "metadata": {},
   "source": [
    "### Є покращення"
   ]
  },
  {
   "cell_type": "code",
   "execution_count": 31,
   "metadata": {
    "scrolled": true
   },
   "outputs": [
    {
     "name": "stdout",
     "output_type": "stream",
     "text": [
      "              precision    recall  f1-score   support\n",
      "\n",
      "        left       0.95      0.96      0.95      6371\n",
      "      reduce       0.91      0.88      0.90      6875\n",
      "       right       0.85      0.85      0.85      5996\n",
      "       shift       0.89      0.90      0.89      6578\n",
      "\n",
      "   micro avg       0.90      0.90      0.90     25820\n",
      "   macro avg       0.90      0.90      0.90     25820\n",
      "weighted avg       0.90      0.90      0.90     25820\n",
      "\n",
      "Total: 12574\n",
      "Correctly defined: 9161\n",
      "UAS: 0.73\n",
      "Full match: 0.16\n"
     ]
    }
   ],
   "source": [
    "clf = make_lrc()\n",
    "clf.fit(train_feats, train_labels)\n",
    "print(classification_report(test_labels, clf.predict(test_feats)))\n",
    "uas_report(test_trees, clf, extractors)"
   ]
  },
  {
   "cell_type": "markdown",
   "metadata": {},
   "source": [
    "### Ітерація №7"
   ]
  },
  {
   "cell_type": "code",
   "execution_count": 32,
   "metadata": {},
   "outputs": [],
   "source": [
    "def extract_features_7(tree, stack, queue, deps):\n",
    "    feats = {}\n",
    "    if len(stack) > 1:\n",
    "        feats.update(extract_feats_('stack-1', stack[1]))\n",
    "    if len(stack) > 2:\n",
    "        feats.update(extract_feats_('stack-2', stack[2]))\n",
    "\n",
    "    if len(queue) > 1:\n",
    "        feats.update(extract_feats_('queue-1', queue[1]))\n",
    "    if len(queue) > 2:\n",
    "        feats.update(extract_feats_('queue-2', queue[2]))\n",
    "\n",
    "    return feats"
   ]
  },
  {
   "cell_type": "code",
   "execution_count": 33,
   "metadata": {},
   "outputs": [],
   "source": [
    "extractors = [extract_initial_features, extract_features_1, extract_features_3, extract_features_4, extract_features_6, extract_features_7]\n",
    "train_feats, train_labels = prepare_data(train_trees, extractors)\n",
    "test_feats, test_labels = prepare_data(test_trees, extractors)"
   ]
  },
  {
   "cell_type": "markdown",
   "metadata": {},
   "source": [
    "### Покращень особливо немає"
   ]
  },
  {
   "cell_type": "code",
   "execution_count": 34,
   "metadata": {},
   "outputs": [
    {
     "name": "stdout",
     "output_type": "stream",
     "text": [
      "              precision    recall  f1-score   support\n",
      "\n",
      "        left       0.94      0.96      0.95      6371\n",
      "      reduce       0.91      0.89      0.90      6875\n",
      "       right       0.85      0.85      0.85      5996\n",
      "       shift       0.89      0.90      0.89      6578\n",
      "\n",
      "   micro avg       0.90      0.90      0.90     25820\n",
      "   macro avg       0.90      0.90      0.90     25820\n",
      "weighted avg       0.90      0.90      0.90     25820\n",
      "\n",
      "Total: 12574\n",
      "Correctly defined: 9178\n",
      "UAS: 0.73\n",
      "Full match: 0.16\n"
     ]
    }
   ],
   "source": [
    "clf = make_lrc()\n",
    "clf.fit(train_feats, train_labels)\n",
    "print(classification_report(test_labels, clf.predict(test_feats)))\n",
    "uas_report(test_trees, clf, extractors)"
   ]
  },
  {
   "cell_type": "markdown",
   "metadata": {},
   "source": [
    "## Пробую використати SVM і підібрати гіперпараметри для нього"
   ]
  },
  {
   "cell_type": "code",
   "execution_count": 35,
   "metadata": {},
   "outputs": [],
   "source": [
    "from sklearn.svm import LinearSVC\n",
    "from sklearn.model_selection import GridSearchCV\n",
    "\n",
    "def make_svc():\n",
    "    clf = Pipeline([('vect', DictVectorizer()),\n",
    "                    ('svc', LinearSVC(random_state=42, max_iter=5000))])\n",
    "    return clf"
   ]
  },
  {
   "cell_type": "code",
   "execution_count": 37,
   "metadata": {},
   "outputs": [
    {
     "name": "stdout",
     "output_type": "stream",
     "text": [
      "Fitting 5 folds for each of 16 candidates, totalling 80 fits\n"
     ]
    },
    {
     "name": "stderr",
     "output_type": "stream",
     "text": [
      "[Parallel(n_jobs=-1)]: Using backend LokyBackend with 16 concurrent workers.\n",
      "[Parallel(n_jobs=-1)]: Done  40 tasks      | elapsed: 26.3min\n",
      "[Parallel(n_jobs=-1)]: Done  66 out of  80 | elapsed: 47.6min remaining: 10.1min\n",
      "[Parallel(n_jobs=-1)]: Done  80 out of  80 | elapsed: 59.4min finished\n"
     ]
    },
    {
     "data": {
      "text/plain": [
       "{'svc__C': 0.05, 'svc__dual': False}"
      ]
     },
     "execution_count": 37,
     "metadata": {},
     "output_type": "execute_result"
    }
   ],
   "source": [
    "extractors = [extract_initial_features, extract_features_1, extract_features_3, extract_features_4, extract_features_6]\n",
    "train_feats, train_labels = prepare_data(train_trees, extractors)\n",
    "test_feats, test_labels = prepare_data(test_trees, extractors)\n",
    "\n",
    "svc_parameter_grid = {'svc__C': [0.001, 0.01, 0.05, 0.1, 0.5, 1, 5, 10],\n",
    "                      'svc__dual': [True, False]}\n",
    "\n",
    "gs_svc = GridSearchCV(make_svc(),\n",
    "                      svc_parameter_grid,\n",
    "                      scoring='accuracy',\n",
    "                      verbose=5,\n",
    "                      cv=5,\n",
    "                      n_jobs=-1)\n",
    "\n",
    "gs_svc.fit(train_feats, train_labels)\n",
    "gs_svc.best_params_"
   ]
  },
  {
   "cell_type": "code",
   "execution_count": 42,
   "metadata": {
    "scrolled": true
   },
   "outputs": [
    {
     "name": "stdout",
     "output_type": "stream",
     "text": [
      "              precision    recall  f1-score   support\n",
      "\n",
      "        left       0.95      0.96      0.95      6371\n",
      "      reduce       0.90      0.88      0.89      6875\n",
      "       right       0.84      0.84      0.84      5996\n",
      "       shift       0.88      0.89      0.88      6578\n",
      "\n",
      "   micro avg       0.89      0.89      0.89     25820\n",
      "   macro avg       0.89      0.89      0.89     25820\n",
      "weighted avg       0.89      0.89      0.89     25820\n",
      "\n"
     ]
    }
   ],
   "source": [
    "print(classification_report(test_labels, gs_svc.predict(test_feats)))"
   ]
  },
  {
   "cell_type": "markdown",
   "metadata": {},
   "source": [
    "### З SVM щось не вдалось. Тому підберу гіперпараметри для лог. регресії."
   ]
  },
  {
   "cell_type": "code",
   "execution_count": 40,
   "metadata": {
    "scrolled": true
   },
   "outputs": [
    {
     "name": "stdout",
     "output_type": "stream",
     "text": [
      "Fitting 5 folds for each of 16 candidates, totalling 80 fits\n"
     ]
    },
    {
     "name": "stderr",
     "output_type": "stream",
     "text": [
      "[Parallel(n_jobs=-1)]: Using backend LokyBackend with 16 concurrent workers.\n",
      "[Parallel(n_jobs=-1)]: Done  40 tasks      | elapsed: 22.4min\n",
      "[Parallel(n_jobs=-1)]: Done  66 out of  80 | elapsed: 45.3min remaining:  9.6min\n",
      "[Parallel(n_jobs=-1)]: Done  80 out of  80 | elapsed: 52.0min finished\n"
     ]
    },
    {
     "data": {
      "text/plain": [
       "{'log_reg__C': 5, 'log_reg__solver': 'sag'}"
      ]
     },
     "execution_count": 40,
     "metadata": {},
     "output_type": "execute_result"
    }
   ],
   "source": [
    "lr_parameter_grid = {'log_reg__C': [0.001, 0.01, 0.05, 0.1, 0.5, 1, 5, 10],\n",
    "                     'log_reg__solver': ['sag', 'saga']}\n",
    "\n",
    "gs_lrc = GridSearchCV(make_lrc(),\n",
    "                      lr_parameter_grid,\n",
    "                      scoring='accuracy',\n",
    "                      verbose=5,\n",
    "                      cv=5,\n",
    "                      n_jobs=-1)\n",
    "\n",
    "gs_lrc.fit(train_feats, train_labels)\n",
    "gs_lrc.best_params_"
   ]
  },
  {
   "cell_type": "markdown",
   "metadata": {},
   "source": [
    "### Покращення мінімальне"
   ]
  },
  {
   "cell_type": "code",
   "execution_count": 41,
   "metadata": {},
   "outputs": [
    {
     "name": "stdout",
     "output_type": "stream",
     "text": [
      "              precision    recall  f1-score   support\n",
      "\n",
      "        left       0.95      0.96      0.95      6371\n",
      "      reduce       0.91      0.88      0.90      6875\n",
      "       right       0.85      0.85      0.85      5996\n",
      "       shift       0.89      0.90      0.89      6578\n",
      "\n",
      "   micro avg       0.90      0.90      0.90     25820\n",
      "   macro avg       0.90      0.90      0.90     25820\n",
      "weighted avg       0.90      0.90      0.90     25820\n",
      "\n",
      "Total: 12574\n",
      "Correctly defined: 9183\n",
      "UAS: 0.73\n",
      "Full match: 0.16\n"
     ]
    }
   ],
   "source": [
    "print(classification_report(test_labels, gs_lrc.predict(test_feats)))\n",
    "uas_report(test_trees, gs_lrc, extractors)"
   ]
  },
  {
   "cell_type": "markdown",
   "metadata": {},
   "source": [
    "## Використання парсеру залежностей\n",
    "### pymorphy2 у мене щось не заводиться :( тому буду використовувати stanza."
   ]
  },
  {
   "cell_type": "code",
   "execution_count": 46,
   "metadata": {
    "scrolled": true
   },
   "outputs": [
    {
     "name": "stderr",
     "output_type": "stream",
     "text": [
      "2020-05-01 15:02:37 INFO: Loading these models for language: uk (Ukrainian):\n",
      "=======================\n",
      "| Processor | Package |\n",
      "-----------------------\n",
      "| tokenize  | iu      |\n",
      "| mwt       | iu      |\n",
      "| pos       | iu      |\n",
      "| lemma     | iu      |\n",
      "=======================\n",
      "\n",
      "2020-05-01 15:02:37 INFO: Use device: cpu\n",
      "2020-05-01 15:02:37 INFO: Loading: tokenize\n",
      "2020-05-01 15:02:37 INFO: Loading: mwt\n",
      "2020-05-01 15:02:37 INFO: Loading: pos\n",
      "2020-05-01 15:02:38 INFO: Loading: lemma\n",
      "2020-05-01 15:02:38 INFO: Done loading processors!\n"
     ]
    }
   ],
   "source": [
    "import stanza\n",
    "nlp = stanza.Pipeline(lang='uk', processors='tokenize,mwt,pos,lemma')"
   ]
  },
  {
   "cell_type": "code",
   "execution_count": 47,
   "metadata": {},
   "outputs": [
    {
     "data": {
      "text/plain": [
       "{'Animacy': 'Anim', 'Case': 'Nom', 'Gender': 'Masc', 'Number': 'Sing'}"
      ]
     },
     "execution_count": 47,
     "metadata": {},
     "output_type": "execute_result"
    }
   ],
   "source": [
    "def convert_feats(feats_str):\n",
    "    pairs = [s.split('=') for s in feats_str.split('|')]\n",
    "    return {k: v for k, v in pairs}\n",
    "\n",
    "convert_feats('Animacy=Anim|Case=Nom|Gender=Masc|Number=Sing')"
   ]
  },
  {
   "cell_type": "code",
   "execution_count": 48,
   "metadata": {},
   "outputs": [],
   "source": [
    "def convert_token(tok):\n",
    "    converted = {}\n",
    "    converted['id'] = int(tok.id)\n",
    "    converted['form'] = tok.text\n",
    "    converted['lemma'] = tok.lemma\n",
    "    converted['upostag'] = tok.upos\n",
    "    converted['feats'] = convert_feats(tok.feats) if tok.feats else None\n",
    "    return converted"
   ]
  },
  {
   "cell_type": "code",
   "execution_count": 49,
   "metadata": {},
   "outputs": [
    {
     "name": "stdout",
     "output_type": "stream",
     "text": [
      "ROOT <- люблю\n",
      "люблю <- я\n",
      "люблю <- котів\n",
      "люблю <- .\n"
     ]
    }
   ],
   "source": [
    "def dep_parse_sentence(clf, extractors, sentence):\n",
    "    model = nlp(sentence)\n",
    "    tokens = [convert_token(word) for sent in model.sentences for word in sent.words]\n",
    "    deps = dep_parse(tokens, clf, extractors)\n",
    "    \n",
    "    for parent, child in deps:\n",
    "        print(\"{} <- {}\".format(tokens[parent - 1]['form'] if parent > 0 else 'ROOT', tokens[child - 1]['form']))\n",
    "\n",
    "dep_parse_sentence(gs_lrc, extractors, 'я люблю котів.')"
   ]
  },
  {
   "cell_type": "code",
   "execution_count": 52,
   "metadata": {},
   "outputs": [
    {
     "name": "stdout",
     "output_type": "stream",
     "text": [
      "ROOT <- відвідує\n",
      "Друг <- міністра\n",
      "Друг <- Ігор\n",
      "Друг <- карантин\n",
      "міністра <- справ\n",
      "справ <- внутрішніх\n",
      "справ <- Арсена\n",
      "Арсена <- Авакова\n",
      "Ігор <- Котвіцький\n",
      "карантин <- у\n",
      "відвідує <- Друг\n",
      "відвідує <- бутик\n",
      "відвідує <- проводить\n",
      "відвідує <- .\n",
      "бутик <- елітний\n",
      "бутик <- ресторан\n",
      "ресторан <- -\n",
      "проводить <- та\n",
      "проводить <- зустрічі\n",
      "зустрічі <- готелі\n",
      "готелі <- у\n",
      "готелі <- 5-зірковому\n"
     ]
    }
   ],
   "source": [
    "dep_parse_sentence(gs_lrc, extractors, 'Друг міністра внутрішніх справ Арсена Авакова Ігор Котвіцький у карантин відвідує елітний бутик-ресторан та проводить зустрічі у 5-зірковому готелі.')"
   ]
  },
  {
   "cell_type": "code",
   "execution_count": 53,
   "metadata": {},
   "outputs": [
    {
     "name": "stdout",
     "output_type": "stream",
     "text": [
      "ROOT <- пригрозив\n",
      "пригрозив <- Трамп\n",
      "пригрозив <- Китаю\n",
      "пригрозив <- митами\n",
      "пригрозив <- якості\n",
      "пригрозив <- коронавірус\n",
      "митами <- новими\n",
      "якості <- в\n",
      "якості <- помсти\n",
      "коронавірус <- за\n"
     ]
    }
   ],
   "source": [
    "dep_parse_sentence(gs_lrc, extractors, 'Трамп пригрозив Китаю новими митами в якості помсти за коронавірус')"
   ]
  }
 ],
 "metadata": {
  "kernelspec": {
   "display_name": "Python 3",
   "language": "python",
   "name": "python3"
  },
  "language_info": {
   "codemirror_mode": {
    "name": "ipython",
    "version": 3
   },
   "file_extension": ".py",
   "mimetype": "text/x-python",
   "name": "python",
   "nbconvert_exporter": "python",
   "pygments_lexer": "ipython3",
   "version": "3.6.9"
  }
 },
 "nbformat": 4,
 "nbformat_minor": 4
}
