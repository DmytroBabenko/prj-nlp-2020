{
 "cells": [
  {
   "cell_type": "markdown",
   "metadata": {},
   "source": [
    "Inspired by the [tutorial](https://keras.io/examples/lstm_seq2seq/), I am going to implement character-level seq2seq for paraphrasing."
   ]
  },
  {
   "cell_type": "code",
   "execution_count": 1,
   "metadata": {},
   "outputs": [],
   "source": [
    "from tensorflow.keras.models import Model\n",
    "from tensorflow.keras.layers import Input, LSTM, Dense\n",
    "import numpy as np\n",
    "from sklearn.model_selection import train_test_split"
   ]
  },
  {
   "cell_type": "code",
   "execution_count": 2,
   "metadata": {},
   "outputs": [],
   "source": [
    "batch_size = 16  # Batch size for training.\n",
    "epochs = 100  # Number of epochs to train for.\n",
    "latent_dim = 256  # Latent dimensionality of the encoding space.\n",
    "# num_samples = 10000  # Number of samples to train on."
   ]
  },
  {
   "cell_type": "code",
   "execution_count": 3,
   "metadata": {},
   "outputs": [],
   "source": [
    "def load_data(file):\n",
    "    with open(file, 'r', encoding='utf-8') as f:\n",
    "        lines = f.read().split('\\n')\n",
    "        return lines"
   ]
  },
  {
   "cell_type": "code",
   "execution_count": 4,
   "metadata": {},
   "outputs": [],
   "source": [
    "data_path = 'opusparcus_v2/en-train-100K.txt'\n",
    "lines = load_data(data_path)"
   ]
  },
  {
   "cell_type": "code",
   "execution_count": 5,
   "metadata": {},
   "outputs": [],
   "source": [
    "train_lines, val_lines = train_test_split(lines, test_size=0.20, random_state=42)"
   ]
  },
  {
   "cell_type": "code",
   "execution_count": 6,
   "metadata": {},
   "outputs": [],
   "source": [
    "def parse_input_and_target_from_lines(lines, calc_characters=False):\n",
    "    input_texts = []\n",
    "    target_texts = []\n",
    "    input_characters = set()\n",
    "    target_characters = set()\n",
    "\n",
    "    for line in lines:  # lines[: min(num_samples, len(lines) - 1)]:\n",
    "        splited_lines = line.split('\\t')\n",
    "        if len(splited_lines) < 3:\n",
    "            continue\n",
    "\n",
    "        input_text = splited_lines[1]\n",
    "        target_text = splited_lines[2]\n",
    "\n",
    "\n",
    "        # input_text, target_text, _ = line.split('\\t')\n",
    "        # We use \"tab\" as the \"start sequence\" character\n",
    "        # for the targets, and \"\\n\" as \"end sequence\" character.\n",
    "        target_text = '\\t' + target_text + '\\n'\n",
    "        input_texts.append(input_text)\n",
    "        target_texts.append(target_text)\n",
    "        if calc_characters:\n",
    "            for char in input_text:\n",
    "                if char not in input_characters:\n",
    "                    input_characters.add(char)\n",
    "            for char in target_text:\n",
    "                if char not in target_characters:\n",
    "                    target_characters.add(char)\n",
    "\n",
    "    if calc_characters:\n",
    "        return input_texts, target_texts, input_characters, target_characters\n",
    "\n",
    "    return input_texts, target_texts\n"
   ]
  },
  {
   "cell_type": "code",
   "execution_count": 7,
   "metadata": {},
   "outputs": [],
   "source": [
    "input_texts, target_texts, input_characters, target_characters = parse_input_and_target_from_lines(train_lines, True)"
   ]
  },
  {
   "cell_type": "code",
   "execution_count": 8,
   "metadata": {},
   "outputs": [],
   "source": [
    "val_input_texts, val_target_texts = parse_input_and_target_from_lines(val_lines)"
   ]
  },
  {
   "cell_type": "code",
   "execution_count": 9,
   "metadata": {},
   "outputs": [],
   "source": [
    "input_characters = sorted(list(input_characters))\n",
    "target_characters = sorted(list(target_characters))\n",
    "num_encoder_tokens = len(input_characters) + 1\n",
    "num_decoder_tokens = len(target_characters) + 1\n",
    "max_encoder_seq_length = max([len(txt) for txt in input_texts])\n",
    "max_decoder_seq_length = max([len(txt) for txt in target_texts])"
   ]
  },
  {
   "cell_type": "code",
   "execution_count": 10,
   "metadata": {},
   "outputs": [
    {
     "name": "stdout",
     "output_type": "stream",
     "text": [
      "Number of samples: 80000\n",
      "Number of unique input tokens: 105\n",
      "Number of unique output tokens: 143\n",
      "Max sequence length for inputs: 209\n",
      "Max sequence length for outputs: 210\n"
     ]
    }
   ],
   "source": [
    "print('Number of samples:', len(input_texts))\n",
    "print('Number of unique input tokens:', num_encoder_tokens)\n",
    "print('Number of unique output tokens:', num_decoder_tokens)\n",
    "print('Max sequence length for inputs:', max_encoder_seq_length)\n",
    "print('Max sequence length for outputs:', max_decoder_seq_length)"
   ]
  },
  {
   "cell_type": "code",
   "execution_count": 11,
   "metadata": {},
   "outputs": [],
   "source": [
    "input_token_index = dict(\n",
    "    [(char, i) for i, char in enumerate(input_characters)])\n",
    "input_token_index['oov'] = len(input_token_index)\n",
    "\n",
    "target_token_index = dict(\n",
    "    [(char, i) for i, char in enumerate(target_characters)])\n",
    "target_token_index['oov'] = len(target_token_index)"
   ]
  },
  {
   "cell_type": "markdown",
   "metadata": {},
   "source": [
    "As the training data is big, and creating sparse matrix cannot be load into RAM, let's create Dataset Generator to avoid out of memory error."
   ]
  },
  {
   "cell_type": "markdown",
   "metadata": {},
   "source": [
    "https://towardsdatascience.com/keras-data-generators-and-how-to-use-them-b69129ed779c"
   ]
  },
  {
   "cell_type": "code",
   "execution_count": 12,
   "metadata": {},
   "outputs": [],
   "source": [
    "from dataset_generator import DataGenerator\n"
   ]
  },
  {
   "cell_type": "code",
   "execution_count": 13,
   "metadata": {},
   "outputs": [],
   "source": [
    "dataset = DataGenerator(input_texts=input_texts, target_texts=target_texts,\n",
    "                        input_token_index=input_token_index, target_token_index=target_token_index,\n",
    "                        max_encoder_seq_length=max_encoder_seq_length, num_encoder_tokens=num_encoder_tokens,\n",
    "                        max_decoder_seq_length=max_decoder_seq_length, num_decoder_tokens=num_decoder_tokens,\n",
    "                        batch_size=batch_size)"
   ]
  },
  {
   "cell_type": "code",
   "execution_count": 14,
   "metadata": {},
   "outputs": [],
   "source": [
    "val_dataset = DataGenerator(input_texts=val_input_texts, target_texts=val_target_texts,\n",
    "                        input_token_index=input_token_index, target_token_index=target_token_index,\n",
    "                        max_encoder_seq_length=max_encoder_seq_length, num_encoder_tokens=num_encoder_tokens,\n",
    "                        max_decoder_seq_length=max_decoder_seq_length, num_decoder_tokens=num_decoder_tokens,\n",
    "                        batch_size=batch_size)"
   ]
  },
  {
   "cell_type": "code",
   "execution_count": 15,
   "metadata": {},
   "outputs": [],
   "source": [
    "# Define an input sequence and process it.\n",
    "encoder_inputs = Input(shape=(None, num_encoder_tokens))\n",
    "encoder = LSTM(latent_dim, return_state=True)\n",
    "encoder_outputs, state_h, state_c = encoder(encoder_inputs)\n",
    "# We discard `encoder_outputs` and only keep the states.\n",
    "encoder_states = [state_h, state_c]"
   ]
  },
  {
   "cell_type": "code",
   "execution_count": 16,
   "metadata": {},
   "outputs": [],
   "source": [
    "# Set up the decoder, using `encoder_states` as initial state.\n",
    "decoder_inputs = Input(shape=(None, num_decoder_tokens))\n",
    "# We set up our decoder to return full output sequences,\n",
    "# and to return internal states as well. We don't use the\n",
    "# return states in the training model, but we will use them in inference.\n",
    "decoder_lstm = LSTM(latent_dim, return_sequences=True, return_state=True)\n",
    "decoder_outputs, _, _ = decoder_lstm(decoder_inputs,\n",
    "                                     initial_state=encoder_states)\n",
    "decoder_dense = Dense(num_decoder_tokens, activation='softmax')\n",
    "decoder_outputs = decoder_dense(decoder_outputs)"
   ]
  },
  {
   "cell_type": "code",
   "execution_count": 17,
   "metadata": {},
   "outputs": [],
   "source": [
    "# Define the model that will turn\n",
    "# `encoder_input_data` & `decoder_input_data` into `decoder_target_data`\n",
    "\n",
    "model = Model([encoder_inputs, decoder_inputs], decoder_outputs)\n",
    "\n",
    "# Run training\n",
    "model.compile(optimizer='rmsprop', loss='categorical_crossentropy',\n",
    "              metrics=['accuracy'])\n"
   ]
  },
  {
   "cell_type": "code",
   "execution_count": 18,
   "metadata": {},
   "outputs": [
    {
     "name": "stdout",
     "output_type": "stream",
     "text": [
      "Epoch 1/100\n",
      "5000/5000 [==============================] - 157s 31ms/step - loss: 0.1689 - accuracy: 0.9529 - val_loss: 0.1228 - val_accuracy: 0.9640\n",
      "Epoch 2/100\n",
      "5000/5000 [==============================] - 157s 31ms/step - loss: 0.1122 - accuracy: 0.9672 - val_loss: 0.1053 - val_accuracy: 0.9689\n",
      "Epoch 3/100\n",
      "5000/5000 [==============================] - 153s 31ms/step - loss: 0.0996 - accuracy: 0.9704 - val_loss: 0.0989 - val_accuracy: 0.9706\n",
      "Epoch 4/100\n",
      "5000/5000 [==============================] - 155s 31ms/step - loss: 0.0938 - accuracy: 0.9719 - val_loss: 0.0951 - val_accuracy: 0.9717\n",
      "Epoch 5/100\n",
      "5000/5000 [==============================] - 153s 31ms/step - loss: 0.0902 - accuracy: 0.9729 - val_loss: 0.0930 - val_accuracy: 0.9722\n",
      "Epoch 6/100\n",
      "5000/5000 [==============================] - 154s 31ms/step - loss: 0.0875 - accuracy: 0.9735 - val_loss: 0.0914 - val_accuracy: 0.9728\n",
      "Epoch 7/100\n",
      "5000/5000 [==============================] - 154s 31ms/step - loss: 0.0855 - accuracy: 0.9741 - val_loss: 0.0903 - val_accuracy: 0.9730\n",
      "Epoch 8/100\n",
      "5000/5000 [==============================] - 154s 31ms/step - loss: 0.0840 - accuracy: 0.9745 - val_loss: 0.0897 - val_accuracy: 0.9732\n",
      "Epoch 9/100\n",
      "5000/5000 [==============================] - 156s 31ms/step - loss: 0.0832 - accuracy: 0.9747 - val_loss: 0.0892 - val_accuracy: 0.9732\n",
      "Epoch 10/100\n",
      "5000/5000 [==============================] - 156s 31ms/step - loss: 0.0817 - accuracy: 0.9750 - val_loss: 0.0891 - val_accuracy: 0.9733\n",
      "Epoch 11/100\n",
      "5000/5000 [==============================] - 153s 31ms/step - loss: 0.0808 - accuracy: 0.9752 - val_loss: 0.0888 - val_accuracy: 0.9735\n",
      "Epoch 12/100\n",
      "5000/5000 [==============================] - 153s 31ms/step - loss: 0.0800 - accuracy: 0.9754 - val_loss: 0.0884 - val_accuracy: 0.9737\n",
      "Epoch 13/100\n",
      "5000/5000 [==============================] - 155s 31ms/step - loss: 0.0794 - accuracy: 0.9756 - val_loss: 0.0884 - val_accuracy: 0.9738\n",
      "Epoch 14/100\n",
      "5000/5000 [==============================] - 152s 30ms/step - loss: 0.0788 - accuracy: 0.9757 - val_loss: 0.0881 - val_accuracy: 0.9737\n",
      "Epoch 15/100\n",
      "5000/5000 [==============================] - 154s 31ms/step - loss: 0.0782 - accuracy: 0.9759 - val_loss: 0.0880 - val_accuracy: 0.9737\n",
      "Epoch 16/100\n",
      "5000/5000 [==============================] - 152s 30ms/step - loss: 0.0778 - accuracy: 0.9760 - val_loss: 0.0883 - val_accuracy: 0.9739\n",
      "Epoch 17/100\n",
      "5000/5000 [==============================] - 155s 31ms/step - loss: 0.0773 - accuracy: 0.9761 - val_loss: 0.0881 - val_accuracy: 0.9740\n",
      "Epoch 18/100\n",
      "5000/5000 [==============================] - 152s 30ms/step - loss: 0.0770 - accuracy: 0.9762 - val_loss: 0.0881 - val_accuracy: 0.9739\n",
      "Epoch 19/100\n",
      "5000/5000 [==============================] - 151s 30ms/step - loss: 0.0766 - accuracy: 0.9762 - val_loss: 0.0881 - val_accuracy: 0.9739\n",
      "Epoch 20/100\n",
      "5000/5000 [==============================] - 151s 30ms/step - loss: 0.0764 - accuracy: 0.9763 - val_loss: 0.0878 - val_accuracy: 0.9739\n",
      "Epoch 21/100\n",
      "5000/5000 [==============================] - 153s 31ms/step - loss: 0.0760 - accuracy: 0.9764 - val_loss: 0.0882 - val_accuracy: 0.9739\n",
      "Epoch 22/100\n",
      "5000/5000 [==============================] - 150s 30ms/step - loss: 0.0758 - accuracy: 0.9765 - val_loss: 0.0883 - val_accuracy: 0.9739\n",
      "Epoch 23/100\n",
      "5000/5000 [==============================] - 149s 30ms/step - loss: 0.0756 - accuracy: 0.9765 - val_loss: 0.0880 - val_accuracy: 0.9740\n",
      "Epoch 24/100\n",
      "5000/5000 [==============================] - 152s 30ms/step - loss: 0.0861 - accuracy: 0.9741 - val_loss: 0.0883 - val_accuracy: 0.9739\n",
      "Epoch 25/100\n",
      "5000/5000 [==============================] - 153s 31ms/step - loss: 0.0755 - accuracy: 0.9765 - val_loss: 0.0883 - val_accuracy: 0.9738\n",
      "Epoch 26/100\n",
      "5000/5000 [==============================] - 150s 30ms/step - loss: 0.0751 - accuracy: 0.9766 - val_loss: 0.0881 - val_accuracy: 0.9739\n",
      "Epoch 27/100\n",
      "5000/5000 [==============================] - 151s 30ms/step - loss: 0.0749 - accuracy: 0.9766 - val_loss: 0.0881 - val_accuracy: 0.9740\n",
      "Epoch 28/100\n",
      "5000/5000 [==============================] - 152s 30ms/step - loss: 0.0747 - accuracy: 0.9767 - val_loss: 0.0884 - val_accuracy: 0.9740\n",
      "Epoch 29/100\n",
      "5000/5000 [==============================] - 151s 30ms/step - loss: 0.0746 - accuracy: 0.9767 - val_loss: 0.0881 - val_accuracy: 0.9741\n",
      "Epoch 30/100\n",
      "5000/5000 [==============================] - 154s 31ms/step - loss: 0.0744 - accuracy: 0.9768 - val_loss: 0.0882 - val_accuracy: 0.9741\n",
      "Epoch 31/100\n",
      "5000/5000 [==============================] - 150s 30ms/step - loss: 0.0743 - accuracy: 0.9768 - val_loss: 0.0885 - val_accuracy: 0.9739\n",
      "Epoch 32/100\n",
      "5000/5000 [==============================] - 150s 30ms/step - loss: 0.0741 - accuracy: 0.9768 - val_loss: 0.0881 - val_accuracy: 0.9741\n",
      "Epoch 33/100\n",
      "5000/5000 [==============================] - 150s 30ms/step - loss: 0.0748 - accuracy: 0.9766 - val_loss: 0.0883 - val_accuracy: 0.9741\n",
      "Epoch 34/100\n",
      "5000/5000 [==============================] - 149s 30ms/step - loss: 0.0733 - accuracy: 0.9773 - val_loss: 0.0872 - val_accuracy: 0.9749\n",
      "Epoch 35/100\n",
      "5000/5000 [==============================] - 148s 30ms/step - loss: 0.0728 - accuracy: 0.9775 - val_loss: 0.0874 - val_accuracy: 0.9746\n",
      "Epoch 36/100\n",
      "5000/5000 [==============================] - 148s 30ms/step - loss: 0.0761 - accuracy: 0.9766 - val_loss: 0.0881 - val_accuracy: 0.9746\n",
      "Epoch 37/100\n",
      "5000/5000 [==============================] - 143s 29ms/step - loss: 0.0733 - accuracy: 0.9773 - val_loss: 0.0882 - val_accuracy: 0.9742\n",
      "Epoch 38/100\n",
      "5000/5000 [==============================] - 141s 28ms/step - loss: 0.0733 - accuracy: 0.9771 - val_loss: 0.0881 - val_accuracy: 0.9744\n",
      "Epoch 39/100\n",
      "5000/5000 [==============================] - 143s 29ms/step - loss: 0.0733 - accuracy: 0.9771 - val_loss: 0.0881 - val_accuracy: 0.9744\n",
      "Epoch 40/100\n",
      "5000/5000 [==============================] - 143s 29ms/step - loss: 0.0752 - accuracy: 0.9766 - val_loss: 0.0889 - val_accuracy: 0.9740\n",
      "Epoch 41/100\n",
      "5000/5000 [==============================] - 144s 29ms/step - loss: 0.0735 - accuracy: 0.9770 - val_loss: 0.0888 - val_accuracy: 0.9741\n",
      "Epoch 42/100\n",
      "5000/5000 [==============================] - 143s 29ms/step - loss: 0.0736 - accuracy: 0.9770 - val_loss: 0.0884 - val_accuracy: 0.9744\n",
      "Epoch 43/100\n",
      "5000/5000 [==============================] - 147s 29ms/step - loss: 0.0731 - accuracy: 0.9771 - val_loss: 0.0876 - val_accuracy: 0.9748\n",
      "Epoch 44/100\n",
      "5000/5000 [==============================] - 141s 28ms/step - loss: 0.0723 - accuracy: 0.9776 - val_loss: 0.0873 - val_accuracy: 0.9749\n",
      "Epoch 45/100\n",
      "5000/5000 [==============================] - 146s 29ms/step - loss: 0.0720 - accuracy: 0.9778 - val_loss: 0.0882 - val_accuracy: 0.9748\n",
      "Epoch 46/100\n",
      "5000/5000 [==============================] - 139s 28ms/step - loss: 0.0722 - accuracy: 0.9777 - val_loss: 0.0883 - val_accuracy: 0.9748\n",
      "Epoch 47/100\n",
      "5000/5000 [==============================] - 142s 28ms/step - loss: 0.0719 - accuracy: 0.9778 - val_loss: 0.0874 - val_accuracy: 0.9749\n",
      "Epoch 48/100\n",
      "5000/5000 [==============================] - 143s 29ms/step - loss: 0.0731 - accuracy: 0.9775 - val_loss: 0.0876 - val_accuracy: 0.9749\n",
      "Epoch 49/100\n",
      "5000/5000 [==============================] - 139s 28ms/step - loss: 0.0719 - accuracy: 0.9778 - val_loss: 0.0883 - val_accuracy: 0.9749\n",
      "Epoch 50/100\n",
      "5000/5000 [==============================] - 140s 28ms/step - loss: 0.0719 - accuracy: 0.9778 - val_loss: 0.0879 - val_accuracy: 0.9749\n",
      "Epoch 51/100\n",
      "5000/5000 [==============================] - 141s 28ms/step - loss: 0.0734 - accuracy: 0.9775 - val_loss: 0.0879 - val_accuracy: 0.9749\n",
      "Epoch 52/100\n",
      "5000/5000 [==============================] - 140s 28ms/step - loss: 0.0721 - accuracy: 0.9777 - val_loss: 0.0879 - val_accuracy: 0.9750\n",
      "Epoch 53/100\n",
      "5000/5000 [==============================] - 139s 28ms/step - loss: 0.0720 - accuracy: 0.9777 - val_loss: 0.0875 - val_accuracy: 0.9750\n",
      "Epoch 54/100\n",
      "5000/5000 [==============================] - 141s 28ms/step - loss: 0.0716 - accuracy: 0.9779 - val_loss: 0.0883 - val_accuracy: 0.9749\n",
      "Epoch 55/100\n",
      "5000/5000 [==============================] - 140s 28ms/step - loss: 0.0716 - accuracy: 0.9778 - val_loss: 0.0878 - val_accuracy: 0.9750\n",
      "Epoch 56/100\n"
     ]
    },
    {
     "name": "stdout",
     "output_type": "stream",
     "text": [
      "5000/5000 [==============================] - 163s 33ms/step - loss: 0.0715 - accuracy: 0.9779 - val_loss: 0.0878 - val_accuracy: 0.9750\n",
      "Epoch 57/100\n",
      "5000/5000 [==============================] - 162s 32ms/step - loss: 0.0714 - accuracy: 0.9779 - val_loss: 0.0879 - val_accuracy: 0.9750\n",
      "Epoch 58/100\n",
      "5000/5000 [==============================] - 157s 31ms/step - loss: 0.0716 - accuracy: 0.9779 - val_loss: 0.0882 - val_accuracy: 0.9748\n",
      "Epoch 59/100\n",
      "5000/5000 [==============================] - 160s 32ms/step - loss: 0.0713 - accuracy: 0.9779 - val_loss: 0.0877 - val_accuracy: 0.9750\n",
      "Epoch 60/100\n",
      "5000/5000 [==============================] - 161s 32ms/step - loss: 0.0711 - accuracy: 0.9780 - val_loss: 0.0880 - val_accuracy: 0.9750\n",
      "Epoch 61/100\n",
      "5000/5000 [==============================] - 161s 32ms/step - loss: 0.0711 - accuracy: 0.9780 - val_loss: 0.0880 - val_accuracy: 0.9750\n",
      "Epoch 62/100\n",
      "5000/5000 [==============================] - 161s 32ms/step - loss: 0.0713 - accuracy: 0.9779 - val_loss: 0.0881 - val_accuracy: 0.9750\n",
      "Epoch 63/100\n",
      "5000/5000 [==============================] - 160s 32ms/step - loss: 0.0712 - accuracy: 0.9779 - val_loss: 0.0886 - val_accuracy: 0.9748\n",
      "Epoch 64/100\n",
      "5000/5000 [==============================] - 160s 32ms/step - loss: 0.0711 - accuracy: 0.9779 - val_loss: 0.0884 - val_accuracy: 0.9749\n",
      "Epoch 65/100\n",
      "5000/5000 [==============================] - 158s 32ms/step - loss: 0.0713 - accuracy: 0.9778 - val_loss: 0.0885 - val_accuracy: 0.9749\n",
      "Epoch 66/100\n",
      "5000/5000 [==============================] - 158s 32ms/step - loss: 0.0735 - accuracy: 0.9771 - val_loss: 0.0890 - val_accuracy: 0.9742\n",
      "Epoch 67/100\n",
      "5000/5000 [==============================] - 159s 32ms/step - loss: 0.0717 - accuracy: 0.9776 - val_loss: 0.0884 - val_accuracy: 0.9750\n",
      "Epoch 68/100\n",
      "5000/5000 [==============================] - 158s 32ms/step - loss: 0.0704 - accuracy: 0.9782 - val_loss: 0.0860 - val_accuracy: 0.9759\n",
      "Epoch 69/100\n",
      "5000/5000 [==============================] - 155s 31ms/step - loss: 0.0711 - accuracy: 0.9783 - val_loss: 0.0857 - val_accuracy: 0.9759\n",
      "Epoch 70/100\n",
      "5000/5000 [==============================] - 156s 31ms/step - loss: 0.0687 - accuracy: 0.9790 - val_loss: 0.0846 - val_accuracy: 0.9762\n",
      "Epoch 71/100\n",
      "5000/5000 [==============================] - 158s 32ms/step - loss: 0.0677 - accuracy: 0.9793 - val_loss: 0.0838 - val_accuracy: 0.9766\n",
      "Epoch 72/100\n",
      "5000/5000 [==============================] - 158s 32ms/step - loss: 0.0670 - accuracy: 0.9795 - val_loss: 0.0838 - val_accuracy: 0.9766\n",
      "Epoch 73/100\n",
      "5000/5000 [==============================] - 155s 31ms/step - loss: 0.0671 - accuracy: 0.9795 - val_loss: 0.0855 - val_accuracy: 0.9762\n",
      "Epoch 74/100\n",
      "5000/5000 [==============================] - 157s 31ms/step - loss: 0.0690 - accuracy: 0.9792 - val_loss: 0.0838 - val_accuracy: 0.9767\n",
      "Epoch 75/100\n",
      "5000/5000 [==============================] - 155s 31ms/step - loss: 0.0676 - accuracy: 0.9796 - val_loss: 0.0827 - val_accuracy: 0.9770\n",
      "Epoch 76/100\n",
      "5000/5000 [==============================] - 157s 31ms/step - loss: 0.0664 - accuracy: 0.9799 - val_loss: 0.0818 - val_accuracy: 0.9773\n",
      "Epoch 77/100\n",
      "5000/5000 [==============================] - 159s 32ms/step - loss: 0.0654 - accuracy: 0.9803 - val_loss: 0.0807 - val_accuracy: 0.9777\n",
      "Epoch 78/100\n",
      "5000/5000 [==============================] - 155s 31ms/step - loss: 0.0646 - accuracy: 0.9805 - val_loss: 0.0805 - val_accuracy: 0.9778\n",
      "Epoch 79/100\n",
      "5000/5000 [==============================] - 158s 32ms/step - loss: 0.0639 - accuracy: 0.9807 - val_loss: 0.0804 - val_accuracy: 0.9779\n",
      "Epoch 80/100\n",
      "5000/5000 [==============================] - 155s 31ms/step - loss: 0.0647 - accuracy: 0.9806 - val_loss: 0.0797 - val_accuracy: 0.9780\n",
      "Epoch 81/100\n",
      "5000/5000 [==============================] - 154s 31ms/step - loss: 0.0637 - accuracy: 0.9808 - val_loss: 0.0800 - val_accuracy: 0.9781\n",
      "Epoch 82/100\n",
      "5000/5000 [==============================] - 153s 31ms/step - loss: 0.0628 - accuracy: 0.9811 - val_loss: 0.0798 - val_accuracy: 0.9782\n",
      "Epoch 83/100\n",
      "5000/5000 [==============================] - 155s 31ms/step - loss: 0.0623 - accuracy: 0.9812 - val_loss: 0.0791 - val_accuracy: 0.9783\n",
      "Epoch 84/100\n",
      "5000/5000 [==============================] - 153s 31ms/step - loss: 0.0619 - accuracy: 0.9814 - val_loss: 0.0791 - val_accuracy: 0.9784\n",
      "Epoch 85/100\n",
      "5000/5000 [==============================] - 153s 31ms/step - loss: 0.0616 - accuracy: 0.9815 - val_loss: 0.0793 - val_accuracy: 0.9784\n",
      "Epoch 86/100\n",
      "5000/5000 [==============================] - 154s 31ms/step - loss: 0.0612 - accuracy: 0.9816 - val_loss: 0.0791 - val_accuracy: 0.9784\n",
      "Epoch 87/100\n",
      "5000/5000 [==============================] - 151s 30ms/step - loss: 0.0610 - accuracy: 0.9816 - val_loss: 0.0791 - val_accuracy: 0.9784\n",
      "Epoch 88/100\n",
      "5000/5000 [==============================] - 152s 30ms/step - loss: 0.0607 - accuracy: 0.9817 - val_loss: 0.0788 - val_accuracy: 0.9786\n",
      "Epoch 89/100\n",
      "5000/5000 [==============================] - 150s 30ms/step - loss: 0.0604 - accuracy: 0.9819 - val_loss: 0.0787 - val_accuracy: 0.9786\n",
      "Epoch 90/100\n",
      "5000/5000 [==============================] - 153s 31ms/step - loss: 0.0602 - accuracy: 0.9819 - val_loss: 0.0784 - val_accuracy: 0.9787\n",
      "Epoch 91/100\n",
      "5000/5000 [==============================] - 153s 31ms/step - loss: 0.0600 - accuracy: 0.9819 - val_loss: 0.0783 - val_accuracy: 0.9787\n",
      "Epoch 92/100\n",
      "5000/5000 [==============================] - 150s 30ms/step - loss: 0.0598 - accuracy: 0.9820 - val_loss: 0.0783 - val_accuracy: 0.9788\n",
      "Epoch 93/100\n",
      "5000/5000 [==============================] - 150s 30ms/step - loss: 0.0595 - accuracy: 0.9821 - val_loss: 0.0784 - val_accuracy: 0.9788\n",
      "Epoch 94/100\n",
      "5000/5000 [==============================] - 153s 31ms/step - loss: 0.0592 - accuracy: 0.9822 - val_loss: 0.0783 - val_accuracy: 0.9788\n",
      "Epoch 95/100\n",
      "5000/5000 [==============================] - 152s 30ms/step - loss: 0.0590 - accuracy: 0.9822 - val_loss: 0.0783 - val_accuracy: 0.9789\n",
      "Epoch 96/100\n",
      "5000/5000 [==============================] - 149s 30ms/step - loss: 0.0588 - accuracy: 0.9823 - val_loss: 0.0783 - val_accuracy: 0.9790\n",
      "Epoch 97/100\n",
      "5000/5000 [==============================] - 150s 30ms/step - loss: 0.0586 - accuracy: 0.9824 - val_loss: 0.0786 - val_accuracy: 0.9789\n",
      "Epoch 98/100\n",
      "5000/5000 [==============================] - 153s 31ms/step - loss: 0.0584 - accuracy: 0.9824 - val_loss: 0.0783 - val_accuracy: 0.9789\n",
      "Epoch 99/100\n",
      "5000/5000 [==============================] - 149s 30ms/step - loss: 0.0582 - accuracy: 0.9825 - val_loss: 0.0779 - val_accuracy: 0.9790\n",
      "Epoch 100/100\n",
      "5000/5000 [==============================] - 151s 30ms/step - loss: 0.0580 - accuracy: 0.9825 - val_loss: 0.0782 - val_accuracy: 0.9790\n",
      "CPU times: user 5h 36min 59s, sys: 15min 37s, total: 5h 52min 36s\n",
      "Wall time: 4h 13min 1s\n"
     ]
    },
    {
     "data": {
      "text/plain": [
       "<tensorflow.python.keras.callbacks.History at 0x7f9b3804c9d0>"
      ]
     },
     "execution_count": 18,
     "metadata": {},
     "output_type": "execute_result"
    }
   ],
   "source": [
    "%%time \n",
    "model.fit(dataset,\n",
    "          batch_size=batch_size,\n",
    "          epochs=epochs,\n",
    "          validation_data=val_dataset)\n"
   ]
  },
  {
   "cell_type": "code",
   "execution_count": 19,
   "metadata": {},
   "outputs": [],
   "source": [
    "# Save model\n",
    "model.save('s2s_paraphrase.h5')"
   ]
  },
  {
   "cell_type": "markdown",
   "metadata": {},
   "source": [
    "### Run several examples to see the results"
   ]
  },
  {
   "cell_type": "code",
   "execution_count": 20,
   "metadata": {},
   "outputs": [],
   "source": [
    "# Define sampling models\n",
    "encoder_model = Model(encoder_inputs, encoder_states)\n",
    "\n",
    "decoder_state_input_h = Input(shape=(latent_dim,))\n",
    "decoder_state_input_c = Input(shape=(latent_dim,))\n",
    "decoder_states_inputs = [decoder_state_input_h, decoder_state_input_c]\n",
    "decoder_outputs, state_h, state_c = decoder_lstm(\n",
    "    decoder_inputs, initial_state=decoder_states_inputs)\n",
    "decoder_states = [state_h, state_c]\n",
    "decoder_outputs = decoder_dense(decoder_outputs)\n",
    "decoder_model = Model(\n",
    "    [decoder_inputs] + decoder_states_inputs,\n",
    "    [decoder_outputs] + decoder_states)\n",
    "\n",
    "# Reverse-lookup token index to decode sequences back to\n",
    "# something readable.\n",
    "reverse_input_char_index = dict(\n",
    "    (i, char) for char, i in input_token_index.items())\n",
    "reverse_target_char_index = dict(\n",
    "    (i, char) for char, i in target_token_index.items())"
   ]
  },
  {
   "cell_type": "code",
   "execution_count": 21,
   "metadata": {},
   "outputs": [],
   "source": [
    "def decode_sequence(input_seq):\n",
    "    # Encode the input as state vectors.\n",
    "    states_value = encoder_model.predict(input_seq)\n",
    "\n",
    "    # Generate empty target sequence of length 1.\n",
    "    target_seq = np.zeros((1, 1, num_decoder_tokens))\n",
    "    # Populate the first character of target sequence with the start character.\n",
    "    target_seq[0, 0, target_token_index['\\t']] = 1.\n",
    "\n",
    "    # Sampling loop for a batch of sequences\n",
    "    # (to simplify, here we assume a batch of size 1).\n",
    "    stop_condition = False\n",
    "    decoded_sentence = ''\n",
    "    while not stop_condition:\n",
    "        output_tokens, h, c = decoder_model.predict(\n",
    "            [target_seq] + states_value)\n",
    "\n",
    "        # Sample a token\n",
    "        sampled_token_index = np.argmax(output_tokens[0, -1, :])\n",
    "        sampled_char = reverse_target_char_index[sampled_token_index]\n",
    "        decoded_sentence += sampled_char\n",
    "\n",
    "        # Exit condition: either hit max length\n",
    "        # or find stop character.\n",
    "        if (sampled_char == '\\n' or\n",
    "           len(decoded_sentence) > max_decoder_seq_length):\n",
    "            stop_condition = True\n",
    "\n",
    "        # Update the target sequence (of length 1).\n",
    "        target_seq = np.zeros((1, 1, num_decoder_tokens))\n",
    "        target_seq[0, 0, sampled_token_index] = 1.\n",
    "\n",
    "        # Update states\n",
    "        states_value = [h, c]\n",
    "\n",
    "    return decoded_sentence"
   ]
  },
  {
   "cell_type": "code",
   "execution_count": null,
   "metadata": {},
   "outputs": [],
   "source": []
  },
  {
   "cell_type": "code",
   "execution_count": 44,
   "metadata": {},
   "outputs": [],
   "source": [
    "def parse_dev_corpus(file, low_mark, high_mark):\n",
    "    lines = load_data(file)\n",
    "    input_texts, target_texts = [], []\n",
    "    for line in lines:\n",
    "        splited_lines = line.split('\\t')\n",
    "        if len(splited_lines) < 3:\n",
    "            continue\n",
    "\n",
    "        input_text = splited_lines[1]\n",
    "        target_text = splited_lines[2]\n",
    "        mark = float(splited_lines[3])\n",
    "        \n",
    "        if mark >= low_mark and mark <= high_mark:\n",
    "#             target_text = '\\t' + target_text + '\\n'\n",
    "            input_texts.append(input_text)\n",
    "            target_texts.append(target_text)\n",
    "    \n",
    "    return input_texts, target_texts\n",
    "\n",
    "    "
   ]
  },
  {
   "cell_type": "code",
   "execution_count": 45,
   "metadata": {},
   "outputs": [],
   "source": [
    "dev_input_texts, dev_target_texts = parse_dev_corpus(\"opusparcus_v2/en-dev.txt\", 3.0, 4.0)"
   ]
  },
  {
   "cell_type": "code",
   "execution_count": 46,
   "metadata": {},
   "outputs": [
    {
     "name": "stdout",
     "output_type": "stream",
     "text": [
      "----------------------------------------------------\n",
      "Input sentence: When 'd you last see him ?\n",
      "Decoded sentence: When will you be back ?\n",
      "\n",
      "-Reverse example-\n",
      "Input sentence: When was the last time you saw him ?\n",
      "Decoded sentence: When will you be back ?\n",
      "\n",
      "----------------------------------------------------\n",
      "Input sentence: Anyone who can verify that ?\n",
      "Decoded sentence: Is there anything you need ?\n",
      "\n",
      "-Reverse example-\n",
      "Input sentence: Can anyone corroborate that ?\n",
      "Decoded sentence: Can anyone hear me ?\n",
      "\n",
      "----------------------------------------------------\n",
      "Input sentence: I 'm not promising anything .\n",
      "Decoded sentence: I don 't feel so good .\n",
      "\n",
      "-Reverse example-\n",
      "Input sentence: No promises , okay ?\n",
      "Decoded sentence: There 's no need to .\n",
      "\n",
      "----------------------------------------------------\n",
      "Input sentence: Nothing 's changed .\n",
      "Decoded sentence: Nothing that matters .\n",
      "\n",
      "-Reverse example-\n",
      "Input sentence: Things ain 't no different .\n",
      "Decoded sentence: Things will be fine .\n",
      "\n",
      "----------------------------------------------------\n",
      "Input sentence: Anybody hearing me ?\n",
      "Decoded sentence: Is anyone here ?\n",
      "\n",
      "-Reverse example-\n",
      "Input sentence: Can anyone hear me ?\n",
      "Decoded sentence: Can anyone hear me ?\n",
      "\n",
      "----------------------------------------------------\n",
      "Input sentence: I 'm not familiar with who that is .\n",
      "Decoded sentence: I don 't feel so good .\n",
      "\n",
      "-Reverse example-\n",
      "Input sentence: I don 't know who that is .\n",
      "Decoded sentence: I don 't want to talk about it .\n",
      "\n",
      "----------------------------------------------------\n",
      "Input sentence: I need you to trust me .\n",
      "Decoded sentence: You have to leave .\n",
      "\n",
      "-Reverse example-\n",
      "Input sentence: Please , you gotta trust me on this .\n",
      "Decoded sentence: Please , sit down .\n",
      "\n",
      "----------------------------------------------------\n",
      "Input sentence: We hope you enjoy the flight .\n",
      "Decoded sentence: We have to get out .\n",
      "\n",
      "-Reverse example-\n",
      "Input sentence: We hope you have a pleasant flight .\n",
      "Decoded sentence: We have to get out .\n",
      "\n",
      "----------------------------------------------------\n",
      "Input sentence: That 's why you rollin ' with the P.L.C. .\n",
      "Decoded sentence: That 's what I 'm talking about .\n",
      "\n",
      "-Reverse example-\n",
      "Input sentence: That 's why you with the P.L.C. , dawg .\n",
      "Decoded sentence: That 's what I 'm talking about .\n",
      "\n",
      "----------------------------------------------------\n",
      "Input sentence: Did you see him ?\n",
      "Decoded sentence: Have you been finished ?\n",
      "\n",
      "-Reverse example-\n",
      "Input sentence: You get a look at ' im ?\n",
      "Decoded sentence: You know what I 'm saying ?\n",
      "\n"
     ]
    }
   ],
   "source": [
    "for seq_index in range(10):\n",
    "    # Take one sequence (part of the training set)\n",
    "    # for trying out decoding.\n",
    "    input_seq = dataset.create_encoder_input_item_for_text(dev_input_texts[seq_index])\n",
    "    input_seq = np.array([input_seq])\n",
    "#     print(input_seq)\n",
    "    decoded_sentence = decode_sequence(input_seq)\n",
    "    print('----------------------------------------------------')\n",
    "    print('Input sentence:', dev_input_texts[seq_index])\n",
    "    print('Decoded sentence:', decoded_sentence)\n",
    "    \n",
    "    print(\"-Reverse example-\")\n",
    "    target_text = dev_target_texts[seq_index].strip()\n",
    "    input_seq = dataset.create_encoder_input_item_for_text(target_text)\n",
    "    input_seq = np.array([input_seq])\n",
    "#     print(input_seq)\n",
    "    decoded_sentence = decode_sequence(input_seq)\n",
    "    print('Input sentence:', target_text)\n",
    "    print('Decoded sentence:', decoded_sentence)\n",
    "\n",
    "\n"
   ]
  },
  {
   "cell_type": "markdown",
   "metadata": {},
   "source": [
    "### Metric"
   ]
  },
  {
   "cell_type": "code",
   "execution_count": 47,
   "metadata": {},
   "outputs": [],
   "source": [
    "import rouge"
   ]
  },
  {
   "cell_type": "code",
   "execution_count": 48,
   "metadata": {},
   "outputs": [],
   "source": [
    "dev_data_path = 'opusparcus_v2/en-dev.txt'\n",
    "dev_lines = load_data(data_path)"
   ]
  },
  {
   "cell_type": "code",
   "execution_count": 49,
   "metadata": {},
   "outputs": [],
   "source": [
    "evaluator = rouge.Rouge(['rouge-l'])"
   ]
  },
  {
   "cell_type": "code",
   "execution_count": 50,
   "metadata": {},
   "outputs": [],
   "source": [
    "def evaluate(input_texts, target_texts, evaluator):\n",
    "    predicted_texts = []\n",
    "    for input_text in input_texts:\n",
    "        input_seq = dataset.create_encoder_input_item_for_text(input_text)\n",
    "        input_seq = np.array([input_seq])\n",
    "\n",
    "        decoded_sentence = decode_sequence(input_seq)\n",
    "\n",
    "        predicted_texts.append(decoded_sentence)\n",
    "\n",
    "    return evaluator.get_scores(target_texts, predicted_texts, avg=True)"
   ]
  },
  {
   "cell_type": "code",
   "execution_count": 53,
   "metadata": {},
   "outputs": [],
   "source": [
    "scores = evaluate(dev_input_texts, dev_target_texts, evaluator)"
   ]
  },
  {
   "cell_type": "code",
   "execution_count": 54,
   "metadata": {},
   "outputs": [
    {
     "data": {
      "text/plain": [
       "{'rouge-l': {'f': 0.2115507467285711,\n",
       "  'p': 0.22370623902643574,\n",
       "  'r': 0.2090855778047892}}"
      ]
     },
     "execution_count": 54,
     "metadata": {},
     "output_type": "execute_result"
    }
   ],
   "source": [
    "scores"
   ]
  }
 ],
 "metadata": {
  "kernelspec": {
   "display_name": "Python 3",
   "language": "python",
   "name": "python3"
  },
  "language_info": {
   "codemirror_mode": {
    "name": "ipython",
    "version": 3
   },
   "file_extension": ".py",
   "mimetype": "text/x-python",
   "name": "python",
   "nbconvert_exporter": "python",
   "pygments_lexer": "ipython3",
   "version": "3.7.5"
  }
 },
 "nbformat": 4,
 "nbformat_minor": 4
}
