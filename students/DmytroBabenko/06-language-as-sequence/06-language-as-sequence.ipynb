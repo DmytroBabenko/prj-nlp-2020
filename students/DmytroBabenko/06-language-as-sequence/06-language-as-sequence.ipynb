{
 "cells": [
  {
   "cell_type": "code",
   "execution_count": 1,
   "metadata": {},
   "outputs": [],
   "source": [
    "import numpy as np\n",
    "import sklearn_crfsuite\n",
    "from sklearn.model_selection import train_test_split\n",
    "from sklearn.metrics import classification_report\n"
   ]
  },
  {
   "cell_type": "markdown",
   "metadata": {},
   "source": [
    "## Data"
   ]
  },
  {
   "cell_type": "markdown",
   "metadata": {},
   "source": [
    "Please see *generate-dataset.ipynb* to get information how dataset is generated. "
   ]
  },
  {
   "cell_type": "markdown",
   "metadata": {},
   "source": [
    "### Load dataset"
   ]
  },
  {
   "cell_type": "code",
   "execution_count": 2,
   "metadata": {},
   "outputs": [],
   "source": [
    "import json"
   ]
  },
  {
   "cell_type": "code",
   "execution_count": 3,
   "metadata": {},
   "outputs": [],
   "source": [
    "def load_json(file):\n",
    "    with open(file) as json_file:\n",
    "        data = json.load(json_file)\n",
    "    \n",
    "    return data"
   ]
  },
  {
   "cell_type": "code",
   "execution_count": 4,
   "metadata": {},
   "outputs": [],
   "source": [
    "dataset_file = \"data/dataset.json\""
   ]
  },
  {
   "cell_type": "code",
   "execution_count": 5,
   "metadata": {},
   "outputs": [],
   "source": [
    "dataset = load_json(dataset_file)"
   ]
  },
  {
   "cell_type": "code",
   "execution_count": 6,
   "metadata": {},
   "outputs": [
    {
     "data": {
      "text/plain": [
       "11683"
      ]
     },
     "execution_count": 6,
     "metadata": {},
     "output_type": "execute_result"
    }
   ],
   "source": [
    "len(dataset)"
   ]
  },
  {
   "cell_type": "code",
   "execution_count": 7,
   "metadata": {},
   "outputs": [
    {
     "data": {
      "text/plain": [
       "[['Proposal', False],\n",
       " ['for', False],\n",
       " ['a', False],\n",
       " ['Red', False],\n",
       " ['Harvester', False],\n",
       " ['Ant', False],\n",
       " ['Robot', False],\n",
       " [':', False],\n",
       " ['Colony', False],\n",
       " ['Infiltration', False],\n",
       " ['and', False],\n",
       " ['Task', False],\n",
       " ['Switching', False]]"
      ]
     },
     "execution_count": 7,
     "metadata": {},
     "output_type": "execute_result"
    }
   ],
   "source": [
    "dataset[0]"
   ]
  },
  {
   "cell_type": "code",
   "execution_count": 8,
   "metadata": {},
   "outputs": [],
   "source": [
    "def split_dataset_into_X_and_y(dataset):\n",
    "    X = [np.array(sent)[:, 0].tolist() for sent in dataset]\n",
    "    y = [np.array(sent)[:, 1].tolist() for sent in dataset]\n",
    "\n",
    "    return X, y"
   ]
  },
  {
   "cell_type": "code",
   "execution_count": 158,
   "metadata": {},
   "outputs": [],
   "source": [
    "X, y = split_dataset_into_X_and_y(dataset)\n",
    "X_train, X_test, y_train, y_test = train_test_split(X, y, test_size=0.2, random_state=42)"
   ]
  },
  {
   "cell_type": "markdown",
   "metadata": {},
   "source": [
    "### N-Gram"
   ]
  },
  {
   "cell_type": "code",
   "execution_count": 11,
   "metadata": {},
   "outputs": [],
   "source": [
    "def read_file(file):\n",
    "    result = []\n",
    "    with open(file) as f:\n",
    "        lines = f.readlines()\n",
    "        for line in lines:\n",
    "            l = line.strip()\n",
    "            if len(l) > 0:\n",
    "                result.append(l)\n",
    "    return result"
   ]
  },
  {
   "cell_type": "code",
   "execution_count": 12,
   "metadata": {},
   "outputs": [],
   "source": [
    "def read_n_gram_file(ngram_file):\n",
    "    result = dict()\n",
    "    lines = read_file(ngram_file)\n",
    "    for line in lines:\n",
    "        line_split = line.split('\\t')\n",
    "        key = ' '.join(line_split[1:])\n",
    "        result[key] = line_split[0]\n",
    "        \n",
    "    return result"
   ]
  },
  {
   "cell_type": "markdown",
   "metadata": {},
   "source": [
    "Here, we use ngrams downloaded from here: https://www.ngrams.info/download_coca.asp"
   ]
  },
  {
   "cell_type": "code",
   "execution_count": 13,
   "metadata": {},
   "outputs": [],
   "source": [
    "bi_gram_dict = read_n_gram_file(\"data/w2.txt\")\n",
    "three_gram_dict = read_n_gram_file(\"data/w3.txt\")\n",
    "four_gram_dict = read_n_gram_file(\"data/w4.txt\")\n",
    "five_gram_dict = read_n_gram_file(\"data/w5.txt\")"
   ]
  },
  {
   "cell_type": "code",
   "execution_count": 14,
   "metadata": {},
   "outputs": [
    {
     "data": {
      "text/plain": [
       "1055386"
      ]
     },
     "execution_count": 14,
     "metadata": {},
     "output_type": "execute_result"
    }
   ],
   "source": [
    "len(bi_gram_dict)"
   ]
  },
  {
   "cell_type": "code",
   "execution_count": 15,
   "metadata": {},
   "outputs": [],
   "source": [
    "ngrams_dict_list = [bi_gram_dict, three_gram_dict, four_gram_dict, five_gram_dict]"
   ]
  },
  {
   "cell_type": "code",
   "execution_count": 16,
   "metadata": {},
   "outputs": [
    {
     "data": {
      "text/plain": [
       "{'a B.A. degree': '48',\n",
       " 'a B.A. in': '56',\n",
       " 'a B.S. in': '41',\n",
       " 'a BA in': '33',\n",
       " 'a babble of': '28',\n",
       " 'a babe in': '31',\n",
       " 'a baby and': '308',\n",
       " 'a baby at': '72',\n",
       " 'a baby before': '29',\n",
       " 'a baby bird': '50'}"
      ]
     },
     "execution_count": 16,
     "metadata": {},
     "output_type": "execute_result"
    }
   ],
   "source": [
    "import itertools\n",
    "dict(itertools.islice(three_gram_dict.items(), 10))"
   ]
  },
  {
   "cell_type": "markdown",
   "metadata": {},
   "source": [
    "## Classification"
   ]
  },
  {
   "cell_type": "markdown",
   "metadata": {},
   "source": [
    "### Metric"
   ]
  },
  {
   "cell_type": "markdown",
   "metadata": {},
   "source": [
    "The main metric for this task is F1-score."
   ]
  },
  {
   "cell_type": "code",
   "execution_count": 38,
   "metadata": {},
   "outputs": [],
   "source": [
    "class Metric:\n",
    "    \n",
    "    @staticmethod\n",
    "    def calc_classification_report(y_true, y_pred):\n",
    "        assert len(y_true) == len(y_pred)\n",
    "\n",
    "        y_pred_flatten, y_true_flatten = [], []\n",
    "        for i in range(0, len(y_true)):\n",
    "            y_true_flatten += y_true[i]\n",
    "            y_pred_flatten += y_pred[i]\n",
    "        \n",
    "        assert len(y_true_flatten) == len(y_pred_flatten)\n",
    "        \n",
    "        return classification_report(y_true_flatten, y_pred_flatten)\n",
    "    "
   ]
  },
  {
   "cell_type": "markdown",
   "metadata": {},
   "source": [
    "## Baseline classifier"
   ]
  },
  {
   "cell_type": "code",
   "execution_count": 171,
   "metadata": {},
   "outputs": [],
   "source": [
    "class CRFClassifier:\n",
    "    def __init__(self):\n",
    "        self._crf = sklearn_crfsuite.CRF(\n",
    "            algorithm='lbfgs',\n",
    "            c1=0.1,\n",
    "            c2=0.1,\n",
    "            max_iterations=1000,\n",
    "            all_possible_transitions=False)        \n",
    "        \n",
    "        \n",
    "    def fit(self, X, y):\n",
    "        x_train = self.sentences2feature_matrix(X)\n",
    "        self._crf.fit(x_train, y)\n",
    "        \n",
    "    \n",
    "    def predict(self, X):\n",
    "        x_test = self.sentences2feature_matrix(X)\n",
    "        return self._crf.predict(x_test)\n",
    "\n",
    "        \n",
    "        \n",
    "    def sentences2feature_matrix(self, X_sentences):\n",
    "        return [self.sent2features(s) for s in X_sentences]\n",
    "        \n",
    "    def sent2features(self, sent):\n",
    "        return [self.word2features(sent, i) for i in range(len(sent))]\n",
    "    \n",
    "    def word2features(self, sent, pos):\n",
    "        word = sent[pos]\n",
    "\n",
    "        features = {\n",
    "            'bias': 1.0,\n",
    "            'word.lower()': word.lower(),\n",
    "            'word.isupper()': word.isupper(),\n",
    "            'word.istitle()': word.istitle(),\n",
    "            'word.isdigit()': word.isdigit(),\n",
    "        }\n",
    "        return features"
   ]
  },
  {
   "cell_type": "code",
   "execution_count": 172,
   "metadata": {},
   "outputs": [],
   "source": [
    "crf_classifier = CRFClassifier()"
   ]
  },
  {
   "cell_type": "code",
   "execution_count": 173,
   "metadata": {},
   "outputs": [],
   "source": [
    "crf_classifier.fit(X_train, y_train)"
   ]
  },
  {
   "cell_type": "code",
   "execution_count": 174,
   "metadata": {},
   "outputs": [],
   "source": [
    "y_pred = crf_classifier.predict(X_test)"
   ]
  },
  {
   "cell_type": "code",
   "execution_count": 175,
   "metadata": {},
   "outputs": [
    {
     "name": "stdout",
     "output_type": "stream",
     "text": [
      "              precision    recall  f1-score   support\n",
      "\n",
      "       False       0.97      1.00      0.99     32994\n",
      "        True       0.42      0.04      0.07       919\n",
      "\n",
      "    accuracy                           0.97     33913\n",
      "   macro avg       0.70      0.52      0.53     33913\n",
      "weighted avg       0.96      0.97      0.96     33913\n",
      "\n"
     ]
    }
   ],
   "source": [
    "report = calc_classification_report(y_test, y_pred)\n",
    "print(report)"
   ]
  },
  {
   "cell_type": "markdown",
   "metadata": {},
   "source": [
    "## Improve baseline classifier"
   ]
  },
  {
   "cell_type": "code",
   "execution_count": 176,
   "metadata": {},
   "outputs": [],
   "source": [
    "class RunOnSentenceCRFClassifier(CRFClassifier):\n",
    "    def __init__(self):\n",
    "        super(RunOnSentenceCRFClassifier, self).__init__()\n",
    "        \n",
    "    def word2features(self, sent, pos):\n",
    "        word = sent[pos]\n",
    "\n",
    "        features = {\n",
    "            'bias': 1.0,\n",
    "            'word.lower()': word.lower(),\n",
    "            'word.isupper()': word.isupper(),\n",
    "            'word.istitle()': word.istitle(),\n",
    "            'word.isdigit()': word.isdigit(),\n",
    "        }\n",
    "        if pos > 0:\n",
    "            pass\n",
    "            word1 = sent[pos-1]\n",
    "            features.update({\n",
    "                '-1:word.lower()': word1.lower(),\n",
    "                '-1:word.istitle()': word1.istitle(),\n",
    "                '-1:word.isupper()': word1.isupper(),\n",
    "            })\n",
    "        else:\n",
    "            features['BOS'] = True\n",
    "\n",
    "        if pos < len(sent)-1:\n",
    "            word1 = sent[pos+1]\n",
    "            features.update({\n",
    "                '+1:word.lower()': word1.lower(),\n",
    "                '+1:word.istitle()': word1.istitle(),\n",
    "                '+1:word.isupper()': word1.isupper(),\n",
    "            })\n",
    "        else:\n",
    "            features['EOS'] = True\n",
    "            \n",
    "        return features\n",
    " "
   ]
  },
  {
   "cell_type": "code",
   "execution_count": 177,
   "metadata": {},
   "outputs": [],
   "source": [
    "run_on_sent_crf_classifier = RunOnSentenceCRFClassifier()"
   ]
  },
  {
   "cell_type": "code",
   "execution_count": 178,
   "metadata": {},
   "outputs": [],
   "source": [
    "run_on_sent_crf_classifier.fit(X_train, y_train)"
   ]
  },
  {
   "cell_type": "code",
   "execution_count": 179,
   "metadata": {},
   "outputs": [],
   "source": [
    "y_pred = run_on_sent_crf_classifier.predict(X_test)"
   ]
  },
  {
   "cell_type": "code",
   "execution_count": 180,
   "metadata": {},
   "outputs": [
    {
     "name": "stdout",
     "output_type": "stream",
     "text": [
      "              precision    recall  f1-score   support\n",
      "\n",
      "       False       0.99      1.00      1.00     32994\n",
      "        True       0.93      0.79      0.85       919\n",
      "\n",
      "    accuracy                           0.99     33913\n",
      "   macro avg       0.96      0.89      0.92     33913\n",
      "weighted avg       0.99      0.99      0.99     33913\n",
      "\n"
     ]
    }
   ],
   "source": [
    "report = calc_classification_report(y_test, y_pred)\n",
    "print(report)"
   ]
  },
  {
   "cell_type": "markdown",
   "metadata": {},
   "source": [
    "As we can see, adding featurAs we can see, adding features for next and previous words improved F1-score for True class significantly.es for next and previous words improved F1-socre for True class significantlly. "
   ]
  },
  {
   "cell_type": "markdown",
   "metadata": {},
   "source": [
    "#### Add n-gram occurrences as features"
   ]
  },
  {
   "cell_type": "code",
   "execution_count": 205,
   "metadata": {},
   "outputs": [],
   "source": [
    "class NGramRunOnSentenceCRFClassifier(RunOnSentenceCRFClassifier):\n",
    "    def __init__(self, ngrams_dict_list):\n",
    "        super(NGramRunOnSentenceCRFClassifier, self).__init__()\n",
    "        self.ngrams_dict_list = ngrams_dict_list\n",
    "        \n",
    "        \n",
    "    def sent2features(self, sent):\n",
    "        result = []\n",
    "        for i in range(0, len(sent)):\n",
    "            features = self.word2features(sent, i)\n",
    "            self.__update_features_with_nagram(features, sent, i)\n",
    "            if i > 0:\n",
    "                self.__update_features_with_nagram(features, sent, i - 1, suffix=\"-1\")\n",
    "            \n",
    "            if i < len(sent) - 1:\n",
    "                self.__update_features_with_nagram(features, sent, i + 1, suffix=\"+1\")\n",
    "                \n",
    "            result.append(features)\n",
    "            \n",
    "        return result\n",
    "                \n",
    "    def __update_features_with_nagram(self, features, sent, pos, suffix=\"\"):\n",
    "        i = pos\n",
    "        while i < len(sent) - 1 and i - pos < len(self.ngrams_dict_list):\n",
    "            ngram = ' '.join(sent[pos: pos + i + 1])\n",
    "\n",
    "\n",
    "            n = i - pos + 2\n",
    "            if ngram in self.ngrams_dict_list[i - pos]:\n",
    "#                 print(ngram, self.ngrams_dict_list[i - pos][ngram])\n",
    "                features[f\"{n}-gram-{suffix}\"] = int(self.ngrams_dict_list[i - pos][ngram])\n",
    "#             else:\n",
    "#                 features[f\"{n}-gram\"] = 0\n",
    "\n",
    "            i += 1"
   ]
  },
  {
   "cell_type": "code",
   "execution_count": 206,
   "metadata": {},
   "outputs": [],
   "source": [
    "ngram_crf_classifier = NGramRunOnSentenceCRFClassifier(ngrams_dict_list)"
   ]
  },
  {
   "cell_type": "code",
   "execution_count": 207,
   "metadata": {},
   "outputs": [],
   "source": [
    "ngram_crf_classifier.fit(X_train, y_train)"
   ]
  },
  {
   "cell_type": "code",
   "execution_count": 208,
   "metadata": {},
   "outputs": [],
   "source": [
    "y_pred = ngram_crf_classifier.predict(X_test)"
   ]
  },
  {
   "cell_type": "code",
   "execution_count": 209,
   "metadata": {},
   "outputs": [
    {
     "name": "stdout",
     "output_type": "stream",
     "text": [
      "              precision    recall  f1-score   support\n",
      "\n",
      "       False       0.97      1.00      0.99     32994\n",
      "        True       0.00      0.00      0.00       919\n",
      "\n",
      "    accuracy                           0.97     33913\n",
      "   macro avg       0.49      0.50      0.49     33913\n",
      "weighted avg       0.95      0.97      0.96     33913\n",
      "\n"
     ]
    }
   ],
   "source": [
    "report = Metric.calc_classification_report(y_test, y_pred)\n",
    "print(report)"
   ]
  },
  {
   "cell_type": "markdown",
   "metadata": {},
   "source": [
    "As we can see addinfg ngram occurences as a features did not improved accuracy, which was not expected. Probably there is sentences which has end of word where n-gram exist in this dictionary."
   ]
  },
  {
   "cell_type": "markdown",
   "metadata": {},
   "source": [
    "#### Add part of speech as features"
   ]
  },
  {
   "cell_type": "code",
   "execution_count": 213,
   "metadata": {},
   "outputs": [],
   "source": [
    "import nltk"
   ]
  },
  {
   "cell_type": "code",
   "execution_count": 240,
   "metadata": {},
   "outputs": [],
   "source": [
    "class POSRunOnSentenceCRFClassifier(RunOnSentenceCRFClassifier):\n",
    "    def __init__(self):\n",
    "        super(POSRunOnSentenceCRFClassifier, self).__init__()\n",
    "        \n",
    "    def sent2features(self, sent):\n",
    "        result = []\n",
    "        pos_tags = nltk.pos_tag(sent)\n",
    "        assert len(pos_tags) == len(sent)\n",
    "        for i in range(0, len(sent)):\n",
    "            features = self.word2features(sent, i)\n",
    "            features['pos-tag'] = pos_tags[i][1]\n",
    "            result.append(features)\n",
    "            \n",
    "        return result\n"
   ]
  },
  {
   "cell_type": "code",
   "execution_count": 241,
   "metadata": {},
   "outputs": [],
   "source": [
    "pos_tag_crf_classifier = POSRunOnSentenceCRFClassifier()"
   ]
  },
  {
   "cell_type": "code",
   "execution_count": 242,
   "metadata": {},
   "outputs": [],
   "source": [
    "pos_tag_crf_classifier.fit(X_train, y_train)"
   ]
  },
  {
   "cell_type": "code",
   "execution_count": 243,
   "metadata": {},
   "outputs": [],
   "source": [
    "y_pred = pos_tag_crf_classifier.predict(X_test)"
   ]
  },
  {
   "cell_type": "code",
   "execution_count": 244,
   "metadata": {},
   "outputs": [
    {
     "name": "stdout",
     "output_type": "stream",
     "text": [
      "              precision    recall  f1-score   support\n",
      "\n",
      "       False       1.00      1.00      1.00     32994\n",
      "        True       0.92      0.83      0.87       919\n",
      "\n",
      "    accuracy                           0.99     33913\n",
      "   macro avg       0.96      0.92      0.94     33913\n",
      "weighted avg       0.99      0.99      0.99     33913\n",
      "\n"
     ]
    }
   ],
   "source": [
    "report = Metric.calc_classification_report(y_test, y_pred)\n",
    "print(report)"
   ]
  },
  {
   "cell_type": "markdown",
   "metadata": {},
   "source": [
    "#### Fine-tune crf "
   ]
  },
  {
   "cell_type": "code",
   "execution_count": 254,
   "metadata": {},
   "outputs": [],
   "source": [
    "#TOOD: provide "
   ]
  },
  {
   "cell_type": "markdown",
   "metadata": {},
   "source": [
    "### Test the best result on available test corpus"
   ]
  },
  {
   "cell_type": "code",
   "execution_count": 245,
   "metadata": {},
   "outputs": [],
   "source": [
    "test_file = \"../../../tasks/06-language-as-sequence/run-on-test.json\""
   ]
  },
  {
   "cell_type": "code",
   "execution_count": 246,
   "metadata": {},
   "outputs": [],
   "source": [
    "test_data = load_json(test_file)"
   ]
  },
  {
   "cell_type": "code",
   "execution_count": 247,
   "metadata": {},
   "outputs": [],
   "source": [
    "X_test_etalon, y_test_etalon = split_dataset_into_X_and_y(test_data)"
   ]
  },
  {
   "cell_type": "code",
   "execution_count": 252,
   "metadata": {},
   "outputs": [],
   "source": [
    "y_pred_etalon = run_on_sent_crf_classifier.predict(X_test_etalon)"
   ]
  },
  {
   "cell_type": "code",
   "execution_count": 253,
   "metadata": {},
   "outputs": [
    {
     "name": "stdout",
     "output_type": "stream",
     "text": [
      "              precision    recall  f1-score   support\n",
      "\n",
      "       False       0.98      1.00      0.99      4542\n",
      "        True       0.80      0.41      0.54       155\n",
      "\n",
      "    accuracy                           0.98      4697\n",
      "   macro avg       0.89      0.70      0.76      4697\n",
      "weighted avg       0.97      0.98      0.97      4697\n",
      "\n"
     ]
    }
   ],
   "source": [
    "report_etalon = calc_classification_report(y_test_etalon, y_pred_etalon)\n",
    "print(report_etalon)"
   ]
  }
 ],
 "metadata": {
  "kernelspec": {
   "display_name": "Python 3",
   "language": "python",
   "name": "python3"
  },
  "language_info": {
   "codemirror_mode": {
    "name": "ipython",
    "version": 3
   },
   "file_extension": ".py",
   "mimetype": "text/x-python",
   "name": "python",
   "nbconvert_exporter": "python",
   "pygments_lexer": "ipython3",
   "version": "3.7.5"
  }
 },
 "nbformat": 4,
 "nbformat_minor": 4
}
