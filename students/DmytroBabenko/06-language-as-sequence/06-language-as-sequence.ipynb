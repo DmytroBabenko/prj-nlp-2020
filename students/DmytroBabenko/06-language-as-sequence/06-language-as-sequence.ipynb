{
 "cells": [
  {
   "cell_type": "code",
   "execution_count": 1,
   "metadata": {},
   "outputs": [],
   "source": [
    "import numpy as np\n",
    "import sklearn_crfsuite\n",
    "from sklearn.model_selection import train_test_split\n",
    "from sklearn.metrics import classification_report"
   ]
  },
  {
   "cell_type": "markdown",
   "metadata": {},
   "source": [
    "## Data"
   ]
  },
  {
   "cell_type": "markdown",
   "metadata": {},
   "source": [
    "Please see *generate-dataset.ipynb* to get information how dataset is generated. "
   ]
  },
  {
   "cell_type": "markdown",
   "metadata": {},
   "source": [
    "### Load dataset"
   ]
  },
  {
   "cell_type": "code",
   "execution_count": 2,
   "metadata": {},
   "outputs": [],
   "source": [
    "import json"
   ]
  },
  {
   "cell_type": "code",
   "execution_count": 3,
   "metadata": {},
   "outputs": [],
   "source": [
    "def load_json(file):\n",
    "    with open(file) as json_file:\n",
    "        data = json.load(json_file)\n",
    "    \n",
    "    return data"
   ]
  },
  {
   "cell_type": "code",
   "execution_count": 4,
   "metadata": {},
   "outputs": [],
   "source": [
    "train_dataset_file = \"data/brown-dataset-train.json\"\n",
    "val_dataset_file = \"data/brown-dataset-val.json\"\n",
    "test_dataset_file = \"data/brown-dataset-test.json\""
   ]
  },
  {
   "cell_type": "code",
   "execution_count": 5,
   "metadata": {},
   "outputs": [],
   "source": [
    "train_dataset = load_json(train_dataset_file)\n",
    "test_dataset = load_json(test_dataset_file)\n",
    "val_dataset = load_json(val_dataset_file)"
   ]
  },
  {
   "cell_type": "code",
   "execution_count": 6,
   "metadata": {},
   "outputs": [
    {
     "data": {
      "text/plain": [
       "15805"
      ]
     },
     "execution_count": 6,
     "metadata": {},
     "output_type": "execute_result"
    }
   ],
   "source": [
    "len(train_dataset)"
   ]
  },
  {
   "cell_type": "code",
   "execution_count": 7,
   "metadata": {},
   "outputs": [
    {
     "data": {
      "text/plain": [
       "6863"
      ]
     },
     "execution_count": 7,
     "metadata": {},
     "output_type": "execute_result"
    }
   ],
   "source": [
    "len(test_dataset)"
   ]
  },
  {
   "cell_type": "code",
   "execution_count": 8,
   "metadata": {},
   "outputs": [],
   "source": [
    "def split_dataset_into_X_and_y(dataset):\n",
    "    X = [np.array(sent)[:, 0].tolist() for sent in dataset]\n",
    "    y = [np.array(sent)[:, 1].tolist() for sent in dataset]\n",
    "\n",
    "    return X, y"
   ]
  },
  {
   "cell_type": "code",
   "execution_count": 9,
   "metadata": {},
   "outputs": [],
   "source": [
    "X_train, y_train = split_dataset_into_X_and_y(train_dataset)\n",
    "X_val, y_val = split_dataset_into_X_and_y(val_dataset)\n",
    "X_test, y_test = split_dataset_into_X_and_y(test_dataset)"
   ]
  },
  {
   "cell_type": "markdown",
   "metadata": {},
   "source": [
    "### N-Gram"
   ]
  },
  {
   "cell_type": "code",
   "execution_count": 10,
   "metadata": {},
   "outputs": [],
   "source": [
    "def read_file(file):\n",
    "    result = []\n",
    "    with open(file) as f:\n",
    "        lines = f.readlines()\n",
    "        for line in lines:\n",
    "            l = line.strip()\n",
    "            if len(l) > 0:\n",
    "                result.append(l)\n",
    "    return result"
   ]
  },
  {
   "cell_type": "code",
   "execution_count": 11,
   "metadata": {},
   "outputs": [],
   "source": [
    "def read_n_gram_file(ngram_file):\n",
    "    result = dict()\n",
    "    lines = read_file(ngram_file)\n",
    "    for line in lines:\n",
    "        line_split = line.split('\\t')\n",
    "        key = ' '.join(line_split[1:])\n",
    "        result[key] = line_split[0]\n",
    "        \n",
    "    return result"
   ]
  },
  {
   "cell_type": "code",
   "execution_count": 12,
   "metadata": {},
   "outputs": [],
   "source": [
    "def read_pos_ngram_file(pos_ngram_file):\n",
    "    ngram_dict = dict()\n",
    "    \n",
    "    ngram_str_dict = load_json(pos_ngram_file)\n",
    "    for ngram_str in ngram_str_dict:\n",
    "        ngram = tuple(ngram_str.split('_'))\n",
    "        ngram_dict[ngram] = ngram_str_dict[ngram_str]\n",
    "    \n",
    "    return ngram_dict"
   ]
  },
  {
   "cell_type": "markdown",
   "metadata": {},
   "source": [
    "Here, we use ngrams downloaded from here: https://www.ngrams.info/download_coca.asp"
   ]
  },
  {
   "cell_type": "code",
   "execution_count": 13,
   "metadata": {},
   "outputs": [],
   "source": [
    "bi_gram_dict = read_n_gram_file(\"data/w2.txt\")\n",
    "three_gram_dict = read_n_gram_file(\"data/w3.txt\")\n",
    "four_gram_dict = read_n_gram_file(\"data/w4.txt\")\n",
    "five_gram_dict = read_n_gram_file(\"data/w5.txt\")"
   ]
  },
  {
   "cell_type": "code",
   "execution_count": 14,
   "metadata": {},
   "outputs": [
    {
     "data": {
      "text/plain": [
       "1055386"
      ]
     },
     "execution_count": 14,
     "metadata": {},
     "output_type": "execute_result"
    }
   ],
   "source": [
    "len(bi_gram_dict)"
   ]
  },
  {
   "cell_type": "code",
   "execution_count": 15,
   "metadata": {},
   "outputs": [],
   "source": [
    "ngrams_dict_list = [bi_gram_dict, three_gram_dict, four_gram_dict, five_gram_dict]"
   ]
  },
  {
   "cell_type": "code",
   "execution_count": 16,
   "metadata": {},
   "outputs": [
    {
     "data": {
      "text/plain": [
       "{'a B.A. degree': '48',\n",
       " 'a B.A. in': '56',\n",
       " 'a B.S. in': '41',\n",
       " 'a BA in': '33',\n",
       " 'a babble of': '28',\n",
       " 'a babe in': '31',\n",
       " 'a baby and': '308',\n",
       " 'a baby at': '72',\n",
       " 'a baby before': '29',\n",
       " 'a baby bird': '50'}"
      ]
     },
     "execution_count": 16,
     "metadata": {},
     "output_type": "execute_result"
    }
   ],
   "source": [
    "import itertools\n",
    "dict(itertools.islice(three_gram_dict.items(), 10))"
   ]
  },
  {
   "cell_type": "markdown",
   "metadata": {},
   "source": [
    "#### pos ngram"
   ]
  },
  {
   "cell_type": "code",
   "execution_count": 17,
   "metadata": {},
   "outputs": [],
   "source": [
    "pos_bigram_dict = read_pos_ngram_file('data/pos-bigrams.json')"
   ]
  },
  {
   "cell_type": "code",
   "execution_count": 18,
   "metadata": {},
   "outputs": [
    {
     "data": {
      "text/plain": [
       "{('RB', 'NN'): 0.3909020817270625,\n",
       " ('NN', 'VBD'): 4.067077872012336,\n",
       " ('VBD', 'RB'): 2.953739398612182,\n",
       " ('RB', 'JJ'): 3.1912104857363146,\n",
       " ('DT', 'NNP'): 5.394757131842714,\n",
       " ('NNP', 'NNP'): 8.609868928296068,\n",
       " ('NNP', ','): 4.376252891287587,\n",
       " (',', 'WDT'): 0.4225134926754048,\n",
       " ('WDT', 'VBZ'): 0.6260601387818041,\n",
       " ('VBZ', 'NN'): 0.3454124903623747}"
      ]
     },
     "execution_count": 18,
     "metadata": {},
     "output_type": "execute_result"
    }
   ],
   "source": [
    "dict(itertools.islice(pos_bigram_dict.items(), 10))"
   ]
  },
  {
   "cell_type": "code",
   "execution_count": 19,
   "metadata": {},
   "outputs": [],
   "source": [
    "pos_thregram_dict = read_pos_ngram_file('data/pos-threegrams.json')"
   ]
  },
  {
   "cell_type": "code",
   "execution_count": 20,
   "metadata": {},
   "outputs": [
    {
     "data": {
      "text/plain": [
       "{('RB', 'NN', 'VBD'): 0.001166216547999018,\n",
       " ('NN', 'VBD', 'RB'): 0.04615762337343481,\n",
       " ('VBD', 'RB', 'JJ'): 0.033881659710287254,\n",
       " ('DT', 'NNP', 'NNP'): 0.13914804812177756,\n",
       " ('NNP', 'NNP', ','): 0.13037073410262706,\n",
       " ('NNP', ',', 'WDT'): 0.006506260741468205,\n",
       " (',', 'WDT', 'VBZ'): 0.010434569113675423,\n",
       " ('WDT', 'VBZ', 'NN'): 0.0015958752762091823,\n",
       " ('VBZ', 'NN', ','): 0.002332433095998036,\n",
       " ('NN', ',', 'VBZ'): 0.01853670513135281}"
      ]
     },
     "execution_count": 20,
     "metadata": {},
     "output_type": "execute_result"
    }
   ],
   "source": [
    "dict(itertools.islice(pos_thregram_dict.items(), 10))"
   ]
  },
  {
   "cell_type": "markdown",
   "metadata": {},
   "source": [
    "## Classification"
   ]
  },
  {
   "cell_type": "markdown",
   "metadata": {},
   "source": [
    "### Metric"
   ]
  },
  {
   "cell_type": "markdown",
   "metadata": {},
   "source": [
    "The main metric for this task is F1-score."
   ]
  },
  {
   "cell_type": "code",
   "execution_count": 21,
   "metadata": {},
   "outputs": [],
   "source": [
    "class Metric:\n",
    "    \n",
    "    @staticmethod\n",
    "    def calc_classification_report(y_true, y_pred):\n",
    "        y_true_flatten, y_pred_flatten = Metric.__make_y_flatten(y_true, y_pred)\n",
    "        return classification_report(y_true_flatten, y_pred_flatten)\n",
    "    \n",
    "    @staticmethod\n",
    "    def calc_f1_score_macro_for_class(y_true, y_pred, class_name):\n",
    "        y_true_flatten, y_pred_flatten = Metric.__make_y_flatten(y_true, y_pred)\n",
    "\n",
    "        f1_score = metrics.f1_score(y_true_flatten, y_pred_flatten, labels=[class_name], average='macro')\n",
    "        return f1_score\n",
    "        \n",
    "        \n",
    "    \n",
    "    @staticmethod\n",
    "    def __make_y_flatten(y_true, y_pred):\n",
    "        assert len(y_true) == len(y_pred)\n",
    "\n",
    "        y_pred_flatten, y_true_flatten = [], []\n",
    "        for i in range(0, len(y_true)):\n",
    "            y_true_flatten += y_true[i]\n",
    "            y_pred_flatten += y_pred[i]\n",
    "        \n",
    "        assert len(y_true_flatten) == len(y_pred_flatten)\n",
    "        \n",
    "        return y_true_flatten, y_pred_flatten"
   ]
  },
  {
   "cell_type": "markdown",
   "metadata": {},
   "source": [
    "## Baseline classifier"
   ]
  },
  {
   "cell_type": "code",
   "execution_count": 55,
   "metadata": {},
   "outputs": [],
   "source": [
    "class CRFClassifier:\n",
    "    def __init__(self):\n",
    "        self._crf = sklearn_crfsuite.CRF(\n",
    "            algorithm='lbfgs',\n",
    "            c1=0.4008458187620921,\n",
    "            c2=0.07271707398101489,\n",
    "            max_iterations=1000,\n",
    "            all_possible_transitions=False)        \n",
    "        \n",
    "        \n",
    "    def fit(self, X, y):\n",
    "        x_train = self.sentences2feature_matrix(X)\n",
    "        self._crf.fit(x_train, y)\n",
    "        \n",
    "    \n",
    "    def predict(self, X):\n",
    "        x_test = self.sentences2feature_matrix(X)\n",
    "        return self._crf.predict(x_test)\n",
    "\n",
    "        \n",
    "        \n",
    "    def sentences2feature_matrix(self, X_sentences):\n",
    "        return [self.sent2features(s) for s in X_sentences]\n",
    "        \n",
    "    def sent2features(self, sent):\n",
    "        return [self.word2features(sent, i) for i in range(len(sent))]\n",
    "    \n",
    "    def word2features(self, sent, pos):\n",
    "        word = sent[pos]\n",
    "\n",
    "        features = {\n",
    "            'bias': 1.0,\n",
    "            'word.lower()': word.lower(),\n",
    "            'word.isupper()': word.isupper(),\n",
    "            'word.istitle()': word.istitle(),\n",
    "            'word.isdigit()': word.isdigit(),\n",
    "        }\n",
    "        return features"
   ]
  },
  {
   "cell_type": "code",
   "execution_count": 23,
   "metadata": {},
   "outputs": [],
   "source": [
    "crf_classifier = CRFClassifier()"
   ]
  },
  {
   "cell_type": "code",
   "execution_count": 24,
   "metadata": {},
   "outputs": [],
   "source": [
    "crf_classifier.fit(X_train, y_train)"
   ]
  },
  {
   "cell_type": "code",
   "execution_count": 25,
   "metadata": {},
   "outputs": [],
   "source": [
    "y_pred = crf_classifier.predict(X_test)"
   ]
  },
  {
   "cell_type": "code",
   "execution_count": 26,
   "metadata": {},
   "outputs": [
    {
     "name": "stdout",
     "output_type": "stream",
     "text": [
      "              precision    recall  f1-score   support\n",
      "\n",
      "       False       0.97      1.00      0.98    302252\n",
      "        True       0.13      0.00      0.01      9678\n",
      "\n",
      "    accuracy                           0.97    311930\n",
      "   macro avg       0.55      0.50      0.50    311930\n",
      "weighted avg       0.94      0.97      0.95    311930\n",
      "\n"
     ]
    }
   ],
   "source": [
    "report = Metric.calc_classification_report(y_test, y_pred)\n",
    "print(report)"
   ]
  },
  {
   "cell_type": "markdown",
   "metadata": {},
   "source": [
    "## Improve baseline classifier"
   ]
  },
  {
   "cell_type": "code",
   "execution_count": 27,
   "metadata": {},
   "outputs": [],
   "source": [
    "class RunOnSentenceCRFClassifier(CRFClassifier):\n",
    "    def __init__(self):\n",
    "        super(RunOnSentenceCRFClassifier, self).__init__()\n",
    "        \n",
    "    def word2features(self, sent, pos):\n",
    "        word = sent[pos]\n",
    "\n",
    "        features = {\n",
    "            'bias': 1.0,\n",
    "            'word.lower()': word.lower(),\n",
    "            'word.isupper()': word.isupper(),\n",
    "            'word.istitle()': word.istitle(),\n",
    "            'word.isdigit()': word.isdigit(),\n",
    "        }\n",
    "        if pos > 0:\n",
    "            pass\n",
    "            word1 = sent[pos-1]\n",
    "            features.update({\n",
    "                '-1:word.lower()': word1.lower(),\n",
    "                '-1:word.istitle()': word1.istitle(),\n",
    "                '-1:word.isupper()': word1.isupper(),\n",
    "            })\n",
    "        else:\n",
    "            features['BOS'] = True\n",
    "\n",
    "        if pos < len(sent)-1:\n",
    "            word1 = sent[pos+1]\n",
    "            features.update({\n",
    "                '+1:word.lower()': word1.lower(),\n",
    "                '+1:word.istitle()': word1.istitle(),\n",
    "                '+1:word.isupper()': word1.isupper(),\n",
    "            })\n",
    "        else:\n",
    "            features['EOS'] = True\n",
    "            \n",
    "        return features\n",
    " "
   ]
  },
  {
   "cell_type": "code",
   "execution_count": 28,
   "metadata": {},
   "outputs": [],
   "source": [
    "run_on_sent_crf_classifier = RunOnSentenceCRFClassifier()"
   ]
  },
  {
   "cell_type": "code",
   "execution_count": 29,
   "metadata": {},
   "outputs": [],
   "source": [
    "run_on_sent_crf_classifier.fit(X_train, y_train)"
   ]
  },
  {
   "cell_type": "code",
   "execution_count": 30,
   "metadata": {},
   "outputs": [],
   "source": [
    "y_pred = run_on_sent_crf_classifier.predict(X_test)"
   ]
  },
  {
   "cell_type": "code",
   "execution_count": 31,
   "metadata": {},
   "outputs": [
    {
     "name": "stdout",
     "output_type": "stream",
     "text": [
      "              precision    recall  f1-score   support\n",
      "\n",
      "       False       0.98      0.99      0.99    302252\n",
      "        True       0.74      0.48      0.58      9678\n",
      "\n",
      "    accuracy                           0.98    311930\n",
      "   macro avg       0.86      0.74      0.79    311930\n",
      "weighted avg       0.98      0.98      0.98    311930\n",
      "\n"
     ]
    }
   ],
   "source": [
    "report = Metric.calc_classification_report(y_test, y_pred)\n",
    "print(report)"
   ]
  },
  {
   "cell_type": "markdown",
   "metadata": {},
   "source": [
    "As we can see, adding featurAs we can see, adding features for next and previous words improved F1-score for True class significantly.es for next and previous words improved F1-socre for True class significantlly. "
   ]
  },
  {
   "cell_type": "markdown",
   "metadata": {},
   "source": [
    "#### Add n-gram occurrences as features"
   ]
  },
  {
   "cell_type": "code",
   "execution_count": 32,
   "metadata": {},
   "outputs": [],
   "source": [
    "class NGramRunOnSentenceCRFClassifier(RunOnSentenceCRFClassifier):\n",
    "    def __init__(self, ngrams_dict_list):\n",
    "        super(NGramRunOnSentenceCRFClassifier, self).__init__()\n",
    "        self.ngrams_dict_list = ngrams_dict_list\n",
    "        \n",
    "        \n",
    "    def sent2features(self, sent):\n",
    "        result = []\n",
    "        for i in range(0, len(sent)):\n",
    "            features = self.word2features(sent, i)\n",
    "            self.__update_features_with_nagram(features, sent, i)\n",
    "            if i > 0:\n",
    "                self.__update_features_with_nagram(features, sent, i - 1, suffix=\"-1\")\n",
    "            \n",
    "            if i < len(sent) - 1:\n",
    "                self.__update_features_with_nagram(features, sent, i + 1, suffix=\"+1\")\n",
    "                \n",
    "            result.append(features)\n",
    "            \n",
    "        return result\n",
    "                \n",
    "    def __update_features_with_nagram(self, features, sent, pos, suffix=\"\"):\n",
    "        i = pos\n",
    "        while i < len(sent) - 1 and i - pos < len(self.ngrams_dict_list):\n",
    "            ngram = ' '.join(sent[pos: pos + i + 1])\n",
    "\n",
    "\n",
    "            n = i - pos + 2\n",
    "            if ngram in self.ngrams_dict_list[i - pos]:\n",
    "#                 print(ngram, self.ngrams_dict_list[i - pos][ngram])\n",
    "                features[f\"{n}-gram-{suffix}\"] = int(self.ngrams_dict_list[i - pos][ngram])\n",
    "            else:\n",
    "                features[f\"{n}-gram\"] = 0\n",
    "\n",
    "            i += 1"
   ]
  },
  {
   "cell_type": "code",
   "execution_count": 33,
   "metadata": {},
   "outputs": [],
   "source": [
    "ngram_crf_classifier = NGramRunOnSentenceCRFClassifier(ngrams_dict_list)"
   ]
  },
  {
   "cell_type": "code",
   "execution_count": 34,
   "metadata": {},
   "outputs": [],
   "source": [
    "ngram_crf_classifier.fit(X_train, y_train)"
   ]
  },
  {
   "cell_type": "code",
   "execution_count": 35,
   "metadata": {},
   "outputs": [],
   "source": [
    "y_pred = ngram_crf_classifier.predict(X_test)"
   ]
  },
  {
   "cell_type": "code",
   "execution_count": 36,
   "metadata": {},
   "outputs": [
    {
     "name": "stderr",
     "output_type": "stream",
     "text": [
      "/home/dbabenko/.local/lib/python3.7/site-packages/sklearn/metrics/_classification.py:1272: UndefinedMetricWarning: Precision and F-score are ill-defined and being set to 0.0 in labels with no predicted samples. Use `zero_division` parameter to control this behavior.\n",
      "  _warn_prf(average, modifier, msg_start, len(result))\n"
     ]
    },
    {
     "name": "stdout",
     "output_type": "stream",
     "text": [
      "              precision    recall  f1-score   support\n",
      "\n",
      "       False       0.97      1.00      0.98    302252\n",
      "        True       0.00      0.00      0.00      9678\n",
      "\n",
      "    accuracy                           0.97    311930\n",
      "   macro avg       0.48      0.50      0.49    311930\n",
      "weighted avg       0.94      0.97      0.95    311930\n",
      "\n"
     ]
    }
   ],
   "source": [
    "report = Metric.calc_classification_report(y_test, y_pred)\n",
    "print(report)"
   ]
  },
  {
   "cell_type": "markdown",
   "metadata": {},
   "source": [
    "As we can see addinfg ngram occurences as a features did not improved accuracy, which was not expected. Probably, there is sentences which has end of word where n-gram exist in this dictionary."
   ]
  },
  {
   "cell_type": "markdown",
   "metadata": {},
   "source": [
    "#### Add part of speech as features"
   ]
  },
  {
   "cell_type": "code",
   "execution_count": 37,
   "metadata": {},
   "outputs": [],
   "source": [
    "import nltk"
   ]
  },
  {
   "cell_type": "code",
   "execution_count": 38,
   "metadata": {},
   "outputs": [],
   "source": [
    "class POSRunOnSentenceCRFClassifier(RunOnSentenceCRFClassifier):\n",
    "    def __init__(self):\n",
    "        super(POSRunOnSentenceCRFClassifier, self).__init__()\n",
    "        \n",
    "    def sent2features(self, sent):\n",
    "        result = []\n",
    "        pos_tags = nltk.pos_tag(sent)\n",
    "        assert len(pos_tags) == len(sent)\n",
    "        for i in range(0, len(sent)):\n",
    "            features = self.word2features(sent, i)\n",
    "            features['pos-tag'] = pos_tags[i][1]\n",
    "            result.append(features)\n",
    "            \n",
    "        return result"
   ]
  },
  {
   "cell_type": "code",
   "execution_count": 39,
   "metadata": {},
   "outputs": [],
   "source": [
    "pos_tag_crf_classifier = POSRunOnSentenceCRFClassifier()"
   ]
  },
  {
   "cell_type": "code",
   "execution_count": 40,
   "metadata": {},
   "outputs": [],
   "source": [
    "pos_tag_crf_classifier.fit(X_train, y_train)"
   ]
  },
  {
   "cell_type": "code",
   "execution_count": 41,
   "metadata": {},
   "outputs": [],
   "source": [
    "y_pred = pos_tag_crf_classifier.predict(X_test)"
   ]
  },
  {
   "cell_type": "code",
   "execution_count": 42,
   "metadata": {},
   "outputs": [
    {
     "name": "stdout",
     "output_type": "stream",
     "text": [
      "              precision    recall  f1-score   support\n",
      "\n",
      "       False       0.98      0.99      0.99    302252\n",
      "        True       0.74      0.49      0.59      9678\n",
      "\n",
      "    accuracy                           0.98    311930\n",
      "   macro avg       0.86      0.74      0.79    311930\n",
      "weighted avg       0.98      0.98      0.98    311930\n",
      "\n"
     ]
    }
   ],
   "source": [
    "report = Metric.calc_classification_report(y_test, y_pred)\n",
    "print(report)"
   ]
  },
  {
   "cell_type": "markdown",
   "metadata": {},
   "source": [
    "Adding pos tag as features improved accuracy a little bit. "
   ]
  },
  {
   "cell_type": "markdown",
   "metadata": {},
   "source": [
    "#### Add part of speech ngram probabilities as features"
   ]
  },
  {
   "cell_type": "code",
   "execution_count": 43,
   "metadata": {},
   "outputs": [],
   "source": [
    "class POSNGramRunOnSentenceCRFClassifier(RunOnSentenceCRFClassifier):\n",
    "    def __init__(self, pos_bigram_dict, pos_threegram_dict):\n",
    "        super(POSNGramRunOnSentenceCRFClassifier, self).__init__()\n",
    "        self.pos_bigram_dict = pos_bigram_dict\n",
    "        self.pos_threegram_dict = pos_threegram_dict\n",
    "        \n",
    "    def sent2features(self, sent):\n",
    "        result = []\n",
    "        pos_tags = nltk.pos_tag(sent)\n",
    "        assert len(pos_tags) == len(sent)\n",
    "        sent_size = len(sent)\n",
    "        for i in range(0, sent_size):\n",
    "            features = self.word2features(sent, i)\n",
    "            features['pos-tag'] = pos_tags[i][1]\n",
    "            \n",
    "            if i < sent_size - 2:\n",
    "                pos_threegram = (pos_tags[i][1], pos_tags[i+1][1], pos_tags[i+2][1])\n",
    "                \n",
    "                if pos_threegram in self.pos_threegram_dict:\n",
    "                    features['pos-threegram-prob'] = self.pos_threegram_dict[pos_threegram]\n",
    "                else:\n",
    "                    features['pos-threegram-prob'] = 0\n",
    "                    \n",
    "            if i < sent_size - 1:\n",
    "                pos_bigram = (pos_tags[i][1], pos_tags[i+1][1])\n",
    "                \n",
    "                if pos_bigram in self.pos_bigram_dict:\n",
    "                    features['pos-bigram-prob'] = self.pos_bigram_dict[pos_bigram]\n",
    "                else:\n",
    "                    features['pos-bigram-prob'] = 0\n",
    "            \n",
    "            \n",
    "            result.append(features)\n",
    "            \n",
    "            \n",
    "            \n",
    "            \n",
    "        return result"
   ]
  },
  {
   "cell_type": "code",
   "execution_count": 56,
   "metadata": {},
   "outputs": [],
   "source": [
    "pos_ngram_crf_classifier = POSNGramRunOnSentenceCRFClassifier(pos_bigram_dict, pos_thregram_dict)"
   ]
  },
  {
   "cell_type": "code",
   "execution_count": 61,
   "metadata": {},
   "outputs": [],
   "source": [
    "pos_ngram_crf_classifier.fit(X_train, y_train)"
   ]
  },
  {
   "cell_type": "code",
   "execution_count": 62,
   "metadata": {},
   "outputs": [],
   "source": [
    "y_pred = pos_ngram_crf_classifier.predict(X_test)"
   ]
  },
  {
   "cell_type": "code",
   "execution_count": 63,
   "metadata": {},
   "outputs": [
    {
     "name": "stdout",
     "output_type": "stream",
     "text": [
      "              precision    recall  f1-score   support\n",
      "\n",
      "       False       0.98      0.99      0.99    302252\n",
      "        True       0.73      0.49      0.59      9678\n",
      "\n",
      "    accuracy                           0.98    311930\n",
      "   macro avg       0.86      0.74      0.79    311930\n",
      "weighted avg       0.98      0.98      0.98    311930\n",
      "\n"
     ]
    }
   ],
   "source": [
    "report = Metric.calc_classification_report(y_test, y_pred)\n",
    "print(report)"
   ]
  },
  {
   "cell_type": "markdown",
   "metadata": {},
   "source": [
    "####  Hyperparameter Optimization\n"
   ]
  },
  {
   "cell_type": "code",
   "execution_count": 48,
   "metadata": {},
   "outputs": [],
   "source": [
    "from sklearn import metrics\n",
    "from sklearn.model_selection import RandomizedSearchCV\n",
    "import scipy"
   ]
  },
  {
   "cell_type": "code",
   "execution_count": 49,
   "metadata": {},
   "outputs": [],
   "source": [
    "def score_func(y, y_pred):\n",
    "    return Metric.calc_f1_score_macro_for_class(y, y_pred, class_name='True')"
   ]
  },
  {
   "cell_type": "code",
   "execution_count": 50,
   "metadata": {},
   "outputs": [],
   "source": [
    "# define fixed parameters and parameters to search\n",
    "crf = sklearn_crfsuite.CRF(\n",
    "    algorithm='lbfgs',\n",
    "    max_iterations=100,\n",
    "    all_possible_transitions=True\n",
    ")\n",
    "params_space = {\n",
    "    'c1': scipy.stats.expon(scale=0.5),\n",
    "    'c2': scipy.stats.expon(scale=0.05),\n",
    "}\n",
    "\n",
    "# use the same metric for evaluation\n",
    "f1_scorer = metrics.make_scorer(score_func)\n",
    "\n"
   ]
  },
  {
   "cell_type": "code",
   "execution_count": 51,
   "metadata": {},
   "outputs": [],
   "source": [
    "X_features_val = pos_ngram_crf_classifier.sentences2feature_matrix(X_val)"
   ]
  },
  {
   "cell_type": "code",
   "execution_count": 52,
   "metadata": {},
   "outputs": [
    {
     "name": "stdout",
     "output_type": "stream",
     "text": [
      "Fitting 5 folds for each of 50 candidates, totalling 250 fits\n"
     ]
    },
    {
     "name": "stderr",
     "output_type": "stream",
     "text": [
      "/home/dbabenko/.local/lib/python3.7/site-packages/sklearn/base.py:197: FutureWarning: From version 0.24, get_params will raise an AttributeError if a parameter cannot be retrieved as an instance attribute. Previously it would return None.\n",
      "  FutureWarning)\n",
      "[Parallel(n_jobs=-1)]: Using backend LokyBackend with 6 concurrent workers.\n",
      "[Parallel(n_jobs=-1)]: Done  38 tasks      | elapsed:  4.0min\n",
      "[Parallel(n_jobs=-1)]: Done 188 tasks      | elapsed: 19.4min\n",
      "[Parallel(n_jobs=-1)]: Done 250 out of 250 | elapsed: 25.8min finished\n"
     ]
    },
    {
     "name": "stdout",
     "output_type": "stream",
     "text": [
      "CPU times: user 25min 36s, sys: 13.4 s, total: 25min 49s\n",
      "Wall time: 25min 57s\n"
     ]
    },
    {
     "data": {
      "text/plain": [
       "RandomizedSearchCV(cv=5, error_score=nan,\n",
       "                   estimator=CRF(algorithm='lbfgs', all_possible_states=None,\n",
       "                                 all_possible_transitions=True, averaging=None,\n",
       "                                 c=None, c1=None, c2=None,\n",
       "                                 calibration_candidates=None,\n",
       "                                 calibration_eta=None,\n",
       "                                 calibration_max_trials=None,\n",
       "                                 calibration_rate=None,\n",
       "                                 calibration_samples=None, delta=None,\n",
       "                                 epsilon=None, error_sensitive=None, gamma=None,\n",
       "                                 keep_...\n",
       "                                 trainer_cls=None, variance=None,\n",
       "                                 verbose=False),\n",
       "                   iid='deprecated', n_iter=50, n_jobs=-1,\n",
       "                   param_distributions={'c1': <scipy.stats._distn_infrastructure.rv_frozen object at 0x7f7e6de951d0>,\n",
       "                                        'c2': <scipy.stats._distn_infrastructure.rv_frozen object at 0x7f7e6de95410>},\n",
       "                   pre_dispatch='2*n_jobs', random_state=None, refit=True,\n",
       "                   return_train_score=False, scoring=make_scorer(score_func),\n",
       "                   verbose=1)"
      ]
     },
     "execution_count": 52,
     "metadata": {},
     "output_type": "execute_result"
    }
   ],
   "source": [
    "%%time\n",
    "# search\n",
    "rs = RandomizedSearchCV(crf, params_space,\n",
    "                        cv=5,\n",
    "                        verbose=1,\n",
    "                        n_jobs=-1,\n",
    "                        n_iter=50,\n",
    "                        scoring=f1_scorer)\n",
    "rs.fit(X_features_val, y_val)"
   ]
  },
  {
   "cell_type": "code",
   "execution_count": 53,
   "metadata": {},
   "outputs": [
    {
     "name": "stdout",
     "output_type": "stream",
     "text": [
      "best params: {'c1': 0.4008458187620921, 'c2': 0.07271707398101489}\n",
      "best CV score: 0.5267626388975064\n",
      "model size: 0.52M\n"
     ]
    }
   ],
   "source": [
    "# crf = rs.best_estimator_\n",
    "print('best params:', rs.best_params_)\n",
    "print('best CV score:', rs.best_score_)\n",
    "print('model size: {:0.2f}M'.format(rs.best_estimator_.size_ / 1000000))"
   ]
  },
  {
   "cell_type": "markdown",
   "metadata": {},
   "source": [
    "### Test the best result on available test corpus"
   ]
  },
  {
   "cell_type": "code",
   "execution_count": 57,
   "metadata": {},
   "outputs": [],
   "source": [
    "test_file = \"../../../tasks/06-language-as-sequence/run-on-test.json\""
   ]
  },
  {
   "cell_type": "code",
   "execution_count": 58,
   "metadata": {},
   "outputs": [],
   "source": [
    "test_data = load_json(test_file)"
   ]
  },
  {
   "cell_type": "code",
   "execution_count": 64,
   "metadata": {},
   "outputs": [],
   "source": [
    "X_test_etalon, y_test_etalon = split_dataset_into_X_and_y(test_data)"
   ]
  },
  {
   "cell_type": "code",
   "execution_count": 65,
   "metadata": {},
   "outputs": [],
   "source": [
    "y_pred_etalon = pos_ngram_crf_classifier.predict(X_test_etalon)"
   ]
  },
  {
   "cell_type": "code",
   "execution_count": 66,
   "metadata": {},
   "outputs": [
    {
     "name": "stdout",
     "output_type": "stream",
     "text": [
      "              precision    recall  f1-score   support\n",
      "\n",
      "       False       0.98      0.99      0.99      4542\n",
      "        True       0.77      0.51      0.61       155\n",
      "\n",
      "    accuracy                           0.98      4697\n",
      "   macro avg       0.88      0.75      0.80      4697\n",
      "weighted avg       0.98      0.98      0.98      4697\n",
      "\n"
     ]
    }
   ],
   "source": [
    "report_etalon = Metric.calc_classification_report(y_test_etalon, y_pred_etalon)\n",
    "print(report_etalon)"
   ]
  },
  {
   "cell_type": "markdown",
   "metadata": {},
   "source": [
    "The F1-score for test corpus is 0.61"
   ]
  },
  {
   "cell_type": "code",
   "execution_count": null,
   "metadata": {},
   "outputs": [],
   "source": []
  }
 ],
 "metadata": {
  "kernelspec": {
   "display_name": "Python 3",
   "language": "python",
   "name": "python3"
  },
  "language_info": {
   "codemirror_mode": {
    "name": "ipython",
    "version": 3
   },
   "file_extension": ".py",
   "mimetype": "text/x-python",
   "name": "python",
   "nbconvert_exporter": "python",
   "pygments_lexer": "ipython3",
   "version": "3.7.5"
  }
 },
 "nbformat": 4,
 "nbformat_minor": 4
}
