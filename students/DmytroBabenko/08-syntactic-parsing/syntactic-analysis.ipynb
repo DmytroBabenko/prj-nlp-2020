{
 "cells": [
  {
   "cell_type": "code",
   "execution_count": 1,
   "metadata": {},
   "outputs": [],
   "source": [
    "from collections import OrderedDict\n",
    "from conllu import parse\n",
    "from enum import Enum"
   ]
  },
  {
   "cell_type": "code",
   "execution_count": 2,
   "metadata": {},
   "outputs": [],
   "source": [
    "import warnings\n",
    "warnings.filterwarnings('ignore')"
   ]
  },
  {
   "cell_type": "markdown",
   "metadata": {},
   "source": [
    "### 1. Проглянути дані"
   ]
  },
  {
   "cell_type": "code",
   "execution_count": 3,
   "metadata": {},
   "outputs": [],
   "source": [
    "def read_file_content(file):\n",
    "    with open(file, \"r\") as f:\n",
    "        data = f.read()\n",
    "        return data"
   ]
  },
  {
   "cell_type": "code",
   "execution_count": 4,
   "metadata": {},
   "outputs": [],
   "source": [
    "def read_conllu_data(file):\n",
    "    data = read_file_content(file)\n",
    "    trees = parse(data)\n",
    "    return trees"
   ]
  },
  {
   "cell_type": "code",
   "execution_count": 5,
   "metadata": {},
   "outputs": [
    {
     "name": "stdout",
     "output_type": "stream",
     "text": [
      "CONTRIBUTING.md  LICENSE.txt  stats.xml\t\t   uk_iu-ud-test.conllu\r\n",
      "eval.log\t README.md    uk_iu-ud-dev.conllu  uk_iu-ud-train.conllu\r\n"
     ]
    }
   ],
   "source": [
    "!ls ../../../../UD_Ukrainian-IU"
   ]
  },
  {
   "cell_type": "code",
   "execution_count": 6,
   "metadata": {},
   "outputs": [],
   "source": [
    "PATH = \"../../../../UD_Ukrainian-IU\""
   ]
  },
  {
   "cell_type": "code",
   "execution_count": 7,
   "metadata": {},
   "outputs": [],
   "source": [
    "train_trees = read_conllu_data(PATH + \"/uk_iu-ud-train.conllu\")\n",
    "dev_trees = read_conllu_data(PATH + \"/uk_iu-ud-dev.conllu\")\n",
    "test_trees = read_conllu_data(PATH + \"/uk_iu-ud-test.conllu\")"
   ]
  },
  {
   "cell_type": "code",
   "execution_count": 8,
   "metadata": {},
   "outputs": [
    {
     "name": "stdout",
     "output_type": "stream",
     "text": [
      "У <-- домі\n",
      "домі <-- була\n",
      "римського <-- патриція\n",
      "патриція <-- домі\n",
      "Руфіна <-- патриція\n",
      "була <-- root\n",
      "прегарна <-- фреска\n",
      "фреска <-- була\n",
      ", <-- зображення\n",
      "зображення <-- фреска\n",
      "Венери <-- зображення\n",
      "та <-- Адоніса\n",
      "Адоніса <-- Венери\n",
      ". <-- була\n"
     ]
    }
   ],
   "source": [
    "for node in train_trees[0]:\n",
    "    head = node[\"head\"]\n",
    "    print(\"{} <-- {}\".format(node[\"form\"],\n",
    "                             train_trees[0][head - 1][\"form\"]\n",
    "                             if head > 0 else \"root\"))"
   ]
  },
  {
   "cell_type": "code",
   "execution_count": 9,
   "metadata": {},
   "outputs": [
    {
     "data": {
      "text/plain": [
       "OrderedDict([('Case', 'Loc')])"
      ]
     },
     "execution_count": 9,
     "metadata": {},
     "output_type": "execute_result"
    }
   ],
   "source": [
    "train_trees[0][0]['feats']"
   ]
  },
  {
   "cell_type": "markdown",
   "metadata": {},
   "source": [
    "### 2. Побудувати статичного оракула, який визначає послідовність дій для побудови дерева"
   ]
  },
  {
   "cell_type": "code",
   "execution_count": 10,
   "metadata": {},
   "outputs": [],
   "source": [
    "from enum import Enum\n",
    "class Actions(str, Enum):\n",
    "    SHIFT = \"shift\"\n",
    "    REDUCE = \"reduce\"\n",
    "    RIGHT = \"right\"\n",
    "    LEFT = \"left\""
   ]
  },
  {
   "cell_type": "code",
   "execution_count": 11,
   "metadata": {},
   "outputs": [],
   "source": [
    "ROOT = OrderedDict([('id', 0), ('form', 'ROOT'), ('lemma', 'ROOT'), ('upostag', 'ROOT'),\n",
    "                    ('xpostag', None), ('feats', None), ('head', None), ('deprel', None),\n",
    "                    ('deps', None), ('misc', None)])"
   ]
  },
  {
   "cell_type": "code",
   "execution_count": 12,
   "metadata": {},
   "outputs": [],
   "source": [
    "def has_relation(node_from, node_to):\n",
    "    if node_from['head'] == node_to['id']:\n",
    "        return True\n",
    "    \n",
    "    return False"
   ]
  },
  {
   "cell_type": "code",
   "execution_count": 13,
   "metadata": {},
   "outputs": [],
   "source": [
    "def oracle(stack, top_queue, relations):\n",
    "    \"\"\"\n",
    "    Make a decision on the right action to do.\n",
    "    \"\"\"\n",
    "    top_stack = stack[-1]\n",
    "\n",
    "    # check if both stack and queue are non-empty\n",
    "    if top_stack and not top_queue:\n",
    "        return Actions.REDUCE\n",
    "    # check if there are any clear dependencies\n",
    "    elif top_queue[\"head\"] == top_stack[\"id\"]:\n",
    "        return Actions.RIGHT\n",
    "    elif top_stack[\"head\"] == top_queue[\"id\"]:\n",
    "        return Actions.LEFT\n",
    "    # check if we can reduce the top of the stack\n",
    "    elif top_stack[\"id\"] in [i[0] for i in relations] and \\\n",
    "         (top_queue[\"head\"] < top_stack[\"id\"] or \\\n",
    "          [s for s in stack if s[\"head\"] == top_queue[\"id\"]]):\n",
    "        return Actions.REDUCE\n",
    "    # default option\n",
    "    else:\n",
    "        return Actions.SHIFT"
   ]
  },
  {
   "cell_type": "code",
   "execution_count": 16,
   "metadata": {},
   "outputs": [],
   "source": [
    "def trace_actions(tree):\n",
    "    \"\"\"\n",
    "    Try out the oracle to verify it's returning the right actions.\n",
    "    \"\"\"\n",
    "    features = []\n",
    "    stack, queue, relations = [ROOT], tree[:], []\n",
    "    actions = []\n",
    "    while queue or stack:        \n",
    "        action = oracle(stack if len(stack) > 0 else None,\n",
    "                        queue[0] if len(queue) > 0 else None,\n",
    "                        relations)\n",
    "        actions.append(action)\n",
    "        if action == Actions.SHIFT:\n",
    "            stack.append(queue.pop(0))\n",
    "        elif action == Actions.REDUCE:\n",
    "            stack.pop()\n",
    "        elif action == Actions.LEFT:\n",
    "            relations.append((stack[-1][\"id\"], queue[0][\"id\"]))\n",
    "            stack.pop()\n",
    "        elif action == Actions.RIGHT:\n",
    "            relations.append((queue[0][\"id\"], stack[-1][\"id\"]))\n",
    "            stack.append(queue.pop(0))\n",
    "        else:\n",
    "            print(\"Unknown action.\")\n",
    "    return actions"
   ]
  },
  {
   "cell_type": "code",
   "execution_count": 17,
   "metadata": {},
   "outputs": [
    {
     "data": {
      "text/plain": [
       "[<Actions.SHIFT: 'shift'>,\n",
       " <Actions.LEFT: 'left'>,\n",
       " <Actions.SHIFT: 'shift'>,\n",
       " <Actions.SHIFT: 'shift'>,\n",
       " <Actions.LEFT: 'left'>,\n",
       " <Actions.RIGHT: 'right'>,\n",
       " <Actions.RIGHT: 'right'>,\n",
       " <Actions.REDUCE: 'reduce'>,\n",
       " <Actions.REDUCE: 'reduce'>,\n",
       " <Actions.LEFT: 'left'>,\n",
       " <Actions.RIGHT: 'right'>,\n",
       " <Actions.SHIFT: 'shift'>,\n",
       " <Actions.LEFT: 'left'>,\n",
       " <Actions.RIGHT: 'right'>,\n",
       " <Actions.SHIFT: 'shift'>,\n",
       " <Actions.LEFT: 'left'>,\n",
       " <Actions.RIGHT: 'right'>,\n",
       " <Actions.RIGHT: 'right'>,\n",
       " <Actions.SHIFT: 'shift'>,\n",
       " <Actions.LEFT: 'left'>,\n",
       " <Actions.RIGHT: 'right'>,\n",
       " <Actions.REDUCE: 'reduce'>,\n",
       " <Actions.REDUCE: 'reduce'>,\n",
       " <Actions.REDUCE: 'reduce'>,\n",
       " <Actions.REDUCE: 'reduce'>,\n",
       " <Actions.RIGHT: 'right'>,\n",
       " <Actions.REDUCE: 'reduce'>,\n",
       " <Actions.REDUCE: 'reduce'>,\n",
       " <Actions.REDUCE: 'reduce'>]"
      ]
     },
     "execution_count": 17,
     "metadata": {},
     "output_type": "execute_result"
    }
   ],
   "source": [
    "trace_actions(train_trees[0])"
   ]
  },
  {
   "cell_type": "markdown",
   "metadata": {},
   "source": [
    "### 3. Виділити ознаки "
   ]
  },
  {
   "cell_type": "code",
   "execution_count": 18,
   "metadata": {},
   "outputs": [
    {
     "data": {
      "image/png": "[encoded data removed]",
      "text/plain": [
       "<IPython.core.display.Image object>"
      ]
     },
     "execution_count": 18,
     "metadata": {},
     "output_type": "execute_result"
    }
   ],
   "source": [
    "from IPython.display import Image\n",
    "Image(filename='features.png') "
   ]
  },
  {
   "cell_type": "code",
   "execution_count": 19,
   "metadata": {},
   "outputs": [],
   "source": [
    "def create_features(stack, buf):\n",
    "    fetaures = dict()\n",
    "    if len(stack) > 0:\n",
    "        fetaures['s-0-form'] = stack[-1]['form']\n",
    "        fetaures['s-0-lemma'] = stack[-1]['lemma']\n",
    "        fetaures['s-0-postag'] = stack[-1]['upostag']\n",
    "#         fetaures['s-0-feats'] = stack[0]['feats']\n",
    "\n",
    "        \n",
    "        if len(stack) > 1:\n",
    "            fetaures['s-1-postag'] = stack[-2]['upostag']\n",
    "            \n",
    "    if len(buf) > 0:\n",
    "        fetaures['b-0-form'] = buf[0]['form']\n",
    "        fetaures['b-0-lemma'] = buf[0]['lemma']\n",
    "        fetaures['b-0-postag'] = buf[0]['upostag']\n",
    "#         fetaures['b-0-feats'] = buf[0]['feats']\n",
    "    \n",
    "    if len(buf) > 1:\n",
    "        fetaures['b-1-form'] = buf[1]['form']\n",
    "        fetaures['b-1-postag'] = buf[1]['upostag']\n",
    "    \n",
    "    if len(buf) > 2:\n",
    "        fetaures['b-2-postag'] = buf[2]['upostag']\n",
    "    \n",
    "    if len(buf) > 3:\n",
    "        fetaures['b-3-postag'] = buf[3]['upostag']\n",
    "\n",
    "\n",
    "    return fetaures"
   ]
  },
  {
   "cell_type": "markdown",
   "metadata": {},
   "source": [
    "### 4. Дістати тренувальні та тестувальні дані"
   ]
  },
  {
   "cell_type": "markdown",
   "metadata": {},
   "source": [
    "* Написати функцію, яка дістає з дерева набір переходів та набір ознак для цих переходів."
   ]
  },
  {
   "cell_type": "code",
   "execution_count": 23,
   "metadata": {},
   "outputs": [],
   "source": [
    "def get_data(tree, feature_creator):\n",
    "    features, labels = [], []\n",
    "    stack, queue, relations = [ROOT], tree[:], []\n",
    "\n",
    "    while queue or stack:\n",
    "        action = oracle(stack if len(stack) > 0 else None,\n",
    "                        queue[0] if len(queue) > 0 else None,\n",
    "                        relations)\n",
    "        features.append(feature_creator(stack, queue))\n",
    "        labels.append(action.value)\n",
    "        if action == Actions.SHIFT:\n",
    "            stack.append(queue.pop(0))\n",
    "        elif action == Actions.REDUCE:\n",
    "            stack.pop()\n",
    "        elif action == Actions.LEFT:\n",
    "            relations.append((stack[-1][\"id\"], queue[0][\"id\"]))\n",
    "            stack.pop()\n",
    "        elif action == Actions.RIGHT:\n",
    "            relations.append((queue[0][\"id\"], stack[-1][\"id\"]))\n",
    "            stack.append(queue.pop(0))\n",
    "        else:\n",
    "            print(\"Unknown action.\")\n",
    "    return features, labels\n"
   ]
  },
  {
   "cell_type": "code",
   "execution_count": 24,
   "metadata": {},
   "outputs": [],
   "source": [
    "def get_data_for_trees(trees, feature_creator):\n",
    "    features_list, labels_list = [], []\n",
    "    for i in range(0, len(train_trees)):\n",
    "        features, labels = get_data([t for t in train_trees[i] if type(t['id']) == int], feature_creator)\n",
    "        features_list.append(features)\n",
    "        labels_list.append(labels)\n",
    "        \n",
    "    return features_list, labels_list"
   ]
  },
  {
   "cell_type": "code",
   "execution_count": 25,
   "metadata": {},
   "outputs": [],
   "source": [
    "features, labels = get_data(train_trees[0], create_features)"
   ]
  },
  {
   "cell_type": "code",
   "execution_count": 26,
   "metadata": {},
   "outputs": [
    {
     "data": {
      "text/plain": [
       "[{'s-0-form': 'ROOT',\n",
       "  's-0-lemma': 'ROOT',\n",
       "  's-0-postag': 'ROOT',\n",
       "  'b-0-form': 'У',\n",
       "  'b-0-lemma': 'у',\n",
       "  'b-0-postag': 'ADP',\n",
       "  'b-1-form': 'домі',\n",
       "  'b-1-postag': 'NOUN',\n",
       "  'b-2-postag': 'ADJ',\n",
       "  'b-3-postag': 'NOUN'},\n",
       " {'s-0-form': 'У',\n",
       "  's-0-lemma': 'у',\n",
       "  's-0-postag': 'ADP',\n",
       "  's-1-postag': 'ROOT',\n",
       "  'b-0-form': 'домі',\n",
       "  'b-0-lemma': 'дім',\n",
       "  'b-0-postag': 'NOUN',\n",
       "  'b-1-form': 'римського',\n",
       "  'b-1-postag': 'ADJ',\n",
       "  'b-2-postag': 'NOUN',\n",
       "  'b-3-postag': 'PROPN'},\n",
       " {'s-0-form': 'ROOT',\n",
       "  's-0-lemma': 'ROOT',\n",
       "  's-0-postag': 'ROOT',\n",
       "  'b-0-form': 'домі',\n",
       "  'b-0-lemma': 'дім',\n",
       "  'b-0-postag': 'NOUN',\n",
       "  'b-1-form': 'римського',\n",
       "  'b-1-postag': 'ADJ',\n",
       "  'b-2-postag': 'NOUN',\n",
       "  'b-3-postag': 'PROPN'},\n",
       " {'s-0-form': 'домі',\n",
       "  's-0-lemma': 'дім',\n",
       "  's-0-postag': 'NOUN',\n",
       "  's-1-postag': 'ROOT',\n",
       "  'b-0-form': 'римського',\n",
       "  'b-0-lemma': 'римський',\n",
       "  'b-0-postag': 'ADJ',\n",
       "  'b-1-form': 'патриція',\n",
       "  'b-1-postag': 'NOUN',\n",
       "  'b-2-postag': 'PROPN',\n",
       "  'b-3-postag': 'VERB'},\n",
       " {'s-0-form': 'римського',\n",
       "  's-0-lemma': 'римський',\n",
       "  's-0-postag': 'ADJ',\n",
       "  's-1-postag': 'NOUN',\n",
       "  'b-0-form': 'патриція',\n",
       "  'b-0-lemma': 'патрицій',\n",
       "  'b-0-postag': 'NOUN',\n",
       "  'b-1-form': 'Руфіна',\n",
       "  'b-1-postag': 'PROPN',\n",
       "  'b-2-postag': 'VERB',\n",
       "  'b-3-postag': 'ADJ'},\n",
       " {'s-0-form': 'домі',\n",
       "  's-0-lemma': 'дім',\n",
       "  's-0-postag': 'NOUN',\n",
       "  's-1-postag': 'ROOT',\n",
       "  'b-0-form': 'патриція',\n",
       "  'b-0-lemma': 'патрицій',\n",
       "  'b-0-postag': 'NOUN',\n",
       "  'b-1-form': 'Руфіна',\n",
       "  'b-1-postag': 'PROPN',\n",
       "  'b-2-postag': 'VERB',\n",
       "  'b-3-postag': 'ADJ'},\n",
       " {'s-0-form': 'патриція',\n",
       "  's-0-lemma': 'патрицій',\n",
       "  's-0-postag': 'NOUN',\n",
       "  's-1-postag': 'NOUN',\n",
       "  'b-0-form': 'Руфіна',\n",
       "  'b-0-lemma': 'Руфін',\n",
       "  'b-0-postag': 'PROPN',\n",
       "  'b-1-form': 'була',\n",
       "  'b-1-postag': 'VERB',\n",
       "  'b-2-postag': 'ADJ',\n",
       "  'b-3-postag': 'NOUN'},\n",
       " {'s-0-form': 'Руфіна',\n",
       "  's-0-lemma': 'Руфін',\n",
       "  's-0-postag': 'PROPN',\n",
       "  's-1-postag': 'NOUN',\n",
       "  'b-0-form': 'була',\n",
       "  'b-0-lemma': 'бути',\n",
       "  'b-0-postag': 'VERB',\n",
       "  'b-1-form': 'прегарна',\n",
       "  'b-1-postag': 'ADJ',\n",
       "  'b-2-postag': 'NOUN',\n",
       "  'b-3-postag': 'PUNCT'},\n",
       " {'s-0-form': 'патриція',\n",
       "  's-0-lemma': 'патрицій',\n",
       "  's-0-postag': 'NOUN',\n",
       "  's-1-postag': 'NOUN',\n",
       "  'b-0-form': 'була',\n",
       "  'b-0-lemma': 'бути',\n",
       "  'b-0-postag': 'VERB',\n",
       "  'b-1-form': 'прегарна',\n",
       "  'b-1-postag': 'ADJ',\n",
       "  'b-2-postag': 'NOUN',\n",
       "  'b-3-postag': 'PUNCT'},\n",
       " {'s-0-form': 'домі',\n",
       "  's-0-lemma': 'дім',\n",
       "  's-0-postag': 'NOUN',\n",
       "  's-1-postag': 'ROOT',\n",
       "  'b-0-form': 'була',\n",
       "  'b-0-lemma': 'бути',\n",
       "  'b-0-postag': 'VERB',\n",
       "  'b-1-form': 'прегарна',\n",
       "  'b-1-postag': 'ADJ',\n",
       "  'b-2-postag': 'NOUN',\n",
       "  'b-3-postag': 'PUNCT'},\n",
       " {'s-0-form': 'ROOT',\n",
       "  's-0-lemma': 'ROOT',\n",
       "  's-0-postag': 'ROOT',\n",
       "  'b-0-form': 'була',\n",
       "  'b-0-lemma': 'бути',\n",
       "  'b-0-postag': 'VERB',\n",
       "  'b-1-form': 'прегарна',\n",
       "  'b-1-postag': 'ADJ',\n",
       "  'b-2-postag': 'NOUN',\n",
       "  'b-3-postag': 'PUNCT'},\n",
       " {'s-0-form': 'була',\n",
       "  's-0-lemma': 'бути',\n",
       "  's-0-postag': 'VERB',\n",
       "  's-1-postag': 'ROOT',\n",
       "  'b-0-form': 'прегарна',\n",
       "  'b-0-lemma': 'прегарний',\n",
       "  'b-0-postag': 'ADJ',\n",
       "  'b-1-form': 'фреска',\n",
       "  'b-1-postag': 'NOUN',\n",
       "  'b-2-postag': 'PUNCT',\n",
       "  'b-3-postag': 'NOUN'},\n",
       " {'s-0-form': 'прегарна',\n",
       "  's-0-lemma': 'прегарний',\n",
       "  's-0-postag': 'ADJ',\n",
       "  's-1-postag': 'VERB',\n",
       "  'b-0-form': 'фреска',\n",
       "  'b-0-lemma': 'фреска',\n",
       "  'b-0-postag': 'NOUN',\n",
       "  'b-1-form': ',',\n",
       "  'b-1-postag': 'PUNCT',\n",
       "  'b-2-postag': 'NOUN',\n",
       "  'b-3-postag': 'PROPN'},\n",
       " {'s-0-form': 'була',\n",
       "  's-0-lemma': 'бути',\n",
       "  's-0-postag': 'VERB',\n",
       "  's-1-postag': 'ROOT',\n",
       "  'b-0-form': 'фреска',\n",
       "  'b-0-lemma': 'фреска',\n",
       "  'b-0-postag': 'NOUN',\n",
       "  'b-1-form': ',',\n",
       "  'b-1-postag': 'PUNCT',\n",
       "  'b-2-postag': 'NOUN',\n",
       "  'b-3-postag': 'PROPN'},\n",
       " {'s-0-form': 'фреска',\n",
       "  's-0-lemma': 'фреска',\n",
       "  's-0-postag': 'NOUN',\n",
       "  's-1-postag': 'VERB',\n",
       "  'b-0-form': ',',\n",
       "  'b-0-lemma': ',',\n",
       "  'b-0-postag': 'PUNCT',\n",
       "  'b-1-form': 'зображення',\n",
       "  'b-1-postag': 'NOUN',\n",
       "  'b-2-postag': 'PROPN',\n",
       "  'b-3-postag': 'CCONJ'},\n",
       " {'s-0-form': ',',\n",
       "  's-0-lemma': ',',\n",
       "  's-0-postag': 'PUNCT',\n",
       "  's-1-postag': 'NOUN',\n",
       "  'b-0-form': 'зображення',\n",
       "  'b-0-lemma': 'зображення',\n",
       "  'b-0-postag': 'NOUN',\n",
       "  'b-1-form': 'Венери',\n",
       "  'b-1-postag': 'PROPN',\n",
       "  'b-2-postag': 'CCONJ',\n",
       "  'b-3-postag': 'PROPN'},\n",
       " {'s-0-form': 'фреска',\n",
       "  's-0-lemma': 'фреска',\n",
       "  's-0-postag': 'NOUN',\n",
       "  's-1-postag': 'VERB',\n",
       "  'b-0-form': 'зображення',\n",
       "  'b-0-lemma': 'зображення',\n",
       "  'b-0-postag': 'NOUN',\n",
       "  'b-1-form': 'Венери',\n",
       "  'b-1-postag': 'PROPN',\n",
       "  'b-2-postag': 'CCONJ',\n",
       "  'b-3-postag': 'PROPN'},\n",
       " {'s-0-form': 'зображення',\n",
       "  's-0-lemma': 'зображення',\n",
       "  's-0-postag': 'NOUN',\n",
       "  's-1-postag': 'NOUN',\n",
       "  'b-0-form': 'Венери',\n",
       "  'b-0-lemma': 'Венера',\n",
       "  'b-0-postag': 'PROPN',\n",
       "  'b-1-form': 'та',\n",
       "  'b-1-postag': 'CCONJ',\n",
       "  'b-2-postag': 'PROPN',\n",
       "  'b-3-postag': 'PUNCT'},\n",
       " {'s-0-form': 'Венери',\n",
       "  's-0-lemma': 'Венера',\n",
       "  's-0-postag': 'PROPN',\n",
       "  's-1-postag': 'NOUN',\n",
       "  'b-0-form': 'та',\n",
       "  'b-0-lemma': 'та',\n",
       "  'b-0-postag': 'CCONJ',\n",
       "  'b-1-form': 'Адоніса',\n",
       "  'b-1-postag': 'PROPN',\n",
       "  'b-2-postag': 'PUNCT'},\n",
       " {'s-0-form': 'та',\n",
       "  's-0-lemma': 'та',\n",
       "  's-0-postag': 'CCONJ',\n",
       "  's-1-postag': 'PROPN',\n",
       "  'b-0-form': 'Адоніса',\n",
       "  'b-0-lemma': 'Адоніс',\n",
       "  'b-0-postag': 'PROPN',\n",
       "  'b-1-form': '.',\n",
       "  'b-1-postag': 'PUNCT'},\n",
       " {'s-0-form': 'Венери',\n",
       "  's-0-lemma': 'Венера',\n",
       "  's-0-postag': 'PROPN',\n",
       "  's-1-postag': 'NOUN',\n",
       "  'b-0-form': 'Адоніса',\n",
       "  'b-0-lemma': 'Адоніс',\n",
       "  'b-0-postag': 'PROPN',\n",
       "  'b-1-form': '.',\n",
       "  'b-1-postag': 'PUNCT'},\n",
       " {'s-0-form': 'Адоніса',\n",
       "  's-0-lemma': 'Адоніс',\n",
       "  's-0-postag': 'PROPN',\n",
       "  's-1-postag': 'PROPN',\n",
       "  'b-0-form': '.',\n",
       "  'b-0-lemma': '.',\n",
       "  'b-0-postag': 'PUNCT'},\n",
       " {'s-0-form': 'Венери',\n",
       "  's-0-lemma': 'Венера',\n",
       "  's-0-postag': 'PROPN',\n",
       "  's-1-postag': 'NOUN',\n",
       "  'b-0-form': '.',\n",
       "  'b-0-lemma': '.',\n",
       "  'b-0-postag': 'PUNCT'},\n",
       " {'s-0-form': 'зображення',\n",
       "  's-0-lemma': 'зображення',\n",
       "  's-0-postag': 'NOUN',\n",
       "  's-1-postag': 'NOUN',\n",
       "  'b-0-form': '.',\n",
       "  'b-0-lemma': '.',\n",
       "  'b-0-postag': 'PUNCT'},\n",
       " {'s-0-form': 'фреска',\n",
       "  's-0-lemma': 'фреска',\n",
       "  's-0-postag': 'NOUN',\n",
       "  's-1-postag': 'VERB',\n",
       "  'b-0-form': '.',\n",
       "  'b-0-lemma': '.',\n",
       "  'b-0-postag': 'PUNCT'},\n",
       " {'s-0-form': 'була',\n",
       "  's-0-lemma': 'бути',\n",
       "  's-0-postag': 'VERB',\n",
       "  's-1-postag': 'ROOT',\n",
       "  'b-0-form': '.',\n",
       "  'b-0-lemma': '.',\n",
       "  'b-0-postag': 'PUNCT'},\n",
       " {'s-0-form': '.',\n",
       "  's-0-lemma': '.',\n",
       "  's-0-postag': 'PUNCT',\n",
       "  's-1-postag': 'VERB'},\n",
       " {'s-0-form': 'була',\n",
       "  's-0-lemma': 'бути',\n",
       "  's-0-postag': 'VERB',\n",
       "  's-1-postag': 'ROOT'},\n",
       " {'s-0-form': 'ROOT', 's-0-lemma': 'ROOT', 's-0-postag': 'ROOT'}]"
      ]
     },
     "execution_count": 26,
     "metadata": {},
     "output_type": "execute_result"
    }
   ],
   "source": [
    "features"
   ]
  },
  {
   "cell_type": "markdown",
   "metadata": {},
   "source": [
    "* Пройтися по всіх деревах у тренувальній вибірці та дістати всі переходи з ознаками."
   ]
  },
  {
   "cell_type": "code",
   "execution_count": 27,
   "metadata": {},
   "outputs": [],
   "source": [
    "train_features, train_labels = get_data_for_trees(train_trees, create_features)"
   ]
  },
  {
   "cell_type": "code",
   "execution_count": 28,
   "metadata": {},
   "outputs": [],
   "source": [
    "train_features_flatten = [item for sublist in train_features for item in sublist]\n",
    "train_labels_flatten = [item for sublist in train_labels for item in sublist]"
   ]
  },
  {
   "cell_type": "markdown",
   "metadata": {},
   "source": [
    "* Пройтися по всіх деревах у тестувальній вибірці та дістати всі переходи з ознаками."
   ]
  },
  {
   "cell_type": "code",
   "execution_count": 29,
   "metadata": {},
   "outputs": [],
   "source": [
    "dev_features, dev_labels = get_data_for_trees(dev_trees, create_features)"
   ]
  },
  {
   "cell_type": "code",
   "execution_count": 30,
   "metadata": {},
   "outputs": [],
   "source": [
    "dev_features_flatten = [item for sublist in dev_features for item in sublist]\n",
    "dev_labels_flatten = [item for sublist in dev_labels for item in sublist]"
   ]
  },
  {
   "cell_type": "markdown",
   "metadata": {},
   "source": [
    "### 5. Натренувати класифікатор"
   ]
  },
  {
   "cell_type": "code",
   "execution_count": 31,
   "metadata": {},
   "outputs": [],
   "source": [
    "from sklearn.pipeline import Pipeline\n",
    "from sklearn.feature_extraction import DictVectorizer\n",
    "from sklearn.linear_model import LogisticRegression\n",
    "from sklearn.metrics import classification_report"
   ]
  },
  {
   "cell_type": "code",
   "execution_count": 32,
   "metadata": {},
   "outputs": [],
   "source": [
    "clf = Pipeline([\n",
    "    ('vect', DictVectorizer()),\n",
    "    ('log_reg', LogisticRegression(multi_class='multinomial', random_state=42, solver='lbfgs'))\n",
    "])"
   ]
  },
  {
   "cell_type": "code",
   "execution_count": 33,
   "metadata": {},
   "outputs": [
    {
     "data": {
      "text/plain": [
       "Pipeline(memory=None,\n",
       "         steps=[('vect',\n",
       "                 DictVectorizer(dtype=<class 'numpy.float64'>, separator='=',\n",
       "                                sort=True, sparse=True)),\n",
       "                ('log_reg',\n",
       "                 LogisticRegression(C=1.0, class_weight=None, dual=False,\n",
       "                                    fit_intercept=True, intercept_scaling=1,\n",
       "                                    l1_ratio=None, max_iter=100,\n",
       "                                    multi_class='multinomial', n_jobs=None,\n",
       "                                    penalty='l2', random_state=42,\n",
       "                                    solver='lbfgs', tol=0.0001, verbose=0,\n",
       "                                    warm_start=False))],\n",
       "         verbose=False)"
      ]
     },
     "execution_count": 33,
     "metadata": {},
     "output_type": "execute_result"
    }
   ],
   "source": [
    "clf.fit(train_features_flatten, train_labels_flatten)"
   ]
  },
  {
   "cell_type": "code",
   "execution_count": 34,
   "metadata": {},
   "outputs": [
    {
     "name": "stdout",
     "output_type": "stream",
     "text": [
      "              precision    recall  f1-score   support\n",
      "\n",
      "        left       0.91      0.94      0.92     48195\n",
      "      reduce       0.93      0.90      0.91     49702\n",
      "       right       0.89      0.89      0.89     42685\n",
      "       shift       0.92      0.93      0.92     49716\n",
      "\n",
      "    accuracy                           0.91    190298\n",
      "   macro avg       0.91      0.91      0.91    190298\n",
      "weighted avg       0.91      0.91      0.91    190298\n",
      "\n"
     ]
    }
   ],
   "source": [
    "pred_labels = clf.predict(dev_features_flatten)\n",
    "print(classification_report(\n",
    "    dev_labels_flatten, pred_labels\n",
    "))"
   ]
  },
  {
   "cell_type": "markdown",
   "metadata": {},
   "source": [
    "### 6. Вирахувати unlabeled attachment score (UAS)"
   ]
  },
  {
   "cell_type": "markdown",
   "metadata": {},
   "source": [
    "* Скільки залежностей у побудованому дереві збіглося з еталонним деревом? <br>\n",
    "* Порахувати на тестувальній вибірці.\n"
   ]
  },
  {
   "cell_type": "markdown",
   "metadata": {},
   "source": [
    "UAS - the percentage of words in an input that are assign the correct head."
   ]
  },
  {
   "cell_type": "code",
   "execution_count": 35,
   "metadata": {},
   "outputs": [],
   "source": [
    "def dep_parse(tree, oracle, feature_creator = create_features):\n",
    "    stack, queue, relations = [ROOT], tree[:], []\n",
    "    while queue or stack:   \n",
    "        if stack and not queue:\n",
    "            stack.pop()\n",
    "        \n",
    "        else:\n",
    "            features = feature_creator(stack, queue)\n",
    "#             print(features)\n",
    "            action = oracle.predict([features])[0]\n",
    "#             print(action)\n",
    "#             actions.append(action)\n",
    "            if action == Actions.SHIFT:\n",
    "                stack.append(queue.pop(0))\n",
    "            elif action == Actions.REDUCE:\n",
    "                stack.pop()\n",
    "            elif action == Actions.LEFT:\n",
    "                relations.append((stack[-1][\"id\"], queue[0][\"id\"]))\n",
    "                stack.pop()\n",
    "            elif action == Actions.RIGHT:\n",
    "                relations.append((queue[0][\"id\"], stack[-1][\"id\"]))\n",
    "                stack.append(queue.pop(0))\n",
    "            else:\n",
    "                print(\"Unknown action.\")\n",
    "    return sorted(relations)"
   ]
  },
  {
   "cell_type": "code",
   "execution_count": 36,
   "metadata": {},
   "outputs": [],
   "source": [
    "def calc_unlabeled_attachment_score(trees, oracle, feature_creator=create_features):\n",
    "    total, tp = 0, 0\n",
    "    for tree in trees:\n",
    "        try:\n",
    "            tree = [t for t in tree if type(t['id']) == int]\n",
    "            etalon = [(node['id'], node['head']) for node in tree]\n",
    "            pred = dep_parse(tree, oracle, feature_creator)\n",
    "            total += len(tree)\n",
    "            tp += len(set(etalon).intersection(set(pred)))\n",
    "        except:\n",
    "            pass\n",
    "            \n",
    "    \n",
    "    uas = round(tp / total, 2)\n",
    "    \n",
    "    return total, tp, uas"
   ]
  },
  {
   "cell_type": "code",
   "execution_count": 37,
   "metadata": {},
   "outputs": [],
   "source": [
    "total, tp, uas = calc_unlabeled_attachment_score(dev_trees, clf)"
   ]
  },
  {
   "cell_type": "code",
   "execution_count": 38,
   "metadata": {},
   "outputs": [],
   "source": [
    "def print_uas_result(total, tp, uas):\n",
    "    print(\"Total\", total)\n",
    "    print(\"Correct\", tp)\n",
    "    print(\"UAS\", uas)"
   ]
  },
  {
   "cell_type": "code",
   "execution_count": 39,
   "metadata": {},
   "outputs": [
    {
     "name": "stdout",
     "output_type": "stream",
     "text": [
      "Total 12574\n",
      "Correct 8682\n",
      "UAS 0.69\n"
     ]
    }
   ],
   "source": [
    "print_uas_result(total, tp, uas)"
   ]
  },
  {
   "cell_type": "markdown",
   "metadata": {},
   "source": [
    "Зафіксуємо дані як метрику базового рішення. "
   ]
  },
  {
   "cell_type": "markdown",
   "metadata": {},
   "source": [
    "## I. Покращення парсера залежностей"
   ]
  },
  {
   "cell_type": "markdown",
   "metadata": {},
   "source": [
    "#### Додавання нових ознак"
   ]
  },
  {
   "cell_type": "markdown",
   "metadata": {},
   "source": [
    "Під час додавання нових ознак, аналізуємо секцію features з https://web.stanford.edu/~jurafsky/slp3/15.pdf"
   ]
  },
  {
   "cell_type": "markdown",
   "metadata": {},
   "source": [
    "##### Використовуємо *feats* атрибуту"
   ]
  },
  {
   "cell_type": "code",
   "execution_count": 40,
   "metadata": {},
   "outputs": [],
   "source": [
    "def create_feets_feature(features, feats, prefix):\n",
    "    if feats is not None and feats != 'None':\n",
    "        if type(feats) is str:\n",
    "            m = re.match(r'^OrderedDict\\((.+)\\)$', feats)\n",
    "            feats = OrderedDict(ast.literal_eval(m.group(1)))\n",
    "            \n",
    "        for key in feats:\n",
    "            f_key = f\"{prefix}-{key}\"\n",
    "            features[f_key] = feats[key]"
   ]
  },
  {
   "cell_type": "code",
   "execution_count": 41,
   "metadata": {},
   "outputs": [],
   "source": [
    "def create_features_use_feats(stack, buf):\n",
    "    fetaures = create_features(stack, buf)\n",
    "    if len(stack) > 0:\n",
    "        create_feets_feature(fetaures, stack[-1]['feats'], 's-0-feats')\n",
    "                    \n",
    "    if len(buf) > 0:\n",
    "        create_feets_feature(fetaures, buf[0]['feats'], 'b-0-feats')\n",
    "\n",
    "    return fetaures"
   ]
  },
  {
   "cell_type": "markdown",
   "metadata": {},
   "source": [
    "##### Використовуємо *feats* атрибуту"
   ]
  },
  {
   "cell_type": "code",
   "execution_count": 42,
   "metadata": {},
   "outputs": [],
   "source": [
    "train_features, train_labels = get_data_for_trees(train_trees, create_features_use_feats)\n",
    "train_features_flatten = [item for sublist in train_features for item in sublist]\n",
    "train_labels_flatten = [item for sublist in train_labels for item in sublist]"
   ]
  },
  {
   "cell_type": "code",
   "execution_count": 43,
   "metadata": {},
   "outputs": [
    {
     "data": {
      "text/plain": [
       "Pipeline(memory=None,\n",
       "         steps=[('vect',\n",
       "                 DictVectorizer(dtype=<class 'numpy.float64'>, separator='=',\n",
       "                                sort=True, sparse=True)),\n",
       "                ('log_reg',\n",
       "                 LogisticRegression(C=1.0, class_weight=None, dual=False,\n",
       "                                    fit_intercept=True, intercept_scaling=1,\n",
       "                                    l1_ratio=None, max_iter=100,\n",
       "                                    multi_class='multinomial', n_jobs=None,\n",
       "                                    penalty='l2', random_state=42,\n",
       "                                    solver='lbfgs', tol=0.0001, verbose=0,\n",
       "                                    warm_start=False))],\n",
       "         verbose=False)"
      ]
     },
     "execution_count": 43,
     "metadata": {},
     "output_type": "execute_result"
    }
   ],
   "source": [
    "clf.fit(train_features_flatten, train_labels_flatten)"
   ]
  },
  {
   "cell_type": "code",
   "execution_count": 44,
   "metadata": {},
   "outputs": [],
   "source": [
    "dev_features, dev_labels = get_data_for_trees(dev_trees, create_features_use_feats)\n",
    "dev_features_flatten = [item for sublist in dev_features for item in sublist]\n",
    "dev_labels_flatten = [item for sublist in dev_labels for item in sublist]"
   ]
  },
  {
   "cell_type": "code",
   "execution_count": 45,
   "metadata": {},
   "outputs": [
    {
     "name": "stdout",
     "output_type": "stream",
     "text": [
      "              precision    recall  f1-score   support\n",
      "\n",
      "        left       0.90      0.93      0.91     48195\n",
      "      reduce       0.92      0.88      0.90     49702\n",
      "       right       0.88      0.88      0.88     42685\n",
      "       shift       0.91      0.92      0.91     49716\n",
      "\n",
      "    accuracy                           0.90    190298\n",
      "   macro avg       0.90      0.90      0.90    190298\n",
      "weighted avg       0.90      0.90      0.90    190298\n",
      "\n"
     ]
    }
   ],
   "source": [
    "pred_labels = clf.predict(dev_features_flatten)\n",
    "print(classification_report(\n",
    "    dev_labels_flatten, pred_labels\n",
    "))"
   ]
  },
  {
   "cell_type": "code",
   "execution_count": 46,
   "metadata": {},
   "outputs": [
    {
     "name": "stdout",
     "output_type": "stream",
     "text": [
      "Total 12574\n",
      "Correct 8971\n",
      "UAS 0.71\n"
     ]
    }
   ],
   "source": [
    "total, tp, uas = calc_unlabeled_attachment_score(dev_trees, clf, create_features_use_feats)\n",
    "print_uas_result(total, tp, uas)"
   ]
  },
  {
   "cell_type": "markdown",
   "metadata": {},
   "source": [
    "Як бачимо, uas трішки покращився але не значно (0.71 > 0.69)"
   ]
  },
  {
   "cell_type": "markdown",
   "metadata": {},
   "source": [
    "Так як в главі **Dependency Parser** книги **Speech and Language Processing** в секції *Features* описано наступне: <br>\n",
    "*Given that the left and right arc transitions operate on the top two elements of\n",
    "the stack, features that combine properties from these positions are even more useful.\n",
    "For example, a feature like s1.t ◦ s2.t concatenates the part of speech tag of the word\n",
    "at the top of the stack with the tag of the word beneath it.*\n",
    "Тож спробуємо зкомбінувати пари властивості в одну фічу"
   ]
  },
  {
   "cell_type": "code",
   "execution_count": 47,
   "metadata": {},
   "outputs": [],
   "source": [
    "def create_features_with_combined_props(stack, buf):\n",
    "    features = create_features_use_feats(stack, buf)\n",
    "    for i in range(1, len(stack)):\n",
    "        features[f\"s0-word_s{i}-word\"] = stack[-1][\"form\"] + stack[-i-1][\"form\"]\n",
    "        features[f\"s0-tag_s{i}-tag\"] = stack[-1][\"upostag\"] + stack[-i-1][\"upostag\"]\n",
    "        features[f\"s0-wordtag_s{i}-tag\"] = stack[-1][\"form\"] + stack[-1][\"upostag\"] + stack[-i-1][\"upostag\"]\n",
    "        features[f\"s0-tag_s{i}-wordtag\"] = stack[-1][\"upostag\"] + stack[-i-1][\"form\"] + stack[-i-1][\"upostag\"]\n",
    "#         features[f\"s0s{i}-distance\"] = stack[-1][\"id\"] - stack[-2][\"id\"]\n",
    "        \n",
    "#     if stack and buf:\n",
    "#         features[\"s0-tag_q0-word\"] = stack[-1][\"upostag\"] + buf[0][\"form\"]\n",
    "#         features[\"s0-wordtag_q0-tag\"] = stack[-1][\"form\"] + stack[-1][\"upostag\"] + buf[0][\"upostag\"]\n",
    "#         features[\"s0q0-distance\"] = buf[0][\"id\"] - stack[-1][\"id\"]\n",
    "\n",
    "        \n",
    "    return features\n"
   ]
  },
  {
   "cell_type": "code",
   "execution_count": 48,
   "metadata": {},
   "outputs": [],
   "source": [
    "train_features, train_labels = get_data_for_trees(train_trees, create_features_with_combined_props)\n",
    "train_features_flatten = [item for sublist in train_features for item in sublist]\n",
    "train_labels_flatten = [item for sublist in train_labels for item in sublist]"
   ]
  },
  {
   "cell_type": "code",
   "execution_count": 49,
   "metadata": {},
   "outputs": [
    {
     "data": {
      "text/plain": [
       "Pipeline(memory=None,\n",
       "         steps=[('vect',\n",
       "                 DictVectorizer(dtype=<class 'numpy.float64'>, separator='=',\n",
       "                                sort=True, sparse=True)),\n",
       "                ('log_reg',\n",
       "                 LogisticRegression(C=1.0, class_weight=None, dual=False,\n",
       "                                    fit_intercept=True, intercept_scaling=1,\n",
       "                                    l1_ratio=None, max_iter=100,\n",
       "                                    multi_class='multinomial', n_jobs=None,\n",
       "                                    penalty='l2', random_state=42,\n",
       "                                    solver='lbfgs', tol=0.0001, verbose=0,\n",
       "                                    warm_start=False))],\n",
       "         verbose=False)"
      ]
     },
     "execution_count": 49,
     "metadata": {},
     "output_type": "execute_result"
    }
   ],
   "source": [
    "clf.fit(train_features_flatten, train_labels_flatten)"
   ]
  },
  {
   "cell_type": "code",
   "execution_count": 50,
   "metadata": {},
   "outputs": [],
   "source": [
    "dev_features, dev_labels = get_data_for_trees(dev_trees, create_features_with_combined_props)\n",
    "dev_features_flatten = [item for sublist in dev_features for item in sublist]\n",
    "dev_labels_flatten = [item for sublist in dev_labels for item in sublist]"
   ]
  },
  {
   "cell_type": "code",
   "execution_count": 51,
   "metadata": {},
   "outputs": [
    {
     "name": "stdout",
     "output_type": "stream",
     "text": [
      "              precision    recall  f1-score   support\n",
      "\n",
      "        left       0.97      0.98      0.97     48195\n",
      "      reduce       0.98      0.97      0.97     49702\n",
      "       right       0.94      0.94      0.94     42685\n",
      "       shift       0.96      0.96      0.96     49716\n",
      "\n",
      "    accuracy                           0.96    190298\n",
      "   macro avg       0.96      0.96      0.96    190298\n",
      "weighted avg       0.96      0.96      0.96    190298\n",
      "\n"
     ]
    }
   ],
   "source": [
    "pred_labels = clf.predict(dev_features_flatten)\n",
    "print(classification_report(\n",
    "    dev_labels_flatten, pred_labels\n",
    "))"
   ]
  },
  {
   "cell_type": "markdown",
   "metadata": {},
   "source": [
    "Такі високі показники F1-score можуть говорити про overfitting на на подібних даних, або ж ми використали якісь фічі які спричиняють data leakage."
   ]
  },
  {
   "cell_type": "code",
   "execution_count": 52,
   "metadata": {},
   "outputs": [
    {
     "name": "stdout",
     "output_type": "stream",
     "text": [
      "Total 12574\n",
      "Correct 9183\n",
      "UAS 0.73\n"
     ]
    }
   ],
   "source": [
    "total, tp, uas = calc_unlabeled_attachment_score(dev_trees, clf, create_features_with_combined_props)\n",
    "print_uas_result(total, tp, uas)"
   ]
  },
  {
   "cell_type": "markdown",
   "metadata": {},
   "source": [
    "Як бачимо експеримент з комбінацією фіч  покращив результат. "
   ]
  },
  {
   "cell_type": "markdown",
   "metadata": {},
   "source": [
    "#### Пробуємо інший класифікатор"
   ]
  },
  {
   "cell_type": "code",
   "execution_count": 53,
   "metadata": {},
   "outputs": [],
   "source": [
    "from sklearn.ensemble import RandomForestClassifier\n",
    "from sklearn.svm import LinearSVC"
   ]
  },
  {
   "cell_type": "code",
   "execution_count": 54,
   "metadata": {},
   "outputs": [],
   "source": [
    "svm_classifier = Pipeline([\n",
    "    ('vect', DictVectorizer()),\n",
    "    ('mlp', LinearSVC(tol=1e-5, random_state=42))\n",
    "])"
   ]
  },
  {
   "cell_type": "code",
   "execution_count": 55,
   "metadata": {},
   "outputs": [
    {
     "data": {
      "text/plain": [
       "Pipeline(memory=None,\n",
       "         steps=[('vect',\n",
       "                 DictVectorizer(dtype=<class 'numpy.float64'>, separator='=',\n",
       "                                sort=True, sparse=True)),\n",
       "                ('mlp',\n",
       "                 LinearSVC(C=1.0, class_weight=None, dual=True,\n",
       "                           fit_intercept=True, intercept_scaling=1,\n",
       "                           loss='squared_hinge', max_iter=1000,\n",
       "                           multi_class='ovr', penalty='l2', random_state=42,\n",
       "                           tol=1e-05, verbose=0))],\n",
       "         verbose=False)"
      ]
     },
     "execution_count": 55,
     "metadata": {},
     "output_type": "execute_result"
    }
   ],
   "source": [
    "svm_classifier.fit(train_features_flatten, train_labels_flatten)"
   ]
  },
  {
   "cell_type": "code",
   "execution_count": 56,
   "metadata": {},
   "outputs": [
    {
     "name": "stdout",
     "output_type": "stream",
     "text": [
      "              precision    recall  f1-score   support\n",
      "\n",
      "        left       1.00      1.00      1.00     48195\n",
      "      reduce       1.00      1.00      1.00     49702\n",
      "       right       0.99      0.99      0.99     42685\n",
      "       shift       0.99      0.99      0.99     49716\n",
      "\n",
      "    accuracy                           1.00    190298\n",
      "   macro avg       1.00      1.00      1.00    190298\n",
      "weighted avg       1.00      1.00      1.00    190298\n",
      "\n"
     ]
    }
   ],
   "source": [
    "pred_labels = svm_classifier.predict(dev_features_flatten)\n",
    "print(classification_report(\n",
    "    dev_labels_flatten, pred_labels\n",
    "))"
   ]
  },
  {
   "cell_type": "code",
   "execution_count": 57,
   "metadata": {},
   "outputs": [
    {
     "name": "stdout",
     "output_type": "stream",
     "text": [
      "Total 12574\n",
      "Correct 8775\n",
      "UAS 0.7\n"
     ]
    }
   ],
   "source": [
    "total, tp, uas = calc_unlabeled_attachment_score(dev_trees, svm_classifier, create_features_with_combined_props)\n",
    "print_uas_result(total, tp, uas)"
   ]
  },
  {
   "cell_type": "markdown",
   "metadata": {},
   "source": [
    "Як бачимо з таблиці *classification report* видно що svm   дає нереальний f1-score, що є більш підозрою до overfiting, чи data leakage, проте  UAS гірше ніж для Логістичної регресії. "
   ]
  },
  {
   "cell_type": "markdown",
   "metadata": {},
   "source": [
    "Отже так як логістична регресія дає найкращий uas результат на дев корпусі, поміряємо uas для тестових даних. "
   ]
  },
  {
   "cell_type": "code",
   "execution_count": 58,
   "metadata": {},
   "outputs": [],
   "source": [
    "test_features, test_labels = get_data_for_trees(test_trees, create_features_with_combined_props)\n",
    "test_features_flatten = [item for sublist in test_features for item in sublist]\n",
    "test_labels_flatten = [item for sublist in test_labels for item in sublist]"
   ]
  },
  {
   "cell_type": "code",
   "execution_count": 59,
   "metadata": {},
   "outputs": [
    {
     "name": "stdout",
     "output_type": "stream",
     "text": [
      "              precision    recall  f1-score   support\n",
      "\n",
      "        left       0.97      0.98      0.97     48195\n",
      "      reduce       0.98      0.97      0.97     49702\n",
      "       right       0.94      0.94      0.94     42685\n",
      "       shift       0.96      0.96      0.96     49716\n",
      "\n",
      "    accuracy                           0.96    190298\n",
      "   macro avg       0.96      0.96      0.96    190298\n",
      "weighted avg       0.96      0.96      0.96    190298\n",
      "\n"
     ]
    }
   ],
   "source": [
    "pred_test_labels = clf.predict(test_features_flatten)\n",
    "print(classification_report(\n",
    "    test_labels_flatten, pred_test_labels\n",
    "))"
   ]
  },
  {
   "cell_type": "code",
   "execution_count": 60,
   "metadata": {},
   "outputs": [
    {
     "name": "stdout",
     "output_type": "stream",
     "text": [
      "Total 17116\n",
      "Correct 12459\n",
      "UAS 0.73\n"
     ]
    }
   ],
   "source": [
    "total, tp, uas = calc_unlabeled_attachment_score(test_trees, clf, create_features_with_combined_props)\n",
    "print_uas_result(total, tp, uas)"
   ]
  },
  {
   "cell_type": "markdown",
   "metadata": {},
   "source": [
    "Отже результат UAS на dev корпусі тестових 0.96, на test 0.73"
   ]
  },
  {
   "cell_type": "markdown",
   "metadata": {},
   "source": [
    "## II. Використання парсера на нових даних"
   ]
  },
  {
   "cell_type": "code",
   "execution_count": 353,
   "metadata": {},
   "outputs": [],
   "source": [
    "import stanfordnlp"
   ]
  },
  {
   "cell_type": "code",
   "execution_count": 354,
   "metadata": {},
   "outputs": [
    {
     "name": "stdout",
     "output_type": "stream",
     "text": [
      "Use device: gpu\n",
      "---\n",
      "Loading: tokenize\n",
      "With settings: \n",
      "{'model_path': '/home/dbabenko/stanfordnlp_resources/uk_iu_models/uk_iu_tokenizer.pt', 'lang': 'uk', 'shorthand': 'uk_iu', 'mode': 'predict'}\n",
      "---\n",
      "Loading: pos\n",
      "With settings: \n",
      "{'model_path': '/home/dbabenko/stanfordnlp_resources/uk_iu_models/uk_iu_tagger.pt', 'pretrain_path': '/home/dbabenko/stanfordnlp_resources/uk_iu_models/uk_iu.pretrain.pt', 'lang': 'uk', 'shorthand': 'uk_iu', 'mode': 'predict'}\n",
      "---\n",
      "Loading: lemma\n",
      "With settings: \n",
      "{'model_path': '/home/dbabenko/stanfordnlp_resources/uk_iu_models/uk_iu_lemmatizer.pt', 'lang': 'uk', 'shorthand': 'uk_iu', 'mode': 'predict'}\n",
      "Building an attentional Seq2Seq model...\n",
      "Using a Bi-LSTM encoder\n",
      "Using soft attention for LSTM.\n",
      "Finetune all embeddings.\n",
      "[Running seq2seq lemmatizer with edit classifier]\n",
      "---\n",
      "Loading: depparse\n",
      "With settings: \n",
      "{'model_path': '/home/dbabenko/stanfordnlp_resources/uk_iu_models/uk_iu_parser.pt', 'pretrain_path': '/home/dbabenko/stanfordnlp_resources/uk_iu_models/uk_iu.pretrain.pt', 'lang': 'uk', 'shorthand': 'uk_iu', 'mode': 'predict'}\n",
      "Done loading processors!\n",
      "---\n"
     ]
    }
   ],
   "source": [
    "nlp_uk = stanfordnlp.Pipeline(lang=\"uk\")"
   ]
  },
  {
   "cell_type": "code",
   "execution_count": 355,
   "metadata": {},
   "outputs": [],
   "source": [
    "def convert_feats_to_dict(feats):\n",
    "    result = OrderedDict()\n",
    "    if feats == \"_\":\n",
    "        return None\n",
    "    \n",
    "    items = feats.split('|')\n",
    "    for item in items:\n",
    "        splited_item = item.split('=')\n",
    "        key = splited_item[0]\n",
    "        val = splited_item[1]\n",
    "        result[key] = val\n",
    "    \n",
    "    return result"
   ]
  },
  {
   "cell_type": "code",
   "execution_count": 424,
   "metadata": {},
   "outputs": [],
   "source": [
    "def create_suitabe_trees(text, nlp):\n",
    "    result = []\n",
    "    doc = nlp(text)\n",
    "    for sent in doc.sentences:\n",
    "        sent_result = []\n",
    "        for token in sent.words:\n",
    "            sent_d = OrderedDict()\n",
    "            sent_d['id'] = int(token.index)\n",
    "            sent_d['form'] = token.text\n",
    "            sent_d['lemma'] = token.lemma\n",
    "            sent_d['upostag'] = token.upos\n",
    "            sent_d['xpostag'] = token.xpos\n",
    "            sent_d['feats'] = convert_feats_to_dict(token.feats)\n",
    "            sent_d['deprel'] = token.dependency_relation\n",
    "            sent_d['head'] = int(token.governor)\n",
    "            \n",
    "            sent_result.append(sent_d)\n",
    "    \n",
    "        result.append(sent_result)\n",
    "    \n",
    "    return result"
   ]
  },
  {
   "cell_type": "code",
   "execution_count": 425,
   "metadata": {},
   "outputs": [],
   "source": [
    "def print_parse_sentence(sentence, nlp, clf, feature_extractor):\n",
    "    tree = create_suitabe_trees(sentence, nlp)[0]    \n",
    "    relations = dep_parse(tree, clf, feature_extractor)\n",
    "    for i in range(0, len(relations)):\n",
    "        child = tree[relations[i][0] - 1][\"form\"]\n",
    "        parent_id = relations[i][1]\n",
    "        parent = tree[parent_id - 1]['form'] if parent_id > 0 else 'root'\n",
    "        print(f\"{child} <-- {parent}\")"
   ]
  },
  {
   "cell_type": "markdown",
   "metadata": {},
   "source": [
    "#### Застосуємо парсер на кількох українських реченнях "
   ]
  },
  {
   "cell_type": "code",
   "execution_count": 426,
   "metadata": {},
   "outputs": [],
   "source": [
    "sent1 = \"Якщо ми будемо запускати роботу великих торгових центрів, то нам потрібно буде запускати як мінімум наземний транспорт. \""
   ]
  },
  {
   "cell_type": "code",
   "execution_count": 427,
   "metadata": {},
   "outputs": [],
   "source": [
    "tree = create_suitabe_trees(sent1, nlp_uk)[0]    "
   ]
  },
  {
   "cell_type": "code",
   "execution_count": 428,
   "metadata": {},
   "outputs": [
    {
     "name": "stdout",
     "output_type": "stream",
     "text": [
      "Якщо <-- запускати\n",
      "ми <-- запускати\n",
      "будемо <-- запускати\n",
      "роботу <-- запускати\n",
      "великих <-- центрів\n",
      "торгових <-- центрів\n",
      "центрів <-- роботу\n",
      ", <-- запускати\n",
      "то <-- потрібно\n",
      "нам <-- потрібно\n",
      "потрібно <-- запускати\n",
      "буде <-- запускати\n",
      "запускати <-- запускати\n",
      "як <-- мінімум\n",
      "мінімум <-- запускати\n",
      "наземний <-- транспорт\n",
      "транспорт <-- запускати\n",
      ". <-- запускати\n"
     ]
    }
   ],
   "source": [
    "print_parse_sentence(sent1, nlp_uk, clf, create_features_with_combined_props)"
   ]
  },
  {
   "cell_type": "markdown",
   "metadata": {},
   "source": [
    "З результату вище ми бачимо що парсер пропустив слово *запускати*, може бути повязано з тим що для даного токену модель передбачила SHIFT чи REDUCE."
   ]
  },
  {
   "cell_type": "code",
   "execution_count": 429,
   "metadata": {},
   "outputs": [],
   "source": [
    "sent2 = \"Хоча Ломбок населений переважно мусульманами, але на острові вільно продаються алкогольні напої.\""
   ]
  },
  {
   "cell_type": "code",
   "execution_count": 431,
   "metadata": {},
   "outputs": [
    {
     "name": "stdout",
     "output_type": "stream",
     "text": [
      "Хоча <-- Ломбок\n",
      "населений <-- Ломбок\n",
      "переважно <-- населений\n",
      "мусульманами <-- переважно\n",
      "на <-- острові\n",
      "вільно <-- продаються\n",
      "продаються <-- острові\n",
      "алкогольні <-- напої\n",
      "напої <-- продаються\n",
      ". <-- продаються\n"
     ]
    }
   ],
   "source": [
    "print_parse_sentence(sent2, nlp_uk, clf, create_features_with_combined_props)"
   ]
  },
  {
   "cell_type": "markdown",
   "metadata": {},
   "source": [
    "З результату вище ми бачимо що парсер пропустив слово *Ломбок* та *острові*, може бути повязано з тим що для даних токенів модель передбачила SHIFT чи REDUCE."
   ]
  },
  {
   "cell_type": "code",
   "execution_count": 434,
   "metadata": {},
   "outputs": [],
   "source": [
    "sent3 = \"Я люблю пінгвінів.\""
   ]
  },
  {
   "cell_type": "code",
   "execution_count": 435,
   "metadata": {},
   "outputs": [
    {
     "name": "stdout",
     "output_type": "stream",
     "text": [
      "Я <-- люблю\n",
      "люблю <-- root\n",
      "пінгвінів <-- люблю\n",
      ". <-- люблю\n"
     ]
    }
   ],
   "source": [
    "print_parse_sentence(sent3, nlp_uk, clf, create_features_with_combined_props)"
   ]
  },
  {
   "cell_type": "markdown",
   "metadata": {},
   "source": [
    "Тут бачимо все гаразд. "
   ]
  },
  {
   "cell_type": "code",
   "execution_count": 437,
   "metadata": {},
   "outputs": [],
   "source": [
    "sent4 = \"Коли буде фінал Ліги Чемпіонів в цьому році?\""
   ]
  },
  {
   "cell_type": "code",
   "execution_count": 438,
   "metadata": {},
   "outputs": [
    {
     "name": "stdout",
     "output_type": "stream",
     "text": [
      "Коли <-- буде\n",
      "буде <-- root\n",
      "фінал <-- буде\n",
      "Ліги <-- фінал\n",
      "Чемпіонів <-- Ліги\n",
      "в <-- році\n",
      "цьому <-- році\n",
      "році <-- Чемпіонів\n",
      "? <-- буде\n"
     ]
    }
   ],
   "source": [
    "print_parse_sentence(sent4, nlp_uk, clf, create_features_with_combined_props)"
   ]
  },
  {
   "cell_type": "markdown",
   "metadata": {},
   "source": [
    "І в цьому реченні все вірно. "
   ]
  }
 ],
 "metadata": {
  "kernelspec": {
   "display_name": "Python 3",
   "language": "python",
   "name": "python3"
  },
  "language_info": {
   "codemirror_mode": {
    "name": "ipython",
    "version": 3
   },
   "file_extension": ".py",
   "mimetype": "text/x-python",
   "name": "python",
   "nbconvert_exporter": "python",
   "pygments_lexer": "ipython3",
   "version": "3.7.5"
  }
 },
 "nbformat": 4,
 "nbformat_minor": 2
}
