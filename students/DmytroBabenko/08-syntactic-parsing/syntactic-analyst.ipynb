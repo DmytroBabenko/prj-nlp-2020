{
 "cells": [
  {
   "cell_type": "code",
   "execution_count": 1,
   "metadata": {},
   "outputs": [],
   "source": [
    "from collections import OrderedDict\n",
    "from conllu import parse\n",
    "from enum import Enum"
   ]
  },
  {
   "cell_type": "markdown",
   "metadata": {},
   "source": [
    "### 1. Проглянути дані"
   ]
  },
  {
   "cell_type": "code",
   "execution_count": 6,
   "metadata": {},
   "outputs": [],
   "source": [
    "def read_file_content(file):\n",
    "    with open(file, \"r\") as f:\n",
    "        data = f.read()\n",
    "        return data"
   ]
  },
  {
   "cell_type": "code",
   "execution_count": 7,
   "metadata": {},
   "outputs": [],
   "source": [
    "def read_conllu_data(file):\n",
    "    data = read_file_content(file)\n",
    "    trees = parse(data)\n",
    "    return trees"
   ]
  },
  {
   "cell_type": "code",
   "execution_count": 8,
   "metadata": {},
   "outputs": [],
   "source": [
    "train_trees = read_conllu_data(PATH + \"/uk_iu-ud-train.conllu\")\n",
    "dev_trees = read_conllu_data(PATH + \"/uk_iu-ud-dev.conllu\")\n",
    "test_trees = read_conllu_data(PATH + \"/uk_iu-ud-test.conllu\")"
   ]
  },
  {
   "cell_type": "code",
   "execution_count": 9,
   "metadata": {},
   "outputs": [
    {
     "name": "stdout",
     "output_type": "stream",
     "text": [
      "У <-- домі\n",
      "домі <-- була\n",
      "римського <-- патриція\n",
      "патриція <-- домі\n",
      "Руфіна <-- патриція\n",
      "була <-- root\n",
      "прегарна <-- фреска\n",
      "фреска <-- була\n",
      ", <-- зображення\n",
      "зображення <-- фреска\n",
      "Венери <-- зображення\n",
      "та <-- Адоніса\n",
      "Адоніса <-- Венери\n",
      ". <-- була\n"
     ]
    }
   ],
   "source": [
    "for node in train_trees[0]:\n",
    "    head = node[\"head\"]\n",
    "    print(\"{} <-- {}\".format(node[\"form\"],\n",
    "                             tree[head - 1][\"form\"]\n",
    "                             if head > 0 else \"root\"))"
   ]
  },
  {
   "cell_type": "markdown",
   "metadata": {},
   "source": [
    "### 2. Побудувати статичного оракула, який визначає послідовність дій для побудови дерева"
   ]
  },
  {
   "cell_type": "code",
   "execution_count": 10,
   "metadata": {},
   "outputs": [],
   "source": [
    "from enum import Enum\n",
    "class Actions(str, Enum):\n",
    "    SHIFT = \"shift\"\n",
    "    REDUCE = \"reduce\"\n",
    "    RIGHT = \"right\"\n",
    "    LEFT = \"left\""
   ]
  },
  {
   "cell_type": "code",
   "execution_count": 11,
   "metadata": {},
   "outputs": [],
   "source": [
    "ROOT = OrderedDict([('id', 0), ('form', 'ROOT'), ('lemma', 'ROOT'), ('upostag', 'ROOT'),\n",
    "                    ('xpostag', None), ('feats', None), ('head', None), ('deprel', None),\n",
    "                    ('deps', None), ('misc', None)])"
   ]
  },
  {
   "cell_type": "code",
   "execution_count": 12,
   "metadata": {},
   "outputs": [],
   "source": [
    "def has_relation(node_from, node_to):\n",
    "    if node_from['head'] == node_to['id']:\n",
    "        return True\n",
    "    \n",
    "    return False"
   ]
  },
  {
   "cell_type": "code",
   "execution_count": 14,
   "metadata": {},
   "outputs": [],
   "source": [
    "def oracle(stack, top_queue, relations):\n",
    "    \"\"\"\n",
    "    Make a decision on the right action to do.\n",
    "    \"\"\"\n",
    "    top_stack = stack[-1]\n",
    "\n",
    "    # check if both stack and queue are non-empty\n",
    "    if top_stack and not top_queue:\n",
    "        return Actions.REDUCE\n",
    "    # check if there are any clear dependencies\n",
    "    elif top_queue[\"head\"] == top_stack[\"id\"]:\n",
    "        return Actions.RIGHT\n",
    "    elif top_stack[\"head\"] == top_queue[\"id\"]:\n",
    "        return Actions.LEFT\n",
    "    # check if we can reduce the top of the stack\n",
    "    elif top_stack[\"id\"] in [i[0] for i in relations] and \\\n",
    "         (top_queue[\"head\"] < top_stack[\"id\"] or \\\n",
    "          [s for s in stack if s[\"head\"] == top_queue[\"id\"]]):\n",
    "        return Actions.REDUCE\n",
    "    # default option\n",
    "    else:\n",
    "        return Actions.SHIFT"
   ]
  },
  {
   "cell_type": "code",
   "execution_count": 15,
   "metadata": {},
   "outputs": [],
   "source": [
    "def trace_actions(tree):\n",
    "    \"\"\"\n",
    "    Try out the oracle to verify it's returning the right actions.\n",
    "    \"\"\"\n",
    "    features = []\n",
    "    stack, queue, relations = [ROOT], tree[:], []\n",
    "    actions = []\n",
    "    while queue or stack:        \n",
    "        action = oracle(stack if len(stack) > 0 else None,\n",
    "                        queue[0] if len(queue) > 0 else None,\n",
    "                        relations)\n",
    "        actions.append(action)\n",
    "        if action == Actions.SHIFT:\n",
    "            stack.append(queue.pop(0))\n",
    "        elif action == Actions.REDUCE:\n",
    "            stack.pop()\n",
    "        elif action == Actions.LEFT:\n",
    "            relations.append((stack[-1][\"id\"], queue[0][\"id\"]))\n",
    "            stack.pop()\n",
    "        elif action == Actions.RIGHT:\n",
    "            relations.append((queue[0][\"id\"], stack[-1][\"id\"]))\n",
    "            stack.append(queue.pop(0))\n",
    "        else:\n",
    "            print(\"Unknown action.\")\n",
    "    return actions"
   ]
  },
  {
   "cell_type": "code",
   "execution_count": 21,
   "metadata": {},
   "outputs": [
    {
     "data": {
      "text/plain": [
       "[<Actions.SHIFT: 'shift'>,\n",
       " <Actions.LEFT: 'left'>,\n",
       " <Actions.SHIFT: 'shift'>,\n",
       " <Actions.SHIFT: 'shift'>,\n",
       " <Actions.LEFT: 'left'>,\n",
       " <Actions.RIGHT: 'right'>,\n",
       " <Actions.RIGHT: 'right'>,\n",
       " <Actions.REDUCE: 'reduce'>,\n",
       " <Actions.REDUCE: 'reduce'>,\n",
       " <Actions.LEFT: 'left'>,\n",
       " <Actions.RIGHT: 'right'>,\n",
       " <Actions.SHIFT: 'shift'>,\n",
       " <Actions.LEFT: 'left'>,\n",
       " <Actions.RIGHT: 'right'>,\n",
       " <Actions.SHIFT: 'shift'>,\n",
       " <Actions.LEFT: 'left'>,\n",
       " <Actions.RIGHT: 'right'>,\n",
       " <Actions.RIGHT: 'right'>,\n",
       " <Actions.SHIFT: 'shift'>,\n",
       " <Actions.LEFT: 'left'>,\n",
       " <Actions.RIGHT: 'right'>,\n",
       " <Actions.REDUCE: 'reduce'>,\n",
       " <Actions.REDUCE: 'reduce'>,\n",
       " <Actions.REDUCE: 'reduce'>,\n",
       " <Actions.REDUCE: 'reduce'>,\n",
       " <Actions.RIGHT: 'right'>,\n",
       " <Actions.REDUCE: 'reduce'>,\n",
       " <Actions.REDUCE: 'reduce'>,\n",
       " <Actions.REDUCE: 'reduce'>]"
      ]
     },
     "execution_count": 21,
     "metadata": {},
     "output_type": "execute_result"
    }
   ],
   "source": [
    "trace_actions(train_trees[0])"
   ]
  },
  {
   "cell_type": "markdown",
   "metadata": {},
   "source": [
    "### 3. Виділити ознаки "
   ]
  },
  {
   "cell_type": "code",
   "execution_count": 17,
   "metadata": {},
   "outputs": [],
   "source": [
    "def create_features(stack, buf):\n",
    "    fetaures = dict()\n",
    "    if len(stack) > 0:\n",
    "        fetaures['s-0-form'] = str(stack[0]['form'])\n",
    "        fetaures['s-0-lemma'] = str(stack[0]['lemma'])\n",
    "        fetaures['s-0-postag'] = str(stack[0]['upostag'])\n",
    "        fetaures['s-0-feats'] = str(stack[0]['feats'])\n",
    "        \n",
    "        if len(stack) > 1:\n",
    "            fetaures['s-1-postag'] = str(stack[1]['upostag'])\n",
    "\n",
    "    return fetaures"
   ]
  },
  {
   "cell_type": "markdown",
   "metadata": {},
   "source": [
    "### 4. Дістати тренувальні та тестувальні дані"
   ]
  },
  {
   "cell_type": "markdown",
   "metadata": {},
   "source": [
    "* Написати функцію, яка дістає з дерева набір переходів та набір ознак для цих переходів."
   ]
  },
  {
   "cell_type": "code",
   "execution_count": 19,
   "metadata": {},
   "outputs": [],
   "source": [
    "def get_data(tree):\n",
    "    \n",
    "    stack, queue, relations = [ROOT], tree[:], []\n",
    "    features, actions = [], []\n",
    "    while queue or stack:        \n",
    "        action = oracle(stack if len(stack) > 0 else None,\n",
    "                        queue[0] if len(queue) > 0 else None,\n",
    "                        relations)\n",
    "        features.append(create_features(stack, queue))\n",
    "        actions.append(action.value)\n",
    "        if action == Actions.SHIFT:\n",
    "            stack.append(queue.pop(0))\n",
    "        elif action == Actions.REDUCE:\n",
    "            stack.pop()\n",
    "        elif action == Actions.LEFT:\n",
    "            relations.append((stack[-1][\"id\"], queue[0][\"id\"]))\n",
    "            stack.pop()\n",
    "        elif action == Actions.RIGHT:\n",
    "            relations.append((queue[0][\"id\"], stack[-1][\"id\"]))\n",
    "            stack.append(queue.pop(0))\n",
    "        else:\n",
    "            print(\"Unknown action.\")\n",
    "    return features, actions"
   ]
  },
  {
   "cell_type": "code",
   "execution_count": 28,
   "metadata": {},
   "outputs": [],
   "source": [
    "def get_data_for_trees(trees):\n",
    "    features_list, labels_list = [], []\n",
    "    for i in range(0, len(train_trees)):\n",
    "        features, labels = get_data([t for t in train_trees[i] if type(t['id']) == int])\n",
    "        features_list.append(features)\n",
    "        labels_list.append(labels)\n",
    "        \n",
    "    return features_list, labels_list"
   ]
  },
  {
   "cell_type": "code",
   "execution_count": 23,
   "metadata": {},
   "outputs": [],
   "source": [
    "features, labels = get_data(train_trees[0])"
   ]
  },
  {
   "cell_type": "code",
   "execution_count": 79,
   "metadata": {},
   "outputs": [
    {
     "data": {
      "text/plain": [
       "[{'s-0-form': 'ROOT',\n",
       "  's-0-lemma': 'ROOT',\n",
       "  's-0-postag': 'ROOT',\n",
       "  's-0-feats': 'None'},\n",
       " {'s-0-form': 'ROOT',\n",
       "  's-0-lemma': 'ROOT',\n",
       "  's-0-postag': 'ROOT',\n",
       "  's-0-feats': 'None',\n",
       "  's-1-postag': 'ADP'},\n",
       " {'s-0-form': 'ROOT',\n",
       "  's-0-lemma': 'ROOT',\n",
       "  's-0-postag': 'ROOT',\n",
       "  's-0-feats': 'None'},\n",
       " {'s-0-form': 'ROOT',\n",
       "  's-0-lemma': 'ROOT',\n",
       "  's-0-postag': 'ROOT',\n",
       "  's-0-feats': 'None',\n",
       "  's-1-postag': 'NOUN'},\n",
       " {'s-0-form': 'ROOT',\n",
       "  's-0-lemma': 'ROOT',\n",
       "  's-0-postag': 'ROOT',\n",
       "  's-0-feats': 'None',\n",
       "  's-1-postag': 'NOUN'},\n",
       " {'s-0-form': 'ROOT',\n",
       "  's-0-lemma': 'ROOT',\n",
       "  's-0-postag': 'ROOT',\n",
       "  's-0-feats': 'None',\n",
       "  's-1-postag': 'NOUN'},\n",
       " {'s-0-form': 'ROOT',\n",
       "  's-0-lemma': 'ROOT',\n",
       "  's-0-postag': 'ROOT',\n",
       "  's-0-feats': 'None',\n",
       "  's-1-postag': 'NOUN'},\n",
       " {'s-0-form': 'ROOT',\n",
       "  's-0-lemma': 'ROOT',\n",
       "  's-0-postag': 'ROOT',\n",
       "  's-0-feats': 'None',\n",
       "  's-1-postag': 'NOUN'},\n",
       " {'s-0-form': 'ROOT',\n",
       "  's-0-lemma': 'ROOT',\n",
       "  's-0-postag': 'ROOT',\n",
       "  's-0-feats': 'None',\n",
       "  's-1-postag': 'NOUN'},\n",
       " {'s-0-form': 'ROOT',\n",
       "  's-0-lemma': 'ROOT',\n",
       "  's-0-postag': 'ROOT',\n",
       "  's-0-feats': 'None',\n",
       "  's-1-postag': 'NOUN'},\n",
       " {'s-0-form': 'ROOT',\n",
       "  's-0-lemma': 'ROOT',\n",
       "  's-0-postag': 'ROOT',\n",
       "  's-0-feats': 'None'},\n",
       " {'s-0-form': 'ROOT',\n",
       "  's-0-lemma': 'ROOT',\n",
       "  's-0-postag': 'ROOT',\n",
       "  's-0-feats': 'None',\n",
       "  's-1-postag': 'VERB'},\n",
       " {'s-0-form': 'ROOT',\n",
       "  's-0-lemma': 'ROOT',\n",
       "  's-0-postag': 'ROOT',\n",
       "  's-0-feats': 'None',\n",
       "  's-1-postag': 'VERB'},\n",
       " {'s-0-form': 'ROOT',\n",
       "  's-0-lemma': 'ROOT',\n",
       "  's-0-postag': 'ROOT',\n",
       "  's-0-feats': 'None',\n",
       "  's-1-postag': 'VERB'},\n",
       " {'s-0-form': 'ROOT',\n",
       "  's-0-lemma': 'ROOT',\n",
       "  's-0-postag': 'ROOT',\n",
       "  's-0-feats': 'None',\n",
       "  's-1-postag': 'VERB'},\n",
       " {'s-0-form': 'ROOT',\n",
       "  's-0-lemma': 'ROOT',\n",
       "  's-0-postag': 'ROOT',\n",
       "  's-0-feats': 'None',\n",
       "  's-1-postag': 'VERB'},\n",
       " {'s-0-form': 'ROOT',\n",
       "  's-0-lemma': 'ROOT',\n",
       "  's-0-postag': 'ROOT',\n",
       "  's-0-feats': 'None',\n",
       "  's-1-postag': 'VERB'},\n",
       " {'s-0-form': 'ROOT',\n",
       "  's-0-lemma': 'ROOT',\n",
       "  's-0-postag': 'ROOT',\n",
       "  's-0-feats': 'None',\n",
       "  's-1-postag': 'VERB'},\n",
       " {'s-0-form': 'ROOT',\n",
       "  's-0-lemma': 'ROOT',\n",
       "  's-0-postag': 'ROOT',\n",
       "  's-0-feats': 'None',\n",
       "  's-1-postag': 'VERB'},\n",
       " {'s-0-form': 'ROOT',\n",
       "  's-0-lemma': 'ROOT',\n",
       "  's-0-postag': 'ROOT',\n",
       "  's-0-feats': 'None',\n",
       "  's-1-postag': 'VERB'},\n",
       " {'s-0-form': 'ROOT',\n",
       "  's-0-lemma': 'ROOT',\n",
       "  's-0-postag': 'ROOT',\n",
       "  's-0-feats': 'None',\n",
       "  's-1-postag': 'VERB'},\n",
       " {'s-0-form': 'ROOT',\n",
       "  's-0-lemma': 'ROOT',\n",
       "  's-0-postag': 'ROOT',\n",
       "  's-0-feats': 'None',\n",
       "  's-1-postag': 'VERB'},\n",
       " {'s-0-form': 'ROOT',\n",
       "  's-0-lemma': 'ROOT',\n",
       "  's-0-postag': 'ROOT',\n",
       "  's-0-feats': 'None',\n",
       "  's-1-postag': 'VERB'},\n",
       " {'s-0-form': 'ROOT',\n",
       "  's-0-lemma': 'ROOT',\n",
       "  's-0-postag': 'ROOT',\n",
       "  's-0-feats': 'None',\n",
       "  's-1-postag': 'VERB'},\n",
       " {'s-0-form': 'ROOT',\n",
       "  's-0-lemma': 'ROOT',\n",
       "  's-0-postag': 'ROOT',\n",
       "  's-0-feats': 'None',\n",
       "  's-1-postag': 'VERB'},\n",
       " {'s-0-form': 'ROOT',\n",
       "  's-0-lemma': 'ROOT',\n",
       "  's-0-postag': 'ROOT',\n",
       "  's-0-feats': 'None',\n",
       "  's-1-postag': 'VERB'},\n",
       " {'s-0-form': 'ROOT',\n",
       "  's-0-lemma': 'ROOT',\n",
       "  's-0-postag': 'ROOT',\n",
       "  's-0-feats': 'None',\n",
       "  's-1-postag': 'VERB'},\n",
       " {'s-0-form': 'ROOT',\n",
       "  's-0-lemma': 'ROOT',\n",
       "  's-0-postag': 'ROOT',\n",
       "  's-0-feats': 'None',\n",
       "  's-1-postag': 'VERB'},\n",
       " {'s-0-form': 'ROOT',\n",
       "  's-0-lemma': 'ROOT',\n",
       "  's-0-postag': 'ROOT',\n",
       "  's-0-feats': 'None'}]"
      ]
     },
     "execution_count": 79,
     "metadata": {},
     "output_type": "execute_result"
    }
   ],
   "source": [
    "features"
   ]
  },
  {
   "cell_type": "markdown",
   "metadata": {},
   "source": [
    "* Пройтися по всіх деревах у тренувальній вибірці та дістати всі переходи з ознаками."
   ]
  },
  {
   "cell_type": "code",
   "execution_count": 160,
   "metadata": {},
   "outputs": [],
   "source": [
    "train_features, train_labels = get_data_for_trees(train_trees)"
   ]
  },
  {
   "cell_type": "code",
   "execution_count": 183,
   "metadata": {},
   "outputs": [],
   "source": [
    "train_features_flatten = [item for sublist in train_features for item in sublist]\n",
    "train_labels_flatten = [item for sublist in train_labels for item in sublist]"
   ]
  },
  {
   "cell_type": "markdown",
   "metadata": {},
   "source": [
    "* Пройтися по всіх деревах у тестувальній вибірці та дістати всі переходи з ознаками."
   ]
  },
  {
   "cell_type": "code",
   "execution_count": 161,
   "metadata": {},
   "outputs": [],
   "source": [
    "dev_features, dev_labels = get_data_for_trees(dev_trees)"
   ]
  },
  {
   "cell_type": "code",
   "execution_count": 184,
   "metadata": {},
   "outputs": [],
   "source": [
    "dev_features_flatten = [item for sublist in dev_features for item in sublist]\n",
    "dev_labels_flatten = [item for sublist in dev_labels for item in sublist]"
   ]
  },
  {
   "cell_type": "markdown",
   "metadata": {},
   "source": [
    "### 5. Натренувати класифікатор"
   ]
  },
  {
   "cell_type": "code",
   "execution_count": 188,
   "metadata": {},
   "outputs": [],
   "source": [
    "from sklearn.pipeline import Pipeline\n",
    "from sklearn.feature_extraction import DictVectorizer\n",
    "from sklearn.linear_model import LogisticRegression\n",
    "from sklearn.metrics import classification_report\n"
   ]
  },
  {
   "cell_type": "code",
   "execution_count": 186,
   "metadata": {},
   "outputs": [],
   "source": [
    "clf = Pipeline([\n",
    "    ('vect', DictVectorizer()),\n",
    "    ('log_reg', LogisticRegression(multi_class='multinomial', random_state=42, solver='lbfgs'))\n",
    "])"
   ]
  },
  {
   "cell_type": "code",
   "execution_count": 187,
   "metadata": {},
   "outputs": [
    {
     "name": "stderr",
     "output_type": "stream",
     "text": [
      "/Library/Frameworks/Python.framework/Versions/3.6/lib/python3.6/site-packages/sklearn/linear_model/logistic.py:758: ConvergenceWarning: lbfgs failed to converge. Increase the number of iterations.\n",
      "  \"of iterations.\", ConvergenceWarning)\n"
     ]
    },
    {
     "data": {
      "text/plain": [
       "Pipeline(memory=None,\n",
       "     steps=[('vect', DictVectorizer(dtype=<class 'numpy.float64'>, separator='=', sort=True,\n",
       "        sparse=True)), ('log_reg', LogisticRegression(C=1.0, class_weight=None, dual=False, fit_intercept=True,\n",
       "          intercept_scaling=1, max_iter=100, multi_class='multinomial',\n",
       "          n_jobs=None, penalty='l2', random_state=42, solver='lbfgs',\n",
       "          tol=0.0001, verbose=0, warm_start=False))])"
      ]
     },
     "execution_count": 187,
     "metadata": {},
     "output_type": "execute_result"
    }
   ],
   "source": [
    "clf.fit(train_features_flatten, train_labels_flatten)"
   ]
  },
  {
   "cell_type": "code",
   "execution_count": 191,
   "metadata": {},
   "outputs": [
    {
     "name": "stderr",
     "output_type": "stream",
     "text": [
      "/Library/Frameworks/Python.framework/Versions/3.6/lib/python3.6/site-packages/sklearn/metrics/classification.py:1143: UndefinedMetricWarning: Precision and F-score are ill-defined and being set to 0.0 in labels with no predicted samples.\n",
      "  'precision', 'predicted', average, warn_for)\n"
     ]
    },
    {
     "name": "stdout",
     "output_type": "stream",
     "text": [
      "              precision    recall  f1-score   support\n",
      "\n",
      "        left       0.34      0.49      0.40     48195\n",
      "      reduce       0.28      0.59      0.38     49702\n",
      "       right       0.00      0.00      0.00     42685\n",
      "       shift       0.37      0.13      0.19     49716\n",
      "\n",
      "   micro avg       0.31      0.31      0.31    190298\n",
      "   macro avg       0.25      0.30      0.24    190298\n",
      "weighted avg       0.26      0.31      0.25    190298\n",
      "\n"
     ]
    }
   ],
   "source": [
    "pred_labels = clf.predict(dev_features_flatten)\n",
    "print(classification_report(\n",
    "    dev_labels_flatten, pred_labels\n",
    "))"
   ]
  },
  {
   "cell_type": "code",
   "execution_count": 39,
   "metadata": {},
   "outputs": [],
   "source": [
    "## TODO: improve clasifier "
   ]
  },
  {
   "cell_type": "code",
   "execution_count": null,
   "metadata": {},
   "outputs": [],
   "source": []
  },
  {
   "cell_type": "markdown",
   "metadata": {},
   "source": [
    "### 6. Вирахувати unlabeled attachment score (UAS)"
   ]
  },
  {
   "cell_type": "markdown",
   "metadata": {},
   "source": [
    "* Скільки залежностей у побудованому дереві збіглося з еталонним деревом? <br>\n",
    "* Порахувати на тестувальній вибірці.\n"
   ]
  },
  {
   "cell_type": "markdown",
   "metadata": {},
   "source": [
    "UAS - the percentage of words in an input that are assign the correct head."
   ]
  },
  {
   "cell_type": "code",
   "execution_count": 195,
   "metadata": {},
   "outputs": [],
   "source": [
    "def dep_parse(tree, oracle):\n",
    "    stack, queue, relations = [ROOT], tree[:], []\n",
    "    while queue or stack:   \n",
    "        if stack and not queue:\n",
    "            stack.pop()\n",
    "        \n",
    "        else:\n",
    "            features = create_features(stack, queue)\n",
    "#             print(features)\n",
    "            action = oracle.predict([features])[0]\n",
    "#             print(action)\n",
    "#             actions.append(action)\n",
    "            if action == Actions.SHIFT:\n",
    "                stack.append(queue.pop(0))\n",
    "            elif action == Actions.REDUCE:\n",
    "                stack.pop()\n",
    "            elif action == Actions.LEFT:\n",
    "                relations.append((stack[-1][\"id\"], queue[0][\"id\"]))\n",
    "                stack.pop()\n",
    "            elif action == Actions.RIGHT:\n",
    "                relations.append((queue[0][\"id\"], stack[-1][\"id\"]))\n",
    "                stack.append(queue.pop(0))\n",
    "            else:\n",
    "                print(\"Unknown action.\")\n",
    "    return sorted(relations)"
   ]
  },
  {
   "cell_type": "code",
   "execution_count": 196,
   "metadata": {},
   "outputs": [],
   "source": [
    "def calc_unlabeled_attachment_score(trees, oracle):\n",
    "    total, tp = 0, 0\n",
    "    for tree in trees:\n",
    "        tree = [t for t in tree if type(t['id']) == int]\n",
    "        etalon = [(node['id'], node['head']) for node in tree]\n",
    "        pred = dep_parse(tree, oracle)\n",
    "        total += len(tree)\n",
    "        tp += len(set(etalon).intersection(set(pred)))\n",
    "    \n",
    "    uas = round(tp / total, 2)\n",
    "    \n",
    "    return total, tp, uas"
   ]
  },
  {
   "cell_type": "code",
   "execution_count": 197,
   "metadata": {},
   "outputs": [],
   "source": [
    "total, tp, uas = calc_unlabeled_attachment_score(dev_trees, clf)"
   ]
  },
  {
   "cell_type": "code",
   "execution_count": 198,
   "metadata": {},
   "outputs": [
    {
     "name": "stdout",
     "output_type": "stream",
     "text": [
      "Total 12574\n",
      "Correct 3240\n",
      "UAS 0.26\n"
     ]
    }
   ],
   "source": [
    "print(\"Total\", total)\n",
    "print(\"Correct\", tp)\n",
    "print(\"UAS\", uas)"
   ]
  }
 ],
 "metadata": {
  "kernelspec": {
   "display_name": "Python 3",
   "language": "python",
   "name": "python3"
  },
  "language_info": {
   "codemirror_mode": {
    "name": "ipython",
    "version": 3
   },
   "file_extension": ".py",
   "mimetype": "text/x-python",
   "name": "python",
   "nbconvert_exporter": "python",
   "pygments_lexer": "ipython3",
   "version": "3.6.8"
  }
 },
 "nbformat": 4,
 "nbformat_minor": 2
}
