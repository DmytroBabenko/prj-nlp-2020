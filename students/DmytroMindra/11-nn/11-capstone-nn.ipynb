{
 "cells": [
  {
   "cell_type": "markdown",
   "metadata": {},
   "source": [
    "# Capstone NN #"
   ]
  },
  {
   "cell_type": "markdown",
   "metadata": {},
   "source": [
    "**Summary**\n",
    "1. Я исправил формат данных из работы #7 и получил точность 0.81 (до исправления была 0.92) на логистической регрессии и 0.82 на нейронке.\n",
    "2. Нейронка не смогла заоверфититься на тренировочные данные. Нужно поработать над фичами."
   ]
  },
  {
   "cell_type": "code",
   "execution_count": 1,
   "metadata": {
    "pycharm": {
     "is_executing": false,
     "name": "#%%\n"
    }
   },
   "outputs": [],
   "source": [
    "import json\n",
    "import random\n",
    "from sklearn.model_selection import cross_val_score"
   ]
  },
  {
   "cell_type": "markdown",
   "metadata": {},
   "source": [
    "Загружаем данные:"
   ]
  },
  {
   "cell_type": "code",
   "execution_count": 2,
   "metadata": {
    "pycharm": {
     "is_executing": false,
     "name": "#%%\n"
    }
   },
   "outputs": [
    {
     "name": "stdout",
     "output_type": "stream",
     "text": [
      "test_data: 1000\n",
      "train_data: 11679\n",
      "validation_data: 1000\n"
     ]
    }
   ],
   "source": [
    "PATH_TO_SCIQ_DATASET = 'data/SciQ dataset/'\n",
    "TEST_FILENAME = 'test.json'\n",
    "TRAIN_FILENAME = 'train.json'\n",
    "VALIDATION_FILENAME = 'valid.json'\n",
    "\n",
    "with open(PATH_TO_SCIQ_DATASET+TEST_FILENAME,'r') as json_file:\n",
    "    test_data =  json.load(json_file)\n",
    "\n",
    "with open(PATH_TO_SCIQ_DATASET+TRAIN_FILENAME,'r') as json_file:\n",
    "    train_data =  json.load(json_file)\n",
    "\n",
    "with open(PATH_TO_SCIQ_DATASET+VALIDATION_FILENAME,'r') as json_file:\n",
    "    validation_data =  json.load(json_file)\n",
    "\n",
    "    \n",
    "print('test_data:',len(test_data))\n",
    "print('train_data:',len(train_data))\n",
    "print('validation_data:',len(validation_data))"
   ]
  },
  {
   "cell_type": "markdown",
   "metadata": {},
   "source": [
    "```json5\n",
    "{\n",
    "    \"question\": \"Compounds that are capable of accepting electrons, such as o 2 or f2, are called what?\",\n",
    "    \"distractor3\": \"residues\",\n",
    "    \"distractor1\": \"antioxidants\",\n",
    "    \"distractor2\": \"Oxygen\",\n",
    "    \"correct_answer\": \"oxidants\",\n",
    "    \"support\": \"Oxidants and Reductants Compounds that are capable of accepting electrons, such as O 2 or F2, are calledoxidants (or oxidizing agents) because they can oxidize other compounds. In the process of accepting electrons, an oxidant is reduced. Compounds that are capable of donating electrons, such as sodium metal or cyclohexane (C6H12), are calledreductants (or reducing agents) because they can cause the reduction of another compound. In the process of donating electrons, a reductant is oxidized. These relationships are summarized in Equation 3.30: Equation 3.30 Saylor URL: http://www. saylor. org/books.\"\n",
    "}\n",
    "```\n",
    "Я преобразую данные в два вектора: в первом будут варианты ответов (distractor1, distractor2, distractor3, correct_answer) и фичи, которые я извлеку из support. Например, встречается ли каждый из этих вариантов ответа в тексте?\n",
    "Вторым вектором будет вектор метор, где `True` означает правильный ответ, а `False` - дистрактор: [False False False True]\n",
    "Также перед добавлением вариантов ответа в общий вектор, я буду их перемешивать."
   ]
  },
  {
   "cell_type": "code",
   "execution_count": 33,
   "metadata": {},
   "outputs": [
    {
     "name": "stdout",
     "output_type": "stream",
     "text": [
      "Collecting flatdict\n",
      "  Downloading flatdict-4.0.1.tar.gz (8.3 kB)\n",
      "Building wheels for collected packages: flatdict\n",
      "  Building wheel for flatdict (setup.py) ... \u001b[?25ldone\n",
      "\u001b[?25h  Created wheel for flatdict: filename=flatdict-4.0.1-py3-none-any.whl size=6932 sha256=e40826da48076c2f3d9272200b321ddc259101375793361ebd0c5c5301f4042c\n",
      "  Stored in directory: /Users/dmytromindra/Library/Caches/pip/wheels/93/67/8f/9d074db7f341c7a487f1dfb9758390cf8108f87ab78fda89ef\n",
      "Successfully built flatdict\n",
      "Installing collected packages: flatdict\n",
      "Successfully installed flatdict-4.0.1\n"
     ]
    }
   ],
   "source": [
    "!pip install flatdict"
   ]
  },
  {
   "cell_type": "code",
   "execution_count": 24,
   "metadata": {
    "pycharm": {
     "is_executing": false,
     "name": "#%%\n"
    }
   },
   "outputs": [
    {
     "data": {
      "text/plain": [
       "({'answer0': {'present_in_support': False},\n",
       "  'answer1': {'present_in_support': True},\n",
       "  'answer2': {'present_in_support': False},\n",
       "  'answer3': {'present_in_support': True}},\n",
       " 1)"
      ]
     },
     "execution_count": 24,
     "metadata": {},
     "output_type": "execute_result"
    }
   ],
   "source": [
    "\n",
    "def get_answer_features(answer, support):\n",
    "    features = {}\n",
    "    if support.lower().find(answer.lower())>-1:\n",
    "        features['present_in_support'] = True\n",
    "    else:\n",
    "        features['present_in_support'] = False\n",
    "    return features\n",
    "\n",
    "def get_question_features(question_data):\n",
    "    \n",
    "    question = question_data[\"question\"]\n",
    "    distractors = [question_data[\"distractor1\"], question_data[\"distractor2\"],question_data[\"distractor3\"]]\n",
    "    correct_answer = question_data[\"correct_answer\"]\n",
    "    support = question_data[\"support\"]\n",
    "    answers = distractors + [correct_answer]\n",
    "    random.shuffle(answers)\n",
    "    \n",
    "    features = {}\n",
    "    \n",
    "    correct_answer_id = 0\n",
    "    answer_id = 0\n",
    "    for answer in answers:\n",
    "        \n",
    "        features['answer{}'.format(answer_id)] = get_answer_features(answer, support)\n",
    "\n",
    "        if answer == correct_answer:\n",
    "            correct_answer_id = answer_id \n",
    "        \n",
    "        answer_id +=1\n",
    "        \n",
    "    return features,correct_answer_id\n",
    "\n",
    "get_question_features(test_data[105])"
   ]
  },
  {
   "cell_type": "markdown",
   "metadata": {},
   "source": [
    "# LogisticRegression"
   ]
  },
  {
   "cell_type": "code",
   "execution_count": 56,
   "metadata": {
    "pycharm": {
     "is_executing": false,
     "name": "#%%\n"
    }
   },
   "outputs": [
    {
     "name": "stdout",
     "output_type": "stream",
     "text": [
      "[{'answer0:present_in_support': False, 'answer1:present_in_support': False, 'answer2:present_in_support': True, 'answer3:present_in_support': False}]\n",
      "\n",
      "Cross validation:\n",
      "[0.81078767 0.81035959 0.80436644 0.80008562 0.8124197 ]\n",
      "classification_report:\n",
      "              precision    recall  f1-score   support\n",
      "\n",
      "           0       0.88      0.81      0.84       265\n",
      "           1       0.93      0.75      0.83       232\n",
      "           2       0.97      0.74      0.84       239\n",
      "           3       0.64      0.95      0.77       264\n",
      "\n",
      "    accuracy                           0.81      1000\n",
      "   macro avg       0.85      0.81      0.82      1000\n",
      "weighted avg       0.85      0.81      0.82      1000\n",
      "\n"
     ]
    }
   ],
   "source": [
    "train_data_features = []\n",
    "train_data_labels = []\n",
    "test_data_features = []\n",
    "test_data_labels = []\n",
    "\n",
    "import flatdict\n",
    "\n",
    "for question in train_data:\n",
    "    features,correct_answer_id = get_question_features(question)\n",
    "    train_data_features.append(dict(flatdict.FlatDict(features)))\n",
    "    train_data_labels.append(correct_answer_id)\n",
    "\n",
    "for question in test_data:\n",
    "    features,correct_answer_id = get_question_features(question)\n",
    "    test_data_features.append(dict(flatdict.FlatDict(features)))\n",
    "    test_data_labels.append(correct_answer_id)\n",
    "\n",
    "import numpy as np\n",
    "from sklearn.feature_extraction import DictVectorizer\n",
    "from sklearn.linear_model import LogisticRegression\n",
    "from sklearn.metrics import classification_report\n",
    "\n",
    "print (train_data_features[:1])\n",
    "print ()\n",
    "\n",
    "vectorizer = DictVectorizer(sparse=False)\n",
    "\n",
    "train_features_vectorized = vectorizer.fit_transform(train_data_features)\n",
    "test_features_vectorized = vectorizer.transform(test_data_features)\n",
    "\n",
    "lrc = LogisticRegression(random_state=42, solver=\"sag\", multi_class=\"multinomial\",\n",
    "                             max_iter=50, verbose=0)\n",
    "\n",
    "lrc.fit(train_features_vectorized, train_data_labels)\n",
    "\n",
    "scores = cross_val_score(lrc, train_features_vectorized, train_data_labels, cv=5)\n",
    "\n",
    "print ('Cross validation:')\n",
    "print (scores)\n",
    "\n",
    "print ('classification_report:')\n",
    "predicted_labels = lrc.predict(test_features_vectorized)\n",
    "print(classification_report(test_data_labels, predicted_labels))"
   ]
  },
  {
   "cell_type": "markdown",
   "metadata": {},
   "source": [
    "# NN"
   ]
  },
  {
   "cell_type": "code",
   "execution_count": 77,
   "metadata": {},
   "outputs": [
    {
     "name": "stdout",
     "output_type": "stream",
     "text": [
      "Requirement already satisfied: matplotlib in ./venv/lib/python3.8/site-packages (3.2.1)\r\n",
      "Requirement already satisfied: pyparsing!=2.0.4,!=2.1.2,!=2.1.6,>=2.0.1 in ./venv/lib/python3.8/site-packages (from matplotlib) (2.4.7)\r\n",
      "Requirement already satisfied: kiwisolver>=1.0.1 in ./venv/lib/python3.8/site-packages (from matplotlib) (1.2.0)\r\n",
      "Requirement already satisfied: cycler>=0.10 in ./venv/lib/python3.8/site-packages (from matplotlib) (0.10.0)\r\n",
      "Requirement already satisfied: numpy>=1.11 in ./venv/lib/python3.8/site-packages (from matplotlib) (1.18.4)\r\n",
      "Requirement already satisfied: python-dateutil>=2.1 in ./venv/lib/python3.8/site-packages (from matplotlib) (2.8.1)\r\n",
      "Requirement already satisfied: six in ./venv/lib/python3.8/site-packages (from cycler>=0.10->matplotlib) (1.15.0)\r\n"
     ]
    }
   ],
   "source": [
    "!pip install matplotlib"
   ]
  },
  {
   "cell_type": "code",
   "execution_count": 78,
   "metadata": {},
   "outputs": [],
   "source": [
    "import matplotlib.pyplot as plt\n",
    "plt.style.use('ggplot')\n",
    "\n",
    "def plot_history(history):\n",
    "    acc = history.history['accuracy']\n",
    "    val_acc = history.history['val_accuracy']\n",
    "    loss = history.history['loss']\n",
    "    val_loss = history.history['val_loss']\n",
    "    x = range(1, len(acc) + 1)\n",
    "\n",
    "    plt.figure(figsize=(12, 5))\n",
    "    plt.subplot(1, 2, 1)\n",
    "    plt.plot(x, acc, 'b', label='Training acc')\n",
    "    plt.plot(x, val_acc, 'r', label='Validation acc')\n",
    "    plt.title('Training and validation accuracy')\n",
    "    plt.legend()\n",
    "    plt.subplot(1, 2, 2)\n",
    "    plt.plot(x, loss, 'b', label='Training loss')\n",
    "    plt.plot(x, val_loss, 'r', label='Validation loss')\n",
    "    plt.title('Training and validation loss')\n",
    "    plt.legend()"
   ]
  },
  {
   "cell_type": "code",
   "execution_count": 73,
   "metadata": {},
   "outputs": [],
   "source": [
    "X_train = np.array(train_features_vectorized)\n",
    "y_train = np.array(train_data_labels)\n",
    "X_test = np.array(test_features_vectorized)\n",
    "y_test = np.array(test_data_labels)"
   ]
  },
  {
   "cell_type": "code",
   "execution_count": 80,
   "metadata": {},
   "outputs": [
    {
     "name": "stdout",
     "output_type": "stream",
     "text": [
      "Model: \"sequential_16\"\n",
      "_________________________________________________________________\n",
      "Layer (type)                 Output Shape              Param #   \n",
      "=================================================================\n",
      "dense_21 (Dense)             (None, 100)               500       \n",
      "_________________________________________________________________\n",
      "dense_22 (Dense)             (None, 4)                 404       \n",
      "=================================================================\n",
      "Total params: 904\n",
      "Trainable params: 904\n",
      "Non-trainable params: 0\n",
      "_________________________________________________________________\n",
      "Model: \"sequential_16\"\n",
      "_________________________________________________________________\n",
      "Layer (type)                 Output Shape              Param #   \n",
      "=================================================================\n",
      "dense_21 (Dense)             (None, 100)               500       \n",
      "_________________________________________________________________\n",
      "dense_22 (Dense)             (None, 4)                 404       \n",
      "=================================================================\n",
      "Total params: 904\n",
      "Trainable params: 904\n",
      "Non-trainable params: 0\n",
      "_________________________________________________________________\n",
      "Train on 11679 samples, validate on 1000 samples\n",
      "Epoch 1/100\n",
      "11679/11679 [==============================] - 1s 115us/step - loss: 0.4438 - accuracy: 0.8030 - val_loss: 0.3636 - val_accuracy: 0.8080\n",
      "Epoch 2/100\n",
      "11679/11679 [==============================] - 1s 101us/step - loss: 0.3538 - accuracy: 0.8117 - val_loss: 0.3657 - val_accuracy: 0.8100\n",
      "Epoch 3/100\n",
      "11679/11679 [==============================] - 1s 97us/step - loss: 0.3534 - accuracy: 0.8152 - val_loss: 0.3676 - val_accuracy: 0.7960\n",
      "Epoch 4/100\n",
      "11679/11679 [==============================] - 1s 98us/step - loss: 0.3535 - accuracy: 0.8109 - val_loss: 0.3705 - val_accuracy: 0.7970\n",
      "Epoch 5/100\n",
      "11679/11679 [==============================] - 1s 98us/step - loss: 0.3535 - accuracy: 0.8115 - val_loss: 0.3641 - val_accuracy: 0.8110\n",
      "Epoch 6/100\n",
      "11679/11679 [==============================] - 1s 99us/step - loss: 0.3526 - accuracy: 0.8144 - val_loss: 0.3668 - val_accuracy: 0.7910\n",
      "Epoch 7/100\n",
      "11679/11679 [==============================] - 1s 99us/step - loss: 0.3537 - accuracy: 0.8085 - val_loss: 0.3622 - val_accuracy: 0.8080\n",
      "Epoch 8/100\n",
      "11679/11679 [==============================] - 1s 98us/step - loss: 0.3535 - accuracy: 0.8054 - val_loss: 0.3705 - val_accuracy: 0.8050\n",
      "Epoch 9/100\n",
      "11679/11679 [==============================] - 1s 98us/step - loss: 0.3533 - accuracy: 0.8089 - val_loss: 0.3650 - val_accuracy: 0.8040\n",
      "Epoch 10/100\n",
      "11679/11679 [==============================] - 1s 99us/step - loss: 0.3531 - accuracy: 0.8115 - val_loss: 0.3631 - val_accuracy: 0.8120\n",
      "Epoch 11/100\n",
      "11679/11679 [==============================] - 1s 101us/step - loss: 0.3534 - accuracy: 0.8103 - val_loss: 0.3623 - val_accuracy: 0.8080\n",
      "Epoch 12/100\n",
      "11679/11679 [==============================] - 1s 102us/step - loss: 0.3525 - accuracy: 0.8139 - val_loss: 0.3638 - val_accuracy: 0.8010\n",
      "Epoch 13/100\n",
      "11679/11679 [==============================] - 1s 102us/step - loss: 0.3533 - accuracy: 0.8102 - val_loss: 0.3657 - val_accuracy: 0.7990\n",
      "Epoch 14/100\n",
      "11679/11679 [==============================] - 1s 101us/step - loss: 0.3528 - accuracy: 0.8105 - val_loss: 0.3668 - val_accuracy: 0.8080\n",
      "Epoch 15/100\n",
      "11679/11679 [==============================] - 1s 99us/step - loss: 0.3526 - accuracy: 0.8111 - val_loss: 0.3678 - val_accuracy: 0.8060\n",
      "Epoch 16/100\n",
      "11679/11679 [==============================] - 1s 99us/step - loss: 0.3527 - accuracy: 0.8109 - val_loss: 0.3676 - val_accuracy: 0.7980\n",
      "Epoch 17/100\n",
      "11679/11679 [==============================] - 1s 101us/step - loss: 0.3530 - accuracy: 0.8085 - val_loss: 0.3663 - val_accuracy: 0.8040\n",
      "Epoch 18/100\n",
      "11679/11679 [==============================] - 1s 99us/step - loss: 0.3525 - accuracy: 0.8111 - val_loss: 0.3616 - val_accuracy: 0.8120\n",
      "Epoch 19/100\n",
      "11679/11679 [==============================] - 1s 108us/step - loss: 0.3529 - accuracy: 0.8071 - val_loss: 0.3636 - val_accuracy: 0.8080\n",
      "Epoch 20/100\n",
      "11679/11679 [==============================] - 1s 97us/step - loss: 0.3523 - accuracy: 0.8118 - val_loss: 0.3663 - val_accuracy: 0.7980\n",
      "Epoch 21/100\n",
      "11679/11679 [==============================] - 1s 100us/step - loss: 0.3524 - accuracy: 0.8112 - val_loss: 0.3619 - val_accuracy: 0.8070\n",
      "Epoch 22/100\n",
      "11679/11679 [==============================] - 1s 97us/step - loss: 0.3525 - accuracy: 0.8078 - val_loss: 0.3636 - val_accuracy: 0.8040\n",
      "Epoch 23/100\n",
      "11679/11679 [==============================] - 1s 88us/step - loss: 0.3523 - accuracy: 0.8096 - val_loss: 0.3676 - val_accuracy: 0.8020\n",
      "Epoch 24/100\n",
      "11679/11679 [==============================] - 1s 89us/step - loss: 0.3525 - accuracy: 0.8109 - val_loss: 0.3667 - val_accuracy: 0.8070\n",
      "Epoch 25/100\n",
      "11679/11679 [==============================] - 1s 90us/step - loss: 0.3529 - accuracy: 0.8096 - val_loss: 0.3645 - val_accuracy: 0.8080\n",
      "Epoch 26/100\n",
      "11679/11679 [==============================] - 1s 92us/step - loss: 0.3518 - accuracy: 0.8098 - val_loss: 0.3643 - val_accuracy: 0.8070\n",
      "Epoch 27/100\n",
      "11679/11679 [==============================] - 1s 97us/step - loss: 0.3522 - accuracy: 0.8120 - val_loss: 0.3633 - val_accuracy: 0.8060\n",
      "Epoch 28/100\n",
      "11679/11679 [==============================] - 1s 90us/step - loss: 0.3517 - accuracy: 0.8105 - val_loss: 0.3748 - val_accuracy: 0.8040\n",
      "Epoch 29/100\n",
      "11679/11679 [==============================] - 1s 90us/step - loss: 0.3527 - accuracy: 0.8097 - val_loss: 0.3735 - val_accuracy: 0.7920\n",
      "Epoch 30/100\n",
      "11679/11679 [==============================] - 1s 96us/step - loss: 0.3525 - accuracy: 0.8137 - val_loss: 0.3652 - val_accuracy: 0.8000\n",
      "Epoch 31/100\n",
      "11679/11679 [==============================] - 1s 93us/step - loss: 0.3522 - accuracy: 0.8098 - val_loss: 0.3620 - val_accuracy: 0.8170\n",
      "Epoch 32/100\n",
      "11679/11679 [==============================] - 1s 94us/step - loss: 0.3527 - accuracy: 0.8086 - val_loss: 0.3671 - val_accuracy: 0.7990\n",
      "Epoch 33/100\n",
      "11679/11679 [==============================] - 1s 95us/step - loss: 0.3520 - accuracy: 0.8136 - val_loss: 0.3639 - val_accuracy: 0.8140\n",
      "Epoch 34/100\n",
      "11679/11679 [==============================] - 1s 95us/step - loss: 0.3529 - accuracy: 0.8092 - val_loss: 0.3637 - val_accuracy: 0.8100\n",
      "Epoch 35/100\n",
      "11679/11679 [==============================] - 1s 92us/step - loss: 0.3518 - accuracy: 0.8091 - val_loss: 0.3670 - val_accuracy: 0.8140\n",
      "Epoch 36/100\n",
      "11679/11679 [==============================] - 1s 96us/step - loss: 0.3521 - accuracy: 0.8105 - val_loss: 0.3649 - val_accuracy: 0.8120\n",
      "Epoch 37/100\n",
      "11679/11679 [==============================] - 1s 93us/step - loss: 0.3517 - accuracy: 0.8115 - val_loss: 0.3664 - val_accuracy: 0.8010\n",
      "Epoch 38/100\n",
      "11679/11679 [==============================] - 1s 97us/step - loss: 0.3528 - accuracy: 0.8074 - val_loss: 0.3631 - val_accuracy: 0.8150\n",
      "Epoch 39/100\n",
      "11679/11679 [==============================] - 1s 94us/step - loss: 0.3513 - accuracy: 0.8109 - val_loss: 0.3648 - val_accuracy: 0.8110\n",
      "Epoch 40/100\n",
      "11679/11679 [==============================] - 1s 94us/step - loss: 0.3517 - accuracy: 0.8116 - val_loss: 0.3661 - val_accuracy: 0.8050\n",
      "Epoch 41/100\n",
      "11679/11679 [==============================] - 1s 98us/step - loss: 0.3523 - accuracy: 0.8055 - val_loss: 0.3702 - val_accuracy: 0.8020\n",
      "Epoch 42/100\n",
      "11679/11679 [==============================] - 1s 100us/step - loss: 0.3515 - accuracy: 0.8119 - val_loss: 0.3665 - val_accuracy: 0.8030\n",
      "Epoch 43/100\n",
      "11679/11679 [==============================] - 1s 103us/step - loss: 0.3522 - accuracy: 0.8076 - val_loss: 0.3650 - val_accuracy: 0.8050\n",
      "Epoch 44/100\n",
      "11679/11679 [==============================] - 1s 95us/step - loss: 0.3515 - accuracy: 0.8112 - val_loss: 0.3644 - val_accuracy: 0.8070\n",
      "Epoch 45/100\n",
      "11679/11679 [==============================] - 1s 99us/step - loss: 0.3524 - accuracy: 0.8116 - val_loss: 0.3653 - val_accuracy: 0.8080\n",
      "Epoch 46/100\n",
      "11679/11679 [==============================] - 1s 99us/step - loss: 0.3511 - accuracy: 0.8124 - val_loss: 0.3676 - val_accuracy: 0.7990\n",
      "Epoch 47/100\n"
     ]
    },
    {
     "name": "stdout",
     "output_type": "stream",
     "text": [
      "11679/11679 [==============================] - 1s 93us/step - loss: 0.3516 - accuracy: 0.8103 - val_loss: 0.3651 - val_accuracy: 0.8000\n",
      "Epoch 48/100\n",
      "11679/11679 [==============================] - 1s 92us/step - loss: 0.3512 - accuracy: 0.8113 - val_loss: 0.3648 - val_accuracy: 0.8110\n",
      "Epoch 49/100\n",
      "11679/11679 [==============================] - 1s 94us/step - loss: 0.3517 - accuracy: 0.8109 - val_loss: 0.3690 - val_accuracy: 0.8010\n",
      "Epoch 50/100\n",
      "11679/11679 [==============================] - 1s 94us/step - loss: 0.3518 - accuracy: 0.8099 - val_loss: 0.3648 - val_accuracy: 0.8140\n",
      "Epoch 51/100\n",
      "11679/11679 [==============================] - 1s 95us/step - loss: 0.3514 - accuracy: 0.8090 - val_loss: 0.3698 - val_accuracy: 0.8010\n",
      "Epoch 52/100\n",
      "11679/11679 [==============================] - 1s 95us/step - loss: 0.3515 - accuracy: 0.8123 - val_loss: 0.3656 - val_accuracy: 0.8030\n",
      "Epoch 53/100\n",
      "11679/11679 [==============================] - 1s 95us/step - loss: 0.3514 - accuracy: 0.8123 - val_loss: 0.3631 - val_accuracy: 0.8170\n",
      "Epoch 54/100\n",
      "11679/11679 [==============================] - 1s 98us/step - loss: 0.3518 - accuracy: 0.8097 - val_loss: 0.3683 - val_accuracy: 0.7980\n",
      "Epoch 55/100\n",
      "11679/11679 [==============================] - 1s 98us/step - loss: 0.3518 - accuracy: 0.8092 - val_loss: 0.3662 - val_accuracy: 0.8030\n",
      "Epoch 56/100\n",
      "11679/11679 [==============================] - 1s 97us/step - loss: 0.3515 - accuracy: 0.8086 - val_loss: 0.3665 - val_accuracy: 0.8070\n",
      "Epoch 57/100\n",
      "11679/11679 [==============================] - 1s 95us/step - loss: 0.3519 - accuracy: 0.8088 - val_loss: 0.3664 - val_accuracy: 0.8090\n",
      "Epoch 58/100\n",
      "11679/11679 [==============================] - 1s 99us/step - loss: 0.3516 - accuracy: 0.8109 - val_loss: 0.3678 - val_accuracy: 0.8090\n",
      "Epoch 59/100\n",
      "11679/11679 [==============================] - 1s 102us/step - loss: 0.3521 - accuracy: 0.8091 - val_loss: 0.3660 - val_accuracy: 0.8090\n",
      "Epoch 60/100\n",
      "11679/11679 [==============================] - 1s 117us/step - loss: 0.3513 - accuracy: 0.8122 - val_loss: 0.3669 - val_accuracy: 0.8090\n",
      "Epoch 61/100\n",
      "11679/11679 [==============================] - 1s 102us/step - loss: 0.3519 - accuracy: 0.8095 - val_loss: 0.3690 - val_accuracy: 0.8050\n",
      "Epoch 62/100\n",
      "11679/11679 [==============================] - 1s 98us/step - loss: 0.3517 - accuracy: 0.8109 - val_loss: 0.3656 - val_accuracy: 0.8080\n",
      "Epoch 63/100\n",
      "11679/11679 [==============================] - 1s 99us/step - loss: 0.3520 - accuracy: 0.8091 - val_loss: 0.3675 - val_accuracy: 0.8000\n",
      "Epoch 64/100\n",
      "11679/11679 [==============================] - 1s 104us/step - loss: 0.3516 - accuracy: 0.8086 - val_loss: 0.3663 - val_accuracy: 0.8070 0.3589 - ac\n",
      "Epoch 65/100\n",
      "11679/11679 [==============================] - 1s 98us/step - loss: 0.3514 - accuracy: 0.8103 - val_loss: 0.3674 - val_accuracy: 0.8140\n",
      "Epoch 66/100\n",
      "11679/11679 [==============================] - 1s 98us/step - loss: 0.3511 - accuracy: 0.8118 - val_loss: 0.3663 - val_accuracy: 0.7990\n",
      "Epoch 67/100\n",
      "11679/11679 [==============================] - 1s 99us/step - loss: 0.3516 - accuracy: 0.8112 - val_loss: 0.3640 - val_accuracy: 0.8180\n",
      "Epoch 68/100\n",
      "11679/11679 [==============================] - 1s 98us/step - loss: 0.3519 - accuracy: 0.8068 - val_loss: 0.3658 - val_accuracy: 0.8110\n",
      "Epoch 69/100\n",
      "11679/11679 [==============================] - 1s 99us/step - loss: 0.3517 - accuracy: 0.8091 - val_loss: 0.3692 - val_accuracy: 0.7990\n",
      "Epoch 70/100\n",
      "11679/11679 [==============================] - 1s 101us/step - loss: 0.3520 - accuracy: 0.8084 - val_loss: 0.3670 - val_accuracy: 0.8080\n",
      "Epoch 71/100\n",
      "11679/11679 [==============================] - 1s 98us/step - loss: 0.3508 - accuracy: 0.8127 - val_loss: 0.3645 - val_accuracy: 0.8110\n",
      "Epoch 72/100\n",
      "11679/11679 [==============================] - 1s 98us/step - loss: 0.3513 - accuracy: 0.8119 - val_loss: 0.3662 - val_accuracy: 0.8080\n",
      "Epoch 73/100\n",
      "11679/11679 [==============================] - 1s 98us/step - loss: 0.3513 - accuracy: 0.8083 - val_loss: 0.3653 - val_accuracy: 0.8140\n",
      "Epoch 74/100\n",
      "11679/11679 [==============================] - 1s 98us/step - loss: 0.3512 - accuracy: 0.8103 - val_loss: 0.3651 - val_accuracy: 0.8120\n",
      "Epoch 75/100\n",
      "11679/11679 [==============================] - 1s 99us/step - loss: 0.3513 - accuracy: 0.8081 - val_loss: 0.3686 - val_accuracy: 0.7990\n",
      "Epoch 76/100\n",
      "11679/11679 [==============================] - 1s 98us/step - loss: 0.3507 - accuracy: 0.8117 - val_loss: 0.3695 - val_accuracy: 0.8120\n",
      "Epoch 77/100\n",
      "11679/11679 [==============================] - 1s 99us/step - loss: 0.3505 - accuracy: 0.8142 - val_loss: 0.3659 - val_accuracy: 0.8160\n",
      "Epoch 78/100\n",
      "11679/11679 [==============================] - 1s 99us/step - loss: 0.3510 - accuracy: 0.8105 - val_loss: 0.3723 - val_accuracy: 0.7980\n",
      "Epoch 79/100\n",
      "11679/11679 [==============================] - 1s 102us/step - loss: 0.3513 - accuracy: 0.8115 - val_loss: 0.3700 - val_accuracy: 0.8040\n",
      "Epoch 80/100\n",
      "11679/11679 [==============================] - 1s 99us/step - loss: 0.3513 - accuracy: 0.8120 - val_loss: 0.3697 - val_accuracy: 0.7990\n",
      "Epoch 81/100\n",
      "11679/11679 [==============================] - 1s 100us/step - loss: 0.3511 - accuracy: 0.8122 - val_loss: 0.3694 - val_accuracy: 0.7980\n",
      "Epoch 82/100\n",
      "11679/11679 [==============================] - 1s 98us/step - loss: 0.3512 - accuracy: 0.8104 - val_loss: 0.3660 - val_accuracy: 0.8150\n",
      "Epoch 83/100\n",
      "11679/11679 [==============================] - 1s 99us/step - loss: 0.3517 - accuracy: 0.8101 - val_loss: 0.3658 - val_accuracy: 0.8030\n",
      "Epoch 84/100\n",
      "11679/11679 [==============================] - 1s 100us/step - loss: 0.3513 - accuracy: 0.8091 - val_loss: 0.3693 - val_accuracy: 0.8020\n",
      "Epoch 85/100\n",
      "11679/11679 [==============================] - 1s 99us/step - loss: 0.3511 - accuracy: 0.8104 - val_loss: 0.3683 - val_accuracy: 0.8030\n",
      "Epoch 86/100\n",
      "11679/11679 [==============================] - 1s 98us/step - loss: 0.3506 - accuracy: 0.8114 - val_loss: 0.3685 - val_accuracy: 0.7990\n",
      "Epoch 87/100\n",
      "11679/11679 [==============================] - 1s 98us/step - loss: 0.3510 - accuracy: 0.8103 - val_loss: 0.3690 - val_accuracy: 0.8110\n",
      "Epoch 88/100\n",
      "11679/11679 [==============================] - 1s 98us/step - loss: 0.3510 - accuracy: 0.8133 - val_loss: 0.3673 - val_accuracy: 0.8030\n",
      "Epoch 89/100\n",
      "11679/11679 [==============================] - 1s 98us/step - loss: 0.3513 - accuracy: 0.8074 - val_loss: 0.3705 - val_accuracy: 0.7980\n",
      "Epoch 90/100\n",
      "11679/11679 [==============================] - 1s 99us/step - loss: 0.3511 - accuracy: 0.8112 - val_loss: 0.3686 - val_accuracy: 0.8150\n",
      "Epoch 91/100\n",
      "11679/11679 [==============================] - 1s 99us/step - loss: 0.3505 - accuracy: 0.8133 - val_loss: 0.3744 - val_accuracy: 0.8010\n",
      "Epoch 92/100\n",
      "11679/11679 [==============================] - 1s 99us/step - loss: 0.3516 - accuracy: 0.8090 - val_loss: 0.3671 - val_accuracy: 0.8130\n",
      "Epoch 93/100\n",
      "11679/11679 [==============================] - 1s 101us/step - loss: 0.3510 - accuracy: 0.8119 - val_loss: 0.3692 - val_accuracy: 0.8080\n",
      "Epoch 94/100\n",
      "11679/11679 [==============================] - 1s 101us/step - loss: 0.3508 - accuracy: 0.8139 - val_loss: 0.3700 - val_accuracy: 0.7990\n",
      "Epoch 95/100\n",
      "11679/11679 [==============================] - 1s 101us/step - loss: 0.3507 - accuracy: 0.8136 - val_loss: 0.3744 - val_accuracy: 0.8010\n",
      "Epoch 96/100\n",
      "11679/11679 [==============================] - 1s 102us/step - loss: 0.3503 - accuracy: 0.8138 - val_loss: 0.3692 - val_accuracy: 0.8130\n",
      "Epoch 97/100\n",
      "11679/11679 [==============================] - 1s 99us/step - loss: 0.3509 - accuracy: 0.8085 - val_loss: 0.3686 - val_accuracy: 0.8000\n",
      "Epoch 98/100\n",
      "11679/11679 [==============================] - 1s 98us/step - loss: 0.3516 - accuracy: 0.8064 - val_loss: 0.3688 - val_accuracy: 0.8110\n",
      "Epoch 99/100\n",
      "11679/11679 [==============================] - 1s 98us/step - loss: 0.3506 - accuracy: 0.8145 - val_loss: 0.3689 - val_accuracy: 0.8030\n",
      "Epoch 100/100\n",
      "11679/11679 [==============================] - 1s 97us/step - loss: 0.3507 - accuracy: 0.8111 - val_loss: 0.3683 - val_accuracy: 0.8170\n",
      "Training Accuracy: 0.8145\n",
      "Testing Accuracy:  0.8170\n"
     ]
    },
    {
     "data": {
      "image/png": "[encoded data removed]",
      "text/plain": [
       "<Figure size 864x360 with 2 Axes>"
      ]
     },
     "metadata": {},
     "output_type": "display_data"
    }
   ],
   "source": [
    "import tensorflow as tf\n",
    "from tensorflow import keras\n",
    "from keras import layers\n",
    "from keras.models import Sequential, Model\n",
    "from keras.layers import Dense, Dropout, Input, LSTM, Embedding, Bidirectional, Flatten\n",
    "\n",
    "n_categories = 4\n",
    "\n",
    "model = Sequential()\n",
    "model.add(Dense(100, input_dim=X_train.shape[1], activation='relu'))\n",
    "model.add(Dense(n_categories, activation='softmax')) \n",
    "model.summary()\n",
    "model.compile(loss='sparse_categorical_crossentropy', optimizer='adam', metrics=['accuracy'])\n",
    "\n",
    "model.summary()\n",
    "\n",
    "history = model.fit(X_train, y_train,\n",
    "                    epochs=100,\n",
    "                    verbose=1,\n",
    "                    validation_data=(X_test, y_test),\n",
    "                    batch_size=10)\n",
    "\n",
    "loss, accuracy = model.evaluate(X_train, y_train, verbose=False)\n",
    "print(\"Training Accuracy: {:.4f}\".format(accuracy))\n",
    "loss, accuracy = model.evaluate(X_test, y_test, verbose=False)\n",
    "print(\"Testing Accuracy:  {:.4f}\".format(accuracy))\n",
    "plot_history(history)"
   ]
  },
  {
   "cell_type": "markdown",
   "metadata": {},
   "source": [
    "Модель не смогла заоверфититься на тренировочные данные."
   ]
  }
 ],
 "metadata": {
  "kernelspec": {
   "display_name": "Python 3",
   "language": "python",
   "name": "python3"
  },
  "language_info": {
   "codemirror_mode": {
    "name": "ipython",
    "version": 3
   },
   "file_extension": ".py",
   "mimetype": "text/x-python",
   "name": "python",
   "nbconvert_exporter": "python",
   "pygments_lexer": "ipython3",
   "version": "3.8.3"
  },
  "pycharm": {
   "stem_cell": {
    "cell_type": "raw",
    "metadata": {
     "collapsed": false
    },
    "source": []
   }
  }
 },
 "nbformat": 4,
 "nbformat_minor": 1
}
