{
 "cells": [
  {
   "cell_type": "markdown",
   "metadata": {},
   "source": [
    "**Summary:**\n",
    "    1. Лучшая точность в предыдущей работе на 30 категориях была 0.57. В этой работе я улучшил ее до 0.69.\n",
    "    2. Мне получил точность 0.69 на 30 категориях с использованием как векторов Spacy, так и keras embeddings.\n",
    "    3. Тренировка LSTM занимает очень много времени и в этой работе задействовать их не получилось (кроме пары экспериментов).\n",
    "    4. Очень удобно использовать визуализацю history, чтобы определить оптимальное количество эпох для тренировки.\n",
    "    5. Обертка KerasClassifier позволила мне использовать уже знакомые инструменты из scikit-learn"
   ]
  },
  {
   "cell_type": "markdown",
   "metadata": {
    "colab_type": "text",
    "id": "nM_GpU3n7X57"
   },
   "source": [
    "# Infrastructure setup"
   ]
  },
  {
   "cell_type": "markdown",
   "metadata": {
    "colab_type": "text",
    "id": "N6otNhXODAyb"
   },
   "source": [
    "## Initilizing the runtime (runtime)"
   ]
  },
  {
   "cell_type": "code",
   "execution_count": 128,
   "metadata": {
    "colab": {
     "base_uri": "https://localhost:8080/",
     "height": 34
    },
    "colab_type": "code",
    "id": "oCAEQDxSaiPK",
    "outputId": "3f1b70ec-4406-4020-a678-bc10c0216ece"
   },
   "outputs": [
    {
     "name": "stdout",
     "output_type": "stream",
     "text": [
      "env: local_data_path=/Users/dmytromindra/Projects/prj-nlp-2020/students/DmytroMindra/11-nn/data/\n",
      "data path: /Users/dmytromindra/Projects/prj-nlp-2020/students/DmytroMindra/11-nn/data/\n",
      "Progress: |--------------------------------------------------| 1.0% Completee"
     ]
    }
   ],
   "source": [
    "%env local_data_path = /Users/dmytromindra/Projects/prj-nlp-2020/students/DmytroMindra/11-nn/data/\n",
    "!echo \"data path: ${local_data_path}\"\n",
    "\n",
    "# 1551 Dataset has lots of small files. Reading them from mounted Google Drive\n",
    "# sometimes takes significant time, so I have decided to checkout it to VM\n",
    "# DATA_1551_PATH = '/content/drive/My  Drive/Colab/homework-10/1551.gov.ua/raw/'\n",
    "DATA_1551_PATH = '/Users/dmytromindra/Projects/prj-nlp-2020/students/DmytroMindra/11-nn/data/1551.gov.ua/raw/'\n",
    "\n",
    "\n",
    "#\n",
    "# Working with word2vec models\n",
    "#\n",
    "\n",
    "models_path = '/Users/dmytromindra/Projects/prj-nlp-2020/students/DmytroMindra/11-nn/data/vec_models/'\n",
    "ubercorpus_cased_tokenized_word2vec_300d_path = models_path + 'ubercorpus.cased.tokenized.word2vec.300d'\n",
    "\n",
    "#\n",
    "# An amazing progress bar function\n",
    "#\n",
    "\n",
    "def printProgressBar (iteration, total, prefix = '', suffix = '', decimals = 1, length = 100, fill = '█', printEnd = \"\\r\"):\n",
    "    \"\"\"\n",
    "    Call in a loop to create terminal progress bar\n",
    "    @params:\n",
    "        iteration   - Required  : current iteration (Int)\n",
    "        total       - Required  : total iterations (Int)\n",
    "        prefix      - Optional  : prefix string (Str)\n",
    "        suffix      - Optional  : suffix string (Str)\n",
    "        decimals    - Optional  : positive number of decimals in percent complete (Int)\n",
    "        length      - Optional  : character length of bar (Int)\n",
    "        fill        - Optional  : bar fill character (Str)\n",
    "        printEnd    - Optional  : end character (e.g. \"\\r\", \"\\r\\n\") (Str)\n",
    "    \"\"\"\n",
    "    percent = (\"{0:.\" + str(decimals) + \"f}\").format(100 * (iteration / float(total)))\n",
    "    filledLength = int(length * iteration // total)\n",
    "    bar = fill * filledLength + '-' * (length - filledLength)\n",
    "\n",
    "    print('\\r%s |%s| %s%% %s' % (prefix, bar, percent, suffix), end = '')\n",
    "    # Print New Line on Complete\n",
    "    if iteration == total: \n",
    "        print()\n",
    "\n",
    "printProgressBar(1, 10, prefix = 'Progress:', suffix = 'Complete', length = 50)        \n",
    "printProgressBar(1, 100, prefix = 'Progress:', suffix = 'Complete', length = 50)"
   ]
  },
  {
   "cell_type": "markdown",
   "metadata": {
    "colab_type": "text",
    "id": "ynSz3En5969y"
   },
   "source": [
    "## Downloading the data (once)\n"
   ]
  },
  {
   "cell_type": "markdown",
   "metadata": {
    "colab_type": "text",
    "id": "Ego73YOhhNGv"
   },
   "source": [
    "### Donwloading 1551 data"
   ]
  },
  {
   "cell_type": "code",
   "execution_count": 2,
   "metadata": {
    "colab": {
     "base_uri": "https://localhost:8080/",
     "height": 119
    },
    "colab_type": "code",
    "id": "AAC4Q8UM4dLQ",
    "outputId": "11052cc2-a857-4d90-cff1-53f723714498"
   },
   "outputs": [
    {
     "name": "stdout",
     "output_type": "stream",
     "text": [
      "Cloning into '/Users/dmytromindra/Projects/prj-nlp-2020/students/DmytroMindra/11-nn/data/1551.gov.ua'...\r\n",
      "remote: Enumerating objects: 127370, done.\u001b[K\r\n",
      "remote: Total 127370 (delta 0), reused 0 (delta 0), pack-reused 127370\u001b[Kbjects:   6% (7643/127370), 3.89 MiB | 3.87 MiB/sReceiving objects:   8% (10190/127370), 6.82 MiB | 4.52 MiB/sReceiving objects:  10% (12737/127370), 10.04 MiB | 5.00 MiB/sReceiving objects:  12% (15285/127370), 10.04 MiB | 5.00 MiB/sReceiving objects:  14% (17832/127370), 13.23 MiB | 5.27 MiB/sReceiving objects:  15% (19460/127370), 13.23 MiB | 5.27 MiB/sReceiving objects:  17% (21653/127370), 16.96 MiB | 5.63 MiB/sReceiving objects:  19% (24201/127370), 20.60 MiB | 5.86 MiB/sReceiving objects:  21% (26748/127370), 20.60 MiB | 5.86 MiB/sReceiving objects:  22% (28022/127370), 23.75 MiB | 5.92 MiB/sReceiving objects:  24% (30569/127370), 23.75 MiB | 5.92 MiB/sReceiving objects:  26% (33117/127370), 27.11 MiB | 6.00 MiB/sReceiving objects:  27% (35373/127370), 27.11 MiB | 6.00 MiB/sReceiving objects:  29% (36938/127370), 30.48 MiB | 6.58 MiB/sReceiving objects:  31% (39485/127370), 33.54 MiB | 6.57 MiB/sReceiving objects:  33% (42033/127370), 33.54 MiB | 6.57 MiB/sReceiving objects:  34% (43306/127370), 36.72 MiB | 6.63 MiB/sReceiving objects:  36% (45854/127370), 36.72 MiB | 6.63 MiB/sReceiving objects:  38% (48401/127370), 39.72 MiB | 6.57 MiB/sReceiving objects:  40% (50948/127370), 42.85 MiB | 6.56 MiB/sReceiving objects:  42% (53496/127370), 42.85 MiB | 6.56 MiB/sReceiving objects:  44% (56043/127370), 45.88 MiB | 6.41 MiB/sReceiving objects:  45% (57317/127370), 45.88 MiB | 6.41 MiB/sReceiving objects:  47% (59864/127370), 48.86 MiB | 6.25 MiB/sReceiving objects:  49% (62412/127370), 51.81 MiB | 6.21 MiB/sReceiving objects:  50% (64243/127370), 51.81 MiB | 6.21 MiB/sReceiving objects:  52% (66233/127370), 55.15 MiB | 6.21 MiB/sReceiving objects:  54% (68780/127370), 58.14 MiB | 6.12 MiB/sReceiving objects:  56% (71328/127370), 58.14 MiB | 6.12 MiB/sReceiving objects:  57% (72601/127370), 60.96 MiB | 6.07 MiB/sReceiving objects:  59% (75149/127370), 63.78 MiB | 5.99 MiB/sReceiving objects:  61% (77696/127370), 63.78 MiB | 5.99 MiB/sReceiving objects:  62% (78970/127370), 67.00 MiB | 6.04 MiB/sReceiving objects:  64% (81517/127370), 67.00 MiB | 6.04 MiB/sReceiving objects:  66% (84065/127370), 70.26 MiB | 6.07 MiB/sReceiving objects:  67% (85997/127370), 70.26 MiB | 6.07 MiB/sReceiving objects:  69% (87886/127370), 73.43 MiB | 6.09 MiB/sReceiving objects:  71% (90433/127370), 76.20 MiB | 6.05 MiB/sReceiving objects:  72% (92801/127370), 76.20 MiB | 6.05 MiB/sReceiving objects:  74% (94254/127370), 79.39 MiB | 6.10 MiB/sReceiving objects:  76% (96802/127370), 82.19 MiB | 5.98 MiB/sReceiving objects:  78% (99349/127370), 82.19 MiB | 5.98 MiB/sReceiving objects:  79% (100623/127370), 82.19 MiB | 5.98 MiB/sReceiving objects:  81% (103170/127370), 85.47 MiB | 6.04 MiB/sReceiving objects:  83% (105718/127370), 88.60 MiB | 6.10 MiB/sReceiving objects:  84% (107680/127370), 88.60 MiB | 6.10 MiB/sReceiving objects:  86% (109539/127370), 91.98 MiB | 6.23 MiB/sReceiving objects:  88% (112086/127370), 94.84 MiB | 6.15 MiB/sReceiving objects:  89% (114617/127370), 94.84 MiB | 6.15 MiB/sReceiving objects:  91% (115907/127370), 98.04 MiB | 6.14 MiB/sReceiving objects:  93% (118455/127370), 98.04 MiB | 6.14 MiB/sReceiving objects:  95% (121002/127370), 101.16 MiB | 6.14 MiB/sReceiving objects:  97% (123549/127370), 104.46 MiB | 6.27 MiB/sReceiving objects:  99% (126097/127370), 104.46 MiB | 6.27 MiB/s\r\n",
      "Receiving objects: 100% (127370/127370), 108.40 MiB | 6.13 MiB/s, done.\r\n",
      "Resolving deltas: 100% (43/43), done.\r\n",
      "Updating files: 100% (127332/127332), done.\r\n"
     ]
    }
   ],
   "source": [
    "!git clone https://github.com/lang-uk/1551.gov.ua ${local_data_path}1551.gov.ua"
   ]
  },
  {
   "cell_type": "markdown",
   "metadata": {
    "colab_type": "text",
    "id": "5PP_s5xVgzlc"
   },
   "source": [
    "### Downloading **ubercorpus**"
   ]
  },
  {
   "cell_type": "markdown",
   "metadata": {},
   "source": [
    "В домашней работе №10, **ubercorpus cased tokenized** показал хороший результат. В этой работе я буду использовать языковую модель на его основе."
   ]
  },
  {
   "cell_type": "code",
   "execution_count": 3,
   "metadata": {
    "colab": {
     "base_uri": "https://localhost:8080/",
     "height": 782
    },
    "colab_type": "code",
    "id": "ErzD1O8uiXuj",
    "outputId": "2ef68ac2-695c-4fb6-8b14-0a751ddc8975"
   },
   "outputs": [
    {
     "name": "stdout",
     "output_type": "stream",
     "text": [
      "--2020-05-23 20:28:04--  https://lang.org.ua/static/downloads/models/ubercorpus.cased.tokenized.word2vec.300d.bz2\n",
      "Resolving lang.org.ua (lang.org.ua)... 95.216.74.77\n",
      "Connecting to lang.org.ua (lang.org.ua)|95.216.74.77|:443... connected.\n",
      "HTTP request sent, awaiting response... 200 OK\n",
      "Length: 555203899 (529M) [application/octet-stream]\n",
      "Saving to: ‘/Users/dmytromindra/Projects/prj-nlp-2020/students/DmytroMindra/11-nn/data/ubercorpus.cased.tokenized.word2vec.300d.bz2’\n",
      "\n",
      "ubercorpus.cased.to 100%[===================>] 529,48M  8,36MB/s    in 80s     \n",
      "\n",
      "2020-05-23 20:29:24 (6,62 MB/s) - ‘/Users/dmytromindra/Projects/prj-nlp-2020/students/DmytroMindra/11-nn/data/ubercorpus.cased.tokenized.word2vec.300d.bz2’ saved [555203899/555203899]\n",
      "\n"
     ]
    }
   ],
   "source": [
    "!wget -P ${local_data_path} https://lang.org.ua/static/downloads/models/ubercorpus.cased.tokenized.word2vec.300d.bz2\n",
    "!bzip2 -d ${local_data_path}ubercorpus.cased.tokenized.word2vec.300d.bz2"
   ]
  },
  {
   "cell_type": "markdown",
   "metadata": {
    "colab_type": "text",
    "id": "kcVgFQPqle7c"
   },
   "source": [
    "## Installing pymorphy (once)"
   ]
  },
  {
   "cell_type": "code",
   "execution_count": 7,
   "metadata": {
    "colab": {
     "base_uri": "https://localhost:8080/",
     "height": 394
    },
    "colab_type": "code",
    "id": "I-gigYGcjufa",
    "outputId": "b6229eaa-6476-424c-e900-3c97e6a719b2"
   },
   "outputs": [
    {
     "name": "stdout",
     "output_type": "stream",
     "text": [
      "Found existing installation: pymorphy2-dicts-uk 2.4.1.1.1460299261\n",
      "Uninstalling pymorphy2-dicts-uk-2.4.1.1.1460299261:\n",
      "  Successfully uninstalled pymorphy2-dicts-uk-2.4.1.1.1460299261\n",
      "Found existing installation: pymorphy2 0.8\n",
      "Uninstalling pymorphy2-0.8:\n",
      "  Successfully uninstalled pymorphy2-0.8\n",
      "Collecting spacy\n",
      "  Using cached spacy-2.2.4-cp38-cp38-macosx_10_9_x86_64.whl (10.6 MB)\n",
      "Collecting srsly<1.1.0,>=1.0.2\n",
      "  Using cached srsly-1.0.2-cp38-cp38-macosx_10_9_x86_64.whl (183 kB)\n",
      "Collecting wasabi<1.1.0,>=0.4.0\n",
      "  Using cached wasabi-0.6.0-py3-none-any.whl (20 kB)\n",
      "Collecting plac<1.2.0,>=0.9.6\n",
      "  Using cached plac-1.1.3-py2.py3-none-any.whl (20 kB)\n",
      "Collecting thinc==7.4.0\n",
      "  Using cached thinc-7.4.0-cp38-cp38-macosx_10_9_x86_64.whl (2.2 MB)\n",
      "Collecting catalogue<1.1.0,>=0.0.7\n",
      "  Using cached catalogue-1.0.0-py2.py3-none-any.whl (7.7 kB)\n",
      "Collecting preshed<3.1.0,>=3.0.2\n",
      "  Using cached preshed-3.0.2-cp38-cp38-macosx_10_9_x86_64.whl (112 kB)\n",
      "Collecting cymem<2.1.0,>=2.0.2\n",
      "  Using cached cymem-2.0.3-cp38-cp38-macosx_10_9_x86_64.whl (31 kB)\n",
      "Requirement already satisfied: setuptools in ./venv/lib/python3.8/site-packages (from spacy) (46.4.0)\n",
      "Collecting requests<3.0.0,>=2.13.0\n",
      "  Using cached requests-2.23.0-py2.py3-none-any.whl (58 kB)\n",
      "Collecting tqdm<5.0.0,>=4.38.0\n",
      "  Using cached tqdm-4.46.0-py2.py3-none-any.whl (63 kB)\n",
      "Collecting blis<0.5.0,>=0.4.0\n",
      "  Using cached blis-0.4.1-cp38-cp38-macosx_10_9_x86_64.whl (3.7 MB)\n",
      "Collecting numpy>=1.15.0\n",
      "  Using cached numpy-1.18.4-cp38-cp38-macosx_10_9_x86_64.whl (15.2 MB)\n",
      "Collecting murmurhash<1.1.0,>=0.28.0\n",
      "  Using cached murmurhash-1.0.2-cp38-cp38-macosx_10_9_x86_64.whl (19 kB)\n",
      "Collecting urllib3!=1.25.0,!=1.25.1,<1.26,>=1.21.1\n",
      "  Using cached urllib3-1.25.9-py2.py3-none-any.whl (126 kB)\n",
      "Collecting certifi>=2017.4.17\n",
      "  Using cached certifi-2020.4.5.1-py2.py3-none-any.whl (157 kB)\n",
      "Collecting idna<3,>=2.5\n",
      "  Using cached idna-2.9-py2.py3-none-any.whl (58 kB)\n",
      "Collecting chardet<4,>=3.0.2\n",
      "  Using cached chardet-3.0.4-py2.py3-none-any.whl (133 kB)\n",
      "Installing collected packages: srsly, wasabi, plac, numpy, catalogue, tqdm, cymem, blis, murmurhash, preshed, thinc, urllib3, certifi, idna, chardet, requests, spacy\n",
      "Successfully installed blis-0.4.1 catalogue-1.0.0 certifi-2020.4.5.1 chardet-3.0.4 cymem-2.0.3 idna-2.9 murmurhash-1.0.2 numpy-1.18.4 plac-1.1.3 preshed-3.0.2 requests-2.23.0 spacy-2.2.4 srsly-1.0.2 thinc-7.4.0 tqdm-4.46.0 urllib3-1.25.9 wasabi-0.6.0\n",
      "Collecting git+https://github.com/kmike/pymorphy2.git\n",
      "  Cloning https://github.com/kmike/pymorphy2.git to /private/var/folders/9s/pv07x6217fldw0yk1sy3m2x40000gn/T/pip-req-build-07x6w8g0\n",
      "  Running command git clone -q https://github.com/kmike/pymorphy2.git /private/var/folders/9s/pv07x6217fldw0yk1sy3m2x40000gn/T/pip-req-build-07x6w8g0\n",
      "Collecting pymorphy2-dicts-uk\n",
      "  Using cached pymorphy2_dicts_uk-2.4.1.1.1460299261-py2.py3-none-any.whl (5.0 MB)\n",
      "Requirement already satisfied: dawg-python>=0.7.1 in ./venv/lib/python3.8/site-packages (from pymorphy2==0.8) (0.7.2)\n",
      "Requirement already satisfied: pymorphy2-dicts-ru<3.0,>=2.4 in ./venv/lib/python3.8/site-packages (from pymorphy2==0.8) (2.4.404381.4453942)\n",
      "Requirement already satisfied: docopt>=0.6 in ./venv/lib/python3.8/site-packages (from pymorphy2==0.8) (0.6.2)\n",
      "Using legacy setup.py install for pymorphy2, since package 'wheel' is not installed.\n",
      "Installing collected packages: pymorphy2-dicts-uk, pymorphy2\n",
      "    Running setup.py install for pymorphy2 ... \u001b[?25ldone\n",
      "\u001b[?25hSuccessfully installed pymorphy2-0.8 pymorphy2-dicts-uk-2.4.1.1.1460299261\n"
     ]
    }
   ],
   "source": [
    "!pip uninstall pymorphy2-dicts-uk -y\n",
    "!pip uninstall pymorphy2 -y\n",
    "!pip install spacy\n",
    "!pip install git+https://github.com/kmike/pymorphy2.git pymorphy2-dicts-uk"
   ]
  },
  {
   "cell_type": "markdown",
   "metadata": {
    "colab_type": "text",
    "id": "s5qAC84Om1Hs"
   },
   "source": [
    "## Initializing models"
   ]
  },
  {
   "cell_type": "code",
   "execution_count": 8,
   "metadata": {
    "colab": {
     "base_uri": "https://localhost:8080/",
     "height": 833
    },
    "colab_type": "code",
    "id": "EYh7LjC6nIvW",
    "outputId": "758f9767-6d7b-4fc5-9bd2-bdf72d132fdb"
   },
   "outputs": [
    {
     "name": "stdout",
     "output_type": "stream",
     "text": [
      "\u001b[2Keating model...\u001b[38;5;2m✔ Successfully created model\u001b[0m\n",
      "595119it [00:55, 10683.68it/s]dmytromindra/Projects/prj-nlp-2020/students/DmytroMindra/11-nn/data/ubercorpus.cased.tokenized.word2vec.300d\n",
      "\u001b[2K\u001b[38;5;2m✔ Loaded vectors from\n",
      "/Users/dmytromindra/Projects/prj-nlp-2020/students/DmytroMindra/11-nn/data/ubercorpus.cased.tokenized.word2vec.300d\u001b[0m\n",
      "\u001b[38;5;2m✔ Sucessfully compiled vocab\u001b[0m\n",
      "595290 entries, 595119 vectors\n"
     ]
    }
   ],
   "source": [
    "!rm -r ${local_data_path}vec_models\n",
    "!mkdir ${local_data_path}vec_models\n",
    "!\n",
    "# ubercorpus.cased.tokenized.word2vec.300d\n",
    "!python -m spacy init-model uk ${local_data_path}vec_models/ubercorpus.cased.tokenized.word2vec.300d --vectors-loc ${local_data_path}ubercorpus.cased.tokenized.word2vec.300d"
   ]
  },
  {
   "cell_type": "markdown",
   "metadata": {
    "colab_type": "text",
    "id": "ULpS27_EtHxY"
   },
   "source": [
    "### Testing if pymorphy model works"
   ]
  },
  {
   "cell_type": "code",
   "execution_count": 3,
   "metadata": {
    "colab": {},
    "colab_type": "code",
    "id": "LIa7JDFCteoD"
   },
   "outputs": [],
   "source": [
    "import spacy\n",
    "ubercorpus_cased_tokenized_model = spacy.load(ubercorpus_cased_tokenized_word2vec_300d_path)"
   ]
  },
  {
   "cell_type": "code",
   "execution_count": 5,
   "metadata": {
    "colab": {
     "base_uri": "https://localhost:8080/",
     "height": 34
    },
    "colab_type": "code",
    "id": "lfPu6JG6zXCd",
    "outputId": "13d67a5e-7bee-474e-e3be-7b6786b79def"
   },
   "outputs": [
    {
     "name": "stdout",
     "output_type": "stream",
     "text": [
      "0.707450064131281\n"
     ]
    }
   ],
   "source": [
    "w1 = ubercorpus_cased_tokenized_model('кіт')\n",
    "w2 = ubercorpus_cased_tokenized_model('собака')\n",
    "print(w1.similarity(w2))"
   ]
  },
  {
   "cell_type": "markdown",
   "metadata": {
    "colab_type": "text",
    "id": "8zOXEkIeWJXY"
   },
   "source": [
    "## Language detector (once)"
   ]
  },
  {
   "cell_type": "code",
   "execution_count": 6,
   "metadata": {
    "colab": {
     "base_uri": "https://localhost:8080/",
     "height": 51
    },
    "colab_type": "code",
    "id": "Jp7LB2gyWINl",
    "outputId": "78591bca-23be-4455-d187-4f6ed2520be4"
   },
   "outputs": [
    {
     "name": "stdout",
     "output_type": "stream",
     "text": [
      "Collecting pycld2\n",
      "  Using cached pycld2-0.41.tar.gz (41.4 MB)\n",
      "Using legacy setup.py install for pycld2, since package 'wheel' is not installed.\n",
      "Installing collected packages: pycld2\n",
      "    Running setup.py install for pycld2 ... \u001b[?25ldone\n",
      "\u001b[?25hSuccessfully installed pycld2-0.41\n",
      "uk\n"
     ]
    }
   ],
   "source": [
    "!python -m pip install -U pycld2\n",
    "\n",
    "import pycld2 as cld2\n",
    "\n",
    "isReliable, textBytesFound, details = cld2.detect(\n",
    "    \"Відкриття спортивних залів не підлягає нинішнім карантинним пом'якшенням.\"\n",
    ")\n",
    "\n",
    "print (details[0][1])"
   ]
  },
  {
   "cell_type": "markdown",
   "metadata": {
    "colab_type": "text",
    "id": "7iKDhKIfyT6p"
   },
   "source": [
    "# Data"
   ]
  },
  {
   "cell_type": "markdown",
   "metadata": {
    "colab_type": "text",
    "id": "D5-TR8rGvSCJ"
   },
   "source": [
    "## Doc2Vec (runtime)"
   ]
  },
  {
   "cell_type": "code",
   "execution_count": null,
   "metadata": {},
   "outputs": [],
   "source": [
    "В этой работе я использую векторизацию с фильтрацией стоп слов."
   ]
  },
  {
   "cell_type": "code",
   "execution_count": 7,
   "metadata": {
    "colab": {},
    "colab_type": "code",
    "id": "agHZDsININwl"
   },
   "outputs": [],
   "source": [
    "def vectorize_without_stopwords(text, model):\n",
    "    words = model(text)\n",
    "    filtered_words = []\n",
    "\n",
    "    for w in words:\n",
    "      if w not in spacy.lang.uk.stop_words.STOP_WORDS:\n",
    "        filtered_words.append(w.text)\n",
    "\n",
    "    words = model(' '.join(filtered_words))\n",
    "    return words.vector"
   ]
  },
  {
   "cell_type": "markdown",
   "metadata": {
    "colab_type": "text",
    "id": "WvgadytcuOZ6"
   },
   "source": [
    "## Loading the data in memory (runtime)"
   ]
  },
  {
   "cell_type": "code",
   "execution_count": 129,
   "metadata": {
    "colab": {
     "base_uri": "https://localhost:8080/",
     "height": 102
    },
    "colab_type": "code",
    "id": "WXHXyDfNzl71",
    "outputId": "ea22973c-8204-4b2f-fde5-73d97d962407"
   },
   "outputs": [
    {
     "name": "stdout",
     "output_type": "stream",
     "text": [
      "Files count 127329\n",
      "Progress: |██████████████████████████████████████████████████| 100.0% Complete\n",
      "\n",
      "Data loaded: 127329\n",
      "Time elapsed: 83.56087183952332 seconds\n"
     ]
    }
   ],
   "source": [
    "import gzip\n",
    "import json\n",
    "import glob\n",
    "\n",
    "import time\n",
    "\n",
    "def read_file(f):\n",
    "    with gzip.open(f, 'rt', encoding='utf-8') as inf:\n",
    "        j = json.load(inf)\n",
    "        return j[0]\n",
    "\n",
    "start = time.time()\n",
    "\n",
    "data = []\n",
    "files = []\n",
    "\n",
    "for f in glob.glob(DATA_1551_PATH+'*/*'):\n",
    "  files.append(f)\n",
    "\n",
    "print('Files count', len(files))\n",
    "counter = 0\n",
    "for file in files:\n",
    "  data.append(read_file(file))\n",
    "  counter+=1\n",
    "  if counter%100 ==0:\n",
    "    #print (len(files) - counter,'/',len(files))\n",
    "    printProgressBar(counter, len(files), prefix = 'Progress:', suffix = 'Complete', length = 50)\n",
    "\n",
    "printProgressBar(counter, len(files), prefix = 'Progress:', suffix = 'Complete', length = 50)\n",
    "print()\n",
    "print ('Data loaded:',len(data))\n",
    "\n",
    "end = time.time()\n",
    "print('Time elapsed:', end - start, 'seconds')\n"
   ]
  },
  {
   "cell_type": "markdown",
   "metadata": {
    "colab_type": "text",
    "id": "3Eg2gzBYxc3m"
   },
   "source": [
    "## Selecting a subset of data for fast processing (runtime)"
   ]
  },
  {
   "cell_type": "markdown",
   "metadata": {},
   "source": [
    "Данные долго обрабатываются. Большую часть экспериментов я буду провдоить на небольшом подмножестве данных. Для этого я сначала буду вызывать метод __get_top_categories__ для получения данных, а затем __get_vectorized_data__ для преобразования данных в векторы."
   ]
  },
  {
   "cell_type": "code",
   "execution_count": 10,
   "metadata": {
    "colab": {},
    "colab_type": "code",
    "id": "1OKXPw4sxtRO"
   },
   "outputs": [],
   "source": [
    "import pycld2 as cld2\n",
    "category_id = {}\n",
    "\n",
    "def get_top_categories (n_categories, filter_ukrainian = False):\n",
    "  categories_count = {}\n",
    "  counter = 0\n",
    "\n",
    "  for data_item in data:\n",
    "    if data_item['CallZType'] not in categories_count:\n",
    "      categories_count[data_item['CallZType']] = 0\n",
    "      category_id[data_item['CallZType']] = counter\n",
    "      counter+=1\n",
    "    categories_count[data_item['CallZType']]+=1\n",
    "\n",
    "\n",
    "  def takeSecond(elem):\n",
    "      return elem[1]\n",
    "\n",
    "\n",
    "  category_statistics = []\n",
    "\n",
    "  for category in categories_count:\n",
    "    category_statistics.append((category, categories_count[category]))\n",
    "\n",
    "  category_statistics.sort(key=takeSecond, reverse=True)\n",
    "\n",
    "  selected_categories = {}\n",
    "\n",
    "  for category in category_statistics[:n_categories]:\n",
    "      selected_categories[category[0]] = []\n",
    "\n",
    "  for data_item in data:\n",
    "\n",
    "      if filter_ukrainian:\n",
    "        printable_str = ''.join(x for x in data_item['CallZText'] if x.isprintable())\n",
    "        isReliable, textBytesFound, details = cld2.detect(printable_str)\n",
    "        if details[0][1]=='uk' and data_item['CallZType'] in selected_categories:\n",
    "          selected_categories[data_item['CallZType']].append(data_item['CallZText'])\n",
    "\n",
    "      elif data_item['CallZType'] in selected_categories:\n",
    "        selected_categories[data_item['CallZType']].append(data_item['CallZText'])\n",
    "  \n",
    "  return selected_categories\n",
    "\n",
    "\n",
    "def get_vectorized_data(source_data, vectorizer, model):\n",
    "\n",
    "  features = []\n",
    "  labels = []\n",
    "\n",
    "  for category in source_data:\n",
    "    for data_item in source_data[category]:\n",
    "      vectorized_data = vectorizer(data_item, model)\n",
    "      if vectorized_data is not None:\n",
    "        features.append(vectorized_data)\n",
    "        labels.append(category_id[category])\n",
    "\n",
    "  return features, labels\n"
   ]
  },
  {
   "cell_type": "markdown",
   "metadata": {
    "colab_type": "text",
    "id": "JF3OmmLpfjx6"
   },
   "source": [
    "# Iterations"
   ]
  },
  {
   "cell_type": "markdown",
   "metadata": {},
   "source": [
    "В качестве **Baseline**, я переиспользую _*KNeighborsClassifier*_ из предыдущей работы. "
   ]
  },
  {
   "cell_type": "markdown",
   "metadata": {
    "colab_type": "text",
    "id": "j9-UQu_lu4s4"
   },
   "source": [
    "## Baseline (from Homework 10)"
   ]
  },
  {
   "cell_type": "code",
   "execution_count": 12,
   "metadata": {},
   "outputs": [
    {
     "name": "stdout",
     "output_type": "stream",
     "text": [
      "Collecting sklearn\n",
      "  Using cached sklearn-0.0.tar.gz (1.1 kB)\n",
      "Collecting scikit-learn\n",
      "  Using cached scikit_learn-0.23.1-cp38-cp38-macosx_10_9_x86_64.whl (7.2 MB)\n",
      "Collecting joblib>=0.11\n",
      "  Using cached joblib-0.15.1-py3-none-any.whl (298 kB)\n",
      "Collecting scipy>=0.19.1\n",
      "  Using cached scipy-1.4.1-cp38-cp38-macosx_10_9_x86_64.whl (28.8 MB)\n",
      "Collecting threadpoolctl>=2.0.0\n",
      "  Using cached threadpoolctl-2.0.0-py3-none-any.whl (34 kB)\n",
      "Requirement already satisfied: numpy>=1.13.3 in ./venv/lib/python3.8/site-packages (from scikit-learn->sklearn) (1.18.4)\n",
      "Using legacy setup.py install for sklearn, since package 'wheel' is not installed.\n",
      "Installing collected packages: joblib, scipy, threadpoolctl, scikit-learn, sklearn\n",
      "    Running setup.py install for sklearn ... \u001b[?25ldone\n",
      "\u001b[?25hSuccessfully installed joblib-0.15.1 scikit-learn-0.23.1 scipy-1.4.1 sklearn-0.0 threadpoolctl-2.0.0\n"
     ]
    }
   ],
   "source": [
    "!pip install sklearn"
   ]
  },
  {
   "cell_type": "code",
   "execution_count": 262,
   "metadata": {
    "colab": {
     "base_uri": "https://localhost:8080/",
     "height": 357
    },
    "colab_type": "code",
    "id": "wsskq1fXKIGA",
    "outputId": "b3954556-623e-4904-ebb5-2d8c160a023f"
   },
   "outputs": [
    {
     "name": "stdout",
     "output_type": "stream",
     "text": [
      "71741 71741\n",
      "Accuracy: 0.4013938753959873\n",
      "\n",
      "              precision    recall  f1-score   support\n",
      "\n",
      "           1       0.45      0.78      0.57      4310\n",
      "           4       0.37      0.50      0.42      1053\n",
      "           8       0.21      0.27      0.24       659\n",
      "           9       0.19      0.21      0.20       467\n",
      "          10       0.33      0.40      0.36       863\n",
      "          13       0.32      0.32      0.32       794\n",
      "          14       0.42      0.36      0.39      1963\n",
      "          16       0.19      0.21      0.20       351\n",
      "          18       0.20      0.34      0.25       442\n",
      "          20       0.27      0.33      0.30       814\n",
      "          21       0.48      0.49      0.49       619\n",
      "          24       0.38      0.45      0.41       382\n",
      "          25       0.49      0.40      0.44       893\n",
      "          31       0.32      0.30      0.31       663\n",
      "          35       0.52      0.37      0.43      2226\n",
      "          39       0.35      0.13      0.19       502\n",
      "          41       0.44      0.25      0.32       536\n",
      "          46       0.51      0.46      0.48      1197\n",
      "          48       0.24      0.12      0.16       409\n",
      "          55       0.74      0.33      0.45       272\n",
      "          56       0.14      0.06      0.08       312\n",
      "          57       0.37      0.19      0.26       469\n",
      "          58       0.46      0.18      0.25       290\n",
      "          60       0.41      0.11      0.18       287\n",
      "          65       0.54      0.24      0.33       503\n",
      "          69       0.48      0.29      0.36       472\n",
      "          79       0.14      0.08      0.10       343\n",
      "          82       0.58      0.23      0.33       325\n",
      "          91       0.51      0.25      0.34       729\n",
      "          97       0.44      0.18      0.25       530\n",
      "\n",
      "    accuracy                           0.40     23675\n",
      "   macro avg       0.38      0.29      0.31     23675\n",
      "weighted avg       0.41      0.40      0.38     23675\n",
      "\n"
     ]
    }
   ],
   "source": [
    "import numpy as np\n",
    "from sklearn.model_selection import train_test_split\n",
    "from sklearn.utils import shuffle\n",
    "from sklearn.neighbors import KNeighborsClassifier\n",
    "from sklearn import metrics\n",
    "from sklearn.metrics import classification_report\n",
    "\n",
    "filtered_data = get_top_categories(30)\n",
    "\n",
    "X, y = get_vectorized_data(filtered_data, vectorizer = vectorize_without_stopwords, model = ubercorpus_cased_tokenized_model)\n",
    "\n",
    "print (len(X), len(y))\n",
    "\n",
    "X_train, X_test, y_train, y_test = train_test_split(X, y, test_size=0.33, random_state=42)\n",
    "\n",
    "neighbors = KNeighborsClassifier(n_neighbors=3, n_jobs = -1)\n",
    "neighbors.fit(np.array(X_train), np.array(y_train))\n",
    "\n",
    "y_pred = neighbors.predict(X_test)\n",
    "\n",
    "\n",
    "print(\"Accuracy:\",metrics.accuracy_score(y_test, y_pred))\n",
    "\n",
    "print()\n",
    "\n",
    "print(classification_report(y_test, y_pred))\n"
   ]
  },
  {
   "cell_type": "markdown",
   "metadata": {},
   "source": [
    "## MLPClassifier + GridSearchCV (best result from homework 10)"
   ]
  },
  {
   "cell_type": "code",
   "execution_count": 288,
   "metadata": {},
   "outputs": [
    {
     "name": "stdout",
     "output_type": "stream",
     "text": [
      "71741 71741\n"
     ]
    },
    {
     "name": "stderr",
     "output_type": "stream",
     "text": [
      "/Users/dmytromindra/Projects/prj-nlp-2020/students/DmytroMindra/11-nn/venv/lib/python3.8/site-packages/sklearn/neural_network/_multilayer_perceptron.py:471: ConvergenceWarning: lbfgs failed to converge (status=1):\n",
      "STOP: TOTAL NO. of ITERATIONS REACHED LIMIT.\n",
      "\n",
      "Increase the number of iterations (max_iter) or scale the data as shown in:\n",
      "    https://scikit-learn.org/stable/modules/preprocessing.html\n",
      "  self.n_iter_ = _check_optimize_result(\"lbfgs\", opt_res, self.max_iter)\n"
     ]
    },
    {
     "name": "stdout",
     "output_type": "stream",
     "text": [
      "0.6068738817459327\n",
      "Accuracy: 0.5783315733896516\n",
      "\n",
      "              precision    recall  f1-score   support\n",
      "\n",
      "           1       0.67      0.86      0.75      4310\n",
      "           4       0.64      0.57      0.60      1053\n",
      "           8       0.50      0.36      0.42       659\n",
      "           9       0.52      0.45      0.48       467\n",
      "          10       0.45      0.72      0.55       863\n",
      "          13       0.58      0.52      0.55       794\n",
      "          14       0.61      0.67      0.64      1963\n",
      "          16       0.36      0.31      0.33       351\n",
      "          18       0.51      0.44      0.47       442\n",
      "          20       0.58      0.34      0.42       814\n",
      "          21       0.64      0.64      0.64       619\n",
      "          24       0.65      0.61      0.63       382\n",
      "          25       0.59      0.71      0.64       893\n",
      "          31       0.54      0.56      0.55       663\n",
      "          35       0.56      0.74      0.64      2226\n",
      "          39       0.58      0.23      0.33       502\n",
      "          41       0.60      0.01      0.02       536\n",
      "          46       0.59      0.74      0.65      1197\n",
      "          48       0.46      0.45      0.46       409\n",
      "          55       0.61      0.57      0.59       272\n",
      "          56       0.38      0.18      0.24       312\n",
      "          57       0.47      0.39      0.42       469\n",
      "          58       0.42      0.36      0.39       290\n",
      "          60       0.40      0.16      0.23       287\n",
      "          65       0.47      0.51      0.49       503\n",
      "          69       0.66      0.55      0.60       472\n",
      "          79       0.48      0.03      0.07       343\n",
      "          82       0.55      0.45      0.50       325\n",
      "          91       0.55      0.28      0.37       729\n",
      "          97       0.30      0.22      0.25       530\n",
      "\n",
      "    accuracy                           0.58     23675\n",
      "   macro avg       0.53      0.45      0.46     23675\n",
      "weighted avg       0.57      0.58      0.55     23675\n",
      "\n"
     ]
    }
   ],
   "source": [
    "import numpy as np\n",
    "from sklearn.model_selection import train_test_split\n",
    "from sklearn.utils import shuffle\n",
    "from sklearn.neural_network import MLPClassifier\n",
    "from sklearn.model_selection import GridSearchCV\n",
    "from sklearn import metrics\n",
    "from sklearn.metrics import classification_report\n",
    "\n",
    "filtered_data = get_top_categories(30)\n",
    "\n",
    "X, y = get_vectorized_data(filtered_data, vectorizer = vectorize_without_stopwords, model = ubercorpus_cased_tokenized_model)\n",
    "\n",
    "print (len(X), len(y))\n",
    "\n",
    "X_train, X_test, y_train, y_test = train_test_split(X, y, test_size=0.33, random_state=42)\n",
    "\n",
    "clf = MLPClassifier(alpha = 0.1, hidden_layer_sizes = 14, max_iter = 400, solver = 'lbfgs', verbose=1, random_state=42)\n",
    "clf.fit(np.array(X_train), np.array(y_train))\n",
    "\n",
    "print(clf.score(X_train, y_train))\n",
    "\n",
    "y_pred = clf.predict(X_test)\n",
    "\n",
    "print(\"Accuracy:\",metrics.accuracy_score(y_test, y_pred))\n",
    "\n",
    "print()\n",
    "\n",
    "print(classification_report(y_test, y_pred))"
   ]
  },
  {
   "cell_type": "markdown",
   "metadata": {},
   "source": [
    "## Neural Networks ( Homework 11 )"
   ]
  },
  {
   "cell_type": "code",
   "execution_count": 19,
   "metadata": {},
   "outputs": [
    {
     "name": "stdout",
     "output_type": "stream",
     "text": [
      "Collecting tensorflow\n",
      "  Downloading tensorflow-2.2.0-cp38-cp38-macosx_10_11_x86_64.whl (175.4 MB)\n",
      "\u001b[K     |████████████████████████████████| 175.4 MB 4.9 MB/s eta 0:00:017\n",
      "\u001b[?25hCollecting opt-einsum>=2.3.2\n",
      "  Downloading opt_einsum-3.2.1-py3-none-any.whl (63 kB)\n",
      "\u001b[K     |████████████████████████████████| 63 kB 2.7 MB/s eta 0:00:011\n",
      "\u001b[?25hRequirement already satisfied: numpy<2.0,>=1.16.0 in ./venv/lib/python3.8/site-packages (from tensorflow) (1.18.4)\n",
      "Collecting protobuf>=3.8.0\n",
      "  Downloading protobuf-3.12.1-cp38-cp38-macosx_10_9_x86_64.whl (1.3 MB)\n",
      "\u001b[K     |████████████████████████████████| 1.3 MB 5.6 MB/s eta 0:00:01\n",
      "\u001b[?25hRequirement already satisfied: six>=1.12.0 in ./venv/lib/python3.8/site-packages (from tensorflow) (1.15.0)\n",
      "Collecting termcolor>=1.1.0\n",
      "  Downloading termcolor-1.1.0.tar.gz (3.9 kB)\n",
      "Collecting wheel>=0.26; python_version >= \"3\"\n",
      "  Downloading wheel-0.34.2-py2.py3-none-any.whl (26 kB)\n",
      "Collecting grpcio>=1.8.6\n",
      "  Downloading grpcio-1.29.0-cp38-cp38-macosx_10_9_x86_64.whl (2.8 MB)\n",
      "\u001b[K     |████████████████████████████████| 2.8 MB 5.3 MB/s eta 0:00:01\n",
      "\u001b[?25hCollecting gast==0.3.3\n",
      "  Downloading gast-0.3.3-py2.py3-none-any.whl (9.7 kB)\n",
      "Collecting google-pasta>=0.1.8\n",
      "  Downloading google_pasta-0.2.0-py3-none-any.whl (57 kB)\n",
      "\u001b[K     |████████████████████████████████| 57 kB 4.1 MB/s eta 0:00:01\n",
      "\u001b[?25hCollecting tensorflow-estimator<2.3.0,>=2.2.0\n",
      "  Downloading tensorflow_estimator-2.2.0-py2.py3-none-any.whl (454 kB)\n",
      "\u001b[K     |████████████████████████████████| 454 kB 6.7 MB/s eta 0:00:01\n",
      "\u001b[?25hCollecting tensorboard<2.3.0,>=2.2.0\n",
      "  Downloading tensorboard-2.2.1-py3-none-any.whl (3.0 MB)\n",
      "\u001b[K     |████████████████████████████████| 3.0 MB 7.2 MB/s eta 0:00:01\n",
      "\u001b[?25hRequirement already satisfied: scipy==1.4.1; python_version >= \"3\" in ./venv/lib/python3.8/site-packages (from tensorflow) (1.4.1)\n",
      "Collecting h5py<2.11.0,>=2.10.0\n",
      "  Downloading h5py-2.10.0-cp38-cp38-macosx_10_9_x86_64.whl (3.0 MB)\n",
      "\u001b[K     |████████████████████████████████| 3.0 MB 6.8 MB/s eta 0:00:01\n",
      "\u001b[?25hCollecting astunparse==1.6.3\n",
      "  Downloading astunparse-1.6.3-py2.py3-none-any.whl (12 kB)\n",
      "Collecting keras-preprocessing>=1.1.0\n",
      "  Downloading Keras_Preprocessing-1.1.2-py2.py3-none-any.whl (42 kB)\n",
      "\u001b[K     |████████████████████████████████| 42 kB 2.1 MB/s  eta 0:00:01\n",
      "\u001b[?25hCollecting wrapt>=1.11.1\n",
      "  Downloading wrapt-1.12.1.tar.gz (27 kB)\n",
      "Collecting absl-py>=0.7.0\n",
      "  Downloading absl-py-0.9.0.tar.gz (104 kB)\n",
      "\u001b[K     |████████████████████████████████| 104 kB 10.5 MB/s eta 0:00:01\n",
      "\u001b[?25hRequirement already satisfied: setuptools in ./venv/lib/python3.8/site-packages (from protobuf>=3.8.0->tensorflow) (46.4.0)\n",
      "Requirement already satisfied: requests<3,>=2.21.0 in ./venv/lib/python3.8/site-packages (from tensorboard<2.3.0,>=2.2.0->tensorflow) (2.23.0)\n",
      "Collecting google-auth-oauthlib<0.5,>=0.4.1\n",
      "  Downloading google_auth_oauthlib-0.4.1-py2.py3-none-any.whl (18 kB)\n",
      "Collecting google-auth<2,>=1.6.3\n",
      "  Downloading google_auth-1.15.0-py2.py3-none-any.whl (89 kB)\n",
      "\u001b[K     |████████████████████████████████| 89 kB 4.3 MB/s eta 0:00:01\n",
      "\u001b[?25hCollecting tensorboard-plugin-wit>=1.6.0\n",
      "  Downloading tensorboard_plugin_wit-1.6.0.post3-py3-none-any.whl (777 kB)\n",
      "\u001b[K     |████████████████████████████████| 777 kB 5.7 MB/s eta 0:00:01\n",
      "\u001b[?25hCollecting werkzeug>=0.11.15\n",
      "  Downloading Werkzeug-1.0.1-py2.py3-none-any.whl (298 kB)\n",
      "\u001b[K     |████████████████████████████████| 298 kB 9.1 MB/s eta 0:00:01\n",
      "\u001b[?25hCollecting markdown>=2.6.8\n",
      "  Downloading Markdown-3.2.2-py3-none-any.whl (88 kB)\n",
      "\u001b[K     |████████████████████████████████| 88 kB 4.4 MB/s eta 0:00:011\n",
      "\u001b[?25hRequirement already satisfied: idna<3,>=2.5 in ./venv/lib/python3.8/site-packages (from requests<3,>=2.21.0->tensorboard<2.3.0,>=2.2.0->tensorflow) (2.9)\n",
      "Requirement already satisfied: certifi>=2017.4.17 in ./venv/lib/python3.8/site-packages (from requests<3,>=2.21.0->tensorboard<2.3.0,>=2.2.0->tensorflow) (2020.4.5.1)\n",
      "Requirement already satisfied: chardet<4,>=3.0.2 in ./venv/lib/python3.8/site-packages (from requests<3,>=2.21.0->tensorboard<2.3.0,>=2.2.0->tensorflow) (3.0.4)\n",
      "Requirement already satisfied: urllib3!=1.25.0,!=1.25.1,<1.26,>=1.21.1 in ./venv/lib/python3.8/site-packages (from requests<3,>=2.21.0->tensorboard<2.3.0,>=2.2.0->tensorflow) (1.25.9)\n",
      "Collecting requests-oauthlib>=0.7.0\n",
      "  Downloading requests_oauthlib-1.3.0-py2.py3-none-any.whl (23 kB)\n",
      "Collecting cachetools<5.0,>=2.0.0\n",
      "  Downloading cachetools-4.1.0-py3-none-any.whl (10 kB)\n",
      "Collecting pyasn1-modules>=0.2.1\n",
      "  Downloading pyasn1_modules-0.2.8-py2.py3-none-any.whl (155 kB)\n",
      "\u001b[K     |████████████████████████████████| 155 kB 6.2 MB/s eta 0:00:01\n",
      "\u001b[?25hCollecting rsa<4.1,>=3.1.4\n",
      "  Downloading rsa-4.0-py2.py3-none-any.whl (38 kB)\n",
      "Collecting oauthlib>=3.0.0\n",
      "  Downloading oauthlib-3.1.0-py2.py3-none-any.whl (147 kB)\n",
      "\u001b[K     |████████████████████████████████| 147 kB 3.8 MB/s eta 0:00:01\n",
      "\u001b[?25hCollecting pyasn1<0.5.0,>=0.4.6\n",
      "  Downloading pyasn1-0.4.8-py2.py3-none-any.whl (77 kB)\n",
      "\u001b[K     |████████████████████████████████| 77 kB 3.0 MB/s eta 0:00:01\n",
      "\u001b[?25hUsing legacy setup.py install for termcolor, since package 'wheel' is not installed.\n",
      "Using legacy setup.py install for wrapt, since package 'wheel' is not installed.\n",
      "Using legacy setup.py install for absl-py, since package 'wheel' is not installed.\n",
      "Installing collected packages: opt-einsum, protobuf, termcolor, wheel, grpcio, gast, google-pasta, tensorflow-estimator, oauthlib, requests-oauthlib, cachetools, pyasn1, pyasn1-modules, rsa, google-auth, google-auth-oauthlib, absl-py, tensorboard-plugin-wit, werkzeug, markdown, tensorboard, h5py, astunparse, keras-preprocessing, wrapt, tensorflow\n",
      "    Running setup.py install for termcolor ... \u001b[?25ldone\n",
      "\u001b[?25h    Running setup.py install for absl-py ... \u001b[?25ldone\n",
      "\u001b[?25h    Running setup.py install for wrapt ... \u001b[?25ldone\n",
      "\u001b[?25hSuccessfully installed absl-py-0.9.0 astunparse-1.6.3 cachetools-4.1.0 gast-0.3.3 google-auth-1.15.0 google-auth-oauthlib-0.4.1 google-pasta-0.2.0 grpcio-1.29.0 h5py-2.10.0 keras-preprocessing-1.1.2 markdown-3.2.2 oauthlib-3.1.0 opt-einsum-3.2.1 protobuf-3.12.1 pyasn1-0.4.8 pyasn1-modules-0.2.8 requests-oauthlib-1.3.0 rsa-4.0 tensorboard-2.2.1 tensorboard-plugin-wit-1.6.0.post3 tensorflow-2.2.0 tensorflow-estimator-2.2.0 termcolor-1.1.0 werkzeug-1.0.1 wheel-0.34.2 wrapt-1.12.1\n"
     ]
    }
   ],
   "source": [
    "!pip install tensorflow"
   ]
  },
  {
   "cell_type": "code",
   "execution_count": 31,
   "metadata": {},
   "outputs": [
    {
     "name": "stdout",
     "output_type": "stream",
     "text": [
      "Collecting keras\n",
      "  Downloading Keras-2.3.1-py2.py3-none-any.whl (377 kB)\n",
      "\u001b[K     |████████████████████████████████| 377 kB 1.0 MB/s eta 0:00:01\n",
      "\u001b[?25hRequirement already satisfied: keras-preprocessing>=1.0.5 in ./venv/lib/python3.8/site-packages (from keras) (1.1.2)\n",
      "Collecting pyyaml\n",
      "  Downloading PyYAML-5.3.1.tar.gz (269 kB)\n",
      "\u001b[K     |████████████████████████████████| 269 kB 6.7 MB/s eta 0:00:01\n",
      "\u001b[?25hRequirement already satisfied: scipy>=0.14 in ./venv/lib/python3.8/site-packages (from keras) (1.4.1)\n",
      "Collecting keras-applications>=1.0.6\n",
      "  Downloading Keras_Applications-1.0.8-py3-none-any.whl (50 kB)\n",
      "\u001b[K     |████████████████████████████████| 50 kB 4.9 MB/s eta 0:00:01\n",
      "\u001b[?25hRequirement already satisfied: numpy>=1.9.1 in ./venv/lib/python3.8/site-packages (from keras) (1.18.4)\n",
      "Requirement already satisfied: h5py in ./venv/lib/python3.8/site-packages (from keras) (2.10.0)\n",
      "Requirement already satisfied: six>=1.9.0 in ./venv/lib/python3.8/site-packages (from keras) (1.15.0)\n",
      "Building wheels for collected packages: pyyaml\n",
      "  Building wheel for pyyaml (setup.py) ... \u001b[?25ldone\n",
      "\u001b[?25h  Created wheel for pyyaml: filename=PyYAML-5.3.1-cp38-cp38-macosx_10_9_x86_64.whl size=44624 sha256=193ca6038ef6e09ad578e05bd01e0334ccba97bd044feebbc3756a9225829b0d\n",
      "  Stored in directory: /Users/dmytromindra/Library/Caches/pip/wheels/13/90/db/290ab3a34f2ef0b5a0f89235dc2d40fea83e77de84ed2dc05c\n",
      "Successfully built pyyaml\n",
      "Installing collected packages: pyyaml, keras-applications, keras\n",
      "Successfully installed keras-2.3.1 keras-applications-1.0.8 pyyaml-5.3.1\n"
     ]
    }
   ],
   "source": [
    "!pip install keras"
   ]
  },
  {
   "cell_type": "markdown",
   "metadata": {},
   "source": [
    "## Using Spacy based vectorization with Sequential NN "
   ]
  },
  {
   "cell_type": "code",
   "execution_count": 263,
   "metadata": {},
   "outputs": [
    {
     "name": "stdout",
     "output_type": "stream",
     "text": [
      "38077 38077\n"
     ]
    }
   ],
   "source": [
    "import numpy as np\n",
    "from sklearn.model_selection import train_test_split\n",
    "from sklearn.utils import shuffle\n",
    "from sklearn import metrics\n",
    "from sklearn.metrics import classification_report\n",
    "import tensorflow as tf\n",
    "from tensorflow import keras\n",
    "from tensorflow.keras import layers\n",
    "\n",
    "n_categories = 30\n",
    "\n",
    "language_model = spacy.load(ubercorpus_cased_tokenized_word2vec_300d_path)\n",
    "filtered_data = get_top_categories(n_categories, filter_ukrainian=True)\n",
    "X, y = get_vectorized_data(filtered_data, vectorizer = vectorize_without_stopwords, model = language_model)\n",
    "print (len(X), len(y))"
   ]
  },
  {
   "cell_type": "code",
   "execution_count": 267,
   "metadata": {},
   "outputs": [
    {
     "name": "stdout",
     "output_type": "stream",
     "text": [
      "[ 1  1  1 ... 55 55 55]\n",
      "[ 0  0  0 ... 19 19 19]\n",
      "30\n"
     ]
    }
   ],
   "source": [
    "import numpy as np\n",
    "from sklearn.preprocessing import LabelEncoder\n",
    "\n",
    "encoder = LabelEncoder()\n",
    "encoded_y = encoder.fit_transform(y)\n",
    "\n",
    "print(np.array(y))\n",
    "print(encoded_y)\n",
    "print (len(set(encoded_y)))"
   ]
  },
  {
   "cell_type": "code",
   "execution_count": 268,
   "metadata": {},
   "outputs": [
    {
     "name": "stdout",
     "output_type": "stream",
     "text": [
      "train: 25511 25511\n",
      "test: 12566 12566\n",
      "X_train shape (25511, 300)\n",
      "X_test shape (12566, 300)\n"
     ]
    }
   ],
   "source": [
    "X_train, X_test, y_train, y_test = train_test_split(X, encoded_y, test_size=0.33, random_state=42)\n",
    "print ('train:', len(X_train), len(y_train))\n",
    "print ('test:', len(X_test), len(y_test))\n",
    "\n",
    "X_train = np.array(X_train)\n",
    "X_test = np.array(X_test)\n",
    "\n",
    "print ('X_train shape', X_train.shape)\n",
    "print ('X_test shape', X_test.shape)\n"
   ]
  },
  {
   "cell_type": "markdown",
   "metadata": {},
   "source": [
    "Благодаря **KerasClassifier**, мы получили возможность использовать **classification_report** для нейронки."
   ]
  },
  {
   "cell_type": "code",
   "execution_count": 277,
   "metadata": {},
   "outputs": [
    {
     "name": "stdout",
     "output_type": "stream",
     "text": [
      "(25511, 300)\n",
      "Model: \"sequential_63\"\n",
      "_________________________________________________________________\n",
      "Layer (type)                 Output Shape              Param #   \n",
      "=================================================================\n",
      "dense_81 (Dense)             (None, 100)               30100     \n",
      "_________________________________________________________________\n",
      "dense_82 (Dense)             (None, 30)                3030      \n",
      "=================================================================\n",
      "Total params: 33,130\n",
      "Trainable params: 33,130\n",
      "Non-trainable params: 0\n",
      "_________________________________________________________________\n",
      "Epoch 1/10\n",
      " - 4s - loss: 1.4188 - accuracy: 0.5690\n",
      "Epoch 2/10\n",
      " - 4s - loss: 1.0172 - accuracy: 0.6679\n",
      "Epoch 3/10\n",
      " - 4s - loss: 0.9273 - accuracy: 0.6961\n",
      "Epoch 4/10\n",
      " - 4s - loss: 0.8695 - accuracy: 0.7134\n",
      "Epoch 5/10\n",
      " - 5s - loss: 0.8257 - accuracy: 0.7236\n",
      "Epoch 6/10\n",
      " - 5s - loss: 0.7864 - accuracy: 0.7363\n",
      "Epoch 7/10\n",
      " - 5s - loss: 0.7582 - accuracy: 0.7455\n",
      "Epoch 8/10\n",
      " - 5s - loss: 0.7246 - accuracy: 0.7569\n",
      "Epoch 9/10\n",
      " - 5s - loss: 0.7008 - accuracy: 0.7637\n",
      "Epoch 10/10\n",
      " - 4s - loss: 0.6755 - accuracy: 0.7693\n",
      "Train on 25511 samples, validate on 12566 samples\n",
      "Epoch 1/10\n",
      " - 3s - loss: 0.5978 - accuracy: 0.7959 - val_loss: 0.9772 - val_accuracy: 0.7004\n",
      "Epoch 2/10\n",
      " - 3s - loss: 0.5916 - accuracy: 0.7985 - val_loss: 1.0266 - val_accuracy: 0.6912\n",
      "Epoch 3/10\n",
      " - 3s - loss: 0.5754 - accuracy: 0.8033 - val_loss: 1.0181 - val_accuracy: 0.6980\n",
      "Epoch 4/10\n",
      " - 3s - loss: 0.5576 - accuracy: 0.8086 - val_loss: 1.0327 - val_accuracy: 0.6944\n",
      "Epoch 5/10\n",
      " - 3s - loss: 0.5425 - accuracy: 0.8140 - val_loss: 1.0481 - val_accuracy: 0.6986\n",
      "Epoch 6/10\n",
      " - 3s - loss: 0.5309 - accuracy: 0.8190 - val_loss: 1.0589 - val_accuracy: 0.6904\n",
      "Epoch 7/10\n",
      " - 3s - loss: 0.5154 - accuracy: 0.8236 - val_loss: 1.0679 - val_accuracy: 0.6962\n",
      "Epoch 8/10\n",
      " - 3s - loss: 0.5023 - accuracy: 0.8277 - val_loss: 1.0834 - val_accuracy: 0.6885\n",
      "Epoch 9/10\n",
      " - 3s - loss: 0.4894 - accuracy: 0.8312 - val_loss: 1.1052 - val_accuracy: 0.6906\n",
      "Epoch 10/10\n",
      " - 3s - loss: 0.4761 - accuracy: 0.8363 - val_loss: 1.1089 - val_accuracy: 0.6929\n"
     ]
    }
   ],
   "source": [
    "import tensorflow as tf\n",
    "from tensorflow import keras\n",
    "from tensorflow.keras import layers\n",
    "from keras.utils import to_categorical\n",
    "from keras.models import Sequential, Model\n",
    "from keras.layers import Dense, Dropout, Input, LSTM, Embedding, Bidirectional, Flatten\n",
    "from keras.wrappers.scikit_learn import KerasClassifier\n",
    "\n",
    "print (X_train.shape)\n",
    "\n",
    "input_dim = X_train.shape[1]\n",
    "\n",
    "def get_model():\n",
    "    global input_dim\n",
    "    model = Sequential()\n",
    "    model.add(Dense(100, input_dim=input_dim, activation='relu'))\n",
    "    model.add(Dense(n_categories, activation='softmax')) \n",
    "    model.summary()\n",
    "    model.compile(loss='sparse_categorical_crossentropy', optimizer='adam', metrics=['accuracy'])\n",
    "    return model\n",
    "\n",
    "estimator = KerasClassifier(build_fn=get_model, nb_epoch=10, batch_size=5, verbose=0)\n",
    "estimator.fit(np.array(X_train), np.array(y_train), epochs=10, verbose=2)\n",
    "\n",
    "history = estimator.model.fit(X_train, y_train,\n",
    "                    epochs=10,\n",
    "                    verbose=2,\n",
    "                    validation_data=(X_test, y_test),\n",
    "                    batch_size=10)\n"
   ]
  },
  {
   "cell_type": "code",
   "execution_count": 279,
   "metadata": {},
   "outputs": [
    {
     "name": "stdout",
     "output_type": "stream",
     "text": [
      "Accuracy: 0.6929014801846252\n",
      "Training Accuracy: 0.8544\n",
      "Testing Accuracy:  0.6929\n",
      "              precision    recall  f1-score   support\n",
      "\n",
      "           0       0.78      0.87      0.83      2214\n",
      "           1       0.76      0.81      0.78       572\n",
      "           2       0.54      0.58      0.56       317\n",
      "           3       0.63      0.58      0.60       210\n",
      "           4       0.63      0.42      0.51       420\n",
      "           5       0.61      0.56      0.58       377\n",
      "           6       0.75      0.72      0.73      1050\n",
      "           7       0.60      0.42      0.50       195\n",
      "           8       0.68      0.77      0.72       232\n",
      "           9       0.65      0.64      0.64       438\n",
      "          10       0.71      0.77      0.74       370\n",
      "          11       0.83      0.83      0.83       206\n",
      "          12       0.82      0.67      0.74       398\n",
      "          13       0.61      0.72      0.66       369\n",
      "          14       0.71      0.72      0.71      1235\n",
      "          15       0.59      0.55      0.57       250\n",
      "          16       0.42      0.55      0.48       263\n",
      "          17       0.85      0.76      0.80       746\n",
      "          18       0.57      0.56      0.56       187\n",
      "          19       0.64      0.80      0.71       136\n",
      "          20       0.52      0.26      0.35       170\n",
      "          21       0.61      0.68      0.64       249\n",
      "          22       0.69      0.64      0.66       151\n",
      "          23       0.54      0.57      0.56       175\n",
      "          24       0.67      0.70      0.69       253\n",
      "          25       0.79      0.77      0.78       267\n",
      "          26       0.44      0.08      0.13       155\n",
      "          27       0.81      0.81      0.81       233\n",
      "          28       0.58      0.53      0.55       424\n",
      "          29       0.39      0.55      0.46       304\n",
      "\n",
      "    accuracy                           0.69     12566\n",
      "   macro avg       0.65      0.63      0.63     12566\n",
      "weighted avg       0.69      0.69      0.69     12566\n",
      "\n"
     ]
    }
   ],
   "source": [
    "y_pred = estimator.predict(np.array(X_test))\n",
    "\n",
    "print(\"Accuracy:\",metrics.accuracy_score(y_test, y_pred))\n",
    "loss, accuracy = estimator.model.evaluate(X_train, y_train, verbose=False)\n",
    "print(\"Training Accuracy: {:.4f}\".format(accuracy))\n",
    "loss, accuracy = estimator.model.evaluate(X_test, y_test, verbose=False)\n",
    "print(\"Testing Accuracy:  {:.4f}\".format(accuracy))\n",
    "\n",
    "print(classification_report(y_test, y_pred))\n"
   ]
  },
  {
   "cell_type": "code",
   "execution_count": 278,
   "metadata": {},
   "outputs": [
    {
     "data": {
      "image/png": "[encoded data removed]",
      "text/plain": [
       "<Figure size 864x360 with 2 Axes>"
      ]
     },
     "metadata": {},
     "output_type": "display_data"
    }
   ],
   "source": [
    "plot_history(history)"
   ]
  },
  {
   "cell_type": "markdown",
   "metadata": {},
   "source": [
    "Простая нейронка показала accuracy 0.69 (Baseline = 0.40) на Spacy эмбедингах. Но за 10 итераций не успела заоверфититься на тренировочные данные."
   ]
  },
  {
   "cell_type": "code",
   "execution_count": 146,
   "metadata": {},
   "outputs": [
    {
     "name": "stdout",
     "output_type": "stream",
     "text": [
      "Collecting matplotlib\n",
      "  Using cached matplotlib-3.2.1-cp38-cp38-macosx_10_9_x86_64.whl (12.4 MB)\n",
      "Requirement already satisfied: python-dateutil>=2.1 in ./venv/lib/python3.8/site-packages (from matplotlib) (2.8.1)\n",
      "Collecting cycler>=0.10\n",
      "  Using cached cycler-0.10.0-py2.py3-none-any.whl (6.5 kB)\n",
      "Requirement already satisfied: numpy>=1.11 in ./venv/lib/python3.8/site-packages (from matplotlib) (1.18.4)\n",
      "Requirement already satisfied: pyparsing!=2.0.4,!=2.1.2,!=2.1.6,>=2.0.1 in ./venv/lib/python3.8/site-packages (from matplotlib) (2.4.7)\n",
      "Collecting kiwisolver>=1.0.1\n",
      "  Using cached kiwisolver-1.2.0-cp38-cp38-macosx_10_9_x86_64.whl (60 kB)\n",
      "Requirement already satisfied: six>=1.5 in ./venv/lib/python3.8/site-packages (from python-dateutil>=2.1->matplotlib) (1.15.0)\n",
      "Installing collected packages: cycler, kiwisolver, matplotlib\n",
      "Successfully installed cycler-0.10.0 kiwisolver-1.2.0 matplotlib-3.2.1\n"
     ]
    }
   ],
   "source": [
    "!pip install matplotlib"
   ]
  },
  {
   "cell_type": "code",
   "execution_count": 280,
   "metadata": {},
   "outputs": [],
   "source": [
    "import matplotlib.pyplot as plt\n",
    "plt.style.use('ggplot')\n",
    "\n",
    "def plot_history(history):\n",
    "    acc = history.history['accuracy']\n",
    "    val_acc = history.history['val_accuracy']\n",
    "    loss = history.history['loss']\n",
    "    val_loss = history.history['val_loss']\n",
    "    x = range(1, len(acc) + 1)\n",
    "\n",
    "    plt.figure(figsize=(12, 5))\n",
    "    plt.subplot(1, 2, 1)\n",
    "    plt.plot(x, acc, 'b', label='Training acc')\n",
    "    plt.plot(x, val_acc, 'r', label='Validation acc')\n",
    "    plt.title('Training and validation accuracy')\n",
    "    plt.legend()\n",
    "    plt.subplot(1, 2, 2)\n",
    "    plt.plot(x, loss, 'b', label='Training loss')\n",
    "    plt.plot(x, val_loss, 'r', label='Validation loss')\n",
    "    plt.title('Training and validation loss')\n",
    "    plt.legend()"
   ]
  },
  {
   "cell_type": "code",
   "execution_count": 283,
   "metadata": {},
   "outputs": [
    {
     "name": "stdout",
     "output_type": "stream",
     "text": [
      "Train on 25511 samples, validate on 12566 samples\n",
      "Epoch 1/40\n",
      "25511/25511 [==============================] - 3s 137us/step - loss: 0.3542 - accuracy: 0.8796 - val_loss: 1.3719 - val_accuracy: 0.6833\n",
      "Epoch 2/40\n",
      "25511/25511 [==============================] - 3s 133us/step - loss: 0.3430 - accuracy: 0.8810 - val_loss: 1.3589 - val_accuracy: 0.6820\n",
      "Epoch 3/40\n",
      "25511/25511 [==============================] - 3s 133us/step - loss: 0.3343 - accuracy: 0.8853 - val_loss: 1.3951 - val_accuracy: 0.6865\n",
      "Epoch 4/40\n",
      "25511/25511 [==============================] - 3s 135us/step - loss: 0.3276 - accuracy: 0.8872 - val_loss: 1.4271 - val_accuracy: 0.6831\n",
      "Epoch 5/40\n",
      "25511/25511 [==============================] - 3s 135us/step - loss: 0.3179 - accuracy: 0.8919 - val_loss: 1.4205 - val_accuracy: 0.6857\n",
      "Epoch 6/40\n",
      "25511/25511 [==============================] - 3s 136us/step - loss: 0.3177 - accuracy: 0.8915 - val_loss: 1.4698 - val_accuracy: 0.6821\n",
      "Epoch 7/40\n",
      "25511/25511 [==============================] - 4s 145us/step - loss: 0.3076 - accuracy: 0.8942 - val_loss: 1.4744 - val_accuracy: 0.6874\n",
      "Epoch 8/40\n",
      "25511/25511 [==============================] - 4s 137us/step - loss: 0.3010 - accuracy: 0.8967 - val_loss: 1.4896 - val_accuracy: 0.6846\n",
      "Epoch 9/40\n",
      "25511/25511 [==============================] - 3s 136us/step - loss: 0.2928 - accuracy: 0.9007 - val_loss: 1.5222 - val_accuracy: 0.6783\n",
      "Epoch 10/40\n",
      "25511/25511 [==============================] - 4s 142us/step - loss: 0.2901 - accuracy: 0.9004 - val_loss: 1.5232 - val_accuracy: 0.6856\n",
      "Epoch 11/40\n",
      "25511/25511 [==============================] - 4s 138us/step - loss: 0.2861 - accuracy: 0.9019 - val_loss: 1.5563 - val_accuracy: 0.6839\n",
      "Epoch 12/40\n",
      "25511/25511 [==============================] - 4s 137us/step - loss: 0.2762 - accuracy: 0.9056 - val_loss: 1.5815 - val_accuracy: 0.6731\n",
      "Epoch 13/40\n",
      "25511/25511 [==============================] - 4s 138us/step - loss: 0.2728 - accuracy: 0.9057 - val_loss: 1.6305 - val_accuracy: 0.6768\n",
      "Epoch 14/40\n",
      "25511/25511 [==============================] - 4s 140us/step - loss: 0.2709 - accuracy: 0.9082 - val_loss: 1.6605 - val_accuracy: 0.6750\n",
      "Epoch 15/40\n",
      "25511/25511 [==============================] - 4s 141us/step - loss: 0.2619 - accuracy: 0.9098 - val_loss: 1.6255 - val_accuracy: 0.6790\n",
      "Epoch 16/40\n",
      "25511/25511 [==============================] - 3s 136us/step - loss: 0.2581 - accuracy: 0.9121 - val_loss: 1.6732 - val_accuracy: 0.6777\n",
      "Epoch 17/40\n",
      "25511/25511 [==============================] - 4s 138us/step - loss: 0.2523 - accuracy: 0.9124 - val_loss: 1.7112 - val_accuracy: 0.6760\n",
      "Epoch 18/40\n",
      "25511/25511 [==============================] - 4s 138us/step - loss: 0.2476 - accuracy: 0.9132 - val_loss: 1.7184 - val_accuracy: 0.6865\n",
      "Epoch 19/40\n",
      "25511/25511 [==============================] - 4s 139us/step - loss: 0.2422 - accuracy: 0.9179 - val_loss: 1.7606 - val_accuracy: 0.6786\n",
      "Epoch 20/40\n",
      "25511/25511 [==============================] - 4s 138us/step - loss: 0.2350 - accuracy: 0.9191 - val_loss: 1.7503 - val_accuracy: 0.6815\n",
      "Epoch 21/40\n",
      "25511/25511 [==============================] - 4s 139us/step - loss: 0.2349 - accuracy: 0.9209 - val_loss: 1.7961 - val_accuracy: 0.6781\n",
      "Epoch 22/40\n",
      "25511/25511 [==============================] - 4s 141us/step - loss: 0.2306 - accuracy: 0.9205 - val_loss: 1.8026 - val_accuracy: 0.6727\n",
      "Epoch 23/40\n",
      "25511/25511 [==============================] - 4s 142us/step - loss: 0.2236 - accuracy: 0.9250 - val_loss: 1.8155 - val_accuracy: 0.6834\n",
      "Epoch 24/40\n",
      "25511/25511 [==============================] - 3s 137us/step - loss: 0.2174 - accuracy: 0.9261 - val_loss: 1.9048 - val_accuracy: 0.6662\n",
      "Epoch 25/40\n",
      "25511/25511 [==============================] - 3s 137us/step - loss: 0.2155 - accuracy: 0.9273 - val_loss: 1.8760 - val_accuracy: 0.6760\n",
      "Epoch 26/40\n",
      "25511/25511 [==============================] - 4s 138us/step - loss: 0.2128 - accuracy: 0.9284 - val_loss: 1.8842 - val_accuracy: 0.6837\n",
      "Epoch 27/40\n",
      "25511/25511 [==============================] - 4s 138us/step - loss: 0.2087 - accuracy: 0.9287 - val_loss: 1.8883 - val_accuracy: 0.6788\n",
      "Epoch 28/40\n",
      "25511/25511 [==============================] - 4s 139us/step - loss: 0.2053 - accuracy: 0.9318 - val_loss: 1.9598 - val_accuracy: 0.6814\n",
      "Epoch 29/40\n",
      "25511/25511 [==============================] - 4s 141us/step - loss: 0.2031 - accuracy: 0.9309 - val_loss: 1.9089 - val_accuracy: 0.6802\n",
      "Epoch 30/40\n",
      "25511/25511 [==============================] - 4s 141us/step - loss: 0.1992 - accuracy: 0.9336 - val_loss: 1.9929 - val_accuracy: 0.6707\n",
      "Epoch 31/40\n",
      "25511/25511 [==============================] - 4s 142us/step - loss: 0.1970 - accuracy: 0.9344 - val_loss: 1.9932 - val_accuracy: 0.6794\n",
      "Epoch 32/40\n",
      "25511/25511 [==============================] - 4s 142us/step - loss: 0.1907 - accuracy: 0.9350 - val_loss: 2.0193 - val_accuracy: 0.6740\n",
      "Epoch 33/40\n",
      "25511/25511 [==============================] - 4s 143us/step - loss: 0.1864 - accuracy: 0.9388 - val_loss: 2.0313 - val_accuracy: 0.6739\n",
      "Epoch 34/40\n",
      "25511/25511 [==============================] - 4s 138us/step - loss: 0.1850 - accuracy: 0.9388 - val_loss: 2.1126 - val_accuracy: 0.6707\n",
      "Epoch 35/40\n",
      "25511/25511 [==============================] - 3s 137us/step - loss: 0.1831 - accuracy: 0.9385 - val_loss: 2.1090 - val_accuracy: 0.6816\n",
      "Epoch 36/40\n",
      "25511/25511 [==============================] - 4s 141us/step - loss: 0.1782 - accuracy: 0.9405 - val_loss: 2.0943 - val_accuracy: 0.6807\n",
      "Epoch 37/40\n",
      "25511/25511 [==============================] - 4s 150us/step - loss: 0.1730 - accuracy: 0.9428 - val_loss: 2.1480 - val_accuracy: 0.6658\n",
      "Epoch 38/40\n",
      "25511/25511 [==============================] - 4s 142us/step - loss: 0.1718 - accuracy: 0.9418 - val_loss: 2.1759 - val_accuracy: 0.6682\n",
      "Epoch 39/40\n",
      "25511/25511 [==============================] - 4s 141us/step - loss: 0.1700 - accuracy: 0.9442 - val_loss: 2.1930 - val_accuracy: 0.6777\n",
      "Epoch 40/40\n",
      "25511/25511 [==============================] - 4s 142us/step - loss: 0.1664 - accuracy: 0.9441 - val_loss: 2.1902 - val_accuracy: 0.6755\n"
     ]
    }
   ],
   "source": [
    "history = estimator.model.fit(X_train, y_train,\n",
    "                    epochs=40,\n",
    "                    verbose=1,\n",
    "                    validation_data=(X_test, y_test),\n",
    "                    batch_size=10)"
   ]
  },
  {
   "cell_type": "code",
   "execution_count": 284,
   "metadata": {},
   "outputs": [
    {
     "data": {
      "image/png": "[encoded data removed]",
      "text/plain": [
       "<Figure size 864x360 with 2 Axes>"
      ]
     },
     "metadata": {},
     "output_type": "display_data"
    }
   ],
   "source": [
    "plot_history(history)"
   ]
  },
  {
   "cell_type": "markdown",
   "metadata": {},
   "source": [
    "## one_hot and pad_sequences"
   ]
  },
  {
   "cell_type": "code",
   "execution_count": 192,
   "metadata": {},
   "outputs": [],
   "source": [
    "num_categories = 30\n",
    "\n",
    "filtered_data = get_top_categories(num_categories, filter_ukrainian=True)"
   ]
  },
  {
   "cell_type": "code",
   "execution_count": 196,
   "metadata": {},
   "outputs": [
    {
     "name": "stdout",
     "output_type": "stream",
     "text": [
      "38077\n",
      "38077\n"
     ]
    }
   ],
   "source": [
    "labels  = []\n",
    "documents = []\n",
    "\n",
    "for category in filtered_data:\n",
    "    for document in filtered_data[category]:\n",
    "        labels.append (category)\n",
    "        documents.append(document)\n",
    "\n",
    "print (len(labels))\n",
    "print (len(documents))\n"
   ]
  },
  {
   "cell_type": "code",
   "execution_count": 204,
   "metadata": {},
   "outputs": [
    {
     "name": "stdout",
     "output_type": "stream",
     "text": [
      "[[660, 2431, 100, 3002, 2456, 100, 4300, 1925, 826, 3331, 3002, 3333, 3858, 2403, 2497, 3184, 1339, 3297, 4780, 3577, 4905, 1205, 4153, 2579, 1086, 1306, 3554, 1733, 2354, 442, 4498, 648, 1733, 3331, 1306, 4153, 3038, 960, 2886, 2129, 2054, 4504, 3797, 2795, 1898, 2795, 1673, 960, 1754, 295, 4180, 1292, 3731, 2599, 3604, 2031, 3545], [4806, 2919, 2817, 892, 663, 1815, 78, 4770, 4950, 3456, 410, 4498, 2284, 300, 4317, 4673, 1396, 4352, 3103, 3103, 4365, 4048, 4262, 4270, 3016, 2428, 2795, 3845, 4498, 3537, 2031, 2311, 4048, 2795, 1396, 4352, 1606, 159, 2461, 2354, 1422, 1104, 1001, 887, 1292, 3769, 3405, 1887, 2451, 2764, 1104, 3297, 560, 293, 1045, 3840, 300, 4317, 3103, 3103, 1104, 2006, 1046, 14, 2289, 4131, 3613, 2926, 1292, 1714, 4299, 1104, 2006, 37, 833, 3343, 2846, 4317, 3385, 440, 1914, 3104, 1041, 892, 189, 4177, 3384, 1104, 4360, 2381, 440, 662, 1, 4123, 4009, 1988, 1887, 987, 1104, 4977, 2570, 3650, 3103, 3103, 4498, 2855, 3385, 2165, 2428, 3755, 38, 2156, 1292, 3218, 2730, 300, 892, 4946, 4317, 4529, 892, 2795, 4293, 16, 4806, 3335, 3778, 2396, 4703, 2630]]\n"
     ]
    }
   ],
   "source": [
    "vocab_size = 5000\n",
    "encoded_docs = [one_hot(d, vocab_size) for d in documents]\n",
    "print(encoded_docs[:2])"
   ]
  },
  {
   "cell_type": "code",
   "execution_count": 210,
   "metadata": {},
   "outputs": [
    {
     "name": "stdout",
     "output_type": "stream",
     "text": [
      "[[ 660 2431  100 3002 2456  100 4300 1925  826 3331 3002 3333 3858 2403\n",
      "  2497 3184 1339 3297 4780 3577 4905 1205 4153 2579 1086 1306 3554 1733\n",
      "  2354  442 4498  648 1733 3331 1306 4153 3038  960 2886 2129 2054 4504\n",
      "  3797 2795 1898 2795 1673  960 1754  295 4180 1292 3731 2599 3604 2031\n",
      "  3545    0    0    0    0    0    0    0    0    0    0    0    0    0\n",
      "     0    0    0    0    0    0    0    0    0    0    0    0    0    0\n",
      "     0    0    0    0    0    0    0    0    0    0    0    0    0    0\n",
      "     0    0]\n",
      " [2031 2311 4048 2795 1396 4352 1606  159 2461 2354 1422 1104 1001  887\n",
      "  1292 3769 3405 1887 2451 2764 1104 3297  560  293 1045 3840  300 4317\n",
      "  3103 3103 1104 2006 1046   14 2289 4131 3613 2926 1292 1714 4299 1104\n",
      "  2006   37  833 3343 2846 4317 3385  440 1914 3104 1041  892  189 4177\n",
      "  3384 1104 4360 2381  440  662    1 4123 4009 1988 1887  987 1104 4977\n",
      "  2570 3650 3103 3103 4498 2855 3385 2165 2428 3755   38 2156 1292 3218\n",
      "  2730  300  892 4946 4317 4529  892 2795 4293   16 4806 3335 3778 2396\n",
      "  4703 2630]]\n"
     ]
    }
   ],
   "source": [
    "from keras.preprocessing.sequence import pad_sequences\n",
    "maxlen = 100\n",
    "padded_docs = pad_sequences(encoded_docs, padding='post', maxlen=maxlen)\n",
    "print(padded_docs[:2])"
   ]
  },
  {
   "cell_type": "code",
   "execution_count": 219,
   "metadata": {},
   "outputs": [
    {
     "name": "stdout",
     "output_type": "stream",
     "text": [
      "['Відсутність ГВП', 'Відсутність ГВП']\n",
      "[4 4]\n"
     ]
    }
   ],
   "source": [
    "from sklearn.preprocessing import LabelEncoder\n",
    "\n",
    "encoder = LabelEncoder()\n",
    "\n",
    "encoded_labels = encoder.fit_transform(labels)\n",
    "\n",
    "print(labels[:2])\n",
    "print(encoded_labels[:2])"
   ]
  },
  {
   "cell_type": "code",
   "execution_count": 224,
   "metadata": {},
   "outputs": [
    {
     "name": "stdout",
     "output_type": "stream",
     "text": [
      "train 25511 25511\n",
      "test 12566 12566\n"
     ]
    }
   ],
   "source": [
    "X_train, X_test, y_train, y_test = train_test_split(padded_docs, encoded_labels, test_size=0.33, random_state=42)\n",
    "print ('train',len(X_train),len(y_train))\n",
    "print ('test',len(X_test),len(y_test))"
   ]
  },
  {
   "cell_type": "code",
   "execution_count": 232,
   "metadata": {},
   "outputs": [
    {
     "name": "stdout",
     "output_type": "stream",
     "text": [
      "Model: \"sequential_57\"\n",
      "_________________________________________________________________\n",
      "Layer (type)                 Output Shape              Param #   \n",
      "=================================================================\n",
      "embedding_7 (Embedding)      (None, 100, 50)           250000    \n",
      "_________________________________________________________________\n",
      "flatten_5 (Flatten)          (None, 5000)              0         \n",
      "_________________________________________________________________\n",
      "dense_69 (Dense)             (None, 100)               500100    \n",
      "_________________________________________________________________\n",
      "dense_70 (Dense)             (None, 30)                3030      \n",
      "=================================================================\n",
      "Total params: 753,130\n",
      "Trainable params: 753,130\n",
      "Non-trainable params: 0\n",
      "_________________________________________________________________\n"
     ]
    }
   ],
   "source": [
    "from keras.models import Sequential\n",
    "from keras import layers\n",
    "\n",
    "embedding_dim = 50\n",
    "\n",
    "model = Sequential()\n",
    "model.add(layers.Embedding(input_dim=vocab_size, \n",
    "                           output_dim=embedding_dim, \n",
    "                           input_length=maxlen))\n",
    "model.add(layers.Flatten())\n",
    "model.add(layers.Dense(100, activation='relu'))\n",
    "model.add(layers.Dense(num_categories, activation='softmax'))\n",
    "model.compile(optimizer='adam',\n",
    "              loss='sparse_categorical_crossentropy',\n",
    "              metrics=['accuracy'])\n",
    "\n",
    "model.summary()"
   ]
  },
  {
   "cell_type": "code",
   "execution_count": 233,
   "metadata": {},
   "outputs": [
    {
     "name": "stdout",
     "output_type": "stream",
     "text": [
      "Train on 25511 samples, validate on 12566 samples\n",
      "Epoch 1/20\n",
      " - 20s - loss: 1.6299 - accuracy: 0.5215 - val_loss: 1.0682 - val_accuracy: 0.6632\n",
      "Epoch 2/20\n",
      " - 20s - loss: 0.5319 - accuracy: 0.8332 - val_loss: 1.1290 - val_accuracy: 0.6691\n",
      "Epoch 3/20\n",
      " - 20s - loss: 0.1860 - accuracy: 0.9467 - val_loss: 1.3801 - val_accuracy: 0.6678\n",
      "Epoch 4/20\n",
      " - 20s - loss: 0.0954 - accuracy: 0.9767 - val_loss: 1.6136 - val_accuracy: 0.6572\n",
      "Epoch 5/20\n",
      " - 20s - loss: 0.0616 - accuracy: 0.9865 - val_loss: 1.8739 - val_accuracy: 0.6580\n",
      "Epoch 6/20\n",
      " - 20s - loss: 0.0472 - accuracy: 0.9882 - val_loss: 2.1382 - val_accuracy: 0.6436\n",
      "Epoch 7/20\n",
      " - 20s - loss: 0.0394 - accuracy: 0.9896 - val_loss: 2.4240 - val_accuracy: 0.6386\n",
      "Epoch 8/20\n",
      " - 20s - loss: 0.0330 - accuracy: 0.9913 - val_loss: 2.6077 - val_accuracy: 0.6372\n",
      "Epoch 9/20\n",
      " - 20s - loss: 0.0313 - accuracy: 0.9918 - val_loss: 2.8472 - val_accuracy: 0.6306\n",
      "Epoch 10/20\n",
      " - 20s - loss: 0.0320 - accuracy: 0.9913 - val_loss: 3.0877 - val_accuracy: 0.6330\n",
      "Epoch 11/20\n",
      " - 20s - loss: 0.0283 - accuracy: 0.9919 - val_loss: 3.2813 - val_accuracy: 0.6285\n",
      "Epoch 12/20\n",
      " - 20s - loss: 0.0273 - accuracy: 0.9911 - val_loss: 3.4188 - val_accuracy: 0.6338\n",
      "Epoch 13/20\n",
      " - 20s - loss: 0.0275 - accuracy: 0.9924 - val_loss: 3.6651 - val_accuracy: 0.6254\n",
      "Epoch 14/20\n",
      " - 21s - loss: 0.0229 - accuracy: 0.9926 - val_loss: 3.6628 - val_accuracy: 0.6240\n",
      "Epoch 15/20\n",
      " - 22s - loss: 0.0231 - accuracy: 0.9929 - val_loss: 4.0605 - val_accuracy: 0.6245\n",
      "Epoch 16/20\n",
      " - 22s - loss: 0.0304 - accuracy: 0.9920 - val_loss: 4.3439 - val_accuracy: 0.6204\n",
      "Epoch 17/20\n",
      " - 22s - loss: 0.0212 - accuracy: 0.9942 - val_loss: 4.2820 - val_accuracy: 0.6202\n",
      "Epoch 18/20\n",
      " - 22s - loss: 0.0210 - accuracy: 0.9938 - val_loss: 4.5759 - val_accuracy: 0.6240\n",
      "Epoch 19/20\n",
      " - 21s - loss: 0.0229 - accuracy: 0.9931 - val_loss: 4.6864 - val_accuracy: 0.6109\n",
      "Epoch 20/20\n",
      " - 20s - loss: 0.0209 - accuracy: 0.9936 - val_loss: 4.7299 - val_accuracy: 0.6238\n",
      "Training Accuracy: 0.9958\n",
      "Testing Accuracy:  0.6238\n"
     ]
    },
    {
     "data": {
      "image/png": "[encoded data removed]",
      "text/plain": [
       "<Figure size 864x360 with 2 Axes>"
      ]
     },
     "metadata": {},
     "output_type": "display_data"
    }
   ],
   "source": [
    "history = model.fit(X_train, y_train,\n",
    "                    epochs=20,\n",
    "                    verbose=2,\n",
    "                    validation_data=(X_test, y_test),\n",
    "                    batch_size=10)\n",
    "loss, accuracy = model.evaluate(X_train, y_train, verbose=False)\n",
    "print(\"Training Accuracy: {:.4f}\".format(accuracy))\n",
    "loss, accuracy = model.evaluate(X_test, y_test, verbose=False)\n",
    "print(\"Testing Accuracy:  {:.4f}\".format(accuracy))\n",
    "plot_history(history)"
   ]
  },
  {
   "cell_type": "markdown",
   "metadata": {},
   "source": [
    "Модель очень быстро заоверфитилась на тестовые данные. Можно было прервать тренировку на 5-й эпохе и получить точность 0.65 (лучший результат = 0.69; baseline = 0.40 )"
   ]
  },
  {
   "cell_type": "markdown",
   "metadata": {},
   "source": [
    "## Conv1D and GlobalMaxPooling1D"
   ]
  },
  {
   "cell_type": "code",
   "execution_count": 230,
   "metadata": {},
   "outputs": [
    {
     "name": "stdout",
     "output_type": "stream",
     "text": [
      "Model: \"sequential_56\"\n",
      "_________________________________________________________________\n",
      "Layer (type)                 Output Shape              Param #   \n",
      "=================================================================\n",
      "embedding_6 (Embedding)      (None, 100, 50)           250000    \n",
      "_________________________________________________________________\n",
      "conv1d_5 (Conv1D)            (None, 96, 128)           32128     \n",
      "_________________________________________________________________\n",
      "global_max_pooling1d_3 (Glob (None, 128)               0         \n",
      "_________________________________________________________________\n",
      "dense_67 (Dense)             (None, 100)               12900     \n",
      "_________________________________________________________________\n",
      "dense_68 (Dense)             (None, 30)                3030      \n",
      "=================================================================\n",
      "Total params: 298,058\n",
      "Trainable params: 298,058\n",
      "Non-trainable params: 0\n",
      "_________________________________________________________________\n"
     ]
    }
   ],
   "source": [
    "from keras.models import Sequential\n",
    "from keras import layers\n",
    "\n",
    "embedding_dim = 50\n",
    "\n",
    "model = Sequential()\n",
    "model.add(layers.Embedding(input_dim=vocab_size, \n",
    "                           output_dim=embedding_dim, \n",
    "                           input_length=maxlen))\n",
    "model.add(layers.Conv1D(128, 5, activation='relu'))\n",
    "model.add(layers.GlobalMaxPooling1D())\n",
    "model.add(layers.Dense(100, activation='relu'))\n",
    "model.add(layers.Dense(num_categories, activation='softmax'))\n",
    "model.compile(optimizer='adam',\n",
    "              loss='sparse_categorical_crossentropy',\n",
    "              metrics=['accuracy'])\n",
    "\n",
    "model.summary()"
   ]
  },
  {
   "cell_type": "code",
   "execution_count": 231,
   "metadata": {},
   "outputs": [
    {
     "name": "stdout",
     "output_type": "stream",
     "text": [
      "Train on 25511 samples, validate on 12566 samples\n",
      "Epoch 1/20\n",
      " - 16s - loss: 1.5730 - accuracy: 0.5305 - val_loss: 1.0638 - val_accuracy: 0.6580\n",
      "Epoch 2/20\n",
      " - 16s - loss: 0.8115 - accuracy: 0.7316 - val_loss: 0.9447 - val_accuracy: 0.6969\n",
      "Epoch 3/20\n",
      " - 15s - loss: 0.5204 - accuracy: 0.8201 - val_loss: 1.0361 - val_accuracy: 0.6938\n",
      "Epoch 4/20\n",
      " - 18s - loss: 0.3218 - accuracy: 0.8929 - val_loss: 1.1405 - val_accuracy: 0.6989\n",
      "Epoch 5/20\n",
      " - 17s - loss: 0.1952 - accuracy: 0.9387 - val_loss: 1.3550 - val_accuracy: 0.6901\n",
      "Epoch 6/20\n",
      " - 16s - loss: 0.1347 - accuracy: 0.9592 - val_loss: 1.5375 - val_accuracy: 0.6880\n",
      "Epoch 7/20\n",
      " - 17s - loss: 0.1001 - accuracy: 0.9723 - val_loss: 1.7106 - val_accuracy: 0.6837\n",
      "Epoch 8/20\n",
      " - 21s - loss: 0.0887 - accuracy: 0.9773 - val_loss: 1.7671 - val_accuracy: 0.6949\n",
      "Epoch 9/20\n",
      " - 19s - loss: 0.0808 - accuracy: 0.9782 - val_loss: 2.0467 - val_accuracy: 0.6861\n",
      "Epoch 10/20\n",
      " - 19s - loss: 0.0793 - accuracy: 0.9804 - val_loss: 2.0813 - val_accuracy: 0.6861\n",
      "Epoch 11/20\n",
      " - 19s - loss: 0.0689 - accuracy: 0.9816 - val_loss: 2.2663 - val_accuracy: 0.6852\n",
      "Epoch 12/20\n",
      " - 17s - loss: 0.0697 - accuracy: 0.9826 - val_loss: 2.2811 - val_accuracy: 0.6848\n",
      "Epoch 13/20\n",
      " - 18s - loss: 0.0622 - accuracy: 0.9827 - val_loss: 2.3153 - val_accuracy: 0.6771\n",
      "Epoch 14/20\n",
      " - 17s - loss: 0.0668 - accuracy: 0.9821 - val_loss: 2.3591 - val_accuracy: 0.6776\n",
      "Epoch 15/20\n",
      " - 16s - loss: 0.0571 - accuracy: 0.9860 - val_loss: 2.6906 - val_accuracy: 0.6725\n",
      "Epoch 16/20\n",
      " - 16s - loss: 0.0627 - accuracy: 0.9816 - val_loss: 2.6080 - val_accuracy: 0.6810\n",
      "Epoch 17/20\n",
      " - 16s - loss: 0.0558 - accuracy: 0.9853 - val_loss: 2.4018 - val_accuracy: 0.6866\n",
      "Epoch 18/20\n",
      " - 16s - loss: 0.0556 - accuracy: 0.9846 - val_loss: 2.6554 - val_accuracy: 0.6839\n",
      "Epoch 19/20\n",
      " - 17s - loss: 0.0501 - accuracy: 0.9866 - val_loss: 2.7659 - val_accuracy: 0.6766\n",
      "Epoch 20/20\n",
      " - 16s - loss: 0.0514 - accuracy: 0.9860 - val_loss: 2.8317 - val_accuracy: 0.6799\n",
      "Training Accuracy: 0.9903\n",
      "Testing Accuracy:  0.6799\n"
     ]
    },
    {
     "data": {
      "image/png": "[encoded data removed]",
      "text/plain": [
       "<Figure size 864x360 with 2 Axes>"
      ]
     },
     "metadata": {},
     "output_type": "display_data"
    }
   ],
   "source": [
    "history = model.fit(X_train, y_train,\n",
    "                    epochs=20,\n",
    "                    verbose=2,\n",
    "                    validation_data=(X_test, y_test),\n",
    "                    batch_size=10)\n",
    "loss, accuracy = model.evaluate(X_train, y_train, verbose=False)\n",
    "print(\"Training Accuracy: {:.4f}\".format(accuracy))\n",
    "loss, accuracy = model.evaluate(X_test, y_test, verbose=False)\n",
    "print(\"Testing Accuracy:  {:.4f}\".format(accuracy))\n",
    "plot_history(history)"
   ]
  },
  {
   "cell_type": "code",
   "execution_count": null,
   "metadata": {},
   "outputs": [],
   "source": [
    "Модель заоверфитилась на тестовые данные к 10-й эпохе. Точность на 10-й эпохе 0.69 (лучший результат = 0.69; baseline = 0.40 )"
   ]
  },
  {
   "cell_type": "markdown",
   "metadata": {},
   "source": [
    "## Hyperparameters with RandomizedSearchCV"
   ]
  },
  {
   "cell_type": "code",
   "execution_count": 229,
   "metadata": {},
   "outputs": [],
   "source": [
    "param_grid = dict(num_filters=[32, 64, 128],\n",
    "                  kernel_size=[3, 5, 7],\n",
    "                  vocab_size=[vocab_size], \n",
    "                  embedding_dim=[embedding_dim],\n",
    "                  maxlen=[maxlen])"
   ]
  },
  {
   "cell_type": "code",
   "execution_count": 234,
   "metadata": {},
   "outputs": [],
   "source": [
    "def create_model(num_filters, kernel_size, vocab_size, embedding_dim, maxlen):\n",
    "    model = Sequential()\n",
    "    model.add(layers.Embedding(vocab_size, embedding_dim, input_length=maxlen))\n",
    "    model.add(layers.Conv1D(num_filters, kernel_size, activation='relu'))\n",
    "    model.add(layers.GlobalMaxPooling1D())\n",
    "    model.add(layers.Dense(100, activation='relu'))\n",
    "    model.add(layers.Dense(num_categories, activation='softmax'))\n",
    "    model.compile(optimizer='adam',\n",
    "                  loss='sparse_categorical_crossentropy',\n",
    "                  metrics=['accuracy'])\n",
    "    return model"
   ]
  },
  {
   "cell_type": "code",
   "execution_count": null,
   "metadata": {},
   "outputs": [
    {
     "name": "stdout",
     "output_type": "stream",
     "text": [
      "Fitting 4 folds for each of 5 candidates, totalling 20 fits\n"
     ]
    },
    {
     "name": "stderr",
     "output_type": "stream",
     "text": [
      "[Parallel(n_jobs=-1)]: Using backend LokyBackend with 8 concurrent workers.\n"
     ]
    }
   ],
   "source": [
    "from keras.wrappers.scikit_learn import KerasClassifier\n",
    "from sklearn.model_selection import RandomizedSearchCV\n",
    "\n",
    "epochs = 20\n",
    "\n",
    "model = KerasClassifier(build_fn=create_model,\n",
    "                            epochs=epochs, batch_size=10,\n",
    "                            verbose=1)\n",
    "grid = RandomizedSearchCV(estimator=model, param_distributions=param_grid,\n",
    "                              cv=4, verbose=1, n_iter=5, n_jobs=-1)\n",
    "grid_result = grid.fit(X_train, y_train)\n",
    "\n",
    "test_accuracy = grid.score(X_test, y_test)"
   ]
  },
  {
   "cell_type": "code",
   "execution_count": 240,
   "metadata": {},
   "outputs": [
    {
     "name": "stdout",
     "output_type": "stream",
     "text": [
      "0.6750423014163971\n",
      "{'vocab_size': 5000, 'num_filters': 128, 'maxlen': 100, 'kernel_size': 3, 'embedding_dim': 50}\n"
     ]
    }
   ],
   "source": [
    "print (grid_result.best_score_)\n",
    "print (grid_result.best_params_)"
   ]
  },
  {
   "cell_type": "markdown",
   "metadata": {},
   "source": [
    "## LSTM"
   ]
  },
  {
   "cell_type": "code",
   "execution_count": null,
   "metadata": {},
   "outputs": [],
   "source": [
    "Тренировка LSTM занимает много времени. Ниже приведены данные нескольких экспериментов."
   ]
  },
  {
   "cell_type": "code",
   "execution_count": 113,
   "metadata": {},
   "outputs": [
    {
     "name": "stdout",
     "output_type": "stream",
     "text": [
      "(23789, 300)\n",
      "Model: \"sequential_41\"\n",
      "_________________________________________________________________\n",
      "Layer (type)                 Output Shape              Param #   \n",
      "=================================================================\n",
      "lstm_20 (LSTM)               (None, 1)                 12        \n",
      "_________________________________________________________________\n",
      "dense_41 (Dense)             (None, 100)               200       \n",
      "=================================================================\n",
      "Total params: 212\n",
      "Trainable params: 212\n",
      "Non-trainable params: 0\n",
      "_________________________________________________________________\n",
      "Epoch 1/10\n",
      " - 282s - loss: 2.6156 - accuracy: 0.2722\n",
      "Epoch 2/10\n",
      " - 293s - loss: 2.1312 - accuracy: 0.2770\n",
      "Epoch 3/10\n",
      " - 328s - loss: 2.1120 - accuracy: 0.2770\n",
      "Epoch 4/10\n",
      " - 297s - loss: 2.1085 - accuracy: 0.2770\n",
      "Epoch 5/10\n",
      " - 277s - loss: 2.1075 - accuracy: 0.2770\n",
      "Epoch 6/10\n",
      " - 270s - loss: 2.1066 - accuracy: 0.2770\n",
      "Epoch 7/10\n",
      " - 270s - loss: 2.1049 - accuracy: 0.2770\n",
      "Epoch 8/10\n",
      " - 271s - loss: 2.1012 - accuracy: 0.2775\n",
      "Epoch 9/10\n",
      " - 270s - loss: 2.0941 - accuracy: 0.2801\n",
      "Epoch 10/10\n",
      " - 277s - loss: 2.0811 - accuracy: 0.2845\n"
     ]
    },
    {
     "data": {
      "text/plain": [
       "<keras.callbacks.callbacks.History at 0x16cd5cd90>"
      ]
     },
     "execution_count": 113,
     "metadata": {},
     "output_type": "execute_result"
    }
   ],
   "source": [
    "import tensorflow as tf\n",
    "from tensorflow import keras\n",
    "from tensorflow.keras import layers\n",
    "from keras.utils import to_categorical\n",
    "from keras.models import Sequential, Model\n",
    "from keras.layers import Dense, Dropout, Input, LSTM, Embedding, Bidirectional, Flatten, Conv1D\n",
    "from keras.wrappers.scikit_learn import KerasClassifier\n",
    "\n",
    "X = np.array(raw_X)\n",
    "y = np.array(raw_y)\n",
    "\n",
    "print (X.shape)\n",
    "\n",
    "reshaped_X = []\n",
    "for data in X_train:\n",
    "    arr = np.array(data)\n",
    "    newarr = arr.reshape(300,1)\n",
    "    reshaped_X.append(newarr)\n",
    "    \n",
    "#reshaped_X = np.array(reshaped_X)\n",
    "\n",
    "\n",
    "input_dim = np.array(X_train).shape[1]\n",
    "\n",
    "def get_model():\n",
    "    global input_dim\n",
    "    model = Sequential()\n",
    "    model.add(LSTM(1, dropout=0.2, input_shape=(300,1), recurrent_dropout=0.2))\n",
    "    model.add(Dense(100, activation='softmax'))\n",
    "    model.summary()\n",
    "    model.compile(loss='sparse_categorical_crossentropy', optimizer='adam', metrics=['accuracy'])\n",
    "    return model\n",
    "\n",
    "estimator = KerasClassifier(build_fn=get_model, nb_epoch=10, batch_size=5, verbose=2)\n",
    "estimator.fit(np.array(reshaped_X), np.array(y_train), epochs=2, verbose=2)"
   ]
  },
  {
   "cell_type": "code",
   "execution_count": 118,
   "metadata": {},
   "outputs": [
    {
     "name": "stdout",
     "output_type": "stream",
     "text": [
      "Accuracy: 0.28709718507196536\n",
      "\n",
      "              precision    recall  f1-score   support\n",
      "\n",
      "           1       0.29      0.99      0.45      2159\n",
      "           4       0.27      0.19      0.23       651\n",
      "          10       0.00      0.00      0.00       411\n",
      "          13       0.00      0.00      0.00       362\n",
      "          14       0.00      0.00      0.00      1048\n",
      "          20       0.00      0.00      0.00       441\n",
      "          25       0.00      0.00      0.00       404\n",
      "          35       0.00      0.00      0.00      1200\n",
      "          46       0.00      0.00      0.00       731\n",
      "          91       0.00      0.00      0.00       444\n",
      "\n",
      "    accuracy                           0.29      7851\n",
      "   macro avg       0.06      0.12      0.07      7851\n",
      "weighted avg       0.10      0.29      0.14      7851\n",
      "\n"
     ]
    },
    {
     "name": "stderr",
     "output_type": "stream",
     "text": [
      "/Users/dmytromindra/Projects/prj-nlp-2020/students/DmytroMindra/11-nn/venv/lib/python3.8/site-packages/sklearn/metrics/_classification.py:1221: UndefinedMetricWarning: Precision and F-score are ill-defined and being set to 0.0 in labels with no predicted samples. Use `zero_division` parameter to control this behavior.\n",
      "  _warn_prf(average, modifier, msg_start, len(result))\n"
     ]
    }
   ],
   "source": [
    "reshaped_X_test = []\n",
    "for data in X_test:\n",
    "    arr = np.array(data)\n",
    "    newarr = arr.reshape(300,1)\n",
    "    reshaped_X_test.append(newarr)\n",
    "\n",
    "y_pred = estimator.predict(np.array(reshaped_X_test))\n",
    "\n",
    "print(\"Accuracy:\",metrics.accuracy_score(y_test, y_pred))\n",
    "print()\n",
    "print(classification_report(y_test, y_pred))"
   ]
  },
  {
   "cell_type": "code",
   "execution_count": 122,
   "metadata": {},
   "outputs": [
    {
     "name": "stdout",
     "output_type": "stream",
     "text": [
      "(23789, 300)\n",
      "Model: \"sequential_45\"\n",
      "_________________________________________________________________\n",
      "Layer (type)                 Output Shape              Param #   \n",
      "=================================================================\n",
      "lstm_24 (LSTM)               (None, 2)                 32        \n",
      "_________________________________________________________________\n",
      "dense_45 (Dense)             (None, 100)               300       \n",
      "=================================================================\n",
      "Total params: 332\n",
      "Trainable params: 332\n",
      "Non-trainable params: 0\n",
      "_________________________________________________________________\n",
      "Epoch 1/10\n",
      " - 274s - loss: 2.4630 - accuracy: 0.2758\n",
      "Epoch 2/10\n",
      " - 271s - loss: 2.1181 - accuracy: 0.2770\n",
      "Epoch 3/10\n",
      " - 270s - loss: 2.1102 - accuracy: 0.2770\n",
      "Epoch 4/10\n",
      " - 270s - loss: 2.1084 - accuracy: 0.2770\n",
      "Epoch 5/10\n",
      " - 271s - loss: 2.1077 - accuracy: 0.2770\n",
      "Epoch 6/10\n",
      " - 271s - loss: 2.1078 - accuracy: 0.2770\n",
      "Epoch 7/10\n",
      " - 271s - loss: 2.1079 - accuracy: 0.2770\n",
      "Epoch 8/10\n",
      " - 271s - loss: 2.1079 - accuracy: 0.2770\n",
      "Epoch 9/10\n",
      " - 270s - loss: 2.1077 - accuracy: 0.2770\n",
      "Epoch 10/10\n",
      " - 300s - loss: 2.1074 - accuracy: 0.2770\n",
      "Accuracy: 0.2749968156922685\n",
      "\n",
      "              precision    recall  f1-score   support\n",
      "\n",
      "           1       0.27      1.00      0.43      2159\n",
      "           4       0.00      0.00      0.00       651\n",
      "          10       0.00      0.00      0.00       411\n",
      "          13       0.00      0.00      0.00       362\n",
      "          14       0.00      0.00      0.00      1048\n",
      "          20       0.00      0.00      0.00       441\n",
      "          25       0.00      0.00      0.00       404\n",
      "          35       0.00      0.00      0.00      1200\n",
      "          46       0.00      0.00      0.00       731\n",
      "          91       0.00      0.00      0.00       444\n",
      "\n",
      "    accuracy                           0.27      7851\n",
      "   macro avg       0.03      0.10      0.04      7851\n",
      "weighted avg       0.08      0.27      0.12      7851\n",
      "\n"
     ]
    }
   ],
   "source": [
    "import tensorflow as tf\n",
    "from tensorflow import keras\n",
    "from tensorflow.keras import layers\n",
    "from keras.utils import to_categorical\n",
    "from keras.models import Sequential, Model\n",
    "from keras.layers import Dense, Dropout, Input, LSTM, Embedding, Bidirectional, Flatten, Conv1D\n",
    "from keras.wrappers.scikit_learn import KerasClassifier\n",
    "\n",
    "X = np.array(raw_X)\n",
    "y = np.array(raw_y)\n",
    "\n",
    "print (X.shape)\n",
    "\n",
    "reshaped_X = []\n",
    "for data in X_train:\n",
    "    arr = np.array(data)\n",
    "    newarr = arr.reshape(300,1)\n",
    "    reshaped_X.append(newarr)\n",
    "    \n",
    "#reshaped_X = np.array(reshaped_X)\n",
    "\n",
    "\n",
    "input_dim = np.array(X_train).shape[1]\n",
    "\n",
    "def get_model():\n",
    "    global input_dim\n",
    "    model = Sequential()\n",
    "\n",
    "    #model.add(Dense(300, input_dim=input_dim, activation='relu', return_sequences=True))\n",
    "    #model.add(Conv1D(100,5, input_dim=input_dim, padding = 'same'))\n",
    "    model.add(LSTM(2, dropout=0.2, input_shape=(300,1), recurrent_dropout=0.2))\n",
    "    model.add(Dense(100, activation='softmax'))\n",
    "    model.summary()\n",
    "    model.compile(loss='sparse_categorical_crossentropy', optimizer='adam', metrics=['accuracy'])\n",
    "    return model\n",
    "\n",
    "estimator = KerasClassifier(build_fn=get_model, nb_epoch=10, batch_size=5, verbose=2)\n",
    "estimator.fit(np.array(reshaped_X), np.array(y_train), epochs=10, verbose=2)\n",
    "\n",
    "reshaped_X_test = []\n",
    "for data in X_test:\n",
    "    arr = np.array(data)\n",
    "    newarr = arr.reshape(300,1)\n",
    "    reshaped_X_test.append(newarr)\n",
    "\n",
    "y_pred = estimator.predict(np.array(reshaped_X_test))\n",
    "\n",
    "print(\"Accuracy:\",metrics.accuracy_score(y_test, y_pred))\n",
    "print()\n",
    "print(classification_report(y_test, y_pred))"
   ]
  },
  {
   "cell_type": "code",
   "execution_count": 123,
   "metadata": {},
   "outputs": [
    {
     "name": "stdout",
     "output_type": "stream",
     "text": [
      "(23789, 300)\n",
      "Model: \"sequential_46\"\n",
      "_________________________________________________________________\n",
      "Layer (type)                 Output Shape              Param #   \n",
      "=================================================================\n",
      "lstm_25 (LSTM)               (None, 10)                480       \n",
      "_________________________________________________________________\n",
      "dense_46 (Dense)             (None, 100)               1100      \n",
      "=================================================================\n",
      "Total params: 1,580\n",
      "Trainable params: 1,580\n",
      "Non-trainable params: 0\n",
      "_________________________________________________________________\n",
      "Epoch 1/10\n",
      " - 355s - loss: 2.2147 - accuracy: 0.2750\n",
      "Epoch 2/10\n",
      " - 318s - loss: 2.1086 - accuracy: 0.2770\n",
      "Epoch 3/10\n",
      " - 303s - loss: 2.0980 - accuracy: 0.2770\n",
      "Epoch 4/10\n",
      " - 315s - loss: 2.0865 - accuracy: 0.2810\n",
      "Epoch 5/10\n",
      " - 301s - loss: 2.0776 - accuracy: 0.2832\n",
      "Epoch 6/10\n",
      " - 310s - loss: 2.0719 - accuracy: 0.2840\n",
      "Epoch 7/10\n",
      " - 308s - loss: 2.0661 - accuracy: 0.2844\n",
      "Epoch 8/10\n",
      " - 333s - loss: 2.0570 - accuracy: 0.2877\n",
      "Epoch 9/10\n",
      " - 324s - loss: 2.0489 - accuracy: 0.2894\n",
      "Epoch 10/10\n",
      " - 288s - loss: 2.0340 - accuracy: 0.2917\n",
      "Accuracy: 0.3041650745128009\n",
      "\n",
      "              precision    recall  f1-score   support\n",
      "\n",
      "           1       0.30      0.91      0.45      2159\n",
      "           4       0.34      0.37      0.36       651\n",
      "          10       0.00      0.00      0.00       411\n",
      "          13       0.00      0.00      0.00       362\n",
      "          14       0.35      0.10      0.15      1048\n",
      "          20       0.00      0.00      0.00       441\n",
      "          25       0.00      0.00      0.00       404\n",
      "          35       0.25      0.07      0.11      1200\n",
      "          46       0.00      0.00      0.00       731\n",
      "          91       0.00      0.00      0.00       444\n",
      "\n",
      "    accuracy                           0.30      7851\n",
      "   macro avg       0.12      0.14      0.11      7851\n",
      "weighted avg       0.20      0.30      0.19      7851\n",
      "\n"
     ]
    }
   ],
   "source": [
    "import tensorflow as tf\n",
    "from tensorflow import keras\n",
    "from tensorflow.keras import layers\n",
    "from keras.utils import to_categorical\n",
    "from keras.models import Sequential, Model\n",
    "from keras.layers import Dense, Dropout, Input, LSTM, Embedding, Bidirectional, Flatten, Conv1D\n",
    "from keras.wrappers.scikit_learn import KerasClassifier\n",
    "\n",
    "X = np.array(raw_X)\n",
    "y = np.array(raw_y)\n",
    "\n",
    "print (X.shape)\n",
    "\n",
    "reshaped_X = []\n",
    "for data in X_train:\n",
    "    arr = np.array(data)\n",
    "    newarr = arr.reshape(300,1)\n",
    "    reshaped_X.append(newarr)\n",
    "    \n",
    "#reshaped_X = np.array(reshaped_X)\n",
    "\n",
    "\n",
    "input_dim = np.array(X_train).shape[1]\n",
    "\n",
    "def get_model():\n",
    "    global input_dim\n",
    "    model = Sequential()\n",
    "\n",
    "    #model.add(Dense(300, input_dim=input_dim, activation='relu', return_sequences=True))\n",
    "    #model.add(Conv1D(100,5, input_dim=input_dim, padding = 'same'))\n",
    "    model.add(LSTM(10, dropout=0.2, input_shape=(300,1), recurrent_dropout=0.2))\n",
    "    model.add(Dense(100, activation='softmax'))\n",
    "    model.summary()\n",
    "    model.compile(loss='sparse_categorical_crossentropy', optimizer='adam', metrics=['accuracy'])\n",
    "    return model\n",
    "\n",
    "estimator = KerasClassifier(build_fn=get_model, nb_epoch=10, batch_size=5, verbose=2)\n",
    "estimator.fit(np.array(reshaped_X), np.array(y_train), epochs=10, verbose=2)\n",
    "\n",
    "reshaped_X_test = []\n",
    "for data in X_test:\n",
    "    arr = np.array(data)\n",
    "    newarr = arr.reshape(300,1)\n",
    "    reshaped_X_test.append(newarr)\n",
    "\n",
    "y_pred = estimator.predict(np.array(reshaped_X_test))\n",
    "\n",
    "print(\"Accuracy:\",metrics.accuracy_score(y_test, y_pred))\n",
    "print()\n",
    "print(classification_report(y_test, y_pred))"
   ]
  }
 ],
 "metadata": {
  "colab": {
   "collapsed_sections": [],
   "machine_shape": "hm",
   "name": "Homework-10.ipynb",
   "provenance": [],
   "toc_visible": true
  },
  "kernelspec": {
   "display_name": "Python 3",
   "language": "python",
   "name": "python3"
  },
  "language_info": {
   "codemirror_mode": {
    "name": "ipython",
    "version": 3
   },
   "file_extension": ".py",
   "mimetype": "text/x-python",
   "name": "python",
   "nbconvert_exporter": "python",
   "pygments_lexer": "ipython3",
   "version": "3.8.3"
  }
 },
 "nbformat": 4,
 "nbformat_minor": 1
}
