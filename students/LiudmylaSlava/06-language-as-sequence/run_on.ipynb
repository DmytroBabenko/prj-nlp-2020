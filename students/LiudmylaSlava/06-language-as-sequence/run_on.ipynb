{
 "cells": [
  {
   "cell_type": "code",
   "execution_count": 123,
   "metadata": {},
   "outputs": [],
   "source": [
    "import json\n",
    "import spacy\n",
    "import en_core_web_lg\n",
    "nlp = spacy.load(\"en_core_web_lg\")\n",
    "import string\n",
    "from sklearn.model_selection import train_test_split, RandomizedSearchCV\n",
    "from sklearn.metrics import classification_report, make_scorer\n",
    "from random import shuffle\n",
    "import sklearn_crfsuite\n",
    "from sklearn_crfsuite import scorers\n",
    "from sklearn_crfsuite import metrics\n",
    "import scipy.stats"
   ]
  },
  {
   "cell_type": "code",
   "execution_count": 109,
   "metadata": {},
   "outputs": [],
   "source": [
    "with open('run-on-test.json') as f:\n",
    "    hold = json.load(f)"
   ]
  },
  {
   "cell_type": "code",
   "execution_count": 3,
   "metadata": {},
   "outputs": [
    {
     "data": {
      "text/plain": [
       "['\\ufeff\\n',\n",
       " 'The Project Gutenberg EBook of Ulysses, by James Joyce\\n',\n",
       " '\\n',\n",
       " 'This eBook is for the use of anyone anywhere at no cost and with\\n',\n",
       " 'almost no restrictions whatsoever. You may copy it, give it away or\\n',\n",
       " 're-use it under the terms of the Project Gutenberg License included\\n',\n",
       " 'with this eBook or online at www.gutenberg.org\\n',\n",
       " '\\n',\n",
       " '\\n',\n",
       " 'Title: Ulysses\\n',\n",
       " '\\n',\n",
       " 'Author: James Joyce\\n',\n",
       " '\\n',\n",
       " 'Release Date: August 1, 2008 [EBook #4300]\\n',\n",
       " 'Last Updated: December 27, 2019\\n']"
      ]
     },
     "execution_count": 3,
     "metadata": {},
     "output_type": "execute_result"
    }
   ],
   "source": [
    "with open('4300-0.txt') as f:\n",
    "    content = f.readlines()\n",
    "content[:15]"
   ]
  },
  {
   "cell_type": "code",
   "execution_count": 4,
   "metadata": {},
   "outputs": [
    {
     "data": {
      "text/plain": [
       "32861"
      ]
     },
     "execution_count": 4,
     "metadata": {},
     "output_type": "execute_result"
    }
   ],
   "source": [
    "len(content)"
   ]
  },
  {
   "cell_type": "code",
   "execution_count": 6,
   "metadata": {},
   "outputs": [],
   "source": [
    "with open('4300-0.txt') as f:\n",
    "    content = f.read()\n",
    "text = content.split(\"— I —\\n\\n\\n[ 1 ]\")[1]"
   ]
  },
  {
   "cell_type": "code",
   "execution_count": 7,
   "metadata": {},
   "outputs": [],
   "source": [
    "text = text.replace('\\n', ' ').replace('—', '').replace('_', '')\n",
    "t1 = text[:1000000]\n",
    "sents1 = []\n",
    "doc = nlp(t1)\n",
    "for sent in doc.sents:\n",
    "    if sent.string.strip()[-1] in ['!', '.', '?'] and sent.string.strip()[0].istitle():\n",
    "        sents1.append(sent.string.strip())\n",
    "t2 = text[1000000:]\n",
    "sents2 = []\n",
    "doc = nlp(t2)\n",
    "for sent in doc.sents:\n",
    "    if sent.string.strip()[-1] in ['!', '.', '?'] and sent.string.strip()[0].istitle():\n",
    "        sents2.append(sent.string.strip())\n",
    "sents = sents1 + sents2"
   ]
  },
  {
   "cell_type": "code",
   "execution_count": 8,
   "metadata": {},
   "outputs": [
    {
     "data": {
      "text/plain": [
       "21069"
      ]
     },
     "execution_count": 8,
     "metadata": {},
     "output_type": "execute_result"
    }
   ],
   "source": [
    "len(sents)"
   ]
  },
  {
   "cell_type": "code",
   "execution_count": 9,
   "metadata": {},
   "outputs": [],
   "source": [
    "sent2 = sents[: int(len(sents) * .70)]\n",
    "sent3 = sents[int(len(sents) * .70):int(len(sents) * .95)]\n",
    "sent1 = sents[int(len(sents) * .95):int(len(sents) * .975)]\n",
    "sent4 = sents[int(len(sents) * .975):]"
   ]
  },
  {
   "cell_type": "code",
   "execution_count": 10,
   "metadata": {},
   "outputs": [],
   "source": [
    "def decapitalize(text):\n",
    "    res = [text.split(' ')[0].lower()]+text.split(' ')[1:]\n",
    "    return ' '.join(res)"
   ]
  },
  {
   "cell_type": "code",
   "execution_count": 11,
   "metadata": {},
   "outputs": [],
   "source": [
    "def depunctuate(text):\n",
    "    res = text.split(' ')[:-1]+[text.split(' ')[-1].strip(string.punctuation)]\n",
    "    return ' '.join(res)"
   ]
  },
  {
   "cell_type": "code",
   "execution_count": 12,
   "metadata": {},
   "outputs": [],
   "source": [
    "def label(text):\n",
    "    sent = []\n",
    "    doc = nlp(text)\n",
    "    for token in doc:\n",
    "        if token in doc[:-1]:\n",
    "            sent.append([token.text, False])\n",
    "        else:\n",
    "            sent.append([token.text, True])\n",
    "    return sent"
   ]
  },
  {
   "cell_type": "code",
   "execution_count": 13,
   "metadata": {},
   "outputs": [],
   "source": [
    "def label_p(text):\n",
    "    sent = []\n",
    "    doc = nlp(text)\n",
    "    for token in doc:\n",
    "        sent.append([token.text, False])\n",
    "    return sent"
   ]
  },
  {
   "cell_type": "code",
   "execution_count": 14,
   "metadata": {},
   "outputs": [],
   "source": [
    "dsent2 = [(decapitalize(x) if i % 4 == 1 else x) for i, x in enumerate(sent2)]\n",
    "dp2 = [depunctuate(x) for x in dsent2]\n",
    "lab2 = [label(x) for x in dp2]\n",
    "labeled_2 = [x+y for x,y in zip(*[iter(lab2)]*2)]"
   ]
  },
  {
   "cell_type": "code",
   "execution_count": 15,
   "metadata": {},
   "outputs": [],
   "source": [
    "dsent3 = [(decapitalize(x) if i % 6 == 1 else x) for i, x in enumerate(sent3)]\n",
    "dp3 = [depunctuate(x) for x in dsent3]\n",
    "lab3 = [label(x) for x in dp3]\n",
    "labeled_3 = [x+y+z for x,y,z in zip(*[iter(lab3)]*3)]"
   ]
  },
  {
   "cell_type": "code",
   "execution_count": 16,
   "metadata": {},
   "outputs": [],
   "source": [
    "dsent4 = [(decapitalize(x) if i % 8 == 1 else x) for i, x in enumerate(sent4)]\n",
    "dp4 = [depunctuate(x) for x in dsent4]\n",
    "lab4 = [label(x) for x in dp4]\n",
    "labeled_4 = [x+y+z+e for x,y,z,e in zip(*[iter(lab4)]*4)]"
   ]
  },
  {
   "cell_type": "code",
   "execution_count": 17,
   "metadata": {},
   "outputs": [],
   "source": [
    "labeled_1 = [label_p(x) for x in sent1]"
   ]
  },
  {
   "cell_type": "code",
   "execution_count": 20,
   "metadata": {},
   "outputs": [
    {
     "data": {
      "text/plain": [
       "11411"
      ]
     },
     "execution_count": 20,
     "metadata": {},
     "output_type": "execute_result"
    }
   ],
   "source": [
    "data = labeled_1 + labeled_2+ labeled_3+labeled_3\n",
    "shuffle(data)\n",
    "len(data)"
   ]
  },
  {
   "cell_type": "code",
   "execution_count": 21,
   "metadata": {},
   "outputs": [],
   "source": [
    "def position(idx, range_len):\n",
    "    if idx == 0:\n",
    "        return \"start\"\n",
    "    elif idx == range_len - 1:\n",
    "        return \"end\"\n",
    "    else:\n",
    "        return \"middle\""
   ]
  },
  {
   "cell_type": "code",
   "execution_count": 48,
   "metadata": {},
   "outputs": [],
   "source": [
    "def sent2features(sent):\n",
    "    tokens = []\n",
    "    labels = []\n",
    "    positions = []\n",
    "    for i in range(len(sent)):\n",
    "        tokens.append(sent[i][0])\n",
    "        labels.append(sent[i][1])\n",
    "        positions.append(position(i, len(sent)))\n",
    "    text = ' '.join(tokens)\n",
    "    pos = [token.pos_ for token in nlp(text)]\n",
    "    res = list((zip(tokens, positions, pos)))\n",
    "    return res"
   ]
  },
  {
   "cell_type": "code",
   "execution_count": 49,
   "metadata": {},
   "outputs": [],
   "source": [
    "def sent2labels(sent):\n",
    "    return [label for token, label in sent]"
   ]
  },
  {
   "cell_type": "code",
   "execution_count": 97,
   "metadata": {},
   "outputs": [
    {
     "name": "stdout",
     "output_type": "stream",
     "text": [
      "CPU times: user 1min 7s, sys: 21.4 ms, total: 1min 7s\n",
      "Wall time: 1min 7s\n"
     ]
    }
   ],
   "source": [
    "%%time\n",
    "train, test = train_test_split(data, test_size=0.3, random_state=42)\n",
    "train_tokens = [sent2features(s) for s in train]\n",
    "train_labels = [sent2labels(s) for s in train]\n",
    "\n",
    "test_tokens = [sent2features(s) for s in test]\n",
    "test_labels = [sent2labels(s) for s in test]"
   ]
  },
  {
   "cell_type": "code",
   "execution_count": 98,
   "metadata": {},
   "outputs": [
    {
     "name": "stdout",
     "output_type": "stream",
     "text": [
      "True\n",
      "True\n"
     ]
    }
   ],
   "source": [
    "print(len(train_tokens)==len(train_labels))\n",
    "print(len(test_tokens)==len(test_labels))"
   ]
  },
  {
   "cell_type": "code",
   "execution_count": 84,
   "metadata": {},
   "outputs": [],
   "source": [
    "def classify(token):\n",
    "    res = []\n",
    "    for i in range(len(token)):\n",
    "        res.append(False)     \n",
    "    return res"
   ]
  },
  {
   "cell_type": "code",
   "execution_count": 85,
   "metadata": {},
   "outputs": [],
   "source": [
    "from sklearn.preprocessing import MultiLabelBinarizer\n",
    "mlb = MultiLabelBinarizer()\n",
    "test_labels_bin = mlb.fit_transform(test_labels)"
   ]
  },
  {
   "cell_type": "code",
   "execution_count": 86,
   "metadata": {},
   "outputs": [
    {
     "name": "stdout",
     "output_type": "stream",
     "text": [
      "              precision    recall  f1-score   support\n",
      "\n",
      "           0       0.98      1.00      0.99      3368\n",
      "           1       0.00      0.00      0.00      3257\n",
      "\n",
      "   micro avg       0.98      0.51      0.67      6625\n",
      "   macro avg       0.49      0.50      0.50      6625\n",
      "weighted avg       0.50      0.51      0.50      6625\n",
      " samples avg       0.98      0.52      0.67      6625\n",
      "\n"
     ]
    },
    {
     "name": "stderr",
     "output_type": "stream",
     "text": [
      "/home/liudmyla/.local/lib/python3.8/site-packages/sklearn/metrics/_classification.py:1272: UndefinedMetricWarning: Precision and F-score are ill-defined and being set to 0.0 in labels with no predicted samples. Use `zero_division` parameter to control this behavior.\n",
      "  _warn_prf(average, modifier, msg_start, len(result))\n"
     ]
    }
   ],
   "source": [
    "predicted = [classify(x) for  x in test_tokens]\n",
    "print(classification_report(test_labels_bin, mlb.transform(predicted)))"
   ]
  },
  {
   "cell_type": "code",
   "execution_count": 87,
   "metadata": {},
   "outputs": [],
   "source": [
    "def word2features(sent, i):\n",
    "    word = sent[i][0]\n",
    "    postag = sent[i][2]\n",
    "    \n",
    "    features = {\n",
    "        'bias': 1.0,\n",
    "        'word.lower()': word.lower(),\n",
    "        'word[-3:]': word[-3:],\n",
    "        'word[-2:]': word[-2:],\n",
    "        'word.isupper()': word.isupper(),\n",
    "        'word.istitle()': word.istitle(),\n",
    "        'word.isdigit()': word.isdigit(),\n",
    "        'postag': postag,\n",
    "        'postag[:2]': postag[:2],        \n",
    "    }\n",
    "    if i > 0:\n",
    "        word1 = sent[i-1][0]\n",
    "        postag1 = sent[i-1][2]\n",
    "        features.update({\n",
    "            '-1:word.lower()': word1.lower(),\n",
    "            '-1:word.istitle()': word1.istitle(),\n",
    "            '-1:word.isupper()': word1.isupper(),\n",
    "            '-1:postag': postag1,\n",
    "            '-1:postag[:2]': postag1[:2],\n",
    "        })\n",
    "    else:\n",
    "        features['BOS'] = True\n",
    "        \n",
    "    if i < len(sent)-1:\n",
    "        word1 = sent[i+1][0]\n",
    "        postag1 = sent[i+1][2]\n",
    "        features.update({\n",
    "            '+1:word.lower()': word1.lower(),\n",
    "            '+1:word.istitle()': word1.istitle(),\n",
    "            '+1:word.isupper()': word1.isupper(),\n",
    "            '+1:postag': postag1,\n",
    "            '+1:postag[:2]': postag1[:2],\n",
    "        })\n",
    "    else:\n",
    "        features['EOS'] = True       \n",
    "    \n",
    "    return features"
   ]
  },
  {
   "cell_type": "code",
   "execution_count": 88,
   "metadata": {},
   "outputs": [],
   "source": [
    "def sent2features2(sent):\n",
    "    return [word2features(sent, i) for i in range(len(sent))]"
   ]
  },
  {
   "cell_type": "code",
   "execution_count": 99,
   "metadata": {},
   "outputs": [
    {
     "name": "stdout",
     "output_type": "stream",
     "text": [
      "CPU times: user 466 ms, sys: 11.9 ms, total: 478 ms\n",
      "Wall time: 477 ms\n"
     ]
    }
   ],
   "source": [
    "%%time\n",
    "X_train = [sent2features2(s) for s in train_tokens]\n",
    "y_train = train_labels\n",
    "\n",
    "X_test = [sent2features2(s) for s in test_tokens]\n",
    "y_test = test_labels"
   ]
  },
  {
   "cell_type": "code",
   "execution_count": 100,
   "metadata": {},
   "outputs": [],
   "source": [
    "def bool_to_string(labels):\n",
    "    return [str(x) for x in labels]"
   ]
  },
  {
   "cell_type": "code",
   "execution_count": 101,
   "metadata": {},
   "outputs": [],
   "source": [
    "y_train = [bool_to_string(x) for x in y_train]\n",
    "y_test = [bool_to_string(x) for x in y_test]"
   ]
  },
  {
   "cell_type": "code",
   "execution_count": 102,
   "metadata": {},
   "outputs": [
    {
     "name": "stdout",
     "output_type": "stream",
     "text": [
      "CPU times: user 6.67 s, sys: 3.73 ms, total: 6.67 s\n",
      "Wall time: 6.67 s\n"
     ]
    },
    {
     "data": {
      "text/plain": [
       "CRF(algorithm='lbfgs', all_possible_states=None, all_possible_transitions=True,\n",
       "    averaging=None, c=None, c1=0.1, c2=0.1, calibration_candidates=None,\n",
       "    calibration_eta=None, calibration_max_trials=None, calibration_rate=None,\n",
       "    calibration_samples=None, delta=None, epsilon=None, error_sensitive=None,\n",
       "    gamma=None, keep_tempfiles=None, linesearch=None, max_iterations=100,\n",
       "    max_linesearch=None, min_freq=None, model_filename=None, num_memories=None,\n",
       "    pa_type=None, period=None, trainer_cls=None, variance=None, verbose=False)"
      ]
     },
     "execution_count": 102,
     "metadata": {},
     "output_type": "execute_result"
    }
   ],
   "source": [
    "%%time\n",
    "crf = sklearn_crfsuite.CRF(\n",
    "    algorithm='lbfgs', \n",
    "    c1=0.1, \n",
    "    c2=0.1, \n",
    "    max_iterations=100, \n",
    "    all_possible_transitions=True\n",
    ")\n",
    "crf.fit(X_train, y_train)"
   ]
  },
  {
   "cell_type": "code",
   "execution_count": 103,
   "metadata": {},
   "outputs": [],
   "source": [
    "labels = list(crf.classes_)"
   ]
  },
  {
   "cell_type": "code",
   "execution_count": 104,
   "metadata": {},
   "outputs": [
    {
     "data": {
      "text/plain": [
       "0.9700955208983115"
      ]
     },
     "execution_count": 104,
     "metadata": {},
     "output_type": "execute_result"
    }
   ],
   "source": [
    "y_pred = crf.predict(X_test)\n",
    "metrics.flat_f1_score(y_test, y_pred, \n",
    "                      average='weighted', labels=labels)"
   ]
  },
  {
   "cell_type": "code",
   "execution_count": 117,
   "metadata": {},
   "outputs": [
    {
     "name": "stdout",
     "output_type": "stream",
     "text": [
      "              precision    recall  f1-score   support\n",
      "\n",
      "       False      0.975     0.993     0.984     61023\n",
      "        True      0.932     0.797     0.859      7586\n",
      "\n",
      "    accuracy                          0.971     68609\n",
      "   macro avg      0.954     0.895     0.921     68609\n",
      "weighted avg      0.970     0.971     0.970     68609\n",
      "\n"
     ]
    }
   ],
   "source": [
    "print(metrics.flat_classification_report(\n",
    "    y_test, y_pred, labels=labels, digits=3\n",
    "))"
   ]
  },
  {
   "cell_type": "code",
   "execution_count": 124,
   "metadata": {},
   "outputs": [
    {
     "name": "stdout",
     "output_type": "stream",
     "text": [
      "Fitting 3 folds for each of 50 candidates, totalling 150 fits\n"
     ]
    },
    {
     "name": "stderr",
     "output_type": "stream",
     "text": [
      "[Parallel(n_jobs=-1)]: Using backend LokyBackend with 6 concurrent workers.\n",
      "[Parallel(n_jobs=-1)]: Done  38 tasks      | elapsed:  1.0min\n",
      "[Parallel(n_jobs=-1)]: Done 150 out of 150 | elapsed:  3.6min finished\n"
     ]
    },
    {
     "name": "stdout",
     "output_type": "stream",
     "text": [
      "CPU times: user 1min 13s, sys: 4.6 s, total: 1min 18s\n",
      "Wall time: 3min 42s\n"
     ]
    },
    {
     "data": {
      "text/plain": [
       "RandomizedSearchCV(cv=3, error_score=nan,\n",
       "                   estimator=CRF(algorithm='lbfgs', all_possible_states=None,\n",
       "                                 all_possible_transitions=True, averaging=None,\n",
       "                                 c=None, c1=None, c2=None,\n",
       "                                 calibration_candidates=None,\n",
       "                                 calibration_eta=None,\n",
       "                                 calibration_max_trials=None,\n",
       "                                 calibration_rate=None,\n",
       "                                 calibration_samples=None, delta=None,\n",
       "                                 epsilon=None, error_sensitive=None, gamma=None,\n",
       "                                 keep_...\n",
       "                   iid='deprecated', n_iter=50, n_jobs=-1,\n",
       "                   param_distributions={'c1': <scipy.stats._distn_infrastructure.rv_frozen object at 0x7f36db318880>,\n",
       "                                        'c2': <scipy.stats._distn_infrastructure.rv_frozen object at 0x7f36db4151c0>},\n",
       "                   pre_dispatch='2*n_jobs', random_state=None, refit=True,\n",
       "                   return_train_score=False,\n",
       "                   scoring=make_scorer(flat_f1_score, average=weighted, labels=['False', 'True']),\n",
       "                   verbose=1)"
      ]
     },
     "execution_count": 124,
     "metadata": {},
     "output_type": "execute_result"
    }
   ],
   "source": [
    "%%time\n",
    "# define fixed parameters and parameters to search\n",
    "crf = sklearn_crfsuite.CRF(\n",
    "    algorithm='lbfgs', \n",
    "    max_iterations=100, \n",
    "    all_possible_transitions=True\n",
    ")\n",
    "params_space = {\n",
    "    'c1': scipy.stats.expon(scale=0.5),\n",
    "    'c2': scipy.stats.expon(scale=0.05),\n",
    "}\n",
    "\n",
    "# use the same metric for evaluation\n",
    "f1_scorer = make_scorer(metrics.flat_f1_score, \n",
    "                        average='weighted', labels=labels)\n",
    "\n",
    "# search\n",
    "rs = RandomizedSearchCV(crf, params_space, \n",
    "                        cv=3, \n",
    "                        verbose=1, \n",
    "                        n_jobs=-1, \n",
    "                        n_iter=50, \n",
    "                        scoring=f1_scorer)\n",
    "rs.fit(X_train, y_train)"
   ]
  },
  {
   "cell_type": "code",
   "execution_count": 125,
   "metadata": {},
   "outputs": [
    {
     "name": "stdout",
     "output_type": "stream",
     "text": [
      "best params: {'c1': 0.4349752672864775, 'c2': 0.007900081891281253}\n",
      "best CV score: 0.9684019811528968\n",
      "model size: 0.67M\n"
     ]
    }
   ],
   "source": [
    "print('best params:', rs.best_params_)\n",
    "print('best CV score:', rs.best_score_)\n",
    "print('model size: {:0.2f}M'.format(rs.best_estimator_.size_ / 1000000))"
   ]
  },
  {
   "cell_type": "code",
   "execution_count": 128,
   "metadata": {},
   "outputs": [
    {
     "name": "stdout",
     "output_type": "stream",
     "text": [
      "              precision    recall  f1-score   support\n",
      "\n",
      "       False      0.975     0.993     0.984     61023\n",
      "        True      0.938     0.795     0.861      7586\n",
      "\n",
      "    accuracy                          0.972     68609\n",
      "   macro avg      0.956     0.894     0.922     68609\n",
      "weighted avg      0.971     0.972     0.971     68609\n",
      "\n"
     ]
    }
   ],
   "source": [
    "crf = rs.best_estimator_\n",
    "y_pred = crf.predict(X_test)\n",
    "print(metrics.flat_classification_report(\n",
    "    y_test, y_pred, labels=sorted_labels, digits=3\n",
    "))"
   ]
  },
  {
   "cell_type": "code",
   "execution_count": 130,
   "metadata": {},
   "outputs": [
    {
     "name": "stdout",
     "output_type": "stream",
     "text": [
      "Top likely transitions:\n",
      "False  -> False   0.949754\n",
      "False  -> True    0.583411\n",
      "True   -> False   -0.909286\n",
      "True   -> True    -1.895375\n",
      "\n",
      "Top unlikely transitions:\n",
      "False  -> False   0.949754\n",
      "False  -> True    0.583411\n",
      "True   -> False   -0.909286\n",
      "True   -> True    -1.895375\n"
     ]
    }
   ],
   "source": [
    "from collections import Counter\n",
    "def print_transitions(trans_features):\n",
    "    for (label_from, label_to), weight in trans_features:\n",
    "        print(\"%-6s -> %-7s %0.6f\" % (label_from, label_to, weight))\n",
    "\n",
    "print(\"Top likely transitions:\")\n",
    "print_transitions(Counter(crf.transition_features_).most_common(20))\n",
    "\n",
    "print(\"\\nTop unlikely transitions:\")\n",
    "print_transitions(Counter(crf.transition_features_).most_common()[-20:])"
   ]
  },
  {
   "cell_type": "code",
   "execution_count": 131,
   "metadata": {},
   "outputs": [
    {
     "name": "stdout",
     "output_type": "stream",
     "text": [
      "Top positive:\n",
      "10.968408 True     word.lower():aiulella\n",
      "9.670033 False    -1:word.lower():awfur\n",
      "9.158217 True     +1:word.lower():bluebags\n",
      "8.640642 True     +1:word.lower():incog\n",
      "8.342930 False    word.lower():regards\n",
      "8.306212 True     -1:word.lower():unaffectedly\n",
      "8.282945 True     +1:word.lower():bluerobed\n",
      "8.064775 True     +1:word.lower():hushaby\n",
      "7.523097 False    word.lower():follows\n",
      "7.484504 True     word.lower():recant\n",
      "7.144471 True     word.lower():vatican\n",
      "7.078424 True     +1:word.lower():oho\n",
      "6.916210 False    word.lower():arming\n",
      "6.888639 True     +1:word.lower():scowl\n",
      "6.843199 True     -1:word.lower():gliding\n",
      "6.801322 True     word.lower():bean\n",
      "6.534484 True     +1:word.lower():tutti\n",
      "6.512819 True     -1:word.lower():subdued\n",
      "6.494463 True     word.lower():galoptious\n",
      "6.486044 True     word.lower():casteele\n",
      "6.335321 True     -1:word.lower():shoving\n",
      "6.314640 True     word.lower():polity\n",
      "6.309456 False    +1:word.lower():,\n",
      "6.288268 True     -1:word.lower():hurricane\n",
      "6.283466 True     word.lower():dulcinea\n",
      "6.240371 True     +1:word.lower():developing\n",
      "6.224433 True     word.lower():disnoded\n",
      "6.217983 True     word[-3:]:Pen\n",
      "6.213831 False    +1:word.lower():reynard\n",
      "6.175939 True     +1:word.lower():sooner\n",
      "\n",
      "Top negative:\n",
      "-2.744617 False    +1:word.lower():j.\n",
      "-2.756383 False    -1:word.lower():blaze\n",
      "-2.797565 False    +1:word.istitle()\n",
      "-2.798544 False    word.lower():pupped\n",
      "-2.836447 False    +1:word.lower():penance\n",
      "-2.841756 False    word.lower():thump\n",
      "-2.857312 False    +1:word.lower():gob\n",
      "-2.936656 False    +1:word.lower():tap\n",
      "-2.957507 False    +1:word.lower():o.\n",
      "-2.984175 False    +1:word.lower():ay\n",
      "-3.041105 False    word.lower():drift\n",
      "-3.044961 False    -1:word.lower():babe\n",
      "-3.118837 False    +1:word.lower():twentyeight\n",
      "-3.184169 True     word[-3:]:ah\n",
      "-3.240714 False    +1:word.lower():dans\n",
      "-3.278969 False    word.lower():poldy\n",
      "-3.306243 False    +1:word.lower():prix\n",
      "-3.411283 False    word.lower():duck\n",
      "-3.468894 False    +1:word.lower():theodore\n",
      "-3.513118 False    +1:word.lower():heigho\n",
      "-3.670958 False    word.lower():octave\n",
      "-3.706954 True     word.lower():and\n",
      "-3.764723 False    +1:word.lower():garryowen\n",
      "-3.832400 False    +1:word.lower():begob\n",
      "-3.901387 False    +1:word.lower():sonnez\n",
      "-3.962175 False    word.lower():liberties\n",
      "-4.192257 False    word.lower():haddock\n",
      "-4.398419 False    +1:word.lower():zoe\n",
      "-5.102305 False    +1:word.lower():steve\n",
      "-5.141181 False    EOS\n"
     ]
    }
   ],
   "source": [
    "def print_state_features(state_features):\n",
    "    for (attr, label), weight in state_features:\n",
    "        print(\"%0.6f %-8s %s\" % (weight, label, attr))    \n",
    "\n",
    "print(\"Top positive:\")\n",
    "print_state_features(Counter(crf.state_features_).most_common(30))\n",
    "\n",
    "print(\"\\nTop negative:\")\n",
    "print_state_features(Counter(crf.state_features_).most_common()[-30:])"
   ]
  },
  {
   "cell_type": "code",
   "execution_count": 132,
   "metadata": {},
   "outputs": [],
   "source": [
    "hold_tokens = [sent2features(s) for s in hold]\n",
    "hold_tokens = [sent2features2(s) for s in hold_tokens]\n",
    "hold_labels = [sent2labels(s) for s in hold]\n",
    "hold_labels = [bool_to_string(x) for x in hold_labels]"
   ]
  },
  {
   "cell_type": "code",
   "execution_count": 133,
   "metadata": {},
   "outputs": [
    {
     "data": {
      "text/plain": [
       "0.9698063618192042"
      ]
     },
     "execution_count": 133,
     "metadata": {},
     "output_type": "execute_result"
    }
   ],
   "source": [
    "hold_pred = crf.predict(hold_tokens)\n",
    "metrics.flat_f1_score(hold_labels, hold_pred, \n",
    "                      average='weighted', labels=labels)"
   ]
  }
 ],
 "metadata": {
  "kernelspec": {
   "display_name": "Python 3",
   "language": "python",
   "name": "python3"
  },
  "language_info": {
   "codemirror_mode": {
    "name": "ipython",
    "version": 3
   },
   "file_extension": ".py",
   "mimetype": "text/x-python",
   "name": "python",
   "nbconvert_exporter": "python",
   "pygments_lexer": "ipython3",
   "version": "3.7.7"
  }
 },
 "nbformat": 4,
 "nbformat_minor": 4
}
