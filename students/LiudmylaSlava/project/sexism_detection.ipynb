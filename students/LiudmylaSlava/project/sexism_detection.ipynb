{
 "cells": [
  {
   "cell_type": "code",
   "execution_count": 1,
   "metadata": {},
   "outputs": [],
   "source": [
    "import fasttext\n",
    "import pandas as pd\n",
    "import numpy as np\n",
    "pd.set_option('display.max_colwidth', 1000)\n",
    "from sklearn.model_selection import train_test_split\n",
    "from sklearn.metrics import classification_report, confusion_matrix\n",
    "import gensim"
   ]
  },
  {
   "cell_type": "code",
   "execution_count": 28,
   "metadata": {},
   "outputs": [
    {
     "data": {
      "text/plain": [
       "0.0    462\n",
       "1.0    356\n",
       "Name: target, dtype: int64"
      ]
     },
     "execution_count": 28,
     "metadata": {},
     "output_type": "execute_result"
    }
   ],
   "source": [
    "df = pd.read_csv('gold_lower.csv')\n",
    "df = df.sample(frac=1).reset_index(drop=True)\n",
    "df['target'].value_counts()"
   ]
  },
  {
   "cell_type": "code",
   "execution_count": 29,
   "metadata": {},
   "outputs": [
    {
     "data": {
      "text/html": [
       "<div>\n",
       "<style scoped>\n",
       "    .dataframe tbody tr th:only-of-type {\n",
       "        vertical-align: middle;\n",
       "    }\n",
       "\n",
       "    .dataframe tbody tr th {\n",
       "        vertical-align: top;\n",
       "    }\n",
       "\n",
       "    .dataframe thead th {\n",
       "        text-align: right;\n",
       "    }\n",
       "</style>\n",
       "<table border=\"1\" class=\"dataframe\">\n",
       "  <thead>\n",
       "    <tr style=\"text-align: right;\">\n",
       "      <th></th>\n",
       "      <th>text</th>\n",
       "      <th>target</th>\n",
       "    </tr>\n",
       "  </thead>\n",
       "  <tbody>\n",
       "    <tr>\n",
       "      <th>1</th>\n",
       "      <td>жінко твій день восьме березня</td>\n",
       "      <td>1.0</td>\n",
       "    </tr>\n",
       "    <tr>\n",
       "      <th>2</th>\n",
       "      <td>жінка має народжувати а чоловік забезпечувати</td>\n",
       "      <td>1.0</td>\n",
       "    </tr>\n",
       "    <tr>\n",
       "      <th>3</th>\n",
       "      <td>навіщо ти переймаєшся за свою кар'єру ти повина сидіти з дітьми вдома</td>\n",
       "      <td>1.0</td>\n",
       "    </tr>\n",
       "    <tr>\n",
       "      <th>5</th>\n",
       "      <td>емоції це про жінок а логіка про чоловіків</td>\n",
       "      <td>1.0</td>\n",
       "    </tr>\n",
       "    <tr>\n",
       "      <th>6</th>\n",
       "      <td>чоловік повинен заробляти більше за жінку</td>\n",
       "      <td>1.0</td>\n",
       "    </tr>\n",
       "  </tbody>\n",
       "</table>\n",
       "</div>"
      ],
      "text/plain": [
       "                                                                    text  \\\n",
       "1                                         жінко твій день восьме березня   \n",
       "2                          жінка має народжувати а чоловік забезпечувати   \n",
       "3  навіщо ти переймаєшся за свою кар'єру ти повина сидіти з дітьми вдома   \n",
       "5                             емоції це про жінок а логіка про чоловіків   \n",
       "6                              чоловік повинен заробляти більше за жінку   \n",
       "\n",
       "   target  \n",
       "1     1.0  \n",
       "2     1.0  \n",
       "3     1.0  \n",
       "5     1.0  \n",
       "6     1.0  "
      ]
     },
     "execution_count": 29,
     "metadata": {},
     "output_type": "execute_result"
    }
   ],
   "source": [
    "df[df['target']==1].head()"
   ]
  },
  {
   "cell_type": "code",
   "execution_count": 33,
   "metadata": {},
   "outputs": [
    {
     "data": {
      "text/html": [
       "<div>\n",
       "<style scoped>\n",
       "    .dataframe tbody tr th:only-of-type {\n",
       "        vertical-align: middle;\n",
       "    }\n",
       "\n",
       "    .dataframe tbody tr th {\n",
       "        vertical-align: top;\n",
       "    }\n",
       "\n",
       "    .dataframe thead th {\n",
       "        text-align: right;\n",
       "    }\n",
       "</style>\n",
       "<table border=\"1\" class=\"dataframe\">\n",
       "  <thead>\n",
       "    <tr style=\"text-align: right;\">\n",
       "      <th></th>\n",
       "      <th>text</th>\n",
       "      <th>target</th>\n",
       "    </tr>\n",
       "  </thead>\n",
       "  <tbody>\n",
       "    <tr>\n",
       "      <th>813</th>\n",
       "      <td>жінки і хлопчаки дівчата й старі нерухомо сидять одягнені в своє найкраще і дивляться прямо в об'єктив</td>\n",
       "      <td>0.0</td>\n",
       "    </tr>\n",
       "    <tr>\n",
       "      <th>814</th>\n",
       "      <td>стереотипи існують і щодо чоловіків як і проблеми спричинені нерівністю</td>\n",
       "      <td>0.0</td>\n",
       "    </tr>\n",
       "    <tr>\n",
       "      <th>815</th>\n",
       "      <td>головну героїню фільму талановито зіграла єлизавета максимова</td>\n",
       "      <td>0.0</td>\n",
       "    </tr>\n",
       "    <tr>\n",
       "      <th>816</th>\n",
       "      <td>дискримінувати людину через її стать це нонсенс</td>\n",
       "      <td>0.0</td>\n",
       "    </tr>\n",
       "  </tbody>\n",
       "</table>\n",
       "</div>"
      ],
      "text/plain": [
       "                                                                                                       text  \\\n",
       "813  жінки і хлопчаки дівчата й старі нерухомо сидять одягнені в своє найкраще і дивляться прямо в об'єктив   \n",
       "814                                 стереотипи існують і щодо чоловіків як і проблеми спричинені нерівністю   \n",
       "815                                           головну героїню фільму талановито зіграла єлизавета максимова   \n",
       "816                                                         дискримінувати людину через її стать це нонсенс   \n",
       "\n",
       "     target  \n",
       "813     0.0  \n",
       "814     0.0  \n",
       "815     0.0  \n",
       "816     0.0  "
      ]
     },
     "execution_count": 33,
     "metadata": {},
     "output_type": "execute_result"
    }
   ],
   "source": [
    "df[df['target']==0].tail(4)"
   ]
  },
  {
   "cell_type": "code",
   "execution_count": 36,
   "metadata": {},
   "outputs": [
    {
     "name": "stderr",
     "output_type": "stream",
     "text": [
      "Warning : `load_model` does not return WordVectorModel or SupervisedModel any more, but a `FastText` object which is very similar.\n"
     ]
    },
    {
     "data": {
      "text/plain": [
       "300"
      ]
     },
     "execution_count": 36,
     "metadata": {},
     "output_type": "execute_result"
    }
   ],
   "source": [
    "ft = fasttext.load_model('cc.uk.300.bin')\n",
    "ft.get_dimension()"
   ]
  },
  {
   "cell_type": "code",
   "execution_count": 37,
   "metadata": {},
   "outputs": [],
   "source": [
    "X = df['text'].values\n",
    "y = df['target'].values"
   ]
  },
  {
   "cell_type": "code",
   "execution_count": 38,
   "metadata": {},
   "outputs": [],
   "source": [
    "def doc_vector(text):\n",
    "    words = text.split()\n",
    "    vector = np.mean([ft.get_word_vector(w) for w in words], axis=0)\n",
    "    return vector"
   ]
  },
  {
   "cell_type": "code",
   "execution_count": 39,
   "metadata": {},
   "outputs": [],
   "source": [
    "X_vec = [doc_vector(sample) for sample in X]\n",
    "X_train, X_test, y_train, y_test = train_test_split(X_vec, y.tolist(), test_size=0.3, random_state=42, shuffle=True)"
   ]
  },
  {
   "cell_type": "code",
   "execution_count": 49,
   "metadata": {},
   "outputs": [],
   "source": [
    "from sklearn.svm import SVC\n",
    "clf = SVC(kernel='linear').fit(X_train, y_train)"
   ]
  },
  {
   "cell_type": "code",
   "execution_count": 50,
   "metadata": {},
   "outputs": [
    {
     "name": "stdout",
     "output_type": "stream",
     "text": [
      "              precision    recall  f1-score   support\n",
      "\n",
      "         0.0       0.84      0.87      0.85       147\n",
      "         1.0       0.80      0.75      0.77        99\n",
      "\n",
      "    accuracy                           0.82       246\n",
      "   macro avg       0.82      0.81      0.81       246\n",
      "weighted avg       0.82      0.82      0.82       246\n",
      "\n",
      "CPU times: user 36.6 ms, sys: 392 µs, total: 37 ms\n",
      "Wall time: 35.9 ms\n"
     ]
    }
   ],
   "source": [
    "%%time\n",
    "predicted = clf.predict(X_test)\n",
    "print(classification_report(y_test, predicted))"
   ]
  },
  {
   "cell_type": "code",
   "execution_count": 52,
   "metadata": {},
   "outputs": [
    {
     "name": "stdout",
     "output_type": "stream",
     "text": [
      "__label__no_sexism вона стане наймолодшою представницею країни в міжнародних конкурсах краси першого рівня повідомила корреспондент net прес-служба національного комітету королеви світу україна\r\n",
      "__label__sexism жінка самотня ось і тормозить\r\n",
      "__label__no_sexism я не розумію звідки береться ця чоловіча солідарність коли абсолютно різні я впевнений люди з різним рівнем освіти досвіду географією всі як один встають і починають кричати що це неправда феміністки вигадали і навіть не читаючи стверджують що це повна маячня\r\n",
      "__label__sexism жінкам від нас потрібні тільки гроші\r\n",
      "__label__sexism жінки самі провокують чоловіків своїм непристойним одягом та поведінкою\r\n",
      "__label__sexism на жаль мало людей задають собі питання а ще рідше це роблять жінки а що в мені такого що я зробила не так що спровокувала таку поведінку такого чоловіка\r\n",
      "__label__no_sexism ми впевнені що партнерство сприятиме гендерним трансформаціям в україні а також допоможе досягти спільної мети процвітаючої і демократичної україни де жінки і чоловіки мають рівні права на роботі дома у школі в політиці культурі\r\n",
      "__label__sexism жіноча логіка явище яке важко зрозуміти пояснити або з чимось порівняти\r\n",
      "__label__no_sexism колись ця жінка отримала диплом кухаря й декілька років пропрацювала в їдальнях військових частин\r\n",
      "__label__sexism у жінки волосся довге та розум короткий\r\n"
     ]
    }
   ],
   "source": [
    "!tail gold_lower.txt"
   ]
  },
  {
   "cell_type": "code",
   "execution_count": null,
   "metadata": {},
   "outputs": [],
   "source": [
    "!head -n 574 gold_lower.txt > gold.train\n",
    "!tail -n 244 gold_lower.txt > gold.valid"
   ]
  },
  {
   "cell_type": "code",
   "execution_count": 53,
   "metadata": {},
   "outputs": [
    {
     "data": {
      "text/plain": [
       "(244, 0.8073770491803278, 0.8073770491803278)"
      ]
     },
     "execution_count": 53,
     "metadata": {},
     "output_type": "execute_result"
    }
   ],
   "source": [
    "model = fasttext.train_supervised(input=\"gold.train\", epoch=25, wordNgrams=2)\n",
    "model.test('gold.valid')"
   ]
  },
  {
   "cell_type": "code",
   "execution_count": 54,
   "metadata": {},
   "outputs": [
    {
     "data": {
      "text/plain": [
       "(244, 0.8401639344262295, 0.8401639344262295)"
      ]
     },
     "execution_count": 54,
     "metadata": {},
     "output_type": "execute_result"
    }
   ],
   "source": [
    "model = fasttext.train_supervised(input=\"gold.train\", pretrainedVectors='cc.uk.300.vec', dim=300, wordNgrams=2)\n",
    "model.test('gold.valid')"
   ]
  },
  {
   "cell_type": "code",
   "execution_count": null,
   "metadata": {},
   "outputs": [],
   "source": [
    "%%time\n",
    "corpus_file = 'sents.txt'\n",
    "initial_model_path = \"cc.uk.300.bin\"\n",
    "ft_model = gensim.models.fasttext.load_facebook_model(initial_model_path)\n",
    "ft_model.train(corpus_file=corpus_file, total_words=len(ft_model.wv.vocab), epochs=25, threads=6)\n",
    "ft_model.save('gensim_output/fem25.cc.uk.300.bin')\n",
    "print(\"Embeddings are successfully trained.\")"
   ]
  },
  {
   "cell_type": "code",
   "execution_count": null,
   "metadata": {},
   "outputs": [],
   "source": [
    "ft_model = gensim.models.fasttext.FastText.load(\"gensim_output/fem25.cc.uk.300.bin\")\n",
    "len(ft_model.wv.vocab)"
   ]
  },
  {
   "cell_type": "code",
   "execution_count": null,
   "metadata": {},
   "outputs": [],
   "source": [
    "with open('vocab.vec', 'w') as f:\n",
    "    print(len(ft_model.wv.vocab),300,file=f)\n",
    "    for word in ft_model.wv.vocab.keys():\n",
    "        print(word, ' '.join(f'{i:.04f}' for i in ft_model.wv[word]), file=f)"
   ]
  },
  {
   "cell_type": "code",
   "execution_count": 3,
   "metadata": {},
   "outputs": [
    {
     "data": {
      "text/plain": [
       "(244, 0.8524590163934426, 0.8524590163934426)"
      ]
     },
     "execution_count": 3,
     "metadata": {},
     "output_type": "execute_result"
    }
   ],
   "source": [
    "model = fasttext.train_supervised(input=\"gold.train\", pretrainedVectors='vocab.vec', dim=300, wordNgrams=2)\n",
    "model.test('gold.valid')"
   ]
  },
  {
   "cell_type": "code",
   "execution_count": 4,
   "metadata": {},
   "outputs": [],
   "source": [
    "model.save_model(\"final.bin\")"
   ]
  },
  {
   "cell_type": "code",
   "execution_count": null,
   "metadata": {},
   "outputs": [],
   "source": []
  }
 ],
 "metadata": {
  "kernelspec": {
   "display_name": "Python 3",
   "language": "python",
   "name": "python3"
  },
  "language_info": {
   "codemirror_mode": {
    "name": "ipython",
    "version": 3
   },
   "file_extension": ".py",
   "mimetype": "text/x-python",
   "name": "python",
   "nbconvert_exporter": "python",
   "pygments_lexer": "ipython3",
   "version": "3.8.2"
  }
 },
 "nbformat": 4,
 "nbformat_minor": 4
}
