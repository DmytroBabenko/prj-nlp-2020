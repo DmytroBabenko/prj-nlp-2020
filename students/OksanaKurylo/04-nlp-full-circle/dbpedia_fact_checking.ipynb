{
 "cells": [
  {
   "cell_type": "markdown",
   "metadata": {},
   "source": [
    "# Повний цикл NLP-проєкту\n",
    "## I. Перевірка фактів на достовірність\n",
    "У межах цієї задачі ви побудуєте систему видобування фактів на правилах, а також інструменти для оцінювання якості роботи цієї системи.\n",
    "### 1. Домен\n",
    "Виберіть та проаналізуйте домен і напишіть SPARQL-запит для побудови бази даних."
   ]
  },
  {
   "cell_type": "markdown",
   "metadata": {},
   "source": [
    "Мій домен - це випускники Стенфорду. Цікавить:\n",
    "- де вони народились\n",
    "- ким працюють (occupation)\n",
    "- Лінка на SPARQL Query - [link](http://dbpedia.org/snorql/?query=PREFIX+dbo%3A+%3Chttp%3A%2F%2Fdbpedia.org%2Fontology%2F%3E%0D%0APREFIX+res%3A++%3Chttp%3A%2F%2Fdbpedia.org%2Fresource%2F%3E%0D%0APREFIX+rdfs%3A+%3Chttp%3A%2F%2Fwww.w3.org%2F2000%2F01%2Frdf-schema%23%3E%0D%0APREFIX+dbp%3A+%3Chttp%3A%2F%2Fdbpedia.org%2Fproperty%2F%3E%0D%0ASELECT+DISTINCT+%3Furi++%3Fname+%3Foccupation+%3Fcity+%0D%0AWHERE+%7B%3Furi+dbo%3AalmaMater+res%3AStanford_University+.%0D%0A++++++++%3Furi+rdfs%3Alabel+%3Fname.%0D%0A++++++++%3Furi+dbo%3Aoccupation+%3Focuri+.%0D%0A++++++++%3Focuri+rdfs%3Alabel+%3Foccupation+.%0D%0A++++++++%3Furi+dbo%3AbirthPlace+%3Fburi.%0D%0A++++++++%3Fburi+a+dbo%3ACity+.+%0D%0A++++++++%3Fburi+rdfs%3Alabel+%3Fcity+.++%0D%0A++++++++FILTER+%28lang%28%3Fcity%29+%3D+%27en%27%29%0D%0A++++++++FILTER+%28lang%28%3Fname%29+%3D+%27en%27%29%0D%0A++++++++FILTER+%28lang%28%3Foccupation%29+%3D+%27en%27%29%0D%0A%7D)"
   ]
  },
  {
   "cell_type": "code",
   "execution_count": null,
   "metadata": {},
   "outputs": [],
   "source": [
    "from IPython.display import FileLink\n",
    "FileLink('stanford_alumni.csv', result_html_prefix=\"База даних з DBPedia складається з 155 рядків: \")"
   ]
  },
  {
   "cell_type": "markdown",
   "metadata": {},
   "source": [
    "### 2. Видобування фактів\n",
    "2.1. Напишіть програму, яка шукає статті у Вікіпедії про сутності, що належать до вашого домена, та витягає тексти цих статей."
   ]
  },
  {
   "cell_type": "code",
   "execution_count": 2,
   "metadata": {},
   "outputs": [],
   "source": [
    "import requests\n",
    "from lxml import html\n",
    "from bs4 import BeautifulSoup\n",
    "import pandas as pd\n",
    "import csv"
   ]
  },
  {
   "cell_type": "code",
   "execution_count": 3,
   "metadata": {},
   "outputs": [
    {
     "name": "stdout",
     "output_type": "stream",
     "text": [
      "97\n",
      "['http://en.wikipedia.org/wiki/William_Ouchi', 'http://en.wikipedia.org/wiki/Mark_T._Carleton', 'http://en.wikipedia.org/wiki/David_Allais']\n"
     ]
    }
   ],
   "source": [
    "wiki_links = []\n",
    "\n",
    "with open('stanford_alumni.csv', \"r\") as f:\n",
    "    reader = csv.reader(f)\n",
    "    first_line = next(reader)\n",
    "    for row in reader:\n",
    "        url = row[0].replace('http://dbpedia.org/resource/', 'http://en.wikipedia.org/wiki/')\n",
    "        if url not in wiki_links:\n",
    "            wiki_links.append(url)\n",
    "\n",
    "print(len(wiki_links))\n",
    "print(wiki_links[:3])"
   ]
  },
  {
   "cell_type": "code",
   "execution_count": 4,
   "metadata": {},
   "outputs": [
    {
     "data": {
      "text/plain": [
       "('William G. \"Bill\" Ouchi (born 1943) is an American professor and author in the field of business management. He is the Distinguished Professor of Management and Organizations, Stanford and Betty Sigoloff Chair in Corporate Renewal at the UCLA Anderson School of Management.\\nHe was born and raised in Honolulu, Hawaii. He earned a B.A. from Williams College in 1965, and an MBA from Stanford University and a Ph.D. in Business Administration from the University of Chicago. He was a Stanford business school professor for 8 years and has been a faculty member of the Anderson School of Management at University of California, Los Angeles for many years.\\nOuchi first came to prominence for his studies of the differences between Japanese and American companies and management styles.\\nHis first book in 1981 summarized his observations. Theory Z: How American Management Can Meet the Japanese Challenge and was a New York Times best-seller for over five months.\\nHis second book, The M Form Society: How American Teamwork Can Recapture the Competitive Edge, examined  various techniques implementing that approach.\\nOuchi also came up with his three approaches to control in an organization\\'s management:\\nIn recent years Ouchi has turned his attention to the challenges posed for local schools by a top-down management style at the central office. He published an overview in 2003 in Making Schools Work. He chaired an education reform panel for Governor Arnold Schwarzenegger of California, and some of his proposals are being considered currently. In the 1990s, he served as advisor and chief of staff to former Los Angeles Mayor Richard Riordan.\\nIn 2009 his book, The Secret of TSL: The Revolutionary Discovery That Raises School Performance[1] was published which explores the revolutionary potential of reducing total student load, the number of students a teacher interacts with on a daily basis over the course of a semester.[2] Ouchi\\'s premise has the potential to change school systems across the country as local principals control more of their own budgets to make creative hiring decisions aimed at reducing to eighty the total number of students each teacher interacts with on a given day.\\nIn the larger community, Ouchi serves on the Advisory Board of the U.S. Commission on Presidential Debates, on the Board of Trustees of the Japanese American National Museum, and on the Board of Directors of The Alliance for College-Ready Public Schools - an operator of inner-city charter schools in Los Angeles.\\nHe previously served on the boards of Williams College, KCET Public Television, The California Community Foundation, Leadership Education for Asian-Pacifics, the Consumer Advisory Committee of the U.S. Securities and Exchange Commission, Walt Disney Concert Hall, and of the Harvard-Westlake School.\\nIn the business community, he serves on the boards of directors of The Hilton Foundation,[3] AECOM, FirstFed Financial, Sempra Energy, and Water-Pik Technologies.\\n',\n",
       " 'William Ouchi')"
      ]
     },
     "execution_count": 4,
     "metadata": {},
     "output_type": "execute_result"
    }
   ],
   "source": [
    "def get_wiki_item_text(item_url):\n",
    "    source_code = requests.get(item_url)\n",
    "    plain_text = source_code.text\n",
    "    soup = BeautifulSoup(plain_text)\n",
    "    for item_name in soup.findAll('title'):\n",
    "        title = soup.title.string \n",
    "        title = title[:-12]\n",
    "        for item_name in soup.findAll('div',{'class':'mw-content-ltr'}):\n",
    "            wiki_text = [x.text for x in soup.findAll('p')]\n",
    "            wiki_text =''.join(wiki_text)\n",
    "\n",
    "    return wiki_text, title\n",
    "get_wiki_item_text(\"http://en.wikipedia.org/wiki/William_Ouchi\")"
   ]
  },
  {
   "cell_type": "code",
   "execution_count": 5,
   "metadata": {},
   "outputs": [
    {
     "name": "stdout",
     "output_type": "stream",
     "text": [
      "Not found alumni: ['Mark T. Carleton', 'Kyle Wong', 'Anand Chandrasekaran', 'Mercy Malick']\n"
     ]
    }
   ],
   "source": [
    "f_name = \"wikipedia_texts.txt\"\n",
    "result = open(f_name, \"w+\")\n",
    "not_found = []\n",
    "\n",
    "for link in wiki_links:\n",
    "    text, title = get_wiki_item_text(link)\n",
    "    if \"Other reasons this message may be displayed\" in text:\n",
    "        not_found.append(title)\n",
    "    else:\n",
    "        result.write(\"TITLE: {}\\n{}\\n\".format(title, text))\n",
    "\n",
    "print(\"Not found alumni:\", not_found)"
   ]
  },
  {
   "cell_type": "code",
   "execution_count": 6,
   "metadata": {},
   "outputs": [],
   "source": [
    "# знайшла urls з інформацією для відсутніх у вікіпедії  \n",
    "not_found_urls = [\"https://wikivisually.com/wiki/Mark_T._Carleton\", \n",
    "\"https://www.huffpost.com/entry/incubating-an-entrepreneur-pixlees-kyle-wong-on-starting_b_59d41a79e4b08c2a000ddcce\",\n",
    "\"https://en.everybodywiki.com/Anand_Chandrasekaran\", \"https://peoplepill.com/people/mercy-malick/\"]"
   ]
  },
  {
   "cell_type": "markdown",
   "metadata": {},
   "source": [
    "### Висновки по DBPedia\n",
    "1. Витягати випускників можна по-різному: dbo:almaMater - дає 1135 рядків, dbo:education - 145 та ін. Тому обрала dbo:almaMater. Після додавання місця народження та професії вона зменшилась, оскільки не всі ці поля є в кожного випускника. Хотіла взяти національність, але отримувала, ще меншу БД. Дехто з випускників має кілька професій, а тому також отримала дублікати, які відкинула при пошуці у Вікіпедії (тому не 155, а 97 текстів)"
   ]
  },
  {
   "cell_type": "code",
   "execution_count": 7,
   "metadata": {},
   "outputs": [],
   "source": [
    "alumni = pd.read_csv('stanford_alumni.csv', header=0) # 155 entries with duplicates,\n",
    "alma = pd.read_csv('stanf_alma.csv', header=0) # dbo:almaMater - 1135 entries \n",
    "edu = pd.read_csv('stanf_edu.csv', header=0) # dbo:education - 145 entries"
   ]
  },
  {
   "cell_type": "code",
   "execution_count": null,
   "metadata": {},
   "outputs": [],
   "source": []
  }
 ],
 "metadata": {
  "kernelspec": {
   "display_name": "Python 3",
   "language": "python",
   "name": "python3"
  },
  "language_info": {
   "codemirror_mode": {
    "name": "ipython",
    "version": 3
   },
   "file_extension": ".py",
   "mimetype": "text/x-python",
   "name": "python",
   "nbconvert_exporter": "python",
   "pygments_lexer": "ipython3",
   "version": "3.7.4"
  }
 },
 "nbformat": 4,
 "nbformat_minor": 2
}
