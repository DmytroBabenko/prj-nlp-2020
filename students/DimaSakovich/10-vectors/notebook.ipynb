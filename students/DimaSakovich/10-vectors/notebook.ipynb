{
 "cells": [
  {
   "cell_type": "code",
   "execution_count": 1,
   "metadata": {},
   "outputs": [],
   "source": [
    "import os\n",
    "\n",
    "from IPython.display import display, Markdown, Image\n",
    "import matplotlib.pyplot as plt\n",
    "import matplotlib.colors as mcolors"
   ]
  },
  {
   "cell_type": "code",
   "execution_count": 2,
   "metadata": {},
   "outputs": [],
   "source": [
    "%matplotlib inline\n",
    "\n",
    "REPO_PATH = os.path.dirname(os.path.dirname(os.path.dirname(os.getcwd())))\n",
    "TASK_PATH = os.path.join(REPO_PATH, \"tasks\", \"10-vectors.md\")\n",
    "DATA_PATH = os.path.join(os.getcwd(), \"1551.gov.ua\", \"raw\")"
   ]
  },
  {
   "cell_type": "code",
   "execution_count": 3,
   "metadata": {},
   "outputs": [],
   "source": [
    "def show_markdown(path):\n",
    "    with open(path, 'r') as fh:\n",
    "        content = fh.read()\n",
    "    display(Markdown(content))"
   ]
  },
  {
   "cell_type": "code",
   "execution_count": 4,
   "metadata": {},
   "outputs": [
    {
     "data": {
      "text/markdown": [
       "# Векторні представлення\n",
       "\n",
       "## Завдання 1\n",
       "\n",
       "Побудуйте покращений класифікатор, який буде предбачати категорію запиту до служби 1551 з використанням тільки векторів слів (не використовувати інші ознаки, такі як самі слова, нграми і т.д) для всіх категорій.\n",
       "\n",
       "У якості бейзлайну використайте класифікатор kNN, який ви побудували на практичному.\n",
       "\n",
       "Зробіть як мінімум 2 ітерації покращення, які можуть полягати у:\n",
       "\n",
       "- підборі найкращого варіанту векторів з наведених тут: https://lang.org.ua/en/models/#anchor4 або інших (fasttext, Tf-IDF, LDA, ...) Ви навіть можете дотренувати вектори на власній тренувальній множині. Можете також спробувати агрегацію декількох векторів.\n",
       "- будь-яких видах передпроцесингу і попередньої обробки (фільтрація мови, стопслів, службових частин мови, лематизація, нормалізація, ...)\n",
       "- побудови векторів документу з використанням таких підходів як pargaraph vectors (doc2vec), ElMo, Universal Sentece Encoder...\n",
       "- використання довільних алгоритмів класифікації та ансамблів цих алгоритмів\n",
       "- групуванні категорій (на основі кластеризації або якихось евристик) та побудови багаторівневих класифікаторів\n",
       "\n",
       "Ваша мета: досягнути такого результату по якості, щоб було не соромно дивитись в очі Кличкові. ;)\n",
       "\n",
       "## Завдання 2\n",
       "\n",
       "Візуалізуйте ваші класи з використанням t-SNE. Якщо ви будете використовувати агрегацію категорій, то можете візуалізувати тільки категорії вищого рівня і, для прикладу, одну з них. Якщо ви не будете групувати категорії, то використовуйте для візуалізації найбільш частотні (30-50). Спробуйте досягти достатньо розділеної картинки, експериментуючи з параметрами візуалізації (звісно, якщо ваші вхідні дані дозволять вам це).\n",
       "\n",
       "\n",
       "## Оцінювання\n",
       "\n",
       "Оцінка:\n",
       "- 90 балів за класифікатор (рішення, які будуть мати якість більше 0.8 за macro_average або більше 0.9 за micro_average отримають додаткові 10 балів)\n",
       "- 10 балів за візуалізацію\n",
       "\n",
       "Крайній термін: 16.05.2020\n"
      ],
      "text/plain": [
       "<IPython.core.display.Markdown object>"
      ]
     },
     "metadata": {},
     "output_type": "display_data"
    }
   ],
   "source": [
    "show_markdown(TASK_PATH)"
   ]
  },
  {
   "cell_type": "markdown",
   "metadata": {},
   "source": [
    "## Read data"
   ]
  },
  {
   "cell_type": "code",
   "execution_count": 5,
   "metadata": {},
   "outputs": [],
   "source": [
    "import re\n",
    "import gzip\n",
    "import json\n",
    "\n",
    "import pandas as pd\n",
    "import numpy as np\n",
    "\n",
    "from tqdm import tqdm\n",
    "from tqdm.contrib.concurrent import process_map\n",
    "from pathlib import Path\n",
    "from collections import Counter"
   ]
  },
  {
   "cell_type": "code",
   "execution_count": 6,
   "metadata": {},
   "outputs": [],
   "source": [
    "import pycld2 as cld2\n",
    "from langdetect import detect, lang_detect_exception\n",
    "\n",
    "def lang_detect(x):\n",
    "    try:\n",
    "        return detect(x.lower())\n",
    "    except lang_detect_exception.LangDetectException:\n",
    "        return ''\n",
    "\n",
    "def lang_detect_v2(x):\n",
    "    try:\n",
    "        x = ''.join(_ for _ in \" \".join(x.split()[:100]).lower() if _.isprintable())\n",
    "        isReliable, textBytesFound, details = cld2.detect(x)\n",
    "        res = sorted(details, key=lambda x: x[2], reverse=True)[0][1]\n",
    "        if res == 'un':\n",
    "            res = detect(x.lower())\n",
    "        return res\n",
    "    except:\n",
    "        return \"\""
   ]
  },
  {
   "cell_type": "code",
   "execution_count": 7,
   "metadata": {},
   "outputs": [
    {
     "name": "stderr",
     "output_type": "stream",
     "text": [
      "127329it [00:39, 3261.46it/s]\n"
     ]
    }
   ],
   "source": [
    "res = []\n",
    "for file_path in tqdm(Path(DATA_PATH).rglob('*.gz')):\n",
    "    with gzip.open(file_path, 'rt', encoding='utf8') as zipfile:\n",
    "        obj = json.load(zipfile)[0]\n",
    "    res.append(obj)\n",
    "df = pd.DataFrame(res)"
   ]
  },
  {
   "cell_type": "code",
   "execution_count": 8,
   "metadata": {},
   "outputs": [],
   "source": [
    "df['manager_name'] = df['CallZManager'].map(lambda x: \"\" if not re.search(r\"\\[([\\s\\w\\.]+)\\]\", x) \n",
    "                                                         else re.findall(r\"\\[([\\s\\w\\.]+)\\]\", x)[0].strip())\n",
    "df['entity_name'] = df['CallZManager'].map(lambda x: re.sub(r\"\\[([\\s\\w\\.]+)\\]\", \"\", x))\n",
    "df['cat_count'] = df['CallZType'].map(df['CallZType'].value_counts().to_dict())\n",
    "df['word_count'] = df['CallZText'].str.split().map(len)"
   ]
  },
  {
   "cell_type": "code",
   "execution_count": 9,
   "metadata": {},
   "outputs": [
    {
     "data": {
      "application/vnd.jupyter.widget-view+json": {
       "model_id": "6a54664b0836451a9c809b096a179108",
       "version_major": 2,
       "version_minor": 0
      },
      "text/plain": [
       "HBox(children=(FloatProgress(value=0.0, max=127329.0), HTML(value='')))"
      ]
     },
     "metadata": {},
     "output_type": "display_data"
    },
    {
     "name": "stdout",
     "output_type": "stream",
     "text": [
      "\n",
      "CPU times: user 30.6 s, sys: 3.69 s, total: 34.3 s\n",
      "Wall time: 2min 15s\n"
     ]
    }
   ],
   "source": [
    "%%time\n",
    "\n",
    "lst = process_map(lang_detect, df['CallZText'].values, chunksize=1, max_workers=8)\n",
    "df['lang'] = lst"
   ]
  },
  {
   "cell_type": "code",
   "execution_count": 10,
   "metadata": {},
   "outputs": [
    {
     "data": {
      "text/plain": [
       "count    127329.000000\n",
       "mean         63.134384\n",
       "std          59.138254\n",
       "min           0.000000\n",
       "25%          22.000000\n",
       "50%          45.000000\n",
       "75%          84.000000\n",
       "max         418.000000\n",
       "Name: word_count, dtype: float64"
      ]
     },
     "execution_count": 10,
     "metadata": {},
     "output_type": "execute_result"
    }
   ],
   "source": [
    "df['word_count'].describe()"
   ]
  },
  {
   "cell_type": "code",
   "execution_count": 11,
   "metadata": {},
   "outputs": [
    {
     "name": "stdout",
     "output_type": "stream",
     "text": [
      "Records with > 100 label samples: 89.95 %\n"
     ]
    }
   ],
   "source": [
    "print(f\"Records with > 100 label samples: {df.loc[df.cat_count > 100].shape[0] / df.shape[0] * 100:.2f} %\")"
   ]
  },
  {
   "cell_type": "code",
   "execution_count": 12,
   "metadata": {},
   "outputs": [
    {
     "data": {
      "text/plain": [
       "uk    69342\n",
       "ru    56948\n",
       "        540\n",
       "bg      323\n",
       "mk      163\n",
       "pl        5\n",
       "en        2\n",
       "et        1\n",
       "sk        1\n",
       "sw        1\n",
       "fr        1\n",
       "sl        1\n",
       "ca        1\n",
       "Name: lang, dtype: int64"
      ]
     },
     "execution_count": 12,
     "metadata": {},
     "output_type": "execute_result"
    }
   ],
   "source": [
    "df['lang'].value_counts()"
   ]
  },
  {
   "cell_type": "code",
   "execution_count": 13,
   "metadata": {},
   "outputs": [],
   "source": [
    "# Counter(\" \".join(df['entity_name'].values).lower().split()).most_common(10)"
   ]
  },
  {
   "cell_type": "code",
   "execution_count": 14,
   "metadata": {},
   "outputs": [
    {
     "name": "stdout",
     "output_type": "stream",
     "text": [
      "(61987, 25) (51662, 25)\n"
     ]
    }
   ],
   "source": [
    "data_uk = df.loc[(df.cat_count > 100) & (df.lang.isin(['uk']))]#[['CallZText', 'CallZType']]\n",
    "data_ru = df.loc[(df.cat_count > 100) & (df.lang.isin(['ru']))]#[['CallZText', 'CallZType']]\n",
    "data_uk = data_uk.rename(columns=dict(zip(['CallZText', 'CallZType'], ['text', 'label'])))\n",
    "data_ru = data_ru.rename(columns=dict(zip(['CallZText', 'CallZType'], ['text', 'label'])))\n",
    "print(data_uk.shape, data_ru.shape)"
   ]
  },
  {
   "cell_type": "code",
   "execution_count": 15,
   "metadata": {},
   "outputs": [
    {
     "data": {
      "text/html": [
       "<div>\n",
       "<style scoped>\n",
       "    .dataframe tbody tr th:only-of-type {\n",
       "        vertical-align: middle;\n",
       "    }\n",
       "\n",
       "    .dataframe tbody tr th {\n",
       "        vertical-align: top;\n",
       "    }\n",
       "\n",
       "    .dataframe thead th {\n",
       "        text-align: right;\n",
       "    }\n",
       "</style>\n",
       "<table border=\"1\" class=\"dataframe\">\n",
       "  <thead>\n",
       "    <tr style=\"text-align: right;\">\n",
       "      <th></th>\n",
       "      <th>StatusTitle</th>\n",
       "      <th>CallZCdate</th>\n",
       "      <th>CallZReply</th>\n",
       "      <th>text</th>\n",
       "      <th>CallZManager</th>\n",
       "      <th>label</th>\n",
       "      <th>CallDate</th>\n",
       "      <th>CallCode</th>\n",
       "      <th>FbId</th>\n",
       "      <th>Enabled</th>\n",
       "      <th>...</th>\n",
       "      <th>PY</th>\n",
       "      <th>showStatus</th>\n",
       "      <th>files</th>\n",
       "      <th>feedfiles</th>\n",
       "      <th>reply</th>\n",
       "      <th>manager_name</th>\n",
       "      <th>entity_name</th>\n",
       "      <th>cat_count</th>\n",
       "      <th>word_count</th>\n",
       "      <th>lang</th>\n",
       "    </tr>\n",
       "  </thead>\n",
       "  <tbody>\n",
       "    <tr>\n",
       "      <th>0</th>\n",
       "      <td>Виконано</td>\n",
       "      <td>2015-07-03 00:00:00</td>\n",
       "      <td></td>\n",
       "      <td>Добрий день! Відповідно до контрольної картки ...</td>\n",
       "      <td>КП ”УЗН” [Сінцов Геннадій Львович ]</td>\n",
       "      <td>Утримання парків та лісопарків у місті Києві</td>\n",
       "      <td>2015-06-18 13:20:58</td>\n",
       "      <td>І-2513</td>\n",
       "      <td>149382</td>\n",
       "      <td>1</td>\n",
       "      <td>...</td>\n",
       "      <td>30.636674</td>\n",
       "      <td></td>\n",
       "      <td>[{'id': '81573', 'InOut': '0', 'file': '/feedb...</td>\n",
       "      <td>[{'id': '49925', 'file': '/feedback/fdocs/3201...</td>\n",
       "      <td>{'1436176081': {'id': '103381', 'callid': '320...</td>\n",
       "      <td>Сінцов Геннадій Львович</td>\n",
       "      <td>КП ”УЗН”</td>\n",
       "      <td>399</td>\n",
       "      <td>82</td>\n",
       "      <td>uk</td>\n",
       "    </tr>\n",
       "    <tr>\n",
       "      <th>2</th>\n",
       "      <td>Виконано</td>\n",
       "      <td>2013-10-21 00:00:00</td>\n",
       "      <td></td>\n",
       "      <td>В будинку 29 на вулиці Якуба Коласа відсутнє о...</td>\n",
       "      <td>КП РЕО-5 [Бондар Юрій Іванович]</td>\n",
       "      <td>Відсутність опалення</td>\n",
       "      <td>2013-10-17 18:20:15</td>\n",
       "      <td>І-4646</td>\n",
       "      <td>28337</td>\n",
       "      <td>1</td>\n",
       "      <td>...</td>\n",
       "      <td>30.383763</td>\n",
       "      <td></td>\n",
       "      <td></td>\n",
       "      <td></td>\n",
       "      <td>[]</td>\n",
       "      <td>Бондар Юрій Іванович</td>\n",
       "      <td>КП РЕО-5</td>\n",
       "      <td>6020</td>\n",
       "      <td>55</td>\n",
       "      <td>uk</td>\n",
       "    </tr>\n",
       "    <tr>\n",
       "      <th>3</th>\n",
       "      <td>На доопрацюванні виконавцем</td>\n",
       "      <td>2014-01-28 00:00:00</td>\n",
       "      <td></td>\n",
       "      <td>Доброго дня, вимушена звертатися за допомогою ...</td>\n",
       "      <td>ПАТ ”Київенерго” - ТРМ [Фоменко Олександр Вале...</td>\n",
       "      <td>Недостатній тиск ГВП</td>\n",
       "      <td>2014-01-13 14:30:50</td>\n",
       "      <td>І-83</td>\n",
       "      <td>40156</td>\n",
       "      <td>1</td>\n",
       "      <td>...</td>\n",
       "      <td>30.414153</td>\n",
       "      <td></td>\n",
       "      <td></td>\n",
       "      <td>[{'id': '12021', 'file': '/feedback/fdocs/2690...</td>\n",
       "      <td>{'1390476591': {'id': '23506', 'callid': '2690...</td>\n",
       "      <td>Фоменко Олександр Валерійович</td>\n",
       "      <td>ПАТ ”Київенерго” - ТРМ</td>\n",
       "      <td>303</td>\n",
       "      <td>97</td>\n",
       "      <td>uk</td>\n",
       "    </tr>\n",
       "    <tr>\n",
       "      <th>6</th>\n",
       "      <td>В роботі</td>\n",
       "      <td>2015-05-27 00:00:00</td>\n",
       "      <td></td>\n",
       "      <td>Відсутне ГВП (в об’яві - на невизначений термін)</td>\n",
       "      <td>ПАТ ”Київенерго” - ЖТЕ [Фоменко Олександр Вале...</td>\n",
       "      <td>Відсутність ГВП</td>\n",
       "      <td>2015-05-12 17:43:50</td>\n",
       "      <td>І-1871</td>\n",
       "      <td>136934</td>\n",
       "      <td>1</td>\n",
       "      <td>...</td>\n",
       "      <td>30.432559</td>\n",
       "      <td></td>\n",
       "      <td></td>\n",
       "      <td></td>\n",
       "      <td>[]</td>\n",
       "      <td>Фоменко Олександр Валерійович</td>\n",
       "      <td>ПАТ ”Київенерго” - ЖТЕ</td>\n",
       "      <td>13273</td>\n",
       "      <td>8</td>\n",
       "      <td>uk</td>\n",
       "    </tr>\n",
       "    <tr>\n",
       "      <th>8</th>\n",
       "      <td>Чекає на перевіку контр.відділом</td>\n",
       "      <td>2014-10-06 00:00:00</td>\n",
       "      <td></td>\n",
       "      <td>Доброго дня! Вже неможливо терпіти відсутність...</td>\n",
       "      <td>ПАТ ”Київенерго” - ТРМ [Фоменко Олександр Вале...</td>\n",
       "      <td>Відсутність ГВП</td>\n",
       "      <td>2014-09-21 12:10:28</td>\n",
       "      <td>І-2631</td>\n",
       "      <td>74345</td>\n",
       "      <td>1</td>\n",
       "      <td>...</td>\n",
       "      <td>30.63972</td>\n",
       "      <td></td>\n",
       "      <td></td>\n",
       "      <td>[{'id': '21895', 'file': '/feedback/fdocs/2875...</td>\n",
       "      <td>[]</td>\n",
       "      <td>Фоменко Олександр Валерійович</td>\n",
       "      <td>ПАТ ”Київенерго” - ТРМ</td>\n",
       "      <td>13273</td>\n",
       "      <td>66</td>\n",
       "      <td>uk</td>\n",
       "    </tr>\n",
       "  </tbody>\n",
       "</table>\n",
       "<p>5 rows × 25 columns</p>\n",
       "</div>"
      ],
      "text/plain": [
       "                        StatusTitle           CallZCdate CallZReply  \\\n",
       "0                          Виконано  2015-07-03 00:00:00              \n",
       "2                          Виконано  2013-10-21 00:00:00              \n",
       "3       На доопрацюванні виконавцем  2014-01-28 00:00:00              \n",
       "6                          В роботі  2015-05-27 00:00:00              \n",
       "8  Чекає на перевіку контр.відділом  2014-10-06 00:00:00              \n",
       "\n",
       "                                                text  \\\n",
       "0  Добрий день! Відповідно до контрольної картки ...   \n",
       "2  В будинку 29 на вулиці Якуба Коласа відсутнє о...   \n",
       "3  Доброго дня, вимушена звертатися за допомогою ...   \n",
       "6   Відсутне ГВП (в об’яві - на невизначений термін)   \n",
       "8  Доброго дня! Вже неможливо терпіти відсутність...   \n",
       "\n",
       "                                        CallZManager  \\\n",
       "0                КП ”УЗН” [Сінцов Геннадій Львович ]   \n",
       "2                    КП РЕО-5 [Бондар Юрій Іванович]   \n",
       "3  ПАТ ”Київенерго” - ТРМ [Фоменко Олександр Вале...   \n",
       "6  ПАТ ”Київенерго” - ЖТЕ [Фоменко Олександр Вале...   \n",
       "8  ПАТ ”Київенерго” - ТРМ [Фоменко Олександр Вале...   \n",
       "\n",
       "                                          label             CallDate CallCode  \\\n",
       "0  Утримання парків та лісопарків у місті Києві  2015-06-18 13:20:58   І-2513   \n",
       "2                          Відсутність опалення  2013-10-17 18:20:15   І-4646   \n",
       "3                          Недостатній тиск ГВП  2014-01-13 14:30:50     І-83   \n",
       "6                               Відсутність ГВП  2015-05-12 17:43:50   І-1871   \n",
       "8                               Відсутність ГВП  2014-09-21 12:10:28   І-2631   \n",
       "\n",
       "     FbId Enabled  ...         PY showStatus  \\\n",
       "0  149382       1  ...  30.636674              \n",
       "2   28337       1  ...  30.383763              \n",
       "3   40156       1  ...  30.414153              \n",
       "6  136934       1  ...  30.432559              \n",
       "8   74345       1  ...   30.63972              \n",
       "\n",
       "                                               files  \\\n",
       "0  [{'id': '81573', 'InOut': '0', 'file': '/feedb...   \n",
       "2                                                      \n",
       "3                                                      \n",
       "6                                                      \n",
       "8                                                      \n",
       "\n",
       "                                           feedfiles  \\\n",
       "0  [{'id': '49925', 'file': '/feedback/fdocs/3201...   \n",
       "2                                                      \n",
       "3  [{'id': '12021', 'file': '/feedback/fdocs/2690...   \n",
       "6                                                      \n",
       "8  [{'id': '21895', 'file': '/feedback/fdocs/2875...   \n",
       "\n",
       "                                               reply  \\\n",
       "0  {'1436176081': {'id': '103381', 'callid': '320...   \n",
       "2                                                 []   \n",
       "3  {'1390476591': {'id': '23506', 'callid': '2690...   \n",
       "6                                                 []   \n",
       "8                                                 []   \n",
       "\n",
       "                    manager_name              entity_name cat_count  \\\n",
       "0        Сінцов Геннадій Львович                КП ”УЗН”        399   \n",
       "2           Бондар Юрій Іванович                КП РЕО-5       6020   \n",
       "3  Фоменко Олександр Валерійович  ПАТ ”Київенерго” - ТРМ        303   \n",
       "6  Фоменко Олександр Валерійович  ПАТ ”Київенерго” - ЖТЕ      13273   \n",
       "8  Фоменко Олександр Валерійович  ПАТ ”Київенерго” - ТРМ      13273   \n",
       "\n",
       "  word_count lang  \n",
       "0         82   uk  \n",
       "2         55   uk  \n",
       "3         97   uk  \n",
       "6          8   uk  \n",
       "8         66   uk  \n",
       "\n",
       "[5 rows x 25 columns]"
      ]
     },
     "execution_count": 15,
     "metadata": {},
     "output_type": "execute_result"
    }
   ],
   "source": [
    "data_uk.head()"
   ]
  },
  {
   "cell_type": "code",
   "execution_count": 16,
   "metadata": {},
   "outputs": [
    {
     "name": "stdout",
     "output_type": "stream",
     "text": [
      "565 Відсутнє електропостачання\n",
      "553 Ремонт та заміна електроприладів\n",
      "514 Перебої електропостачання\n",
      "65 Підключення МАФ до комунікацій (електро -, водопостачання, тощо)\n",
      "62 Встановлення та експлуатація електролічильників\n",
      "50 Питання нарахування плати за електропостачання (розрахунки за електропостачання)\n",
      "36 Перерахунок, нарахування плати та боргу  за електропостачання\n",
      "22 Питання, що стосуються лічильників на електроенергію\n",
      "19 Відключення електропостачання за борги\n",
      "14 Питання стосовно нарахування боргу за електропостачання\n",
      "13 Укладання договорів на постачання електроенергії\n",
      "8 Перерахунок плати за відсутність електропостачання\n",
      "4 Відключення за борги електропостачання\n",
      "1 Про впровадження абонентських книжок АК ”Київенерго”,на оплату за електроенергію\n",
      "\n",
      "****************\n",
      "\n",
      "616 Паркування авто у місцях загального користування\n",
      "359 Паркування авто на прибудинковій території\n",
      "218 Розміщення паркувальних майданчиків\n",
      "190 Зберігання транспортних засобів, порушення правил паркування\n",
      "105 Паркування на зеленій зоні у місцях загального користування\n",
      "100 Паркування авто на зеленій зоні прибудинкової території\n",
      "25 Тарифи на послуги з паркування\n",
      "\n",
      "****************\n",
      "\n",
      "6020 Відсутність опалення\n",
      "2049 Відсутність опалення по стояку\n",
      "1341 Незадовільна температура опалення\n",
      "709 Встановлення лічильників на опалення.\n",
      "256 Питання, що стосуються завершення опалювального сезону\n",
      "212 Перерахунок плати за відсутність опалення\n",
      "160 Опалення на сходових клітинах\n",
      "154 Питання, що виникають до початку опалювального сезону\n",
      "84 Перерахунок плати за недостатню температуру опалення\n",
      "71 Питання стосовно нарахування боргу за опалення\n",
      "58 Відсутність опалення в навчальних закладах\n",
      "57 Незадовільна робота рушникосушарок від опалення\n",
      "23 Економічне обгрунтування тарифів на ЖКП: опалення, ГВП, ХВП, газ\n",
      "3 Відсутність опалення в адміністративних будівлях\n",
      "2 Відсутність опалення в медичних установах\n",
      "1 Відключення опалення за борги\n",
      "\n",
      "****************\n",
      "\n",
      "13273 Відсутність ГВП\n",
      "2304 Незадовільна температура ГВП\n",
      "303 Недостатній тиск ГВП\n",
      "288 Незадовільна робота рушникосушарок від ГВП\n",
      "226 Перерахунок плати за відсутність ГВП\n",
      "163 Перерахунок плати за незадовільну температуру ГВП\n",
      "114 Відсутність ГВП по стояку\n",
      "72 Неякісне ГВП\n",
      "58 Відключення за борги ГВП\n",
      "23 Економічне обгрунтування тарифів на ЖКП: опалення, ГВП, ХВП, газ\n",
      "21 Питання нарахування плати за споживання ГВП (розрахунки за споживання ГВП\n",
      "17 Перерахунок за непрацюючу рушникосушарку від ГВП\n",
      "3 Питання стосовно нарахування боргу за споживання ГВП\n",
      "\n",
      "****************\n",
      "\n",
      "1562 Відсутнє ХВП\n",
      "349 Відсутній тиск ХВП з 10-го поверху включно (”Київенерго”)\n",
      "233 Відсутній тиск ХВП до 9-го поверху включно (”Київводоканал” )\n",
      "194 Неякісне ХВП\n",
      "86 Відсутність ХВП по стояку\n",
      "48 Постійні перебої з подачею ХВП\n",
      "23 Економічне обгрунтування тарифів на ЖКП: опалення, ГВП, ХВП, газ\n",
      "17 Перерахунок, нарахування плати та боргу  за споживання ХВП\n",
      "17 Питання нарахування плати за споживання ХВП (розрахунки за споживання ХВП\n",
      "7 Перерахунок плати за відсутність ХВП\n",
      "1 Питання стосовно нарахування боргу за споживання ХВП\n"
     ]
    }
   ],
   "source": [
    "res = df.CallZType.value_counts()\n",
    "\n",
    "for k, v in res.items():\n",
    "    if \"електро\" in k.lower():\n",
    "        print(v, k)\n",
    "\n",
    "print('\\n****************\\n')\n",
    "\n",
    "for k, v in res.items():\n",
    "    if \"паркув\" in k.lower():\n",
    "        print(v, k)\n",
    "        \n",
    "print('\\n****************\\n')\n",
    "\n",
    "for k, v in res.items():\n",
    "    if \"опал\" in k.lower():\n",
    "        print(v, k)\n",
    "\n",
    "print('\\n****************\\n')\n",
    "\n",
    "for k, v in res.items():\n",
    "    if \"гвп\" in k.lower():\n",
    "        print(v, k)\n",
    "\n",
    "print('\\n****************\\n')\n",
    "\n",
    "for k, v in res.items():\n",
    "    if \"хвп\" in k.lower():\n",
    "        print(v, k)"
   ]
  },
  {
   "cell_type": "markdown",
   "metadata": {},
   "source": [
    "## Preprocessing"
   ]
  },
  {
   "cell_type": "code",
   "execution_count": 17,
   "metadata": {},
   "outputs": [],
   "source": [
    "import stanfordnlp\n",
    "import warnings\n",
    "\n",
    "warnings.filterwarnings(\"ignore\")"
   ]
  },
  {
   "cell_type": "code",
   "execution_count": 18,
   "metadata": {},
   "outputs": [],
   "source": [
    "MAX_WORDS_NUM = 100"
   ]
  },
  {
   "cell_type": "code",
   "execution_count": 19,
   "metadata": {},
   "outputs": [
    {
     "name": "stdout",
     "output_type": "stream",
     "text": [
      "Use device: gpu\n",
      "---\n",
      "Loading: tokenize\n",
      "With settings: \n",
      "{'model_path': '/home/dima/stanfordnlp_resources/uk_iu_models/uk_iu_tokenizer.pt', 'lang': 'uk', 'shorthand': 'uk_iu', 'mode': 'predict'}\n",
      "---\n",
      "Loading: pos\n",
      "With settings: \n",
      "{'model_path': '/home/dima/stanfordnlp_resources/uk_iu_models/uk_iu_tagger.pt', 'pretrain_path': '/home/dima/stanfordnlp_resources/uk_iu_models/uk_iu.pretrain.pt', 'lang': 'uk', 'shorthand': 'uk_iu', 'mode': 'predict'}\n",
      "---\n",
      "Loading: lemma\n",
      "With settings: \n",
      "{'model_path': '/home/dima/stanfordnlp_resources/uk_iu_models/uk_iu_lemmatizer.pt', 'lang': 'uk', 'shorthand': 'uk_iu', 'mode': 'predict'}\n",
      "Building an attentional Seq2Seq model...\n",
      "Using a Bi-LSTM encoder\n",
      "Using soft attention for LSTM.\n",
      "Finetune all embeddings.\n",
      "[Running seq2seq lemmatizer with edit classifier]\n",
      "Done loading processors!\n",
      "---\n",
      "Use device: gpu\n",
      "---\n",
      "Loading: tokenize\n",
      "With settings: \n",
      "{'model_path': '/home/dima/stanfordnlp_resources/ru_syntagrus_models/ru_syntagrus_tokenizer.pt', 'lang': 'ru', 'shorthand': 'ru_syntagrus', 'mode': 'predict'}\n",
      "---\n",
      "Loading: pos\n",
      "With settings: \n",
      "{'model_path': '/home/dima/stanfordnlp_resources/ru_syntagrus_models/ru_syntagrus_tagger.pt', 'pretrain_path': '/home/dima/stanfordnlp_resources/ru_syntagrus_models/ru_syntagrus.pretrain.pt', 'lang': 'ru', 'shorthand': 'ru_syntagrus', 'mode': 'predict'}\n",
      "---\n",
      "Loading: lemma\n",
      "With settings: \n",
      "{'model_path': '/home/dima/stanfordnlp_resources/ru_syntagrus_models/ru_syntagrus_lemmatizer.pt', 'lang': 'ru', 'shorthand': 'ru_syntagrus', 'mode': 'predict'}\n",
      "Building an attentional Seq2Seq model...\n",
      "Using a Bi-LSTM encoder\n",
      "Using soft attention for LSTM.\n",
      "Finetune all embeddings.\n",
      "[Running seq2seq lemmatizer with edit classifier]\n",
      "Done loading processors!\n",
      "---\n"
     ]
    }
   ],
   "source": [
    "# nlp_uk = stanfordnlp.Pipeline(lang='uk')\n",
    "# nlp_ru = stanfordnlp.Pipeline(lang='ru')\n",
    "nlp_uk = stanfordnlp.Pipeline(lang='uk', processors='tokenize,pos,lemma', use_gpu=True)\n",
    "nlp_ru = stanfordnlp.Pipeline(lang='ru', processors='tokenize,pos,lemma', use_gpu=True)"
   ]
  },
  {
   "cell_type": "code",
   "execution_count": 20,
   "metadata": {},
   "outputs": [],
   "source": [
    "def clean_text(x, words_num=100):\n",
    "    # fix remove bad encoding\n",
    "    x = x.encode('utf-8', \"ignore\").decode(\"utf-8\")\n",
    "    # fix apostrophe\n",
    "    x = x.replace(\"”\", \"’\")\n",
    "    # remove urls\n",
    "    x = re.sub(r\"((http|https)\\:\\/\\/)?[a-zA-Z0-9\\.\\/\\?\\:@\\-_=#]+\\.([a-zA-Z]){2,6}([a-zA-Z0-9\\.\\&\\/\\?\\:@\\-_=#])*\", \n",
    "               \" \", x)\n",
    "    # fix repeating punctuation\n",
    "    punctuation = ['!', '\"', '#', '$', '%', '&', \"'\", '(', ')', '*', '+', ',', '-', '.', '/', ':', \n",
    "                   ';', '<', '=', '>', '?', '@', '[', ']', '^', '_', '`', '{', '|', '}', '~']\n",
    "    for punct in punctuation:\n",
    "        x = re.sub(r\"\"\"\\{}+\"\"\".format(punct), punct, x)\n",
    "    # remove redundant spaces and limit the number of words to words_num\n",
    "    x = ''.join(_ for _ in \" \".join(filter(None, x.split()[:words_num])).lower() if _.isprintable())\n",
    "    \n",
    "    return x\n",
    "\n",
    "\n",
    "def text2tokens(text, lang='uk', lemma=False, ignore_pos=None, ignore_len=0, ignore_num=False):\n",
    "    nlp_map = {'uk': nlp_uk, 'ru': nlp_ru}\n",
    "    nlp = nlp_map.get(lang)\n",
    "    tokens = []\n",
    "    \n",
    "    # remove numbers such as #123, №25а, abc-78 etc.\n",
    "    if ignore_num:\n",
    "        text = re.sub(r\"\\S*\\d+\\S*\", \" \", text)\n",
    "    \n",
    "    for sentence in nlp(text).sentences:\n",
    "        for token in sentence.words:\n",
    "            if ignore_pos:\n",
    "                if token.upos in ignore_pos:\n",
    "                    continue\n",
    "            if ignore_len:\n",
    "                if len(token.text) <= ignore_len:\n",
    "                    continue\n",
    "            if lemma:\n",
    "                tokens.append(token.lemma)\n",
    "            else:\n",
    "#                 tokens.append((token.text, token.upos))\n",
    "                tokens.append(token.text)\n",
    "                \n",
    "    return tokens"
   ]
  },
  {
   "cell_type": "code",
   "execution_count": 21,
   "metadata": {},
   "outputs": [],
   "source": [
    "sample = data_uk.sample(3)"
   ]
  },
  {
   "cell_type": "code",
   "execution_count": 22,
   "metadata": {},
   "outputs": [
    {
     "name": "stdout",
     "output_type": "stream",
     "text": [
      "сьогодні зранку у мене склалась такая ситуація, у ванній кімнаті з лічильника для холодної води тиче вода, я перекрив її. Зателефонуваши до ЖЕК 808 за телефоном 04402909270 мені повідомили, що викликайте приватного сантехніка и вирішуйте свої всі питання з ним, але чекайте я ж платив кошти ЖЕКу 808 за те , що б мені ці лічильники поставили.\n",
      "*********\n",
      "За нашою адресою відсутне постачання гарячої води вже 5 діб. 15.10.2015 у дворі будинку розрили яму, ніяких ремонтних робіт ніхто не проводив. 19.10 яму зарили. І все... на всі жалоби та дзвінки відповідають, що в усьому винна міська адміністрація. Також в будинку до 19.10 було відсутне опалення. Температура в квартирі -16 градусів! Нікому нічого не потрібно. Будь-ласка, вирішіть цю проблему!!!!\n",
      "*********\n",
      "На сьогодні 22.10.2014 р. в моїй квартирі відсутня гаряча вода ( з 15.10.2014) та відсутне опалення. Терміново прошу повідомити у зв&#039;язку з чим данні обставини.\n",
      "*********\n"
     ]
    }
   ],
   "source": [
    "for item in sample.text.values:\n",
    "    print(item)\n",
    "    print(\"*********\")"
   ]
  },
  {
   "cell_type": "code",
   "execution_count": 23,
   "metadata": {},
   "outputs": [
    {
     "name": "stdout",
     "output_type": "stream",
     "text": [
      "сьогодні зранку у мене склалась такая ситуація, у ванній кімнаті з лічильника для холодної води тиче вода, я перекрив її. зателефонуваши до жек 808 за телефоном 04402909270 мені повідомили, що викликайте приватного сантехніка и вирішуйте свої всі питання з ним, але чекайте я ж платив кошти жеку 808 за те , що б мені ці лічильники поставили.\n",
      "*********\n",
      "за нашою адресою відсутне постачання гарячої води вже 5 діб. 15.10.2015 у дворі будинку розрили яму, ніяких ремонтних робіт ніхто не проводив. 19.10 яму зарили. і все. на всі жалоби та дзвінки відповідають, що в усьому винна міська адміністрація. також в будинку до 19.10 було відсутне опалення. температура в квартирі -16 градусів! нікому нічого не потрібно. будь-ласка, вирішіть цю проблему!\n",
      "*********\n",
      "на сьогодні 22.10.2014 р. в моїй квартирі відсутня гаряча вода ( з 15.10.2014) та відсутне опалення. терміново прошу повідомити у зв&#039;язку з чим данні обставини.\n",
      "*********\n"
     ]
    }
   ],
   "source": [
    "for item in sample.text.values:\n",
    "    print(clean_text(item))\n",
    "    print(\"*********\")"
   ]
  },
  {
   "cell_type": "code",
   "execution_count": 24,
   "metadata": {},
   "outputs": [
    {
     "data": {
      "text/plain": [
       "['на',\n",
       " 'сьогодні',\n",
       " 'р',\n",
       " '.',\n",
       " 'в',\n",
       " 'моїй',\n",
       " 'квартирі',\n",
       " 'відсутня',\n",
       " 'гаряча',\n",
       " 'вода',\n",
       " '(',\n",
       " 'з',\n",
       " 'та',\n",
       " 'відсутне',\n",
       " 'опалення',\n",
       " '.',\n",
       " 'терміново',\n",
       " 'прошу',\n",
       " 'повідомити',\n",
       " 'у',\n",
       " 'з',\n",
       " 'чим',\n",
       " 'данні',\n",
       " 'обставини',\n",
       " '.']"
      ]
     },
     "execution_count": 24,
     "metadata": {},
     "output_type": "execute_result"
    }
   ],
   "source": [
    "text2tokens(clean_text(item), ignore_num=True)\n",
    "# text2tokens(item)"
   ]
  },
  {
   "cell_type": "code",
   "execution_count": 25,
   "metadata": {},
   "outputs": [],
   "source": [
    "data_uk['text_clean'] = data_uk['text'].map(clean_text)\n",
    "data_ru['text_clean'] = data_ru['text'].map(clean_text)"
   ]
  },
  {
   "cell_type": "markdown",
   "metadata": {},
   "source": [
    "## Embeddings"
   ]
  },
  {
   "cell_type": "markdown",
   "metadata": {},
   "source": [
    "### Universal Sentence Encoder"
   ]
  },
  {
   "cell_type": "code",
   "execution_count": 26,
   "metadata": {},
   "outputs": [],
   "source": [
    "import tensorflow_text\n",
    "import tensorflow as tf\n",
    "import tensorflow_hub as hub\n",
    "\n",
    "from scipy import spatial"
   ]
  },
  {
   "cell_type": "code",
   "execution_count": 27,
   "metadata": {},
   "outputs": [
    {
     "data": {
      "text/plain": [
       "'2.0.1'"
      ]
     },
     "execution_count": 27,
     "metadata": {},
     "output_type": "execute_result"
    }
   ],
   "source": [
    "tf.__version__"
   ]
  },
  {
   "cell_type": "code",
   "execution_count": 28,
   "metadata": {},
   "outputs": [
    {
     "data": {
      "text/plain": [
       "True"
      ]
     },
     "execution_count": 28,
     "metadata": {},
     "output_type": "execute_result"
    }
   ],
   "source": [
    "tf.test.is_gpu_available(\n",
    "    cuda_only=False, min_cuda_compute_capability=None\n",
    ")"
   ]
  },
  {
   "cell_type": "code",
   "execution_count": 29,
   "metadata": {},
   "outputs": [],
   "source": [
    "module_url = \"https://tfhub.dev/google/universal-sentence-encoder-multilingual/3\"\n",
    "use_model = hub.load(module_url)"
   ]
  },
  {
   "cell_type": "code",
   "execution_count": 30,
   "metadata": {},
   "outputs": [],
   "source": [
    "def cos_sim(vec1, vec2):\n",
    "    return 1 - spatial.distance.cosine(vec1, vec2)"
   ]
  },
  {
   "cell_type": "code",
   "execution_count": 31,
   "metadata": {},
   "outputs": [],
   "source": [
    "def use_embed(text, numpy=True):\n",
    "    res = np.zeros((1, 512))\n",
    "    if isinstance(text, str):\n",
    "        text = [text]\n",
    "    try:\n",
    "        res = use_model(text)\n",
    "        if numpy:\n",
    "            res = res.numpy()\n",
    "    except Exception as e:\n",
    "        print(e, text)\n",
    "    return res"
   ]
  },
  {
   "cell_type": "markdown",
   "metadata": {},
   "source": [
    "#### sample distance test"
   ]
  },
  {
   "cell_type": "markdown",
   "metadata": {},
   "source": [
    "##### same topics"
   ]
  },
  {
   "cell_type": "code",
   "execution_count": 32,
   "metadata": {},
   "outputs": [
    {
     "name": "stdout",
     "output_type": "stream",
     "text": [
      "Відсутність ГВП\n",
      "*************\n",
      "я проживаю в оболонском районе и уже больше месяца не могу пользоваться горячей водой. дважды я обращалась в контактный центр с просьбой объяснить мне, почему в печерском районе воду не отключили, не отключили воду и на левом берегу.(обращения были зарегистрированы с-13066 и с-13494) я не хотела получить отписку о необходимости экономии газа, а хотела получить ответ на конкретный вопрос. но дважды я под копирку получила ответ из коммунального предприятия моего района о необходимости экономии газа по распоряжению кабмина. значит мы ,живущие в других районах,люди второго сорта? сильные мира сего ,которые лишили нас газа должна процветать, а мы мыться в тазиках.великолепное\n",
      "*************\n",
      "здравствуйте! пишу вам с просьбой о помощи в решении проблемы с отключением горячей воды по адресу ул. выборгская 12. в нашем доме уже три недели нет горячего водоснабжения. ни жэк №911 ни ’киевэнерго’ не могут дать внятного ответа кто за что отвечает и когда проблема будет устранена.искренне надеюсь на вашу помощь. заранее огромное спасибо.\n"
     ]
    }
   ],
   "source": [
    "lang = 'ru'\n",
    "\n",
    "if lang == 'ru':\n",
    "    tmp = data_ru.loc[data_ru.cat_count == data_ru.cat_count.max()].sample(2)\n",
    "else:\n",
    "    tmp = data_uk.loc[data_uk.cat_count == data_uk.cat_count.max()].sample(2)\n",
    "    \n",
    "cat = tmp['label'].unique()[0]\n",
    "sample1 = clean_text(tmp['text'].values[0])\n",
    "sample2 = clean_text(tmp['text'].values[1])\n",
    "\n",
    "print(cat, sample1, sample2, sep=\"\\n*************\\n\")"
   ]
  },
  {
   "cell_type": "code",
   "execution_count": 33,
   "metadata": {},
   "outputs": [
    {
     "name": "stdout",
     "output_type": "stream",
     "text": [
      "Embedding shape: (1, 512)\n",
      "Raw text similarity: 0.5317729711532593\n",
      "Clean text similarity: 0.5276922583580017\n"
     ]
    }
   ],
   "source": [
    "print('Embedding shape:', use_embed(sample1).shape)\n",
    "print('Raw text similarity:', cos_sim(use_embed(sample1), use_embed(sample2)))\n",
    "print('Clean text similarity:', cos_sim(use_embed(\" \".join(text2tokens(sample1))), \n",
    "                                        use_embed(\" \".join(text2tokens(sample2)))))"
   ]
  },
  {
   "cell_type": "markdown",
   "metadata": {},
   "source": [
    "##### different topics"
   ]
  },
  {
   "cell_type": "code",
   "execution_count": 34,
   "metadata": {},
   "outputs": [
    {
     "name": "stdout",
     "output_type": "stream",
     "text": [
      "Відсутність ГВП\n",
      "*************\n",
      "я проживаю за вказаною адресою і в будинку з 8.07.2015 по даний час не має гарячої води. вкажіть будь-ласка причину.\n",
      "*************\n",
      "Укладання та ремонт асфальтного покриття\n",
      "*************\n",
      "доброго дня! звертаю вашу увагу на незадовільний стан асфальтного покриття тротуару біля будинку. заздалегідь вдячна.\n"
     ]
    }
   ],
   "source": [
    "lang = 'uk'\n",
    "\n",
    "if lang == 'ru':\n",
    "    top_2_labels = data_ru.label.value_counts().keys()[:2]\n",
    "    sample1 = data_ru.loc[data_ru.label == top_2_labels[0]].sample()['text_clean'].values[0]\n",
    "    sample2 = data_ru.loc[data_ru.label == top_2_labels[1]].sample()['text_clean'].values[0]\n",
    "    \n",
    "else:\n",
    "    top_2_labels = data_uk.label.value_counts().keys()[:2]\n",
    "    sample1 = data_uk.loc[data_uk.label == top_2_labels[0]].sample()['text_clean'].values[0]\n",
    "    sample2 = data_uk.loc[data_uk.label == top_2_labels[1]].sample()['text_clean'].values[0]\n",
    "\n",
    "print(top_2_labels[0], sample1, top_2_labels[1], sample2, sep=\"\\n*************\\n\")"
   ]
  },
  {
   "cell_type": "code",
   "execution_count": 35,
   "metadata": {},
   "outputs": [
    {
     "name": "stdout",
     "output_type": "stream",
     "text": [
      "Embedding shape: (1, 512)\n",
      "Raw text similarity: 0.23809470236301422\n",
      "Clean text similarity: 0.22154812514781952\n"
     ]
    }
   ],
   "source": [
    "print('Embedding shape:', use_embed(sample1).shape)\n",
    "print('Raw text similarity:', cos_sim(use_embed(sample1), use_embed(sample2)))\n",
    "print('Clean text similarity:', cos_sim(use_embed(\" \".join(text2tokens(sample1))), \n",
    "                                        use_embed(\" \".join(text2tokens(sample2)))))"
   ]
  },
  {
   "cell_type": "markdown",
   "metadata": {},
   "source": [
    "I'm pleasantly surprised that Russian USE model somehow performs on Ukrainian.\n",
    "BTW, tokenized text doesn't shows better results comparing to raw clean text. And it makes sense, as we work with document vectors and removing such POSes as NUM or PUNCT breakes document structure"
   ]
  },
  {
   "cell_type": "markdown",
   "metadata": {},
   "source": [
    "### Word2vec / Glove / LexVec"
   ]
  },
  {
   "cell_type": "markdown",
   "metadata": {},
   "source": [
    "Ubercorpus embeddings"
   ]
  },
  {
   "cell_type": "code",
   "execution_count": 36,
   "metadata": {},
   "outputs": [],
   "source": [
    "from gensim.scripts.glove2word2vec import glove2word2vec\n",
    "from gensim.models.keyedvectors import KeyedVectors"
   ]
  },
  {
   "cell_type": "code",
   "execution_count": 37,
   "metadata": {},
   "outputs": [],
   "source": [
    "# glove2word2vec(glove_input_file=\"ubercorpus.lowercased.tokenized.glove.300d\", \n",
    "#                word2vec_output_file=\"ubercorpus.lowercased.tokenized.glove.300d.txt\")"
   ]
  },
  {
   "cell_type": "code",
   "execution_count": 38,
   "metadata": {},
   "outputs": [
    {
     "name": "stdout",
     "output_type": "stream",
     "text": [
      "CPU times: user 1min 45s, sys: 709 ms, total: 1min 46s\n",
      "Wall time: 1min 46s\n"
     ]
    }
   ],
   "source": [
    "%%time\n",
    "\n",
    "glove_model = KeyedVectors.load_word2vec_format(\"ubercorpus.lowercased.tokenized.glove.300d.txt\", binary=False)"
   ]
  },
  {
   "cell_type": "code",
   "execution_count": 39,
   "metadata": {},
   "outputs": [
    {
     "name": "stdout",
     "output_type": "stream",
     "text": [
      "CPU times: user 1min 45s, sys: 749 ms, total: 1min 46s\n",
      "Wall time: 1min 46s\n"
     ]
    }
   ],
   "source": [
    "%%time\n",
    "\n",
    "w2v_model = KeyedVectors.load_word2vec_format(\"ubercorpus.lowercased.tokenized.word2vec.300d\", binary=False)"
   ]
  },
  {
   "cell_type": "code",
   "execution_count": 40,
   "metadata": {},
   "outputs": [
    {
     "name": "stdout",
     "output_type": "stream",
     "text": [
      "CPU times: user 1min 45s, sys: 706 ms, total: 1min 45s\n",
      "Wall time: 1min 45s\n"
     ]
    }
   ],
   "source": [
    "%%time\n",
    "\n",
    "lexvec_model = KeyedVectors.load_word2vec_format(\"ubercorpus.lowercased.tokenized.300d\", binary=False)"
   ]
  },
  {
   "cell_type": "code",
   "execution_count": 41,
   "metadata": {},
   "outputs": [
    {
     "data": {
      "text/plain": [
       "[('геннадій', 0.5712622404098511),\n",
       " ('нардеп', 0.5634081959724426),\n",
       " ('москаля', 0.5238221883773804),\n",
       " ('луценко', 0.5117676258087158),\n",
       " ('депутат', 0.49746325612068176)]"
      ]
     },
     "execution_count": 41,
     "metadata": {},
     "output_type": "execute_result"
    }
   ],
   "source": [
    "glove_model.wv.most_similar('москаль', topn=5)"
   ]
  },
  {
   "cell_type": "code",
   "execution_count": 42,
   "metadata": {},
   "outputs": [
    {
     "data": {
      "text/plain": [
       "[('корбан', 0.703376054763794),\n",
       " ('кернес', 0.6943342685699463),\n",
       " ('задирко', 0.6910302639007568),\n",
       " ('мінаєв', 0.6881823539733887),\n",
       " ('іванущенко', 0.676155686378479)]"
      ]
     },
     "execution_count": 42,
     "metadata": {},
     "output_type": "execute_result"
    }
   ],
   "source": [
    "w2v_model.wv.most_similar('москаль', topn=5)"
   ]
  },
  {
   "cell_type": "code",
   "execution_count": 43,
   "metadata": {},
   "outputs": [
    {
     "data": {
      "text/plain": [
       "[('кернес', 0.6542044878005981),\n",
       " ('жебрівський', 0.6423298120498657),\n",
       " ('тука', 0.6347901225090027),\n",
       " ('зубко', 0.6334406733512878),\n",
       " ('корбан', 0.6276117563247681)]"
      ]
     },
     "execution_count": 43,
     "metadata": {},
     "output_type": "execute_result"
    }
   ],
   "source": [
    "lexvec_model.wv.most_similar('москаль', topn=5)"
   ]
  },
  {
   "cell_type": "markdown",
   "metadata": {},
   "source": [
    "as lowercased model trained on news, wiki and literature, by ``москаль`` it understands ``Генадій Москаль``, but not that dirty ``москаль`` from Mordor. It happens because politician appeared much more frequently in train corpus that the second one. But in my case I can't use cased model, because there are lots of reviews among train data with capsed text and if I will not lowercase them, they will add lots of noise to my data."
   ]
  },
  {
   "cell_type": "code",
   "execution_count": 44,
   "metadata": {},
   "outputs": [],
   "source": [
    "def gensim_embed(tokens, mode='avg', model=glove_model, pad_limit=MAX_WORDS_NUM):\n",
    "    \"\"\" average all vectors that are in vocab, ignore OOV \"\"\"\n",
    "    res = []\n",
    "    for token in tokens:\n",
    "        if token in w2v_model.vocab:\n",
    "            res.append(model.wv.__getitem__([token]))\n",
    "    if len(res) > 0:\n",
    "        res = np.vstack(res)\n",
    "        \n",
    "        if mode == 'avg':\n",
    "            return np.mean(res, axis=0).reshape(1, -1)\n",
    "        elif mode == 'concat':\n",
    "            return np.pad(res, ((0, MAX_WORDS_NUM), (0, 0)), mode='constant', constant_values=0)[:MAX_WORDS_NUM, :]\n",
    "        else:\n",
    "            raise ValueError(f'Invalid embeddings result mod: {mode}')\n",
    "    else:\n",
    "        if mode == 'avg':\n",
    "            return np.zeros((1, 300))\n",
    "        else:\n",
    "            return np.zeros((100, 300))"
   ]
  },
  {
   "cell_type": "markdown",
   "metadata": {},
   "source": [
    "#### sample distance test"
   ]
  },
  {
   "cell_type": "markdown",
   "metadata": {},
   "source": [
    "##### Same topics"
   ]
  },
  {
   "cell_type": "code",
   "execution_count": 45,
   "metadata": {},
   "outputs": [
    {
     "name": "stdout",
     "output_type": "stream",
     "text": [
      "Відсутність ГВП\n",
      "*************\n",
      "в гарячому крані немає гарячої води. не було місяць-відписалися, що звернення виконано. але воду гарячу включили рівно на два дні, потім через добу появилася тепла- потім взагалі ніяка’холодна-холоднюща’. коли буде гаряча вода з гарячого крану за 40 грн. 1 куб ’такою якою повинна бути’? не має гарячої води - то виключіть мережу? відписки липові ’що виконано’не присилайте, бо буду писати кожний день, доки не набридне.\n",
      "*************\n",
      "11/09/2015 за моєю адресою було відключене гвп, яке відновилося 12/09/2015, але температура води в крані гарячої води коливалася протягом доби, не перевищуючи 32°с. починаючи з 18/09/2015 температура гарячої води однакова протягом доби - 28°с, що значно нижче норми (50°с). прошу якнайшвидше виявити і усунуту проблему.\n"
     ]
    }
   ],
   "source": [
    "lang = 'uk'\n",
    "\n",
    "if lang == 'ru':\n",
    "    tmp = data_ru.loc[data_ru.cat_count == data_ru.cat_count.max()].sample(2)\n",
    "else:\n",
    "    tmp = data_uk.loc[data_uk.cat_count == data_uk.cat_count.max()].sample(2)\n",
    "    \n",
    "cat = tmp['label'].unique()[0]\n",
    "sample1 = clean_text(tmp['text'].values[0])\n",
    "sample2 = clean_text(tmp['text'].values[1])\n",
    "\n",
    "print(cat, sample1, sample2, sep=\"\\n*************\\n\")"
   ]
  },
  {
   "cell_type": "code",
   "execution_count": 46,
   "metadata": {},
   "outputs": [
    {
     "name": "stdout",
     "output_type": "stream",
     "text": [
      "Embedding shape: (1, 300)\n",
      "\n",
      "Raw text similarity:\n",
      "* w2v: 0.7081223726272583\n",
      "* glove: 0.8566357493400574\n",
      "* lexvec: 0.6831431984901428\n",
      "\n",
      "Lemmatized text similarity:\n",
      "* w2v: 0.7609636187553406\n",
      "* glove: 0.8678590655326843\n",
      "* lexvec: 0.7385969758033752\n",
      "\n",
      "Lemmatized text similarity where punct, num and len=1 are ignored:\n",
      "* w2v: 0.7990612983703613\n",
      "* glove: 0.873092770576477\n",
      "* lexvec: 0.7790310978889465\n"
     ]
    }
   ],
   "source": [
    "print('Embedding shape:', gensim_embed(text2tokens(sample1)).shape)\n",
    "print(\"\\nRaw text similarity:\")\n",
    "print('* w2v:',    cos_sim(gensim_embed(text2tokens(sample1, lang=lang), model=w2v_model), \n",
    "                           gensim_embed(text2tokens(sample2, lang=lang), model=w2v_model)))\n",
    "print('* glove:',  cos_sim(gensim_embed(text2tokens(sample1, lang=lang), model=glove_model), \n",
    "                           gensim_embed(text2tokens(sample2, lang=lang), model=glove_model)))\n",
    "print('* lexvec:', cos_sim(gensim_embed(text2tokens(sample1, lang=lang), model=lexvec_model), \n",
    "                           gensim_embed(text2tokens(sample2, lang=lang), model=lexvec_model)))\n",
    "print(\"\\nLemmatized text similarity:\")\n",
    "print('* w2v:',    cos_sim(gensim_embed(text2tokens(sample1, lang=lang, lemma=True), model=w2v_model), \n",
    "                           gensim_embed(text2tokens(sample2, lang=lang, lemma=True), model=w2v_model)))\n",
    "print('* glove:',  cos_sim(gensim_embed(text2tokens(sample1, lang=lang, lemma=True), model=glove_model), \n",
    "                           gensim_embed(text2tokens(sample2, lang=lang, lemma=True), model=glove_model)))\n",
    "print('* lexvec:', cos_sim(gensim_embed(text2tokens(sample1, lang=lang, lemma=True), model=lexvec_model), \n",
    "                           gensim_embed(text2tokens(sample2, lang=lang, lemma=True), model=lexvec_model)))\n",
    "print(\"\\nLemmatized text similarity where punct, num and len=1 are ignored:\")\n",
    "print('* w2v:',    cos_sim(gensim_embed(text2tokens(sample1, lang=lang, lemma=True, ignore_pos=['PUNCT'], ignore_num=True, ignore_len=1), model=w2v_model), \n",
    "                           gensim_embed(text2tokens(sample2, lang=lang, lemma=True, ignore_pos=['PUNCT'], ignore_num=True, ignore_len=1), model=w2v_model)))\n",
    "print('* glove:',  cos_sim(gensim_embed(text2tokens(sample1, lang=lang, lemma=True, ignore_pos=['PUNCT'], ignore_num=True, ignore_len=1), model=glove_model), \n",
    "                           gensim_embed(text2tokens(sample2, lang=lang, lemma=True, ignore_pos=['PUNCT'], ignore_num=True, ignore_len=1), model=glove_model)))\n",
    "print('* lexvec:', cos_sim(gensim_embed(text2tokens(sample1, lang=lang, lemma=True, ignore_pos=['PUNCT'], ignore_num=True, ignore_len=1), model=lexvec_model), \n",
    "                           gensim_embed(text2tokens(sample2, lang=lang, lemma=True, ignore_pos=['PUNCT'], ignore_num=True, ignore_len=1), model=lexvec_model)))"
   ]
  },
  {
   "cell_type": "markdown",
   "metadata": {},
   "source": [
    "##### different topics"
   ]
  },
  {
   "cell_type": "code",
   "execution_count": 47,
   "metadata": {},
   "outputs": [
    {
     "name": "stdout",
     "output_type": "stream",
     "text": [
      "Відсутність ГВП\n",
      "*************\n",
      "відсутність гарячого водопосточання.\n",
      "*************\n",
      "Укладання та ремонт асфальтного покриття\n",
      "*************\n",
      "другий рік поспіль звертаюся із проблемою жахливого стану міжквартального проїзду біля дому #4 по вул. празькій. минулого року жек-балансоутримувач даної теріторії відповів: &amp;quot;нема фінансування&amp;quot;. така постановка питання мене, як громадянина, який справно сплачує всі необхідні податки, не влаштовує. вимагаю усунути наведені недоліки.\n"
     ]
    }
   ],
   "source": [
    "lang = 'uk'\n",
    "\n",
    "if lang == 'ru':\n",
    "    top_2_labels = data_ru.label.value_counts().keys()[:2]\n",
    "    sample1 = data_ru.loc[data_ru.label == top_2_labels[0]].sample()['text_clean'].values[0]\n",
    "    sample2 = data_ru.loc[data_ru.label == top_2_labels[1]].sample()['text_clean'].values[0]\n",
    "    \n",
    "else:\n",
    "    top_2_labels = data_uk.label.value_counts().keys()[:2]\n",
    "    sample1 = data_uk.loc[data_uk.label == top_2_labels[0]].sample()['text_clean'].values[0]\n",
    "    sample2 = data_uk.loc[data_uk.label == top_2_labels[1]].sample()['text_clean'].values[0]\n",
    "\n",
    "print(top_2_labels[0], sample1, top_2_labels[1], sample2, sep=\"\\n*************\\n\")"
   ]
  },
  {
   "cell_type": "code",
   "execution_count": 48,
   "metadata": {},
   "outputs": [
    {
     "name": "stdout",
     "output_type": "stream",
     "text": [
      "Embedding shape: (1, 300)\n",
      "\n",
      "Raw text similarity:\n",
      "* w2v: 0.16053499281406403\n",
      "* glove: 0.3524405062198639\n",
      "* lexvec: 0.24383704364299774\n",
      "\n",
      "Lemmatized text similarity:\n",
      "* w2v: 0.21585023403167725\n",
      "* glove: 0.44051629304885864\n",
      "* lexvec: 0.36627197265625\n",
      "\n",
      "Lemmatized text similarity where punct, num and len=1 are ignored:\n",
      "* w2v: 0.22414013743400574\n",
      "* glove: 0.44372570514678955\n",
      "* lexvec: 0.3670263886451721\n"
     ]
    }
   ],
   "source": [
    "print('Embedding shape:', gensim_embed(text2tokens(sample1)).shape)\n",
    "print(\"\\nRaw text similarity:\")\n",
    "print('* w2v:',    cos_sim(gensim_embed(text2tokens(sample1, lang=lang), model=w2v_model), \n",
    "                           gensim_embed(text2tokens(sample2, lang=lang), model=w2v_model)))\n",
    "print('* glove:',  cos_sim(gensim_embed(text2tokens(sample1, lang=lang), model=glove_model), \n",
    "                           gensim_embed(text2tokens(sample2, lang=lang), model=glove_model)))\n",
    "print('* lexvec:', cos_sim(gensim_embed(text2tokens(sample1, lang=lang), model=lexvec_model), \n",
    "                           gensim_embed(text2tokens(sample2, lang=lang), model=lexvec_model)))\n",
    "print(\"\\nLemmatized text similarity:\")\n",
    "print('* w2v:',    cos_sim(gensim_embed(text2tokens(sample1, lang=lang, lemma=True), model=w2v_model), \n",
    "                           gensim_embed(text2tokens(sample2, lang=lang, lemma=True), model=w2v_model)))\n",
    "print('* glove:',  cos_sim(gensim_embed(text2tokens(sample1, lang=lang, lemma=True), model=glove_model), \n",
    "                           gensim_embed(text2tokens(sample2, lang=lang, lemma=True), model=glove_model)))\n",
    "print('* lexvec:', cos_sim(gensim_embed(text2tokens(sample1, lang=lang, lemma=True), model=lexvec_model), \n",
    "                           gensim_embed(text2tokens(sample2, lang=lang, lemma=True), model=lexvec_model)))\n",
    "print(\"\\nLemmatized text similarity where punct, num and len=1 are ignored:\")\n",
    "print('* w2v:',    cos_sim(gensim_embed(text2tokens(sample1, lang=lang, lemma=True, ignore_pos=['PUNCT'], ignore_num=True, ignore_len=1), model=w2v_model), \n",
    "                           gensim_embed(text2tokens(sample2, lang=lang, lemma=True, ignore_pos=['PUNCT'], ignore_num=True, ignore_len=1), model=w2v_model)))\n",
    "print('* glove:',  cos_sim(gensim_embed(text2tokens(sample1, lang=lang, lemma=True, ignore_pos=['PUNCT'], ignore_num=True, ignore_len=1), model=glove_model), \n",
    "                           gensim_embed(text2tokens(sample2, lang=lang, lemma=True, ignore_pos=['PUNCT'], ignore_num=True, ignore_len=1), model=glove_model)))\n",
    "print('* lexvec:', cos_sim(gensim_embed(text2tokens(sample1, lang=lang, lemma=True, ignore_pos=['PUNCT'], ignore_num=True, ignore_len=1), model=lexvec_model), \n",
    "                           gensim_embed(text2tokens(sample2, lang=lang, lemma=True, ignore_pos=['PUNCT'], ignore_num=True, ignore_len=1), model=lexvec_model)))"
   ]
  },
  {
   "cell_type": "markdown",
   "metadata": {},
   "source": [
    "3 comments:\n",
    "* ukrainian models performs well both on uk and ru\n",
    "* as I expected, glove works slightly better in most of cases\n",
    "* no preprocessing neaded. Raw text w/o lemmatization and removing punct, numbers, 1-letter words shows better similarity. Sometimes only lemmatization works slightly better that w/o it. Actually, I'm not sure, it depends on. \n",
    "\n",
    "I suppose on long sequences better apply lemmatization and removing some posses, on the short better leave as is."
   ]
  },
  {
   "cell_type": "markdown",
   "metadata": {},
   "source": [
    "### BERT"
   ]
  },
  {
   "cell_type": "markdown",
   "metadata": {},
   "source": [
    "Based on: https://mccormickml.com/2019/05/14/BERT-word-embeddings-tutorial/"
   ]
  },
  {
   "cell_type": "code",
   "execution_count": 49,
   "metadata": {},
   "outputs": [],
   "source": [
    "BERT_PRETRAINED_DIR = os.path.join(os.getcwd(), 'multi_cased_bert_base_uk')\n",
    "\n",
    "BERT_VOCAB_FILE = os.path.join(BERT_PRETRAINED_DIR, 'vocab.txt')\n",
    "BERT_CONFIG_FILE = os.path.join(BERT_PRETRAINED_DIR, 'bert_config.json')\n",
    "BERT_INIT_CHECKPOINT = os.path.join(BERT_PRETRAINED_DIR, 'model.ckpt') # .data-00000-of-00001\n",
    "PYTORCH_MODEL_SAVE_PATH = os.path.join(BERT_PRETRAINED_DIR, 'pytorch_model.bin')"
   ]
  },
  {
   "cell_type": "code",
   "execution_count": 50,
   "metadata": {},
   "outputs": [
    {
     "data": {
      "text/plain": [
       "['config.json',\n",
       " 'vocab.txt',\n",
       " 'pytorch_model.bin',\n",
       " 'model.ckpt.meta',\n",
       " 'model.ckpt.index',\n",
       " 'model.ckpt.data-00000-of-00001',\n",
       " 'bert_config.json']"
      ]
     },
     "execution_count": 50,
     "metadata": {},
     "output_type": "execute_result"
    }
   ],
   "source": [
    "os.listdir(BERT_PRETRAINED_DIR)"
   ]
  },
  {
   "cell_type": "code",
   "execution_count": 51,
   "metadata": {},
   "outputs": [],
   "source": [
    "import torch\n",
    "\n",
    "from pytorch_pretrained_bert import (BertConfig, BertForSequenceClassification, BertTokenizer, \n",
    "                                     BertModel, load_tf_weights_in_bert)"
   ]
  },
  {
   "cell_type": "code",
   "execution_count": 52,
   "metadata": {},
   "outputs": [],
   "source": [
    "bert_config = BertConfig.from_json_file(BERT_CONFIG_FILE)\n",
    "\n",
    "bert_model = BertForSequenceClassification(bert_config, num_labels=2)"
   ]
  },
  {
   "cell_type": "code",
   "execution_count": 53,
   "metadata": {},
   "outputs": [
    {
     "name": "stdout",
     "output_type": "stream",
     "text": [
      "Converting TensorFlow checkpoint from /home/dima/Projects/prj-nlp-2020/students/DimaSakovich/10-vectors/multi_cased_bert_base_uk/model.ckpt\n",
      "Loading TF weight bert/embeddings/LayerNorm/beta with shape [768]\n",
      "Loading TF weight bert/embeddings/LayerNorm/beta/adam_m with shape [768]\n",
      "Loading TF weight bert/embeddings/LayerNorm/beta/adam_v with shape [768]\n",
      "Loading TF weight bert/embeddings/LayerNorm/gamma with shape [768]\n",
      "Loading TF weight bert/embeddings/LayerNorm/gamma/adam_m with shape [768]\n",
      "Loading TF weight bert/embeddings/LayerNorm/gamma/adam_v with shape [768]\n",
      "Loading TF weight bert/embeddings/position_embeddings with shape [512, 768]\n",
      "Loading TF weight bert/embeddings/position_embeddings/adam_m with shape [512, 768]\n",
      "Loading TF weight bert/embeddings/position_embeddings/adam_v with shape [512, 768]\n",
      "Loading TF weight bert/embeddings/token_type_embeddings with shape [2, 768]\n",
      "Loading TF weight bert/embeddings/token_type_embeddings/adam_m with shape [2, 768]\n",
      "Loading TF weight bert/embeddings/token_type_embeddings/adam_v with shape [2, 768]\n",
      "Loading TF weight bert/embeddings/word_embeddings with shape [119547, 768]\n",
      "Loading TF weight bert/embeddings/word_embeddings/adam_m with shape [119547, 768]\n",
      "Loading TF weight bert/embeddings/word_embeddings/adam_v with shape [119547, 768]\n",
      "Loading TF weight bert/encoder/layer_0/attention/output/LayerNorm/beta with shape [768]\n",
      "Loading TF weight bert/encoder/layer_0/attention/output/LayerNorm/beta/adam_m with shape [768]\n",
      "Loading TF weight bert/encoder/layer_0/attention/output/LayerNorm/beta/adam_v with shape [768]\n",
      "Loading TF weight bert/encoder/layer_0/attention/output/LayerNorm/gamma with shape [768]\n",
      "Loading TF weight bert/encoder/layer_0/attention/output/LayerNorm/gamma/adam_m with shape [768]\n",
      "Loading TF weight bert/encoder/layer_0/attention/output/LayerNorm/gamma/adam_v with shape [768]\n",
      "Loading TF weight bert/encoder/layer_0/attention/output/dense/bias with shape [768]\n",
      "Loading TF weight bert/encoder/layer_0/attention/output/dense/bias/adam_m with shape [768]\n",
      "Loading TF weight bert/encoder/layer_0/attention/output/dense/bias/adam_v with shape [768]\n",
      "Loading TF weight bert/encoder/layer_0/attention/output/dense/kernel with shape [768, 768]\n",
      "Loading TF weight bert/encoder/layer_0/attention/output/dense/kernel/adam_m with shape [768, 768]\n",
      "Loading TF weight bert/encoder/layer_0/attention/output/dense/kernel/adam_v with shape [768, 768]\n",
      "Loading TF weight bert/encoder/layer_0/attention/self/key/bias with shape [768]\n",
      "Loading TF weight bert/encoder/layer_0/attention/self/key/bias/adam_m with shape [768]\n",
      "Loading TF weight bert/encoder/layer_0/attention/self/key/bias/adam_v with shape [768]\n",
      "Loading TF weight bert/encoder/layer_0/attention/self/key/kernel with shape [768, 768]\n",
      "Loading TF weight bert/encoder/layer_0/attention/self/key/kernel/adam_m with shape [768, 768]\n",
      "Loading TF weight bert/encoder/layer_0/attention/self/key/kernel/adam_v with shape [768, 768]\n",
      "Loading TF weight bert/encoder/layer_0/attention/self/query/bias with shape [768]\n",
      "Loading TF weight bert/encoder/layer_0/attention/self/query/bias/adam_m with shape [768]\n",
      "Loading TF weight bert/encoder/layer_0/attention/self/query/bias/adam_v with shape [768]\n",
      "Loading TF weight bert/encoder/layer_0/attention/self/query/kernel with shape [768, 768]\n",
      "Loading TF weight bert/encoder/layer_0/attention/self/query/kernel/adam_m with shape [768, 768]\n",
      "Loading TF weight bert/encoder/layer_0/attention/self/query/kernel/adam_v with shape [768, 768]\n",
      "Loading TF weight bert/encoder/layer_0/attention/self/value/bias with shape [768]\n",
      "Loading TF weight bert/encoder/layer_0/attention/self/value/bias/adam_m with shape [768]\n",
      "Loading TF weight bert/encoder/layer_0/attention/self/value/bias/adam_v with shape [768]\n",
      "Loading TF weight bert/encoder/layer_0/attention/self/value/kernel with shape [768, 768]\n",
      "Loading TF weight bert/encoder/layer_0/attention/self/value/kernel/adam_m with shape [768, 768]\n",
      "Loading TF weight bert/encoder/layer_0/attention/self/value/kernel/adam_v with shape [768, 768]\n",
      "Loading TF weight bert/encoder/layer_0/intermediate/dense/bias with shape [3072]\n",
      "Loading TF weight bert/encoder/layer_0/intermediate/dense/bias/adam_m with shape [3072]\n",
      "Loading TF weight bert/encoder/layer_0/intermediate/dense/bias/adam_v with shape [3072]\n",
      "Loading TF weight bert/encoder/layer_0/intermediate/dense/kernel with shape [768, 3072]\n",
      "Loading TF weight bert/encoder/layer_0/intermediate/dense/kernel/adam_m with shape [768, 3072]\n",
      "Loading TF weight bert/encoder/layer_0/intermediate/dense/kernel/adam_v with shape [768, 3072]\n",
      "Loading TF weight bert/encoder/layer_0/output/LayerNorm/beta with shape [768]\n",
      "Loading TF weight bert/encoder/layer_0/output/LayerNorm/beta/adam_m with shape [768]\n",
      "Loading TF weight bert/encoder/layer_0/output/LayerNorm/beta/adam_v with shape [768]\n",
      "Loading TF weight bert/encoder/layer_0/output/LayerNorm/gamma with shape [768]\n",
      "Loading TF weight bert/encoder/layer_0/output/LayerNorm/gamma/adam_m with shape [768]\n",
      "Loading TF weight bert/encoder/layer_0/output/LayerNorm/gamma/adam_v with shape [768]\n",
      "Loading TF weight bert/encoder/layer_0/output/dense/bias with shape [768]\n",
      "Loading TF weight bert/encoder/layer_0/output/dense/bias/adam_m with shape [768]\n",
      "Loading TF weight bert/encoder/layer_0/output/dense/bias/adam_v with shape [768]\n",
      "Loading TF weight bert/encoder/layer_0/output/dense/kernel with shape [3072, 768]\n",
      "Loading TF weight bert/encoder/layer_0/output/dense/kernel/adam_m with shape [3072, 768]\n",
      "Loading TF weight bert/encoder/layer_0/output/dense/kernel/adam_v with shape [3072, 768]\n",
      "Loading TF weight bert/encoder/layer_1/attention/output/LayerNorm/beta with shape [768]\n",
      "Loading TF weight bert/encoder/layer_1/attention/output/LayerNorm/beta/adam_m with shape [768]\n",
      "Loading TF weight bert/encoder/layer_1/attention/output/LayerNorm/beta/adam_v with shape [768]\n",
      "Loading TF weight bert/encoder/layer_1/attention/output/LayerNorm/gamma with shape [768]\n",
      "Loading TF weight bert/encoder/layer_1/attention/output/LayerNorm/gamma/adam_m with shape [768]\n",
      "Loading TF weight bert/encoder/layer_1/attention/output/LayerNorm/gamma/adam_v with shape [768]\n",
      "Loading TF weight bert/encoder/layer_1/attention/output/dense/bias with shape [768]\n",
      "Loading TF weight bert/encoder/layer_1/attention/output/dense/bias/adam_m with shape [768]\n",
      "Loading TF weight bert/encoder/layer_1/attention/output/dense/bias/adam_v with shape [768]\n",
      "Loading TF weight bert/encoder/layer_1/attention/output/dense/kernel with shape [768, 768]\n",
      "Loading TF weight bert/encoder/layer_1/attention/output/dense/kernel/adam_m with shape [768, 768]\n",
      "Loading TF weight bert/encoder/layer_1/attention/output/dense/kernel/adam_v with shape [768, 768]\n",
      "Loading TF weight bert/encoder/layer_1/attention/self/key/bias with shape [768]\n",
      "Loading TF weight bert/encoder/layer_1/attention/self/key/bias/adam_m with shape [768]\n",
      "Loading TF weight bert/encoder/layer_1/attention/self/key/bias/adam_v with shape [768]\n",
      "Loading TF weight bert/encoder/layer_1/attention/self/key/kernel with shape [768, 768]\n",
      "Loading TF weight bert/encoder/layer_1/attention/self/key/kernel/adam_m with shape [768, 768]\n",
      "Loading TF weight bert/encoder/layer_1/attention/self/key/kernel/adam_v with shape [768, 768]\n",
      "Loading TF weight bert/encoder/layer_1/attention/self/query/bias with shape [768]\n",
      "Loading TF weight bert/encoder/layer_1/attention/self/query/bias/adam_m with shape [768]\n",
      "Loading TF weight bert/encoder/layer_1/attention/self/query/bias/adam_v with shape [768]\n",
      "Loading TF weight bert/encoder/layer_1/attention/self/query/kernel with shape [768, 768]\n",
      "Loading TF weight bert/encoder/layer_1/attention/self/query/kernel/adam_m with shape [768, 768]\n",
      "Loading TF weight bert/encoder/layer_1/attention/self/query/kernel/adam_v with shape [768, 768]\n",
      "Loading TF weight bert/encoder/layer_1/attention/self/value/bias with shape [768]\n",
      "Loading TF weight bert/encoder/layer_1/attention/self/value/bias/adam_m with shape [768]\n",
      "Loading TF weight bert/encoder/layer_1/attention/self/value/bias/adam_v with shape [768]\n",
      "Loading TF weight bert/encoder/layer_1/attention/self/value/kernel with shape [768, 768]\n",
      "Loading TF weight bert/encoder/layer_1/attention/self/value/kernel/adam_m with shape [768, 768]\n",
      "Loading TF weight bert/encoder/layer_1/attention/self/value/kernel/adam_v with shape [768, 768]\n",
      "Loading TF weight bert/encoder/layer_1/intermediate/dense/bias with shape [3072]\n",
      "Loading TF weight bert/encoder/layer_1/intermediate/dense/bias/adam_m with shape [3072]\n",
      "Loading TF weight bert/encoder/layer_1/intermediate/dense/bias/adam_v with shape [3072]\n",
      "Loading TF weight bert/encoder/layer_1/intermediate/dense/kernel with shape [768, 3072]\n",
      "Loading TF weight bert/encoder/layer_1/intermediate/dense/kernel/adam_m with shape [768, 3072]\n",
      "Loading TF weight bert/encoder/layer_1/intermediate/dense/kernel/adam_v with shape [768, 3072]\n"
     ]
    },
    {
     "name": "stdout",
     "output_type": "stream",
     "text": [
      "Loading TF weight bert/encoder/layer_1/output/LayerNorm/beta with shape [768]\n",
      "Loading TF weight bert/encoder/layer_1/output/LayerNorm/beta/adam_m with shape [768]\n",
      "Loading TF weight bert/encoder/layer_1/output/LayerNorm/beta/adam_v with shape [768]\n",
      "Loading TF weight bert/encoder/layer_1/output/LayerNorm/gamma with shape [768]\n",
      "Loading TF weight bert/encoder/layer_1/output/LayerNorm/gamma/adam_m with shape [768]\n",
      "Loading TF weight bert/encoder/layer_1/output/LayerNorm/gamma/adam_v with shape [768]\n",
      "Loading TF weight bert/encoder/layer_1/output/dense/bias with shape [768]\n",
      "Loading TF weight bert/encoder/layer_1/output/dense/bias/adam_m with shape [768]\n",
      "Loading TF weight bert/encoder/layer_1/output/dense/bias/adam_v with shape [768]\n",
      "Loading TF weight bert/encoder/layer_1/output/dense/kernel with shape [3072, 768]\n",
      "Loading TF weight bert/encoder/layer_1/output/dense/kernel/adam_m with shape [3072, 768]\n",
      "Loading TF weight bert/encoder/layer_1/output/dense/kernel/adam_v with shape [3072, 768]\n",
      "Loading TF weight bert/encoder/layer_10/attention/output/LayerNorm/beta with shape [768]\n",
      "Loading TF weight bert/encoder/layer_10/attention/output/LayerNorm/beta/adam_m with shape [768]\n",
      "Loading TF weight bert/encoder/layer_10/attention/output/LayerNorm/beta/adam_v with shape [768]\n",
      "Loading TF weight bert/encoder/layer_10/attention/output/LayerNorm/gamma with shape [768]\n",
      "Loading TF weight bert/encoder/layer_10/attention/output/LayerNorm/gamma/adam_m with shape [768]\n",
      "Loading TF weight bert/encoder/layer_10/attention/output/LayerNorm/gamma/adam_v with shape [768]\n",
      "Loading TF weight bert/encoder/layer_10/attention/output/dense/bias with shape [768]\n",
      "Loading TF weight bert/encoder/layer_10/attention/output/dense/bias/adam_m with shape [768]\n",
      "Loading TF weight bert/encoder/layer_10/attention/output/dense/bias/adam_v with shape [768]\n",
      "Loading TF weight bert/encoder/layer_10/attention/output/dense/kernel with shape [768, 768]\n",
      "Loading TF weight bert/encoder/layer_10/attention/output/dense/kernel/adam_m with shape [768, 768]\n",
      "Loading TF weight bert/encoder/layer_10/attention/output/dense/kernel/adam_v with shape [768, 768]\n",
      "Loading TF weight bert/encoder/layer_10/attention/self/key/bias with shape [768]\n",
      "Loading TF weight bert/encoder/layer_10/attention/self/key/bias/adam_m with shape [768]\n",
      "Loading TF weight bert/encoder/layer_10/attention/self/key/bias/adam_v with shape [768]\n",
      "Loading TF weight bert/encoder/layer_10/attention/self/key/kernel with shape [768, 768]\n",
      "Loading TF weight bert/encoder/layer_10/attention/self/key/kernel/adam_m with shape [768, 768]\n",
      "Loading TF weight bert/encoder/layer_10/attention/self/key/kernel/adam_v with shape [768, 768]\n",
      "Loading TF weight bert/encoder/layer_10/attention/self/query/bias with shape [768]\n",
      "Loading TF weight bert/encoder/layer_10/attention/self/query/bias/adam_m with shape [768]\n",
      "Loading TF weight bert/encoder/layer_10/attention/self/query/bias/adam_v with shape [768]\n",
      "Loading TF weight bert/encoder/layer_10/attention/self/query/kernel with shape [768, 768]\n",
      "Loading TF weight bert/encoder/layer_10/attention/self/query/kernel/adam_m with shape [768, 768]\n",
      "Loading TF weight bert/encoder/layer_10/attention/self/query/kernel/adam_v with shape [768, 768]\n",
      "Loading TF weight bert/encoder/layer_10/attention/self/value/bias with shape [768]\n",
      "Loading TF weight bert/encoder/layer_10/attention/self/value/bias/adam_m with shape [768]\n",
      "Loading TF weight bert/encoder/layer_10/attention/self/value/bias/adam_v with shape [768]\n",
      "Loading TF weight bert/encoder/layer_10/attention/self/value/kernel with shape [768, 768]\n",
      "Loading TF weight bert/encoder/layer_10/attention/self/value/kernel/adam_m with shape [768, 768]\n",
      "Loading TF weight bert/encoder/layer_10/attention/self/value/kernel/adam_v with shape [768, 768]\n",
      "Loading TF weight bert/encoder/layer_10/intermediate/dense/bias with shape [3072]\n",
      "Loading TF weight bert/encoder/layer_10/intermediate/dense/bias/adam_m with shape [3072]\n",
      "Loading TF weight bert/encoder/layer_10/intermediate/dense/bias/adam_v with shape [3072]\n",
      "Loading TF weight bert/encoder/layer_10/intermediate/dense/kernel with shape [768, 3072]\n",
      "Loading TF weight bert/encoder/layer_10/intermediate/dense/kernel/adam_m with shape [768, 3072]\n",
      "Loading TF weight bert/encoder/layer_10/intermediate/dense/kernel/adam_v with shape [768, 3072]\n",
      "Loading TF weight bert/encoder/layer_10/output/LayerNorm/beta with shape [768]\n",
      "Loading TF weight bert/encoder/layer_10/output/LayerNorm/beta/adam_m with shape [768]\n",
      "Loading TF weight bert/encoder/layer_10/output/LayerNorm/beta/adam_v with shape [768]\n",
      "Loading TF weight bert/encoder/layer_10/output/LayerNorm/gamma with shape [768]\n",
      "Loading TF weight bert/encoder/layer_10/output/LayerNorm/gamma/adam_m with shape [768]\n",
      "Loading TF weight bert/encoder/layer_10/output/LayerNorm/gamma/adam_v with shape [768]\n",
      "Loading TF weight bert/encoder/layer_10/output/dense/bias with shape [768]\n",
      "Loading TF weight bert/encoder/layer_10/output/dense/bias/adam_m with shape [768]\n",
      "Loading TF weight bert/encoder/layer_10/output/dense/bias/adam_v with shape [768]\n",
      "Loading TF weight bert/encoder/layer_10/output/dense/kernel with shape [3072, 768]\n",
      "Loading TF weight bert/encoder/layer_10/output/dense/kernel/adam_m with shape [3072, 768]\n",
      "Loading TF weight bert/encoder/layer_10/output/dense/kernel/adam_v with shape [3072, 768]\n",
      "Loading TF weight bert/encoder/layer_11/attention/output/LayerNorm/beta with shape [768]\n",
      "Loading TF weight bert/encoder/layer_11/attention/output/LayerNorm/beta/adam_m with shape [768]\n",
      "Loading TF weight bert/encoder/layer_11/attention/output/LayerNorm/beta/adam_v with shape [768]\n",
      "Loading TF weight bert/encoder/layer_11/attention/output/LayerNorm/gamma with shape [768]\n",
      "Loading TF weight bert/encoder/layer_11/attention/output/LayerNorm/gamma/adam_m with shape [768]\n",
      "Loading TF weight bert/encoder/layer_11/attention/output/LayerNorm/gamma/adam_v with shape [768]\n",
      "Loading TF weight bert/encoder/layer_11/attention/output/dense/bias with shape [768]\n",
      "Loading TF weight bert/encoder/layer_11/attention/output/dense/bias/adam_m with shape [768]\n",
      "Loading TF weight bert/encoder/layer_11/attention/output/dense/bias/adam_v with shape [768]\n",
      "Loading TF weight bert/encoder/layer_11/attention/output/dense/kernel with shape [768, 768]\n",
      "Loading TF weight bert/encoder/layer_11/attention/output/dense/kernel/adam_m with shape [768, 768]\n",
      "Loading TF weight bert/encoder/layer_11/attention/output/dense/kernel/adam_v with shape [768, 768]\n",
      "Loading TF weight bert/encoder/layer_11/attention/self/key/bias with shape [768]\n",
      "Loading TF weight bert/encoder/layer_11/attention/self/key/bias/adam_m with shape [768]\n",
      "Loading TF weight bert/encoder/layer_11/attention/self/key/bias/adam_v with shape [768]\n",
      "Loading TF weight bert/encoder/layer_11/attention/self/key/kernel with shape [768, 768]\n",
      "Loading TF weight bert/encoder/layer_11/attention/self/key/kernel/adam_m with shape [768, 768]\n",
      "Loading TF weight bert/encoder/layer_11/attention/self/key/kernel/adam_v with shape [768, 768]\n",
      "Loading TF weight bert/encoder/layer_11/attention/self/query/bias with shape [768]\n",
      "Loading TF weight bert/encoder/layer_11/attention/self/query/bias/adam_m with shape [768]\n",
      "Loading TF weight bert/encoder/layer_11/attention/self/query/bias/adam_v with shape [768]\n",
      "Loading TF weight bert/encoder/layer_11/attention/self/query/kernel with shape [768, 768]\n",
      "Loading TF weight bert/encoder/layer_11/attention/self/query/kernel/adam_m with shape [768, 768]\n",
      "Loading TF weight bert/encoder/layer_11/attention/self/query/kernel/adam_v with shape [768, 768]\n",
      "Loading TF weight bert/encoder/layer_11/attention/self/value/bias with shape [768]\n",
      "Loading TF weight bert/encoder/layer_11/attention/self/value/bias/adam_m with shape [768]\n",
      "Loading TF weight bert/encoder/layer_11/attention/self/value/bias/adam_v with shape [768]\n",
      "Loading TF weight bert/encoder/layer_11/attention/self/value/kernel with shape [768, 768]\n",
      "Loading TF weight bert/encoder/layer_11/attention/self/value/kernel/adam_m with shape [768, 768]\n",
      "Loading TF weight bert/encoder/layer_11/attention/self/value/kernel/adam_v with shape [768, 768]\n",
      "Loading TF weight bert/encoder/layer_11/intermediate/dense/bias with shape [3072]\n",
      "Loading TF weight bert/encoder/layer_11/intermediate/dense/bias/adam_m with shape [3072]\n",
      "Loading TF weight bert/encoder/layer_11/intermediate/dense/bias/adam_v with shape [3072]\n",
      "Loading TF weight bert/encoder/layer_11/intermediate/dense/kernel with shape [768, 3072]\n",
      "Loading TF weight bert/encoder/layer_11/intermediate/dense/kernel/adam_m with shape [768, 3072]\n",
      "Loading TF weight bert/encoder/layer_11/intermediate/dense/kernel/adam_v with shape [768, 3072]\n",
      "Loading TF weight bert/encoder/layer_11/output/LayerNorm/beta with shape [768]\n",
      "Loading TF weight bert/encoder/layer_11/output/LayerNorm/beta/adam_m with shape [768]\n",
      "Loading TF weight bert/encoder/layer_11/output/LayerNorm/beta/adam_v with shape [768]\n",
      "Loading TF weight bert/encoder/layer_11/output/LayerNorm/gamma with shape [768]\n",
      "Loading TF weight bert/encoder/layer_11/output/LayerNorm/gamma/adam_m with shape [768]\n",
      "Loading TF weight bert/encoder/layer_11/output/LayerNorm/gamma/adam_v with shape [768]\n",
      "Loading TF weight bert/encoder/layer_11/output/dense/bias with shape [768]\n",
      "Loading TF weight bert/encoder/layer_11/output/dense/bias/adam_m with shape [768]\n",
      "Loading TF weight bert/encoder/layer_11/output/dense/bias/adam_v with shape [768]\n",
      "Loading TF weight bert/encoder/layer_11/output/dense/kernel with shape [3072, 768]\n"
     ]
    },
    {
     "name": "stdout",
     "output_type": "stream",
     "text": [
      "Loading TF weight bert/encoder/layer_11/output/dense/kernel/adam_m with shape [3072, 768]\n",
      "Loading TF weight bert/encoder/layer_11/output/dense/kernel/adam_v with shape [3072, 768]\n",
      "Loading TF weight bert/encoder/layer_2/attention/output/LayerNorm/beta with shape [768]\n",
      "Loading TF weight bert/encoder/layer_2/attention/output/LayerNorm/beta/adam_m with shape [768]\n",
      "Loading TF weight bert/encoder/layer_2/attention/output/LayerNorm/beta/adam_v with shape [768]\n",
      "Loading TF weight bert/encoder/layer_2/attention/output/LayerNorm/gamma with shape [768]\n",
      "Loading TF weight bert/encoder/layer_2/attention/output/LayerNorm/gamma/adam_m with shape [768]\n",
      "Loading TF weight bert/encoder/layer_2/attention/output/LayerNorm/gamma/adam_v with shape [768]\n",
      "Loading TF weight bert/encoder/layer_2/attention/output/dense/bias with shape [768]\n",
      "Loading TF weight bert/encoder/layer_2/attention/output/dense/bias/adam_m with shape [768]\n",
      "Loading TF weight bert/encoder/layer_2/attention/output/dense/bias/adam_v with shape [768]\n",
      "Loading TF weight bert/encoder/layer_2/attention/output/dense/kernel with shape [768, 768]\n",
      "Loading TF weight bert/encoder/layer_2/attention/output/dense/kernel/adam_m with shape [768, 768]\n",
      "Loading TF weight bert/encoder/layer_2/attention/output/dense/kernel/adam_v with shape [768, 768]\n",
      "Loading TF weight bert/encoder/layer_2/attention/self/key/bias with shape [768]\n",
      "Loading TF weight bert/encoder/layer_2/attention/self/key/bias/adam_m with shape [768]\n",
      "Loading TF weight bert/encoder/layer_2/attention/self/key/bias/adam_v with shape [768]\n",
      "Loading TF weight bert/encoder/layer_2/attention/self/key/kernel with shape [768, 768]\n",
      "Loading TF weight bert/encoder/layer_2/attention/self/key/kernel/adam_m with shape [768, 768]\n",
      "Loading TF weight bert/encoder/layer_2/attention/self/key/kernel/adam_v with shape [768, 768]\n",
      "Loading TF weight bert/encoder/layer_2/attention/self/query/bias with shape [768]\n",
      "Loading TF weight bert/encoder/layer_2/attention/self/query/bias/adam_m with shape [768]\n",
      "Loading TF weight bert/encoder/layer_2/attention/self/query/bias/adam_v with shape [768]\n",
      "Loading TF weight bert/encoder/layer_2/attention/self/query/kernel with shape [768, 768]\n",
      "Loading TF weight bert/encoder/layer_2/attention/self/query/kernel/adam_m with shape [768, 768]\n",
      "Loading TF weight bert/encoder/layer_2/attention/self/query/kernel/adam_v with shape [768, 768]\n",
      "Loading TF weight bert/encoder/layer_2/attention/self/value/bias with shape [768]\n",
      "Loading TF weight bert/encoder/layer_2/attention/self/value/bias/adam_m with shape [768]\n",
      "Loading TF weight bert/encoder/layer_2/attention/self/value/bias/adam_v with shape [768]\n",
      "Loading TF weight bert/encoder/layer_2/attention/self/value/kernel with shape [768, 768]\n",
      "Loading TF weight bert/encoder/layer_2/attention/self/value/kernel/adam_m with shape [768, 768]\n",
      "Loading TF weight bert/encoder/layer_2/attention/self/value/kernel/adam_v with shape [768, 768]\n",
      "Loading TF weight bert/encoder/layer_2/intermediate/dense/bias with shape [3072]\n",
      "Loading TF weight bert/encoder/layer_2/intermediate/dense/bias/adam_m with shape [3072]\n",
      "Loading TF weight bert/encoder/layer_2/intermediate/dense/bias/adam_v with shape [3072]\n",
      "Loading TF weight bert/encoder/layer_2/intermediate/dense/kernel with shape [768, 3072]\n",
      "Loading TF weight bert/encoder/layer_2/intermediate/dense/kernel/adam_m with shape [768, 3072]\n",
      "Loading TF weight bert/encoder/layer_2/intermediate/dense/kernel/adam_v with shape [768, 3072]\n",
      "Loading TF weight bert/encoder/layer_2/output/LayerNorm/beta with shape [768]\n",
      "Loading TF weight bert/encoder/layer_2/output/LayerNorm/beta/adam_m with shape [768]\n",
      "Loading TF weight bert/encoder/layer_2/output/LayerNorm/beta/adam_v with shape [768]\n",
      "Loading TF weight bert/encoder/layer_2/output/LayerNorm/gamma with shape [768]\n",
      "Loading TF weight bert/encoder/layer_2/output/LayerNorm/gamma/adam_m with shape [768]\n",
      "Loading TF weight bert/encoder/layer_2/output/LayerNorm/gamma/adam_v with shape [768]\n",
      "Loading TF weight bert/encoder/layer_2/output/dense/bias with shape [768]\n",
      "Loading TF weight bert/encoder/layer_2/output/dense/bias/adam_m with shape [768]\n",
      "Loading TF weight bert/encoder/layer_2/output/dense/bias/adam_v with shape [768]\n",
      "Loading TF weight bert/encoder/layer_2/output/dense/kernel with shape [3072, 768]\n",
      "Loading TF weight bert/encoder/layer_2/output/dense/kernel/adam_m with shape [3072, 768]\n",
      "Loading TF weight bert/encoder/layer_2/output/dense/kernel/adam_v with shape [3072, 768]\n",
      "Loading TF weight bert/encoder/layer_3/attention/output/LayerNorm/beta with shape [768]\n",
      "Loading TF weight bert/encoder/layer_3/attention/output/LayerNorm/beta/adam_m with shape [768]\n",
      "Loading TF weight bert/encoder/layer_3/attention/output/LayerNorm/beta/adam_v with shape [768]\n",
      "Loading TF weight bert/encoder/layer_3/attention/output/LayerNorm/gamma with shape [768]\n",
      "Loading TF weight bert/encoder/layer_3/attention/output/LayerNorm/gamma/adam_m with shape [768]\n",
      "Loading TF weight bert/encoder/layer_3/attention/output/LayerNorm/gamma/adam_v with shape [768]\n",
      "Loading TF weight bert/encoder/layer_3/attention/output/dense/bias with shape [768]\n",
      "Loading TF weight bert/encoder/layer_3/attention/output/dense/bias/adam_m with shape [768]\n",
      "Loading TF weight bert/encoder/layer_3/attention/output/dense/bias/adam_v with shape [768]\n",
      "Loading TF weight bert/encoder/layer_3/attention/output/dense/kernel with shape [768, 768]\n",
      "Loading TF weight bert/encoder/layer_3/attention/output/dense/kernel/adam_m with shape [768, 768]\n",
      "Loading TF weight bert/encoder/layer_3/attention/output/dense/kernel/adam_v with shape [768, 768]\n",
      "Loading TF weight bert/encoder/layer_3/attention/self/key/bias with shape [768]\n",
      "Loading TF weight bert/encoder/layer_3/attention/self/key/bias/adam_m with shape [768]\n",
      "Loading TF weight bert/encoder/layer_3/attention/self/key/bias/adam_v with shape [768]\n",
      "Loading TF weight bert/encoder/layer_3/attention/self/key/kernel with shape [768, 768]\n",
      "Loading TF weight bert/encoder/layer_3/attention/self/key/kernel/adam_m with shape [768, 768]\n",
      "Loading TF weight bert/encoder/layer_3/attention/self/key/kernel/adam_v with shape [768, 768]\n",
      "Loading TF weight bert/encoder/layer_3/attention/self/query/bias with shape [768]\n",
      "Loading TF weight bert/encoder/layer_3/attention/self/query/bias/adam_m with shape [768]\n",
      "Loading TF weight bert/encoder/layer_3/attention/self/query/bias/adam_v with shape [768]\n",
      "Loading TF weight bert/encoder/layer_3/attention/self/query/kernel with shape [768, 768]\n",
      "Loading TF weight bert/encoder/layer_3/attention/self/query/kernel/adam_m with shape [768, 768]\n",
      "Loading TF weight bert/encoder/layer_3/attention/self/query/kernel/adam_v with shape [768, 768]\n",
      "Loading TF weight bert/encoder/layer_3/attention/self/value/bias with shape [768]\n",
      "Loading TF weight bert/encoder/layer_3/attention/self/value/bias/adam_m with shape [768]\n",
      "Loading TF weight bert/encoder/layer_3/attention/self/value/bias/adam_v with shape [768]\n",
      "Loading TF weight bert/encoder/layer_3/attention/self/value/kernel with shape [768, 768]\n",
      "Loading TF weight bert/encoder/layer_3/attention/self/value/kernel/adam_m with shape [768, 768]\n",
      "Loading TF weight bert/encoder/layer_3/attention/self/value/kernel/adam_v with shape [768, 768]\n",
      "Loading TF weight bert/encoder/layer_3/intermediate/dense/bias with shape [3072]\n",
      "Loading TF weight bert/encoder/layer_3/intermediate/dense/bias/adam_m with shape [3072]\n",
      "Loading TF weight bert/encoder/layer_3/intermediate/dense/bias/adam_v with shape [3072]\n",
      "Loading TF weight bert/encoder/layer_3/intermediate/dense/kernel with shape [768, 3072]\n",
      "Loading TF weight bert/encoder/layer_3/intermediate/dense/kernel/adam_m with shape [768, 3072]\n",
      "Loading TF weight bert/encoder/layer_3/intermediate/dense/kernel/adam_v with shape [768, 3072]\n",
      "Loading TF weight bert/encoder/layer_3/output/LayerNorm/beta with shape [768]\n",
      "Loading TF weight bert/encoder/layer_3/output/LayerNorm/beta/adam_m with shape [768]\n",
      "Loading TF weight bert/encoder/layer_3/output/LayerNorm/beta/adam_v with shape [768]\n",
      "Loading TF weight bert/encoder/layer_3/output/LayerNorm/gamma with shape [768]\n",
      "Loading TF weight bert/encoder/layer_3/output/LayerNorm/gamma/adam_m with shape [768]\n",
      "Loading TF weight bert/encoder/layer_3/output/LayerNorm/gamma/adam_v with shape [768]\n",
      "Loading TF weight bert/encoder/layer_3/output/dense/bias with shape [768]\n",
      "Loading TF weight bert/encoder/layer_3/output/dense/bias/adam_m with shape [768]\n",
      "Loading TF weight bert/encoder/layer_3/output/dense/bias/adam_v with shape [768]\n",
      "Loading TF weight bert/encoder/layer_3/output/dense/kernel with shape [3072, 768]\n",
      "Loading TF weight bert/encoder/layer_3/output/dense/kernel/adam_m with shape [3072, 768]\n",
      "Loading TF weight bert/encoder/layer_3/output/dense/kernel/adam_v with shape [3072, 768]\n"
     ]
    },
    {
     "name": "stdout",
     "output_type": "stream",
     "text": [
      "Loading TF weight bert/encoder/layer_4/attention/output/LayerNorm/beta with shape [768]\n",
      "Loading TF weight bert/encoder/layer_4/attention/output/LayerNorm/beta/adam_m with shape [768]\n",
      "Loading TF weight bert/encoder/layer_4/attention/output/LayerNorm/beta/adam_v with shape [768]\n",
      "Loading TF weight bert/encoder/layer_4/attention/output/LayerNorm/gamma with shape [768]\n",
      "Loading TF weight bert/encoder/layer_4/attention/output/LayerNorm/gamma/adam_m with shape [768]\n",
      "Loading TF weight bert/encoder/layer_4/attention/output/LayerNorm/gamma/adam_v with shape [768]\n",
      "Loading TF weight bert/encoder/layer_4/attention/output/dense/bias with shape [768]\n",
      "Loading TF weight bert/encoder/layer_4/attention/output/dense/bias/adam_m with shape [768]\n",
      "Loading TF weight bert/encoder/layer_4/attention/output/dense/bias/adam_v with shape [768]\n",
      "Loading TF weight bert/encoder/layer_4/attention/output/dense/kernel with shape [768, 768]\n",
      "Loading TF weight bert/encoder/layer_4/attention/output/dense/kernel/adam_m with shape [768, 768]\n",
      "Loading TF weight bert/encoder/layer_4/attention/output/dense/kernel/adam_v with shape [768, 768]\n",
      "Loading TF weight bert/encoder/layer_4/attention/self/key/bias with shape [768]\n",
      "Loading TF weight bert/encoder/layer_4/attention/self/key/bias/adam_m with shape [768]\n",
      "Loading TF weight bert/encoder/layer_4/attention/self/key/bias/adam_v with shape [768]\n",
      "Loading TF weight bert/encoder/layer_4/attention/self/key/kernel with shape [768, 768]\n",
      "Loading TF weight bert/encoder/layer_4/attention/self/key/kernel/adam_m with shape [768, 768]\n",
      "Loading TF weight bert/encoder/layer_4/attention/self/key/kernel/adam_v with shape [768, 768]\n",
      "Loading TF weight bert/encoder/layer_4/attention/self/query/bias with shape [768]\n",
      "Loading TF weight bert/encoder/layer_4/attention/self/query/bias/adam_m with shape [768]\n",
      "Loading TF weight bert/encoder/layer_4/attention/self/query/bias/adam_v with shape [768]\n",
      "Loading TF weight bert/encoder/layer_4/attention/self/query/kernel with shape [768, 768]\n",
      "Loading TF weight bert/encoder/layer_4/attention/self/query/kernel/adam_m with shape [768, 768]\n",
      "Loading TF weight bert/encoder/layer_4/attention/self/query/kernel/adam_v with shape [768, 768]\n",
      "Loading TF weight bert/encoder/layer_4/attention/self/value/bias with shape [768]\n",
      "Loading TF weight bert/encoder/layer_4/attention/self/value/bias/adam_m with shape [768]\n",
      "Loading TF weight bert/encoder/layer_4/attention/self/value/bias/adam_v with shape [768]\n",
      "Loading TF weight bert/encoder/layer_4/attention/self/value/kernel with shape [768, 768]\n",
      "Loading TF weight bert/encoder/layer_4/attention/self/value/kernel/adam_m with shape [768, 768]\n",
      "Loading TF weight bert/encoder/layer_4/attention/self/value/kernel/adam_v with shape [768, 768]\n",
      "Loading TF weight bert/encoder/layer_4/intermediate/dense/bias with shape [3072]\n",
      "Loading TF weight bert/encoder/layer_4/intermediate/dense/bias/adam_m with shape [3072]\n",
      "Loading TF weight bert/encoder/layer_4/intermediate/dense/bias/adam_v with shape [3072]\n",
      "Loading TF weight bert/encoder/layer_4/intermediate/dense/kernel with shape [768, 3072]\n",
      "Loading TF weight bert/encoder/layer_4/intermediate/dense/kernel/adam_m with shape [768, 3072]\n",
      "Loading TF weight bert/encoder/layer_4/intermediate/dense/kernel/adam_v with shape [768, 3072]\n",
      "Loading TF weight bert/encoder/layer_4/output/LayerNorm/beta with shape [768]\n",
      "Loading TF weight bert/encoder/layer_4/output/LayerNorm/beta/adam_m with shape [768]\n",
      "Loading TF weight bert/encoder/layer_4/output/LayerNorm/beta/adam_v with shape [768]\n",
      "Loading TF weight bert/encoder/layer_4/output/LayerNorm/gamma with shape [768]\n",
      "Loading TF weight bert/encoder/layer_4/output/LayerNorm/gamma/adam_m with shape [768]\n",
      "Loading TF weight bert/encoder/layer_4/output/LayerNorm/gamma/adam_v with shape [768]\n",
      "Loading TF weight bert/encoder/layer_4/output/dense/bias with shape [768]\n",
      "Loading TF weight bert/encoder/layer_4/output/dense/bias/adam_m with shape [768]\n",
      "Loading TF weight bert/encoder/layer_4/output/dense/bias/adam_v with shape [768]\n",
      "Loading TF weight bert/encoder/layer_4/output/dense/kernel with shape [3072, 768]\n",
      "Loading TF weight bert/encoder/layer_4/output/dense/kernel/adam_m with shape [3072, 768]\n",
      "Loading TF weight bert/encoder/layer_4/output/dense/kernel/adam_v with shape [3072, 768]\n",
      "Loading TF weight bert/encoder/layer_5/attention/output/LayerNorm/beta with shape [768]\n",
      "Loading TF weight bert/encoder/layer_5/attention/output/LayerNorm/beta/adam_m with shape [768]\n",
      "Loading TF weight bert/encoder/layer_5/attention/output/LayerNorm/beta/adam_v with shape [768]\n",
      "Loading TF weight bert/encoder/layer_5/attention/output/LayerNorm/gamma with shape [768]\n",
      "Loading TF weight bert/encoder/layer_5/attention/output/LayerNorm/gamma/adam_m with shape [768]\n",
      "Loading TF weight bert/encoder/layer_5/attention/output/LayerNorm/gamma/adam_v with shape [768]\n",
      "Loading TF weight bert/encoder/layer_5/attention/output/dense/bias with shape [768]\n",
      "Loading TF weight bert/encoder/layer_5/attention/output/dense/bias/adam_m with shape [768]\n",
      "Loading TF weight bert/encoder/layer_5/attention/output/dense/bias/adam_v with shape [768]\n",
      "Loading TF weight bert/encoder/layer_5/attention/output/dense/kernel with shape [768, 768]\n",
      "Loading TF weight bert/encoder/layer_5/attention/output/dense/kernel/adam_m with shape [768, 768]\n",
      "Loading TF weight bert/encoder/layer_5/attention/output/dense/kernel/adam_v with shape [768, 768]\n",
      "Loading TF weight bert/encoder/layer_5/attention/self/key/bias with shape [768]\n",
      "Loading TF weight bert/encoder/layer_5/attention/self/key/bias/adam_m with shape [768]\n",
      "Loading TF weight bert/encoder/layer_5/attention/self/key/bias/adam_v with shape [768]\n",
      "Loading TF weight bert/encoder/layer_5/attention/self/key/kernel with shape [768, 768]\n",
      "Loading TF weight bert/encoder/layer_5/attention/self/key/kernel/adam_m with shape [768, 768]\n",
      "Loading TF weight bert/encoder/layer_5/attention/self/key/kernel/adam_v with shape [768, 768]\n",
      "Loading TF weight bert/encoder/layer_5/attention/self/query/bias with shape [768]\n",
      "Loading TF weight bert/encoder/layer_5/attention/self/query/bias/adam_m with shape [768]\n",
      "Loading TF weight bert/encoder/layer_5/attention/self/query/bias/adam_v with shape [768]\n",
      "Loading TF weight bert/encoder/layer_5/attention/self/query/kernel with shape [768, 768]\n",
      "Loading TF weight bert/encoder/layer_5/attention/self/query/kernel/adam_m with shape [768, 768]\n",
      "Loading TF weight bert/encoder/layer_5/attention/self/query/kernel/adam_v with shape [768, 768]\n",
      "Loading TF weight bert/encoder/layer_5/attention/self/value/bias with shape [768]\n",
      "Loading TF weight bert/encoder/layer_5/attention/self/value/bias/adam_m with shape [768]\n",
      "Loading TF weight bert/encoder/layer_5/attention/self/value/bias/adam_v with shape [768]\n",
      "Loading TF weight bert/encoder/layer_5/attention/self/value/kernel with shape [768, 768]\n",
      "Loading TF weight bert/encoder/layer_5/attention/self/value/kernel/adam_m with shape [768, 768]\n",
      "Loading TF weight bert/encoder/layer_5/attention/self/value/kernel/adam_v with shape [768, 768]\n",
      "Loading TF weight bert/encoder/layer_5/intermediate/dense/bias with shape [3072]\n",
      "Loading TF weight bert/encoder/layer_5/intermediate/dense/bias/adam_m with shape [3072]\n",
      "Loading TF weight bert/encoder/layer_5/intermediate/dense/bias/adam_v with shape [3072]\n",
      "Loading TF weight bert/encoder/layer_5/intermediate/dense/kernel with shape [768, 3072]\n",
      "Loading TF weight bert/encoder/layer_5/intermediate/dense/kernel/adam_m with shape [768, 3072]\n",
      "Loading TF weight bert/encoder/layer_5/intermediate/dense/kernel/adam_v with shape [768, 3072]\n",
      "Loading TF weight bert/encoder/layer_5/output/LayerNorm/beta with shape [768]\n",
      "Loading TF weight bert/encoder/layer_5/output/LayerNorm/beta/adam_m with shape [768]\n",
      "Loading TF weight bert/encoder/layer_5/output/LayerNorm/beta/adam_v with shape [768]\n",
      "Loading TF weight bert/encoder/layer_5/output/LayerNorm/gamma with shape [768]\n",
      "Loading TF weight bert/encoder/layer_5/output/LayerNorm/gamma/adam_m with shape [768]\n",
      "Loading TF weight bert/encoder/layer_5/output/LayerNorm/gamma/adam_v with shape [768]\n",
      "Loading TF weight bert/encoder/layer_5/output/dense/bias with shape [768]\n",
      "Loading TF weight bert/encoder/layer_5/output/dense/bias/adam_m with shape [768]\n",
      "Loading TF weight bert/encoder/layer_5/output/dense/bias/adam_v with shape [768]\n",
      "Loading TF weight bert/encoder/layer_5/output/dense/kernel with shape [3072, 768]\n",
      "Loading TF weight bert/encoder/layer_5/output/dense/kernel/adam_m with shape [3072, 768]\n",
      "Loading TF weight bert/encoder/layer_5/output/dense/kernel/adam_v with shape [3072, 768]\n",
      "Loading TF weight bert/encoder/layer_6/attention/output/LayerNorm/beta with shape [768]\n",
      "Loading TF weight bert/encoder/layer_6/attention/output/LayerNorm/beta/adam_m with shape [768]\n",
      "Loading TF weight bert/encoder/layer_6/attention/output/LayerNorm/beta/adam_v with shape [768]\n",
      "Loading TF weight bert/encoder/layer_6/attention/output/LayerNorm/gamma with shape [768]\n",
      "Loading TF weight bert/encoder/layer_6/attention/output/LayerNorm/gamma/adam_m with shape [768]\n",
      "Loading TF weight bert/encoder/layer_6/attention/output/LayerNorm/gamma/adam_v with shape [768]\n",
      "Loading TF weight bert/encoder/layer_6/attention/output/dense/bias with shape [768]\n",
      "Loading TF weight bert/encoder/layer_6/attention/output/dense/bias/adam_m with shape [768]\n",
      "Loading TF weight bert/encoder/layer_6/attention/output/dense/bias/adam_v with shape [768]\n",
      "Loading TF weight bert/encoder/layer_6/attention/output/dense/kernel with shape [768, 768]\n",
      "Loading TF weight bert/encoder/layer_6/attention/output/dense/kernel/adam_m with shape [768, 768]\n",
      "Loading TF weight bert/encoder/layer_6/attention/output/dense/kernel/adam_v with shape [768, 768]\n",
      "Loading TF weight bert/encoder/layer_6/attention/self/key/bias with shape [768]\n"
     ]
    },
    {
     "name": "stdout",
     "output_type": "stream",
     "text": [
      "Loading TF weight bert/encoder/layer_6/attention/self/key/bias/adam_m with shape [768]\n",
      "Loading TF weight bert/encoder/layer_6/attention/self/key/bias/adam_v with shape [768]\n",
      "Loading TF weight bert/encoder/layer_6/attention/self/key/kernel with shape [768, 768]\n",
      "Loading TF weight bert/encoder/layer_6/attention/self/key/kernel/adam_m with shape [768, 768]\n",
      "Loading TF weight bert/encoder/layer_6/attention/self/key/kernel/adam_v with shape [768, 768]\n",
      "Loading TF weight bert/encoder/layer_6/attention/self/query/bias with shape [768]\n",
      "Loading TF weight bert/encoder/layer_6/attention/self/query/bias/adam_m with shape [768]\n",
      "Loading TF weight bert/encoder/layer_6/attention/self/query/bias/adam_v with shape [768]\n",
      "Loading TF weight bert/encoder/layer_6/attention/self/query/kernel with shape [768, 768]\n",
      "Loading TF weight bert/encoder/layer_6/attention/self/query/kernel/adam_m with shape [768, 768]\n",
      "Loading TF weight bert/encoder/layer_6/attention/self/query/kernel/adam_v with shape [768, 768]\n",
      "Loading TF weight bert/encoder/layer_6/attention/self/value/bias with shape [768]\n",
      "Loading TF weight bert/encoder/layer_6/attention/self/value/bias/adam_m with shape [768]\n",
      "Loading TF weight bert/encoder/layer_6/attention/self/value/bias/adam_v with shape [768]\n",
      "Loading TF weight bert/encoder/layer_6/attention/self/value/kernel with shape [768, 768]\n",
      "Loading TF weight bert/encoder/layer_6/attention/self/value/kernel/adam_m with shape [768, 768]\n",
      "Loading TF weight bert/encoder/layer_6/attention/self/value/kernel/adam_v with shape [768, 768]\n",
      "Loading TF weight bert/encoder/layer_6/intermediate/dense/bias with shape [3072]\n",
      "Loading TF weight bert/encoder/layer_6/intermediate/dense/bias/adam_m with shape [3072]\n",
      "Loading TF weight bert/encoder/layer_6/intermediate/dense/bias/adam_v with shape [3072]\n",
      "Loading TF weight bert/encoder/layer_6/intermediate/dense/kernel with shape [768, 3072]\n",
      "Loading TF weight bert/encoder/layer_6/intermediate/dense/kernel/adam_m with shape [768, 3072]\n",
      "Loading TF weight bert/encoder/layer_6/intermediate/dense/kernel/adam_v with shape [768, 3072]\n",
      "Loading TF weight bert/encoder/layer_6/output/LayerNorm/beta with shape [768]\n",
      "Loading TF weight bert/encoder/layer_6/output/LayerNorm/beta/adam_m with shape [768]\n",
      "Loading TF weight bert/encoder/layer_6/output/LayerNorm/beta/adam_v with shape [768]\n",
      "Loading TF weight bert/encoder/layer_6/output/LayerNorm/gamma with shape [768]\n",
      "Loading TF weight bert/encoder/layer_6/output/LayerNorm/gamma/adam_m with shape [768]\n",
      "Loading TF weight bert/encoder/layer_6/output/LayerNorm/gamma/adam_v with shape [768]\n",
      "Loading TF weight bert/encoder/layer_6/output/dense/bias with shape [768]\n",
      "Loading TF weight bert/encoder/layer_6/output/dense/bias/adam_m with shape [768]\n",
      "Loading TF weight bert/encoder/layer_6/output/dense/bias/adam_v with shape [768]\n",
      "Loading TF weight bert/encoder/layer_6/output/dense/kernel with shape [3072, 768]\n",
      "Loading TF weight bert/encoder/layer_6/output/dense/kernel/adam_m with shape [3072, 768]\n",
      "Loading TF weight bert/encoder/layer_6/output/dense/kernel/adam_v with shape [3072, 768]\n",
      "Loading TF weight bert/encoder/layer_7/attention/output/LayerNorm/beta with shape [768]\n",
      "Loading TF weight bert/encoder/layer_7/attention/output/LayerNorm/beta/adam_m with shape [768]\n",
      "Loading TF weight bert/encoder/layer_7/attention/output/LayerNorm/beta/adam_v with shape [768]\n",
      "Loading TF weight bert/encoder/layer_7/attention/output/LayerNorm/gamma with shape [768]\n",
      "Loading TF weight bert/encoder/layer_7/attention/output/LayerNorm/gamma/adam_m with shape [768]\n",
      "Loading TF weight bert/encoder/layer_7/attention/output/LayerNorm/gamma/adam_v with shape [768]\n",
      "Loading TF weight bert/encoder/layer_7/attention/output/dense/bias with shape [768]\n",
      "Loading TF weight bert/encoder/layer_7/attention/output/dense/bias/adam_m with shape [768]\n",
      "Loading TF weight bert/encoder/layer_7/attention/output/dense/bias/adam_v with shape [768]\n",
      "Loading TF weight bert/encoder/layer_7/attention/output/dense/kernel with shape [768, 768]\n",
      "Loading TF weight bert/encoder/layer_7/attention/output/dense/kernel/adam_m with shape [768, 768]\n",
      "Loading TF weight bert/encoder/layer_7/attention/output/dense/kernel/adam_v with shape [768, 768]\n",
      "Loading TF weight bert/encoder/layer_7/attention/self/key/bias with shape [768]\n",
      "Loading TF weight bert/encoder/layer_7/attention/self/key/bias/adam_m with shape [768]\n",
      "Loading TF weight bert/encoder/layer_7/attention/self/key/bias/adam_v with shape [768]\n",
      "Loading TF weight bert/encoder/layer_7/attention/self/key/kernel with shape [768, 768]\n",
      "Loading TF weight bert/encoder/layer_7/attention/self/key/kernel/adam_m with shape [768, 768]\n",
      "Loading TF weight bert/encoder/layer_7/attention/self/key/kernel/adam_v with shape [768, 768]\n",
      "Loading TF weight bert/encoder/layer_7/attention/self/query/bias with shape [768]\n",
      "Loading TF weight bert/encoder/layer_7/attention/self/query/bias/adam_m with shape [768]\n",
      "Loading TF weight bert/encoder/layer_7/attention/self/query/bias/adam_v with shape [768]\n",
      "Loading TF weight bert/encoder/layer_7/attention/self/query/kernel with shape [768, 768]\n",
      "Loading TF weight bert/encoder/layer_7/attention/self/query/kernel/adam_m with shape [768, 768]\n",
      "Loading TF weight bert/encoder/layer_7/attention/self/query/kernel/adam_v with shape [768, 768]\n",
      "Loading TF weight bert/encoder/layer_7/attention/self/value/bias with shape [768]\n",
      "Loading TF weight bert/encoder/layer_7/attention/self/value/bias/adam_m with shape [768]\n",
      "Loading TF weight bert/encoder/layer_7/attention/self/value/bias/adam_v with shape [768]\n",
      "Loading TF weight bert/encoder/layer_7/attention/self/value/kernel with shape [768, 768]\n",
      "Loading TF weight bert/encoder/layer_7/attention/self/value/kernel/adam_m with shape [768, 768]\n",
      "Loading TF weight bert/encoder/layer_7/attention/self/value/kernel/adam_v with shape [768, 768]\n",
      "Loading TF weight bert/encoder/layer_7/intermediate/dense/bias with shape [3072]\n",
      "Loading TF weight bert/encoder/layer_7/intermediate/dense/bias/adam_m with shape [3072]\n",
      "Loading TF weight bert/encoder/layer_7/intermediate/dense/bias/adam_v with shape [3072]\n",
      "Loading TF weight bert/encoder/layer_7/intermediate/dense/kernel with shape [768, 3072]\n",
      "Loading TF weight bert/encoder/layer_7/intermediate/dense/kernel/adam_m with shape [768, 3072]\n",
      "Loading TF weight bert/encoder/layer_7/intermediate/dense/kernel/adam_v with shape [768, 3072]\n",
      "Loading TF weight bert/encoder/layer_7/output/LayerNorm/beta with shape [768]\n",
      "Loading TF weight bert/encoder/layer_7/output/LayerNorm/beta/adam_m with shape [768]\n",
      "Loading TF weight bert/encoder/layer_7/output/LayerNorm/beta/adam_v with shape [768]\n",
      "Loading TF weight bert/encoder/layer_7/output/LayerNorm/gamma with shape [768]\n",
      "Loading TF weight bert/encoder/layer_7/output/LayerNorm/gamma/adam_m with shape [768]\n",
      "Loading TF weight bert/encoder/layer_7/output/LayerNorm/gamma/adam_v with shape [768]\n",
      "Loading TF weight bert/encoder/layer_7/output/dense/bias with shape [768]\n",
      "Loading TF weight bert/encoder/layer_7/output/dense/bias/adam_m with shape [768]\n",
      "Loading TF weight bert/encoder/layer_7/output/dense/bias/adam_v with shape [768]\n",
      "Loading TF weight bert/encoder/layer_7/output/dense/kernel with shape [3072, 768]\n",
      "Loading TF weight bert/encoder/layer_7/output/dense/kernel/adam_m with shape [3072, 768]\n",
      "Loading TF weight bert/encoder/layer_7/output/dense/kernel/adam_v with shape [3072, 768]\n",
      "Loading TF weight bert/encoder/layer_8/attention/output/LayerNorm/beta with shape [768]\n",
      "Loading TF weight bert/encoder/layer_8/attention/output/LayerNorm/beta/adam_m with shape [768]\n",
      "Loading TF weight bert/encoder/layer_8/attention/output/LayerNorm/beta/adam_v with shape [768]\n",
      "Loading TF weight bert/encoder/layer_8/attention/output/LayerNorm/gamma with shape [768]\n",
      "Loading TF weight bert/encoder/layer_8/attention/output/LayerNorm/gamma/adam_m with shape [768]\n",
      "Loading TF weight bert/encoder/layer_8/attention/output/LayerNorm/gamma/adam_v with shape [768]\n",
      "Loading TF weight bert/encoder/layer_8/attention/output/dense/bias with shape [768]\n",
      "Loading TF weight bert/encoder/layer_8/attention/output/dense/bias/adam_m with shape [768]\n",
      "Loading TF weight bert/encoder/layer_8/attention/output/dense/bias/adam_v with shape [768]\n",
      "Loading TF weight bert/encoder/layer_8/attention/output/dense/kernel with shape [768, 768]\n",
      "Loading TF weight bert/encoder/layer_8/attention/output/dense/kernel/adam_m with shape [768, 768]\n",
      "Loading TF weight bert/encoder/layer_8/attention/output/dense/kernel/adam_v with shape [768, 768]\n",
      "Loading TF weight bert/encoder/layer_8/attention/self/key/bias with shape [768]\n",
      "Loading TF weight bert/encoder/layer_8/attention/self/key/bias/adam_m with shape [768]\n",
      "Loading TF weight bert/encoder/layer_8/attention/self/key/bias/adam_v with shape [768]\n",
      "Loading TF weight bert/encoder/layer_8/attention/self/key/kernel with shape [768, 768]\n",
      "Loading TF weight bert/encoder/layer_8/attention/self/key/kernel/adam_m with shape [768, 768]\n",
      "Loading TF weight bert/encoder/layer_8/attention/self/key/kernel/adam_v with shape [768, 768]\n",
      "Loading TF weight bert/encoder/layer_8/attention/self/query/bias with shape [768]\n",
      "Loading TF weight bert/encoder/layer_8/attention/self/query/bias/adam_m with shape [768]\n",
      "Loading TF weight bert/encoder/layer_8/attention/self/query/bias/adam_v with shape [768]\n",
      "Loading TF weight bert/encoder/layer_8/attention/self/query/kernel with shape [768, 768]\n",
      "Loading TF weight bert/encoder/layer_8/attention/self/query/kernel/adam_m with shape [768, 768]\n",
      "Loading TF weight bert/encoder/layer_8/attention/self/query/kernel/adam_v with shape [768, 768]\n",
      "Loading TF weight bert/encoder/layer_8/attention/self/value/bias with shape [768]\n",
      "Loading TF weight bert/encoder/layer_8/attention/self/value/bias/adam_m with shape [768]\n",
      "Loading TF weight bert/encoder/layer_8/attention/self/value/bias/adam_v with shape [768]\n",
      "Loading TF weight bert/encoder/layer_8/attention/self/value/kernel with shape [768, 768]\n",
      "Loading TF weight bert/encoder/layer_8/attention/self/value/kernel/adam_m with shape [768, 768]\n",
      "Loading TF weight bert/encoder/layer_8/attention/self/value/kernel/adam_v with shape [768, 768]\n",
      "Loading TF weight bert/encoder/layer_8/intermediate/dense/bias with shape [3072]\n",
      "Loading TF weight bert/encoder/layer_8/intermediate/dense/bias/adam_m with shape [3072]\n",
      "Loading TF weight bert/encoder/layer_8/intermediate/dense/bias/adam_v with shape [3072]\n"
     ]
    },
    {
     "name": "stdout",
     "output_type": "stream",
     "text": [
      "Loading TF weight bert/encoder/layer_8/intermediate/dense/kernel with shape [768, 3072]\n",
      "Loading TF weight bert/encoder/layer_8/intermediate/dense/kernel/adam_m with shape [768, 3072]\n",
      "Loading TF weight bert/encoder/layer_8/intermediate/dense/kernel/adam_v with shape [768, 3072]\n",
      "Loading TF weight bert/encoder/layer_8/output/LayerNorm/beta with shape [768]\n",
      "Loading TF weight bert/encoder/layer_8/output/LayerNorm/beta/adam_m with shape [768]\n",
      "Loading TF weight bert/encoder/layer_8/output/LayerNorm/beta/adam_v with shape [768]\n",
      "Loading TF weight bert/encoder/layer_8/output/LayerNorm/gamma with shape [768]\n",
      "Loading TF weight bert/encoder/layer_8/output/LayerNorm/gamma/adam_m with shape [768]\n",
      "Loading TF weight bert/encoder/layer_8/output/LayerNorm/gamma/adam_v with shape [768]\n",
      "Loading TF weight bert/encoder/layer_8/output/dense/bias with shape [768]\n",
      "Loading TF weight bert/encoder/layer_8/output/dense/bias/adam_m with shape [768]\n",
      "Loading TF weight bert/encoder/layer_8/output/dense/bias/adam_v with shape [768]\n",
      "Loading TF weight bert/encoder/layer_8/output/dense/kernel with shape [3072, 768]\n",
      "Loading TF weight bert/encoder/layer_8/output/dense/kernel/adam_m with shape [3072, 768]\n",
      "Loading TF weight bert/encoder/layer_8/output/dense/kernel/adam_v with shape [3072, 768]\n",
      "Loading TF weight bert/encoder/layer_9/attention/output/LayerNorm/beta with shape [768]\n",
      "Loading TF weight bert/encoder/layer_9/attention/output/LayerNorm/beta/adam_m with shape [768]\n",
      "Loading TF weight bert/encoder/layer_9/attention/output/LayerNorm/beta/adam_v with shape [768]\n",
      "Loading TF weight bert/encoder/layer_9/attention/output/LayerNorm/gamma with shape [768]\n",
      "Loading TF weight bert/encoder/layer_9/attention/output/LayerNorm/gamma/adam_m with shape [768]\n",
      "Loading TF weight bert/encoder/layer_9/attention/output/LayerNorm/gamma/adam_v with shape [768]\n",
      "Loading TF weight bert/encoder/layer_9/attention/output/dense/bias with shape [768]\n",
      "Loading TF weight bert/encoder/layer_9/attention/output/dense/bias/adam_m with shape [768]\n",
      "Loading TF weight bert/encoder/layer_9/attention/output/dense/bias/adam_v with shape [768]\n",
      "Loading TF weight bert/encoder/layer_9/attention/output/dense/kernel with shape [768, 768]\n",
      "Loading TF weight bert/encoder/layer_9/attention/output/dense/kernel/adam_m with shape [768, 768]\n",
      "Loading TF weight bert/encoder/layer_9/attention/output/dense/kernel/adam_v with shape [768, 768]\n",
      "Loading TF weight bert/encoder/layer_9/attention/self/key/bias with shape [768]\n",
      "Loading TF weight bert/encoder/layer_9/attention/self/key/bias/adam_m with shape [768]\n",
      "Loading TF weight bert/encoder/layer_9/attention/self/key/bias/adam_v with shape [768]\n",
      "Loading TF weight bert/encoder/layer_9/attention/self/key/kernel with shape [768, 768]\n",
      "Loading TF weight bert/encoder/layer_9/attention/self/key/kernel/adam_m with shape [768, 768]\n",
      "Loading TF weight bert/encoder/layer_9/attention/self/key/kernel/adam_v with shape [768, 768]\n",
      "Loading TF weight bert/encoder/layer_9/attention/self/query/bias with shape [768]\n",
      "Loading TF weight bert/encoder/layer_9/attention/self/query/bias/adam_m with shape [768]\n",
      "Loading TF weight bert/encoder/layer_9/attention/self/query/bias/adam_v with shape [768]\n",
      "Loading TF weight bert/encoder/layer_9/attention/self/query/kernel with shape [768, 768]\n",
      "Loading TF weight bert/encoder/layer_9/attention/self/query/kernel/adam_m with shape [768, 768]\n",
      "Loading TF weight bert/encoder/layer_9/attention/self/query/kernel/adam_v with shape [768, 768]\n",
      "Loading TF weight bert/encoder/layer_9/attention/self/value/bias with shape [768]\n",
      "Loading TF weight bert/encoder/layer_9/attention/self/value/bias/adam_m with shape [768]\n",
      "Loading TF weight bert/encoder/layer_9/attention/self/value/bias/adam_v with shape [768]\n",
      "Loading TF weight bert/encoder/layer_9/attention/self/value/kernel with shape [768, 768]\n",
      "Loading TF weight bert/encoder/layer_9/attention/self/value/kernel/adam_m with shape [768, 768]\n",
      "Loading TF weight bert/encoder/layer_9/attention/self/value/kernel/adam_v with shape [768, 768]\n",
      "Loading TF weight bert/encoder/layer_9/intermediate/dense/bias with shape [3072]\n",
      "Loading TF weight bert/encoder/layer_9/intermediate/dense/bias/adam_m with shape [3072]\n",
      "Loading TF weight bert/encoder/layer_9/intermediate/dense/bias/adam_v with shape [3072]\n",
      "Loading TF weight bert/encoder/layer_9/intermediate/dense/kernel with shape [768, 3072]\n",
      "Loading TF weight bert/encoder/layer_9/intermediate/dense/kernel/adam_m with shape [768, 3072]\n",
      "Loading TF weight bert/encoder/layer_9/intermediate/dense/kernel/adam_v with shape [768, 3072]\n",
      "Loading TF weight bert/encoder/layer_9/output/LayerNorm/beta with shape [768]\n",
      "Loading TF weight bert/encoder/layer_9/output/LayerNorm/beta/adam_m with shape [768]\n",
      "Loading TF weight bert/encoder/layer_9/output/LayerNorm/beta/adam_v with shape [768]\n",
      "Loading TF weight bert/encoder/layer_9/output/LayerNorm/gamma with shape [768]\n",
      "Loading TF weight bert/encoder/layer_9/output/LayerNorm/gamma/adam_m with shape [768]\n",
      "Loading TF weight bert/encoder/layer_9/output/LayerNorm/gamma/adam_v with shape [768]\n",
      "Loading TF weight bert/encoder/layer_9/output/dense/bias with shape [768]\n",
      "Loading TF weight bert/encoder/layer_9/output/dense/bias/adam_m with shape [768]\n",
      "Loading TF weight bert/encoder/layer_9/output/dense/bias/adam_v with shape [768]\n",
      "Loading TF weight bert/encoder/layer_9/output/dense/kernel with shape [3072, 768]\n",
      "Loading TF weight bert/encoder/layer_9/output/dense/kernel/adam_m with shape [3072, 768]\n",
      "Loading TF weight bert/encoder/layer_9/output/dense/kernel/adam_v with shape [3072, 768]\n",
      "Loading TF weight bert/pooler/dense/bias with shape [768]\n",
      "Loading TF weight bert/pooler/dense/kernel with shape [768, 768]\n",
      "Loading TF weight cls/squad/output_bias with shape [2]\n",
      "Loading TF weight cls/squad/output_bias/adam_m with shape [2]\n",
      "Loading TF weight cls/squad/output_bias/adam_v with shape [2]\n",
      "Loading TF weight cls/squad/output_weights with shape [2, 768]\n",
      "Loading TF weight cls/squad/output_weights/adam_m with shape [2, 768]\n",
      "Loading TF weight cls/squad/output_weights/adam_v with shape [2, 768]\n",
      "Loading TF weight global_step with shape []\n",
      "Initialize PyTorch weight ['bert', 'embeddings', 'LayerNorm', 'beta']\n",
      "Skipping bert/embeddings/LayerNorm/beta/adam_m\n",
      "Skipping bert/embeddings/LayerNorm/beta/adam_v\n",
      "Initialize PyTorch weight ['bert', 'embeddings', 'LayerNorm', 'gamma']\n",
      "Skipping bert/embeddings/LayerNorm/gamma/adam_m\n",
      "Skipping bert/embeddings/LayerNorm/gamma/adam_v\n",
      "Initialize PyTorch weight ['bert', 'embeddings', 'position_embeddings']\n",
      "Skipping bert/embeddings/position_embeddings/adam_m\n",
      "Skipping bert/embeddings/position_embeddings/adam_v\n",
      "Initialize PyTorch weight ['bert', 'embeddings', 'token_type_embeddings']\n",
      "Skipping bert/embeddings/token_type_embeddings/adam_m\n",
      "Skipping bert/embeddings/token_type_embeddings/adam_v\n",
      "Initialize PyTorch weight ['bert', 'embeddings', 'word_embeddings']\n",
      "Skipping bert/embeddings/word_embeddings/adam_m\n",
      "Skipping bert/embeddings/word_embeddings/adam_v\n",
      "Initialize PyTorch weight ['bert', 'encoder', 'layer_0', 'attention', 'output', 'LayerNorm', 'beta']\n",
      "Skipping bert/encoder/layer_0/attention/output/LayerNorm/beta/adam_m\n",
      "Skipping bert/encoder/layer_0/attention/output/LayerNorm/beta/adam_v\n",
      "Initialize PyTorch weight ['bert', 'encoder', 'layer_0', 'attention', 'output', 'LayerNorm', 'gamma']\n",
      "Skipping bert/encoder/layer_0/attention/output/LayerNorm/gamma/adam_m\n",
      "Skipping bert/encoder/layer_0/attention/output/LayerNorm/gamma/adam_v\n",
      "Initialize PyTorch weight ['bert', 'encoder', 'layer_0', 'attention', 'output', 'dense', 'bias']\n",
      "Skipping bert/encoder/layer_0/attention/output/dense/bias/adam_m\n",
      "Skipping bert/encoder/layer_0/attention/output/dense/bias/adam_v\n",
      "Initialize PyTorch weight ['bert', 'encoder', 'layer_0', 'attention', 'output', 'dense', 'kernel']\n",
      "Skipping bert/encoder/layer_0/attention/output/dense/kernel/adam_m\n",
      "Skipping bert/encoder/layer_0/attention/output/dense/kernel/adam_v\n",
      "Initialize PyTorch weight ['bert', 'encoder', 'layer_0', 'attention', 'self', 'key', 'bias']\n",
      "Skipping bert/encoder/layer_0/attention/self/key/bias/adam_m\n",
      "Skipping bert/encoder/layer_0/attention/self/key/bias/adam_v\n",
      "Initialize PyTorch weight ['bert', 'encoder', 'layer_0', 'attention', 'self', 'key', 'kernel']\n",
      "Skipping bert/encoder/layer_0/attention/self/key/kernel/adam_m\n",
      "Skipping bert/encoder/layer_0/attention/self/key/kernel/adam_v\n",
      "Initialize PyTorch weight ['bert', 'encoder', 'layer_0', 'attention', 'self', 'query', 'bias']\n",
      "Skipping bert/encoder/layer_0/attention/self/query/bias/adam_m\n",
      "Skipping bert/encoder/layer_0/attention/self/query/bias/adam_v\n",
      "Initialize PyTorch weight ['bert', 'encoder', 'layer_0', 'attention', 'self', 'query', 'kernel']\n",
      "Skipping bert/encoder/layer_0/attention/self/query/kernel/adam_m\n",
      "Skipping bert/encoder/layer_0/attention/self/query/kernel/adam_v\n",
      "Initialize PyTorch weight ['bert', 'encoder', 'layer_0', 'attention', 'self', 'value', 'bias']\n",
      "Skipping bert/encoder/layer_0/attention/self/value/bias/adam_m\n",
      "Skipping bert/encoder/layer_0/attention/self/value/bias/adam_v\n",
      "Initialize PyTorch weight ['bert', 'encoder', 'layer_0', 'attention', 'self', 'value', 'kernel']\n",
      "Skipping bert/encoder/layer_0/attention/self/value/kernel/adam_m\n",
      "Skipping bert/encoder/layer_0/attention/self/value/kernel/adam_v\n",
      "Initialize PyTorch weight ['bert', 'encoder', 'layer_0', 'intermediate', 'dense', 'bias']\n",
      "Skipping bert/encoder/layer_0/intermediate/dense/bias/adam_m\n",
      "Skipping bert/encoder/layer_0/intermediate/dense/bias/adam_v\n",
      "Initialize PyTorch weight ['bert', 'encoder', 'layer_0', 'intermediate', 'dense', 'kernel']\n",
      "Skipping bert/encoder/layer_0/intermediate/dense/kernel/adam_m\n",
      "Skipping bert/encoder/layer_0/intermediate/dense/kernel/adam_v\n",
      "Initialize PyTorch weight ['bert', 'encoder', 'layer_0', 'output', 'LayerNorm', 'beta']\n",
      "Skipping bert/encoder/layer_0/output/LayerNorm/beta/adam_m\n",
      "Skipping bert/encoder/layer_0/output/LayerNorm/beta/adam_v\n",
      "Initialize PyTorch weight ['bert', 'encoder', 'layer_0', 'output', 'LayerNorm', 'gamma']\n",
      "Skipping bert/encoder/layer_0/output/LayerNorm/gamma/adam_m\n",
      "Skipping bert/encoder/layer_0/output/LayerNorm/gamma/adam_v\n",
      "Initialize PyTorch weight ['bert', 'encoder', 'layer_0', 'output', 'dense', 'bias']\n",
      "Skipping bert/encoder/layer_0/output/dense/bias/adam_m\n",
      "Skipping bert/encoder/layer_0/output/dense/bias/adam_v\n",
      "Initialize PyTorch weight ['bert', 'encoder', 'layer_0', 'output', 'dense', 'kernel']\n",
      "Skipping bert/encoder/layer_0/output/dense/kernel/adam_m\n",
      "Skipping bert/encoder/layer_0/output/dense/kernel/adam_v\n",
      "Initialize PyTorch weight ['bert', 'encoder', 'layer_1', 'attention', 'output', 'LayerNorm', 'beta']\n",
      "Skipping bert/encoder/layer_1/attention/output/LayerNorm/beta/adam_m\n",
      "Skipping bert/encoder/layer_1/attention/output/LayerNorm/beta/adam_v\n",
      "Initialize PyTorch weight ['bert', 'encoder', 'layer_1', 'attention', 'output', 'LayerNorm', 'gamma']\n",
      "Skipping bert/encoder/layer_1/attention/output/LayerNorm/gamma/adam_m\n",
      "Skipping bert/encoder/layer_1/attention/output/LayerNorm/gamma/adam_v\n",
      "Initialize PyTorch weight ['bert', 'encoder', 'layer_1', 'attention', 'output', 'dense', 'bias']\n",
      "Skipping bert/encoder/layer_1/attention/output/dense/bias/adam_m\n",
      "Skipping bert/encoder/layer_1/attention/output/dense/bias/adam_v\n",
      "Initialize PyTorch weight ['bert', 'encoder', 'layer_1', 'attention', 'output', 'dense', 'kernel']\n",
      "Skipping bert/encoder/layer_1/attention/output/dense/kernel/adam_m\n",
      "Skipping bert/encoder/layer_1/attention/output/dense/kernel/adam_v\n",
      "Initialize PyTorch weight ['bert', 'encoder', 'layer_1', 'attention', 'self', 'key', 'bias']\n",
      "Skipping bert/encoder/layer_1/attention/self/key/bias/adam_m\n",
      "Skipping bert/encoder/layer_1/attention/self/key/bias/adam_v\n",
      "Initialize PyTorch weight ['bert', 'encoder', 'layer_1', 'attention', 'self', 'key', 'kernel']\n",
      "Skipping bert/encoder/layer_1/attention/self/key/kernel/adam_m\n",
      "Skipping bert/encoder/layer_1/attention/self/key/kernel/adam_v\n",
      "Initialize PyTorch weight ['bert', 'encoder', 'layer_1', 'attention', 'self', 'query', 'bias']\n",
      "Skipping bert/encoder/layer_1/attention/self/query/bias/adam_m\n",
      "Skipping bert/encoder/layer_1/attention/self/query/bias/adam_v\n",
      "Initialize PyTorch weight ['bert', 'encoder', 'layer_1', 'attention', 'self', 'query', 'kernel']\n",
      "Skipping bert/encoder/layer_1/attention/self/query/kernel/adam_m\n",
      "Skipping bert/encoder/layer_1/attention/self/query/kernel/adam_v\n",
      "Initialize PyTorch weight ['bert', 'encoder', 'layer_1', 'attention', 'self', 'value', 'bias']\n",
      "Skipping bert/encoder/layer_1/attention/self/value/bias/adam_m\n",
      "Skipping bert/encoder/layer_1/attention/self/value/bias/adam_v\n",
      "Initialize PyTorch weight ['bert', 'encoder', 'layer_1', 'attention', 'self', 'value', 'kernel']\n",
      "Skipping bert/encoder/layer_1/attention/self/value/kernel/adam_m\n",
      "Skipping bert/encoder/layer_1/attention/self/value/kernel/adam_v\n",
      "Initialize PyTorch weight ['bert', 'encoder', 'layer_1', 'intermediate', 'dense', 'bias']\n",
      "Skipping bert/encoder/layer_1/intermediate/dense/bias/adam_m\n",
      "Skipping bert/encoder/layer_1/intermediate/dense/bias/adam_v\n",
      "Initialize PyTorch weight ['bert', 'encoder', 'layer_1', 'intermediate', 'dense', 'kernel']\n",
      "Skipping bert/encoder/layer_1/intermediate/dense/kernel/adam_m\n",
      "Skipping bert/encoder/layer_1/intermediate/dense/kernel/adam_v\n",
      "Initialize PyTorch weight ['bert', 'encoder', 'layer_1', 'output', 'LayerNorm', 'beta']\n",
      "Skipping bert/encoder/layer_1/output/LayerNorm/beta/adam_m\n",
      "Skipping bert/encoder/layer_1/output/LayerNorm/beta/adam_v\n",
      "Initialize PyTorch weight ['bert', 'encoder', 'layer_1', 'output', 'LayerNorm', 'gamma']\n",
      "Skipping bert/encoder/layer_1/output/LayerNorm/gamma/adam_m\n",
      "Skipping bert/encoder/layer_1/output/LayerNorm/gamma/adam_v\n",
      "Initialize PyTorch weight ['bert', 'encoder', 'layer_1', 'output', 'dense', 'bias']\n",
      "Skipping bert/encoder/layer_1/output/dense/bias/adam_m\n",
      "Skipping bert/encoder/layer_1/output/dense/bias/adam_v\n",
      "Initialize PyTorch weight ['bert', 'encoder', 'layer_1', 'output', 'dense', 'kernel']\n",
      "Skipping bert/encoder/layer_1/output/dense/kernel/adam_m\n",
      "Skipping bert/encoder/layer_1/output/dense/kernel/adam_v\n",
      "Initialize PyTorch weight ['bert', 'encoder', 'layer_10', 'attention', 'output', 'LayerNorm', 'beta']\n",
      "Skipping bert/encoder/layer_10/attention/output/LayerNorm/beta/adam_m\n",
      "Skipping bert/encoder/layer_10/attention/output/LayerNorm/beta/adam_v\n",
      "Initialize PyTorch weight ['bert', 'encoder', 'layer_10', 'attention', 'output', 'LayerNorm', 'gamma']\n",
      "Skipping bert/encoder/layer_10/attention/output/LayerNorm/gamma/adam_m\n",
      "Skipping bert/encoder/layer_10/attention/output/LayerNorm/gamma/adam_v\n",
      "Initialize PyTorch weight ['bert', 'encoder', 'layer_10', 'attention', 'output', 'dense', 'bias']\n",
      "Skipping bert/encoder/layer_10/attention/output/dense/bias/adam_m\n",
      "Skipping bert/encoder/layer_10/attention/output/dense/bias/adam_v\n",
      "Initialize PyTorch weight ['bert', 'encoder', 'layer_10', 'attention', 'output', 'dense', 'kernel']\n",
      "Skipping bert/encoder/layer_10/attention/output/dense/kernel/adam_m\n",
      "Skipping bert/encoder/layer_10/attention/output/dense/kernel/adam_v\n",
      "Initialize PyTorch weight ['bert', 'encoder', 'layer_10', 'attention', 'self', 'key', 'bias']\n",
      "Skipping bert/encoder/layer_10/attention/self/key/bias/adam_m\n",
      "Skipping bert/encoder/layer_10/attention/self/key/bias/adam_v\n",
      "Initialize PyTorch weight ['bert', 'encoder', 'layer_10', 'attention', 'self', 'key', 'kernel']\n",
      "Skipping bert/encoder/layer_10/attention/self/key/kernel/adam_m\n",
      "Skipping bert/encoder/layer_10/attention/self/key/kernel/adam_v\n",
      "Initialize PyTorch weight ['bert', 'encoder', 'layer_10', 'attention', 'self', 'query', 'bias']\n",
      "Skipping bert/encoder/layer_10/attention/self/query/bias/adam_m\n",
      "Skipping bert/encoder/layer_10/attention/self/query/bias/adam_v\n",
      "Initialize PyTorch weight ['bert', 'encoder', 'layer_10', 'attention', 'self', 'query', 'kernel']\n",
      "Skipping bert/encoder/layer_10/attention/self/query/kernel/adam_m\n",
      "Skipping bert/encoder/layer_10/attention/self/query/kernel/adam_v\n",
      "Initialize PyTorch weight ['bert', 'encoder', 'layer_10', 'attention', 'self', 'value', 'bias']\n",
      "Skipping bert/encoder/layer_10/attention/self/value/bias/adam_m\n",
      "Skipping bert/encoder/layer_10/attention/self/value/bias/adam_v\n",
      "Initialize PyTorch weight ['bert', 'encoder', 'layer_10', 'attention', 'self', 'value', 'kernel']\n",
      "Skipping bert/encoder/layer_10/attention/self/value/kernel/adam_m\n",
      "Skipping bert/encoder/layer_10/attention/self/value/kernel/adam_v\n",
      "Initialize PyTorch weight ['bert', 'encoder', 'layer_10', 'intermediate', 'dense', 'bias']\n",
      "Skipping bert/encoder/layer_10/intermediate/dense/bias/adam_m\n",
      "Skipping bert/encoder/layer_10/intermediate/dense/bias/adam_v\n",
      "Initialize PyTorch weight ['bert', 'encoder', 'layer_10', 'intermediate', 'dense', 'kernel']\n",
      "Skipping bert/encoder/layer_10/intermediate/dense/kernel/adam_m\n",
      "Skipping bert/encoder/layer_10/intermediate/dense/kernel/adam_v\n",
      "Initialize PyTorch weight ['bert', 'encoder', 'layer_10', 'output', 'LayerNorm', 'beta']\n",
      "Skipping bert/encoder/layer_10/output/LayerNorm/beta/adam_m\n",
      "Skipping bert/encoder/layer_10/output/LayerNorm/beta/adam_v\n",
      "Initialize PyTorch weight ['bert', 'encoder', 'layer_10', 'output', 'LayerNorm', 'gamma']\n",
      "Skipping bert/encoder/layer_10/output/LayerNorm/gamma/adam_m\n",
      "Skipping bert/encoder/layer_10/output/LayerNorm/gamma/adam_v\n",
      "Initialize PyTorch weight ['bert', 'encoder', 'layer_10', 'output', 'dense', 'bias']\n",
      "Skipping bert/encoder/layer_10/output/dense/bias/adam_m\n",
      "Skipping bert/encoder/layer_10/output/dense/bias/adam_v\n",
      "Initialize PyTorch weight ['bert', 'encoder', 'layer_10', 'output', 'dense', 'kernel']\n",
      "Skipping bert/encoder/layer_10/output/dense/kernel/adam_m\n",
      "Skipping bert/encoder/layer_10/output/dense/kernel/adam_v\n",
      "Initialize PyTorch weight ['bert', 'encoder', 'layer_11', 'attention', 'output', 'LayerNorm', 'beta']\n",
      "Skipping bert/encoder/layer_11/attention/output/LayerNorm/beta/adam_m\n",
      "Skipping bert/encoder/layer_11/attention/output/LayerNorm/beta/adam_v\n",
      "Initialize PyTorch weight ['bert', 'encoder', 'layer_11', 'attention', 'output', 'LayerNorm', 'gamma']\n",
      "Skipping bert/encoder/layer_11/attention/output/LayerNorm/gamma/adam_m\n",
      "Skipping bert/encoder/layer_11/attention/output/LayerNorm/gamma/adam_v\n",
      "Initialize PyTorch weight ['bert', 'encoder', 'layer_11', 'attention', 'output', 'dense', 'bias']\n",
      "Skipping bert/encoder/layer_11/attention/output/dense/bias/adam_m\n",
      "Skipping bert/encoder/layer_11/attention/output/dense/bias/adam_v\n",
      "Initialize PyTorch weight ['bert', 'encoder', 'layer_11', 'attention', 'output', 'dense', 'kernel']\n",
      "Skipping bert/encoder/layer_11/attention/output/dense/kernel/adam_m\n",
      "Skipping bert/encoder/layer_11/attention/output/dense/kernel/adam_v\n",
      "Initialize PyTorch weight ['bert', 'encoder', 'layer_11', 'attention', 'self', 'key', 'bias']\n",
      "Skipping bert/encoder/layer_11/attention/self/key/bias/adam_m\n",
      "Skipping bert/encoder/layer_11/attention/self/key/bias/adam_v\n",
      "Initialize PyTorch weight ['bert', 'encoder', 'layer_11', 'attention', 'self', 'key', 'kernel']\n",
      "Skipping bert/encoder/layer_11/attention/self/key/kernel/adam_m\n",
      "Skipping bert/encoder/layer_11/attention/self/key/kernel/adam_v\n",
      "Initialize PyTorch weight ['bert', 'encoder', 'layer_11', 'attention', 'self', 'query', 'bias']\n",
      "Skipping bert/encoder/layer_11/attention/self/query/bias/adam_m\n",
      "Skipping bert/encoder/layer_11/attention/self/query/bias/adam_v\n",
      "Initialize PyTorch weight ['bert', 'encoder', 'layer_11', 'attention', 'self', 'query', 'kernel']\n",
      "Skipping bert/encoder/layer_11/attention/self/query/kernel/adam_m\n",
      "Skipping bert/encoder/layer_11/attention/self/query/kernel/adam_v\n",
      "Initialize PyTorch weight ['bert', 'encoder', 'layer_11', 'attention', 'self', 'value', 'bias']\n",
      "Skipping bert/encoder/layer_11/attention/self/value/bias/adam_m\n",
      "Skipping bert/encoder/layer_11/attention/self/value/bias/adam_v\n",
      "Initialize PyTorch weight ['bert', 'encoder', 'layer_11', 'attention', 'self', 'value', 'kernel']\n",
      "Skipping bert/encoder/layer_11/attention/self/value/kernel/adam_m\n",
      "Skipping bert/encoder/layer_11/attention/self/value/kernel/adam_v\n",
      "Initialize PyTorch weight ['bert', 'encoder', 'layer_11', 'intermediate', 'dense', 'bias']\n",
      "Skipping bert/encoder/layer_11/intermediate/dense/bias/adam_m\n",
      "Skipping bert/encoder/layer_11/intermediate/dense/bias/adam_v\n",
      "Initialize PyTorch weight ['bert', 'encoder', 'layer_11', 'intermediate', 'dense', 'kernel']\n",
      "Skipping bert/encoder/layer_11/intermediate/dense/kernel/adam_m\n",
      "Skipping bert/encoder/layer_11/intermediate/dense/kernel/adam_v\n",
      "Initialize PyTorch weight ['bert', 'encoder', 'layer_11', 'output', 'LayerNorm', 'beta']\n",
      "Skipping bert/encoder/layer_11/output/LayerNorm/beta/adam_m\n",
      "Skipping bert/encoder/layer_11/output/LayerNorm/beta/adam_v\n",
      "Initialize PyTorch weight ['bert', 'encoder', 'layer_11', 'output', 'LayerNorm', 'gamma']\n",
      "Skipping bert/encoder/layer_11/output/LayerNorm/gamma/adam_m\n",
      "Skipping bert/encoder/layer_11/output/LayerNorm/gamma/adam_v\n",
      "Initialize PyTorch weight ['bert', 'encoder', 'layer_11', 'output', 'dense', 'bias']\n",
      "Skipping bert/encoder/layer_11/output/dense/bias/adam_m\n",
      "Skipping bert/encoder/layer_11/output/dense/bias/adam_v\n",
      "Initialize PyTorch weight ['bert', 'encoder', 'layer_11', 'output', 'dense', 'kernel']\n",
      "Skipping bert/encoder/layer_11/output/dense/kernel/adam_m\n",
      "Skipping bert/encoder/layer_11/output/dense/kernel/adam_v\n",
      "Initialize PyTorch weight ['bert', 'encoder', 'layer_2', 'attention', 'output', 'LayerNorm', 'beta']\n",
      "Skipping bert/encoder/layer_2/attention/output/LayerNorm/beta/adam_m\n",
      "Skipping bert/encoder/layer_2/attention/output/LayerNorm/beta/adam_v\n",
      "Initialize PyTorch weight ['bert', 'encoder', 'layer_2', 'attention', 'output', 'LayerNorm', 'gamma']\n",
      "Skipping bert/encoder/layer_2/attention/output/LayerNorm/gamma/adam_m\n",
      "Skipping bert/encoder/layer_2/attention/output/LayerNorm/gamma/adam_v\n",
      "Initialize PyTorch weight ['bert', 'encoder', 'layer_2', 'attention', 'output', 'dense', 'bias']\n",
      "Skipping bert/encoder/layer_2/attention/output/dense/bias/adam_m\n",
      "Skipping bert/encoder/layer_2/attention/output/dense/bias/adam_v\n",
      "Initialize PyTorch weight ['bert', 'encoder', 'layer_2', 'attention', 'output', 'dense', 'kernel']\n",
      "Skipping bert/encoder/layer_2/attention/output/dense/kernel/adam_m\n",
      "Skipping bert/encoder/layer_2/attention/output/dense/kernel/adam_v\n",
      "Initialize PyTorch weight ['bert', 'encoder', 'layer_2', 'attention', 'self', 'key', 'bias']\n",
      "Skipping bert/encoder/layer_2/attention/self/key/bias/adam_m\n",
      "Skipping bert/encoder/layer_2/attention/self/key/bias/adam_v\n",
      "Initialize PyTorch weight ['bert', 'encoder', 'layer_2', 'attention', 'self', 'key', 'kernel']\n",
      "Skipping bert/encoder/layer_2/attention/self/key/kernel/adam_m\n",
      "Skipping bert/encoder/layer_2/attention/self/key/kernel/adam_v\n",
      "Initialize PyTorch weight ['bert', 'encoder', 'layer_2', 'attention', 'self', 'query', 'bias']\n",
      "Skipping bert/encoder/layer_2/attention/self/query/bias/adam_m\n",
      "Skipping bert/encoder/layer_2/attention/self/query/bias/adam_v\n",
      "Initialize PyTorch weight ['bert', 'encoder', 'layer_2', 'attention', 'self', 'query', 'kernel']\n",
      "Skipping bert/encoder/layer_2/attention/self/query/kernel/adam_m\n",
      "Skipping bert/encoder/layer_2/attention/self/query/kernel/adam_v\n",
      "Initialize PyTorch weight ['bert', 'encoder', 'layer_2', 'attention', 'self', 'value', 'bias']\n",
      "Skipping bert/encoder/layer_2/attention/self/value/bias/adam_m\n",
      "Skipping bert/encoder/layer_2/attention/self/value/bias/adam_v\n",
      "Initialize PyTorch weight ['bert', 'encoder', 'layer_2', 'attention', 'self', 'value', 'kernel']\n",
      "Skipping bert/encoder/layer_2/attention/self/value/kernel/adam_m\n",
      "Skipping bert/encoder/layer_2/attention/self/value/kernel/adam_v\n",
      "Initialize PyTorch weight ['bert', 'encoder', 'layer_2', 'intermediate', 'dense', 'bias']\n",
      "Skipping bert/encoder/layer_2/intermediate/dense/bias/adam_m\n",
      "Skipping bert/encoder/layer_2/intermediate/dense/bias/adam_v\n",
      "Initialize PyTorch weight ['bert', 'encoder', 'layer_2', 'intermediate', 'dense', 'kernel']\n",
      "Skipping bert/encoder/layer_2/intermediate/dense/kernel/adam_m\n",
      "Skipping bert/encoder/layer_2/intermediate/dense/kernel/adam_v\n",
      "Initialize PyTorch weight ['bert', 'encoder', 'layer_2', 'output', 'LayerNorm', 'beta']\n",
      "Skipping bert/encoder/layer_2/output/LayerNorm/beta/adam_m\n",
      "Skipping bert/encoder/layer_2/output/LayerNorm/beta/adam_v\n",
      "Initialize PyTorch weight ['bert', 'encoder', 'layer_2', 'output', 'LayerNorm', 'gamma']\n",
      "Skipping bert/encoder/layer_2/output/LayerNorm/gamma/adam_m\n",
      "Skipping bert/encoder/layer_2/output/LayerNorm/gamma/adam_v\n",
      "Initialize PyTorch weight ['bert', 'encoder', 'layer_2', 'output', 'dense', 'bias']\n",
      "Skipping bert/encoder/layer_2/output/dense/bias/adam_m\n",
      "Skipping bert/encoder/layer_2/output/dense/bias/adam_v\n",
      "Initialize PyTorch weight ['bert', 'encoder', 'layer_2', 'output', 'dense', 'kernel']\n",
      "Skipping bert/encoder/layer_2/output/dense/kernel/adam_m\n",
      "Skipping bert/encoder/layer_2/output/dense/kernel/adam_v\n",
      "Initialize PyTorch weight ['bert', 'encoder', 'layer_3', 'attention', 'output', 'LayerNorm', 'beta']\n",
      "Skipping bert/encoder/layer_3/attention/output/LayerNorm/beta/adam_m\n",
      "Skipping bert/encoder/layer_3/attention/output/LayerNorm/beta/adam_v\n",
      "Initialize PyTorch weight ['bert', 'encoder', 'layer_3', 'attention', 'output', 'LayerNorm', 'gamma']\n",
      "Skipping bert/encoder/layer_3/attention/output/LayerNorm/gamma/adam_m\n",
      "Skipping bert/encoder/layer_3/attention/output/LayerNorm/gamma/adam_v\n",
      "Initialize PyTorch weight ['bert', 'encoder', 'layer_3', 'attention', 'output', 'dense', 'bias']\n",
      "Skipping bert/encoder/layer_3/attention/output/dense/bias/adam_m\n",
      "Skipping bert/encoder/layer_3/attention/output/dense/bias/adam_v\n",
      "Initialize PyTorch weight ['bert', 'encoder', 'layer_3', 'attention', 'output', 'dense', 'kernel']\n",
      "Skipping bert/encoder/layer_3/attention/output/dense/kernel/adam_m\n",
      "Skipping bert/encoder/layer_3/attention/output/dense/kernel/adam_v\n",
      "Initialize PyTorch weight ['bert', 'encoder', 'layer_3', 'attention', 'self', 'key', 'bias']\n",
      "Skipping bert/encoder/layer_3/attention/self/key/bias/adam_m\n",
      "Skipping bert/encoder/layer_3/attention/self/key/bias/adam_v\n",
      "Initialize PyTorch weight ['bert', 'encoder', 'layer_3', 'attention', 'self', 'key', 'kernel']\n",
      "Skipping bert/encoder/layer_3/attention/self/key/kernel/adam_m\n",
      "Skipping bert/encoder/layer_3/attention/self/key/kernel/adam_v\n",
      "Initialize PyTorch weight ['bert', 'encoder', 'layer_3', 'attention', 'self', 'query', 'bias']\n",
      "Skipping bert/encoder/layer_3/attention/self/query/bias/adam_m\n",
      "Skipping bert/encoder/layer_3/attention/self/query/bias/adam_v\n",
      "Initialize PyTorch weight ['bert', 'encoder', 'layer_3', 'attention', 'self', 'query', 'kernel']\n",
      "Skipping bert/encoder/layer_3/attention/self/query/kernel/adam_m\n",
      "Skipping bert/encoder/layer_3/attention/self/query/kernel/adam_v\n",
      "Initialize PyTorch weight ['bert', 'encoder', 'layer_3', 'attention', 'self', 'value', 'bias']\n",
      "Skipping bert/encoder/layer_3/attention/self/value/bias/adam_m\n",
      "Skipping bert/encoder/layer_3/attention/self/value/bias/adam_v\n",
      "Initialize PyTorch weight ['bert', 'encoder', 'layer_3', 'attention', 'self', 'value', 'kernel']\n",
      "Skipping bert/encoder/layer_3/attention/self/value/kernel/adam_m\n",
      "Skipping bert/encoder/layer_3/attention/self/value/kernel/adam_v\n",
      "Initialize PyTorch weight ['bert', 'encoder', 'layer_3', 'intermediate', 'dense', 'bias']\n",
      "Skipping bert/encoder/layer_3/intermediate/dense/bias/adam_m\n",
      "Skipping bert/encoder/layer_3/intermediate/dense/bias/adam_v\n",
      "Initialize PyTorch weight ['bert', 'encoder', 'layer_3', 'intermediate', 'dense', 'kernel']\n",
      "Skipping bert/encoder/layer_3/intermediate/dense/kernel/adam_m\n",
      "Skipping bert/encoder/layer_3/intermediate/dense/kernel/adam_v\n",
      "Initialize PyTorch weight ['bert', 'encoder', 'layer_3', 'output', 'LayerNorm', 'beta']\n",
      "Skipping bert/encoder/layer_3/output/LayerNorm/beta/adam_m\n",
      "Skipping bert/encoder/layer_3/output/LayerNorm/beta/adam_v\n",
      "Initialize PyTorch weight ['bert', 'encoder', 'layer_3', 'output', 'LayerNorm', 'gamma']\n",
      "Skipping bert/encoder/layer_3/output/LayerNorm/gamma/adam_m\n",
      "Skipping bert/encoder/layer_3/output/LayerNorm/gamma/adam_v\n",
      "Initialize PyTorch weight ['bert', 'encoder', 'layer_3', 'output', 'dense', 'bias']\n",
      "Skipping bert/encoder/layer_3/output/dense/bias/adam_m\n",
      "Skipping bert/encoder/layer_3/output/dense/bias/adam_v\n",
      "Initialize PyTorch weight ['bert', 'encoder', 'layer_3', 'output', 'dense', 'kernel']\n",
      "Skipping bert/encoder/layer_3/output/dense/kernel/adam_m\n",
      "Skipping bert/encoder/layer_3/output/dense/kernel/adam_v\n",
      "Initialize PyTorch weight ['bert', 'encoder', 'layer_4', 'attention', 'output', 'LayerNorm', 'beta']\n",
      "Skipping bert/encoder/layer_4/attention/output/LayerNorm/beta/adam_m\n",
      "Skipping bert/encoder/layer_4/attention/output/LayerNorm/beta/adam_v\n",
      "Initialize PyTorch weight ['bert', 'encoder', 'layer_4', 'attention', 'output', 'LayerNorm', 'gamma']\n",
      "Skipping bert/encoder/layer_4/attention/output/LayerNorm/gamma/adam_m\n",
      "Skipping bert/encoder/layer_4/attention/output/LayerNorm/gamma/adam_v\n",
      "Initialize PyTorch weight ['bert', 'encoder', 'layer_4', 'attention', 'output', 'dense', 'bias']\n",
      "Skipping bert/encoder/layer_4/attention/output/dense/bias/adam_m\n",
      "Skipping bert/encoder/layer_4/attention/output/dense/bias/adam_v\n",
      "Initialize PyTorch weight ['bert', 'encoder', 'layer_4', 'attention', 'output', 'dense', 'kernel']\n",
      "Skipping bert/encoder/layer_4/attention/output/dense/kernel/adam_m\n",
      "Skipping bert/encoder/layer_4/attention/output/dense/kernel/adam_v\n",
      "Initialize PyTorch weight ['bert', 'encoder', 'layer_4', 'attention', 'self', 'key', 'bias']\n",
      "Skipping bert/encoder/layer_4/attention/self/key/bias/adam_m\n",
      "Skipping bert/encoder/layer_4/attention/self/key/bias/adam_v\n",
      "Initialize PyTorch weight ['bert', 'encoder', 'layer_4', 'attention', 'self', 'key', 'kernel']\n",
      "Skipping bert/encoder/layer_4/attention/self/key/kernel/adam_m\n",
      "Skipping bert/encoder/layer_4/attention/self/key/kernel/adam_v\n",
      "Initialize PyTorch weight ['bert', 'encoder', 'layer_4', 'attention', 'self', 'query', 'bias']\n",
      "Skipping bert/encoder/layer_4/attention/self/query/bias/adam_m\n",
      "Skipping bert/encoder/layer_4/attention/self/query/bias/adam_v\n",
      "Initialize PyTorch weight ['bert', 'encoder', 'layer_4', 'attention', 'self', 'query', 'kernel']\n",
      "Skipping bert/encoder/layer_4/attention/self/query/kernel/adam_m\n",
      "Skipping bert/encoder/layer_4/attention/self/query/kernel/adam_v\n",
      "Initialize PyTorch weight ['bert', 'encoder', 'layer_4', 'attention', 'self', 'value', 'bias']\n",
      "Skipping bert/encoder/layer_4/attention/self/value/bias/adam_m\n",
      "Skipping bert/encoder/layer_4/attention/self/value/bias/adam_v\n",
      "Initialize PyTorch weight ['bert', 'encoder', 'layer_4', 'attention', 'self', 'value', 'kernel']\n",
      "Skipping bert/encoder/layer_4/attention/self/value/kernel/adam_m\n",
      "Skipping bert/encoder/layer_4/attention/self/value/kernel/adam_v\n",
      "Initialize PyTorch weight ['bert', 'encoder', 'layer_4', 'intermediate', 'dense', 'bias']\n",
      "Skipping bert/encoder/layer_4/intermediate/dense/bias/adam_m\n",
      "Skipping bert/encoder/layer_4/intermediate/dense/bias/adam_v\n",
      "Initialize PyTorch weight ['bert', 'encoder', 'layer_4', 'intermediate', 'dense', 'kernel']\n",
      "Skipping bert/encoder/layer_4/intermediate/dense/kernel/adam_m\n",
      "Skipping bert/encoder/layer_4/intermediate/dense/kernel/adam_v\n",
      "Initialize PyTorch weight ['bert', 'encoder', 'layer_4', 'output', 'LayerNorm', 'beta']\n",
      "Skipping bert/encoder/layer_4/output/LayerNorm/beta/adam_m\n",
      "Skipping bert/encoder/layer_4/output/LayerNorm/beta/adam_v\n",
      "Initialize PyTorch weight ['bert', 'encoder', 'layer_4', 'output', 'LayerNorm', 'gamma']\n",
      "Skipping bert/encoder/layer_4/output/LayerNorm/gamma/adam_m\n",
      "Skipping bert/encoder/layer_4/output/LayerNorm/gamma/adam_v\n",
      "Initialize PyTorch weight ['bert', 'encoder', 'layer_4', 'output', 'dense', 'bias']\n",
      "Skipping bert/encoder/layer_4/output/dense/bias/adam_m\n",
      "Skipping bert/encoder/layer_4/output/dense/bias/adam_v\n",
      "Initialize PyTorch weight ['bert', 'encoder', 'layer_4', 'output', 'dense', 'kernel']\n",
      "Skipping bert/encoder/layer_4/output/dense/kernel/adam_m\n",
      "Skipping bert/encoder/layer_4/output/dense/kernel/adam_v\n",
      "Initialize PyTorch weight ['bert', 'encoder', 'layer_5', 'attention', 'output', 'LayerNorm', 'beta']\n",
      "Skipping bert/encoder/layer_5/attention/output/LayerNorm/beta/adam_m\n",
      "Skipping bert/encoder/layer_5/attention/output/LayerNorm/beta/adam_v\n",
      "Initialize PyTorch weight ['bert', 'encoder', 'layer_5', 'attention', 'output', 'LayerNorm', 'gamma']\n",
      "Skipping bert/encoder/layer_5/attention/output/LayerNorm/gamma/adam_m\n",
      "Skipping bert/encoder/layer_5/attention/output/LayerNorm/gamma/adam_v\n",
      "Initialize PyTorch weight ['bert', 'encoder', 'layer_5', 'attention', 'output', 'dense', 'bias']\n",
      "Skipping bert/encoder/layer_5/attention/output/dense/bias/adam_m\n",
      "Skipping bert/encoder/layer_5/attention/output/dense/bias/adam_v\n",
      "Initialize PyTorch weight ['bert', 'encoder', 'layer_5', 'attention', 'output', 'dense', 'kernel']\n",
      "Skipping bert/encoder/layer_5/attention/output/dense/kernel/adam_m\n",
      "Skipping bert/encoder/layer_5/attention/output/dense/kernel/adam_v\n",
      "Initialize PyTorch weight ['bert', 'encoder', 'layer_5', 'attention', 'self', 'key', 'bias']\n",
      "Skipping bert/encoder/layer_5/attention/self/key/bias/adam_m\n",
      "Skipping bert/encoder/layer_5/attention/self/key/bias/adam_v\n",
      "Initialize PyTorch weight ['bert', 'encoder', 'layer_5', 'attention', 'self', 'key', 'kernel']\n",
      "Skipping bert/encoder/layer_5/attention/self/key/kernel/adam_m\n",
      "Skipping bert/encoder/layer_5/attention/self/key/kernel/adam_v\n",
      "Initialize PyTorch weight ['bert', 'encoder', 'layer_5', 'attention', 'self', 'query', 'bias']\n",
      "Skipping bert/encoder/layer_5/attention/self/query/bias/adam_m\n",
      "Skipping bert/encoder/layer_5/attention/self/query/bias/adam_v\n",
      "Initialize PyTorch weight ['bert', 'encoder', 'layer_5', 'attention', 'self', 'query', 'kernel']\n",
      "Skipping bert/encoder/layer_5/attention/self/query/kernel/adam_m\n",
      "Skipping bert/encoder/layer_5/attention/self/query/kernel/adam_v\n",
      "Initialize PyTorch weight ['bert', 'encoder', 'layer_5', 'attention', 'self', 'value', 'bias']\n",
      "Skipping bert/encoder/layer_5/attention/self/value/bias/adam_m\n",
      "Skipping bert/encoder/layer_5/attention/self/value/bias/adam_v\n",
      "Initialize PyTorch weight ['bert', 'encoder', 'layer_5', 'attention', 'self', 'value', 'kernel']\n",
      "Skipping bert/encoder/layer_5/attention/self/value/kernel/adam_m\n",
      "Skipping bert/encoder/layer_5/attention/self/value/kernel/adam_v\n",
      "Initialize PyTorch weight ['bert', 'encoder', 'layer_5', 'intermediate', 'dense', 'bias']\n",
      "Skipping bert/encoder/layer_5/intermediate/dense/bias/adam_m\n",
      "Skipping bert/encoder/layer_5/intermediate/dense/bias/adam_v\n",
      "Initialize PyTorch weight ['bert', 'encoder', 'layer_5', 'intermediate', 'dense', 'kernel']\n",
      "Skipping bert/encoder/layer_5/intermediate/dense/kernel/adam_m\n",
      "Skipping bert/encoder/layer_5/intermediate/dense/kernel/adam_v\n",
      "Initialize PyTorch weight ['bert', 'encoder', 'layer_5', 'output', 'LayerNorm', 'beta']\n",
      "Skipping bert/encoder/layer_5/output/LayerNorm/beta/adam_m\n",
      "Skipping bert/encoder/layer_5/output/LayerNorm/beta/adam_v\n",
      "Initialize PyTorch weight ['bert', 'encoder', 'layer_5', 'output', 'LayerNorm', 'gamma']\n",
      "Skipping bert/encoder/layer_5/output/LayerNorm/gamma/adam_m\n",
      "Skipping bert/encoder/layer_5/output/LayerNorm/gamma/adam_v\n",
      "Initialize PyTorch weight ['bert', 'encoder', 'layer_5', 'output', 'dense', 'bias']\n",
      "Skipping bert/encoder/layer_5/output/dense/bias/adam_m\n",
      "Skipping bert/encoder/layer_5/output/dense/bias/adam_v\n",
      "Initialize PyTorch weight ['bert', 'encoder', 'layer_5', 'output', 'dense', 'kernel']\n",
      "Skipping bert/encoder/layer_5/output/dense/kernel/adam_m\n",
      "Skipping bert/encoder/layer_5/output/dense/kernel/adam_v\n",
      "Initialize PyTorch weight ['bert', 'encoder', 'layer_6', 'attention', 'output', 'LayerNorm', 'beta']\n",
      "Skipping bert/encoder/layer_6/attention/output/LayerNorm/beta/adam_m\n",
      "Skipping bert/encoder/layer_6/attention/output/LayerNorm/beta/adam_v\n",
      "Initialize PyTorch weight ['bert', 'encoder', 'layer_6', 'attention', 'output', 'LayerNorm', 'gamma']\n",
      "Skipping bert/encoder/layer_6/attention/output/LayerNorm/gamma/adam_m\n",
      "Skipping bert/encoder/layer_6/attention/output/LayerNorm/gamma/adam_v\n",
      "Initialize PyTorch weight ['bert', 'encoder', 'layer_6', 'attention', 'output', 'dense', 'bias']\n",
      "Skipping bert/encoder/layer_6/attention/output/dense/bias/adam_m\n",
      "Skipping bert/encoder/layer_6/attention/output/dense/bias/adam_v\n",
      "Initialize PyTorch weight ['bert', 'encoder', 'layer_6', 'attention', 'output', 'dense', 'kernel']\n",
      "Skipping bert/encoder/layer_6/attention/output/dense/kernel/adam_m\n",
      "Skipping bert/encoder/layer_6/attention/output/dense/kernel/adam_v\n",
      "Initialize PyTorch weight ['bert', 'encoder', 'layer_6', 'attention', 'self', 'key', 'bias']\n",
      "Skipping bert/encoder/layer_6/attention/self/key/bias/adam_m\n",
      "Skipping bert/encoder/layer_6/attention/self/key/bias/adam_v\n",
      "Initialize PyTorch weight ['bert', 'encoder', 'layer_6', 'attention', 'self', 'key', 'kernel']\n",
      "Skipping bert/encoder/layer_6/attention/self/key/kernel/adam_m\n",
      "Skipping bert/encoder/layer_6/attention/self/key/kernel/adam_v\n",
      "Initialize PyTorch weight ['bert', 'encoder', 'layer_6', 'attention', 'self', 'query', 'bias']\n",
      "Skipping bert/encoder/layer_6/attention/self/query/bias/adam_m\n",
      "Skipping bert/encoder/layer_6/attention/self/query/bias/adam_v\n",
      "Initialize PyTorch weight ['bert', 'encoder', 'layer_6', 'attention', 'self', 'query', 'kernel']\n",
      "Skipping bert/encoder/layer_6/attention/self/query/kernel/adam_m\n",
      "Skipping bert/encoder/layer_6/attention/self/query/kernel/adam_v\n",
      "Initialize PyTorch weight ['bert', 'encoder', 'layer_6', 'attention', 'self', 'value', 'bias']\n",
      "Skipping bert/encoder/layer_6/attention/self/value/bias/adam_m\n",
      "Skipping bert/encoder/layer_6/attention/self/value/bias/adam_v\n",
      "Initialize PyTorch weight ['bert', 'encoder', 'layer_6', 'attention', 'self', 'value', 'kernel']\n",
      "Skipping bert/encoder/layer_6/attention/self/value/kernel/adam_m\n",
      "Skipping bert/encoder/layer_6/attention/self/value/kernel/adam_v\n",
      "Initialize PyTorch weight ['bert', 'encoder', 'layer_6', 'intermediate', 'dense', 'bias']\n",
      "Skipping bert/encoder/layer_6/intermediate/dense/bias/adam_m\n",
      "Skipping bert/encoder/layer_6/intermediate/dense/bias/adam_v\n",
      "Initialize PyTorch weight ['bert', 'encoder', 'layer_6', 'intermediate', 'dense', 'kernel']\n",
      "Skipping bert/encoder/layer_6/intermediate/dense/kernel/adam_m\n",
      "Skipping bert/encoder/layer_6/intermediate/dense/kernel/adam_v\n",
      "Initialize PyTorch weight ['bert', 'encoder', 'layer_6', 'output', 'LayerNorm', 'beta']\n",
      "Skipping bert/encoder/layer_6/output/LayerNorm/beta/adam_m\n",
      "Skipping bert/encoder/layer_6/output/LayerNorm/beta/adam_v\n",
      "Initialize PyTorch weight ['bert', 'encoder', 'layer_6', 'output', 'LayerNorm', 'gamma']\n",
      "Skipping bert/encoder/layer_6/output/LayerNorm/gamma/adam_m\n",
      "Skipping bert/encoder/layer_6/output/LayerNorm/gamma/adam_v\n",
      "Initialize PyTorch weight ['bert', 'encoder', 'layer_6', 'output', 'dense', 'bias']\n",
      "Skipping bert/encoder/layer_6/output/dense/bias/adam_m\n",
      "Skipping bert/encoder/layer_6/output/dense/bias/adam_v\n",
      "Initialize PyTorch weight ['bert', 'encoder', 'layer_6', 'output', 'dense', 'kernel']\n",
      "Skipping bert/encoder/layer_6/output/dense/kernel/adam_m\n",
      "Skipping bert/encoder/layer_6/output/dense/kernel/adam_v\n",
      "Initialize PyTorch weight ['bert', 'encoder', 'layer_7', 'attention', 'output', 'LayerNorm', 'beta']\n",
      "Skipping bert/encoder/layer_7/attention/output/LayerNorm/beta/adam_m\n",
      "Skipping bert/encoder/layer_7/attention/output/LayerNorm/beta/adam_v\n",
      "Initialize PyTorch weight ['bert', 'encoder', 'layer_7', 'attention', 'output', 'LayerNorm', 'gamma']\n",
      "Skipping bert/encoder/layer_7/attention/output/LayerNorm/gamma/adam_m\n",
      "Skipping bert/encoder/layer_7/attention/output/LayerNorm/gamma/adam_v\n",
      "Initialize PyTorch weight ['bert', 'encoder', 'layer_7', 'attention', 'output', 'dense', 'bias']\n",
      "Skipping bert/encoder/layer_7/attention/output/dense/bias/adam_m\n",
      "Skipping bert/encoder/layer_7/attention/output/dense/bias/adam_v\n",
      "Initialize PyTorch weight ['bert', 'encoder', 'layer_7', 'attention', 'output', 'dense', 'kernel']\n",
      "Skipping bert/encoder/layer_7/attention/output/dense/kernel/adam_m\n",
      "Skipping bert/encoder/layer_7/attention/output/dense/kernel/adam_v\n",
      "Initialize PyTorch weight ['bert', 'encoder', 'layer_7', 'attention', 'self', 'key', 'bias']\n",
      "Skipping bert/encoder/layer_7/attention/self/key/bias/adam_m\n",
      "Skipping bert/encoder/layer_7/attention/self/key/bias/adam_v\n",
      "Initialize PyTorch weight ['bert', 'encoder', 'layer_7', 'attention', 'self', 'key', 'kernel']\n",
      "Skipping bert/encoder/layer_7/attention/self/key/kernel/adam_m\n",
      "Skipping bert/encoder/layer_7/attention/self/key/kernel/adam_v\n",
      "Initialize PyTorch weight ['bert', 'encoder', 'layer_7', 'attention', 'self', 'query', 'bias']\n",
      "Skipping bert/encoder/layer_7/attention/self/query/bias/adam_m\n",
      "Skipping bert/encoder/layer_7/attention/self/query/bias/adam_v\n",
      "Initialize PyTorch weight ['bert', 'encoder', 'layer_7', 'attention', 'self', 'query', 'kernel']\n",
      "Skipping bert/encoder/layer_7/attention/self/query/kernel/adam_m\n",
      "Skipping bert/encoder/layer_7/attention/self/query/kernel/adam_v\n",
      "Initialize PyTorch weight ['bert', 'encoder', 'layer_7', 'attention', 'self', 'value', 'bias']\n",
      "Skipping bert/encoder/layer_7/attention/self/value/bias/adam_m\n",
      "Skipping bert/encoder/layer_7/attention/self/value/bias/adam_v\n",
      "Initialize PyTorch weight ['bert', 'encoder', 'layer_7', 'attention', 'self', 'value', 'kernel']\n",
      "Skipping bert/encoder/layer_7/attention/self/value/kernel/adam_m\n",
      "Skipping bert/encoder/layer_7/attention/self/value/kernel/adam_v\n",
      "Initialize PyTorch weight ['bert', 'encoder', 'layer_7', 'intermediate', 'dense', 'bias']\n",
      "Skipping bert/encoder/layer_7/intermediate/dense/bias/adam_m\n",
      "Skipping bert/encoder/layer_7/intermediate/dense/bias/adam_v\n",
      "Initialize PyTorch weight ['bert', 'encoder', 'layer_7', 'intermediate', 'dense', 'kernel']\n",
      "Skipping bert/encoder/layer_7/intermediate/dense/kernel/adam_m\n",
      "Skipping bert/encoder/layer_7/intermediate/dense/kernel/adam_v\n",
      "Initialize PyTorch weight ['bert', 'encoder', 'layer_7', 'output', 'LayerNorm', 'beta']\n",
      "Skipping bert/encoder/layer_7/output/LayerNorm/beta/adam_m\n",
      "Skipping bert/encoder/layer_7/output/LayerNorm/beta/adam_v\n",
      "Initialize PyTorch weight ['bert', 'encoder', 'layer_7', 'output', 'LayerNorm', 'gamma']\n",
      "Skipping bert/encoder/layer_7/output/LayerNorm/gamma/adam_m\n",
      "Skipping bert/encoder/layer_7/output/LayerNorm/gamma/adam_v\n",
      "Initialize PyTorch weight ['bert', 'encoder', 'layer_7', 'output', 'dense', 'bias']\n",
      "Skipping bert/encoder/layer_7/output/dense/bias/adam_m\n",
      "Skipping bert/encoder/layer_7/output/dense/bias/adam_v\n",
      "Initialize PyTorch weight ['bert', 'encoder', 'layer_7', 'output', 'dense', 'kernel']\n",
      "Skipping bert/encoder/layer_7/output/dense/kernel/adam_m\n",
      "Skipping bert/encoder/layer_7/output/dense/kernel/adam_v\n",
      "Initialize PyTorch weight ['bert', 'encoder', 'layer_8', 'attention', 'output', 'LayerNorm', 'beta']\n",
      "Skipping bert/encoder/layer_8/attention/output/LayerNorm/beta/adam_m\n",
      "Skipping bert/encoder/layer_8/attention/output/LayerNorm/beta/adam_v\n",
      "Initialize PyTorch weight ['bert', 'encoder', 'layer_8', 'attention', 'output', 'LayerNorm', 'gamma']\n",
      "Skipping bert/encoder/layer_8/attention/output/LayerNorm/gamma/adam_m\n",
      "Skipping bert/encoder/layer_8/attention/output/LayerNorm/gamma/adam_v\n",
      "Initialize PyTorch weight ['bert', 'encoder', 'layer_8', 'attention', 'output', 'dense', 'bias']\n",
      "Skipping bert/encoder/layer_8/attention/output/dense/bias/adam_m\n",
      "Skipping bert/encoder/layer_8/attention/output/dense/bias/adam_v\n",
      "Initialize PyTorch weight ['bert', 'encoder', 'layer_8', 'attention', 'output', 'dense', 'kernel']\n",
      "Skipping bert/encoder/layer_8/attention/output/dense/kernel/adam_m\n",
      "Skipping bert/encoder/layer_8/attention/output/dense/kernel/adam_v\n",
      "Initialize PyTorch weight ['bert', 'encoder', 'layer_8', 'attention', 'self', 'key', 'bias']\n",
      "Skipping bert/encoder/layer_8/attention/self/key/bias/adam_m\n",
      "Skipping bert/encoder/layer_8/attention/self/key/bias/adam_v\n",
      "Initialize PyTorch weight ['bert', 'encoder', 'layer_8', 'attention', 'self', 'key', 'kernel']\n",
      "Skipping bert/encoder/layer_8/attention/self/key/kernel/adam_m\n",
      "Skipping bert/encoder/layer_8/attention/self/key/kernel/adam_v\n",
      "Initialize PyTorch weight ['bert', 'encoder', 'layer_8', 'attention', 'self', 'query', 'bias']\n",
      "Skipping bert/encoder/layer_8/attention/self/query/bias/adam_m\n",
      "Skipping bert/encoder/layer_8/attention/self/query/bias/adam_v\n",
      "Initialize PyTorch weight ['bert', 'encoder', 'layer_8', 'attention', 'self', 'query', 'kernel']\n",
      "Skipping bert/encoder/layer_8/attention/self/query/kernel/adam_m\n",
      "Skipping bert/encoder/layer_8/attention/self/query/kernel/adam_v\n",
      "Initialize PyTorch weight ['bert', 'encoder', 'layer_8', 'attention', 'self', 'value', 'bias']\n",
      "Skipping bert/encoder/layer_8/attention/self/value/bias/adam_m\n",
      "Skipping bert/encoder/layer_8/attention/self/value/bias/adam_v\n",
      "Initialize PyTorch weight ['bert', 'encoder', 'layer_8', 'attention', 'self', 'value', 'kernel']\n",
      "Skipping bert/encoder/layer_8/attention/self/value/kernel/adam_m\n",
      "Skipping bert/encoder/layer_8/attention/self/value/kernel/adam_v\n",
      "Initialize PyTorch weight ['bert', 'encoder', 'layer_8', 'intermediate', 'dense', 'bias']\n",
      "Skipping bert/encoder/layer_8/intermediate/dense/bias/adam_m\n",
      "Skipping bert/encoder/layer_8/intermediate/dense/bias/adam_v\n",
      "Initialize PyTorch weight ['bert', 'encoder', 'layer_8', 'intermediate', 'dense', 'kernel']\n",
      "Skipping bert/encoder/layer_8/intermediate/dense/kernel/adam_m\n",
      "Skipping bert/encoder/layer_8/intermediate/dense/kernel/adam_v\n",
      "Initialize PyTorch weight ['bert', 'encoder', 'layer_8', 'output', 'LayerNorm', 'beta']\n",
      "Skipping bert/encoder/layer_8/output/LayerNorm/beta/adam_m\n",
      "Skipping bert/encoder/layer_8/output/LayerNorm/beta/adam_v\n",
      "Initialize PyTorch weight ['bert', 'encoder', 'layer_8', 'output', 'LayerNorm', 'gamma']\n",
      "Skipping bert/encoder/layer_8/output/LayerNorm/gamma/adam_m\n",
      "Skipping bert/encoder/layer_8/output/LayerNorm/gamma/adam_v\n",
      "Initialize PyTorch weight ['bert', 'encoder', 'layer_8', 'output', 'dense', 'bias']\n",
      "Skipping bert/encoder/layer_8/output/dense/bias/adam_m\n",
      "Skipping bert/encoder/layer_8/output/dense/bias/adam_v\n",
      "Initialize PyTorch weight ['bert', 'encoder', 'layer_8', 'output', 'dense', 'kernel']\n",
      "Skipping bert/encoder/layer_8/output/dense/kernel/adam_m\n",
      "Skipping bert/encoder/layer_8/output/dense/kernel/adam_v\n",
      "Initialize PyTorch weight ['bert', 'encoder', 'layer_9', 'attention', 'output', 'LayerNorm', 'beta']\n",
      "Skipping bert/encoder/layer_9/attention/output/LayerNorm/beta/adam_m\n",
      "Skipping bert/encoder/layer_9/attention/output/LayerNorm/beta/adam_v\n",
      "Initialize PyTorch weight ['bert', 'encoder', 'layer_9', 'attention', 'output', 'LayerNorm', 'gamma']\n",
      "Skipping bert/encoder/layer_9/attention/output/LayerNorm/gamma/adam_m\n",
      "Skipping bert/encoder/layer_9/attention/output/LayerNorm/gamma/adam_v\n",
      "Initialize PyTorch weight ['bert', 'encoder', 'layer_9', 'attention', 'output', 'dense', 'bias']\n",
      "Skipping bert/encoder/layer_9/attention/output/dense/bias/adam_m\n",
      "Skipping bert/encoder/layer_9/attention/output/dense/bias/adam_v\n",
      "Initialize PyTorch weight ['bert', 'encoder', 'layer_9', 'attention', 'output', 'dense', 'kernel']\n",
      "Skipping bert/encoder/layer_9/attention/output/dense/kernel/adam_m\n",
      "Skipping bert/encoder/layer_9/attention/output/dense/kernel/adam_v\n",
      "Initialize PyTorch weight ['bert', 'encoder', 'layer_9', 'attention', 'self', 'key', 'bias']\n",
      "Skipping bert/encoder/layer_9/attention/self/key/bias/adam_m\n",
      "Skipping bert/encoder/layer_9/attention/self/key/bias/adam_v\n",
      "Initialize PyTorch weight ['bert', 'encoder', 'layer_9', 'attention', 'self', 'key', 'kernel']\n",
      "Skipping bert/encoder/layer_9/attention/self/key/kernel/adam_m\n",
      "Skipping bert/encoder/layer_9/attention/self/key/kernel/adam_v\n",
      "Initialize PyTorch weight ['bert', 'encoder', 'layer_9', 'attention', 'self', 'query', 'bias']\n",
      "Skipping bert/encoder/layer_9/attention/self/query/bias/adam_m\n",
      "Skipping bert/encoder/layer_9/attention/self/query/bias/adam_v\n",
      "Initialize PyTorch weight ['bert', 'encoder', 'layer_9', 'attention', 'self', 'query', 'kernel']\n",
      "Skipping bert/encoder/layer_9/attention/self/query/kernel/adam_m\n",
      "Skipping bert/encoder/layer_9/attention/self/query/kernel/adam_v\n",
      "Initialize PyTorch weight ['bert', 'encoder', 'layer_9', 'attention', 'self', 'value', 'bias']\n",
      "Skipping bert/encoder/layer_9/attention/self/value/bias/adam_m\n",
      "Skipping bert/encoder/layer_9/attention/self/value/bias/adam_v\n",
      "Initialize PyTorch weight ['bert', 'encoder', 'layer_9', 'attention', 'self', 'value', 'kernel']\n",
      "Skipping bert/encoder/layer_9/attention/self/value/kernel/adam_m\n",
      "Skipping bert/encoder/layer_9/attention/self/value/kernel/adam_v\n",
      "Initialize PyTorch weight ['bert', 'encoder', 'layer_9', 'intermediate', 'dense', 'bias']\n",
      "Skipping bert/encoder/layer_9/intermediate/dense/bias/adam_m\n",
      "Skipping bert/encoder/layer_9/intermediate/dense/bias/adam_v\n",
      "Initialize PyTorch weight ['bert', 'encoder', 'layer_9', 'intermediate', 'dense', 'kernel']\n",
      "Skipping bert/encoder/layer_9/intermediate/dense/kernel/adam_m\n",
      "Skipping bert/encoder/layer_9/intermediate/dense/kernel/adam_v\n",
      "Initialize PyTorch weight ['bert', 'encoder', 'layer_9', 'output', 'LayerNorm', 'beta']\n",
      "Skipping bert/encoder/layer_9/output/LayerNorm/beta/adam_m\n",
      "Skipping bert/encoder/layer_9/output/LayerNorm/beta/adam_v\n",
      "Initialize PyTorch weight ['bert', 'encoder', 'layer_9', 'output', 'LayerNorm', 'gamma']\n",
      "Skipping bert/encoder/layer_9/output/LayerNorm/gamma/adam_m\n",
      "Skipping bert/encoder/layer_9/output/LayerNorm/gamma/adam_v\n",
      "Initialize PyTorch weight ['bert', 'encoder', 'layer_9', 'output', 'dense', 'bias']\n",
      "Skipping bert/encoder/layer_9/output/dense/bias/adam_m\n",
      "Skipping bert/encoder/layer_9/output/dense/bias/adam_v\n",
      "Initialize PyTorch weight ['bert', 'encoder', 'layer_9', 'output', 'dense', 'kernel']\n",
      "Skipping bert/encoder/layer_9/output/dense/kernel/adam_m\n",
      "Skipping bert/encoder/layer_9/output/dense/kernel/adam_v\n",
      "Initialize PyTorch weight ['bert', 'pooler', 'dense', 'bias']\n",
      "Initialize PyTorch weight ['bert', 'pooler', 'dense', 'kernel']\n",
      "Skipping cls/squad/output_bias\n",
      "Initialize PyTorch weight ['cls', 'squad', 'output_bias']\n",
      "Skipping cls/squad/output_bias/adam_m\n",
      "Skipping cls/squad/output_bias/adam_v\n",
      "Skipping cls/squad/output_weights\n",
      "Initialize PyTorch weight ['cls', 'squad', 'output_weights']\n",
      "Skipping cls/squad/output_weights/adam_m\n",
      "Skipping cls/squad/output_weights/adam_v\n",
      "Skipping global_step\n"
     ]
    },
    {
     "data": {
      "text/plain": [
       "BertForSequenceClassification(\n",
       "  (bert): BertModel(\n",
       "    (embeddings): BertEmbeddings(\n",
       "      (word_embeddings): Embedding(119547, 768, padding_idx=0)\n",
       "      (position_embeddings): Embedding(512, 768)\n",
       "      (token_type_embeddings): Embedding(2, 768)\n",
       "      (LayerNorm): BertLayerNorm()\n",
       "      (dropout): Dropout(p=0.1, inplace=False)\n",
       "    )\n",
       "    (encoder): BertEncoder(\n",
       "      (layer): ModuleList(\n",
       "        (0): BertLayer(\n",
       "          (attention): BertAttention(\n",
       "            (self): BertSelfAttention(\n",
       "              (query): Linear(in_features=768, out_features=768, bias=True)\n",
       "              (key): Linear(in_features=768, out_features=768, bias=True)\n",
       "              (value): Linear(in_features=768, out_features=768, bias=True)\n",
       "              (dropout): Dropout(p=0.1, inplace=False)\n",
       "            )\n",
       "            (output): BertSelfOutput(\n",
       "              (dense): Linear(in_features=768, out_features=768, bias=True)\n",
       "              (LayerNorm): BertLayerNorm()\n",
       "              (dropout): Dropout(p=0.1, inplace=False)\n",
       "            )\n",
       "          )\n",
       "          (intermediate): BertIntermediate(\n",
       "            (dense): Linear(in_features=768, out_features=3072, bias=True)\n",
       "          )\n",
       "          (output): BertOutput(\n",
       "            (dense): Linear(in_features=3072, out_features=768, bias=True)\n",
       "            (LayerNorm): BertLayerNorm()\n",
       "            (dropout): Dropout(p=0.1, inplace=False)\n",
       "          )\n",
       "        )\n",
       "        (1): BertLayer(\n",
       "          (attention): BertAttention(\n",
       "            (self): BertSelfAttention(\n",
       "              (query): Linear(in_features=768, out_features=768, bias=True)\n",
       "              (key): Linear(in_features=768, out_features=768, bias=True)\n",
       "              (value): Linear(in_features=768, out_features=768, bias=True)\n",
       "              (dropout): Dropout(p=0.1, inplace=False)\n",
       "            )\n",
       "            (output): BertSelfOutput(\n",
       "              (dense): Linear(in_features=768, out_features=768, bias=True)\n",
       "              (LayerNorm): BertLayerNorm()\n",
       "              (dropout): Dropout(p=0.1, inplace=False)\n",
       "            )\n",
       "          )\n",
       "          (intermediate): BertIntermediate(\n",
       "            (dense): Linear(in_features=768, out_features=3072, bias=True)\n",
       "          )\n",
       "          (output): BertOutput(\n",
       "            (dense): Linear(in_features=3072, out_features=768, bias=True)\n",
       "            (LayerNorm): BertLayerNorm()\n",
       "            (dropout): Dropout(p=0.1, inplace=False)\n",
       "          )\n",
       "        )\n",
       "        (2): BertLayer(\n",
       "          (attention): BertAttention(\n",
       "            (self): BertSelfAttention(\n",
       "              (query): Linear(in_features=768, out_features=768, bias=True)\n",
       "              (key): Linear(in_features=768, out_features=768, bias=True)\n",
       "              (value): Linear(in_features=768, out_features=768, bias=True)\n",
       "              (dropout): Dropout(p=0.1, inplace=False)\n",
       "            )\n",
       "            (output): BertSelfOutput(\n",
       "              (dense): Linear(in_features=768, out_features=768, bias=True)\n",
       "              (LayerNorm): BertLayerNorm()\n",
       "              (dropout): Dropout(p=0.1, inplace=False)\n",
       "            )\n",
       "          )\n",
       "          (intermediate): BertIntermediate(\n",
       "            (dense): Linear(in_features=768, out_features=3072, bias=True)\n",
       "          )\n",
       "          (output): BertOutput(\n",
       "            (dense): Linear(in_features=3072, out_features=768, bias=True)\n",
       "            (LayerNorm): BertLayerNorm()\n",
       "            (dropout): Dropout(p=0.1, inplace=False)\n",
       "          )\n",
       "        )\n",
       "        (3): BertLayer(\n",
       "          (attention): BertAttention(\n",
       "            (self): BertSelfAttention(\n",
       "              (query): Linear(in_features=768, out_features=768, bias=True)\n",
       "              (key): Linear(in_features=768, out_features=768, bias=True)\n",
       "              (value): Linear(in_features=768, out_features=768, bias=True)\n",
       "              (dropout): Dropout(p=0.1, inplace=False)\n",
       "            )\n",
       "            (output): BertSelfOutput(\n",
       "              (dense): Linear(in_features=768, out_features=768, bias=True)\n",
       "              (LayerNorm): BertLayerNorm()\n",
       "              (dropout): Dropout(p=0.1, inplace=False)\n",
       "            )\n",
       "          )\n",
       "          (intermediate): BertIntermediate(\n",
       "            (dense): Linear(in_features=768, out_features=3072, bias=True)\n",
       "          )\n",
       "          (output): BertOutput(\n",
       "            (dense): Linear(in_features=3072, out_features=768, bias=True)\n",
       "            (LayerNorm): BertLayerNorm()\n",
       "            (dropout): Dropout(p=0.1, inplace=False)\n",
       "          )\n",
       "        )\n",
       "        (4): BertLayer(\n",
       "          (attention): BertAttention(\n",
       "            (self): BertSelfAttention(\n",
       "              (query): Linear(in_features=768, out_features=768, bias=True)\n",
       "              (key): Linear(in_features=768, out_features=768, bias=True)\n",
       "              (value): Linear(in_features=768, out_features=768, bias=True)\n",
       "              (dropout): Dropout(p=0.1, inplace=False)\n",
       "            )\n",
       "            (output): BertSelfOutput(\n",
       "              (dense): Linear(in_features=768, out_features=768, bias=True)\n",
       "              (LayerNorm): BertLayerNorm()\n",
       "              (dropout): Dropout(p=0.1, inplace=False)\n",
       "            )\n",
       "          )\n",
       "          (intermediate): BertIntermediate(\n",
       "            (dense): Linear(in_features=768, out_features=3072, bias=True)\n",
       "          )\n",
       "          (output): BertOutput(\n",
       "            (dense): Linear(in_features=3072, out_features=768, bias=True)\n",
       "            (LayerNorm): BertLayerNorm()\n",
       "            (dropout): Dropout(p=0.1, inplace=False)\n",
       "          )\n",
       "        )\n",
       "        (5): BertLayer(\n",
       "          (attention): BertAttention(\n",
       "            (self): BertSelfAttention(\n",
       "              (query): Linear(in_features=768, out_features=768, bias=True)\n",
       "              (key): Linear(in_features=768, out_features=768, bias=True)\n",
       "              (value): Linear(in_features=768, out_features=768, bias=True)\n",
       "              (dropout): Dropout(p=0.1, inplace=False)\n",
       "            )\n",
       "            (output): BertSelfOutput(\n",
       "              (dense): Linear(in_features=768, out_features=768, bias=True)\n",
       "              (LayerNorm): BertLayerNorm()\n",
       "              (dropout): Dropout(p=0.1, inplace=False)\n",
       "            )\n",
       "          )\n",
       "          (intermediate): BertIntermediate(\n",
       "            (dense): Linear(in_features=768, out_features=3072, bias=True)\n",
       "          )\n",
       "          (output): BertOutput(\n",
       "            (dense): Linear(in_features=3072, out_features=768, bias=True)\n",
       "            (LayerNorm): BertLayerNorm()\n",
       "            (dropout): Dropout(p=0.1, inplace=False)\n",
       "          )\n",
       "        )\n",
       "        (6): BertLayer(\n",
       "          (attention): BertAttention(\n",
       "            (self): BertSelfAttention(\n",
       "              (query): Linear(in_features=768, out_features=768, bias=True)\n",
       "              (key): Linear(in_features=768, out_features=768, bias=True)\n",
       "              (value): Linear(in_features=768, out_features=768, bias=True)\n",
       "              (dropout): Dropout(p=0.1, inplace=False)\n",
       "            )\n",
       "            (output): BertSelfOutput(\n",
       "              (dense): Linear(in_features=768, out_features=768, bias=True)\n",
       "              (LayerNorm): BertLayerNorm()\n",
       "              (dropout): Dropout(p=0.1, inplace=False)\n",
       "            )\n",
       "          )\n",
       "          (intermediate): BertIntermediate(\n",
       "            (dense): Linear(in_features=768, out_features=3072, bias=True)\n",
       "          )\n",
       "          (output): BertOutput(\n",
       "            (dense): Linear(in_features=3072, out_features=768, bias=True)\n",
       "            (LayerNorm): BertLayerNorm()\n",
       "            (dropout): Dropout(p=0.1, inplace=False)\n",
       "          )\n",
       "        )\n",
       "        (7): BertLayer(\n",
       "          (attention): BertAttention(\n",
       "            (self): BertSelfAttention(\n",
       "              (query): Linear(in_features=768, out_features=768, bias=True)\n",
       "              (key): Linear(in_features=768, out_features=768, bias=True)\n",
       "              (value): Linear(in_features=768, out_features=768, bias=True)\n",
       "              (dropout): Dropout(p=0.1, inplace=False)\n",
       "            )\n",
       "            (output): BertSelfOutput(\n",
       "              (dense): Linear(in_features=768, out_features=768, bias=True)\n",
       "              (LayerNorm): BertLayerNorm()\n",
       "              (dropout): Dropout(p=0.1, inplace=False)\n",
       "            )\n",
       "          )\n",
       "          (intermediate): BertIntermediate(\n",
       "            (dense): Linear(in_features=768, out_features=3072, bias=True)\n",
       "          )\n",
       "          (output): BertOutput(\n",
       "            (dense): Linear(in_features=3072, out_features=768, bias=True)\n",
       "            (LayerNorm): BertLayerNorm()\n",
       "            (dropout): Dropout(p=0.1, inplace=False)\n",
       "          )\n",
       "        )\n",
       "        (8): BertLayer(\n",
       "          (attention): BertAttention(\n",
       "            (self): BertSelfAttention(\n",
       "              (query): Linear(in_features=768, out_features=768, bias=True)\n",
       "              (key): Linear(in_features=768, out_features=768, bias=True)\n",
       "              (value): Linear(in_features=768, out_features=768, bias=True)\n",
       "              (dropout): Dropout(p=0.1, inplace=False)\n",
       "            )\n",
       "            (output): BertSelfOutput(\n",
       "              (dense): Linear(in_features=768, out_features=768, bias=True)\n",
       "              (LayerNorm): BertLayerNorm()\n",
       "              (dropout): Dropout(p=0.1, inplace=False)\n",
       "            )\n",
       "          )\n",
       "          (intermediate): BertIntermediate(\n",
       "            (dense): Linear(in_features=768, out_features=3072, bias=True)\n",
       "          )\n",
       "          (output): BertOutput(\n",
       "            (dense): Linear(in_features=3072, out_features=768, bias=True)\n",
       "            (LayerNorm): BertLayerNorm()\n",
       "            (dropout): Dropout(p=0.1, inplace=False)\n",
       "          )\n",
       "        )\n",
       "        (9): BertLayer(\n",
       "          (attention): BertAttention(\n",
       "            (self): BertSelfAttention(\n",
       "              (query): Linear(in_features=768, out_features=768, bias=True)\n",
       "              (key): Linear(in_features=768, out_features=768, bias=True)\n",
       "              (value): Linear(in_features=768, out_features=768, bias=True)\n",
       "              (dropout): Dropout(p=0.1, inplace=False)\n",
       "            )\n",
       "            (output): BertSelfOutput(\n",
       "              (dense): Linear(in_features=768, out_features=768, bias=True)\n",
       "              (LayerNorm): BertLayerNorm()\n",
       "              (dropout): Dropout(p=0.1, inplace=False)\n",
       "            )\n",
       "          )\n",
       "          (intermediate): BertIntermediate(\n",
       "            (dense): Linear(in_features=768, out_features=3072, bias=True)\n",
       "          )\n",
       "          (output): BertOutput(\n",
       "            (dense): Linear(in_features=3072, out_features=768, bias=True)\n",
       "            (LayerNorm): BertLayerNorm()\n",
       "            (dropout): Dropout(p=0.1, inplace=False)\n",
       "          )\n",
       "        )\n",
       "        (10): BertLayer(\n",
       "          (attention): BertAttention(\n",
       "            (self): BertSelfAttention(\n",
       "              (query): Linear(in_features=768, out_features=768, bias=True)\n",
       "              (key): Linear(in_features=768, out_features=768, bias=True)\n",
       "              (value): Linear(in_features=768, out_features=768, bias=True)\n",
       "              (dropout): Dropout(p=0.1, inplace=False)\n",
       "            )\n",
       "            (output): BertSelfOutput(\n",
       "              (dense): Linear(in_features=768, out_features=768, bias=True)\n",
       "              (LayerNorm): BertLayerNorm()\n",
       "              (dropout): Dropout(p=0.1, inplace=False)\n",
       "            )\n",
       "          )\n",
       "          (intermediate): BertIntermediate(\n",
       "            (dense): Linear(in_features=768, out_features=3072, bias=True)\n",
       "          )\n",
       "          (output): BertOutput(\n",
       "            (dense): Linear(in_features=3072, out_features=768, bias=True)\n",
       "            (LayerNorm): BertLayerNorm()\n",
       "            (dropout): Dropout(p=0.1, inplace=False)\n",
       "          )\n",
       "        )\n",
       "        (11): BertLayer(\n",
       "          (attention): BertAttention(\n",
       "            (self): BertSelfAttention(\n",
       "              (query): Linear(in_features=768, out_features=768, bias=True)\n",
       "              (key): Linear(in_features=768, out_features=768, bias=True)\n",
       "              (value): Linear(in_features=768, out_features=768, bias=True)\n",
       "              (dropout): Dropout(p=0.1, inplace=False)\n",
       "            )\n",
       "            (output): BertSelfOutput(\n",
       "              (dense): Linear(in_features=768, out_features=768, bias=True)\n",
       "              (LayerNorm): BertLayerNorm()\n",
       "              (dropout): Dropout(p=0.1, inplace=False)\n",
       "            )\n",
       "          )\n",
       "          (intermediate): BertIntermediate(\n",
       "            (dense): Linear(in_features=768, out_features=3072, bias=True)\n",
       "          )\n",
       "          (output): BertOutput(\n",
       "            (dense): Linear(in_features=3072, out_features=768, bias=True)\n",
       "            (LayerNorm): BertLayerNorm()\n",
       "            (dropout): Dropout(p=0.1, inplace=False)\n",
       "          )\n",
       "        )\n",
       "      )\n",
       "    )\n",
       "    (pooler): BertPooler(\n",
       "      (dense): Linear(in_features=768, out_features=768, bias=True)\n",
       "      (activation): Tanh()\n",
       "    )\n",
       "  )\n",
       "  (dropout): Dropout(p=0.1, inplace=False)\n",
       "  (classifier): Linear(in_features=768, out_features=2, bias=True)\n",
       ")"
      ]
     },
     "execution_count": 53,
     "metadata": {},
     "output_type": "execute_result"
    }
   ],
   "source": [
    "load_tf_weights_in_bert(bert_model, BERT_INIT_CHECKPOINT)"
   ]
  },
  {
   "cell_type": "code",
   "execution_count": 54,
   "metadata": {},
   "outputs": [],
   "source": [
    "torch.save(bert_model.state_dict(), PYTORCH_MODEL_SAVE_PATH)"
   ]
  },
  {
   "cell_type": "markdown",
   "metadata": {},
   "source": [
    "#### tokenize"
   ]
  },
  {
   "cell_type": "code",
   "execution_count": 55,
   "metadata": {},
   "outputs": [],
   "source": [
    "tokenizer = BertTokenizer.from_pretrained(BERT_PRETRAINED_DIR)"
   ]
  },
  {
   "cell_type": "code",
   "execution_count": 56,
   "metadata": {},
   "outputs": [
    {
     "name": "stdout",
     "output_type": "stream",
     "text": [
      "['[CLS]', 'вже', 'ма', '##иже', 'до', '##бу', 'від', '##су', '##тня', 'га', '##ря', '##ча', 'вода', '[SEP]']\n"
     ]
    }
   ],
   "source": [
    "text = \"вже майже добу відсутня гаряча вода\"\n",
    "marked_text = \"[CLS] \" + text + \" [SEP]\"\n",
    "\n",
    "tokenized_text = tokenizer.tokenize(marked_text)\n",
    "\n",
    "print(tokenized_text)"
   ]
  },
  {
   "cell_type": "code",
   "execution_count": 57,
   "metadata": {},
   "outputs": [
    {
     "name": "stdout",
     "output_type": "stream",
     "text": [
      "[CLS]           101\n",
      "вже          23,692\n",
      "ма           97,744\n",
      "##иже        94,152\n",
      "до           10,344\n",
      "##бу         19,590\n",
      "від          11,141\n",
      "##су         16,417\n",
      "##тня        80,897\n",
      "га           16,616\n",
      "##ря         39,025\n",
      "##ча         13,035\n",
      "вода         30,953\n",
      "[SEP]           102\n"
     ]
    }
   ],
   "source": [
    "indexed_tokens = tokenizer.convert_tokens_to_ids(tokenized_text)\n",
    "\n",
    "for tup in zip(tokenized_text, indexed_tokens):\n",
    "    print('{:<12} {:>6,}'.format(tup[0], tup[1]))"
   ]
  },
  {
   "cell_type": "markdown",
   "metadata": {},
   "source": [
    "#### segment ids"
   ]
  },
  {
   "cell_type": "code",
   "execution_count": 58,
   "metadata": {},
   "outputs": [
    {
     "name": "stdout",
     "output_type": "stream",
     "text": [
      "[1, 1, 1, 1, 1, 1, 1, 1, 1, 1, 1, 1, 1, 1]\n"
     ]
    }
   ],
   "source": [
    "segments_ids = [1] * len(tokenized_text)\n",
    "\n",
    "print (segments_ids)"
   ]
  },
  {
   "cell_type": "markdown",
   "metadata": {},
   "source": [
    "I don't know why, but TF tokenizer works not correctly and doesn't recognize [CLS] and [SEP] tokens"
   ]
  },
  {
   "cell_type": "markdown",
   "metadata": {},
   "source": [
    "#### load model"
   ]
  },
  {
   "cell_type": "code",
   "execution_count": 59,
   "metadata": {},
   "outputs": [
    {
     "data": {
      "text/plain": [
       "BertModel(\n",
       "  (embeddings): BertEmbeddings(\n",
       "    (word_embeddings): Embedding(119547, 768, padding_idx=0)\n",
       "    (position_embeddings): Embedding(512, 768)\n",
       "    (token_type_embeddings): Embedding(2, 768)\n",
       "    (LayerNorm): BertLayerNorm()\n",
       "    (dropout): Dropout(p=0.1, inplace=False)\n",
       "  )\n",
       "  (encoder): BertEncoder(\n",
       "    (layer): ModuleList(\n",
       "      (0): BertLayer(\n",
       "        (attention): BertAttention(\n",
       "          (self): BertSelfAttention(\n",
       "            (query): Linear(in_features=768, out_features=768, bias=True)\n",
       "            (key): Linear(in_features=768, out_features=768, bias=True)\n",
       "            (value): Linear(in_features=768, out_features=768, bias=True)\n",
       "            (dropout): Dropout(p=0.1, inplace=False)\n",
       "          )\n",
       "          (output): BertSelfOutput(\n",
       "            (dense): Linear(in_features=768, out_features=768, bias=True)\n",
       "            (LayerNorm): BertLayerNorm()\n",
       "            (dropout): Dropout(p=0.1, inplace=False)\n",
       "          )\n",
       "        )\n",
       "        (intermediate): BertIntermediate(\n",
       "          (dense): Linear(in_features=768, out_features=3072, bias=True)\n",
       "        )\n",
       "        (output): BertOutput(\n",
       "          (dense): Linear(in_features=3072, out_features=768, bias=True)\n",
       "          (LayerNorm): BertLayerNorm()\n",
       "          (dropout): Dropout(p=0.1, inplace=False)\n",
       "        )\n",
       "      )\n",
       "      (1): BertLayer(\n",
       "        (attention): BertAttention(\n",
       "          (self): BertSelfAttention(\n",
       "            (query): Linear(in_features=768, out_features=768, bias=True)\n",
       "            (key): Linear(in_features=768, out_features=768, bias=True)\n",
       "            (value): Linear(in_features=768, out_features=768, bias=True)\n",
       "            (dropout): Dropout(p=0.1, inplace=False)\n",
       "          )\n",
       "          (output): BertSelfOutput(\n",
       "            (dense): Linear(in_features=768, out_features=768, bias=True)\n",
       "            (LayerNorm): BertLayerNorm()\n",
       "            (dropout): Dropout(p=0.1, inplace=False)\n",
       "          )\n",
       "        )\n",
       "        (intermediate): BertIntermediate(\n",
       "          (dense): Linear(in_features=768, out_features=3072, bias=True)\n",
       "        )\n",
       "        (output): BertOutput(\n",
       "          (dense): Linear(in_features=3072, out_features=768, bias=True)\n",
       "          (LayerNorm): BertLayerNorm()\n",
       "          (dropout): Dropout(p=0.1, inplace=False)\n",
       "        )\n",
       "      )\n",
       "      (2): BertLayer(\n",
       "        (attention): BertAttention(\n",
       "          (self): BertSelfAttention(\n",
       "            (query): Linear(in_features=768, out_features=768, bias=True)\n",
       "            (key): Linear(in_features=768, out_features=768, bias=True)\n",
       "            (value): Linear(in_features=768, out_features=768, bias=True)\n",
       "            (dropout): Dropout(p=0.1, inplace=False)\n",
       "          )\n",
       "          (output): BertSelfOutput(\n",
       "            (dense): Linear(in_features=768, out_features=768, bias=True)\n",
       "            (LayerNorm): BertLayerNorm()\n",
       "            (dropout): Dropout(p=0.1, inplace=False)\n",
       "          )\n",
       "        )\n",
       "        (intermediate): BertIntermediate(\n",
       "          (dense): Linear(in_features=768, out_features=3072, bias=True)\n",
       "        )\n",
       "        (output): BertOutput(\n",
       "          (dense): Linear(in_features=3072, out_features=768, bias=True)\n",
       "          (LayerNorm): BertLayerNorm()\n",
       "          (dropout): Dropout(p=0.1, inplace=False)\n",
       "        )\n",
       "      )\n",
       "      (3): BertLayer(\n",
       "        (attention): BertAttention(\n",
       "          (self): BertSelfAttention(\n",
       "            (query): Linear(in_features=768, out_features=768, bias=True)\n",
       "            (key): Linear(in_features=768, out_features=768, bias=True)\n",
       "            (value): Linear(in_features=768, out_features=768, bias=True)\n",
       "            (dropout): Dropout(p=0.1, inplace=False)\n",
       "          )\n",
       "          (output): BertSelfOutput(\n",
       "            (dense): Linear(in_features=768, out_features=768, bias=True)\n",
       "            (LayerNorm): BertLayerNorm()\n",
       "            (dropout): Dropout(p=0.1, inplace=False)\n",
       "          )\n",
       "        )\n",
       "        (intermediate): BertIntermediate(\n",
       "          (dense): Linear(in_features=768, out_features=3072, bias=True)\n",
       "        )\n",
       "        (output): BertOutput(\n",
       "          (dense): Linear(in_features=3072, out_features=768, bias=True)\n",
       "          (LayerNorm): BertLayerNorm()\n",
       "          (dropout): Dropout(p=0.1, inplace=False)\n",
       "        )\n",
       "      )\n",
       "      (4): BertLayer(\n",
       "        (attention): BertAttention(\n",
       "          (self): BertSelfAttention(\n",
       "            (query): Linear(in_features=768, out_features=768, bias=True)\n",
       "            (key): Linear(in_features=768, out_features=768, bias=True)\n",
       "            (value): Linear(in_features=768, out_features=768, bias=True)\n",
       "            (dropout): Dropout(p=0.1, inplace=False)\n",
       "          )\n",
       "          (output): BertSelfOutput(\n",
       "            (dense): Linear(in_features=768, out_features=768, bias=True)\n",
       "            (LayerNorm): BertLayerNorm()\n",
       "            (dropout): Dropout(p=0.1, inplace=False)\n",
       "          )\n",
       "        )\n",
       "        (intermediate): BertIntermediate(\n",
       "          (dense): Linear(in_features=768, out_features=3072, bias=True)\n",
       "        )\n",
       "        (output): BertOutput(\n",
       "          (dense): Linear(in_features=3072, out_features=768, bias=True)\n",
       "          (LayerNorm): BertLayerNorm()\n",
       "          (dropout): Dropout(p=0.1, inplace=False)\n",
       "        )\n",
       "      )\n",
       "      (5): BertLayer(\n",
       "        (attention): BertAttention(\n",
       "          (self): BertSelfAttention(\n",
       "            (query): Linear(in_features=768, out_features=768, bias=True)\n",
       "            (key): Linear(in_features=768, out_features=768, bias=True)\n",
       "            (value): Linear(in_features=768, out_features=768, bias=True)\n",
       "            (dropout): Dropout(p=0.1, inplace=False)\n",
       "          )\n",
       "          (output): BertSelfOutput(\n",
       "            (dense): Linear(in_features=768, out_features=768, bias=True)\n",
       "            (LayerNorm): BertLayerNorm()\n",
       "            (dropout): Dropout(p=0.1, inplace=False)\n",
       "          )\n",
       "        )\n",
       "        (intermediate): BertIntermediate(\n",
       "          (dense): Linear(in_features=768, out_features=3072, bias=True)\n",
       "        )\n",
       "        (output): BertOutput(\n",
       "          (dense): Linear(in_features=3072, out_features=768, bias=True)\n",
       "          (LayerNorm): BertLayerNorm()\n",
       "          (dropout): Dropout(p=0.1, inplace=False)\n",
       "        )\n",
       "      )\n",
       "      (6): BertLayer(\n",
       "        (attention): BertAttention(\n",
       "          (self): BertSelfAttention(\n",
       "            (query): Linear(in_features=768, out_features=768, bias=True)\n",
       "            (key): Linear(in_features=768, out_features=768, bias=True)\n",
       "            (value): Linear(in_features=768, out_features=768, bias=True)\n",
       "            (dropout): Dropout(p=0.1, inplace=False)\n",
       "          )\n",
       "          (output): BertSelfOutput(\n",
       "            (dense): Linear(in_features=768, out_features=768, bias=True)\n",
       "            (LayerNorm): BertLayerNorm()\n",
       "            (dropout): Dropout(p=0.1, inplace=False)\n",
       "          )\n",
       "        )\n",
       "        (intermediate): BertIntermediate(\n",
       "          (dense): Linear(in_features=768, out_features=3072, bias=True)\n",
       "        )\n",
       "        (output): BertOutput(\n",
       "          (dense): Linear(in_features=3072, out_features=768, bias=True)\n",
       "          (LayerNorm): BertLayerNorm()\n",
       "          (dropout): Dropout(p=0.1, inplace=False)\n",
       "        )\n",
       "      )\n",
       "      (7): BertLayer(\n",
       "        (attention): BertAttention(\n",
       "          (self): BertSelfAttention(\n",
       "            (query): Linear(in_features=768, out_features=768, bias=True)\n",
       "            (key): Linear(in_features=768, out_features=768, bias=True)\n",
       "            (value): Linear(in_features=768, out_features=768, bias=True)\n",
       "            (dropout): Dropout(p=0.1, inplace=False)\n",
       "          )\n",
       "          (output): BertSelfOutput(\n",
       "            (dense): Linear(in_features=768, out_features=768, bias=True)\n",
       "            (LayerNorm): BertLayerNorm()\n",
       "            (dropout): Dropout(p=0.1, inplace=False)\n",
       "          )\n",
       "        )\n",
       "        (intermediate): BertIntermediate(\n",
       "          (dense): Linear(in_features=768, out_features=3072, bias=True)\n",
       "        )\n",
       "        (output): BertOutput(\n",
       "          (dense): Linear(in_features=3072, out_features=768, bias=True)\n",
       "          (LayerNorm): BertLayerNorm()\n",
       "          (dropout): Dropout(p=0.1, inplace=False)\n",
       "        )\n",
       "      )\n",
       "      (8): BertLayer(\n",
       "        (attention): BertAttention(\n",
       "          (self): BertSelfAttention(\n",
       "            (query): Linear(in_features=768, out_features=768, bias=True)\n",
       "            (key): Linear(in_features=768, out_features=768, bias=True)\n",
       "            (value): Linear(in_features=768, out_features=768, bias=True)\n",
       "            (dropout): Dropout(p=0.1, inplace=False)\n",
       "          )\n",
       "          (output): BertSelfOutput(\n",
       "            (dense): Linear(in_features=768, out_features=768, bias=True)\n",
       "            (LayerNorm): BertLayerNorm()\n",
       "            (dropout): Dropout(p=0.1, inplace=False)\n",
       "          )\n",
       "        )\n",
       "        (intermediate): BertIntermediate(\n",
       "          (dense): Linear(in_features=768, out_features=3072, bias=True)\n",
       "        )\n",
       "        (output): BertOutput(\n",
       "          (dense): Linear(in_features=3072, out_features=768, bias=True)\n",
       "          (LayerNorm): BertLayerNorm()\n",
       "          (dropout): Dropout(p=0.1, inplace=False)\n",
       "        )\n",
       "      )\n",
       "      (9): BertLayer(\n",
       "        (attention): BertAttention(\n",
       "          (self): BertSelfAttention(\n",
       "            (query): Linear(in_features=768, out_features=768, bias=True)\n",
       "            (key): Linear(in_features=768, out_features=768, bias=True)\n",
       "            (value): Linear(in_features=768, out_features=768, bias=True)\n",
       "            (dropout): Dropout(p=0.1, inplace=False)\n",
       "          )\n",
       "          (output): BertSelfOutput(\n",
       "            (dense): Linear(in_features=768, out_features=768, bias=True)\n",
       "            (LayerNorm): BertLayerNorm()\n",
       "            (dropout): Dropout(p=0.1, inplace=False)\n",
       "          )\n",
       "        )\n",
       "        (intermediate): BertIntermediate(\n",
       "          (dense): Linear(in_features=768, out_features=3072, bias=True)\n",
       "        )\n",
       "        (output): BertOutput(\n",
       "          (dense): Linear(in_features=3072, out_features=768, bias=True)\n",
       "          (LayerNorm): BertLayerNorm()\n",
       "          (dropout): Dropout(p=0.1, inplace=False)\n",
       "        )\n",
       "      )\n",
       "      (10): BertLayer(\n",
       "        (attention): BertAttention(\n",
       "          (self): BertSelfAttention(\n",
       "            (query): Linear(in_features=768, out_features=768, bias=True)\n",
       "            (key): Linear(in_features=768, out_features=768, bias=True)\n",
       "            (value): Linear(in_features=768, out_features=768, bias=True)\n",
       "            (dropout): Dropout(p=0.1, inplace=False)\n",
       "          )\n",
       "          (output): BertSelfOutput(\n",
       "            (dense): Linear(in_features=768, out_features=768, bias=True)\n",
       "            (LayerNorm): BertLayerNorm()\n",
       "            (dropout): Dropout(p=0.1, inplace=False)\n",
       "          )\n",
       "        )\n",
       "        (intermediate): BertIntermediate(\n",
       "          (dense): Linear(in_features=768, out_features=3072, bias=True)\n",
       "        )\n",
       "        (output): BertOutput(\n",
       "          (dense): Linear(in_features=3072, out_features=768, bias=True)\n",
       "          (LayerNorm): BertLayerNorm()\n",
       "          (dropout): Dropout(p=0.1, inplace=False)\n",
       "        )\n",
       "      )\n",
       "      (11): BertLayer(\n",
       "        (attention): BertAttention(\n",
       "          (self): BertSelfAttention(\n",
       "            (query): Linear(in_features=768, out_features=768, bias=True)\n",
       "            (key): Linear(in_features=768, out_features=768, bias=True)\n",
       "            (value): Linear(in_features=768, out_features=768, bias=True)\n",
       "            (dropout): Dropout(p=0.1, inplace=False)\n",
       "          )\n",
       "          (output): BertSelfOutput(\n",
       "            (dense): Linear(in_features=768, out_features=768, bias=True)\n",
       "            (LayerNorm): BertLayerNorm()\n",
       "            (dropout): Dropout(p=0.1, inplace=False)\n",
       "          )\n",
       "        )\n",
       "        (intermediate): BertIntermediate(\n",
       "          (dense): Linear(in_features=768, out_features=3072, bias=True)\n",
       "        )\n",
       "        (output): BertOutput(\n",
       "          (dense): Linear(in_features=3072, out_features=768, bias=True)\n",
       "          (LayerNorm): BertLayerNorm()\n",
       "          (dropout): Dropout(p=0.1, inplace=False)\n",
       "        )\n",
       "      )\n",
       "    )\n",
       "  )\n",
       "  (pooler): BertPooler(\n",
       "    (dense): Linear(in_features=768, out_features=768, bias=True)\n",
       "    (activation): Tanh()\n",
       "  )\n",
       ")"
      ]
     },
     "execution_count": 59,
     "metadata": {},
     "output_type": "execute_result"
    }
   ],
   "source": [
    "bert_model = BertModel.from_pretrained(BERT_PRETRAINED_DIR)\n",
    "\n",
    "bert_model.eval()"
   ]
  },
  {
   "cell_type": "code",
   "execution_count": 60,
   "metadata": {},
   "outputs": [],
   "source": [
    "tokens_tensor = torch.tensor([indexed_tokens])\n",
    "segments_tensors = torch.tensor([segments_ids])"
   ]
  },
  {
   "cell_type": "code",
   "execution_count": 61,
   "metadata": {},
   "outputs": [],
   "source": [
    "with torch.no_grad():\n",
    "    encoded_layers, _ = bert_model(tokens_tensor, segments_tensors)"
   ]
  },
  {
   "cell_type": "markdown",
   "metadata": {},
   "source": [
    "#### study the output"
   ]
  },
  {
   "cell_type": "markdown",
   "metadata": {},
   "source": [
    "The layer number (12 layers)  \n",
    "The batch number (1 sentence)  \n",
    "The word / token number (14 tokens in our sentence)  \n",
    "The hidden unit / feature number (768 features)"
   ]
  },
  {
   "cell_type": "code",
   "execution_count": 62,
   "metadata": {},
   "outputs": [
    {
     "name": "stdout",
     "output_type": "stream",
     "text": [
      "Number of layers: 12\n",
      "Number of batches: 1\n",
      "Number of tokens: 14\n",
      "Number of hidden units: 768\n"
     ]
    }
   ],
   "source": [
    "layer_i, batch_i, token_i = 0, 0, 0\n",
    "\n",
    "print (\"Number of layers:\", len(encoded_layers))\n",
    "print (\"Number of batches:\", len(encoded_layers[layer_i]))\n",
    "print (\"Number of tokens:\", len(encoded_layers[layer_i][batch_i]))\n",
    "print (\"Number of hidden units:\", len(encoded_layers[layer_i][batch_i][token_i]))"
   ]
  },
  {
   "cell_type": "code",
   "execution_count": 63,
   "metadata": {},
   "outputs": [
    {
     "data": {
      "image/png": "[encoded data removed]",
      "text/plain": [
       "<Figure size 720x720 with 1 Axes>"
      ]
     },
     "metadata": {
      "needs_background": "light"
     },
     "output_type": "display_data"
    }
   ],
   "source": [
    "# For the 5th token in our sentence, select its feature values from layer 5.\n",
    "token_i = 5\n",
    "layer_i = 5\n",
    "vec = encoded_layers[layer_i][batch_i][token_i]\n",
    "\n",
    "# Plot the values as a histogram to show their distribution.\n",
    "plt.figure(figsize=(10,10))\n",
    "plt.hist(vec, bins=200)\n",
    "plt.show()"
   ]
  },
  {
   "cell_type": "markdown",
   "metadata": {},
   "source": [
    "Current dimensions:\n",
    "\n",
    "``[# layers, # batches, # tokens, # features]``\n",
    "\n",
    "Desired dimensions:\n",
    "\n",
    "``[# tokens, # layers, # features]``\n",
    "\n",
    "We remove dimension 1, the \"batches\", as we don't need it."
   ]
  },
  {
   "cell_type": "code",
   "execution_count": 64,
   "metadata": {},
   "outputs": [
    {
     "data": {
      "text/plain": [
       "torch.Size([12, 1, 14, 768])"
      ]
     },
     "execution_count": 64,
     "metadata": {},
     "output_type": "execute_result"
    }
   ],
   "source": [
    "token_embeddings = torch.stack(encoded_layers, dim=0)\n",
    "\n",
    "token_embeddings.size()"
   ]
  },
  {
   "cell_type": "code",
   "execution_count": 65,
   "metadata": {},
   "outputs": [
    {
     "data": {
      "text/plain": [
       "torch.Size([12, 14, 768])"
      ]
     },
     "execution_count": 65,
     "metadata": {},
     "output_type": "execute_result"
    }
   ],
   "source": [
    "token_embeddings = torch.squeeze(token_embeddings, dim=1)\n",
    "\n",
    "token_embeddings.size()"
   ]
  },
  {
   "cell_type": "code",
   "execution_count": 66,
   "metadata": {},
   "outputs": [
    {
     "data": {
      "text/plain": [
       "torch.Size([14, 12, 768])"
      ]
     },
     "execution_count": 66,
     "metadata": {},
     "output_type": "execute_result"
    }
   ],
   "source": [
    "token_embeddings = token_embeddings.permute(1,0,2)\n",
    "\n",
    "token_embeddings.size()"
   ]
  },
  {
   "cell_type": "markdown",
   "metadata": {},
   "source": [
    "#### bert word embeddings"
   ]
  },
  {
   "cell_type": "markdown",
   "metadata": {},
   "source": [
    "Good blog with recomendations [Jay Allamar’s blog](http://jalammar.github.io/illustrated-bert/). Image also from there "
   ]
  },
  {
   "cell_type": "markdown",
   "metadata": {},
   "source": [
    "![text](http://jalammar.github.io/images/bert-feature-extraction-contextualized-embeddings.png)"
   ]
  },
  {
   "cell_type": "code",
   "execution_count": 67,
   "metadata": {},
   "outputs": [],
   "source": [
    "def bert_word_emb(text):\n",
    "    marked_text = \"[CLS] \" + text + \" [SEP]\"\n",
    "    \n",
    "    tokenized_text = tokenizer.tokenize(marked_text)\n",
    "    indexed_tokens = tokenizer.convert_tokens_to_ids(tokenized_text)\n",
    "    segments_ids = [1] * len(tokenized_text)\n",
    "    \n",
    "    tokens_tensor = torch.tensor([indexed_tokens])\n",
    "    segments_tensors = torch.tensor([segments_ids])\n",
    "    \n",
    "    with torch.no_grad():\n",
    "        encoded_layers, _ = bert_model(tokens_tensor, segments_tensors)\n",
    "        \n",
    "    token_embeddings = torch.stack(encoded_layers, dim=0)\n",
    "    token_embeddings = torch.squeeze(token_embeddings, dim=1)\n",
    "    token_embeddings = token_embeddings.permute(1,0,2)\n",
    "    \n",
    "    return token_embeddings"
   ]
  },
  {
   "cell_type": "markdown",
   "metadata": {},
   "source": [
    "##### concatenate the last four layers"
   ]
  },
  {
   "cell_type": "code",
   "execution_count": 68,
   "metadata": {},
   "outputs": [],
   "source": [
    "def bert_emb_concat(emb):\n",
    "    token_vecs_concat = []\n",
    "\n",
    "    for token in token_embeddings:\n",
    "        cat_vec = torch.cat((token[-1], token[-2], token[-3], token[-4]), dim=0)\n",
    "        token_vecs_concat.append(cat_vec)\n",
    "        \n",
    "    return torch.stack(token_vecs_concat, dim=0)"
   ]
  },
  {
   "cell_type": "code",
   "execution_count": 69,
   "metadata": {},
   "outputs": [
    {
     "name": "stdout",
     "output_type": "stream",
     "text": [
      "shape: torch.Size([14, 3072])\n"
     ]
    }
   ],
   "source": [
    "token_vecs_concat = bert_emb_concat(bert_word_emb(text))\n",
    "\n",
    "print (f'shape: {token_vecs_concat.shape}')"
   ]
  },
  {
   "cell_type": "markdown",
   "metadata": {},
   "source": [
    "##### sum last four layers"
   ]
  },
  {
   "cell_type": "code",
   "execution_count": 70,
   "metadata": {},
   "outputs": [],
   "source": [
    "def bert_emb_sum(emb):\n",
    "    token_vecs_sum = []\n",
    "\n",
    "    for token in token_embeddings:\n",
    "        sum_vec = torch.sum(token[-4:], dim=0)\n",
    "        token_vecs_sum.append(sum_vec)\n",
    "        \n",
    "    return torch.stack(token_vecs_sum, dim=0)"
   ]
  },
  {
   "cell_type": "code",
   "execution_count": 71,
   "metadata": {},
   "outputs": [
    {
     "name": "stdout",
     "output_type": "stream",
     "text": [
      "shape: torch.Size([14, 768])\n"
     ]
    }
   ],
   "source": [
    "token_vecs_sum = bert_emb_sum(bert_word_emb(text))\n",
    "\n",
    "print (f'shape: {token_vecs_sum.shape}')"
   ]
  },
  {
   "cell_type": "markdown",
   "metadata": {},
   "source": [
    "#### bert sentence embeddings"
   ]
  },
  {
   "cell_type": "markdown",
   "metadata": {},
   "source": [
    "Simple approach is to average the second to last hidden layer of each token producing a single 768 length vector."
   ]
  },
  {
   "cell_type": "code",
   "execution_count": 72,
   "metadata": {},
   "outputs": [],
   "source": [
    "def bert_sent_emb(text):\n",
    "    token_embeddings = bert_word_emb(text)\n",
    "    token_vecs = token_embeddings[:, 11]\n",
    "    sentence_embedding = torch.mean(token_vecs, dim=0).reshape(1, -1)\n",
    "\n",
    "    return sentence_embedding"
   ]
  },
  {
   "cell_type": "code",
   "execution_count": 73,
   "metadata": {},
   "outputs": [
    {
     "name": "stdout",
     "output_type": "stream",
     "text": [
      "torch.Size([1, 768])\n"
     ]
    }
   ],
   "source": [
    "sentence_embedding = bert_sent_emb(text)\n",
    "print(sentence_embedding.shape)"
   ]
  },
  {
   "cell_type": "markdown",
   "metadata": {},
   "source": [
    "#### sample distance test"
   ]
  },
  {
   "cell_type": "markdown",
   "metadata": {},
   "source": [
    "##### same topic similarity"
   ]
  },
  {
   "cell_type": "code",
   "execution_count": 74,
   "metadata": {},
   "outputs": [
    {
     "name": "stdout",
     "output_type": "stream",
     "text": [
      "Відсутність ГВП\n",
      "*************\n",
      "хочу дізнатися причину відсутності гвп і термін його відсутності\n",
      "*************\n",
      "відсутня гаряча вода, більше місяця\n"
     ]
    }
   ],
   "source": [
    "lang = 'uk'\n",
    "\n",
    "if lang == 'ru':\n",
    "    tmp = data_ru.loc[data_ru.cat_count == data_ru.cat_count.max()].sample(2)\n",
    "else:\n",
    "    tmp = data_uk.loc[data_uk.cat_count == data_uk.cat_count.max()].sample(2)\n",
    "    \n",
    "cat = tmp['label'].unique()[0]\n",
    "sample1 = clean_text(tmp['text'].values[0])\n",
    "sample2 = clean_text(tmp['text'].values[1])\n",
    "\n",
    "print(cat, sample1, sample2, sep=\"\\n*************\\n\")"
   ]
  },
  {
   "cell_type": "code",
   "execution_count": 75,
   "metadata": {},
   "outputs": [
    {
     "name": "stdout",
     "output_type": "stream",
     "text": [
      "Embedding shape: torch.Size([1, 768])\n",
      "Raw text similarity: 0.9865012168884277\n",
      "Clean text similarity: 0.9914160370826721\n"
     ]
    }
   ],
   "source": [
    "print('Embedding shape:', bert_sent_emb(sample1).shape)\n",
    "print('Raw text similarity:', cos_sim(bert_sent_emb(sample1), bert_sent_emb(sample2)))\n",
    "print('Clean text similarity:', cos_sim(bert_sent_emb(\" \".join(text2tokens(sample1, lemma=True))), \n",
    "                                        bert_sent_emb(\" \".join(text2tokens(sample2, lemma=True)))))"
   ]
  },
  {
   "cell_type": "markdown",
   "metadata": {},
   "source": [
    "##### different topic similarity"
   ]
  },
  {
   "cell_type": "code",
   "execution_count": 76,
   "metadata": {},
   "outputs": [
    {
     "name": "stdout",
     "output_type": "stream",
     "text": [
      "Відсутність ГВП\n",
      "*************\n",
      "коли нарешті буде нормальне постачання теплої води? тарифи на воду підняли, а з теплого крану йде холодна вода.\n",
      "*************\n",
      "Укладання та ремонт асфальтного покриття\n",
      "*************\n",
      "повторне звернення стосовно скарги т-1241. за три місяці так і не було отримано ні відповіді від начальника кп «ужг», ні вирішення проблеми. прошу ще раз поставити питання що до асфальтування ям на вказаному відрізку у зверненні т-1241, або вказати причину відмови чи неможливості вирішення цього питання. дякую.\n"
     ]
    }
   ],
   "source": [
    "lang = 'uk'\n",
    "\n",
    "if lang == 'ru':\n",
    "    top_2_labels = data_ru.label.value_counts().keys()[:2]\n",
    "    sample1 = data_ru.loc[data_ru.label == top_2_labels[0]].sample()['text_clean'].values[0]\n",
    "    sample2 = data_ru.loc[data_ru.label == top_2_labels[1]].sample()['text_clean'].values[0]\n",
    "    \n",
    "else:\n",
    "    top_2_labels = data_uk.label.value_counts().keys()[:2]\n",
    "    sample1 = data_uk.loc[data_uk.label == top_2_labels[0]].sample()['text_clean'].values[0]\n",
    "    sample2 = data_uk.loc[data_uk.label == top_2_labels[1]].sample()['text_clean'].values[0]\n",
    "\n",
    "print(top_2_labels[0], sample1, top_2_labels[1], sample2, sep=\"\\n*************\\n\")"
   ]
  },
  {
   "cell_type": "code",
   "execution_count": 77,
   "metadata": {},
   "outputs": [
    {
     "name": "stdout",
     "output_type": "stream",
     "text": [
      "Embedding shape: torch.Size([1, 768])\n",
      "Raw text similarity: 0.9841408729553223\n",
      "Clean text similarity: 0.9958609342575073\n"
     ]
    }
   ],
   "source": [
    "print('Embedding shape:', bert_sent_emb(sample1).shape)\n",
    "print('Raw text similarity:', cos_sim(bert_sent_emb(sample1), bert_sent_emb(sample2)))\n",
    "print('Clean text similarity:', cos_sim(bert_sent_emb(\" \".join(text2tokens(sample1, lemma=True))), \n",
    "                                        bert_sent_emb(\" \".join(text2tokens(sample2, lemma=True)))))"
   ]
  },
  {
   "cell_type": "markdown",
   "metadata": {},
   "source": [
    "I assume, Ukrainian BERT trained on tragically small amount of data, which leads to such result as you see above.\n",
    "Averaging is total fail. Maybe should be tried word embeddings instead of sentence for training purposes"
   ]
  },
  {
   "cell_type": "markdown",
   "metadata": {},
   "source": [
    "### Finalize and train/test split"
   ]
  },
  {
   "cell_type": "code",
   "execution_count": 78,
   "metadata": {},
   "outputs": [],
   "source": [
    "from sklearn.model_selection import train_test_split"
   ]
  },
  {
   "cell_type": "code",
   "execution_count": 79,
   "metadata": {},
   "outputs": [],
   "source": [
    "data = pd.concat([data_ru, data_uk])[['text_clean', 'label']]\n",
    "target = data['label']"
   ]
  },
  {
   "cell_type": "code",
   "execution_count": 80,
   "metadata": {},
   "outputs": [],
   "source": [
    "RANDOM_SEED = 0\n",
    "num_classes = target.unique().shape[0]"
   ]
  },
  {
   "cell_type": "markdown",
   "metadata": {},
   "source": [
    "##### prepare USE embeddings"
   ]
  },
  {
   "cell_type": "code",
   "execution_count": 81,
   "metadata": {},
   "outputs": [
    {
     "name": "stderr",
     "output_type": "stream",
     "text": [
      "100%|██████████| 1137/1137 [00:53<00:00, 21.13it/s]\n"
     ]
    }
   ],
   "source": [
    "res = []\n",
    "\n",
    "for i in tqdm(range(int(data.shape[0] / 100) + 1)):\n",
    "    res.append(use_embed(data['text_clean'].values[i*100:(i+1)*100]))\n",
    "\n",
    "use_vec = np.vstack(res)"
   ]
  },
  {
   "cell_type": "code",
   "execution_count": 82,
   "metadata": {},
   "outputs": [
    {
     "data": {
      "text/plain": [
       "(113649, 512)"
      ]
     },
     "execution_count": 82,
     "metadata": {},
     "output_type": "execute_result"
    }
   ],
   "source": [
    "use_vec.shape"
   ]
  },
  {
   "cell_type": "markdown",
   "metadata": {},
   "source": [
    "##### prepare BERT embeddings"
   ]
  },
  {
   "cell_type": "code",
   "execution_count": 83,
   "metadata": {},
   "outputs": [],
   "source": [
    "try:\n",
    "    bert_vec = torch.load('bert_emb.pt')\n",
    "except FileNotFoundError:\n",
    "    res = []\n",
    "    for item in tqdm(data['text_clean'].values):\n",
    "        res.append(bert_sent_emb(item))\n",
    "    bert_vec = torch.squeeze(torch.stack(res, dim=0), dim=1)\n",
    "    torch.save(bert_vec, 'bert_emb.pt')"
   ]
  },
  {
   "cell_type": "code",
   "execution_count": 84,
   "metadata": {},
   "outputs": [],
   "source": [
    "bert_vec = bert_vec.numpy()"
   ]
  },
  {
   "cell_type": "code",
   "execution_count": 85,
   "metadata": {},
   "outputs": [
    {
     "data": {
      "text/plain": [
       "(113669, 768)"
      ]
     },
     "execution_count": 85,
     "metadata": {},
     "output_type": "execute_result"
    }
   ],
   "source": [
    "bert_vec.shape"
   ]
  },
  {
   "cell_type": "markdown",
   "metadata": {},
   "source": [
    "##### prepare GloVe embeddings"
   ]
  },
  {
   "cell_type": "code",
   "execution_count": 86,
   "metadata": {},
   "outputs": [],
   "source": [
    "mode = 'concat'"
   ]
  },
  {
   "cell_type": "code",
   "execution_count": 100,
   "metadata": {},
   "outputs": [],
   "source": [
    "try:\n",
    "    glove_uk = np.load(f'glove_uk_{mode}.npy')\n",
    "except FileNotFoundError:\n",
    "    res_uk = []\n",
    "    for item in tqdm(data_uk['text_clean']):\n",
    "        res_uk.append(gensim_embed(text2tokens(item, lang='uk'), mode=mode, model=glove_model))\n",
    "    glove_uk = np.stack(res_uk, axis=0)\n",
    "    np.save(f'glove_uk_{mode}.npy', np.vstack(res_uk))"
   ]
  },
  {
   "cell_type": "code",
   "execution_count": null,
   "metadata": {},
   "outputs": [],
   "source": [
    "try:\n",
    "    glove_ru = np.load(f'glove_ru_{mode}.npy')\n",
    "except FileNotFoundError:\n",
    "    res_ru = []\n",
    "    for item in tqdm(data_ru['text_clean']):\n",
    "        res_ru.append(gensim_embed(text2tokens(item, lang='ru'), mode=mode, model=glove_model))\n",
    "    glove_ru = np.stack(res_ru, axis=0)\n",
    "    np.save(f'glove_ru_{mode}.npy', np.vstack(res_ru))"
   ]
  },
  {
   "cell_type": "code",
   "execution_count": null,
   "metadata": {},
   "outputs": [],
   "source": [
    "glove_vec = np.vstack([glove_ru, glove_uk])"
   ]
  },
  {
   "cell_type": "code",
   "execution_count": null,
   "metadata": {},
   "outputs": [],
   "source": [
    "glove_vec.shape"
   ]
  },
  {
   "cell_type": "code",
   "execution_count": null,
   "metadata": {},
   "outputs": [],
   "source": [
    "idx = 42\n",
    "\n",
    "tmp = glove_vec[idx].reshape(1, -1) == gensim_embed(\n",
    "    text2tokens(data_ru['text_clean'].values[idx], lang='ru'), mode=mode, model=glove_model\n",
    ")\n",
    "print(f\"Loaded GloVe vectors are {'NOT '*(np.any(tmp) == False)}correct\")"
   ]
  },
  {
   "cell_type": "code",
   "execution_count": null,
   "metadata": {},
   "outputs": [],
   "source": [
    "labels_mapping = dict(enumerate(target.unique(), 1))"
   ]
  },
  {
   "cell_type": "code",
   "execution_count": 101,
   "metadata": {},
   "outputs": [],
   "source": [
    "# Choose embeddings by assigning x_vec variable\n",
    "x_vec = use_vec\n",
    "\n",
    "labels = pd.get_dummies(target).columns\n",
    "\n",
    "X_train, X_test, y_train, y_test = train_test_split(x_vec, target, \n",
    "                                                    test_size=0.2, \n",
    "                                                    random_state=RANDOM_SEED,\n",
    "                                                    stratify=target)\n",
    "\n",
    "X_train_reshaped, X_test_reshaped = X_train.reshape(-1, x_vec.shape[1], 1), X_test.reshape(-1, x_vec.shape[1], 1)\n",
    "y_train_ohe, y_test_ohe = pd.get_dummies(y_train)[labels].values, pd.get_dummies(y_test)[labels].values"
   ]
  },
  {
   "cell_type": "code",
   "execution_count": 102,
   "metadata": {},
   "outputs": [
    {
     "name": "stdout",
     "output_type": "stream",
     "text": [
      "(90919, 512, 1) (22730, 512, 1)\n",
      "(90919, 186) (22730, 186)\n"
     ]
    }
   ],
   "source": [
    "print(X_train_reshaped.shape, X_test_reshaped.shape)\n",
    "print(y_train_ohe.shape, y_test_ohe.shape)"
   ]
  },
  {
   "cell_type": "code",
   "execution_count": 103,
   "metadata": {},
   "outputs": [
    {
     "data": {
      "text/plain": [
       "array([[0, 0, 0, ..., 0, 0, 0],\n",
       "       [0, 0, 0, ..., 0, 0, 0],\n",
       "       [0, 0, 0, ..., 0, 0, 0],\n",
       "       ...,\n",
       "       [0, 0, 0, ..., 0, 0, 0],\n",
       "       [0, 0, 0, ..., 0, 0, 0],\n",
       "       [0, 0, 0, ..., 0, 0, 0]], dtype=uint8)"
      ]
     },
     "execution_count": 103,
     "metadata": {},
     "output_type": "execute_result"
    }
   ],
   "source": [
    "y_train_ohe"
   ]
  },
  {
   "cell_type": "markdown",
   "metadata": {},
   "source": [
    "## Modeling"
   ]
  },
  {
   "cell_type": "markdown",
   "metadata": {},
   "source": [
    "### Baseline"
   ]
  },
  {
   "cell_type": "code",
   "execution_count": 104,
   "metadata": {},
   "outputs": [],
   "source": [
    "from sklearn.neighbors import KNeighborsClassifier\n",
    "from sklearn.metrics import *"
   ]
  },
  {
   "cell_type": "code",
   "execution_count": 105,
   "metadata": {},
   "outputs": [
    {
     "name": "stdout",
     "output_type": "stream",
     "text": [
      "CPU times: user 281 ms, sys: 0 ns, total: 281 ms\n",
      "Wall time: 280 ms\n"
     ]
    },
    {
     "data": {
      "text/plain": [
       "KNeighborsClassifier(algorithm='auto', leaf_size=30, metric='cosine',\n",
       "                     metric_params=None, n_jobs=None, n_neighbors=5, p=2,\n",
       "                     weights='uniform')"
      ]
     },
     "execution_count": 105,
     "metadata": {},
     "output_type": "execute_result"
    }
   ],
   "source": [
    "%%time\n",
    "\n",
    "knn_clf = KNeighborsClassifier(n_neighbors=5, metric='cosine')\n",
    "\n",
    "knn_clf.fit(X_train, y_train)"
   ]
  },
  {
   "cell_type": "code",
   "execution_count": 106,
   "metadata": {
    "scrolled": true
   },
   "outputs": [
    {
     "name": "stdout",
     "output_type": "stream",
     "text": [
      "                                                                                  precision    recall  f1-score   support\n",
      "\n",
      "                                                                     Інші Подяки       0.20      0.20      0.20        99\n",
      "                                              Інші технічні недоліки стану ліфту       0.56      0.31      0.40       523\n",
      "                Аварійний, травмонебезпечний стан утримання об’єктів благоустрою       0.17      0.13      0.15       117\n",
      "                                          Бажаючі отримати ”Картки киянина (КК)”       0.77      0.42      0.55        40\n",
      "                              Будівництво /дооблаштування спортивних майданчиків       0.56      0.35      0.43        52\n",
      "                                                                 Будівництво АЗС       0.45      0.36      0.40        36\n",
      "                                                        Будівництво в нічний час       0.55      0.31      0.39        39\n",
      "                                    Будівництво та реконструкція об’єктів освіти       0.53      0.28      0.37        61\n",
      "                                  Будівництво/дооблаштування дитячого майданчику       0.79      0.39      0.52       458\n",
      "                                                      Взаємовідносини з сусідами       0.38      0.28      0.33        46\n",
      "                          Вивезення, утилізація твердих та негабаритних відходів       0.22      0.12      0.16        50\n",
      "                                Видалення аварійних, пошкоджених хворобами дерев       0.57      0.41      0.48       145\n",
      "                                 Видача розрахункових книжок, квитанцій, довідок       0.32      0.31      0.32        29\n",
      "                                                      Вилов безпритульних тварин       0.85      0.69      0.77        59\n",
      "                                            Вирізування (кронування) гілля дерев       0.38      0.32      0.35        95\n",
      "                                                 Виток холодної води на поверхню       0.10      0.11      0.11        18\n",
      "                                                     Вологе прибирання приміщень       0.55      0.41      0.47       196\n",
      "                                           Встановлення лічильників на опалення.       0.66      0.46      0.54       198\n",
      "                                           Встановлення огородження зеленої зони       0.54      0.26      0.35       239\n",
      "                                                           Встановлення пандусів       0.37      0.43      0.40        42\n",
      "                                                         Встановлення світлофора       0.42      0.19      0.27       134\n",
      "               Встановлення сигнальних стовпчиків, бар’єрних огороджень,бордюрів       0.35      0.23      0.28       165\n",
      "                            Встановлення сміттєвих контейнерів та урн для сміття       0.29      0.22      0.25       143\n",
      "                                                Встановлення та демонтаж лавочок       0.44      0.47      0.45        53\n",
      "                                    Встановлення та експлуатація дорожніх знаків       0.56      0.47      0.51       131\n",
      "                      Встановлення та експлуатація лічильників на водопостачання       0.59      0.49      0.54       187\n",
      "           Встановлення та експлуатація пристроїв примусового зниження швидкості       0.43      0.32      0.37        95\n",
      "                                         Встановлення та експлуатація шлагбаумів       0.24      0.27      0.25        30\n",
      "Відновлення благоустрою після вик. планових,аварійних робіт на об’єктах благоуст       0.44      0.32      0.37       653\n",
      "                                                                    Відсутнє ХВП       0.39      0.43      0.41       286\n",
      "                                                      Відсутнє електропостачання       0.37      0.36      0.37       114\n",
      "                   Відсутній тиск ХВП до 9-го поверху включно (”Київводоканал” )       0.28      0.30      0.29        44\n",
      "                       Відсутній тиск ХВП з 10-го поверху включно (”Київенерго”)       0.20      0.33      0.25        42\n",
      "                                                                 Відсутність ГВП       0.89      0.61      0.73      3842\n",
      "                                                       Відсутність ГВП по стояку       0.00      0.00      0.00         9\n",
      "              Відсутність відповіді від РДА, ГУ та інших структурних підрозділів       0.10      0.12      0.11        17\n",
      "               Відсутність каналізаційних люків та решіток на проїжджих частинах       0.19      0.24      0.21        33\n",
      "                                 Відсутність каналізаційних, водопровідних люків       0.17      0.25      0.20        57\n",
      "                                                            Відсутність опалення       0.66      0.56      0.61      1380\n",
      "                                                  Відсутність опалення по стояку       0.49      0.46      0.47       431\n",
      "                 Відсутність опори освітлення (не передбачено проектом забудови)       0.15      0.11      0.13        35\n",
      "  Відсутність освітлення на опорних стовпах за відсутності/несправності лампочок       0.39      0.32      0.35       256\n",
      "          Відсутність освітлення у під’їзді за відсутності/несправності лампочок       0.62      0.49      0.55       661\n",
      "                                              Відсутність решіток зливоприймачів       0.14      0.21      0.17        14\n",
      "                                                   ГЛ ”Несанкціонована торгівля”       0.69      0.51      0.59       385\n",
      "                               Герметизація міжпанельних стиків (утеплення стін)       0.37      0.44      0.40        52\n",
      "                                                         Голів ОСББ, ЖБК, та ін.       0.10      0.15      0.12        13\n",
      "                                 Графіті, написи/малюнки на об’єктах благоустрою       0.41      0.50      0.45        26\n",
      "                 Демонтаж окремо розташованих пунктів прийому вторинної сировини       0.23      0.30      0.26        23\n",
      "                                    Демонтаж рекламних вивісок з опорних стовпів       0.61      0.53      0.57        53\n",
      "                                        Демонтаж рекламних конструкцій і вивісок       0.61      0.48      0.54       203\n",
      "        Демонтаж інших об’єктів, що входять до переліку малих архітектурних форм       0.15      0.24      0.18        68\n",
      "                      Евакуація безгосподарських, залишених транспортних засобів       0.42      0.63      0.50        46\n",
      "                                        Забруднення повітря від невідомих джерел       0.53      0.63      0.58        51\n",
      "                                            Завезення піску на дитячий майданчик       0.55      0.57      0.56        37\n",
      "                                        Заміна та експлуатація поштових скриньок       0.62      0.75      0.68        52\n",
      "                    Зберігання транспортних засобів, порушення правил паркування       0.34      0.25      0.29        52\n",
      "                                              Зменшення інтервалу руху автобусів       0.72      0.67      0.69        27\n",
      "                                  Знищення омели, амброзії та рослин - паразитів       0.75      0.78      0.77        69\n",
      "              Квитанція на  сплату житлово-комунальних послуг (зовнішній вигляд)       0.15      0.22      0.18        18\n",
      "                                                               Коливання напруги       0.53      0.65      0.59        72\n",
      "                                            Контроль за станом рекламних засобів       0.26      0.41      0.32        70\n",
      "                              Культура обслуговування пасажирів маршрутних таксі       0.74      0.81      0.77        21\n",
      "                                  Куріння тютюнових виробів у заборонених місцях       0.43      0.56      0.49        16\n",
      "                    Миття вікон, вітрин, вітражів, дзеркальних поверхонь, дверей       0.64      0.56      0.60        70\n",
      "                                                    Нанесення дорожньої розмітки       0.44      0.47      0.46       108\n",
      "                                                                 Не працює бювет       0.30      0.40      0.34        53\n",
      "                                                       Не працює вантажний  ліфт       0.47      0.55      0.51       112\n",
      "                                                     Не працює пасажирський ліфт       0.60      0.59      0.60       548\n",
      "                                                            Недостатній тиск ГВП       0.08      0.33      0.13        15\n",
      "                                  Незадовільна освітленість в приміщеннях ліфтів       0.18      0.50      0.26        10\n",
      "                                      Незадовільна робота рушникосушарок від ГВП       0.26      0.42      0.32        36\n",
      "                                                    Незадовільна температура ГВП       0.51      0.52      0.52       452\n",
      "                                               Незадовільна температура опалення       0.40      0.48      0.44       217\n",
      "               Незадовільне обслуговування в амбулаторно-поліклінічних установах       0.66      0.69      0.67        55\n",
      "               Незадовільне розташування сміттєвих контейнерів та урн для сміття       0.36      0.47      0.41        55\n",
      "                      Незадовільний вивіз сміття з контейнерів та урн для сміття       0.55      0.41      0.47       164\n",
      "                                             Незадовільний санітарний стан ліфту       0.23      0.59      0.33        17\n",
      "                                  Незадовільний стан кнопок виклику/наказу ліфту       0.50      0.77      0.61        43\n",
      "                                         Незадовільний стан опори для освітлення       0.27      0.69      0.39        16\n",
      "                        Незадовільний стан сміттєвих контейнерів, урн для сміття       0.03      0.08      0.05        12\n",
      "    Незручності від вивозу сміття з контейнерів та урн для сміття у нічні години       0.27      0.47      0.34        17\n",
      "                                  Незручності від промислових та побутових шумів       0.19      0.50      0.28         8\n",
      "                 Незручності від розташування холодильників, лотків біля кіосків       0.41      0.41      0.41        22\n",
      "Незручності для проживання мешканців від роботи закладів торгівлі та ресторанног       0.43      0.51      0.47        67\n",
      "                                            Несправність системи диспетчеризації       0.30      0.50      0.37        16\n",
      "                                                                    Неякісне ХВП       0.15      0.43      0.23        14\n",
      "                                     Облаштування наземного пішохідного переходу       0.17      0.20      0.19        45\n",
      "                            Облаштування прилеглої території навчальних закладів       0.07      0.33      0.12         6\n",
      "                                        Обслуговування димовентиляційних каналів       0.52      0.61      0.56        28\n",
      "                       Обслуговування та технічний стан каналізаційних колодязів       0.05      0.18      0.08        17\n",
      "                                     Оголені кабелі у приміщенні та на території       0.04      0.12      0.06         8\n",
      "                                                   Опалення на сходових клітинах       0.12      0.21      0.16        19\n",
      "                                 Організація та проведення продовольчих ярмарків       0.40      0.52      0.45        31\n",
      "                                     Освітлення в приміщенні й при вході в нього       0.39      0.48      0.43       264\n",
      "                    Освітлення магістралей (проїжджих частин) та вулиць м. Києва       0.17      0.23      0.20        39\n",
      "                                                  Освітлення підземних переходів       0.31      0.42      0.36        19\n",
      "                                      Паркування авто на прибудинковій території       0.28      0.33      0.31        60\n",
      "                                Паркування авто у місцях загального користування       0.26      0.27      0.27       118\n",
      "                     Паркування на зеленій зоні у місцях загального користування       0.05      0.20      0.08         5\n",
      "                                                       Перебої електропостачання       0.26      0.43      0.33        63\n",
      "                        Перебудова квартир, балконів, дверей, горищ та підвалів;       0.28      0.39      0.33        23\n",
      "     Перевірка дозвільної документації, демонтаж воріт, огорожі, паркану, забору       0.09      0.24      0.13        25\n",
      "                     Перевірка дозвільної документації, демонтаж кіосків, ларків       0.61      0.62      0.61       717\n",
      " Перевірка дозвільної документації, демонтаж літніх майданчиків кафе, ресторанів       0.53      0.71      0.61        68\n",
      "         Перевірка дозвільної документації, демонтаж окремо розташованих гаражів       0.52      0.73      0.61        15\n",
      "    Перевірка дозвільної документації, демонтаж торгових палаток, пивних наметів       0.27      0.60      0.37        15\n",
      "                                             Перевірка законності знищення дерев       0.31      0.45      0.37        20\n",
      "                     Перевірка наявності дозволів на виконання будівельних робіт       0.36      0.43      0.39       163\n",
      "                                            Перерахунок плати за відсутність ГВП       0.24      0.42      0.31        26\n",
      "                                       Перерахунок плати за відсутність опалення       0.21      0.41      0.28        22\n",
      "                               Перерахунок плати за незадовільну температуру ГВП       0.03      0.20      0.05         5\n",
      "        Перерахунок та нарахування плати за інші види житлово-комунальних послуг       0.51      0.54      0.53       355\n",
      "                       Перерахунок, нарахування плати та боргу за газопостачання       0.21      0.67      0.32         9\n",
      "                              Питання нарахування плати за ЦО (розрахунки за ЦО)       0.09      0.19      0.12        16\n",
      "                                           Питання освітлення на опорних стовпах       0.20      0.38      0.26        92\n",
      "                           Питання, що виникають до початку опалювального сезону       0.00      0.00      0.00         2\n",
      "                                       Питання, що стосуються домофонної системи       0.62      0.68      0.65        19\n",
      "                          Питання, що стосуються завершення опалювального сезону       0.53      0.66      0.59        41\n",
      "                                                           Подяки двірникам ЖЕКу       0.55      0.61      0.58        28\n",
      "                                                 Подяки загалом працівникам ЖЕКу       0.14      0.54      0.23        13\n",
      "                   Покинуті будівлі, споруди, будівельні матеріали і конструкції       0.16      0.35      0.22        20\n",
      "                            Полив клумб і газонів, дерев, кущів, зелених газонів       0.43      0.71      0.54        31\n",
      "                                                Порив труб у квартирі чи будинку       0.14      0.32      0.19        25\n",
      "                                             Порив труб у підвальному приміщенні       0.23      0.32      0.27        79\n",
      "                    Порушення встановлених законодавством вимог пожежної безпеки       0.40      0.80      0.53        10\n",
      "   Порушення правил виконання (ор-ції) будівельних робіт на об’єктах благоустрою       0.02      0.07      0.04        14\n",
      "                                                Порушення правил дорожнього руху       0.18      0.36      0.24        11\n",
      "                                             Порушення правил тиші (після 22:00)       0.31      0.59      0.41        29\n",
      "                                  Правила торговельного обслуговування населення       0.31      0.60      0.41        15\n",
      "                                           Претензії та зауваження до Начальника       0.05      0.33      0.09         6\n",
      "           Претензії та зауваження до Обслуговуючого персоналу (двірники й т.п.)       0.03      0.07      0.05        27\n",
      "                          Прибирання дерев, гілок, листя з закріпленої території       0.23      0.45      0.31        33\n",
      "   Прибирання льодяного покрову на прибудинковій території, вулицях та тротуарах       0.34      0.58      0.43        19\n",
      "                                                            Прибирання приміщень       0.48      0.50      0.49       295\n",
      "               Прибирання снігу на прибудинковій території, вулицях та тротуарах       0.43      0.62      0.51        37\n",
      "                                         Прибирання та санітарний стан територій       0.44      0.54      0.49       498\n",
      "                       Прийняття в експлуатацію закінчених будівництвом об’єктів       0.38      0.32      0.35        25\n",
      "                                                   Про розгляд звернень громадян       0.19      0.41      0.26       147\n",
      "                                                          Проведення дезинсекції       0.42      0.55      0.48        47\n",
      "                                                          Проведення дератизації       0.48      0.67      0.56        60\n",
      "                       Проведення капітального ремонту у будинку (реконструкція)       0.10      0.27      0.14        22\n",
      "                                      Проведення косметичного ремонту у під’їзді       0.05      0.07      0.06        14\n",
      "                                            Проведення модернізації/заміни ліфту       0.12      0.32      0.18        25\n",
      "       Пропозиції та запитання щодо удосконалення роботи громадського транспорту       0.24      0.55      0.33        20\n",
      " Пропозиції, зауваження, щодо роботи web-сторінки КБУ ”Контактний центр м.Києва”       0.19      1.00      0.32         4\n",
      "                                                   Раціоналізаторські пропозиції       0.00      0.00      0.00         3\n",
      "                                    Ремонт або демонтаж огородження зеленої зони       0.46      0.50      0.48        48\n",
      "                                                                    Ремонт дахів       0.55      0.60      0.57       243\n",
      "                                                                Ремонт під’їзду;       0.56      0.47      0.51       502\n",
      "                                                 Ремонт та заміна вхідних дверей       0.56      0.51      0.53        68\n",
      "                                                Ремонт та заміна електроприладів       0.37      0.62      0.46        65\n",
      "                                       Ремонт та обслуговування водостічних труб       0.20      0.43      0.28        21\n",
      "                                       Ремонт та обслуговування зливневих стоків       0.25      0.55      0.34        42\n",
      "                           Ремонт та обслуговування конструкцій фризу (козирок);       0.11      0.18      0.13        17\n",
      "                                                 Ремонт та обслуговування ґанків       0.12      0.24      0.16        29\n",
      "                                                   Ремонт теплотрас, підключення       0.06      0.14      0.08        21\n",
      "                                                           Ремонт фасаду будинку       0.30      0.45      0.36        33\n",
      "          Ремонт і обслуговування сміттєпроводів та сміттєзбірників в приміщенні       0.33      0.55      0.42        58\n",
      "                             Ремонт, реконструкція приміщень навчальних закладів       0.10      0.33      0.16         9\n",
      "                        Ремонт/демонтаж/фарбування елементів дитячого майданчику       0.06      0.21      0.09        14\n",
      "                                                               Робота світлофора       0.61      0.74      0.67       130\n",
      "                                                    Робота циркуляційної системи       0.19      0.45      0.27        84\n",
      "                                             Розміщення паркувальних майданчиків       0.37      0.46      0.41        35\n",
      "                                 Розрахунки, нарахування та перерахунок субсидій       0.72      0.87      0.79        30\n",
      "                                                     Садіння нових дерев і кущів       0.28      0.41      0.33        32\n",
      "                                                Санітарний стан проїжджих частин       0.23      0.29      0.26        17\n",
      "                                   Скління та ремонт вікон на сходових клітинах;       0.41      0.66      0.51       112\n",
      "                                                                Скошування трави       0.47      0.65      0.55        26\n",
      "                                Спалювання сміття (листя, гілок, відходів, тощо)       0.17      0.45      0.25        11\n",
      "                          Стан зливосточних систем проїжджих частин та тротуарів       0.10      0.25      0.14         8\n",
      "                                                          Стихійне сміттєзвалище       0.22      0.41      0.29        78\n",
      "Технічне обслуговування систем тепло-, водопостачання та водовідведення і зливов       0.21      0.41      0.28        95\n",
      "                                          Технічний стан мостів та шляхопроводів       0.22      0.45      0.29        11\n",
      "                             Технічний стан проїжджих частин вулиць та тротуарів       0.34      0.42      0.38       350\n",
      "                                   Технічний стан підземних пішохідних переходів       0.32      0.62      0.42        39\n",
      "                     Технічний стан пішохідниїх доріжок, сходів з бетону, гравію       0.07      0.33      0.12         6\n",
      "                                       Удосконалення організації дорожнього руху       0.27      0.46      0.34        35\n",
      "                              Укладання договорів з обслуговуючими організаціями       0.07      0.50      0.12         4\n",
      "                                        Укладання та ремонт асфальтного покриття       0.64      0.59      0.61      1431\n",
      "                                Укладання та ремонт тротуарної плитки (брущатки)       0.18      0.33      0.23        30\n",
      "                                   Укладання та технічний стан бордюрного каменю       0.08      0.67      0.15         3\n",
      "                                    Утримання парків та лісопарків у місті Києві       0.22      0.36      0.27        47\n",
      "                               Утримання підвалів, колясочних технічних поверхів       0.29      0.45      0.35       155\n",
      "                                      Утримання та облаштування клумб та газонів       0.20      0.45      0.28        31\n",
      "                        Утримання інформаційних дошок та  розклеювання оголошень       0.28      0.62      0.38        13\n",
      "\n",
      "                                                                        accuracy                           0.49     22730\n",
      "                                                                       macro avg       0.34      0.43      0.36     22730\n",
      "                                                                    weighted avg       0.56      0.49      0.51     22730\n",
      "\n"
     ]
    }
   ],
   "source": [
    "pred = knn_clf.predict(X_test)\n",
    "\n",
    "print(classification_report(pred, y_test))"
   ]
  },
  {
   "cell_type": "markdown",
   "metadata": {},
   "source": [
    "### Simple NNs"
   ]
  },
  {
   "cell_type": "code",
   "execution_count": 107,
   "metadata": {},
   "outputs": [],
   "source": [
    "def create_model(name, max_sequence_len,\n",
    "                 activation_cnn = 'relu',\n",
    "                 activation_final = 'softmax'):\n",
    "    \n",
    "    model_input = tf.keras.layers.Input(shape=(max_sequence_len, 1))\n",
    "    \n",
    "    cnn1 = tf.keras.layers.Convolution1D(128, 3, padding='same', strides=1, activation=activation_cnn)(model_input)\n",
    "    cnn1 = tf.keras.layers.MaxPool1D(pool_size=4)(cnn1)\n",
    "    \n",
    "    cnn2 = tf.keras.layers.Convolution1D(64, 5, padding='same', strides=1, activation=activation_cnn)(model_input)\n",
    "    cnn2 = tf.keras.layers.MaxPool1D(pool_size=4)(cnn2)\n",
    "    \n",
    "    cnn3 = tf.keras.layers.Convolution1D(64, 7, padding='same', strides=1, activation=activation_cnn)(model_input)\n",
    "    cnn3 = tf.keras.layers.MaxPool1D(pool_size=4)(cnn3)\n",
    "    \n",
    "    cnn = tf.keras.layers.concatenate([cnn1, cnn2, cnn3], axis=-1)\n",
    "#     pool = tf.keras.layers.MaxPooling1D(pool_size=2, padding='same')(cnn)\n",
    "    drop1 = tf.keras.layers.Dropout(rate=0.3)(cnn)\n",
    "    \n",
    "    lstm = tf.keras.layers.Bidirectional(tf.keras.layers.LSTM(128, return_sequences=True))(drop1)\n",
    "\n",
    "    flat = tf.keras.layers.Flatten()(lstm)\n",
    "#     drop2 = tf.keras.layers.Dropout(rate=0.2)(flat)\n",
    "    \n",
    "    model_output = tf.keras.layers.Dense(num_classes, activation=activation_final)(flat)\n",
    "    \n",
    "    model = tf.keras.models.Model(inputs=model_input, outputs=model_output, name=name)\n",
    "    \n",
    "    model.compile(optimizer='adam', loss='categorical_crossentropy', metrics=['categorical_accuracy'])\n",
    "    \n",
    "    return model"
   ]
  },
  {
   "cell_type": "code",
   "execution_count": 108,
   "metadata": {},
   "outputs": [
    {
     "name": "stdout",
     "output_type": "stream",
     "text": [
      "Model: \"cnn_bilstm_model\"\n",
      "__________________________________________________________________________________________________\n",
      "Layer (type)                    Output Shape         Param #     Connected to                     \n",
      "==================================================================================================\n",
      "input_1 (InputLayer)            [(None, 512, 1)]     0                                            \n",
      "__________________________________________________________________________________________________\n",
      "conv1d (Conv1D)                 (None, 512, 128)     512         input_1[0][0]                    \n",
      "__________________________________________________________________________________________________\n",
      "conv1d_1 (Conv1D)               (None, 512, 64)      384         input_1[0][0]                    \n",
      "__________________________________________________________________________________________________\n",
      "conv1d_2 (Conv1D)               (None, 512, 64)      512         input_1[0][0]                    \n",
      "__________________________________________________________________________________________________\n",
      "max_pooling1d (MaxPooling1D)    (None, 128, 128)     0           conv1d[0][0]                     \n",
      "__________________________________________________________________________________________________\n",
      "max_pooling1d_1 (MaxPooling1D)  (None, 128, 64)      0           conv1d_1[0][0]                   \n",
      "__________________________________________________________________________________________________\n",
      "max_pooling1d_2 (MaxPooling1D)  (None, 128, 64)      0           conv1d_2[0][0]                   \n",
      "__________________________________________________________________________________________________\n",
      "concatenate (Concatenate)       (None, 128, 256)     0           max_pooling1d[0][0]              \n",
      "                                                                 max_pooling1d_1[0][0]            \n",
      "                                                                 max_pooling1d_2[0][0]            \n",
      "__________________________________________________________________________________________________\n",
      "dropout (Dropout)               (None, 128, 256)     0           concatenate[0][0]                \n",
      "__________________________________________________________________________________________________\n",
      "bidirectional (Bidirectional)   (None, 128, 256)     394240      dropout[0][0]                    \n",
      "__________________________________________________________________________________________________\n",
      "flatten (Flatten)               (None, 32768)        0           bidirectional[0][0]              \n",
      "__________________________________________________________________________________________________\n",
      "dense (Dense)                   (None, 186)          6095034     flatten[0][0]                    \n",
      "==================================================================================================\n",
      "Total params: 6,490,682\n",
      "Trainable params: 6,490,682\n",
      "Non-trainable params: 0\n",
      "__________________________________________________________________________________________________\n"
     ]
    }
   ],
   "source": [
    "model = create_model(name='cnn_bilstm_model', max_sequence_len=X_train.shape[1])\n",
    "\n",
    "callbacks = [\n",
    "    tf.keras.callbacks.ReduceLROnPlateau(patience=5, factor=0.2, verbose=True), \n",
    "    tf.keras.callbacks.EarlyStopping(patience=10, min_delta=1e-3, verbose=True), \n",
    "    tf.keras.callbacks.ModelCheckpoint(filepath='cnn_bilstm_model.h5', save_best_only=True, verbose=True)\n",
    "]\n",
    "\n",
    "model.summary()"
   ]
  },
  {
   "cell_type": "code",
   "execution_count": 109,
   "metadata": {
    "scrolled": true
   },
   "outputs": [
    {
     "name": "stdout",
     "output_type": "stream",
     "text": [
      "Train on 90919 samples, validate on 22730 samples\n",
      "Epoch 1/100\n",
      "90848/90919 [============================>.] - ETA: 0s - loss: 2.4320 - categorical_accuracy: 0.4223\n",
      "Epoch 00001: val_loss improved from inf to 1.98919, saving model to cnn_bilstm_model.h5\n",
      "90919/90919 [==============================] - 46s 510us/sample - loss: 2.4317 - categorical_accuracy: 0.4224 - val_loss: 1.9892 - val_categorical_accuracy: 0.5008\n",
      "Epoch 2/100\n",
      "90816/90919 [============================>.] - ETA: 0s - loss: 1.7641 - categorical_accuracy: 0.5380\n",
      "Epoch 00002: val_loss improved from 1.98919 to 1.75903, saving model to cnn_bilstm_model.h5\n",
      "90919/90919 [==============================] - 42s 465us/sample - loss: 1.7642 - categorical_accuracy: 0.5379 - val_loss: 1.7590 - val_categorical_accuracy: 0.5457\n",
      "Epoch 3/100\n",
      "90912/90919 [============================>.] - ETA: 0s - loss: 1.4589 - categorical_accuracy: 0.6028\n",
      "Epoch 00003: val_loss improved from 1.75903 to 1.68848, saving model to cnn_bilstm_model.h5\n",
      "90919/90919 [==============================] - 44s 484us/sample - loss: 1.4589 - categorical_accuracy: 0.6028 - val_loss: 1.6885 - val_categorical_accuracy: 0.5612\n",
      "Epoch 4/100\n",
      "90880/90919 [============================>.] - ETA: 0s - loss: 1.1827 - categorical_accuracy: 0.6657\n",
      "Epoch 00004: val_loss did not improve from 1.68848\n",
      "90919/90919 [==============================] - 42s 461us/sample - loss: 1.1829 - categorical_accuracy: 0.6657 - val_loss: 1.6982 - val_categorical_accuracy: 0.5710\n",
      "Epoch 5/100\n",
      "90912/90919 [============================>.] - ETA: 0s - loss: 0.8585 - categorical_accuracy: 0.7474\n",
      "Epoch 00005: val_loss did not improve from 1.68848\n",
      "90919/90919 [==============================] - 42s 463us/sample - loss: 0.8585 - categorical_accuracy: 0.7474 - val_loss: 1.8454 - val_categorical_accuracy: 0.5696\n",
      "Epoch 6/100\n",
      "90880/90919 [============================>.] - ETA: 0s - loss: 0.5599 - categorical_accuracy: 0.8307\n",
      "Epoch 00006: val_loss did not improve from 1.68848\n",
      "90919/90919 [==============================] - 43s 469us/sample - loss: 0.5600 - categorical_accuracy: 0.8306 - val_loss: 2.1694 - val_categorical_accuracy: 0.5604\n",
      "Epoch 7/100\n",
      "90912/90919 [============================>.] - ETA: 0s - loss: 0.3705 - categorical_accuracy: 0.8892\n",
      "Epoch 00007: val_loss did not improve from 1.68848\n",
      "90919/90919 [==============================] - 42s 466us/sample - loss: 0.3705 - categorical_accuracy: 0.8892 - val_loss: 2.5418 - val_categorical_accuracy: 0.5601\n",
      "Epoch 8/100\n",
      "90912/90919 [============================>.] - ETA: 0s - loss: 0.2614 - categorical_accuracy: 0.9242\n",
      "Epoch 00008: ReduceLROnPlateau reducing learning rate to 0.00020000000949949026.\n",
      "\n",
      "Epoch 00008: val_loss did not improve from 1.68848\n",
      "90919/90919 [==============================] - 42s 466us/sample - loss: 0.2614 - categorical_accuracy: 0.9242 - val_loss: 2.7721 - val_categorical_accuracy: 0.5623\n",
      "Epoch 9/100\n",
      "90912/90919 [============================>.] - ETA: 0s - loss: 0.1155 - categorical_accuracy: 0.9726\n",
      "Epoch 00009: val_loss did not improve from 1.68848\n",
      "90919/90919 [==============================] - 42s 467us/sample - loss: 0.1155 - categorical_accuracy: 0.9726 - val_loss: 3.0384 - val_categorical_accuracy: 0.5720\n",
      "Epoch 10/100\n",
      "90912/90919 [============================>.] - ETA: 0s - loss: 0.0707 - categorical_accuracy: 0.9837\n",
      "Epoch 00010: val_loss did not improve from 1.68848\n",
      "90919/90919 [==============================] - 43s 475us/sample - loss: 0.0707 - categorical_accuracy: 0.9837 - val_loss: 3.3151 - val_categorical_accuracy: 0.5696\n",
      "Epoch 11/100\n",
      "90912/90919 [============================>.] - ETA: 0s - loss: 0.0572 - categorical_accuracy: 0.9879\n",
      "Epoch 00011: val_loss did not improve from 1.68848\n",
      "90919/90919 [==============================] - 42s 461us/sample - loss: 0.0572 - categorical_accuracy: 0.9879 - val_loss: 3.4056 - val_categorical_accuracy: 0.5721\n",
      "Epoch 12/100\n",
      "90912/90919 [============================>.] - ETA: 0s - loss: 0.0519 - categorical_accuracy: 0.9896\n",
      "Epoch 00012: val_loss did not improve from 1.68848\n",
      "90919/90919 [==============================] - 43s 472us/sample - loss: 0.0519 - categorical_accuracy: 0.9896 - val_loss: 3.4925 - val_categorical_accuracy: 0.5705\n",
      "Epoch 13/100\n",
      "90912/90919 [============================>.] - ETA: 0s - loss: 0.0479 - categorical_accuracy: 0.9908\n",
      "Epoch 00013: ReduceLROnPlateau reducing learning rate to 4.0000001899898055e-05.\n",
      "\n",
      "Epoch 00013: val_loss did not improve from 1.68848\n",
      "90919/90919 [==============================] - 43s 469us/sample - loss: 0.0479 - categorical_accuracy: 0.9908 - val_loss: 3.5649 - val_categorical_accuracy: 0.5721\n",
      "Epoch 00013: early stopping\n"
     ]
    }
   ],
   "source": [
    "history = model.fit(X_train_reshaped, y_train_ohe,\n",
    "                    class_weight='balanced',\n",
    "                    epochs=100,\n",
    "                    batch_size=32,\n",
    "                    callbacks=callbacks,\n",
    "                    validation_data=(X_test_reshaped, y_test_ohe),\n",
    "#                     validation_split=0.1,\n",
    "                    verbose=1)"
   ]
  },
  {
   "cell_type": "code",
   "execution_count": 110,
   "metadata": {},
   "outputs": [
    {
     "data": {
      "image/png": "[encoded data removed]",
      "text/plain": [
       "<Figure size 1152x288 with 2 Axes>"
      ]
     },
     "metadata": {
      "needs_background": "light"
     },
     "output_type": "display_data"
    }
   ],
   "source": [
    "plt.figure(figsize=(16, 4))\n",
    "\n",
    "plt.subplot(1, 2, 1)\n",
    "plt.plot(history.history['categorical_accuracy'])\n",
    "plt.plot(history.history['val_categorical_accuracy'])\n",
    "plt.title('model accuracy')\n",
    "plt.ylabel('accuracy')\n",
    "plt.xlabel('epochs')\n",
    "plt.legend(['train', 'val'], loc='upper left')\n",
    "\n",
    "plt.subplot(1, 2, 2)\n",
    "plt.plot(history.history['loss'])\n",
    "plt.plot(history.history['val_loss'])\n",
    "plt.title('model loss')\n",
    "plt.ylabel('loss')\n",
    "plt.xlabel('epochs')\n",
    "plt.legend(['train', 'val'], loc='upper right')\n",
    "\n",
    "plt.show()"
   ]
  },
  {
   "cell_type": "code",
   "execution_count": 111,
   "metadata": {},
   "outputs": [],
   "source": [
    "cnn_bilstm_model = tf.keras.models.load_model('cnn_bilstm_model.h5')"
   ]
  },
  {
   "cell_type": "code",
   "execution_count": 112,
   "metadata": {},
   "outputs": [
    {
     "name": "stdout",
     "output_type": "stream",
     "text": [
      "                                                                                  precision    recall  f1-score   support\n",
      "\n",
      "                                                                     Інші Подяки       0.19      0.34      0.24        56\n",
      "                                              Інші технічні недоліки стану ліфту       0.42      0.53      0.47       228\n",
      "                Аварійний, травмонебезпечний стан утримання об’єктів благоустрою       0.08      0.11      0.09        61\n",
      "                                          Бажаючі отримати ”Картки киянина (КК)”       0.91      0.77      0.83        26\n",
      "                              Будівництво /дооблаштування спортивних майданчиків       0.59      0.54      0.57        35\n",
      "                                                                 Будівництво АЗС       0.59      0.61      0.60        28\n",
      "                                                        Будівництво в нічний час       0.27      0.86      0.41         7\n",
      "                                    Будівництво та реконструкція об’єктів освіти       0.69      0.47      0.56        47\n",
      "                                  Будівництво/дооблаштування дитячого майданчику       0.77      0.60      0.68       291\n",
      "                                                      Взаємовідносини з сусідами       0.44      0.54      0.48        28\n",
      "                          Вивезення, утилізація твердих та негабаритних відходів       0.11      0.43      0.18         7\n",
      "                                Видалення аварійних, пошкоджених хворобами дерев       0.57      0.55      0.56       109\n",
      "                                 Видача розрахункових книжок, квитанцій, довідок       0.21      0.30      0.25        20\n",
      "                                                      Вилов безпритульних тварин       0.79      0.83      0.81        46\n",
      "                                            Вирізування (кронування) гілля дерев       0.33      0.57      0.42        46\n",
      "                                                 Виток холодної води на поверхню       0.15      0.23      0.18        13\n",
      "                                                     Вологе прибирання приміщень       0.53      0.61      0.57       128\n",
      "                                           Встановлення лічильників на опалення.       0.61      0.63      0.62       135\n",
      "                                           Встановлення огородження зеленої зони       0.40      0.42      0.41       109\n",
      "                                                           Встановлення пандусів       0.51      0.81      0.62        31\n",
      "                                                         Встановлення світлофора       0.26      0.33      0.29        48\n",
      "               Встановлення сигнальних стовпчиків, бар’єрних огороджень,бордюрів       0.40      0.41      0.40       106\n",
      "                            Встановлення сміттєвих контейнерів та урн для сміття       0.41      0.41      0.41       112\n",
      "                                                Встановлення та демонтаж лавочок       0.74      0.50      0.60        84\n",
      "                                    Встановлення та експлуатація дорожніх знаків       0.64      0.65      0.64       108\n",
      "                      Встановлення та експлуатація лічильників на водопостачання       0.54      0.77      0.64       109\n",
      "           Встановлення та експлуатація пристроїв примусового зниження швидкості       0.45      0.72      0.55        43\n",
      "                                         Встановлення та експлуатація шлагбаумів       0.33      0.73      0.46        15\n",
      "Відновлення благоустрою після вик. планових,аварійних робіт на об’єктах благоуст       0.40      0.47      0.43       414\n",
      "                                                                    Відсутнє ХВП       0.50      0.66      0.57       238\n",
      "                                                      Відсутнє електропостачання       0.54      0.54      0.54       109\n",
      "                   Відсутній тиск ХВП до 9-го поверху включно (”Київводоканал” )       0.30      0.45      0.36        31\n",
      "                       Відсутній тиск ХВП з 10-го поверху включно (”Київенерго”)       0.30      0.64      0.41        33\n",
      "                                                                 Відсутність ГВП       0.90      0.71      0.80      3360\n",
      "                                                       Відсутність ГВП по стояку       0.13      0.75      0.22         4\n",
      "              Відсутність відповіді від РДА, ГУ та інших структурних підрозділів       0.05      0.20      0.08         5\n",
      "               Відсутність каналізаційних люків та решіток на проїжджих частинах       0.24      0.50      0.32        20\n",
      "                                 Відсутність каналізаційних, водопровідних люків       0.38      0.37      0.38        83\n",
      "                                                            Відсутність опалення       0.68      0.69      0.69      1161\n",
      "                                                  Відсутність опалення по стояку       0.57      0.56      0.56       417\n",
      "                 Відсутність опори освітлення (не передбачено проектом забудови)       0.07      0.40      0.12         5\n",
      "  Відсутність освітлення на опорних стовпах за відсутності/несправності лампочок       0.41      0.34      0.37       254\n",
      "          Відсутність освітлення у під’їзді за відсутності/несправності лампочок       0.62      0.57      0.59       574\n",
      "                                              Відсутність решіток зливоприймачів       0.36      0.29      0.32        28\n",
      "                                                   ГЛ ”Несанкціонована торгівля”       0.79      0.63      0.70       359\n",
      "                               Герметизація міжпанельних стиків (утеплення стін)       0.37      0.59      0.46        39\n",
      "                                                         Голів ОСББ, ЖБК, та ін.       0.14      0.60      0.23         5\n",
      "                                 Графіті, написи/малюнки на об’єктах благоустрою       0.50      0.73      0.59        22\n",
      "                 Демонтаж окремо розташованих пунктів прийому вторинної сировини       0.39      0.71      0.50        17\n",
      "                                    Демонтаж рекламних вивісок з опорних стовпів       0.57      0.79      0.66        33\n",
      "                                        Демонтаж рекламних конструкцій і вивісок       0.65      0.54      0.59       191\n",
      "        Демонтаж інших об’єктів, що входять до переліку малих архітектурних форм       0.15      0.17      0.16        93\n",
      "                      Евакуація безгосподарських, залишених транспортних засобів       0.65      0.57      0.61        79\n",
      "                                        Забруднення повітря від невідомих джерел       0.67      0.58      0.62        69\n",
      "                                            Завезення піску на дитячий майданчик       0.58      0.88      0.70        25\n",
      "                                        Заміна та експлуатація поштових скриньок       0.79      0.77      0.78        65\n",
      "                    Зберігання транспортних засобів, порушення правил паркування       0.50      0.39      0.44        49\n",
      "                                              Зменшення інтервалу руху автобусів       0.64      0.73      0.68        22\n",
      "                                  Знищення омели, амброзії та рослин - паразитів       0.68      0.88      0.77        56\n",
      "              Квитанція на  сплату житлово-комунальних послуг (зовнішній вигляд)       0.04      0.33      0.07         3\n",
      "                                                               Коливання напруги       0.64      0.55      0.59       101\n",
      "                                            Контроль за станом рекламних засобів       0.37      0.38      0.37       107\n",
      "                              Культура обслуговування пасажирів маршрутних таксі       0.61      0.93      0.74        15\n",
      "                                  Куріння тютюнових виробів у заборонених місцях       0.62      0.81      0.70        16\n",
      "                    Миття вікон, вітрин, вітражів, дзеркальних поверхонь, дверей       0.59      0.53      0.56        68\n",
      "                                                    Нанесення дорожньої розмітки       0.53      0.53      0.53       116\n",
      "                                                                 Не працює бювет       0.73      0.70      0.71        73\n",
      "                                                       Не працює вантажний  ліфт       0.56      0.73      0.64       101\n",
      "                                                     Не працює пасажирський ліфт       0.79      0.67      0.73       636\n",
      "                                                            Недостатній тиск ГВП       0.20      0.46      0.28        26\n",
      "                                  Незадовільна освітленість в приміщеннях ліфтів       0.39      0.79      0.52        14\n",
      "                                      Незадовільна робота рушникосушарок від ГВП       0.54      0.78      0.64        40\n",
      "                                                    Незадовільна температура ГВП       0.54      0.62      0.58       403\n",
      "                                               Незадовільна температура опалення       0.65      0.53      0.59       322\n",
      "               Незадовільне обслуговування в амбулаторно-поліклінічних установах       0.86      0.77      0.81        65\n",
      "               Незадовільне розташування сміттєвих контейнерів та урн для сміття       0.36      0.58      0.44        45\n",
      "                      Незадовільний вивіз сміття з контейнерів та урн для сміття       0.73      0.62      0.67       146\n",
      "                                             Незадовільний санітарний стан ліфту       0.50      0.73      0.59        30\n",
      "                                  Незадовільний стан кнопок виклику/наказу ліфту       0.56      0.82      0.67        45\n",
      "                                         Незадовільний стан опори для освітлення       0.34      0.37      0.35        38\n",
      "                        Незадовільний стан сміттєвих контейнерів, урн для сміття       0.26      0.29      0.27        28\n",
      "    Незручності від вивозу сміття з контейнерів та урн для сміття у нічні години       0.37      0.92      0.52        12\n",
      "                                  Незручності від промислових та побутових шумів       0.29      0.32      0.30        19\n",
      "                 Незручності від розташування холодильників, лотків біля кіосків       0.50      0.65      0.56        17\n",
      "Незручності для проживання мешканців від роботи закладів торгівлі та ресторанног       0.42      0.47      0.44        70\n",
      "                                            Несправність системи диспетчеризації       0.44      0.67      0.53        18\n",
      "                                                                    Неякісне ХВП       0.36      0.67      0.47        21\n",
      "                                     Облаштування наземного пішохідного переходу       0.23      0.24      0.23        51\n",
      "                            Облаштування прилеглої території навчальних закладів       0.11      0.20      0.14        15\n",
      "                                        Обслуговування димовентиляційних каналів       0.58      0.70      0.63        27\n",
      "                       Обслуговування та технічний стан каналізаційних колодязів       0.04      0.25      0.06         8\n",
      "                                     Оголені кабелі у приміщенні та на території       0.13      0.19      0.15        16\n",
      "                                                   Опалення на сходових клітинах       0.09      0.50      0.16         6\n",
      "                                 Організація та проведення продовольчих ярмарків       0.72      0.74      0.73        39\n",
      "                                     Освітлення в приміщенні й при вході в нього       0.41      0.50      0.45       268\n",
      "                    Освітлення магістралей (проїжджих частин) та вулиць м. Києва       0.12      0.55      0.19        11\n",
      "                                                  Освітлення підземних переходів       0.38      0.56      0.45        18\n",
      "                                      Паркування авто на прибудинковій території       0.34      0.36      0.35        67\n",
      "                                Паркування авто у місцях загального користування       0.24      0.45      0.32        66\n",
      "                     Паркування на зеленій зоні у місцях загального користування       0.33      0.41      0.37        17\n",
      "                                                       Перебої електропостачання       0.44      0.53      0.48        85\n",
      "                        Перебудова квартир, балконів, дверей, горищ та підвалів;       0.19      0.60      0.29        10\n",
      "     Перевірка дозвільної документації, демонтаж воріт, огорожі, паркану, забору       0.17      0.33      0.23        36\n",
      "                     Перевірка дозвільної документації, демонтаж кіосків, ларків       0.68      0.70      0.69       705\n",
      " Перевірка дозвільної документації, демонтаж літніх майданчиків кафе, ресторанів       0.73      0.62      0.67       106\n",
      "         Перевірка дозвільної документації, демонтаж окремо розташованих гаражів       0.52      0.79      0.63        14\n",
      "    Перевірка дозвільної документації, демонтаж торгових палаток, пивних наметів       0.21      0.50      0.30        14\n",
      "                                             Перевірка законності знищення дерев       0.24      0.54      0.33        13\n",
      "                     Перевірка наявності дозволів на виконання будівельних робіт       0.60      0.41      0.48       283\n",
      "                                            Перерахунок плати за відсутність ГВП       0.18      0.28      0.22        29\n",
      "                                       Перерахунок плати за відсутність опалення       0.21      0.53      0.31        17\n",
      "                               Перерахунок плати за незадовільну температуру ГВП       0.03      0.50      0.06         2\n",
      "        Перерахунок та нарахування плати за інші види житлово-комунальних послуг       0.58      0.47      0.51       462\n",
      "                       Перерахунок, нарахування плати та боргу за газопостачання       0.21      0.46      0.29        13\n",
      "                              Питання нарахування плати за ЦО (розрахунки за ЦО)       0.24      0.17      0.20        47\n",
      "                                           Питання освітлення на опорних стовпах       0.34      0.27      0.30       225\n",
      "                           Питання, що виникають до початку опалювального сезону       0.10      0.30      0.15        10\n",
      "                                       Питання, що стосуються домофонної системи       0.52      0.65      0.58        17\n",
      "                          Питання, що стосуються завершення опалювального сезону       0.65      0.70      0.67        47\n",
      "                                                           Подяки двірникам ЖЕКу       0.58      0.62      0.60        29\n",
      "                                                 Подяки загалом працівникам ЖЕКу       0.33      0.30      0.31        54\n",
      "                   Покинуті будівлі, споруди, будівельні матеріали і конструкції       0.23      0.26      0.24        39\n",
      "                            Полив клумб і газонів, дерев, кущів, зелених газонів       0.71      0.65      0.68        55\n",
      "                                                Порив труб у квартирі чи будинку       0.31      0.29      0.30        62\n",
      "                                             Порив труб у підвальному приміщенні       0.45      0.42      0.43       115\n",
      "                    Порушення встановлених законодавством вимог пожежної безпеки       0.35      0.50      0.41        14\n",
      "   Порушення правил виконання (ор-ції) будівельних робіт на об’єктах благоустрою       0.14      0.27      0.18        22\n",
      "                                                Порушення правил дорожнього руху       0.23      0.71      0.34         7\n",
      "                                             Порушення правил тиші (після 22:00)       0.54      0.48      0.50        61\n",
      "                                  Правила торговельного обслуговування населення       0.55      0.44      0.49        36\n",
      "                                           Претензії та зауваження до Начальника       0.13      0.22      0.16        23\n",
      "           Претензії та зауваження до Обслуговуючого персоналу (двірники й т.п.)       0.25      0.14      0.18       109\n",
      "                          Прибирання дерев, гілок, листя з закріпленої території       0.41      0.21      0.28       123\n",
      "   Прибирання льодяного покрову на прибудинковій території, вулицях та тротуарах       0.41      0.76      0.53        17\n",
      "                                                            Прибирання приміщень       0.55      0.58      0.57       294\n",
      "               Прибирання снігу на прибудинковій території, вулицях та тротуарах       0.58      0.70      0.64        44\n",
      "                                         Прибирання та санітарний стан територій       0.56      0.50      0.53       690\n",
      "                       Прийняття в експлуатацію закінчених будівництвом об’єктів       0.43      0.69      0.53        13\n",
      "                                                   Про розгляд звернень громадян       0.24      0.26      0.25       292\n",
      "                                                          Проведення дезинсекції       0.39      0.73      0.51        33\n",
      "                                                          Проведення дератизації       0.61      0.60      0.60        85\n",
      "                       Проведення капітального ремонту у будинку (реконструкція)       0.08      0.50      0.14        10\n",
      "                                      Проведення косметичного ремонту у під’їзді       0.00      0.00      0.00         1\n",
      "                                            Проведення модернізації/заміни ліфту       0.17      0.25      0.20        44\n",
      "       Пропозиції та запитання щодо удосконалення роботи громадського транспорту       0.59      0.33      0.42        82\n",
      " Пропозиції, зауваження, щодо роботи web-сторінки КБУ ”Контактний центр м.Києва”       0.19      0.36      0.25        11\n",
      "                                                   Раціоналізаторські пропозиції       0.04      0.17      0.06         6\n",
      "                                    Ремонт або демонтаж огородження зеленої зони       0.27      0.67      0.38        21\n",
      "                                                                    Ремонт дахів       0.67      0.60      0.63       295\n",
      "                                                                Ремонт під’їзду;       0.64      0.49      0.55       551\n",
      "                                                 Ремонт та заміна вхідних дверей       0.57      0.55      0.56        66\n",
      "                                                Ремонт та заміна електроприладів       0.36      0.75      0.48        52\n",
      "                                       Ремонт та обслуговування водостічних труб       0.36      0.62      0.46        26\n",
      "                                       Ремонт та обслуговування зливневих стоків       0.39      0.42      0.40        86\n",
      "                           Ремонт та обслуговування конструкцій фризу (козирок);       0.39      0.58      0.47        19\n",
      "                                                 Ремонт та обслуговування ґанків       0.39      0.43      0.41        51\n",
      "                                                   Ремонт теплотрас, підключення       0.13      0.27      0.18        26\n",
      "                                                           Ремонт фасаду будинку       0.42      0.81      0.55        26\n",
      "          Ремонт і обслуговування сміттєпроводів та сміттєзбірників в приміщенні       0.59      0.42      0.49       136\n",
      "                             Ремонт, реконструкція приміщень навчальних закладів       0.38      0.52      0.44        21\n",
      "                        Ремонт/демонтаж/фарбування елементів дитячого майданчику       0.20      0.48      0.28        21\n",
      "                                                               Робота світлофора       0.72      0.65      0.68       176\n",
      "                                                    Робота циркуляційної системи       0.20      0.58      0.30        69\n",
      "                                             Розміщення паркувальних майданчиків       0.40      0.68      0.50        25\n",
      "                                 Розрахунки, нарахування та перерахунок субсидій       0.78      0.78      0.78        36\n",
      "                                                     Садіння нових дерев і кущів       0.43      0.54      0.48        37\n",
      "                                                Санітарний стан проїжджих частин       0.36      0.57      0.44        14\n",
      "                                   Скління та ремонт вікон на сходових клітинах;       0.61      0.57      0.59       193\n",
      "                                                                Скошування трави       0.61      0.65      0.63        34\n",
      "                                Спалювання сміття (листя, гілок, відходів, тощо)       0.28      0.62      0.38        13\n",
      "                          Стан зливосточних систем проїжджих частин та тротуарів       0.10      0.50      0.16         4\n",
      "                                                          Стихійне сміттєзвалище       0.28      0.43      0.33        94\n",
      "Технічне обслуговування систем тепло-, водопостачання та водовідведення і зливов       0.31      0.35      0.33       165\n",
      "                                          Технічний стан мостів та шляхопроводів       0.43      0.43      0.43        23\n",
      "                             Технічний стан проїжджих частин вулиць та тротуарів       0.46      0.41      0.44       483\n",
      "                                   Технічний стан підземних пішохідних переходів       0.53      0.47      0.49        86\n",
      "                     Технічний стан пішохідниїх доріжок, сходів з бетону, гравію       0.14      0.50      0.22         8\n",
      "                                       Удосконалення організації дорожнього руху       0.30      0.26      0.28        70\n",
      "                              Укладання договорів з обслуговуючими організаціями       0.21      0.55      0.30        11\n",
      "                                        Укладання та ремонт асфальтного покриття       0.72      0.57      0.64      1684\n",
      "                                Укладання та ремонт тротуарної плитки (брущатки)       0.38      0.47      0.42        45\n",
      "                                   Укладання та технічний стан бордюрного каменю       0.25      0.50      0.33        12\n",
      "                                    Утримання парків та лісопарків у місті Києві       0.29      0.52      0.37        44\n",
      "                               Утримання підвалів, колясочних технічних поверхів       0.41      0.37      0.39       261\n",
      "                                      Утримання та облаштування клумб та газонів       0.49      0.41      0.44        83\n",
      "                        Утримання інформаційних дошок та  розклеювання оголошень       0.31      0.53      0.39        17\n",
      "\n",
      "                                                                        accuracy                           0.56     22730\n",
      "                                                                       macro avg       0.42      0.52      0.44     22730\n",
      "                                                                    weighted avg       0.60      0.56      0.57     22730\n",
      "\n"
     ]
    }
   ],
   "source": [
    "pred = cnn_bilstm_model.predict(X_test_reshaped)\n",
    "\n",
    "print(classification_report(np.argmax(pred, axis=1), np.argmax(y_test_ohe, axis=1), target_names=labels))"
   ]
  },
  {
   "cell_type": "markdown",
   "metadata": {},
   "source": [
    "## t-SNE visualization"
   ]
  },
  {
   "cell_type": "code",
   "execution_count": 113,
   "metadata": {},
   "outputs": [],
   "source": [
    "from sklearn.manifold import TSNE"
   ]
  },
  {
   "cell_type": "code",
   "execution_count": 114,
   "metadata": {},
   "outputs": [
    {
     "name": "stdout",
     "output_type": "stream",
     "text": [
      "There are 25 with number of accidents > 1000\n"
     ]
    }
   ],
   "source": [
    "class_threshold = 1000\n",
    "top_classes = target.loc[target.map(df['CallZType'].value_counts().to_dict()) > class_threshold].unique()\n",
    "print(f\"There are {top_classes.shape[0]} with number of accidents > {class_threshold}\")"
   ]
  },
  {
   "cell_type": "code",
   "execution_count": 115,
   "metadata": {},
   "outputs": [
    {
     "data": {
      "text/plain": [
       "66737"
      ]
     },
     "execution_count": 115,
     "metadata": {},
     "output_type": "execute_result"
    }
   ],
   "source": [
    "x_tsne, y_tsne = [], []\n",
    "\n",
    "for vec_, label_ in zip(x_vec, target.values):\n",
    "    if label_ in top_classes:\n",
    "        x_tsne.append(vec_)\n",
    "        y_tsne.append(label_)\n",
    "len(x_tsne)"
   ]
  },
  {
   "cell_type": "code",
   "execution_count": 116,
   "metadata": {},
   "outputs": [],
   "source": [
    "tsne_model = TSNE(n_components=2, \n",
    "                  perplexity=40, \n",
    "                  n_iter=5000, \n",
    "                  random_state=RANDOM_SEED, \n",
    "                  metric='cosine',\n",
    "                  learning_rate=200)"
   ]
  },
  {
   "cell_type": "code",
   "execution_count": 117,
   "metadata": {},
   "outputs": [
    {
     "name": "stdout",
     "output_type": "stream",
     "text": [
      "CPU times: user 1h 2min 11s, sys: 1min 47s, total: 1h 3min 58s\n",
      "Wall time: 20min 40s\n"
     ]
    }
   ],
   "source": [
    "%%time\n",
    "\n",
    "threshold = 5000\n",
    "\n",
    "X_2d = tsne_model.fit_transform(x_tsne[:])\n",
    "y = np.array(y_tsne[:])"
   ]
  },
  {
   "cell_type": "code",
   "execution_count": 118,
   "metadata": {},
   "outputs": [
    {
     "data": {
      "text/plain": [
       "array(['deepskyblue', 'indigo', 'aquamarine', 'lawngreen', 'm',\n",
       "       'slateblue', 'k', 'antiquewhite', 'firebrick', 'blanchedalmond',\n",
       "       'indianred', 'olivedrab', 'seagreen', 'wheat', 'darkslategrey',\n",
       "       'mediumspringgreen', 'cadetblue', 'darksalmon', 'royalblue',\n",
       "       'lime', 'darkviolet', 'bisque', 'darkblue', 'mediumslateblue',\n",
       "       'lightslategray'], dtype='<U20')"
      ]
     },
     "execution_count": 118,
     "metadata": {},
     "output_type": "execute_result"
    }
   ],
   "source": [
    "matplot_colors = list(mcolors.BASE_COLORS.keys()) + \\\n",
    "                 list(mcolors.TABLEAU_COLORS.keys()) + \\\n",
    "                 list(mcolors.CSS4_COLORS.keys())\n",
    "random_colors = np.random.choice(matplot_colors, len(top_classes), replace=False)\n",
    "random_colors"
   ]
  },
  {
   "cell_type": "code",
   "execution_count": 119,
   "metadata": {},
   "outputs": [
    {
     "data": {
      "image/png": "[encoded data removed]",
      "text/plain": [
       "<Figure size 1152x864 with 1 Axes>"
      ]
     },
     "metadata": {
      "needs_background": "light"
     },
     "output_type": "display_data"
    }
   ],
   "source": [
    "plt.figure(figsize=(16, 12))\n",
    "\n",
    "for color, label in zip(random_colors, top_classes):\n",
    "    plt.scatter(X_2d[y == label, 0], X_2d[y == label, 1], label=label, c=color)\n",
    "plt.legend(loc='upper right', bbox_to_anchor=(1.55, 1.))\n",
    "plt.show()"
   ]
  },
  {
   "cell_type": "code",
   "execution_count": null,
   "metadata": {},
   "outputs": [],
   "source": []
  },
  {
   "cell_type": "code",
   "execution_count": null,
   "metadata": {},
   "outputs": [],
   "source": []
  }
 ],
 "metadata": {
  "kernelspec": {
   "display_name": "p36tf20",
   "language": "python",
   "name": "p36tf20"
  },
  "language_info": {
   "codemirror_mode": {
    "name": "ipython",
    "version": 3
   },
   "file_extension": ".py",
   "mimetype": "text/x-python",
   "name": "python",
   "nbconvert_exporter": "python",
   "pygments_lexer": "ipython3",
   "version": "3.6.10"
  }
 },
 "nbformat": 4,
 "nbformat_minor": 2
}
