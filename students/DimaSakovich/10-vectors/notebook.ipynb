{
 "cells": [
  {
   "cell_type": "code",
   "execution_count": 1,
   "metadata": {},
   "outputs": [],
   "source": [
    "import os\n",
    "\n",
    "from IPython.display import display, Markdown, Image"
   ]
  },
  {
   "cell_type": "code",
   "execution_count": 2,
   "metadata": {},
   "outputs": [],
   "source": [
    "REPO_PATH = os.path.dirname(os.path.dirname(os.path.dirname(os.getcwd())))\n",
    "TASK_PATH = os.path.join(REPO_PATH, \"tasks\", \"10-vectors.md\")\n",
    "DATA_PATH = os.path.join(os.getcwd(), \"1551.gov.ua\", \"raw\")"
   ]
  },
  {
   "cell_type": "code",
   "execution_count": 3,
   "metadata": {},
   "outputs": [],
   "source": [
    "def show_markdown(path):\n",
    "    with open(path, 'r') as fh:\n",
    "        content = fh.read()\n",
    "    display(Markdown(content))"
   ]
  },
  {
   "cell_type": "code",
   "execution_count": 4,
   "metadata": {},
   "outputs": [
    {
     "data": {
      "text/markdown": [
       "# Векторні представлення\n",
       "\n",
       "## Завдання 1\n",
       "\n",
       "Побудуйте покращений класифікатор, який буде предбачати категорію запиту до служби 1551 з використанням тільки векторів слів (не використовувати інші ознаки, такі як самі слова, нграми і т.д) для всіх категорій.\n",
       "\n",
       "У якості бейзлайну використайте класифікатор kNN, який ви побудували на практичному.\n",
       "\n",
       "Зробіть як мінімум 2 ітерації покращення, які можуть полягати у:\n",
       "\n",
       "- підборі найкращого варіанту векторів з наведених тут: https://lang.org.ua/en/models/#anchor4 або інших (fasttext, Tf-IDF, LDA, ...) Ви навіть можете дотренувати вектори на власній тренувальній множині. Можете також спробувати агрегацію декількох векторів.\n",
       "- будь-яких видах передпроцесингу і попередньої обробки (фільтрація мови, стопслів, службових частин мови, лематизація, нормалізація, ...)\n",
       "- побудови векторів документу з використанням таких підходів як pargaraph vectors (doc2vec), ElMo, Universal Sentece Encoder...\n",
       "- використання довільних алгоритмів класифікації та ансамблів цих алгоритмів\n",
       "- групуванні категорій (на основі кластеризації або якихось евристик) та побудови багаторівневих класифікаторів\n",
       "\n",
       "Ваша мета: досягнути такого результату по якості, щоб було не соромно дивитись в очі Кличкові. ;)\n",
       "\n",
       "## Завдання 2\n",
       "\n",
       "Візуалізуйте ваші класи з використанням t-SNE. Якщо ви будете використовувати агрегацію категорій, то можете візуалізувати тільки категорії вищого рівня і, для прикладу, одну з них. Якщо ви не будете групувати категорії, то використовуйте для візуалізації найбільш частотні (30-50). Спробуйте досягти достатньо розділеної картинки, експериментуючи з параметрами візуалізації (звісно, якщо ваші вхідні дані дозволять вам це).\n",
       "\n",
       "\n",
       "## Оцінювання\n",
       "\n",
       "Оцінка:\n",
       "- 90 балів за класифікатор (рішення, які будуть мати якість більше 0.8 за macro_average або більше 0.9 за micro_average отримають додаткові 10 балів)\n",
       "- 10 балів за візуалізацію\n",
       "\n",
       "Крайній термін: 16.05.2020\n"
      ],
      "text/plain": [
       "<IPython.core.display.Markdown object>"
      ]
     },
     "metadata": {},
     "output_type": "display_data"
    }
   ],
   "source": [
    "show_markdown(TASK_PATH)"
   ]
  },
  {
   "cell_type": "markdown",
   "metadata": {},
   "source": [
    "## Read data"
   ]
  },
  {
   "cell_type": "code",
   "execution_count": 5,
   "metadata": {},
   "outputs": [],
   "source": [
    "import re\n",
    "import gzip\n",
    "import json\n",
    "\n",
    "import pandas as pd\n",
    "import numpy as np\n",
    "\n",
    "from tqdm import tqdm\n",
    "from tqdm.contrib.concurrent import process_map\n",
    "from pathlib import Path\n",
    "from collections import Counter"
   ]
  },
  {
   "cell_type": "code",
   "execution_count": 6,
   "metadata": {},
   "outputs": [],
   "source": [
    "import pycld2 as cld2\n",
    "from langdetect import detect, lang_detect_exception\n",
    "\n",
    "def lang_detect(x):\n",
    "    try:\n",
    "        return detect(x.lower())\n",
    "    except lang_detect_exception.LangDetectException:\n",
    "        return ''\n",
    "\n",
    "def lang_detect_v2(x):\n",
    "    try:\n",
    "        x = ''.join(_ for _ in \" \".join(x.split()[:100]).lower() if _.isprintable())\n",
    "        isReliable, textBytesFound, details = cld2.detect(x)\n",
    "        res = sorted(details, key=lambda x: x[2], reverse=True)[0][1]\n",
    "        if res == 'un':\n",
    "            res = detect(x.lower())\n",
    "        return res\n",
    "    except:\n",
    "        return \"\""
   ]
  },
  {
   "cell_type": "code",
   "execution_count": 7,
   "metadata": {},
   "outputs": [
    {
     "name": "stderr",
     "output_type": "stream",
     "text": [
      "127329it [00:18, 6964.48it/s]\n"
     ]
    }
   ],
   "source": [
    "res = []\n",
    "for file_path in tqdm(Path(DATA_PATH).rglob('*.gz')):\n",
    "    with gzip.open(file_path, 'rt', encoding='utf8') as zipfile:\n",
    "        obj = json.load(zipfile)[0]\n",
    "    res.append(obj)\n",
    "df = pd.DataFrame(res)"
   ]
  },
  {
   "cell_type": "code",
   "execution_count": 8,
   "metadata": {},
   "outputs": [],
   "source": [
    "df['manager_name'] = df['CallZManager'].map(lambda x: \"\" if not re.search(r\"\\[([\\s\\w\\.]+)\\]\", x) \n",
    "                                                         else re.findall(r\"\\[([\\s\\w\\.]+)\\]\", x)[0].strip())\n",
    "df['entity_name'] = df['CallZManager'].map(lambda x: re.sub(r\"\\[([\\s\\w\\.]+)\\]\", \"\", x))\n",
    "df['cat_count'] = df['CallZType'].map(df['CallZType'].value_counts().to_dict())\n",
    "df['word_count'] = df['CallZText'].str.split().map(len)"
   ]
  },
  {
   "cell_type": "code",
   "execution_count": 9,
   "metadata": {},
   "outputs": [
    {
     "data": {
      "application/vnd.jupyter.widget-view+json": {
       "model_id": "2fcc6fcf746b46d5864c86a01792f857",
       "version_major": 2,
       "version_minor": 0
      },
      "text/plain": [
       "HBox(children=(FloatProgress(value=0.0, max=127329.0), HTML(value='')))"
      ]
     },
     "metadata": {},
     "output_type": "display_data"
    },
    {
     "name": "stdout",
     "output_type": "stream",
     "text": [
      "\n",
      "CPU times: user 30.2 s, sys: 3.63 s, total: 33.8 s\n",
      "Wall time: 2min 12s\n"
     ]
    }
   ],
   "source": [
    "%%time\n",
    "\n",
    "lst = process_map(lang_detect, df['CallZText'].values, chunksize=1, max_workers=8)\n",
    "df['lang'] = lst"
   ]
  },
  {
   "cell_type": "code",
   "execution_count": 10,
   "metadata": {},
   "outputs": [
    {
     "data": {
      "text/plain": [
       "count    127329.000000\n",
       "mean         63.134384\n",
       "std          59.138254\n",
       "min           0.000000\n",
       "25%          22.000000\n",
       "50%          45.000000\n",
       "75%          84.000000\n",
       "max         418.000000\n",
       "Name: word_count, dtype: float64"
      ]
     },
     "execution_count": 10,
     "metadata": {},
     "output_type": "execute_result"
    }
   ],
   "source": [
    "df['word_count'].describe()"
   ]
  },
  {
   "cell_type": "code",
   "execution_count": 11,
   "metadata": {},
   "outputs": [
    {
     "name": "stdout",
     "output_type": "stream",
     "text": [
      "Records with > 100 label samples: 89.95 %\n"
     ]
    }
   ],
   "source": [
    "print(f\"Records with > 100 label samples: {df.loc[df.cat_count > 100].shape[0] / df.shape[0] * 100:.2f} %\")"
   ]
  },
  {
   "cell_type": "code",
   "execution_count": 12,
   "metadata": {},
   "outputs": [
    {
     "data": {
      "text/plain": [
       "uk    69345\n",
       "ru    56944\n",
       "        540\n",
       "bg      319\n",
       "mk      167\n",
       "pl        4\n",
       "en        2\n",
       "et        2\n",
       "ca        2\n",
       "sw        1\n",
       "fr        1\n",
       "sl        1\n",
       "sk        1\n",
       "Name: lang, dtype: int64"
      ]
     },
     "execution_count": 12,
     "metadata": {},
     "output_type": "execute_result"
    }
   ],
   "source": [
    "df['lang'].value_counts()"
   ]
  },
  {
   "cell_type": "code",
   "execution_count": 13,
   "metadata": {},
   "outputs": [],
   "source": [
    "# Counter(\" \".join(df['entity_name'].values).lower().split()).most_common(10)"
   ]
  },
  {
   "cell_type": "code",
   "execution_count": 14,
   "metadata": {},
   "outputs": [
    {
     "name": "stdout",
     "output_type": "stream",
     "text": [
      "(61999, 25) (51648, 25)\n"
     ]
    }
   ],
   "source": [
    "data_uk = df.loc[(df.cat_count > 100) & (df.lang.isin(['uk']))]#[['CallZText', 'CallZType']]\n",
    "data_ru = df.loc[(df.cat_count > 100) & (df.lang.isin(['ru']))]#[['CallZText', 'CallZType']]\n",
    "data_uk = data_uk.rename(columns=dict(zip(['CallZText', 'CallZType'], ['text', 'label'])))\n",
    "data_ru = data_ru.rename(columns=dict(zip(['CallZText', 'CallZType'], ['text', 'label'])))\n",
    "print(data_uk.shape, data_ru.shape)"
   ]
  },
  {
   "cell_type": "code",
   "execution_count": 15,
   "metadata": {},
   "outputs": [
    {
     "data": {
      "text/html": [
       "<div>\n",
       "<style scoped>\n",
       "    .dataframe tbody tr th:only-of-type {\n",
       "        vertical-align: middle;\n",
       "    }\n",
       "\n",
       "    .dataframe tbody tr th {\n",
       "        vertical-align: top;\n",
       "    }\n",
       "\n",
       "    .dataframe thead th {\n",
       "        text-align: right;\n",
       "    }\n",
       "</style>\n",
       "<table border=\"1\" class=\"dataframe\">\n",
       "  <thead>\n",
       "    <tr style=\"text-align: right;\">\n",
       "      <th></th>\n",
       "      <th>StatusTitle</th>\n",
       "      <th>CallZCdate</th>\n",
       "      <th>CallZReply</th>\n",
       "      <th>text</th>\n",
       "      <th>CallZManager</th>\n",
       "      <th>label</th>\n",
       "      <th>CallDate</th>\n",
       "      <th>CallCode</th>\n",
       "      <th>FbId</th>\n",
       "      <th>Enabled</th>\n",
       "      <th>...</th>\n",
       "      <th>PY</th>\n",
       "      <th>showStatus</th>\n",
       "      <th>files</th>\n",
       "      <th>feedfiles</th>\n",
       "      <th>reply</th>\n",
       "      <th>manager_name</th>\n",
       "      <th>entity_name</th>\n",
       "      <th>cat_count</th>\n",
       "      <th>word_count</th>\n",
       "      <th>lang</th>\n",
       "    </tr>\n",
       "  </thead>\n",
       "  <tbody>\n",
       "    <tr>\n",
       "      <th>0</th>\n",
       "      <td>Виконано</td>\n",
       "      <td>2015-07-03 00:00:00</td>\n",
       "      <td></td>\n",
       "      <td>Добрий день! Відповідно до контрольної картки ...</td>\n",
       "      <td>КП ”УЗН” [Сінцов Геннадій Львович ]</td>\n",
       "      <td>Утримання парків та лісопарків у місті Києві</td>\n",
       "      <td>2015-06-18 13:20:58</td>\n",
       "      <td>І-2513</td>\n",
       "      <td>149382</td>\n",
       "      <td>1</td>\n",
       "      <td>...</td>\n",
       "      <td>30.636674</td>\n",
       "      <td></td>\n",
       "      <td>[{'id': '81573', 'InOut': '0', 'file': '/feedb...</td>\n",
       "      <td>[{'id': '49925', 'file': '/feedback/fdocs/3201...</td>\n",
       "      <td>{'1436176081': {'id': '103381', 'callid': '320...</td>\n",
       "      <td>Сінцов Геннадій Львович</td>\n",
       "      <td>КП ”УЗН”</td>\n",
       "      <td>399</td>\n",
       "      <td>82</td>\n",
       "      <td>uk</td>\n",
       "    </tr>\n",
       "    <tr>\n",
       "      <th>2</th>\n",
       "      <td>Виконано</td>\n",
       "      <td>2013-10-21 00:00:00</td>\n",
       "      <td></td>\n",
       "      <td>В будинку 29 на вулиці Якуба Коласа відсутнє о...</td>\n",
       "      <td>КП РЕО-5 [Бондар Юрій Іванович]</td>\n",
       "      <td>Відсутність опалення</td>\n",
       "      <td>2013-10-17 18:20:15</td>\n",
       "      <td>І-4646</td>\n",
       "      <td>28337</td>\n",
       "      <td>1</td>\n",
       "      <td>...</td>\n",
       "      <td>30.383763</td>\n",
       "      <td></td>\n",
       "      <td></td>\n",
       "      <td></td>\n",
       "      <td>[]</td>\n",
       "      <td>Бондар Юрій Іванович</td>\n",
       "      <td>КП РЕО-5</td>\n",
       "      <td>6020</td>\n",
       "      <td>55</td>\n",
       "      <td>uk</td>\n",
       "    </tr>\n",
       "    <tr>\n",
       "      <th>3</th>\n",
       "      <td>На доопрацюванні виконавцем</td>\n",
       "      <td>2014-01-28 00:00:00</td>\n",
       "      <td></td>\n",
       "      <td>Доброго дня, вимушена звертатися за допомогою ...</td>\n",
       "      <td>ПАТ ”Київенерго” - ТРМ [Фоменко Олександр Вале...</td>\n",
       "      <td>Недостатній тиск ГВП</td>\n",
       "      <td>2014-01-13 14:30:50</td>\n",
       "      <td>І-83</td>\n",
       "      <td>40156</td>\n",
       "      <td>1</td>\n",
       "      <td>...</td>\n",
       "      <td>30.414153</td>\n",
       "      <td></td>\n",
       "      <td></td>\n",
       "      <td>[{'id': '12021', 'file': '/feedback/fdocs/2690...</td>\n",
       "      <td>{'1390476591': {'id': '23506', 'callid': '2690...</td>\n",
       "      <td>Фоменко Олександр Валерійович</td>\n",
       "      <td>ПАТ ”Київенерго” - ТРМ</td>\n",
       "      <td>303</td>\n",
       "      <td>97</td>\n",
       "      <td>uk</td>\n",
       "    </tr>\n",
       "    <tr>\n",
       "      <th>6</th>\n",
       "      <td>В роботі</td>\n",
       "      <td>2015-05-27 00:00:00</td>\n",
       "      <td></td>\n",
       "      <td>Відсутне ГВП (в об’яві - на невизначений термін)</td>\n",
       "      <td>ПАТ ”Київенерго” - ЖТЕ [Фоменко Олександр Вале...</td>\n",
       "      <td>Відсутність ГВП</td>\n",
       "      <td>2015-05-12 17:43:50</td>\n",
       "      <td>І-1871</td>\n",
       "      <td>136934</td>\n",
       "      <td>1</td>\n",
       "      <td>...</td>\n",
       "      <td>30.432559</td>\n",
       "      <td></td>\n",
       "      <td></td>\n",
       "      <td></td>\n",
       "      <td>[]</td>\n",
       "      <td>Фоменко Олександр Валерійович</td>\n",
       "      <td>ПАТ ”Київенерго” - ЖТЕ</td>\n",
       "      <td>13273</td>\n",
       "      <td>8</td>\n",
       "      <td>uk</td>\n",
       "    </tr>\n",
       "    <tr>\n",
       "      <th>8</th>\n",
       "      <td>Чекає на перевіку контр.відділом</td>\n",
       "      <td>2014-10-06 00:00:00</td>\n",
       "      <td></td>\n",
       "      <td>Доброго дня! Вже неможливо терпіти відсутність...</td>\n",
       "      <td>ПАТ ”Київенерго” - ТРМ [Фоменко Олександр Вале...</td>\n",
       "      <td>Відсутність ГВП</td>\n",
       "      <td>2014-09-21 12:10:28</td>\n",
       "      <td>І-2631</td>\n",
       "      <td>74345</td>\n",
       "      <td>1</td>\n",
       "      <td>...</td>\n",
       "      <td>30.63972</td>\n",
       "      <td></td>\n",
       "      <td></td>\n",
       "      <td>[{'id': '21895', 'file': '/feedback/fdocs/2875...</td>\n",
       "      <td>[]</td>\n",
       "      <td>Фоменко Олександр Валерійович</td>\n",
       "      <td>ПАТ ”Київенерго” - ТРМ</td>\n",
       "      <td>13273</td>\n",
       "      <td>66</td>\n",
       "      <td>uk</td>\n",
       "    </tr>\n",
       "  </tbody>\n",
       "</table>\n",
       "<p>5 rows × 25 columns</p>\n",
       "</div>"
      ],
      "text/plain": [
       "                        StatusTitle           CallZCdate CallZReply  \\\n",
       "0                          Виконано  2015-07-03 00:00:00              \n",
       "2                          Виконано  2013-10-21 00:00:00              \n",
       "3       На доопрацюванні виконавцем  2014-01-28 00:00:00              \n",
       "6                          В роботі  2015-05-27 00:00:00              \n",
       "8  Чекає на перевіку контр.відділом  2014-10-06 00:00:00              \n",
       "\n",
       "                                                text  \\\n",
       "0  Добрий день! Відповідно до контрольної картки ...   \n",
       "2  В будинку 29 на вулиці Якуба Коласа відсутнє о...   \n",
       "3  Доброго дня, вимушена звертатися за допомогою ...   \n",
       "6   Відсутне ГВП (в об’яві - на невизначений термін)   \n",
       "8  Доброго дня! Вже неможливо терпіти відсутність...   \n",
       "\n",
       "                                        CallZManager  \\\n",
       "0                КП ”УЗН” [Сінцов Геннадій Львович ]   \n",
       "2                    КП РЕО-5 [Бондар Юрій Іванович]   \n",
       "3  ПАТ ”Київенерго” - ТРМ [Фоменко Олександр Вале...   \n",
       "6  ПАТ ”Київенерго” - ЖТЕ [Фоменко Олександр Вале...   \n",
       "8  ПАТ ”Київенерго” - ТРМ [Фоменко Олександр Вале...   \n",
       "\n",
       "                                          label             CallDate CallCode  \\\n",
       "0  Утримання парків та лісопарків у місті Києві  2015-06-18 13:20:58   І-2513   \n",
       "2                          Відсутність опалення  2013-10-17 18:20:15   І-4646   \n",
       "3                          Недостатній тиск ГВП  2014-01-13 14:30:50     І-83   \n",
       "6                               Відсутність ГВП  2015-05-12 17:43:50   І-1871   \n",
       "8                               Відсутність ГВП  2014-09-21 12:10:28   І-2631   \n",
       "\n",
       "     FbId Enabled  ...         PY showStatus  \\\n",
       "0  149382       1  ...  30.636674              \n",
       "2   28337       1  ...  30.383763              \n",
       "3   40156       1  ...  30.414153              \n",
       "6  136934       1  ...  30.432559              \n",
       "8   74345       1  ...   30.63972              \n",
       "\n",
       "                                               files  \\\n",
       "0  [{'id': '81573', 'InOut': '0', 'file': '/feedb...   \n",
       "2                                                      \n",
       "3                                                      \n",
       "6                                                      \n",
       "8                                                      \n",
       "\n",
       "                                           feedfiles  \\\n",
       "0  [{'id': '49925', 'file': '/feedback/fdocs/3201...   \n",
       "2                                                      \n",
       "3  [{'id': '12021', 'file': '/feedback/fdocs/2690...   \n",
       "6                                                      \n",
       "8  [{'id': '21895', 'file': '/feedback/fdocs/2875...   \n",
       "\n",
       "                                               reply  \\\n",
       "0  {'1436176081': {'id': '103381', 'callid': '320...   \n",
       "2                                                 []   \n",
       "3  {'1390476591': {'id': '23506', 'callid': '2690...   \n",
       "6                                                 []   \n",
       "8                                                 []   \n",
       "\n",
       "                    manager_name              entity_name cat_count  \\\n",
       "0        Сінцов Геннадій Львович                КП ”УЗН”        399   \n",
       "2           Бондар Юрій Іванович                КП РЕО-5       6020   \n",
       "3  Фоменко Олександр Валерійович  ПАТ ”Київенерго” - ТРМ        303   \n",
       "6  Фоменко Олександр Валерійович  ПАТ ”Київенерго” - ЖТЕ      13273   \n",
       "8  Фоменко Олександр Валерійович  ПАТ ”Київенерго” - ТРМ      13273   \n",
       "\n",
       "  word_count lang  \n",
       "0         82   uk  \n",
       "2         55   uk  \n",
       "3         97   uk  \n",
       "6          8   uk  \n",
       "8         66   uk  \n",
       "\n",
       "[5 rows x 25 columns]"
      ]
     },
     "execution_count": 15,
     "metadata": {},
     "output_type": "execute_result"
    }
   ],
   "source": [
    "data_uk.head()"
   ]
  },
  {
   "cell_type": "code",
   "execution_count": 16,
   "metadata": {},
   "outputs": [
    {
     "name": "stdout",
     "output_type": "stream",
     "text": [
      "565 Відсутнє електропостачання\n",
      "553 Ремонт та заміна електроприладів\n",
      "514 Перебої електропостачання\n",
      "65 Підключення МАФ до комунікацій (електро -, водопостачання, тощо)\n",
      "62 Встановлення та експлуатація електролічильників\n",
      "50 Питання нарахування плати за електропостачання (розрахунки за електропостачання)\n",
      "36 Перерахунок, нарахування плати та боргу  за електропостачання\n",
      "22 Питання, що стосуються лічильників на електроенергію\n",
      "19 Відключення електропостачання за борги\n",
      "14 Питання стосовно нарахування боргу за електропостачання\n",
      "13 Укладання договорів на постачання електроенергії\n",
      "8 Перерахунок плати за відсутність електропостачання\n",
      "4 Відключення за борги електропостачання\n",
      "1 Про впровадження абонентських книжок АК ”Київенерго”,на оплату за електроенергію\n",
      "\n",
      "****************\n",
      "\n",
      "616 Паркування авто у місцях загального користування\n",
      "359 Паркування авто на прибудинковій території\n",
      "218 Розміщення паркувальних майданчиків\n",
      "190 Зберігання транспортних засобів, порушення правил паркування\n",
      "105 Паркування на зеленій зоні у місцях загального користування\n",
      "100 Паркування авто на зеленій зоні прибудинкової території\n",
      "25 Тарифи на послуги з паркування\n",
      "\n",
      "****************\n",
      "\n",
      "6020 Відсутність опалення\n",
      "2049 Відсутність опалення по стояку\n",
      "1341 Незадовільна температура опалення\n",
      "709 Встановлення лічильників на опалення.\n",
      "256 Питання, що стосуються завершення опалювального сезону\n",
      "212 Перерахунок плати за відсутність опалення\n",
      "160 Опалення на сходових клітинах\n",
      "154 Питання, що виникають до початку опалювального сезону\n",
      "84 Перерахунок плати за недостатню температуру опалення\n",
      "71 Питання стосовно нарахування боргу за опалення\n",
      "58 Відсутність опалення в навчальних закладах\n",
      "57 Незадовільна робота рушникосушарок від опалення\n",
      "23 Економічне обгрунтування тарифів на ЖКП: опалення, ГВП, ХВП, газ\n",
      "3 Відсутність опалення в адміністративних будівлях\n",
      "2 Відсутність опалення в медичних установах\n",
      "1 Відключення опалення за борги\n",
      "\n",
      "****************\n",
      "\n",
      "13273 Відсутність ГВП\n",
      "2304 Незадовільна температура ГВП\n",
      "303 Недостатній тиск ГВП\n",
      "288 Незадовільна робота рушникосушарок від ГВП\n",
      "226 Перерахунок плати за відсутність ГВП\n",
      "163 Перерахунок плати за незадовільну температуру ГВП\n",
      "114 Відсутність ГВП по стояку\n",
      "72 Неякісне ГВП\n",
      "58 Відключення за борги ГВП\n",
      "23 Економічне обгрунтування тарифів на ЖКП: опалення, ГВП, ХВП, газ\n",
      "21 Питання нарахування плати за споживання ГВП (розрахунки за споживання ГВП\n",
      "17 Перерахунок за непрацюючу рушникосушарку від ГВП\n",
      "3 Питання стосовно нарахування боргу за споживання ГВП\n",
      "\n",
      "****************\n",
      "\n",
      "1562 Відсутнє ХВП\n",
      "349 Відсутній тиск ХВП з 10-го поверху включно (”Київенерго”)\n",
      "233 Відсутній тиск ХВП до 9-го поверху включно (”Київводоканал” )\n",
      "194 Неякісне ХВП\n",
      "86 Відсутність ХВП по стояку\n",
      "48 Постійні перебої з подачею ХВП\n",
      "23 Економічне обгрунтування тарифів на ЖКП: опалення, ГВП, ХВП, газ\n",
      "17 Перерахунок, нарахування плати та боргу  за споживання ХВП\n",
      "17 Питання нарахування плати за споживання ХВП (розрахунки за споживання ХВП\n",
      "7 Перерахунок плати за відсутність ХВП\n",
      "1 Питання стосовно нарахування боргу за споживання ХВП\n"
     ]
    }
   ],
   "source": [
    "res = df.CallZType.value_counts()\n",
    "\n",
    "for k, v in res.items():\n",
    "    if \"електро\" in k.lower():\n",
    "        print(v, k)\n",
    "\n",
    "print('\\n****************\\n')\n",
    "\n",
    "for k, v in res.items():\n",
    "    if \"паркув\" in k.lower():\n",
    "        print(v, k)\n",
    "        \n",
    "print('\\n****************\\n')\n",
    "\n",
    "for k, v in res.items():\n",
    "    if \"опал\" in k.lower():\n",
    "        print(v, k)\n",
    "\n",
    "print('\\n****************\\n')\n",
    "\n",
    "for k, v in res.items():\n",
    "    if \"гвп\" in k.lower():\n",
    "        print(v, k)\n",
    "\n",
    "print('\\n****************\\n')\n",
    "\n",
    "for k, v in res.items():\n",
    "    if \"хвп\" in k.lower():\n",
    "        print(v, k)"
   ]
  },
  {
   "cell_type": "markdown",
   "metadata": {},
   "source": [
    "## Preprocessing"
   ]
  },
  {
   "cell_type": "code",
   "execution_count": 17,
   "metadata": {},
   "outputs": [],
   "source": [
    "import stanfordnlp\n",
    "import warnings\n",
    "\n",
    "warnings.filterwarnings(\"ignore\")"
   ]
  },
  {
   "cell_type": "code",
   "execution_count": 18,
   "metadata": {},
   "outputs": [
    {
     "name": "stdout",
     "output_type": "stream",
     "text": [
      "Use device: gpu\n",
      "---\n",
      "Loading: tokenize\n",
      "With settings: \n",
      "{'model_path': '/home/dima/stanfordnlp_resources/uk_iu_models/uk_iu_tokenizer.pt', 'lang': 'uk', 'shorthand': 'uk_iu', 'mode': 'predict'}\n",
      "---\n",
      "Loading: pos\n",
      "With settings: \n",
      "{'model_path': '/home/dima/stanfordnlp_resources/uk_iu_models/uk_iu_tagger.pt', 'pretrain_path': '/home/dima/stanfordnlp_resources/uk_iu_models/uk_iu.pretrain.pt', 'lang': 'uk', 'shorthand': 'uk_iu', 'mode': 'predict'}\n",
      "---\n",
      "Loading: lemma\n",
      "With settings: \n",
      "{'model_path': '/home/dima/stanfordnlp_resources/uk_iu_models/uk_iu_lemmatizer.pt', 'lang': 'uk', 'shorthand': 'uk_iu', 'mode': 'predict'}\n",
      "Building an attentional Seq2Seq model...\n",
      "Using a Bi-LSTM encoder\n",
      "Using soft attention for LSTM.\n",
      "Finetune all embeddings.\n",
      "[Running seq2seq lemmatizer with edit classifier]\n",
      "---\n",
      "Loading: depparse\n",
      "With settings: \n",
      "{'model_path': '/home/dima/stanfordnlp_resources/uk_iu_models/uk_iu_parser.pt', 'pretrain_path': '/home/dima/stanfordnlp_resources/uk_iu_models/uk_iu.pretrain.pt', 'lang': 'uk', 'shorthand': 'uk_iu', 'mode': 'predict'}\n",
      "Done loading processors!\n",
      "---\n",
      "Use device: gpu\n",
      "---\n",
      "Loading: tokenize\n",
      "With settings: \n",
      "{'model_path': '/home/dima/stanfordnlp_resources/ru_syntagrus_models/ru_syntagrus_tokenizer.pt', 'lang': 'ru', 'shorthand': 'ru_syntagrus', 'mode': 'predict'}\n",
      "---\n",
      "Loading: pos\n",
      "With settings: \n",
      "{'model_path': '/home/dima/stanfordnlp_resources/ru_syntagrus_models/ru_syntagrus_tagger.pt', 'pretrain_path': '/home/dima/stanfordnlp_resources/ru_syntagrus_models/ru_syntagrus.pretrain.pt', 'lang': 'ru', 'shorthand': 'ru_syntagrus', 'mode': 'predict'}\n",
      "---\n",
      "Loading: lemma\n",
      "With settings: \n",
      "{'model_path': '/home/dima/stanfordnlp_resources/ru_syntagrus_models/ru_syntagrus_lemmatizer.pt', 'lang': 'ru', 'shorthand': 'ru_syntagrus', 'mode': 'predict'}\n",
      "Building an attentional Seq2Seq model...\n",
      "Using a Bi-LSTM encoder\n",
      "Using soft attention for LSTM.\n",
      "Finetune all embeddings.\n",
      "[Running seq2seq lemmatizer with edit classifier]\n",
      "---\n",
      "Loading: depparse\n",
      "With settings: \n",
      "{'model_path': '/home/dima/stanfordnlp_resources/ru_syntagrus_models/ru_syntagrus_parser.pt', 'pretrain_path': '/home/dima/stanfordnlp_resources/ru_syntagrus_models/ru_syntagrus.pretrain.pt', 'lang': 'ru', 'shorthand': 'ru_syntagrus', 'mode': 'predict'}\n",
      "Done loading processors!\n",
      "---\n"
     ]
    }
   ],
   "source": [
    "nlp_uk = stanfordnlp.Pipeline(lang='uk')\n",
    "nlp_ru = stanfordnlp.Pipeline(lang='ru')"
   ]
  },
  {
   "cell_type": "code",
   "execution_count": 19,
   "metadata": {},
   "outputs": [],
   "source": [
    "def clean_text(x, words_num=100):\n",
    "    x = ''.join(_ for _ in \" \".join(filter(None, x.split()[:words_num])).lower() if _.isprintable())\n",
    "    x = x.encode('utf-8', \"ignore\").decode(\"utf-8\")\n",
    "    \n",
    "    x = x.replace(\"”\", \"’\")\n",
    "    for punct in ['!', \".\", \"?\", \",\"]:\n",
    "        x = re.sub(r\"\\{}+\".format(punct), punct, x)\n",
    "    return x\n",
    "\n",
    "\n",
    "def text2tokens(text, lang='uk', lemma=False, ignore_punct=True):\n",
    "    nlp_map = {'uk': nlp_uk, 'ru': nlp_ru}\n",
    "    nlp = nlp_map.get(lang)\n",
    "    tokens = []\n",
    "    \n",
    "    for sentence in nlp(text).sentences:\n",
    "        for token in sentence.words:\n",
    "            if ignore_punct and token.upos == 'PUNCT':\n",
    "                continue\n",
    "            if lemma:\n",
    "                tokens.append(token.lemma)\n",
    "            else:\n",
    "#                 tokens.append((token.text, token.upos))\n",
    "                tokens.append(token.text)\n",
    "                \n",
    "    return tokens"
   ]
  },
  {
   "cell_type": "code",
   "execution_count": 20,
   "metadata": {},
   "outputs": [],
   "source": [
    "sample = data_uk.sample(3)"
   ]
  },
  {
   "cell_type": "code",
   "execution_count": 21,
   "metadata": {},
   "outputs": [
    {
     "name": "stdout",
     "output_type": "stream",
     "text": [
      "Надсилаючи письмові відповіді на мої звернення, в КП ”Плесо” склали 4 арк. з відповідями в 1 конверт. П’ятий акруш, як виявилося, відповідь НЕ на моє звернення П-10092/1 від 13.11.2013 р. (додаю фото аркуша). Мабуть це сталося помилково. Повідомляю про це та прошу переадресувати відповідь заявникові.\n",
      "*********\n",
      "відновіть освітлення з першого по 10-й поверх, де воно передбачено з моменту забудови будинку, працівники ЖЕКу його обрізали що б не вкручувати лампочки!!! на сходових прольотах, і така ситуація на кожному поверсі. Верніть патрони та вкрутіть лампочки, адже там передбачено освітлення проектом!!! на всіх поверхах тільки провода стирчать. Чому ви закриваєте звернення нічого не зобивши не розумію.... освітлення біля не помитих вікон...... там тільки провода стирчать. Свободи, 46, 3-й підїзд\n",
      "*********\n",
      "Ми проживаємо в будинку по вул.Леніна 61 з 2003 року. З часу заселення в під’їздах жодних ремонтних робіт не проводилося. Хоча в сусідньому будинку (буд 59), який заселений пізніше нашого, в першому під’їзді пофарбували двері, побілили стіни. Ми так розуміємо, що це зроблено тому, що в цьому під’їзді живе голова Дарницької держадміністрації, тому й такі „почесті”. Але невже ця людина заслуговує на більші привілеї в порівнянні з іншими мешканцями? Виходить, що ніяких змін у країні не відбувається?\n",
      "*********\n"
     ]
    }
   ],
   "source": [
    "for item in sample.text.values:\n",
    "    print(item)\n",
    "    print(\"*********\")"
   ]
  },
  {
   "cell_type": "code",
   "execution_count": 22,
   "metadata": {},
   "outputs": [
    {
     "name": "stdout",
     "output_type": "stream",
     "text": [
      "надсилаючи письмові відповіді на мої звернення, в кп ’плесо’ склали 4 арк. з відповідями в 1 конверт. п’ятий акруш, як виявилося, відповідь не на моє звернення п-10092/1 від 13.11.2013 р. (додаю фото аркуша). мабуть це сталося помилково. повідомляю про це та прошу переадресувати відповідь заявникові.\n",
      "*********\n",
      "відновіть освітлення з першого по 10-й поверх, де воно передбачено з моменту забудови будинку, працівники жеку його обрізали що б не вкручувати лампочки! на сходових прольотах, і така ситуація на кожному поверсі. верніть патрони та вкрутіть лампочки, адже там передбачено освітлення проектом! на всіх поверхах тільки провода стирчать. чому ви закриваєте звернення нічого не зобивши не розумію. освітлення біля не помитих вікон. там тільки провода стирчать. свободи, 46, 3-й підїзд\n",
      "*********\n",
      "ми проживаємо в будинку по вул.леніна 61 з 2003 року. з часу заселення в під’їздах жодних ремонтних робіт не проводилося. хоча в сусідньому будинку (буд 59), який заселений пізніше нашого, в першому під’їзді пофарбували двері, побілили стіни. ми так розуміємо, що це зроблено тому, що в цьому під’їзді живе голова дарницької держадміністрації, тому й такі „почесті’. але невже ця людина заслуговує на більші привілеї в порівнянні з іншими мешканцями? виходить, що ніяких змін у країні не відбувається?\n",
      "*********\n"
     ]
    }
   ],
   "source": [
    "for item in sample.text.values:\n",
    "    print(clean_text(item))\n",
    "    print(\"*********\")"
   ]
  },
  {
   "cell_type": "code",
   "execution_count": 23,
   "metadata": {},
   "outputs": [],
   "source": [
    "# text2tokens(item)"
   ]
  },
  {
   "cell_type": "code",
   "execution_count": 24,
   "metadata": {},
   "outputs": [],
   "source": [
    "data_uk['text_clean'] = data_uk['text'].map(clean_text)\n",
    "data_ru['text_clean'] = data_ru['text'].map(clean_text)"
   ]
  },
  {
   "cell_type": "markdown",
   "metadata": {},
   "source": [
    "## Embeddings"
   ]
  },
  {
   "cell_type": "markdown",
   "metadata": {},
   "source": [
    "### Universal Sentence Encoder"
   ]
  },
  {
   "cell_type": "code",
   "execution_count": 25,
   "metadata": {},
   "outputs": [],
   "source": [
    "import tensorflow_text\n",
    "import tensorflow as tf\n",
    "import tensorflow_hub as hub\n",
    "\n",
    "from scipy import spatial"
   ]
  },
  {
   "cell_type": "code",
   "execution_count": 26,
   "metadata": {},
   "outputs": [
    {
     "data": {
      "text/plain": [
       "'2.0.1'"
      ]
     },
     "execution_count": 26,
     "metadata": {},
     "output_type": "execute_result"
    }
   ],
   "source": [
    "tf.__version__"
   ]
  },
  {
   "cell_type": "code",
   "execution_count": 27,
   "metadata": {},
   "outputs": [
    {
     "data": {
      "text/plain": [
       "True"
      ]
     },
     "execution_count": 27,
     "metadata": {},
     "output_type": "execute_result"
    }
   ],
   "source": [
    "tf.test.is_gpu_available(\n",
    "    cuda_only=False, min_cuda_compute_capability=None\n",
    ")"
   ]
  },
  {
   "cell_type": "code",
   "execution_count": 28,
   "metadata": {},
   "outputs": [],
   "source": [
    "module_url = \"https://tfhub.dev/google/universal-sentence-encoder-multilingual/3\"\n",
    "use_model = hub.load(module_url)"
   ]
  },
  {
   "cell_type": "code",
   "execution_count": 29,
   "metadata": {},
   "outputs": [],
   "source": [
    "def cos_sim(vec1, vec2):\n",
    "    return 1 - spatial.distance.cosine(vec1, vec2)"
   ]
  },
  {
   "cell_type": "code",
   "execution_count": 30,
   "metadata": {},
   "outputs": [],
   "source": [
    "def use_embed(text, numpy=True):\n",
    "    res = np.zeros((1,512))\n",
    "    if isinstance(text, str):\n",
    "        text = [text]\n",
    "    try:\n",
    "        res = use_model(text)\n",
    "        if numpy:\n",
    "            res = res.numpy()\n",
    "    except Exception as e:\n",
    "        print(e, text)\n",
    "    return res"
   ]
  },
  {
   "cell_type": "code",
   "execution_count": 31,
   "metadata": {},
   "outputs": [
    {
     "name": "stdout",
     "output_type": "stream",
     "text": [
      "Відсутність ГВП\n",
      "*************\n",
      "здравствуйте. почему плановое отключение горячей воды, в нашем доме, никогда не заканчивается вовремя. я здесь живу много лет и ни одного раза киевэнерго не вложилось в обещанные 2 недели, всегда минимум месяц дом без горячей воды. вот и сейчас воду должны были дать 1 июля, но её нет! автоответчик киевэнерго говорит, что в соломенском районе нет аварийных ситуаций, а автоответчик кп ’батыевское’ обещает воду не раньше 9 июля! они даже в своей лжи синхронизироваться не могут. я считаю данную ситуацию возмутительной! нельзя столько лет врать людям о двухнедельном отключении горячей воды. надеюсь на вашу помощь в решении данного вопроса и\n",
      "*************\n",
      "до сих пор в нашем доме нет горячего водоснабжения. но еще периодически отключают и холодную воду в связи с производством каких- то ремонтных работ вокруг нашего дома. при этом вдоль дороги выливается огромное количество воды, которая стоит сейчас немалые деньги. наш дом окопан был уже, по-моему, со всех сторон и не один раз и хорошо еще, что он стоит на месте. хочется, чтобы нас наконец избавили от проблем с водоснабжением и появится ли горячая вода в нашем доме. спасибо.\n"
     ]
    }
   ],
   "source": [
    "lang = 'ru'\n",
    "\n",
    "if lang == 'ru':\n",
    "    tmp = data_ru.loc[data_ru.cat_count == data_ru.cat_count.max()].sample(2)\n",
    "else:\n",
    "    tmp = data_uk.loc[data_uk.cat_count == data_uk.cat_count.max()].sample(2)\n",
    "    \n",
    "cat = tmp['label'].unique()[0]\n",
    "sample1 = clean_text(tmp['text'].values[0])\n",
    "sample2 = clean_text(tmp['text'].values[1])\n",
    "\n",
    "print(cat, sample1, sample2, sep=\"\\n*************\\n\")"
   ]
  },
  {
   "cell_type": "code",
   "execution_count": 32,
   "metadata": {},
   "outputs": [
    {
     "name": "stdout",
     "output_type": "stream",
     "text": [
      "Embedding shape: (1, 512)\n",
      "Text similarity: 0.6137630939483643\n"
     ]
    }
   ],
   "source": [
    "print('Embedding shape:', use_embed(sample1).shape)\n",
    "print('Text similarity:', cos_sim(use_embed(sample1), use_embed(sample2)))"
   ]
  },
  {
   "cell_type": "markdown",
   "metadata": {},
   "source": [
    "I'm pleasantly surprised that Russian USE model somehow performs on Ukrainian"
   ]
  },
  {
   "cell_type": "markdown",
   "metadata": {},
   "source": [
    "### Word2vec / Glove"
   ]
  },
  {
   "cell_type": "markdown",
   "metadata": {},
   "source": [
    "Ubercorpus embeddings"
   ]
  },
  {
   "cell_type": "code",
   "execution_count": 33,
   "metadata": {},
   "outputs": [],
   "source": [
    "from gensim.scripts.glove2word2vec import glove2word2vec\n",
    "from gensim.models.keyedvectors import KeyedVectors"
   ]
  },
  {
   "cell_type": "code",
   "execution_count": 34,
   "metadata": {},
   "outputs": [],
   "source": [
    "# glove2word2vec(glove_input_file=\"ubercorpus.lowercased.tokenized.glove.300d\", \n",
    "#                word2vec_output_file=\"ubercorpus.lowercased.tokenized.glove.300d.txt\")"
   ]
  },
  {
   "cell_type": "code",
   "execution_count": 35,
   "metadata": {},
   "outputs": [
    {
     "name": "stdout",
     "output_type": "stream",
     "text": [
      "CPU times: user 1min 40s, sys: 734 ms, total: 1min 41s\n",
      "Wall time: 1min 40s\n"
     ]
    }
   ],
   "source": [
    "%%time\n",
    "\n",
    "glove_model = KeyedVectors.load_word2vec_format(\"ubercorpus.lowercased.tokenized.glove.300d.txt\", binary=False)"
   ]
  },
  {
   "cell_type": "code",
   "execution_count": 36,
   "metadata": {},
   "outputs": [
    {
     "name": "stdout",
     "output_type": "stream",
     "text": [
      "CPU times: user 1min 39s, sys: 722 ms, total: 1min 40s\n",
      "Wall time: 1min 39s\n"
     ]
    }
   ],
   "source": [
    "%%time\n",
    "\n",
    "w2v_model = KeyedVectors.load_word2vec_format(\"ubercorpus.lowercased.tokenized.word2vec.300d\", binary=False)"
   ]
  },
  {
   "cell_type": "code",
   "execution_count": 37,
   "metadata": {},
   "outputs": [
    {
     "name": "stdout",
     "output_type": "stream",
     "text": [
      "CPU times: user 1min 39s, sys: 800 ms, total: 1min 40s\n",
      "Wall time: 1min 39s\n"
     ]
    }
   ],
   "source": [
    "%%time\n",
    "\n",
    "lexvec_model = KeyedVectors.load_word2vec_format(\"ubercorpus.lowercased.tokenized.300d\", binary=False)"
   ]
  },
  {
   "cell_type": "code",
   "execution_count": 38,
   "metadata": {},
   "outputs": [
    {
     "data": {
      "text/plain": [
       "[('корбан', 0.703376054763794),\n",
       " ('кернес', 0.6943342685699463),\n",
       " ('задирко', 0.6910302639007568),\n",
       " ('мінаєв', 0.6881823539733887),\n",
       " ('іванущенко', 0.676155686378479)]"
      ]
     },
     "execution_count": 38,
     "metadata": {},
     "output_type": "execute_result"
    }
   ],
   "source": [
    "w2v_model.wv.most_similar('москаль', topn=5)"
   ]
  },
  {
   "cell_type": "code",
   "execution_count": 39,
   "metadata": {},
   "outputs": [
    {
     "data": {
      "text/plain": [
       "[('геннадій', 0.5712622404098511),\n",
       " ('нардеп', 0.5634081959724426),\n",
       " ('москаля', 0.5238221883773804),\n",
       " ('луценко', 0.5117676258087158),\n",
       " ('депутат', 0.49746325612068176)]"
      ]
     },
     "execution_count": 39,
     "metadata": {},
     "output_type": "execute_result"
    }
   ],
   "source": [
    "glove_model.wv.most_similar('москаль', topn=5)"
   ]
  },
  {
   "cell_type": "code",
   "execution_count": 40,
   "metadata": {},
   "outputs": [
    {
     "data": {
      "text/plain": [
       "[('кернес', 0.6542044878005981),\n",
       " ('жебрівський', 0.6423298120498657),\n",
       " ('тука', 0.6347901225090027),\n",
       " ('зубко', 0.6334406733512878),\n",
       " ('корбан', 0.6276117563247681)]"
      ]
     },
     "execution_count": 40,
     "metadata": {},
     "output_type": "execute_result"
    }
   ],
   "source": [
    "lexvec_model.wv.most_similar('москаль', topn=5)"
   ]
  },
  {
   "cell_type": "markdown",
   "metadata": {},
   "source": [
    "as lowercased model trained on news, wiki and literature, by ``москаль`` it understands ``Генадій Москаль``, but not that dirty ``москаль`` from Mordor. It happens because politician appeared much more frequently in train corpus that the second one. But in my case I can't use cased model, because there are lots of reviews among train data with capsed text and if I will not lowercase them, they will add lots of noise to my data."
   ]
  },
  {
   "cell_type": "code",
   "execution_count": 41,
   "metadata": {},
   "outputs": [],
   "source": [
    "def gensim_embed(tokens, model=glove_model):\n",
    "    \"\"\" average all vectors that are in vocab, ignore OOV \"\"\"\n",
    "    res = []\n",
    "    for token in tokens:\n",
    "        if token in w2v_model.vocab:\n",
    "            res.append(model.wv.__getitem__([token]))\n",
    "    \n",
    "    return np.mean(np.vstack(res), axis=0).reshape(1, -1)"
   ]
  },
  {
   "cell_type": "code",
   "execution_count": 42,
   "metadata": {},
   "outputs": [
    {
     "name": "stdout",
     "output_type": "stream",
     "text": [
      "Відсутність ГВП\n",
      "*************\n",
      "на мое звернення г-9259 я досі не отримала конкретної відповіді, хоча термін давно сплив. з 4 червня пат ’київенерго’ припинило виконання своїх зобов’язаннь по гвп через заборгованість державного бюджету. 7 червня домовленість між міською владою и пат ’києвенерго’ була досягнута и 8 червня було обіцяно відновлення постачання гвп. однак у той же день 8 червня начебто був виявлений прорив теплотраси за адресою вул. акад. туполєва,16-д. діагностика прориву тривала аж до 12 червня. з 12 червня по 14 червня начебто тривали ремонтні роботи. однак 14 червня замість гвп я, як споживач почула нову версію проблеми гвп- новий прорив и ремонтні роботи\n",
      "*************\n",
      "сьогодні без попередження відключили гарячу воду. у т.зв. ’диспетчерській службі оболонського району’ нічого про це не знають. по будинку нічого не заплановано - так прокоментували у цій службі. скарга - чому (знову!) немає попереджень про відключення води?\n"
     ]
    }
   ],
   "source": [
    "lang = 'uk'\n",
    "\n",
    "if lang == 'ru':\n",
    "    tmp = data_ru.loc[data_ru.cat_count == data_ru.cat_count.max()].sample(2)\n",
    "else:\n",
    "    tmp = data_uk.loc[data_uk.cat_count == data_uk.cat_count.max()].sample(2)\n",
    "    \n",
    "cat = tmp['label'].unique()[0]\n",
    "sample1 = clean_text(tmp['text'].values[0])\n",
    "sample2 = clean_text(tmp['text'].values[1])\n",
    "\n",
    "print(cat, sample1, sample2, sep=\"\\n*************\\n\")"
   ]
  },
  {
   "cell_type": "code",
   "execution_count": 43,
   "metadata": {},
   "outputs": [
    {
     "name": "stdout",
     "output_type": "stream",
     "text": [
      "Embedding shape: (1, 300)\n",
      "Text similarity w2v: 0.38542604446411133\n",
      "Text similarity glove: 0.8393498063087463\n",
      "Text similarity lexvec: 0.6127337217330933\n"
     ]
    }
   ],
   "source": [
    "print('Embedding shape:', gensim_embed(text2tokens(sample1)).shape)\n",
    "print('Text similarity w2v:', cos_sim(gensim_embed(text2tokens(sample1), model=w2v_model), \n",
    "                                      gensim_embed(text2tokens(sample2), model=w2v_model)))\n",
    "print('Text similarity glove:', cos_sim(gensim_embed(text2tokens(sample1), model=glove_model), \n",
    "                                        gensim_embed(text2tokens(sample2), model=glove_model)))\n",
    "print('Text similarity lexvec:', cos_sim(gensim_embed(text2tokens(sample1), model=lexvec_model), \n",
    "                                        gensim_embed(text2tokens(sample2), model=lexvec_model)))"
   ]
  },
  {
   "cell_type": "markdown",
   "metadata": {},
   "source": [
    "2 comments:\n",
    "* ukrainian models performs well both on uk and ru\n",
    "* as I expected, glove works slightly better in most of cases"
   ]
  },
  {
   "cell_type": "markdown",
   "metadata": {},
   "source": [
    "### BERT"
   ]
  },
  {
   "cell_type": "code",
   "execution_count": 44,
   "metadata": {},
   "outputs": [],
   "source": [
    "BERT_PRETRAINED_DIR = 'multi_cased_bert_base_uk'\n",
    "\n",
    "VOCAB_FILE = os.path.join(BERT_PRETRAINED_DIR, 'vocab.txt')\n",
    "CONFIG_FILE = os.path.join(BERT_PRETRAINED_DIR, 'bert_config.json')\n",
    "INIT_CHECKPOINT = os.path.join(BERT_PRETRAINED_DIR, 'bert_model.ckpt')"
   ]
  },
  {
   "cell_type": "code",
   "execution_count": 45,
   "metadata": {},
   "outputs": [],
   "source": [
    "import torch\n",
    "from pytorch_pretrained_bert import BertTokenizer, BertModel, BertForMaskedLM\n",
    "\n",
    "# import bert"
   ]
  },
  {
   "cell_type": "markdown",
   "metadata": {},
   "source": [
    "#### tokenize"
   ]
  },
  {
   "cell_type": "code",
   "execution_count": 46,
   "metadata": {},
   "outputs": [],
   "source": [
    "tokenizer = BertTokenizer.from_pretrained(BERT_PRETRAINED_DIR)\n",
    "# tokenizer = bert.tokenization.bert_tokenization.FullTokenizer(vocab_file=VOCAB_FILE, do_lower_case=False)"
   ]
  },
  {
   "cell_type": "code",
   "execution_count": 47,
   "metadata": {},
   "outputs": [
    {
     "name": "stdout",
     "output_type": "stream",
     "text": [
      "['[CLS]', 'вже', 'ма', '##иже', 'до', '##бу', 'від', '##су', '##тня', 'га', '##ря', '##ча', 'вода', '[SEP]']\n"
     ]
    }
   ],
   "source": [
    "text = \"вже майже добу відсутня гаряча вода\"\n",
    "marked_text = \"[CLS] \" + text + \" [SEP]\"\n",
    "\n",
    "tokenized_text = tokenizer.tokenize(marked_text)\n",
    "\n",
    "print(tokenized_text)"
   ]
  },
  {
   "cell_type": "code",
   "execution_count": 48,
   "metadata": {},
   "outputs": [
    {
     "name": "stdout",
     "output_type": "stream",
     "text": [
      "[CLS]           101\n",
      "вже          23,692\n",
      "ма           97,744\n",
      "##иже        94,152\n",
      "до           10,344\n",
      "##бу         19,590\n",
      "від          11,141\n",
      "##су         16,417\n",
      "##тня        80,897\n",
      "га           16,616\n",
      "##ря         39,025\n",
      "##ча         13,035\n",
      "вода         30,953\n",
      "[SEP]           102\n"
     ]
    }
   ],
   "source": [
    "indexed_tokens = tokenizer.convert_tokens_to_ids(tokenized_text)\n",
    "\n",
    "for tup in zip(tokenized_text, indexed_tokens):\n",
    "    print('{:<12} {:>6,}'.format(tup[0], tup[1]))"
   ]
  },
  {
   "cell_type": "markdown",
   "metadata": {},
   "source": [
    "I don't know why, but TF tokenizer works not correctly and doesn't recognize [CLS] and [SEP] tokens"
   ]
  },
  {
   "cell_type": "markdown",
   "metadata": {},
   "source": [
    "#### load model"
   ]
  },
  {
   "cell_type": "code",
   "execution_count": 49,
   "metadata": {},
   "outputs": [],
   "source": [
    "# model = BertModel.from_pretrained(BERT_PRETRAINED_DIR)\n",
    "\n",
    "# model.eval()"
   ]
  },
  {
   "cell_type": "markdown",
   "metadata": {},
   "source": [
    "model was trained with tf instead of pytorch, but loads not correctly, so I decided to work on this problem later"
   ]
  },
  {
   "cell_type": "code",
   "execution_count": 50,
   "metadata": {},
   "outputs": [],
   "source": [
    "# bert_params = bert.params_from_pretrained_ckpt(BERT_PRETRAINED_DIR)\n",
    "# l_bert = bert.BertModelLayer.from_params(bert_params, name=\"bert\")"
   ]
  },
  {
   "cell_type": "markdown",
   "metadata": {},
   "source": [
    "### Finalize and train/test split"
   ]
  },
  {
   "cell_type": "code",
   "execution_count": 51,
   "metadata": {},
   "outputs": [],
   "source": [
    "from sklearn.model_selection import train_test_split"
   ]
  },
  {
   "cell_type": "code",
   "execution_count": 52,
   "metadata": {},
   "outputs": [],
   "source": [
    "data = pd.concat([data_ru, data_uk])[['text_clean', 'label']]\n",
    "target = data['label']"
   ]
  },
  {
   "cell_type": "code",
   "execution_count": 53,
   "metadata": {},
   "outputs": [],
   "source": [
    "RANDOM_SEED = 0\n",
    "num_classes = target.unique().shape[0]"
   ]
  },
  {
   "cell_type": "code",
   "execution_count": 54,
   "metadata": {},
   "outputs": [
    {
     "name": "stderr",
     "output_type": "stream",
     "text": [
      "100%|██████████| 1137/1137 [00:46<00:00, 24.60it/s]\n"
     ]
    }
   ],
   "source": [
    "res = []\n",
    "\n",
    "for i in tqdm(range(int(data.shape[0] / 100) + 1)):\n",
    "    res.append(use_embed(data['text_clean'].values[i*100:(i+1)*100]))\n",
    "\n",
    "x_vec = np.vstack(res)"
   ]
  },
  {
   "cell_type": "code",
   "execution_count": 55,
   "metadata": {},
   "outputs": [
    {
     "data": {
      "text/plain": [
       "(113647, 512)"
      ]
     },
     "execution_count": 55,
     "metadata": {},
     "output_type": "execute_result"
    }
   ],
   "source": [
    "x_vec.shape"
   ]
  },
  {
   "cell_type": "code",
   "execution_count": 56,
   "metadata": {},
   "outputs": [],
   "source": [
    "# res = []\n",
    "\n",
    "# for item in tqdm(data_uk['text_clean'].values):\n",
    "#     res.append(gensim_embed(text2tokens(item), model=glove_model))"
   ]
  },
  {
   "cell_type": "code",
   "execution_count": 57,
   "metadata": {},
   "outputs": [],
   "source": [
    "X_train, X_test, y_train, y_test = train_test_split(x_vec, target.values, \n",
    "                                                    test_size=0.2, \n",
    "                                                    random_state=RANDOM_SEED,\n",
    "                                                    stratify=target)"
   ]
  },
  {
   "cell_type": "code",
   "execution_count": 58,
   "metadata": {},
   "outputs": [
    {
     "name": "stdout",
     "output_type": "stream",
     "text": [
      "(90917, 512) (22730, 512)\n"
     ]
    }
   ],
   "source": [
    "print(X_train.shape, X_test.shape)"
   ]
  },
  {
   "cell_type": "markdown",
   "metadata": {},
   "source": [
    "## Modeling"
   ]
  },
  {
   "cell_type": "markdown",
   "metadata": {},
   "source": [
    "### Baseline"
   ]
  },
  {
   "cell_type": "code",
   "execution_count": 59,
   "metadata": {},
   "outputs": [],
   "source": [
    "from sklearn.neighbors import KNeighborsClassifier\n",
    "from sklearn.metrics import *"
   ]
  },
  {
   "cell_type": "code",
   "execution_count": 60,
   "metadata": {},
   "outputs": [
    {
     "name": "stdout",
     "output_type": "stream",
     "text": [
      "CPU times: user 278 ms, sys: 0 ns, total: 278 ms\n",
      "Wall time: 277 ms\n"
     ]
    },
    {
     "data": {
      "text/plain": [
       "KNeighborsClassifier(algorithm='auto', leaf_size=30, metric='cosine',\n",
       "                     metric_params=None, n_jobs=None, n_neighbors=3, p=2,\n",
       "                     weights='uniform')"
      ]
     },
     "execution_count": 60,
     "metadata": {},
     "output_type": "execute_result"
    }
   ],
   "source": [
    "%%time\n",
    "\n",
    "knn_clf = KNeighborsClassifier(n_neighbors=3, metric='cosine')\n",
    "\n",
    "knn_clf.fit(X_train, y_train)"
   ]
  },
  {
   "cell_type": "code",
   "execution_count": 61,
   "metadata": {
    "scrolled": true
   },
   "outputs": [
    {
     "name": "stdout",
     "output_type": "stream",
     "text": [
      "                                                                                  precision    recall  f1-score   support\n",
      "\n",
      "                                                                     Інші Подяки       0.24      0.24      0.24       102\n",
      "                                              Інші технічні недоліки стану ліфту       0.55      0.28      0.37       568\n",
      "                Аварійний, травмонебезпечний стан утримання об’єктів благоустрою       0.19      0.14      0.16       124\n",
      "                                          Бажаючі отримати ”Картки киянина (КК)”       0.77      0.45      0.57        38\n",
      "                              Будівництво /дооблаштування спортивних майданчиків       0.53      0.29      0.37        59\n",
      "                                                                 Будівництво АЗС       0.79      0.45      0.58        51\n",
      "                                                        Будівництво в нічний час       0.50      0.23      0.32        47\n",
      "                                    Будівництво та реконструкція об’єктів освіти       0.56      0.31      0.40        58\n",
      "                                  Будівництво/дооблаштування дитячого майданчику       0.73      0.42      0.53       391\n",
      "                                                      Взаємовідносини з сусідами       0.53      0.28      0.36        65\n",
      "                          Вивезення, утилізація твердих та негабаритних відходів       0.33      0.15      0.21        60\n",
      "                                Видалення аварійних, пошкоджених хворобами дерев       0.58      0.43      0.49       141\n",
      "                                 Видача розрахункових книжок, квитанцій, довідок       0.32      0.33      0.33        27\n",
      "                                                      Вилов безпритульних тварин       0.85      0.77      0.81        53\n",
      "                                            Вирізування (кронування) гілля дерев       0.47      0.36      0.41       102\n",
      "                                                 Виток холодної води на поверхню       0.15      0.20      0.17        15\n",
      "                                                     Вологе прибирання приміщень       0.55      0.38      0.45       213\n",
      "                                           Встановлення лічильників на опалення.       0.68      0.48      0.57       196\n",
      "                                           Встановлення огородження зеленої зони       0.49      0.23      0.31       243\n",
      "                                                           Встановлення пандусів       0.53      0.39      0.45        67\n",
      "                                                         Встановлення світлофора       0.44      0.17      0.25       157\n",
      "               Встановлення сигнальних стовпчиків, бар’єрних огороджень,бордюрів       0.31      0.18      0.23       190\n",
      "                            Встановлення сміттєвих контейнерів та урн для сміття       0.39      0.25      0.30       177\n",
      "                                                Встановлення та демонтаж лавочок       0.49      0.51      0.50        55\n",
      "                                    Встановлення та експлуатація дорожніх знаків       0.59      0.40      0.47       164\n",
      "                      Встановлення та експлуатація лічильників на водопостачання       0.63      0.50      0.56       197\n",
      "           Встановлення та експлуатація пристроїв примусового зниження швидкості       0.42      0.30      0.35        96\n",
      "                                         Встановлення та експлуатація шлагбаумів       0.33      0.20      0.25        54\n",
      "Відновлення благоустрою після вик. планових,аварійних робіт на об’єктах благоуст       0.46      0.29      0.35       757\n",
      "                                                                    Відсутнє ХВП       0.47      0.38      0.42       386\n",
      "                                                      Відсутнє електропостачання       0.41      0.34      0.37       134\n",
      "                   Відсутній тиск ХВП до 9-го поверху включно (”Київводоканал” )       0.38      0.29      0.33        62\n",
      "                       Відсутній тиск ХВП з 10-го поверху включно (”Київенерго”)       0.23      0.21      0.22        76\n",
      "                                                                 Відсутність ГВП       0.85      0.62      0.71      3623\n",
      "                                                       Відсутність ГВП по стояку       0.13      0.14      0.14        21\n",
      "              Відсутність відповіді від РДА, ГУ та інших структурних підрозділів       0.05      0.04      0.04        25\n",
      "               Відсутність каналізаційних люків та решіток на проїжджих частинах       0.21      0.27      0.24        33\n",
      "                                 Відсутність каналізаційних, водопровідних люків       0.22      0.24      0.23        74\n",
      "                                                            Відсутність опалення       0.66      0.57      0.61      1360\n",
      "                                                  Відсутність опалення по стояку       0.43      0.41      0.42       426\n",
      "                 Відсутність опори освітлення (не передбачено проектом забудови)       0.19      0.10      0.13        49\n",
      "  Відсутність освітлення на опорних стовпах за відсутності/несправності лампочок       0.45      0.29      0.35       322\n",
      "          Відсутність освітлення у під’їзді за відсутності/несправності лампочок       0.62      0.48      0.54       680\n",
      "                                              Відсутність решіток зливоприймачів       0.05      0.08      0.06        13\n",
      "                                                   ГЛ ”Несанкціонована торгівля”       0.70      0.49      0.58       410\n",
      "                               Герметизація міжпанельних стиків (утеплення стін)       0.44      0.34      0.38        79\n",
      "                                                         Голів ОСББ, ЖБК, та ін.       0.29      0.38      0.32        16\n",
      "                                 Графіті, написи/малюнки на об’єктах благоустрою       0.44      0.58      0.50        24\n",
      "                 Демонтаж окремо розташованих пунктів прийому вторинної сировини       0.23      0.29      0.25        24\n",
      "                                    Демонтаж рекламних вивісок з опорних стовпів       0.61      0.47      0.53        60\n",
      "                                        Демонтаж рекламних конструкцій і вивісок       0.60      0.48      0.53       199\n",
      "        Демонтаж інших об’єктів, що входять до переліку малих архітектурних форм       0.15      0.16      0.16        98\n",
      "                      Евакуація безгосподарських, залишених транспортних засобів       0.33      0.49      0.39        47\n",
      "                                        Забруднення повітря від невідомих джерел       0.50      0.58      0.54        52\n",
      "                                            Завезення піску на дитячий майданчик       0.61      0.50      0.55        46\n",
      "                                        Заміна та експлуатація поштових скриньок       0.63      0.65      0.64        62\n",
      "                    Зберігання транспортних засобів, порушення правил паркування       0.18      0.14      0.16        51\n",
      "                                              Зменшення інтервалу руху автобусів       0.80      0.65      0.71        31\n",
      "                                  Знищення омели, амброзії та рослин - паразитів       0.75      0.76      0.76        71\n",
      "              Квитанція на  сплату житлово-комунальних послуг (зовнішній вигляд)       0.15      0.14      0.15        28\n",
      "                                                               Коливання напруги       0.50      0.59      0.54        75\n",
      "                                            Контроль за станом рекламних засобів       0.29      0.33      0.31        99\n",
      "                              Культура обслуговування пасажирів маршрутних таксі       0.83      0.73      0.78        26\n",
      "                                  Куріння тютюнових виробів у заборонених місцях       0.43      0.53      0.47        17\n",
      "                    Миття вікон, вітрин, вітражів, дзеркальних поверхонь, дверей       0.59      0.55      0.57        66\n",
      "                                                    Нанесення дорожньої розмітки       0.38      0.35      0.37       125\n",
      "                                                                 Не працює бювет       0.37      0.54      0.44        48\n",
      "                                                       Не працює вантажний  ліфт       0.48      0.49      0.49       130\n",
      "                                                     Не працює пасажирський ліфт       0.54      0.55      0.55       530\n",
      "                                                            Недостатній тиск ГВП       0.07      0.14      0.09        29\n",
      "                                  Незадовільна освітленість в приміщеннях ліфтів       0.25      0.58      0.35        12\n",
      "                                      Незадовільна робота рушникосушарок від ГВП       0.35      0.51      0.42        39\n",
      "                                                    Незадовільна температура ГВП       0.46      0.51      0.48       419\n",
      "                                               Незадовільна температура опалення       0.38      0.50      0.43       199\n",
      "               Незадовільне обслуговування в амбулаторно-поліклінічних установах       0.66      0.67      0.66        57\n",
      "               Незадовільне розташування сміттєвих контейнерів та урн для сміття       0.43      0.39      0.41        80\n",
      "                      Незадовільний вивіз сміття з контейнерів та урн для сміття       0.50      0.38      0.43       162\n",
      "                                             Незадовільний санітарний стан ліфту       0.32      0.52      0.39        27\n",
      "                                  Незадовільний стан кнопок виклику/наказу ліфту       0.44      0.58      0.50        50\n",
      "                                         Незадовільний стан опори для освітлення       0.29      0.39      0.33        31\n",
      "                        Незадовільний стан сміттєвих контейнерів, урн для сміття       0.10      0.21      0.13        14\n",
      "    Незручності від вивозу сміття з контейнерів та урн для сміття у нічні години       0.40      0.40      0.40        30\n",
      "                                  Незручності від промислових та побутових шумів       0.10      0.29      0.14         7\n",
      "                 Незручності від розташування холодильників, лотків біля кіосків       0.36      0.31      0.33        26\n",
      "Незручності для проживання мешканців від роботи закладів торгівлі та ресторанног       0.43      0.51      0.47        67\n",
      "                                            Несправність системи диспетчеризації       0.26      0.39      0.31        18\n",
      "                                                                    Неякісне ХВП       0.21      0.57      0.30        14\n",
      "                                     Облаштування наземного пішохідного переходу       0.19      0.18      0.18        57\n",
      "                            Облаштування прилеглої території навчальних закладів       0.07      0.20      0.11        10\n",
      "                                        Обслуговування димовентиляційних каналів       0.33      0.52      0.41        21\n",
      "                       Обслуговування та технічний стан каналізаційних колодязів       0.11      0.21      0.14        29\n",
      "                                     Оголені кабелі у приміщенні та на території       0.09      0.22      0.12         9\n",
      "                                                   Опалення на сходових клітинах       0.19      0.23      0.21        26\n",
      "                                 Організація та проведення продовольчих ярмарків       0.50      0.51      0.51        39\n",
      "                                     Освітлення в приміщенні й при вході в нього       0.39      0.47      0.43       275\n",
      "                    Освітлення магістралей (проїжджих частин) та вулиць м. Києва       0.10      0.13      0.11        38\n",
      "                                                  Освітлення підземних переходів       0.15      0.33      0.21        12\n",
      "                                      Паркування авто на прибудинковій території       0.24      0.21      0.22        81\n",
      "                                Паркування авто у місцях загального користування       0.24      0.25      0.24       117\n",
      "                     Паркування на зеленій зоні у місцях загального користування       0.14      0.25      0.18        12\n",
      "                                                       Перебої електропостачання       0.25      0.37      0.29        68\n",
      "                        Перебудова квартир, балконів, дверей, горищ та підвалів;       0.19      0.18      0.18        33\n",
      "     Перевірка дозвільної документації, демонтаж воріт, огорожі, паркану, забору       0.10      0.17      0.13        40\n",
      "                     Перевірка дозвільної документації, демонтаж кіосків, ларків       0.53      0.61      0.57       637\n",
      " Перевірка дозвільної документації, демонтаж літніх майданчиків кафе, ресторанів       0.53      0.68      0.60        71\n",
      "         Перевірка дозвільної документації, демонтаж окремо розташованих гаражів       0.38      0.53      0.44        15\n",
      "    Перевірка дозвільної документації, демонтаж торгових палаток, пивних наметів       0.15      0.23      0.18        22\n",
      "                                             Перевірка законності знищення дерев       0.28      0.47      0.35        17\n",
      "                     Перевірка наявності дозволів на виконання будівельних робіт       0.32      0.39      0.35       160\n",
      "                                            Перерахунок плати за відсутність ГВП       0.24      0.41      0.31        27\n",
      "                                       Перерахунок плати за відсутність опалення       0.24      0.31      0.27        32\n",
      "                               Перерахунок плати за незадовільну температуру ГВП       0.03      0.09      0.05        11\n",
      "        Перерахунок та нарахування плати за інші види житлово-комунальних послуг       0.48      0.53      0.50       334\n",
      "                       Перерахунок, нарахування плати та боргу за газопостачання       0.29      0.53      0.37        15\n",
      "                              Питання нарахування плати за ЦО (розрахунки за ЦО)       0.06      0.15      0.09        13\n",
      "                                           Питання освітлення на опорних стовпах       0.22      0.35      0.27       108\n",
      "                           Питання, що виникають до початку опалювального сезону       0.00      0.00      0.00         8\n",
      "                                       Питання, що стосуються домофонної системи       0.62      0.54      0.58        24\n",
      "                          Питання, що стосуються завершення опалювального сезону       0.51      0.74      0.60        35\n",
      "                                                           Подяки двірникам ЖЕКу       0.52      0.48      0.50        33\n",
      "                                                 Подяки загалом працівникам ЖЕКу       0.12      0.40      0.19        15\n",
      "                   Покинуті будівлі, споруди, будівельні матеріали і конструкції       0.16      0.29      0.21        24\n",
      "                            Полив клумб і газонів, дерев, кущів, зелених газонів       0.49      0.64      0.56        39\n",
      "                                                Порив труб у квартирі чи будинку       0.09      0.20      0.12        25\n",
      "                                             Порив труб у підвальному приміщенні       0.26      0.35      0.30        79\n",
      "                    Порушення встановлених законодавством вимог пожежної безпеки       0.55      0.55      0.55        20\n",
      "   Порушення правил виконання (ор-ції) будівельних робіт на об’єктах благоустрою       0.00      0.00      0.00        19\n",
      "                                                Порушення правил дорожнього руху       0.18      0.40      0.25        10\n",
      "                                             Порушення правил тиші (після 22:00)       0.30      0.57      0.39        28\n",
      "                                  Правила торговельного обслуговування населення       0.34      0.77      0.48        13\n",
      "                                           Претензії та зауваження до Начальника       0.08      0.16      0.10        19\n",
      "           Претензії та зауваження до Обслуговуючого персоналу (двірники й т.п.)       0.05      0.08      0.06        36\n",
      "                          Прибирання дерев, гілок, листя з закріпленої території       0.31      0.38      0.34        52\n",
      "   Прибирання льодяного покрову на прибудинковій території, вулицях та тротуарах       0.31      0.45      0.37        22\n",
      "                                                            Прибирання приміщень       0.43      0.49      0.45       270\n",
      "               Прибирання снігу на прибудинковій території, вулицях та тротуарах       0.40      0.62      0.48        34\n",
      "                                         Прибирання та санітарний стан територій       0.42      0.57      0.48       448\n",
      "                       Прийняття в експлуатацію закінчених будівництвом об’єктів       0.57      0.48      0.52        25\n",
      "                                                   Про розгляд звернень громадян       0.18      0.33      0.24       171\n",
      "                                                          Проведення дезинсекції       0.40      0.46      0.43        54\n",
      "                                                          Проведення дератизації       0.45      0.63      0.53        60\n",
      "                       Проведення капітального ремонту у будинку (реконструкція)       0.15      0.27      0.19        33\n",
      "                                      Проведення косметичного ремонту у під’їзді       0.10      0.09      0.09        22\n",
      "                                            Проведення модернізації/заміни ліфту       0.12      0.27      0.17        30\n",
      "       Пропозиції та запитання щодо удосконалення роботи громадського транспорту       0.16      0.47      0.23        15\n",
      " Пропозиції, зауваження, щодо роботи web-сторінки КБУ ”Контактний центр м.Києва”       0.24      0.56      0.33         9\n",
      "                                                   Раціоналізаторські пропозиції       0.04      0.33      0.07         3\n",
      "                                    Ремонт або демонтаж огородження зеленої зони       0.48      0.62      0.54        40\n",
      "                                                                    Ремонт дахів       0.45      0.56      0.50       213\n",
      "                                                                Ремонт під’їзду;       0.52      0.52      0.52       413\n",
      "                                                 Ремонт та заміна вхідних дверей       0.52      0.63      0.57        52\n",
      "                                                Ремонт та заміна електроприладів       0.30      0.69      0.42        48\n",
      "                                       Ремонт та обслуговування водостічних труб       0.25      0.39      0.31        28\n",
      "                                       Ремонт та обслуговування зливневих стоків       0.22      0.56      0.31        36\n",
      "                           Ремонт та обслуговування конструкцій фризу (козирок);       0.07      0.15      0.10        13\n",
      "                                                 Ремонт та обслуговування ґанків       0.20      0.35      0.25        31\n",
      "                                                   Ремонт теплотрас, підключення       0.06      0.13      0.08        23\n",
      "                                                           Ремонт фасаду будинку       0.28      0.56      0.37        25\n",
      "          Ремонт і обслуговування сміттєпроводів та сміттєзбірників в приміщенні       0.34      0.57      0.43        58\n",
      "                             Ремонт, реконструкція приміщень навчальних закладів       0.10      0.60      0.18         5\n",
      "                        Ремонт/демонтаж/фарбування елементів дитячого майданчику       0.10      0.24      0.14        21\n",
      "                                                               Робота світлофора       0.56      0.75      0.64       118\n",
      "                                                    Робота циркуляційної системи       0.23      0.39      0.29       118\n",
      "                                             Розміщення паркувальних майданчиків       0.23      0.42      0.30        24\n",
      "                                 Розрахунки, нарахування та перерахунок субсидій       0.67      0.75      0.71        32\n",
      "                                                     Садіння нових дерев і кущів       0.21      0.56      0.31        18\n",
      "                                                Санітарний стан проїжджих частин       0.27      0.38      0.32        16\n",
      "                                   Скління та ремонт вікон на сходових клітинах;       0.41      0.68      0.51       107\n",
      "                                                                Скошування трави       0.39      0.70      0.50        20\n",
      "                                Спалювання сміття (листя, гілок, відходів, тощо)       0.17      0.45      0.25        11\n",
      "                          Стан зливосточних систем проїжджих частин та тротуарів       0.10      0.22      0.13         9\n",
      "                                                          Стихійне сміттєзвалище       0.19      0.53      0.28        51\n",
      "Технічне обслуговування систем тепло-, водопостачання та водовідведення і зливов       0.20      0.47      0.28        76\n",
      "                                          Технічний стан мостів та шляхопроводів       0.13      0.25      0.17        12\n",
      "                             Технічний стан проїжджих частин вулиць та тротуарів       0.25      0.43      0.31       251\n",
      "                                   Технічний стан підземних пішохідних переходів       0.30      0.72      0.43        32\n",
      "                     Технічний стан пішохідниїх доріжок, сходів з бетону, гравію       0.11      0.43      0.17         7\n",
      "                                       Удосконалення організації дорожнього руху       0.18      0.48      0.27        23\n",
      "                              Укладання договорів з обслуговуючими організаціями       0.07      0.33      0.11         6\n",
      "                                        Укладання та ремонт асфальтного покриття       0.53      0.62      0.57      1132\n",
      "                                Укладання та ремонт тротуарної плитки (брущатки)       0.20      0.39      0.26        28\n",
      "                                   Укладання та технічний стан бордюрного каменю       0.04      0.33      0.07         3\n",
      "                                    Утримання парків та лісопарків у місті Києві       0.19      0.56      0.28        27\n",
      "                               Утримання підвалів, колясочних технічних поверхів       0.21      0.44      0.28       113\n",
      "                                      Утримання та облаштування клумб та газонів       0.16      0.41      0.23        27\n",
      "                        Утримання інформаційних дошок та  розклеювання оголошень       0.28      0.62      0.38        13\n",
      "\n",
      "                                                                        accuracy                           0.47     22730\n",
      "                                                                       macro avg       0.34      0.40      0.35     22730\n",
      "                                                                    weighted avg       0.53      0.47      0.48     22730\n",
      "\n"
     ]
    }
   ],
   "source": [
    "pred = knn_clf.predict(X_test)\n",
    "\n",
    "print(classification_report(pred, y_test))"
   ]
  },
  {
   "cell_type": "markdown",
   "metadata": {},
   "source": [
    "### Simple NNs"
   ]
  },
  {
   "cell_type": "code",
   "execution_count": 62,
   "metadata": {},
   "outputs": [],
   "source": [
    "from tensorflow.keras.models import Model, Sequential\n",
    "from tensorflow.keras.layers import (Input, Dense, Dropout, Flatten, Reshape, concatenate, BatchNormalization, \n",
    "                                     Conv1D, MaxPooling2D, Embedding, Convolution1D, MaxPool1D, \n",
    "                                     MaxPooling1D, GlobalMaxPool1D, Lambda,\n",
    "                                     LSTM, Bidirectional, GRU, SimpleRNN)\n",
    "from tensorflow.keras.optimizers import Adam\n",
    "from tensorflow.keras.preprocessing.text import Tokenizer\n",
    "from tensorflow.keras.preprocessing.sequence import pad_sequences\n",
    "from tensorflow.keras.callbacks import ReduceLROnPlateau, EarlyStopping, ModelCheckpoint"
   ]
  },
  {
   "cell_type": "code",
   "execution_count": 63,
   "metadata": {},
   "outputs": [],
   "source": [
    "# from tensorflow.keras import models, layers, preprocessing, callbacks"
   ]
  },
  {
   "cell_type": "code",
   "execution_count": 65,
   "metadata": {},
   "outputs": [],
   "source": [
    "def create_model(name, max_sequence_len,\n",
    "                 lr = 1e-3,\n",
    "                 activation_cnn = 'relu',\n",
    "                 activation_final = 'softmax',\n",
    "                 init_mode='uniform'):\n",
    "    \n",
    "    sequence_input = Input(shape=(max_sequence_len, 1))\n",
    "    embed = Dropout(rate=0.2)(sequence_input)\n",
    "    cnn1 = Convolution1D(80, 3, padding='same', strides=1, activation=activation_cnn, kernel_initializer=init_mode)(embed)\n",
    "    cnn1 = MaxPool1D(pool_size=4)(cnn1)\n",
    "    cnn2 = Convolution1D(50, 5, padding='same', strides=1, activation=activation_cnn, kernel_initializer=init_mode)(embed)\n",
    "    cnn2 = MaxPool1D(pool_size=4)(cnn2)\n",
    "    cnn3 = Convolution1D(50, 10, padding='same', strides=1, activation=activation_cnn, kernel_initializer=init_mode)(embed)\n",
    "    cnn3 = MaxPool1D(pool_size=4)(cnn3)\n",
    "#     cnn = concatenate([cnn1, cnn2, cnn3], axis=-1)\n",
    "    flat = GlobalMaxPool1D()(cnn1)\n",
    "    drop = Dropout(rate=0.5)(flat)\n",
    "    output = Dense(num_classes, activation=activation_final, kernel_initializer=init_mode)(drop)\n",
    "    model = Model(inputs=sequence_input, outputs=output, name=name)\n",
    "    \n",
    "    optimizer = Adam(lr=lr)\n",
    "    model.compile(optimizer=optimizer, loss='sparse_categorical_crossentropy', metrics=['categorical_accuracy'])\n",
    "    #model.compile(optimizer=optimizer, loss='kullback_leibler_divergence', metrics=['categorical_accuracy'])\n",
    "    \n",
    "    return model"
   ]
  },
  {
   "cell_type": "code",
   "execution_count": 66,
   "metadata": {},
   "outputs": [
    {
     "name": "stdout",
     "output_type": "stream",
     "text": [
      "Model: \"cnn_model\"\n",
      "_________________________________________________________________\n",
      "Layer (type)                 Output Shape              Param #   \n",
      "=================================================================\n",
      "input_1 (InputLayer)         [(None, 512, 1)]          0         \n",
      "_________________________________________________________________\n",
      "dropout (Dropout)            (None, 512, 1)            0         \n",
      "_________________________________________________________________\n",
      "conv1d (Conv1D)              (None, 512, 80)           320       \n",
      "_________________________________________________________________\n",
      "max_pooling1d (MaxPooling1D) (None, 128, 80)           0         \n",
      "_________________________________________________________________\n",
      "global_max_pooling1d (Global (None, 80)                0         \n",
      "_________________________________________________________________\n",
      "dropout_1 (Dropout)          (None, 80)                0         \n",
      "_________________________________________________________________\n",
      "dense (Dense)                (None, 186)               15066     \n",
      "=================================================================\n",
      "Total params: 15,386\n",
      "Trainable params: 15,386\n",
      "Non-trainable params: 0\n",
      "_________________________________________________________________\n"
     ]
    }
   ],
   "source": [
    "model = create_model(name='cnn_model', max_sequence_len=X_train.shape[1])\n",
    "\n",
    "callbacks = [\n",
    "    ReduceLROnPlateau(patience=3, factor=0.2, verbose=True), \n",
    "    EarlyStopping(patience=5, verbose=True), \n",
    "    ModelCheckpoint(filepath='model_cnn.h5', save_best_only=True, verbose=True)\n",
    "]\n",
    "\n",
    "model.summary()"
   ]
  },
  {
   "cell_type": "code",
   "execution_count": null,
   "metadata": {},
   "outputs": [
    {
     "name": "stdout",
     "output_type": "stream",
     "text": [
      "Train on 81825 samples, validate on 9092 samples\n"
     ]
    }
   ],
   "source": [
    "history = model.fit(X_train.reshape(-1, 512, 1), y_train,\n",
    "                    class_weight='balanced',\n",
    "                    epochs=1,\n",
    "                    batch_size=16,\n",
    "#                     callbacks=callbacks,\n",
    "                    validation_split=0.1,\n",
    "                    verbose=1)"
   ]
  },
  {
   "cell_type": "code",
   "execution_count": null,
   "metadata": {},
   "outputs": [],
   "source": [
    "pred = history.predict(X_test)\n",
    "\n",
    "print(classification_report(pred, y_test))"
   ]
  },
  {
   "cell_type": "code",
   "execution_count": null,
   "metadata": {},
   "outputs": [],
   "source": []
  },
  {
   "cell_type": "code",
   "execution_count": null,
   "metadata": {},
   "outputs": [],
   "source": []
  },
  {
   "cell_type": "code",
   "execution_count": null,
   "metadata": {},
   "outputs": [],
   "source": []
  },
  {
   "cell_type": "code",
   "execution_count": null,
   "metadata": {},
   "outputs": [],
   "source": []
  },
  {
   "cell_type": "code",
   "execution_count": null,
   "metadata": {},
   "outputs": [],
   "source": []
  },
  {
   "cell_type": "code",
   "execution_count": null,
   "metadata": {},
   "outputs": [],
   "source": []
  },
  {
   "cell_type": "code",
   "execution_count": null,
   "metadata": {},
   "outputs": [],
   "source": []
  }
 ],
 "metadata": {
  "kernelspec": {
   "display_name": "p36tf20",
   "language": "python",
   "name": "p36tf20"
  },
  "language_info": {
   "codemirror_mode": {
    "name": "ipython",
    "version": 3
   },
   "file_extension": ".py",
   "mimetype": "text/x-python",
   "name": "python",
   "nbconvert_exporter": "python",
   "pygments_lexer": "ipython3",
   "version": "3.6.10"
  }
 },
 "nbformat": 4,
 "nbformat_minor": 2
}
