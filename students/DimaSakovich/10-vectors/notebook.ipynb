{
 "cells": [
  {
   "cell_type": "code",
   "execution_count": 1,
   "metadata": {},
   "outputs": [],
   "source": [
    "import os\n",
    "\n",
    "from IPython.display import display, Markdown, Image"
   ]
  },
  {
   "cell_type": "code",
   "execution_count": 2,
   "metadata": {},
   "outputs": [],
   "source": [
    "REPO_PATH = os.path.dirname(os.path.dirname(os.path.dirname(os.getcwd())))\n",
    "TASK_PATH = os.path.join(REPO_PATH, \"tasks\", \"10-vectors.md\")\n",
    "DATA_PATH = os.path.join(os.getcwd(), \"1551.gov.ua\", \"raw\")"
   ]
  },
  {
   "cell_type": "code",
   "execution_count": 3,
   "metadata": {},
   "outputs": [],
   "source": [
    "def show_markdown(path):\n",
    "    with open(path, 'r') as fh:\n",
    "        content = fh.read()\n",
    "    display(Markdown(content))"
   ]
  },
  {
   "cell_type": "code",
   "execution_count": 4,
   "metadata": {},
   "outputs": [
    {
     "data": {
      "text/markdown": [
       "# Векторні представлення\n",
       "\n",
       "## Завдання 1\n",
       "\n",
       "Побудуйте покращений класифікатор, який буде предбачати категорію запиту до служби 1551 з використанням тільки векторів слів (не використовувати інші ознаки, такі як самі слова, нграми і т.д) для всіх категорій.\n",
       "\n",
       "У якості бейзлайну використайте класифікатор kNN, який ви побудували на практичному.\n",
       "\n",
       "Зробіть як мінімум 2 ітерації покращення, які можуть полягати у:\n",
       "\n",
       "- підборі найкращого варіанту векторів з наведених тут: https://lang.org.ua/en/models/#anchor4 або інших (fasttext, Tf-IDF, LDA, ...) Ви навіть можете дотренувати вектори на власній тренувальній множині. Можете також спробувати агрегацію декількох векторів.\n",
       "- будь-яких видах передпроцесингу і попередньої обробки (фільтрація мови, стопслів, службових частин мови, лематизація, нормалізація, ...)\n",
       "- побудови векторів документу з використанням таких підходів як pargaraph vectors (doc2vec), ElMo, Universal Sentece Encoder...\n",
       "- використання довільних алгоритмів класифікації та ансамблів цих алгоритмів\n",
       "- групуванні категорій (на основі кластеризації або якихось евристик) та побудови багаторівневих класифікаторів\n",
       "\n",
       "Ваша мета: досягнути такого результату по якості, щоб було не соромно дивитись в очі Кличкові. ;)\n",
       "\n",
       "## Завдання 2\n",
       "\n",
       "Візуалізуйте ваші класи з використанням t-SNE. Якщо ви будете використовувати агрегацію категорій, то можете візуалізувати тільки категорії вищого рівня і, для прикладу, одну з них. Якщо ви не будете групувати категорії, то використовуйте для візуалізації найбільш частотні (30-50). Спробуйте досягти достатньо розділеної картинки, експериментуючи з параметрами візуалізації (звісно, якщо ваші вхідні дані дозволять вам це).\n",
       "\n",
       "\n",
       "## Оцінювання\n",
       "\n",
       "Оцінка:\n",
       "- 90 балів за класифікатор (рішення, які будуть мати якість більше 0.8 за macro_average або більше 0.9 за micro_average отримають додаткові 10 балів)\n",
       "- 10 балів за візуалізацію\n",
       "\n",
       "Крайній термін: 16.05.2020\n"
      ],
      "text/plain": [
       "<IPython.core.display.Markdown object>"
      ]
     },
     "metadata": {},
     "output_type": "display_data"
    }
   ],
   "source": [
    "show_markdown(TASK_PATH)"
   ]
  },
  {
   "cell_type": "code",
   "execution_count": 5,
   "metadata": {},
   "outputs": [],
   "source": [
    "import re\n",
    "import gzip\n",
    "import json\n",
    "\n",
    "import pandas as pd\n",
    "import numpy as np\n",
    "import pycld2 as cld2\n",
    "\n",
    "from tqdm import tqdm\n",
    "from tqdm.contrib.concurrent import process_map\n",
    "from pathlib import Path\n",
    "from collections import Counter, OrderedDict\n",
    "from langdetect import detect, lang_detect_exception"
   ]
  },
  {
   "cell_type": "code",
   "execution_count": 34,
   "metadata": {},
   "outputs": [],
   "source": [
    "def lang_detect(x):\n",
    "    try:\n",
    "        return detect(x.lower())\n",
    "    except lang_detect_exception.LangDetectException:\n",
    "        return ''\n",
    "\n",
    "def lang_detect_v2(x):\n",
    "    try:\n",
    "        x = ''.join(_ for _ in \" \".join(x.split()[:100]).lower() if _.isprintable())\n",
    "        isReliable, textBytesFound, details = cld2.detect(x)\n",
    "        res = sorted(details, key=lambda x: x[2], reverse=True)[0][1]\n",
    "        if res == 'un':\n",
    "            res = detect(x.lower())\n",
    "        return res\n",
    "    except:\n",
    "        return \"\"\n",
    "    \n",
    "def clean_text(x):\n",
    "    x = x.lower()\n",
    "    x = x.replace(\"”\", \"’\")\n",
    "    x = \" \".join(filter(None, x.split()))\n",
    "    return x"
   ]
  },
  {
   "cell_type": "markdown",
   "metadata": {},
   "source": [
    "## Read data"
   ]
  },
  {
   "cell_type": "code",
   "execution_count": 9,
   "metadata": {},
   "outputs": [
    {
     "name": "stderr",
     "output_type": "stream",
     "text": [
      "127329it [00:20, 6132.57it/s]\n"
     ]
    }
   ],
   "source": [
    "res = []\n",
    "for file_path in tqdm(Path(DATA_PATH).rglob('*.gz')):\n",
    "    with gzip.open(file_path, 'rt', encoding='utf8') as zipfile:\n",
    "        obj = json.load(zipfile)[0]\n",
    "    res.append(obj)\n",
    "df = pd.DataFrame(res)"
   ]
  },
  {
   "cell_type": "code",
   "execution_count": 10,
   "metadata": {},
   "outputs": [],
   "source": [
    "df['manager_name'] = df['CallZManager'].map(lambda x: \"\" if not re.search(r\"\\[([\\s\\w\\.]+)\\]\", x) \n",
    "                                                         else re.findall(r\"\\[([\\s\\w\\.]+)\\]\", x)[0].strip())\n",
    "df['entity_name'] = df['CallZManager'].map(lambda x: re.sub(r\"\\[([\\s\\w\\.]+)\\]\", \"\", x))\n",
    "df['cat_count'] = df['CallZType'].map(df['CallZType'].value_counts().to_dict())"
   ]
  },
  {
   "cell_type": "code",
   "execution_count": 35,
   "metadata": {},
   "outputs": [
    {
     "data": {
      "application/vnd.jupyter.widget-view+json": {
       "model_id": "867d7bdbf79c4df3b110513bbe345239",
       "version_major": 2,
       "version_minor": 0
      },
      "text/plain": [
       "HBox(children=(FloatProgress(value=0.0, max=127329.0), HTML(value='')))"
      ]
     },
     "metadata": {},
     "output_type": "display_data"
    },
    {
     "name": "stdout",
     "output_type": "stream",
     "text": [
      "\n",
      "CPU times: user 46.7 s, sys: 7.07 s, total: 53.8 s\n",
      "Wall time: 2min 10s\n"
     ]
    }
   ],
   "source": [
    "%%time\n",
    "\n",
    "lst = process_map(lang_detect, df['CallZText'].values, max_workers=8)\n",
    "df['lang'] = lst"
   ]
  },
  {
   "cell_type": "code",
   "execution_count": 37,
   "metadata": {},
   "outputs": [
    {
     "name": "stdout",
     "output_type": "stream",
     "text": [
      "Records with > 100 label samples: 89.95 %\n"
     ]
    }
   ],
   "source": [
    "print(f\"Records with > 100 label samples: {df.loc[df.cat_count > 100].shape[0] / df.shape[0] * 100:.2f} %\")"
   ]
  },
  {
   "cell_type": "code",
   "execution_count": 38,
   "metadata": {},
   "outputs": [
    {
     "data": {
      "text/plain": [
       "uk    69328\n",
       "ru    56958\n",
       "        540\n",
       "bg      321\n",
       "mk      169\n",
       "pl        5\n",
       "en        2\n",
       "et        1\n",
       "sk        1\n",
       "sw        1\n",
       "fr        1\n",
       "sl        1\n",
       "ca        1\n",
       "Name: lang, dtype: int64"
      ]
     },
     "execution_count": 38,
     "metadata": {},
     "output_type": "execute_result"
    }
   ],
   "source": [
    "df['lang'].value_counts()"
   ]
  },
  {
   "cell_type": "code",
   "execution_count": 44,
   "metadata": {},
   "outputs": [
    {
     "data": {
      "text/plain": [
       "[('кп', 34616),\n",
       " ('-', 34534),\n",
       " ('жед', 15727),\n",
       " ('пат', 13631),\n",
       " ('жек', 12826),\n",
       " ('”київенерго”', 12645),\n",
       " ('відділ', 12027),\n",
       " ('трм', 10340),\n",
       " ('№', 9781),\n",
       " ('управління', 8406)]"
      ]
     },
     "execution_count": 44,
     "metadata": {},
     "output_type": "execute_result"
    }
   ],
   "source": [
    "Counter(\" \".join(df['entity_name'].values).lower().split()).most_common(10)"
   ]
  },
  {
   "cell_type": "code",
   "execution_count": 124,
   "metadata": {},
   "outputs": [],
   "source": [
    "data = df.loc[(df.cat_count > 100) & (df.lang.isin(['uk']))][['CallZText', 'CallZType']] # , 'ru'\n",
    "data.columns = ['text', 'label']\n",
    "data['text'] = data['text'].map(clean_text)"
   ]
  },
  {
   "cell_type": "code",
   "execution_count": 125,
   "metadata": {},
   "outputs": [
    {
     "name": "stdout",
     "output_type": "stream",
     "text": [
      "(61977, 2)\n"
     ]
    },
    {
     "data": {
      "text/html": [
       "<div>\n",
       "<style scoped>\n",
       "    .dataframe tbody tr th:only-of-type {\n",
       "        vertical-align: middle;\n",
       "    }\n",
       "\n",
       "    .dataframe tbody tr th {\n",
       "        vertical-align: top;\n",
       "    }\n",
       "\n",
       "    .dataframe thead th {\n",
       "        text-align: right;\n",
       "    }\n",
       "</style>\n",
       "<table border=\"1\" class=\"dataframe\">\n",
       "  <thead>\n",
       "    <tr style=\"text-align: right;\">\n",
       "      <th></th>\n",
       "      <th>text</th>\n",
       "      <th>label</th>\n",
       "    </tr>\n",
       "  </thead>\n",
       "  <tbody>\n",
       "    <tr>\n",
       "      <th>2</th>\n",
       "      <td>доброго дня. прошу відремонтувати бювет за адр...</td>\n",
       "      <td>Не працює бювет</td>\n",
       "    </tr>\n",
       "    <tr>\n",
       "      <th>3</th>\n",
       "      <td>просимо відремонтувати вікна в під’їзді №1 або...</td>\n",
       "      <td>Скління та ремонт вікон на сходових клітинах;</td>\n",
       "    </tr>\n",
       "    <tr>\n",
       "      <th>6</th>\n",
       "      <td>щодо відповіді від дп «дарниця-1» на моє зверн...</td>\n",
       "      <td>Претензії та зауваження до Начальника</td>\n",
       "    </tr>\n",
       "    <tr>\n",
       "      <th>7</th>\n",
       "      <td>добрий день. прошу розібратисячому в будинку в...</td>\n",
       "      <td>Відсутність опалення</td>\n",
       "    </tr>\n",
       "    <tr>\n",
       "      <th>9</th>\n",
       "      <td>вынужден обратиться так как в нашем районе мус...</td>\n",
       "      <td>Незручності від вивозу сміття з контейнерів та...</td>\n",
       "    </tr>\n",
       "  </tbody>\n",
       "</table>\n",
       "</div>"
      ],
      "text/plain": [
       "                                                text  \\\n",
       "2  доброго дня. прошу відремонтувати бювет за адр...   \n",
       "3  просимо відремонтувати вікна в під’їзді №1 або...   \n",
       "6  щодо відповіді від дп «дарниця-1» на моє зверн...   \n",
       "7  добрий день. прошу розібратисячому в будинку в...   \n",
       "9  вынужден обратиться так как в нашем районе мус...   \n",
       "\n",
       "                                               label  \n",
       "2                                    Не працює бювет  \n",
       "3      Скління та ремонт вікон на сходових клітинах;  \n",
       "6              Претензії та зауваження до Начальника  \n",
       "7                               Відсутність опалення  \n",
       "9  Незручності від вивозу сміття з контейнерів та...  "
      ]
     },
     "execution_count": 125,
     "metadata": {},
     "output_type": "execute_result"
    }
   ],
   "source": [
    "print(data.shape)\n",
    "data.head()"
   ]
  },
  {
   "cell_type": "code",
   "execution_count": 126,
   "metadata": {},
   "outputs": [],
   "source": [
    "import stanfordnlp\n",
    "import warnings\n",
    "\n",
    "warnings.filterwarnings(\"ignore\")"
   ]
  },
  {
   "cell_type": "code",
   "execution_count": 54,
   "metadata": {},
   "outputs": [
    {
     "name": "stdout",
     "output_type": "stream",
     "text": [
      "Use device: gpu\n",
      "---\n",
      "Loading: tokenize\n",
      "With settings: \n",
      "{'model_path': '/home/dima/stanfordnlp_resources/uk_iu_models/uk_iu_tokenizer.pt', 'lang': 'uk', 'shorthand': 'uk_iu', 'mode': 'predict'}\n",
      "---\n",
      "Loading: pos\n",
      "With settings: \n",
      "{'model_path': '/home/dima/stanfordnlp_resources/uk_iu_models/uk_iu_tagger.pt', 'pretrain_path': '/home/dima/stanfordnlp_resources/uk_iu_models/uk_iu.pretrain.pt', 'lang': 'uk', 'shorthand': 'uk_iu', 'mode': 'predict'}\n",
      "---\n",
      "Loading: lemma\n",
      "With settings: \n",
      "{'model_path': '/home/dima/stanfordnlp_resources/uk_iu_models/uk_iu_lemmatizer.pt', 'lang': 'uk', 'shorthand': 'uk_iu', 'mode': 'predict'}\n",
      "Building an attentional Seq2Seq model...\n",
      "Using a Bi-LSTM encoder\n",
      "Using soft attention for LSTM.\n",
      "Finetune all embeddings.\n",
      "[Running seq2seq lemmatizer with edit classifier]\n",
      "---\n",
      "Loading: depparse\n",
      "With settings: \n",
      "{'model_path': '/home/dima/stanfordnlp_resources/uk_iu_models/uk_iu_parser.pt', 'pretrain_path': '/home/dima/stanfordnlp_resources/uk_iu_models/uk_iu.pretrain.pt', 'lang': 'uk', 'shorthand': 'uk_iu', 'mode': 'predict'}\n",
      "Done loading processors!\n",
      "---\n"
     ]
    }
   ],
   "source": [
    "nlp_uk = stanfordnlp.Pipeline(lang='uk')"
   ]
  },
  {
   "cell_type": "code",
   "execution_count": 127,
   "metadata": {},
   "outputs": [
    {
     "name": "stdout",
     "output_type": "stream",
     "text": [
      "незадовільна температура гвп вже декілька днів з горячого крану тече майже холодна вода. прийняті душ неможливо навіть якщо не включати холодну. застосуйте, будь ласка, міри щодо належного постачання послуг гвп.\n",
      "*********\n",
      "у будинку здійснювали заміну металопластикових вікон у підїзді. вікно встановлено на 2 поверсі 5 підїзду без створки, що відкривається, тобто зовсім глухе. вікна встановлені в інших підїздах мають по одній створці, що відкриівється на кожному поверсі, але на нашому поверсі відсутня можливість відкривання зовсім. оскільки цей ремонт здійснювався під особистим контролем мера міста киева, то про неякісне виконання ремонту або порушення при цьому було прохання терміново повідомляти. прошу вжити заходів для виправлення ситуациї та встановлення належного вікна з можливостю провітрювання та відкриття для миття.\n",
      "*********\n",
      "не відновлено тротуар та не ліквідована яма після розриття київенерго за адресою вул. о.гончара 79, поряд із електрощитком. протягом декількох місяців прямо на тротуарі наявна велика яма, завалена сміттям, поліетиленовими пакетами, недопалками. яма загорожена металевими листами, займає половину пішохідної частини вулиці поряд із будинком. це грубо порушує правила благоустрою, заважає людям ходити, псує обличчя міста. до того ж поряд із ямою написами розмальовані стіни будинку. вимагаю ліквідувати сміттєзвалище та яму, відновити покриття тротуару.\n",
      "*********\n",
      "відсутнє гаряче водопостачяння вже 21й день. на вулиці холодно, дітей не помити... самим не помитися. якщо не буде вирішена проблема завтра - перекриємо рух автотранспорту по вулиці. терпіти вже нема як... дякуємо за розуміння.\n",
      "*********\n",
      "шановні панове! на мою думку, для вас не є секретом що вулиця віскозна - це одна з найжахливіших за станом дорожнього покриття київських вулиць. кожного дня у робочі години там нема зупинки руху транспорту. дуже щільний рух. стан покриття не дозволяє навіть розвити швидкість до 10 км/год. прошу дати оцінку відповідності стану дорожноього покриття нормативній докуметації, а також правилам безпеки дорожнього руху. і чи дозволяється використання &amp;quot;дороги&amp;quot; у такому стані для безпечного пересування киян?\n",
      "*********\n"
     ]
    }
   ],
   "source": [
    "# for item in data.sample(5).text.values:\n",
    "#     print(item)\n",
    "#     print(\"*********\")"
   ]
  },
  {
   "cell_type": "code",
   "execution_count": 132,
   "metadata": {},
   "outputs": [
    {
     "data": {
      "text/plain": [
       "'навколо дитячого майданчику біля будинку 34 вул. в. липківського огорожа з навісним замком. немає можливості потрапити на громадський дитячий майданчик. прохання розібратися зі свавіллям мешканців будинку.'"
      ]
     },
     "execution_count": 132,
     "metadata": {},
     "output_type": "execute_result"
    }
   ],
   "source": [
    "string = data.sample(5).text.values[1].lower()\n",
    "string"
   ]
  },
  {
   "cell_type": "code",
   "execution_count": 133,
   "metadata": {},
   "outputs": [],
   "source": [
    "sentences = nlp_uk(string).sentences"
   ]
  },
  {
   "cell_type": "code",
   "execution_count": 134,
   "metadata": {},
   "outputs": [
    {
     "name": "stdout",
     "output_type": "stream",
     "text": [
      "[('навколо', 'навколо'), ('дитячого', 'дитячий'), ('майданчику', 'майданчик'), ('біля', 'біля'), ('будинку', 'будинок'), ('34', '34'), ('вул', 'вул.'), ('.', '.'), ('в', 'в'), ('.', '.'), ('липківського', 'липківський'), ('огорожа', 'огорожа'), ('з', 'з'), ('навісним', 'навісний'), ('замком', 'замок'), ('.', '.')]\n",
      "\n",
      "[('немає', 'немати'), ('можливості', 'можливість'), ('потрапити', 'потрапити'), ('на', 'на'), ('громадський', 'громадський'), ('дитячий', 'дитячий'), ('майданчик', 'майданчик'), ('.', '.'), ('прохання', 'прохання'), ('розібратися', 'розібратися'), ('зі', 'зі'), ('свавіллям', 'свавілля'), ('мешканців', 'мешканець'), ('будинку', 'будинок'), ('.', '.')]\n",
      "\n"
     ]
    }
   ],
   "source": [
    "for sentence in sentences:\n",
    "    print([(token.text, token.lemma) for token in sentence.words])\n",
    "#     print([token for token in sentence.words])\n",
    "    print()"
   ]
  },
  {
   "cell_type": "code",
   "execution_count": null,
   "metadata": {},
   "outputs": [],
   "source": []
  },
  {
   "cell_type": "code",
   "execution_count": null,
   "metadata": {},
   "outputs": [],
   "source": []
  },
  {
   "cell_type": "code",
   "execution_count": null,
   "metadata": {},
   "outputs": [],
   "source": []
  },
  {
   "cell_type": "code",
   "execution_count": null,
   "metadata": {},
   "outputs": [],
   "source": []
  },
  {
   "cell_type": "code",
   "execution_count": null,
   "metadata": {},
   "outputs": [],
   "source": []
  },
  {
   "cell_type": "code",
   "execution_count": 90,
   "metadata": {},
   "outputs": [
    {
     "name": "stdout",
     "output_type": "stream",
     "text": [
      "565 Відсутнє електропостачання\n",
      "553 Ремонт та заміна електроприладів\n",
      "514 Перебої електропостачання\n"
     ]
    }
   ],
   "source": [
    "for k, v in res.items():\n",
    "    if \"електро\" in k.lower():\n",
    "        print(v, k)"
   ]
  },
  {
   "cell_type": "code",
   "execution_count": 91,
   "metadata": {},
   "outputs": [
    {
     "name": "stdout",
     "output_type": "stream",
     "text": [
      "616 Паркування авто у місцях загального користування\n",
      "359 Паркування авто на прибудинковій території\n",
      "218 Розміщення паркувальних майданчиків\n",
      "190 Зберігання транспортних засобів, порушення правил паркування\n",
      "105 Паркування на зеленій зоні у місцях загального користування\n"
     ]
    }
   ],
   "source": [
    "for k, v in res.items():\n",
    "    if \"паркув\" in k.lower():\n",
    "        print(v, k)"
   ]
  },
  {
   "cell_type": "code",
   "execution_count": 92,
   "metadata": {},
   "outputs": [
    {
     "name": "stdout",
     "output_type": "stream",
     "text": [
      "6020 Відсутність опалення\n",
      "2049 Відсутність опалення по стояку\n",
      "1341 Незадовільна температура опалення\n",
      "709 Встановлення лічильників на опалення.\n",
      "256 Питання, що стосуються завершення опалювального сезону\n",
      "212 Перерахунок плати за відсутність опалення\n",
      "160 Опалення на сходових клітинах\n",
      "154 Питання, що виникають до початку опалювального сезону\n"
     ]
    }
   ],
   "source": [
    "for k, v in res.items():\n",
    "    if \"опал\" in k.lower():\n",
    "        print(v, k)"
   ]
  },
  {
   "cell_type": "code",
   "execution_count": 93,
   "metadata": {},
   "outputs": [
    {
     "name": "stdout",
     "output_type": "stream",
     "text": [
      "13273 Відсутність ГВП\n",
      "2304 Незадовільна температура ГВП\n",
      "303 Недостатній тиск ГВП\n",
      "288 Незадовільна робота рушникосушарок від ГВП\n",
      "226 Перерахунок плати за відсутність ГВП\n",
      "163 Перерахунок плати за незадовільну температуру ГВП\n",
      "114 Відсутність ГВП по стояку\n"
     ]
    }
   ],
   "source": [
    "for k, v in res.items():\n",
    "    if \"гвп\" in k.lower():\n",
    "        print(v, k)"
   ]
  },
  {
   "cell_type": "code",
   "execution_count": 94,
   "metadata": {},
   "outputs": [
    {
     "name": "stdout",
     "output_type": "stream",
     "text": [
      "1562 Відсутнє ХВП\n",
      "349 Відсутній тиск ХВП з 10-го поверху включно (”Київенерго”)\n",
      "233 Відсутній тиск ХВП до 9-го поверху включно (”Київводоканал” )\n",
      "194 Неякісне ХВП\n"
     ]
    }
   ],
   "source": [
    "for k, v in res.items():\n",
    "    if \"хвп\" in k.lower():\n",
    "        print(v, k)"
   ]
  },
  {
   "cell_type": "code",
   "execution_count": null,
   "metadata": {},
   "outputs": [],
   "source": []
  },
  {
   "cell_type": "code",
   "execution_count": null,
   "metadata": {},
   "outputs": [],
   "source": []
  },
  {
   "cell_type": "code",
   "execution_count": null,
   "metadata": {},
   "outputs": [],
   "source": []
  },
  {
   "cell_type": "code",
   "execution_count": null,
   "metadata": {},
   "outputs": [],
   "source": []
  },
  {
   "cell_type": "code",
   "execution_count": null,
   "metadata": {},
   "outputs": [],
   "source": []
  },
  {
   "cell_type": "code",
   "execution_count": null,
   "metadata": {},
   "outputs": [],
   "source": []
  }
 ],
 "metadata": {
  "kernelspec": {
   "display_name": "Python [conda env:p36] *",
   "language": "python",
   "name": "conda-env-p36-py"
  },
  "language_info": {
   "codemirror_mode": {
    "name": "ipython",
    "version": 3
   },
   "file_extension": ".py",
   "mimetype": "text/x-python",
   "name": "python",
   "nbconvert_exporter": "python",
   "pygments_lexer": "ipython3",
   "version": "3.6.10"
  }
 },
 "nbformat": 4,
 "nbformat_minor": 2
}
