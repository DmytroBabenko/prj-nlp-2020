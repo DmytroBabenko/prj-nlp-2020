{
 "cells": [
  {
   "cell_type": "code",
   "execution_count": 1,
   "metadata": {},
   "outputs": [],
   "source": [
    "import os\n",
    "\n",
    "import matplotlib.pyplot as plt\n",
    "from IPython.display import display, Markdown, Image"
   ]
  },
  {
   "cell_type": "code",
   "execution_count": 2,
   "metadata": {},
   "outputs": [],
   "source": [
    "%matplotlib inline"
   ]
  },
  {
   "cell_type": "code",
   "execution_count": 3,
   "metadata": {},
   "outputs": [],
   "source": [
    "REPO_PATH = os.path.dirname(os.path.dirname(os.path.dirname(os.getcwd())))\n",
    "TASK_PATH = os.path.join(REPO_PATH, \"tasks\", \"11-nn.md\")\n",
    "DATA_PATH = '/home/dima/Projects/UD_Ukrainian-IU'"
   ]
  },
  {
   "cell_type": "code",
   "execution_count": 4,
   "metadata": {},
   "outputs": [],
   "source": [
    "def show_markdown(path):\n",
    "    with open(path, 'r') as fh:\n",
    "        content = fh.read()\n",
    "    display(Markdown(content))"
   ]
  },
  {
   "cell_type": "code",
   "execution_count": 5,
   "metadata": {},
   "outputs": [
    {
     "data": {
      "text/markdown": [
       "# I. Нейромережі\n",
       "\n",
       "У цьому завданні вам треба спробувати покращити з використанням нейромереж одну з двох ваших попередніх робіт:\n",
       "\n",
       "1. Доробити парсер залежностей\n",
       "2. Доробити класифікатор звернень до служби 1551\n",
       "\n",
       "## Парсер залежностей\n",
       "\n",
       "На основі FNN створіть класифікатор типу залежності. Для цього використайте:\n",
       "- [UD-корпус для української мови](https://github.com/UniversalDependencies/UD_Ukrainian-IU/)\n",
       "- парсер, який ви розробили в завданні 8 (або, якщо вам не вдалося реалізувати свій парсер, то можна взяти за основу [код із практичного заняття](../lectures/08-dep-parser-uk.ipynb))\n",
       "- [векторні представлення слів для української мови](http://lang.org.ua/en/models/#anchor4)\n",
       "\n",
       "Також переробіть свій парсер так, щоб замість використання ознак, визначених вручну, він покладався для вибору наступного переходу на передбачення LSTM-нейромережі, яка на вхід отримує поточні слова з тегами зі стеку та буферу (по 3 слова). Опис подібної мережі можна побачити у [цій статті](https://arxiv.org/pdf/1708.08959.pdf).\n",
       "\n",
       "Обрахуйте якість класифікації та LAS для вашого парсера.\n",
       "\n",
       "## Класифікатор звернень до служби 1551\n",
       "\n",
       "Переробіть класифікатор звернень, який ви розробляли у завданні 10, так, щоб він використовував FNN на векторі документу та LSTM на векторах окремих слів. Порівняйте результати.\n",
       "\n",
       "# II. Курсовий проєкт\n",
       "\n",
       "Для свого курсового проєкту побудуйте рішення (чи кілька рішень), що перевершують по якості ваше базове рішення. Якість міряйте розробленими раніше метриками.\n",
       "Код для курсового проєкту повинен бути у вашому репозиторії. У директорії `students/` в теці з вашим іменем збережіть файл з посиланням на код вашого рішення. Опишіть ваші результати.\n",
       "\n",
       "# Оцінка\n",
       "\n",
       "I. За виконання одного з завдань ви можете отримати 80 балів. Якщо бажаєте, то можете виконати обидва і отримати 120 балів :)\n",
       "\n",
       "II. За покращене рішення з курсового проєкту ви можете отримати 20 балів.\n"
      ],
      "text/plain": [
       "<IPython.core.display.Markdown object>"
      ]
     },
     "metadata": {},
     "output_type": "display_data"
    }
   ],
   "source": [
    "show_markdown(TASK_PATH)"
   ]
  },
  {
   "cell_type": "markdown",
   "metadata": {},
   "source": [
    "## Dependancy parser"
   ]
  },
  {
   "cell_type": "code",
   "execution_count": 6,
   "metadata": {},
   "outputs": [],
   "source": [
    "from collections import OrderedDict\n",
    "from conllu import parse\n",
    "from enum import Enum"
   ]
  },
  {
   "cell_type": "code",
   "execution_count": 7,
   "metadata": {},
   "outputs": [
    {
     "name": "stdout",
     "output_type": "stream",
     "text": [
      "CPU times: user 3.18 s, sys: 127 ms, total: 3.31 s\n",
      "Wall time: 3.31 s\n"
     ]
    }
   ],
   "source": [
    "%%time\n",
    "\n",
    "with open(os.path.join(DATA_PATH, \"uk_iu-ud-train.conllu\"), \"r\") as f:\n",
    "    train_trees = parse(f.read())\n",
    "\n",
    "with open(os.path.join(DATA_PATH, \"uk_iu-ud-dev.conllu\"), \"r\") as f:\n",
    "    test_trees = parse(f.read())"
   ]
  },
  {
   "cell_type": "code",
   "execution_count": 8,
   "metadata": {},
   "outputs": [
    {
     "name": "stdout",
     "output_type": "stream",
     "text": [
      "5496 672\n"
     ]
    }
   ],
   "source": [
    "print(len(train_trees), len(test_trees))"
   ]
  },
  {
   "cell_type": "code",
   "execution_count": 9,
   "metadata": {},
   "outputs": [],
   "source": [
    "def print_tree(tree):\n",
    "    for node in tree:\n",
    "        head = node[\"head\"]\n",
    "        print(\"{} <-- {}\".format(node[\"form\"],\n",
    "                             tree[head - 1][\"form\"]\n",
    "                             if head > 0 else \"root\"))\n",
    "\n",
    "def check_tree(tree):\n",
    "    for n in tree:\n",
    "        if not isinstance(n[\"id\"], int):\n",
    "            return True\n",
    "    return False"
   ]
  },
  {
   "cell_type": "code",
   "execution_count": 10,
   "metadata": {},
   "outputs": [
    {
     "name": "stdout",
     "output_type": "stream",
     "text": [
      "У <-- домі\n",
      "домі <-- була\n",
      "римського <-- патриція\n",
      "патриція <-- домі\n",
      "Руфіна <-- патриція\n",
      "була <-- root\n",
      "прегарна <-- фреска\n",
      "фреска <-- була\n",
      ", <-- зображення\n",
      "зображення <-- фреска\n",
      "Венери <-- зображення\n",
      "та <-- Адоніса\n",
      "Адоніса <-- Венери\n",
      ". <-- була\n"
     ]
    }
   ],
   "source": [
    "tree = train_trees[0]\n",
    "print_tree(tree)"
   ]
  },
  {
   "cell_type": "code",
   "execution_count": 11,
   "metadata": {},
   "outputs": [
    {
     "name": "stdout",
     "output_type": "stream",
     "text": [
      "Bad trees: \n",
      "Train: 197\n",
      "Test: 16\n"
     ]
    }
   ],
   "source": [
    "print(\"Bad trees: \" )\n",
    "print(\"Train:\", len(list(filter(check_tree, train_trees))))\n",
    "print(\"Test:\", len(list(filter(check_tree, test_trees))))"
   ]
  },
  {
   "cell_type": "code",
   "execution_count": 12,
   "metadata": {},
   "outputs": [
    {
     "name": "stdout",
     "output_type": "stream",
     "text": [
      "5299 656\n"
     ]
    }
   ],
   "source": [
    "clean_train_trees = list(filter(lambda t: not check_tree(t), train_trees))\n",
    "clean_test_trees = list(filter(lambda t: not check_tree(t), test_trees))\n",
    "\n",
    "print(len(clean_train_trees), len(clean_test_trees))"
   ]
  },
  {
   "cell_type": "code",
   "execution_count": 13,
   "metadata": {},
   "outputs": [],
   "source": [
    "def intersects(n1, n2):\n",
    "    s1 = n1['id'] if n1['head'] > n1['id'] else n1['head']\n",
    "    e1 = n1['head'] if n1['head'] > n1['id'] else n1['id']\n",
    "    s2 = n2['id'] if n2['head'] > n2['id'] else n2['head']\n",
    "    e2 = n2['head'] if n2['head'] > n2['id'] else n2['id']\n",
    "    \n",
    "    return (s1 < s2 and e1 > s2 and e2 > e1) or (s2 < s1 and e2 > s1 and e1 > e2)\n",
    "\n",
    "def non_projective(tree):\n",
    "    for n1 in tree:\n",
    "        for n2 in tree:\n",
    "            if n1['id'] < n2['id'] and intersects(n1, n2):\n",
    "                return True\n",
    "            \n",
    "    return False"
   ]
  },
  {
   "cell_type": "code",
   "execution_count": 14,
   "metadata": {},
   "outputs": [
    {
     "name": "stdout",
     "output_type": "stream",
     "text": [
      "414 57\n"
     ]
    }
   ],
   "source": [
    "non_projective_train_trees = list(filter(non_projective, clean_train_trees))\n",
    "non_projective_test_trees = list(filter(non_projective, clean_test_trees))\n",
    "\n",
    "print(len(non_projective_train_trees), len(non_projective_test_trees))"
   ]
  },
  {
   "cell_type": "code",
   "execution_count": 15,
   "metadata": {},
   "outputs": [
    {
     "name": "stdout",
     "output_type": "stream",
     "text": [
      "Звісно <-- було\n",
      "не <-- було\n",
      "було <-- root\n",
      "жодного <-- способу\n",
      "способу <-- було\n",
      "дізнатись <-- способу\n",
      "чи <-- спостерігають\n",
      "спостерігають <-- дізнатись\n",
      "за <-- вами\n",
      "вами <-- спостерігають\n",
      "саме <-- цей\n",
      "у <-- проміжок\n",
      "цей <-- проміжок\n",
      "проміжок <-- спостерігають\n",
      "часу <-- проміжок\n",
      ". <-- було\n"
     ]
    }
   ],
   "source": [
    "np_tree = non_projective_train_trees[21]\n",
    "print_tree(np_tree)"
   ]
  },
  {
   "cell_type": "code",
   "execution_count": 16,
   "metadata": {},
   "outputs": [
    {
     "name": "stdout",
     "output_type": "stream",
     "text": [
      "4885 599\n"
     ]
    }
   ],
   "source": [
    "projective_train_trees = list(filter(lambda t: not non_projective(t), clean_train_trees))\n",
    "projective_test_trees = list(filter(lambda t: not non_projective(t), clean_test_trees))\n",
    "\n",
    "print(len(projective_train_trees), len(projective_test_trees))"
   ]
  },
  {
   "cell_type": "markdown",
   "metadata": {},
   "source": [
    "### Design actions and the oracle"
   ]
  },
  {
   "cell_type": "code",
   "execution_count": 17,
   "metadata": {},
   "outputs": [],
   "source": [
    "class Actions(str, Enum):\n",
    "    SHIFT = \"shift\"\n",
    "    REDUCE = \"reduce\"\n",
    "    RIGHT = \"right\"\n",
    "    LEFT = \"left\""
   ]
  },
  {
   "cell_type": "code",
   "execution_count": 18,
   "metadata": {},
   "outputs": [],
   "source": [
    "def oracle(stack, top_queue, relations):\n",
    "    \"\"\"\n",
    "    Make a decision on the right action to do.\n",
    "    \"\"\"\n",
    "    top_stack = stack[-1]\n",
    "    # check if both stack and queue are non-empty\n",
    "    if top_stack and not top_queue:\n",
    "        return Actions.REDUCE\n",
    "    # check if there are any clear dependencies\n",
    "    elif top_queue[\"head\"] == top_stack[\"id\"]:\n",
    "        return Actions.RIGHT\n",
    "    elif top_stack[\"head\"] == top_queue[\"id\"]:\n",
    "        return Actions.LEFT\n",
    "    # check if we can reduce the top of the stack\n",
    "    elif top_stack[\"id\"] in [i[0] for i in relations] and \\\n",
    "         (top_queue[\"head\"] < top_stack[\"id\"] or \\\n",
    "          [s for s in stack if s[\"head\"] == top_queue[\"id\"]]):\n",
    "        return Actions.REDUCE\n",
    "    # default option\n",
    "    else:\n",
    "        return Actions.SHIFT"
   ]
  },
  {
   "cell_type": "code",
   "execution_count": 19,
   "metadata": {},
   "outputs": [],
   "source": [
    "ROOT = OrderedDict([('id', 0), ('form', 'ROOT'), ('lemma', 'ROOT'), ('upostag', 'ROOT'),\n",
    "                    ('xpostag', None), ('feats', None), ('head', None), ('deprel', None),\n",
    "                    ('deps', None), ('misc', None)])\n",
    "\n",
    "def trace_actions(tree, log=True):\n",
    "    \"\"\"\n",
    "    Try out the oracle to verify it's returning the right actions.\n",
    "    \"\"\"\n",
    "    stack, queue, relations = [ROOT], tree[:], []\n",
    "    while queue or stack:\n",
    "        action = oracle(stack if len(stack) > 0 else None,\n",
    "                        queue[0] if len(queue) > 0 else None,\n",
    "                        relations)\n",
    "        if log:\n",
    "            print(\"Stack:\", [i[\"form\"]+\"_\"+str(i[\"id\"]) for i in stack])\n",
    "            print(\"Queue:\", [i[\"form\"]+\"_\"+str(i[\"id\"]) for i in queue])\n",
    "            print(\"Relations:\", relations)\n",
    "            print(action)\n",
    "            print(\"========================\")\n",
    "        if action == Actions.SHIFT:\n",
    "            stack.append(queue.pop(0))\n",
    "        elif action == Actions.LEFT:\n",
    "            relations.append((stack[-1][\"id\"], queue[0][\"id\"]))\n",
    "            stack.pop()\n",
    "        elif action == Actions.RIGHT:\n",
    "            relations.append((queue[0][\"id\"], stack[-1][\"id\"]))\n",
    "            stack.append(queue.pop(0))\n",
    "        elif action == Actions.REDUCE:\n",
    "            stack.pop()           \n",
    "        else:\n",
    "            print(\"Unknown action.\")\n",
    "    if log:\n",
    "        print(\"Gold relations:\")\n",
    "        print([(node[\"id\"], node[\"head\"]) for node in tree])\n",
    "        print(\"Retrieved relations:\")\n",
    "        print(sorted(relations))"
   ]
  },
  {
   "cell_type": "markdown",
   "metadata": {},
   "source": [
    "#### show prohectiva and non-projective trees result"
   ]
  },
  {
   "cell_type": "code",
   "execution_count": 20,
   "metadata": {},
   "outputs": [],
   "source": [
    "# trace_actions(tree)"
   ]
  },
  {
   "cell_type": "code",
   "execution_count": 21,
   "metadata": {},
   "outputs": [],
   "source": [
    "# trace_actions(np_tree)"
   ]
  },
  {
   "cell_type": "markdown",
   "metadata": {},
   "source": [
    "### Feature extraction"
   ]
  },
  {
   "cell_type": "code",
   "execution_count": 22,
   "metadata": {},
   "outputs": [],
   "source": [
    "import pandas as pd"
   ]
  },
  {
   "cell_type": "code",
   "execution_count": 23,
   "metadata": {},
   "outputs": [],
   "source": [
    "def extract_features(stack, queue, relations=None):\n",
    "    \n",
    "    features = dict()\n",
    "    \n",
    "    if len(stack) > 1:        \n",
    "        features[\"s0-word\"] = stack[-2][\"form\"]\n",
    "        features[\"s0-lemma\"] = stack[-2][\"lemma\"]\n",
    "        features[\"s0-tag\"] = stack[-2][\"upostag\"]\n",
    "#         features[\"s0-rchildren-num\"] = len([r for r in relations if r[1] == stack[-2]['id']])\n",
    "#         features[\"s0-lchildren-num\"] = len([r for r in relations if r[0] == stack[-2]['id']])\n",
    "        if stack[-2][\"feats\"]:\n",
    "            for k, v in stack[-2][\"feats\"].items():\n",
    "                features[\"s0-\" + k] = v\n",
    "    \n",
    "    if len(stack) > 2:\n",
    "        features[\"s1-word\"] = stack[-3][\"form\"]\n",
    "        features[\"s1-tag\"] = stack[-3][\"upostag\"]\n",
    "    \n",
    "    if len(stack) > 3:\n",
    "        features[\"s2-tag\"] = stack[-4][\"upostag\"]\n",
    "        \n",
    "    if len(stack) > 4:\n",
    "        features[\"s3-tag\"] = stack[-5][\"upostag\"]\n",
    "    \n",
    "    if len(stack) > 1:\n",
    "        queue_top = stack[-1]\n",
    "        features[\"q0-word\"] = stack[-1][\"form\"]\n",
    "        features[\"q0-lemma\"] = stack[-1][\"lemma\"]\n",
    "        features[\"q0-tag\"] = stack[-1][\"upostag\"]\n",
    "#         features[\"q0-rchildren-num\"] = len([r for r in relations if r[1] == stack[-1]['id']])\n",
    "#         features[\"q0-lchildren-num\"] = len([r for r in relations if r[0] == stack[-1]['id']])\n",
    "        if stack[-1][\"feats\"]:\n",
    "            for k, v in stack[-1][\"feats\"].items():\n",
    "                features[\"q0-\" + k] = v\n",
    "    \n",
    "    if len(queue) > 0:        \n",
    "        features[\"q1-word\"] = queue[0][\"form\"]\n",
    "        features[\"q1-tag\"] = queue[0][\"upostag\"]\n",
    "    \n",
    "    if len(queue) > 1:\n",
    "        features[\"q2-tag\"] = queue[1][\"upostag\"]\n",
    "    \n",
    "    if len(queue) > 2:\n",
    "        features[\"q3-tag\"] = queue[2][\"upostag\"]\n",
    "       \n",
    "    if len(stack) > 1:\n",
    "        features[\"distance\"] = stack[-1][\"id\"] - stack[-2][\"id\"]\n",
    "    \n",
    "    features['q-empty'] = not bool(queue)    \n",
    "    \n",
    "    return features\n",
    "\n",
    "\n",
    "def extract_features_v2(stack, queue):\n",
    "    features = dict()\n",
    "    if len(stack) > 0:\n",
    "        features[\"s0-word\"] = stack[-1][\"form\"]\n",
    "        features[\"s0-lemma\"] = stack[-1][\"lemma\"]\n",
    "        features[\"s0-tag\"] = stack[-1][\"upostag\"]\n",
    "    if len(stack) > 1:\n",
    "        features[\"s1-tag\"] = stack[-2][\"upostag\"]\n",
    "    if queue:\n",
    "        queue_top = queue[0]\n",
    "        features[\"q0-word\"] = queue[0][\"form\"]\n",
    "        features[\"q0-lemma\"] = queue[0][\"lemma\"]\n",
    "        features[\"q0-tag\"] = queue[0][\"upostag\"]\n",
    "    if len(queue) > 1:\n",
    "        queue_next = queue[1]\n",
    "        features[\"q1-word\"] = queue[1][\"form\"]\n",
    "        features[\"q1-tag\"] = queue[1][\"upostag\"]\n",
    "    if len(queue) > 2:\n",
    "        features[\"q2-tag\"] = queue[2][\"upostag\"]\n",
    "    if len(queue) > 3:\n",
    "        features[\"q3-tag\"] = queue[3][\"upostag\"]\n",
    "    return features"
   ]
  },
  {
   "cell_type": "code",
   "execution_count": 24,
   "metadata": {},
   "outputs": [],
   "source": [
    "def extract_data(tree):\n",
    "    features, labels = [], []\n",
    "    stack, queue, relations = [ROOT], tree[:], []\n",
    "\n",
    "    while queue or stack:\n",
    "        action = oracle(stack if len(stack) > 0 else None,\n",
    "                        queue[0] if len(queue) > 0 else None,\n",
    "                        relations)\n",
    "        features.append(extract_features(stack, queue))\n",
    "        labels.append(action.value)\n",
    "        if action == Actions.SHIFT:\n",
    "            stack.append(queue.pop(0))\n",
    "        elif action == Actions.REDUCE:\n",
    "            stack.pop()\n",
    "        elif action == Actions.LEFT:\n",
    "            relations.append((stack[-1][\"id\"], queue[0][\"id\"]))\n",
    "            stack.pop()\n",
    "        elif action == Actions.RIGHT:\n",
    "            relations.append((queue[0][\"id\"], stack[-1][\"id\"]))\n",
    "            stack.append(queue.pop(0))\n",
    "        else:\n",
    "            print(\"Unknown action.\")\n",
    "    return features, labels"
   ]
  },
  {
   "cell_type": "markdown",
   "metadata": {},
   "source": [
    "#### train data"
   ]
  },
  {
   "cell_type": "code",
   "execution_count": 25,
   "metadata": {},
   "outputs": [],
   "source": [
    "train_features, train_labels = [], []\n",
    "for tree in train_trees:\n",
    "    tree_features, tree_labels = extract_data([t for t in tree if type(t[\"id\"])==int])\n",
    "    train_features += tree_features\n",
    "    train_labels += tree_labels"
   ]
  },
  {
   "cell_type": "code",
   "execution_count": 26,
   "metadata": {},
   "outputs": [],
   "source": [
    "train_df = pd.DataFrame(train_features)\n",
    "train_df['target'] = train_labels"
   ]
  },
  {
   "cell_type": "code",
   "execution_count": 27,
   "metadata": {},
   "outputs": [
    {
     "name": "stdout",
     "output_type": "stream",
     "text": [
      "(190298, 69)\n"
     ]
    }
   ],
   "source": [
    "print(train_df.shape)"
   ]
  },
  {
   "cell_type": "markdown",
   "metadata": {},
   "source": [
    "#### test data"
   ]
  },
  {
   "cell_type": "code",
   "execution_count": 28,
   "metadata": {},
   "outputs": [],
   "source": [
    "test_features, test_labels = [], []\n",
    "for tree in test_trees:\n",
    "    tree_features, tree_labels = extract_data([t for t in tree if type(t[\"id\"])==int])\n",
    "    test_features += tree_features\n",
    "    test_labels += tree_labels"
   ]
  },
  {
   "cell_type": "code",
   "execution_count": 29,
   "metadata": {},
   "outputs": [],
   "source": [
    "test_df = pd.DataFrame(test_features)\n",
    "test_df['target'] = test_labels"
   ]
  },
  {
   "cell_type": "code",
   "execution_count": 30,
   "metadata": {},
   "outputs": [
    {
     "name": "stdout",
     "output_type": "stream",
     "text": [
      "(25820, 68)\n"
     ]
    }
   ],
   "source": [
    "print(test_df.shape)"
   ]
  },
  {
   "cell_type": "markdown",
   "metadata": {},
   "source": [
    "### Train clasifier"
   ]
  },
  {
   "cell_type": "code",
   "execution_count": 31,
   "metadata": {},
   "outputs": [],
   "source": [
    "RANDOM_STATE = 0\n",
    "N_COMP = 500"
   ]
  },
  {
   "cell_type": "code",
   "execution_count": 32,
   "metadata": {},
   "outputs": [],
   "source": [
    "import pandas as pd\n",
    "import numpy as np\n",
    "\n",
    "from sklearn.feature_extraction import DictVectorizer\n",
    "from sklearn.decomposition import TruncatedSVD\n",
    "from sklearn.pipeline import Pipeline\n",
    "from sklearn.preprocessing import LabelEncoder\n",
    "from sklearn.metrics import *"
   ]
  },
  {
   "cell_type": "markdown",
   "metadata": {},
   "source": [
    "#### Logistic regression"
   ]
  },
  {
   "cell_type": "code",
   "execution_count": 33,
   "metadata": {},
   "outputs": [],
   "source": [
    "from sklearn.linear_model import LogisticRegression"
   ]
  },
  {
   "cell_type": "code",
   "execution_count": 34,
   "metadata": {},
   "outputs": [
    {
     "name": "stdout",
     "output_type": "stream",
     "text": [
      "\n",
      "Total number of features:  115611\n"
     ]
    }
   ],
   "source": [
    "vectorizer = DictVectorizer()\n",
    "vec = vectorizer.fit(train_features)\n",
    "\n",
    "print(\"\\nTotal number of features: \", len(vec.get_feature_names()))"
   ]
  },
  {
   "cell_type": "code",
   "execution_count": 35,
   "metadata": {},
   "outputs": [],
   "source": [
    "train_features_vectorized = vec.transform(train_features)\n",
    "test_features_vectorized = vec.transform(test_features)"
   ]
  },
  {
   "cell_type": "code",
   "execution_count": 36,
   "metadata": {},
   "outputs": [],
   "source": [
    "lr_clf = LogisticRegression(C=2, solver=\"sag\", multi_class=\"multinomial\", max_iter=1000, \n",
    "                            verbose=1, random_state=RANDOM_STATE)"
   ]
  },
  {
   "cell_type": "code",
   "execution_count": 37,
   "metadata": {},
   "outputs": [],
   "source": [
    "lr_pipe = Pipeline([('vec', vec), ('lr_clf', lr_clf)])"
   ]
  },
  {
   "cell_type": "code",
   "execution_count": 38,
   "metadata": {},
   "outputs": [
    {
     "name": "stderr",
     "output_type": "stream",
     "text": [
      "[Parallel(n_jobs=1)]: Using backend SequentialBackend with 1 concurrent workers.\n"
     ]
    },
    {
     "name": "stdout",
     "output_type": "stream",
     "text": [
      "max_iter reached after 162 seconds\n"
     ]
    },
    {
     "name": "stderr",
     "output_type": "stream",
     "text": [
      "/home/dima/anaconda3/envs/p36tf20/lib/python3.6/site-packages/sklearn/linear_model/_sag.py:330: ConvergenceWarning: The max_iter was reached which means the coef_ did not converge\n",
      "  \"the coef_ did not converge\", ConvergenceWarning)\n",
      "[Parallel(n_jobs=1)]: Done   1 out of   1 | elapsed:  2.7min finished\n"
     ]
    },
    {
     "data": {
      "text/plain": [
       "Pipeline(memory=None,\n",
       "         steps=[('vec',\n",
       "                 DictVectorizer(dtype=<class 'numpy.float64'>, separator='=',\n",
       "                                sort=True, sparse=True)),\n",
       "                ('lr_clf',\n",
       "                 LogisticRegression(C=2, class_weight=None, dual=False,\n",
       "                                    fit_intercept=True, intercept_scaling=1,\n",
       "                                    l1_ratio=None, max_iter=1000,\n",
       "                                    multi_class='multinomial', n_jobs=None,\n",
       "                                    penalty='l2', random_state=0, solver='sag',\n",
       "                                    tol=0.0001, verbose=1, warm_start=False))],\n",
       "         verbose=False)"
      ]
     },
     "execution_count": 38,
     "metadata": {},
     "output_type": "execute_result"
    }
   ],
   "source": [
    "# lr_clf.fit(train_features_vectorized, train_labels)\n",
    "lr_pipe.fit(train_features, train_labels)"
   ]
  },
  {
   "cell_type": "code",
   "execution_count": 39,
   "metadata": {},
   "outputs": [
    {
     "name": "stdout",
     "output_type": "stream",
     "text": [
      "              precision    recall  f1-score   support\n",
      "\n",
      "        left       0.88      0.90      0.89      6371\n",
      "      reduce       0.86      0.81      0.83      6875\n",
      "       right       0.77      0.80      0.79      5996\n",
      "       shift       0.85      0.87      0.86      6578\n",
      "\n",
      "    accuracy                           0.84     25820\n",
      "   macro avg       0.84      0.84      0.84     25820\n",
      "weighted avg       0.84      0.84      0.84     25820\n",
      "\n"
     ]
    }
   ],
   "source": [
    "# predicted = lr_clf.predict(test_features_vectorized)\n",
    "predicted = lr_pipe.predict(test_features)\n",
    "print(classification_report(test_labels, predicted))"
   ]
  },
  {
   "cell_type": "markdown",
   "metadata": {},
   "source": [
    "### Neural networks"
   ]
  },
  {
   "cell_type": "code",
   "execution_count": 40,
   "metadata": {},
   "outputs": [
    {
     "name": "stderr",
     "output_type": "stream",
     "text": [
      "Using TensorFlow backend.\n"
     ]
    }
   ],
   "source": [
    "import tensorflow as tf\n",
    "import keras as ks\n",
    "from gensim.models.keyedvectors import KeyedVectors"
   ]
  },
  {
   "cell_type": "code",
   "execution_count": 41,
   "metadata": {},
   "outputs": [],
   "source": [
    "def extract_features_nn(stack, queue):\n",
    "    \n",
    "    features = {\n",
    "        \"s0-form\": None,\n",
    "        \"s0-tag\": None,\n",
    "        \"s1-form\": None,\n",
    "        \"s1-tag\": None,\n",
    "        \"s2-form\": None,\n",
    "        \"s2-tag\": None,\n",
    "        \"q0-form\": None,\n",
    "        \"q0-tag\": None,\n",
    "        \"q1-form\": None,\n",
    "        \"q1-tag\": None,\n",
    "        \"q2-form\": None,\n",
    "        \"q2-tag\": None\n",
    "    }\n",
    "    \n",
    "    if len(stack) > 1:        \n",
    "        features[\"s0-form\"] = stack[-2][\"form\"]\n",
    "        features[\"s0-tag\"] = stack[-2][\"upostag\"]\n",
    "    \n",
    "    if len(stack) > 2:\n",
    "        features[\"s1-form\"] = stack[-3][\"form\"]\n",
    "        features[\"s1-tag\"] = stack[-3][\"upostag\"]\n",
    "    \n",
    "    if len(stack) > 3:\n",
    "        features[\"s2-form\"] = stack[-4][\"form\"]\n",
    "        features[\"s2-tag\"] = stack[-4][\"upostag\"]\n",
    "    \n",
    "    if len(stack) > 1:\n",
    "        queue_top = stack[-1]\n",
    "        features[\"q0-form\"] = stack[-1][\"form\"]\n",
    "        features[\"q0-tag\"] = stack[-1][\"upostag\"]\n",
    "    \n",
    "    if len(queue) > 0:        \n",
    "        features[\"q1-form\"] = queue[0][\"form\"]\n",
    "        features[\"q1-tag\"] = queue[0][\"upostag\"]\n",
    "    \n",
    "    if len(queue) > 1:\n",
    "        features[\"q2-form\"] = queue[1][\"form\"]\n",
    "        features[\"q2-tag\"] = queue[1][\"upostag\"]\n",
    "    \n",
    "    return features"
   ]
  },
  {
   "cell_type": "code",
   "execution_count": 42,
   "metadata": {},
   "outputs": [],
   "source": [
    "no_action_label = 'N/A'\n",
    "\n",
    "def extract_data_nn(tree):\n",
    "    features, labels_dep, labels_act = [], [], []\n",
    "    stack, queue, relations = [ROOT], tree[:], []\n",
    "\n",
    "    while queue or stack:\n",
    "        action = oracle(stack if len(stack) > 0 else None,\n",
    "                        queue[0] if len(queue) > 0 else None,\n",
    "                        relations)\n",
    "        features.append(extract_features_nn(stack, queue))\n",
    "        labels_act.append(action.value)\n",
    "        if action == Actions.SHIFT:\n",
    "            stack.append(queue.pop(0))\n",
    "            labels_dep.append(no_action_label)\n",
    "        elif action == Actions.REDUCE:\n",
    "            stack.pop()\n",
    "            labels_dep.append(no_action_label)\n",
    "        elif action == Actions.LEFT:\n",
    "            relations.append((stack[-1][\"id\"], queue[0][\"id\"]))\n",
    "#             features.append(extract_features_nn(stack, queue))\n",
    "            labels_dep.append(stack[-1][\"deprel\"])\n",
    "#             labels_act.append('left')\n",
    "            stack.pop()\n",
    "        elif action == Actions.RIGHT:\n",
    "            relations.append((queue[0][\"id\"], stack[-1][\"id\"]))\n",
    "#             features.append(extract_features_nn(stack, queue))\n",
    "            labels_dep.append(queue[0][\"deprel\"])\n",
    "#             labels_act.append('right')\n",
    "            stack.append(queue.pop(0))\n",
    "        else:\n",
    "            print(\"Unknown action.\")\n",
    "    return features, labels_dep, labels_act"
   ]
  },
  {
   "cell_type": "code",
   "execution_count": 43,
   "metadata": {},
   "outputs": [],
   "source": [
    "w2v_model = KeyedVectors.load_word2vec_format(\"ubercorpus.lowercased.tokenized.word2vec.300d\")"
   ]
  },
  {
   "cell_type": "markdown",
   "metadata": {},
   "source": [
    "#### Generate features"
   ]
  },
  {
   "cell_type": "code",
   "execution_count": 44,
   "metadata": {},
   "outputs": [],
   "source": [
    "train_features, train_labels_dep, train_labels_act = [], [], []\n",
    "for tree in train_trees:\n",
    "    tree_features, tree_labels_dep, tree_labels_act = extract_data_nn([t for t in tree if type(t[\"id\"])==int])\n",
    "    train_features += tree_features\n",
    "    train_labels_dep += tree_labels_dep\n",
    "    train_labels_act += tree_labels_act"
   ]
  },
  {
   "cell_type": "code",
   "execution_count": 45,
   "metadata": {},
   "outputs": [],
   "source": [
    "test_features, test_labels_dep, test_labels_act = [], [], []\n",
    "for tree in test_trees:\n",
    "    tree_features, tree_labels_dep, tree_labels_act = extract_data_nn([t for t in tree if type(t[\"id\"])==int])\n",
    "    test_features += tree_features\n",
    "    test_labels_dep += tree_labels_dep\n",
    "    test_labels_act += tree_labels_act"
   ]
  },
  {
   "cell_type": "code",
   "execution_count": 46,
   "metadata": {},
   "outputs": [],
   "source": [
    "def dict2df(feat_dict, labels_dep=None, labels_act=None):\n",
    "    df = pd.DataFrame(feat_dict)\n",
    "    df.columns = sorted(df.columns)\n",
    "    if labels_dep:\n",
    "        df['deprel'] = labels_dep\n",
    "    if labels_act:\n",
    "        df['action'] = labels_act\n",
    "    return df"
   ]
  },
  {
   "cell_type": "code",
   "execution_count": 47,
   "metadata": {},
   "outputs": [],
   "source": [
    "train_df = dict2df(train_features, train_labels_dep, train_labels_act)\n",
    "test_df = dict2df(test_features, test_labels_dep, test_labels_act)"
   ]
  },
  {
   "cell_type": "code",
   "execution_count": 48,
   "metadata": {},
   "outputs": [
    {
     "data": {
      "text/html": [
       "<div>\n",
       "<style scoped>\n",
       "    .dataframe tbody tr th:only-of-type {\n",
       "        vertical-align: middle;\n",
       "    }\n",
       "\n",
       "    .dataframe tbody tr th {\n",
       "        vertical-align: top;\n",
       "    }\n",
       "\n",
       "    .dataframe thead th {\n",
       "        text-align: right;\n",
       "    }\n",
       "</style>\n",
       "<table border=\"1\" class=\"dataframe\">\n",
       "  <thead>\n",
       "    <tr style=\"text-align: right;\">\n",
       "      <th></th>\n",
       "      <th>q0-form</th>\n",
       "      <th>q0-tag</th>\n",
       "      <th>q1-form</th>\n",
       "      <th>q1-tag</th>\n",
       "      <th>q2-form</th>\n",
       "      <th>q2-tag</th>\n",
       "      <th>s0-form</th>\n",
       "      <th>s0-tag</th>\n",
       "      <th>s1-form</th>\n",
       "      <th>s1-tag</th>\n",
       "      <th>s2-form</th>\n",
       "      <th>s2-tag</th>\n",
       "      <th>deprel</th>\n",
       "      <th>action</th>\n",
       "    </tr>\n",
       "  </thead>\n",
       "  <tbody>\n",
       "    <tr>\n",
       "      <th>0</th>\n",
       "      <td>None</td>\n",
       "      <td>None</td>\n",
       "      <td>None</td>\n",
       "      <td>None</td>\n",
       "      <td>None</td>\n",
       "      <td>None</td>\n",
       "      <td>None</td>\n",
       "      <td>None</td>\n",
       "      <td>Дідусь</td>\n",
       "      <td>NOUN</td>\n",
       "      <td>,</td>\n",
       "      <td>PUNCT</td>\n",
       "      <td>N/A</td>\n",
       "      <td>shift</td>\n",
       "    </tr>\n",
       "    <tr>\n",
       "      <th>1</th>\n",
       "      <td>ROOT</td>\n",
       "      <td>ROOT</td>\n",
       "      <td>None</td>\n",
       "      <td>None</td>\n",
       "      <td>None</td>\n",
       "      <td>None</td>\n",
       "      <td>Дідусь</td>\n",
       "      <td>NOUN</td>\n",
       "      <td>,</td>\n",
       "      <td>PUNCT</td>\n",
       "      <td>той</td>\n",
       "      <td>DET</td>\n",
       "      <td>N/A</td>\n",
       "      <td>shift</td>\n",
       "    </tr>\n",
       "    <tr>\n",
       "      <th>2</th>\n",
       "      <td>Дідусь</td>\n",
       "      <td>NOUN</td>\n",
       "      <td>ROOT</td>\n",
       "      <td>ROOT</td>\n",
       "      <td>None</td>\n",
       "      <td>None</td>\n",
       "      <td>,</td>\n",
       "      <td>PUNCT</td>\n",
       "      <td>той</td>\n",
       "      <td>DET</td>\n",
       "      <td>що</td>\n",
       "      <td>SCONJ</td>\n",
       "      <td>punct</td>\n",
       "      <td>left</td>\n",
       "    </tr>\n",
       "    <tr>\n",
       "      <th>3</th>\n",
       "      <td>ROOT</td>\n",
       "      <td>ROOT</td>\n",
       "      <td>None</td>\n",
       "      <td>None</td>\n",
       "      <td>None</td>\n",
       "      <td>None</td>\n",
       "      <td>Дідусь</td>\n",
       "      <td>NOUN</td>\n",
       "      <td>той</td>\n",
       "      <td>DET</td>\n",
       "      <td>що</td>\n",
       "      <td>SCONJ</td>\n",
       "      <td>N/A</td>\n",
       "      <td>shift</td>\n",
       "    </tr>\n",
       "    <tr>\n",
       "      <th>4</th>\n",
       "      <td>Дідусь</td>\n",
       "      <td>NOUN</td>\n",
       "      <td>ROOT</td>\n",
       "      <td>ROOT</td>\n",
       "      <td>None</td>\n",
       "      <td>None</td>\n",
       "      <td>той</td>\n",
       "      <td>DET</td>\n",
       "      <td>що</td>\n",
       "      <td>SCONJ</td>\n",
       "      <td>атестував</td>\n",
       "      <td>VERB</td>\n",
       "      <td>N/A</td>\n",
       "      <td>shift</td>\n",
       "    </tr>\n",
       "  </tbody>\n",
       "</table>\n",
       "</div>"
      ],
      "text/plain": [
       "  q0-form q0-tag q1-form q1-tag q2-form q2-tag s0-form s0-tag s1-form s1-tag  \\\n",
       "0    None   None    None   None    None   None    None   None  Дідусь   NOUN   \n",
       "1    ROOT   ROOT    None   None    None   None  Дідусь   NOUN       ,  PUNCT   \n",
       "2  Дідусь   NOUN    ROOT   ROOT    None   None       ,  PUNCT     той    DET   \n",
       "3    ROOT   ROOT    None   None    None   None  Дідусь   NOUN     той    DET   \n",
       "4  Дідусь   NOUN    ROOT   ROOT    None   None     той    DET      що  SCONJ   \n",
       "\n",
       "     s2-form s2-tag deprel action  \n",
       "0          ,  PUNCT    N/A  shift  \n",
       "1        той    DET    N/A  shift  \n",
       "2         що  SCONJ  punct   left  \n",
       "3         що  SCONJ    N/A  shift  \n",
       "4  атестував   VERB    N/A  shift  "
      ]
     },
     "execution_count": 48,
     "metadata": {},
     "output_type": "execute_result"
    }
   ],
   "source": [
    "# train_df.head()\n",
    "test_df.head()"
   ]
  },
  {
   "cell_type": "code",
   "execution_count": 49,
   "metadata": {},
   "outputs": [
    {
     "data": {
      "text/plain": [
       "['q0-tag', 'q1-tag', 'q2-tag', 's0-tag', 's1-tag', 's2-tag']"
      ]
     },
     "execution_count": 49,
     "metadata": {},
     "output_type": "execute_result"
    }
   ],
   "source": [
    "pos_columns = sorted([item for item in train_df.columns if item.endswith('tag')])\n",
    "pos_columns"
   ]
  },
  {
   "cell_type": "code",
   "execution_count": 50,
   "metadata": {},
   "outputs": [
    {
     "data": {
      "text/plain": [
       "['q0-form', 'q1-form', 'q2-form', 's0-form', 's1-form', 's2-form']"
      ]
     },
     "execution_count": 50,
     "metadata": {},
     "output_type": "execute_result"
    }
   ],
   "source": [
    "form_columns = sorted([item for item in train_df.columns if item.endswith('form')])\n",
    "form_columns"
   ]
  },
  {
   "cell_type": "code",
   "execution_count": 51,
   "metadata": {},
   "outputs": [],
   "source": [
    "pos_tags = list(sorted(filter(lambda x: isinstance(x, str), set(np.hstack(train_df[pos_columns].values)))))\n",
    "pos_tags_mapping = dict(zip(pos_tags, range(1, len(pos_tags)+1)))\n",
    "# pos_tags_mapping"
   ]
  },
  {
   "cell_type": "code",
   "execution_count": 52,
   "metadata": {},
   "outputs": [],
   "source": [
    "deprel = train_df['deprel'].unique()\n",
    "deprel_mapping = dict(zip(deprel, range(len(deprel))))\n",
    "inverse_deprel_mapping = {v:k for k, v in deprel_mapping.items()}\n",
    "# deprel_mapping"
   ]
  },
  {
   "cell_type": "code",
   "execution_count": 53,
   "metadata": {},
   "outputs": [],
   "source": [
    "action = train_df['action'].unique()\n",
    "action_mapping = dict(zip(action, range(len(action))))\n",
    "inverse_action_mapping = {v:k for k, v in action_mapping.items()}"
   ]
  },
  {
   "cell_type": "code",
   "execution_count": 54,
   "metadata": {},
   "outputs": [],
   "source": [
    "def pos_ohe(x):\n",
    "    res = np.zeros((1, len(pos_tags_mapping)))\n",
    "    pos_idx = pos_tags_mapping.get(x)\n",
    "    if pos_idx:\n",
    "        res[:,pos_idx-1] = 1\n",
    "    return res\n",
    "    \n",
    "def word_embed(x):\n",
    "    if x in w2v_model.vocab:\n",
    "        return w2v_model.__getitem__([x])\n",
    "    else:\n",
    "        return np.zeros((1, 300))"
   ]
  },
  {
   "cell_type": "code",
   "execution_count": 55,
   "metadata": {},
   "outputs": [],
   "source": [
    "def make_nn_features(feats, labels_dep=None, labels_act=None):\n",
    "    df = dict2df(feats, labels_dep, labels_act)\n",
    "    \n",
    "    res = []\n",
    "    for col in form_columns:\n",
    "        res.append(np.vstack(df[col].fillna('').map(word_embed).values))\n",
    "    X_form = np.stack(res, axis=1)\n",
    "    \n",
    "    res = []\n",
    "    for col in pos_columns:\n",
    "        res.append(np.vstack(df[col].fillna('').map(pos_ohe).values))\n",
    "    X_pos = np.stack(res, axis=1)\n",
    "    \n",
    "    if labels_dep and labels_act:\n",
    "        y_dep = df['deprel'].map(deprel_mapping)\n",
    "        y_dep = tf.keras.utils.to_categorical(y_dep)\n",
    "        y_act = df['action'].map(action_mapping)\n",
    "        y_act = tf.keras.utils.to_categorical(y_act)\n",
    "        return X_form, X_pos, y_dep, y_act\n",
    "    else:\n",
    "        return X_form, X_pos"
   ]
  },
  {
   "cell_type": "code",
   "execution_count": 56,
   "metadata": {},
   "outputs": [
    {
     "name": "stdout",
     "output_type": "stream",
     "text": [
      "(190298, 6, 300) (190298, 6, 18) (190298, 57) (190298, 4)\n"
     ]
    }
   ],
   "source": [
    "X_form_train, X_pos_train, y_dep_train, y_act_train = make_nn_features(train_features, train_labels_dep, train_labels_act)\n",
    "X_form_test, X_pos_test, y_dep_test, y_act_test = make_nn_features(test_features, test_labels_dep, test_labels_act)\n",
    "\n",
    "print(X_form_train.shape, X_pos_train.shape, y_dep_train.shape, y_act_train.shape)"
   ]
  },
  {
   "cell_type": "code",
   "execution_count": 57,
   "metadata": {},
   "outputs": [],
   "source": [
    "# word_emb_input = tf.keras.layers.Input(shape=X_form_train.shape[1:])\n",
    "# pos_emb_input = tf.keras.layers.Input(shape=X_pos_train.shape[1:])\n",
    "\n",
    "# lstm_pos = tf.keras.layers.Bidirectional(tf.keras.layers.LSTM(64, return_sequences=True))(pos_emb_input)\n",
    "# lstm_word = tf.keras.layers.Bidirectional(tf.keras.layers.LSTM(64, return_sequences=True))(word_emb_input)\n",
    "\n",
    "# flat_pos = tf.keras.layers.Flatten()(lstm_pos)\n",
    "# flat_word = tf.keras.layers.Flatten()(lstm_word)\n",
    "\n",
    "# flat_concat = tf.keras.layers.concatenate([flat_pos, flat_word], axis=-1)\n",
    "# # flat = tf.keras.layers.Flatten()(lstm_concat)\n",
    "\n",
    "# flat_concat = tf.keras.layers.Dropout(0.3)(flat_concat)\n",
    "\n",
    "# dense_layer = tf.keras.layers.Dense(128, activation='relu')(flat_concat)\n",
    "\n",
    "# dense_output_dep = tf.keras.layers.Dense(len(deprel_mapping), activation='softmax', name='deprel')(dense_layer)\n",
    "\n",
    "# dense_output_act = tf.keras.layers.Dense(len(action_mapping), activation='softmax', name='action')(dense_layer)\n",
    "\n",
    "# model = tf.keras.models.Model(inputs=[word_emb_input, pos_emb_input], \n",
    "#                               outputs=[dense_output_dep, dense_output_act], \n",
    "#                               name='form_pos_lstm')\n",
    "\n",
    "# model.compile(optimizer='adam', loss='categorical_crossentropy', metrics=['categorical_accuracy'])"
   ]
  },
  {
   "cell_type": "code",
   "execution_count": 58,
   "metadata": {},
   "outputs": [],
   "source": [
    "word_emb_input = tf.keras.layers.Input(shape=X_form_train.shape[1:])\n",
    "pos_emb_input = tf.keras.layers.Input(shape=X_pos_train.shape[1:])\n",
    "\n",
    "lstm_pos = tf.keras.layers.Bidirectional(tf.keras.layers.LSTM(64, return_sequences=True))(pos_emb_input)\n",
    "lstm_word = tf.keras.layers.Bidirectional(tf.keras.layers.LSTM(64, return_sequences=True))(word_emb_input)\n",
    "flat_pos = tf.keras.layers.Flatten()(lstm_pos)\n",
    "flat_word = tf.keras.layers.Flatten()(lstm_word)\n",
    "flat_concat = tf.keras.layers.concatenate([flat_pos, flat_word], axis=-1)\n",
    "flat_concat = tf.keras.layers.Dropout(0.3)(flat_concat)\n",
    "\n",
    "# emb_concat = tf.keras.layers.concatenate([word_emb_input, pos_emb_input], axis=-1)\n",
    "# lstm = tf.keras.layers.Bidirectional(tf.keras.layers.LSTM(128, return_sequences=True))(emb_concat)\n",
    "# flat = tf.keras.layers.Flatten()(lstm)\n",
    "# flat_concat = tf.keras.layers.Dropout(0.3)(flat)\n",
    "\n",
    "dense_layer1 = tf.keras.layers.Dense(128, activation='relu')(flat_concat)\n",
    "dense_output_act = tf.keras.layers.Dense(len(action_mapping), activation='softmax', name='action')(dense_layer1)\n",
    "\n",
    "\n",
    "dense_layer2 = tf.keras.layers.Dense(64, activation='relu')(dense_layer1)\n",
    "dense_layer2 = tf.keras.layers.Dropout(0.3)(dense_layer2)\n",
    "\n",
    "act_dense_concat = tf.keras.layers.concatenate([dense_output_act, dense_layer2], axis=-1)\n",
    "\n",
    "dense_output_dep = tf.keras.layers.Dense(len(deprel_mapping), activation='softmax', name='deprel')(dense_layer2)\n",
    "\n",
    "\n",
    "\n",
    "model = tf.keras.models.Model(inputs=[word_emb_input, pos_emb_input], \n",
    "                              outputs=[dense_output_dep, dense_output_act], \n",
    "                              name='form_pos_lstm')\n",
    "\n",
    "model.compile(optimizer='adam', loss='categorical_crossentropy', metrics=['categorical_accuracy'])"
   ]
  },
  {
   "cell_type": "code",
   "execution_count": 59,
   "metadata": {},
   "outputs": [
    {
     "name": "stdout",
     "output_type": "stream",
     "text": [
      "Model: \"form_pos_lstm\"\n",
      "__________________________________________________________________________________________________\n",
      "Layer (type)                    Output Shape         Param #     Connected to                     \n",
      "==================================================================================================\n",
      "input_2 (InputLayer)            [(None, 6, 18)]      0                                            \n",
      "__________________________________________________________________________________________________\n",
      "input_1 (InputLayer)            [(None, 6, 300)]     0                                            \n",
      "__________________________________________________________________________________________________\n",
      "bidirectional (Bidirectional)   (None, 6, 128)       42496       input_2[0][0]                    \n",
      "__________________________________________________________________________________________________\n",
      "bidirectional_1 (Bidirectional) (None, 6, 128)       186880      input_1[0][0]                    \n",
      "__________________________________________________________________________________________________\n",
      "flatten (Flatten)               (None, 768)          0           bidirectional[0][0]              \n",
      "__________________________________________________________________________________________________\n",
      "flatten_1 (Flatten)             (None, 768)          0           bidirectional_1[0][0]            \n",
      "__________________________________________________________________________________________________\n",
      "concatenate (Concatenate)       (None, 1536)         0           flatten[0][0]                    \n",
      "                                                                 flatten_1[0][0]                  \n",
      "__________________________________________________________________________________________________\n",
      "dropout (Dropout)               (None, 1536)         0           concatenate[0][0]                \n",
      "__________________________________________________________________________________________________\n",
      "dense (Dense)                   (None, 128)          196736      dropout[0][0]                    \n",
      "__________________________________________________________________________________________________\n",
      "dense_1 (Dense)                 (None, 64)           8256        dense[0][0]                      \n",
      "__________________________________________________________________________________________________\n",
      "dropout_1 (Dropout)             (None, 64)           0           dense_1[0][0]                    \n",
      "__________________________________________________________________________________________________\n",
      "deprel (Dense)                  (None, 57)           3705        dropout_1[0][0]                  \n",
      "__________________________________________________________________________________________________\n",
      "action (Dense)                  (None, 4)            516         dense[0][0]                      \n",
      "==================================================================================================\n",
      "Total params: 438,589\n",
      "Trainable params: 438,589\n",
      "Non-trainable params: 0\n",
      "__________________________________________________________________________________________________\n"
     ]
    }
   ],
   "source": [
    "callbacks = [\n",
    "    tf.keras.callbacks.ReduceLROnPlateau(patience=3, factor=0.2, verbose=True),\n",
    "    tf.keras.callbacks.EarlyStopping(monitor='val_deprel_categorical_accuracy', patience=5, min_delta=1e-3, verbose=True), \n",
    "    tf.keras.callbacks.ModelCheckpoint(filepath='lemma_pos_lstm.h5', save_best_only=True, verbose=True)\n",
    "]\n",
    "\n",
    "model.summary()"
   ]
  },
  {
   "cell_type": "code",
   "execution_count": 60,
   "metadata": {},
   "outputs": [
    {
     "data": {
      "image/png": "[encoded data removed]",
      "text/plain": [
       "<IPython.core.display.Image object>"
      ]
     },
     "execution_count": 60,
     "metadata": {},
     "output_type": "execute_result"
    }
   ],
   "source": [
    "tf.keras.utils.plot_model(model, show_shapes=True, show_layer_names=True)"
   ]
  },
  {
   "cell_type": "code",
   "execution_count": 61,
   "metadata": {},
   "outputs": [
    {
     "name": "stdout",
     "output_type": "stream",
     "text": [
      "Train on 190298 samples, validate on 25820 samples\n",
      "Epoch 1/100\n",
      "190048/190298 [============================>.] - ETA: 0s - loss: 1.1543 - deprel_loss: 0.7329 - action_loss: 0.4214 - deprel_categorical_accuracy: 0.7744 - action_categorical_accuracy: 0.8356\n",
      "Epoch 00001: val_loss improved from inf to 0.89034, saving model to lemma_pos_lstm.h5\n",
      "190298/190298 [==============================] - 43s 226us/sample - loss: 1.1541 - deprel_loss: 0.7327 - action_loss: 0.4214 - deprel_categorical_accuracy: 0.7744 - action_categorical_accuracy: 0.8357 - val_loss: 0.8903 - val_deprel_loss: 0.5230 - val_action_loss: 0.3673 - val_deprel_categorical_accuracy: 0.8216 - val_action_categorical_accuracy: 0.8579\n",
      "Epoch 2/100\n",
      "190144/190298 [============================>.] - ETA: 0s - loss: 0.8518 - deprel_loss: 0.5257 - action_loss: 0.3262 - deprel_categorical_accuracy: 0.8285 - action_categorical_accuracy: 0.8755\n",
      "Epoch 00002: val_loss improved from 0.89034 to 0.83626, saving model to lemma_pos_lstm.h5\n",
      "190298/190298 [==============================] - 37s 196us/sample - loss: 0.8519 - deprel_loss: 0.5257 - action_loss: 0.3261 - deprel_categorical_accuracy: 0.8284 - action_categorical_accuracy: 0.8755 - val_loss: 0.8363 - val_deprel_loss: 0.4899 - val_action_loss: 0.3463 - val_deprel_categorical_accuracy: 0.8323 - val_action_categorical_accuracy: 0.8670\n",
      "Epoch 3/100\n",
      "190048/190298 [============================>.] - ETA: 0s - loss: 0.7743 - deprel_loss: 0.4800 - action_loss: 0.2943 - deprel_categorical_accuracy: 0.8418 - action_categorical_accuracy: 0.8872\n",
      "Epoch 00003: val_loss improved from 0.83626 to 0.82683, saving model to lemma_pos_lstm.h5\n",
      "190298/190298 [==============================] - 37s 196us/sample - loss: 0.7744 - deprel_loss: 0.4800 - action_loss: 0.2944 - deprel_categorical_accuracy: 0.8418 - action_categorical_accuracy: 0.8871 - val_loss: 0.8268 - val_deprel_loss: 0.4834 - val_action_loss: 0.3434 - val_deprel_categorical_accuracy: 0.8382 - val_action_categorical_accuracy: 0.8693\n",
      "Epoch 4/100\n",
      "190272/190298 [============================>.] - ETA: 0s - loss: 0.7177 - deprel_loss: 0.4466 - action_loss: 0.2711 - deprel_categorical_accuracy: 0.8525 - action_categorical_accuracy: 0.8965\n",
      "Epoch 00004: val_loss did not improve from 0.82683\n",
      "190298/190298 [==============================] - 37s 196us/sample - loss: 0.7177 - deprel_loss: 0.4466 - action_loss: 0.2711 - deprel_categorical_accuracy: 0.8525 - action_categorical_accuracy: 0.8965 - val_loss: 0.8292 - val_deprel_loss: 0.4831 - val_action_loss: 0.3460 - val_deprel_categorical_accuracy: 0.8418 - val_action_categorical_accuracy: 0.8713\n",
      "Epoch 5/100\n",
      "190016/190298 [============================>.] - ETA: 0s - loss: 0.6753 - deprel_loss: 0.4234 - action_loss: 0.2520 - deprel_categorical_accuracy: 0.8606 - action_categorical_accuracy: 0.9038\n",
      "Epoch 00005: val_loss did not improve from 0.82683\n",
      "190298/190298 [==============================] - 37s 195us/sample - loss: 0.6753 - deprel_loss: 0.4233 - action_loss: 0.2520 - deprel_categorical_accuracy: 0.8606 - action_categorical_accuracy: 0.9038 - val_loss: 0.8646 - val_deprel_loss: 0.5085 - val_action_loss: 0.3560 - val_deprel_categorical_accuracy: 0.8383 - val_action_categorical_accuracy: 0.8677\n",
      "Epoch 6/100\n",
      "190272/190298 [============================>.] - ETA: 0s - loss: 0.6400 - deprel_loss: 0.4032 - action_loss: 0.2368 - deprel_categorical_accuracy: 0.8671 - action_categorical_accuracy: 0.9105\n",
      "Epoch 00006: ReduceLROnPlateau reducing learning rate to 0.00020000000949949026.\n",
      "\n",
      "Epoch 00006: val_loss did not improve from 0.82683\n",
      "190298/190298 [==============================] - 37s 195us/sample - loss: 0.6401 - deprel_loss: 0.4033 - action_loss: 0.2368 - deprel_categorical_accuracy: 0.8670 - action_categorical_accuracy: 0.9105 - val_loss: 0.8616 - val_deprel_loss: 0.5006 - val_action_loss: 0.3609 - val_deprel_categorical_accuracy: 0.8410 - val_action_categorical_accuracy: 0.8682\n",
      "Epoch 7/100\n",
      "190016/190298 [============================>.] - ETA: 0s - loss: 0.5301 - deprel_loss: 0.3382 - action_loss: 0.1918 - deprel_categorical_accuracy: 0.8870 - action_categorical_accuracy: 0.9275\n",
      "Epoch 00007: val_loss did not improve from 0.82683\n",
      "190298/190298 [==============================] - 37s 195us/sample - loss: 0.5301 - deprel_loss: 0.3383 - action_loss: 0.1918 - deprel_categorical_accuracy: 0.8870 - action_categorical_accuracy: 0.9275 - val_loss: 0.8930 - val_deprel_loss: 0.5211 - val_action_loss: 0.3719 - val_deprel_categorical_accuracy: 0.8463 - val_action_categorical_accuracy: 0.8724\n",
      "Epoch 8/100\n",
      "190208/190298 [============================>.] - ETA: 0s - loss: 0.4845 - deprel_loss: 0.3120 - action_loss: 0.1725 - deprel_categorical_accuracy: 0.8954 - action_categorical_accuracy: 0.9346\n",
      "Epoch 00008: val_loss did not improve from 0.82683\n",
      "190298/190298 [==============================] - 37s 195us/sample - loss: 0.4845 - deprel_loss: 0.3120 - action_loss: 0.1725 - deprel_categorical_accuracy: 0.8954 - action_categorical_accuracy: 0.9346 - val_loss: 0.9233 - val_deprel_loss: 0.5389 - val_action_loss: 0.3843 - val_deprel_categorical_accuracy: 0.8455 - val_action_categorical_accuracy: 0.8708\n",
      "Epoch 9/100\n",
      "190112/190298 [============================>.] - ETA: 0s - loss: 0.4554 - deprel_loss: 0.2951 - action_loss: 0.1603 - deprel_categorical_accuracy: 0.9015 - action_categorical_accuracy: 0.9399\n",
      "Epoch 00009: ReduceLROnPlateau reducing learning rate to 4.0000001899898055e-05.\n",
      "\n",
      "Epoch 00009: val_loss did not improve from 0.82683\n",
      "190298/190298 [==============================] - 37s 195us/sample - loss: 0.4555 - deprel_loss: 0.2952 - action_loss: 0.1603 - deprel_categorical_accuracy: 0.9015 - action_categorical_accuracy: 0.9399 - val_loss: 0.9488 - val_deprel_loss: 0.5530 - val_action_loss: 0.3957 - val_deprel_categorical_accuracy: 0.8459 - val_action_categorical_accuracy: 0.8724\n",
      "Epoch 10/100\n",
      "190240/190298 [============================>.] - ETA: 0s - loss: 0.4194 - deprel_loss: 0.2741 - action_loss: 0.1453 - deprel_categorical_accuracy: 0.9080 - action_categorical_accuracy: 0.9457\n",
      "Epoch 00010: val_loss did not improve from 0.82683\n",
      "190298/190298 [==============================] - 37s 195us/sample - loss: 0.4194 - deprel_loss: 0.2741 - action_loss: 0.1453 - deprel_categorical_accuracy: 0.9080 - action_categorical_accuracy: 0.9457 - val_loss: 0.9751 - val_deprel_loss: 0.5714 - val_action_loss: 0.4036 - val_deprel_categorical_accuracy: 0.8460 - val_action_categorical_accuracy: 0.8713\n",
      "Epoch 11/100\n",
      "190176/190298 [============================>.] - ETA: 0s - loss: 0.4131 - deprel_loss: 0.2709 - action_loss: 0.1422 - deprel_categorical_accuracy: 0.9090 - action_categorical_accuracy: 0.9469\n",
      "Epoch 00011: val_loss did not improve from 0.82683\n",
      "190298/190298 [==============================] - 37s 195us/sample - loss: 0.4132 - deprel_loss: 0.2709 - action_loss: 0.1423 - deprel_categorical_accuracy: 0.9090 - action_categorical_accuracy: 0.9469 - val_loss: 0.9840 - val_deprel_loss: 0.5772 - val_action_loss: 0.4067 - val_deprel_categorical_accuracy: 0.8450 - val_action_categorical_accuracy: 0.8715\n",
      "Epoch 12/100\n",
      "190240/190298 [============================>.] - ETA: 0s - loss: 0.4054 - deprel_loss: 0.2656 - action_loss: 0.1397 - deprel_categorical_accuracy: 0.9108 - action_categorical_accuracy: 0.9472\n",
      "Epoch 00012: ReduceLROnPlateau reducing learning rate to 8.000000525498762e-06.\n",
      "\n",
      "Epoch 00012: val_loss did not improve from 0.82683\n",
      "190298/190298 [==============================] - 38s 200us/sample - loss: 0.4054 - deprel_loss: 0.2656 - action_loss: 0.1397 - deprel_categorical_accuracy: 0.9108 - action_categorical_accuracy: 0.9472 - val_loss: 0.9965 - val_deprel_loss: 0.5835 - val_action_loss: 0.4129 - val_deprel_categorical_accuracy: 0.8454 - val_action_categorical_accuracy: 0.8710\n",
      "Epoch 00012: early stopping\n"
     ]
    }
   ],
   "source": [
    "history = model.fit(x=[X_form_train, X_pos_train], y=[y_dep_train, y_act_train],\n",
    "#                     class_weight='balanced',\n",
    "                    epochs=100,\n",
    "                    batch_size=32,\n",
    "                    callbacks=callbacks,\n",
    "                    validation_data=([X_form_test, X_pos_test], [y_dep_test, y_act_test]),\n",
    "                    verbose=1)"
   ]
  },
  {
   "cell_type": "code",
   "execution_count": 62,
   "metadata": {},
   "outputs": [
    {
     "data": {
      "image/png": "[encoded data removed]",
      "text/plain": [
       "<Figure size 1152x288 with 2 Axes>"
      ]
     },
     "metadata": {
      "needs_background": "light"
     },
     "output_type": "display_data"
    }
   ],
   "source": [
    "plt.figure(figsize=(16, 4))\n",
    "\n",
    "plt.subplot(1, 2, 1)\n",
    "plt.plot(history.history['deprel_categorical_accuracy'])\n",
    "plt.plot(history.history['action_categorical_accuracy'])\n",
    "plt.plot(history.history['val_deprel_categorical_accuracy'])\n",
    "plt.plot(history.history['val_action_categorical_accuracy'])\n",
    "plt.title('model accuracy')\n",
    "plt.ylabel('accuracy')\n",
    "plt.xlabel('epochs')\n",
    "plt.legend(['train_deprel', 'train_action', 'val_deprel', 'val_action'], loc='lower right')\n",
    "\n",
    "plt.subplot(1, 2, 2)\n",
    "plt.plot(history.history['loss'])\n",
    "plt.plot(history.history['deprel_loss'])\n",
    "plt.plot(history.history['action_loss'])\n",
    "plt.plot(history.history['val_deprel_loss'])\n",
    "plt.plot(history.history['val_action_loss'])\n",
    "plt.title('model loss')\n",
    "plt.ylabel('loss')\n",
    "plt.xlabel('epochs')\n",
    "plt.legend(['loss', 'deprel_loss', 'action_loss', 'val_deprel_loss', 'val_action_loss'], loc='upper right')\n",
    "\n",
    "plt.show()"
   ]
  },
  {
   "cell_type": "code",
   "execution_count": 63,
   "metadata": {},
   "outputs": [],
   "source": [
    "lemma_pos_lstm_model = tf.keras.models.load_model('lemma_pos_lstm.h5')"
   ]
  },
  {
   "cell_type": "code",
   "execution_count": 64,
   "metadata": {},
   "outputs": [],
   "source": [
    "pred_dep, pred_act = lemma_pos_lstm_model.predict([X_form_test, X_pos_test])"
   ]
  },
  {
   "cell_type": "code",
   "execution_count": 65,
   "metadata": {},
   "outputs": [
    {
     "name": "stdout",
     "output_type": "stream",
     "text": [
      "                     precision    recall  f1-score   support\n",
      "\n",
      "                N/A       0.92      0.87      0.90     14274\n",
      "               case       0.99      0.98      0.99      1156\n",
      "               amod       0.96      0.91      0.93      1076\n",
      "               nmod       0.76      0.67      0.71      1379\n",
      "         flat:title       0.32      0.58      0.41        98\n",
      "                obl       0.69      0.68      0.69       833\n",
      "               root       0.85      0.92      0.88       599\n",
      "              nsubj       0.79      0.73      0.76       848\n",
      "              punct       0.77      0.87      0.82      2088\n",
      "              appos       0.00      0.00      0.00         0\n",
      "                 cc       0.91      0.92      0.91       435\n",
      "               conj       0.28      0.44      0.35       353\n",
      "             advmod       0.90      0.78      0.84       696\n",
      "              advcl       0.02      1.00      0.03         2\n",
      "          discourse       0.70      0.72      0.71       175\n",
      "              xcomp       0.93      0.83      0.88       127\n",
      "                obj       0.72      0.65      0.68       637\n",
      "           advcl:sp       0.00      0.00      0.00         0\n",
      "                det       0.97      0.90      0.94       301\n",
      "                acl       0.28      0.59      0.38        22\n",
      "               mark       0.95      0.94      0.95       242\n",
      "          flat:name       0.76      0.62      0.69        72\n",
      "         det:numgov       0.93      0.81      0.87        16\n",
      "           xcomp:sp       0.39      0.62      0.48        26\n",
      "          parataxis       0.04      0.19      0.07        27\n",
      "              fixed       0.29      1.00      0.45         9\n",
      "          acl:relcl       0.00      0.00      0.00         0\n",
      "         nummod:gov       0.44      0.74      0.55        31\n",
      "         det:nummod       0.00      0.00      0.00         0\n",
      "                cop       0.84      0.91      0.87        57\n",
      "              csubj       0.64      0.82      0.72        55\n",
      "parataxis:discourse       0.00      0.00      0.00         0\n",
      "              ccomp       0.25      0.34      0.29        41\n",
      "                aux       0.90      0.95      0.92        19\n",
      "           compound       0.22      0.89      0.35        19\n",
      "             orphan       0.00      0.00      0.00         0\n",
      "               iobj       0.14      0.67      0.24         3\n",
      "       flat:foreign       0.24      1.00      0.39         7\n",
      "         advmod:det       0.00      0.00      0.00         0\n",
      "             nummod       0.85      0.52      0.65        79\n",
      "      parataxis:rel       0.00      0.00      0.00         0\n",
      "               expl       0.33      1.00      0.50         3\n",
      "        flat:repeat       0.00      0.00      0.00         0\n",
      "           vocative       0.00      0.00      0.00         0\n",
      "         dislocated       0.00      0.00      0.00         0\n",
      "            acl:adv       0.00      0.00      0.00         0\n",
      "           flat:abs       0.25      1.00      0.40         1\n",
      "          advcl:svc       0.00      0.00      0.00         0\n",
      "         flat:range       0.21      0.21      0.21        14\n",
      "               list       0.00      0.00      0.00         0\n",
      "  parataxis:newsent       0.00      0.00      0.00         0\n",
      "           goeswith       0.00      0.00      0.00         0\n",
      "\n",
      "           accuracy                           0.84     25820\n",
      "          macro avg       0.41      0.52      0.43     25820\n",
      "       weighted avg       0.87      0.84      0.85     25820\n",
      "\n"
     ]
    },
    {
     "name": "stderr",
     "output_type": "stream",
     "text": [
      "/home/dima/anaconda3/envs/p36tf20/lib/python3.6/site-packages/sklearn/metrics/_classification.py:1272: UndefinedMetricWarning: Recall and F-score are ill-defined and being set to 0.0 in labels with no true samples. Use `zero_division` parameter to control this behavior.\n",
      "  _warn_prf(average, modifier, msg_start, len(result))\n"
     ]
    }
   ],
   "source": [
    "target_names = list(map(\n",
    "    lambda x: inverse_deprel_mapping.get(x), \n",
    "    sorted(list(set((list(np.argmax(y_dep_test, axis=1)) + list(np.argmax(pred_dep, axis=1))))))\n",
    "))\n",
    "\n",
    "print(classification_report(\n",
    "    np.argmax(pred_dep, axis=1),            \n",
    "    np.argmax(y_dep_test, axis=1),\n",
    "    target_names=target_names\n",
    "))"
   ]
  },
  {
   "cell_type": "code",
   "execution_count": 66,
   "metadata": {},
   "outputs": [
    {
     "name": "stdout",
     "output_type": "stream",
     "text": [
      "              precision    recall  f1-score   support\n",
      "\n",
      "       shift       0.89      0.90      0.90      6542\n",
      "        left       0.91      0.89      0.90      6532\n",
      "       right       0.82      0.83      0.83      5877\n",
      "      reduce       0.85      0.85      0.85      6869\n",
      "\n",
      "    accuracy                           0.87     25820\n",
      "   macro avg       0.87      0.87      0.87     25820\n",
      "weighted avg       0.87      0.87      0.87     25820\n",
      "\n"
     ]
    }
   ],
   "source": [
    "print(classification_report(\n",
    "    np.argmax(pred_act, axis=1),            \n",
    "    np.argmax(y_act_test, axis=1),\n",
    "    target_names=inverse_action_mapping.values()\n",
    "))"
   ]
  },
  {
   "cell_type": "markdown",
   "metadata": {},
   "source": [
    "### Calculate the labeled attachment score"
   ]
  },
  {
   "cell_type": "code",
   "execution_count": 67,
   "metadata": {},
   "outputs": [],
   "source": [
    "from tqdm import tqdm"
   ]
  },
  {
   "cell_type": "code",
   "execution_count": 68,
   "metadata": {},
   "outputs": [],
   "source": [
    "def dep_parse(sentence, oracle=lemma_pos_lstm_model, log=False):\n",
    "    stack, queue, relations, relations_with_dep = [ROOT], sentence[:], [], []\n",
    "    while queue or stack:\n",
    "        if stack and not queue:\n",
    "            stack.pop()\n",
    "        else:\n",
    "            feat_form, feat_pos = make_nn_features([extract_features_nn(stack, queue)])\n",
    "            \n",
    "            deprel_pred, action_pred = oracle.predict([feat_form, feat_pos])\n",
    "            deprel = inverse_deprel_mapping.get(np.argmax(deprel_pred))\n",
    "            action = inverse_action_mapping.get(np.argmax(action_pred))\n",
    "\n",
    "            if log:\n",
    "                print(\"Stack:\", [i[\"form\"]+\"_\"+str(i[\"id\"]) for i in stack])\n",
    "                print(\"Queue:\", [i[\"form\"]+\"_\"+str(i[\"id\"]) for i in queue])\n",
    "                print(\"Relations:\", relations)\n",
    "                print(action)\n",
    "                print(\"========================\")\n",
    "            # actual parsing\n",
    "            if action == Actions.SHIFT:\n",
    "                stack.append(queue.pop(0))\n",
    "            elif action == Actions.REDUCE:\n",
    "                stack.pop()\n",
    "            elif action == Actions.LEFT:\n",
    "                relations.append((stack[-1][\"id\"], queue[0][\"id\"]))\n",
    "                relations_with_dep.append((stack[-1][\"id\"], queue[0][\"id\"], deprel))\n",
    "                stack.pop()\n",
    "            elif action == Actions.RIGHT:\n",
    "                relations.append((queue[0][\"id\"], stack[-1][\"id\"]))\n",
    "                relations_with_dep.append((queue[0][\"id\"], stack[-1][\"id\"], deprel))\n",
    "                stack.append(queue.pop(0))\n",
    "            else:\n",
    "                print(\"Unknown action.\")\n",
    "    return sorted(relations), sorted(relations_with_dep)"
   ]
  },
  {
   "cell_type": "code",
   "execution_count": 69,
   "metadata": {},
   "outputs": [
    {
     "name": "stderr",
     "output_type": "stream",
     "text": [
      "100%|██████████| 672/672 [14:02<00:00,  1.25s/it]"
     ]
    },
    {
     "name": "stdout",
     "output_type": "stream",
     "text": [
      "Total: 12574\n",
      "Correctly defined: 9484\n",
      "UAS: 0.75\n",
      "LAS: 0.65\n"
     ]
    },
    {
     "name": "stderr",
     "output_type": "stream",
     "text": [
      "\n"
     ]
    }
   ],
   "source": [
    "total, tp, tp_dep = 0, 0, 0\n",
    "for tree in tqdm(test_trees):\n",
    "    tree = [t for t in tree if type(t[\"id\"])==int]\n",
    "    golden = [(node[\"id\"], node[\"head\"]) for node in tree]\n",
    "    golden_dep = [(node[\"id\"], node[\"head\"], node[\"deprel\"]) for node in tree]\n",
    "    predicted, predicted_with_dep = dep_parse(tree, lemma_pos_lstm_model)\n",
    "    total += len(tree)\n",
    "    tp += len(set(golden).intersection(set(predicted)))\n",
    "    tp_dep += len(set(golden_dep).intersection(set(predicted_with_dep)))\n",
    "\n",
    "print(\"Total:\", total)\n",
    "print(\"Correctly defined:\", tp)\n",
    "print(\"UAS:\", round(tp/total, 2))\n",
    "print(\"LAS:\", round(tp_dep/total, 2))"
   ]
  },
  {
   "cell_type": "code",
   "execution_count": null,
   "metadata": {},
   "outputs": [],
   "source": []
  },
  {
   "cell_type": "code",
   "execution_count": null,
   "metadata": {},
   "outputs": [],
   "source": []
  }
 ],
 "metadata": {
  "kernelspec": {
   "display_name": "p36tf20",
   "language": "python",
   "name": "p36tf20"
  },
  "language_info": {
   "codemirror_mode": {
    "name": "ipython",
    "version": 3
   },
   "file_extension": ".py",
   "mimetype": "text/x-python",
   "name": "python",
   "nbconvert_exporter": "python",
   "pygments_lexer": "ipython3",
   "version": "3.6.10"
  }
 },
 "nbformat": 4,
 "nbformat_minor": 2
}
