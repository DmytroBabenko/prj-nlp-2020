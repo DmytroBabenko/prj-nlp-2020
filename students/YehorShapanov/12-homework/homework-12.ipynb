{
 "cells": [
  {
   "cell_type": "code",
   "execution_count": 1,
   "metadata": {},
   "outputs": [],
   "source": [
    "from __future__ import print_function\n",
    "\n",
    "from tensorflow.keras.models import Model\n",
    "from tensorflow.keras.layers import Input, LSTM, Dense\n",
    "import numpy as np"
   ]
  },
  {
   "cell_type": "code",
   "execution_count": 50,
   "metadata": {},
   "outputs": [],
   "source": [
    "batch_size = 64  # Batch size for training.\n",
    "epochs = 100  # Number of epochs to train for.\n",
    "latent_dim = 256  # Latent dimensionality of the encoding space.\n",
    "num_samples = 10000  # Number of samples to train on.\n",
    "# Path to the data txt file on disk.\n",
    "data_path = 'opusparcus_v2/en-train-100K.txt'"
   ]
  },
  {
   "cell_type": "code",
   "execution_count": 3,
   "metadata": {},
   "outputs": [],
   "source": [
    "# Vectorize the data.\n",
    "input_texts = []\n",
    "target_texts = []\n",
    "input_characters = set()\n",
    "target_characters = set()"
   ]
  },
  {
   "cell_type": "code",
   "execution_count": 4,
   "metadata": {},
   "outputs": [],
   "source": [
    "with open(data_path, 'r', encoding='utf-8') as f:\n",
    "    lines = f.read().split('\\n')"
   ]
  },
  {
   "cell_type": "code",
   "execution_count": 5,
   "metadata": {},
   "outputs": [
    {
     "data": {
      "text/plain": [
       "['en-N7',\n",
       " 'Jumby now wants to be born .',\n",
       " 'Jumby want birth .',\n",
       " '77.5163',\n",
       " '2.5',\n",
       " '5',\n",
       " '9']"
      ]
     },
     "execution_count": 5,
     "metadata": {},
     "output_type": "execute_result"
    }
   ],
   "source": [
    "lines[0].split('\\t')"
   ]
  },
  {
   "cell_type": "code",
   "execution_count": 6,
   "metadata": {},
   "outputs": [],
   "source": [
    "for line in lines[: min(num_samples, len(lines) - 1)]:\n",
    "    _, input_text, target_text, _, _, _, _ = line.split('\\t')\n",
    "    # We use \"tab\" as the \"start sequence\" character\n",
    "    # for the targets, and \"\\n\" as \"end sequence\" character.\n",
    "    target_text = '\\t' + target_text + '\\n'\n",
    "    input_texts.append(input_text)\n",
    "    target_texts.append(target_text)\n",
    "    for char in input_text:\n",
    "        if char not in input_characters:\n",
    "            input_characters.add(char)\n",
    "    for char in target_text:\n",
    "        if char not in target_characters:\n",
    "            target_characters.add(char)"
   ]
  },
  {
   "cell_type": "code",
   "execution_count": 7,
   "metadata": {},
   "outputs": [],
   "source": [
    "input_characters = sorted(list(input_characters))\n",
    "target_characters = sorted(list(target_characters))\n",
    "num_encoder_tokens = len(input_characters)\n",
    "num_decoder_tokens = len(target_characters)\n",
    "max_encoder_seq_length = max([len(txt) for txt in input_texts])\n",
    "max_decoder_seq_length = max([len(txt) for txt in target_texts])"
   ]
  },
  {
   "cell_type": "code",
   "execution_count": 8,
   "metadata": {},
   "outputs": [
    {
     "name": "stdout",
     "output_type": "stream",
     "text": [
      "Number of samples: 10000\n",
      "Number of unique input tokens: 81\n",
      "Number of unique output tokens: 102\n",
      "Max sequence length for inputs: 121\n",
      "Max sequence length for outputs: 126\n"
     ]
    }
   ],
   "source": [
    "print('Number of samples:', len(input_texts))\n",
    "print('Number of unique input tokens:', num_encoder_tokens)\n",
    "print('Number of unique output tokens:', num_decoder_tokens)\n",
    "print('Max sequence length for inputs:', max_encoder_seq_length)\n",
    "print('Max sequence length for outputs:', max_decoder_seq_length)"
   ]
  },
  {
   "cell_type": "code",
   "execution_count": 9,
   "metadata": {},
   "outputs": [],
   "source": [
    "input_token_index = dict(\n",
    "    [(char, i) for i, char in enumerate(input_characters)])\n",
    "target_token_index = dict(\n",
    "    [(char, i) for i, char in enumerate(target_characters)])"
   ]
  },
  {
   "cell_type": "code",
   "execution_count": 10,
   "metadata": {},
   "outputs": [],
   "source": [
    "encoder_input_data = np.zeros(\n",
    "    (len(input_texts), max_encoder_seq_length, num_encoder_tokens),\n",
    "    dtype='float32')\n",
    "decoder_input_data = np.zeros(\n",
    "    (len(input_texts), max_decoder_seq_length, num_decoder_tokens),\n",
    "    dtype='float32')\n",
    "decoder_target_data = np.zeros(\n",
    "    (len(input_texts), max_decoder_seq_length, num_decoder_tokens),\n",
    "    dtype='float32')"
   ]
  },
  {
   "cell_type": "code",
   "execution_count": 11,
   "metadata": {},
   "outputs": [
    {
     "data": {
      "text/plain": [
       "(10000, 121, 81)"
      ]
     },
     "execution_count": 11,
     "metadata": {},
     "output_type": "execute_result"
    }
   ],
   "source": [
    "encoder_input_data.shape"
   ]
  },
  {
   "cell_type": "code",
   "execution_count": 12,
   "metadata": {},
   "outputs": [
    {
     "data": {
      "text/plain": [
       "(10000, 126, 102)"
      ]
     },
     "execution_count": 12,
     "metadata": {},
     "output_type": "execute_result"
    }
   ],
   "source": [
    "decoder_input_data.shape"
   ]
  },
  {
   "cell_type": "code",
   "execution_count": 13,
   "metadata": {},
   "outputs": [],
   "source": [
    "for i, (input_text, target_text) in enumerate(zip(input_texts, target_texts)):\n",
    "    for t, char in enumerate(input_text):\n",
    "        encoder_input_data[i, t, input_token_index[char]] = 1.\n",
    "    encoder_input_data[i, t + 1:, input_token_index[' ']] = 1.\n",
    "    for t, char in enumerate(target_text):\n",
    "        # decoder_target_data is ahead of decoder_input_data by one timestep\n",
    "        decoder_input_data[i, t, target_token_index[char]] = 1.\n",
    "        if t > 0:\n",
    "            # decoder_target_data will be ahead by one timestep\n",
    "            # and will not include the start character.\n",
    "            decoder_target_data[i, t - 1, target_token_index[char]] = 1.\n",
    "    decoder_input_data[i, t + 1:, target_token_index[' ']] = 1.\n",
    "    decoder_target_data[i, t:, target_token_index[' ']] = 1."
   ]
  },
  {
   "cell_type": "code",
   "execution_count": 14,
   "metadata": {},
   "outputs": [
    {
     "data": {
      "text/plain": [
       "81"
      ]
     },
     "execution_count": 14,
     "metadata": {},
     "output_type": "execute_result"
    }
   ],
   "source": [
    "num_encoder_tokens"
   ]
  },
  {
   "cell_type": "code",
   "execution_count": 15,
   "metadata": {},
   "outputs": [
    {
     "name": "stdout",
     "output_type": "stream",
     "text": [
      "WARNING:tensorflow:From /Users/yehorshapanov/opt/anaconda3/lib/python3.7/site-packages/tensorflow_core/python/ops/resource_variable_ops.py:1630: calling BaseResourceVariable.__init__ (from tensorflow.python.ops.resource_variable_ops) with constraint is deprecated and will be removed in a future version.\n",
      "Instructions for updating:\n",
      "If using Keras pass *_constraint arguments to layers.\n"
     ]
    }
   ],
   "source": [
    "# Define an input sequence and process it.\n",
    "encoder_inputs = Input(shape=(None, num_encoder_tokens))\n",
    "encoder = LSTM(latent_dim, return_state=True)\n",
    "encoder_outputs, state_h, state_c = encoder(encoder_inputs)\n",
    "# We discard `encoder_outputs` and only keep the states.\n",
    "encoder_states = [state_h, state_c]"
   ]
  },
  {
   "cell_type": "code",
   "execution_count": 16,
   "metadata": {},
   "outputs": [
    {
     "data": {
      "text/plain": [
       "TensorShape([Dimension(None), Dimension(None), Dimension(81)])"
      ]
     },
     "execution_count": 16,
     "metadata": {},
     "output_type": "execute_result"
    }
   ],
   "source": [
    "encoder_inputs.shape"
   ]
  },
  {
   "cell_type": "code",
   "execution_count": 30,
   "metadata": {},
   "outputs": [
    {
     "data": {
      "text/plain": [
       "TensorShape([Dimension(None), Dimension(256)])"
      ]
     },
     "execution_count": 30,
     "metadata": {},
     "output_type": "execute_result"
    }
   ],
   "source": [
    "state_h.shape"
   ]
  },
  {
   "cell_type": "code",
   "execution_count": 17,
   "metadata": {},
   "outputs": [],
   "source": [
    "# Set up the decoder, using `encoder_states` as initial state.\n",
    "decoder_inputs = Input(shape=(None, num_decoder_tokens))\n",
    "# We set up our decoder to return full output sequences,\n",
    "# and to return internal states as well. We don't use the\n",
    "# return states in the training model, but we will use them in inference.\n",
    "decoder_lstm = LSTM(latent_dim, return_sequences=True, return_state=True)"
   ]
  },
  {
   "cell_type": "code",
   "execution_count": 18,
   "metadata": {},
   "outputs": [],
   "source": [
    "decoder_outputs, _, _ = decoder_lstm(decoder_inputs,\n",
    "                                     initial_state=encoder_states)\n",
    "decoder_dense = Dense(num_decoder_tokens, activation='softmax')\n",
    "decoder_outputs = decoder_dense(decoder_outputs)"
   ]
  },
  {
   "cell_type": "code",
   "execution_count": 19,
   "metadata": {},
   "outputs": [
    {
     "data": {
      "text/plain": [
       "TensorShape([Dimension(None), Dimension(None), Dimension(102)])"
      ]
     },
     "execution_count": 19,
     "metadata": {},
     "output_type": "execute_result"
    }
   ],
   "source": [
    "decoder_inputs.shape"
   ]
  },
  {
   "cell_type": "code",
   "execution_count": 20,
   "metadata": {},
   "outputs": [
    {
     "data": {
      "text/plain": [
       "TensorShape([Dimension(None), Dimension(None), Dimension(102)])"
      ]
     },
     "execution_count": 20,
     "metadata": {},
     "output_type": "execute_result"
    }
   ],
   "source": [
    "decoder_outputs.shape"
   ]
  },
  {
   "cell_type": "code",
   "execution_count": 21,
   "metadata": {},
   "outputs": [],
   "source": [
    "# Define the model that will turn\n",
    "# `encoder_input_data` & `decoder_input_data` into `decoder_target_data`\n",
    "model = Model([encoder_inputs, decoder_inputs], decoder_outputs)\n",
    "\n",
    "# Run training\n",
    "model.compile(optimizer='rmsprop', loss='categorical_crossentropy',\n",
    "              metrics=['accuracy'])"
   ]
  },
  {
   "cell_type": "code",
   "execution_count": 28,
   "metadata": {},
   "outputs": [],
   "source": [
    "from tensorflow import keras\n",
    "from tensorflow.keras.utils import plot_model"
   ]
  },
  {
   "cell_type": "code",
   "execution_count": 29,
   "metadata": {},
   "outputs": [
    {
     "data": {
      "image/png": "[encoded data removed]",
      "text/plain": [
       "<IPython.core.display.Image object>"
      ]
     },
     "execution_count": 29,
     "metadata": {},
     "output_type": "execute_result"
    }
   ],
   "source": [
    "plot_model(model, show_shapes=True)"
   ]
  },
  {
   "cell_type": "code",
   "execution_count": 51,
   "metadata": {},
   "outputs": [
    {
     "name": "stdout",
     "output_type": "stream",
     "text": [
      "Train on 8000 samples, validate on 2000 samples\n",
      "Epoch 1/100\n",
      "8000/8000 [==============================] - 106s 13ms/sample - loss: 0.2783 - acc: 0.9194 - val_loss: 0.2682 - val_acc: 0.9213\n",
      "Epoch 2/100\n",
      "8000/8000 [==============================] - 112s 14ms/sample - loss: 0.2667 - acc: 0.9226 - val_loss: 0.2601 - val_acc: 0.9248\n",
      "Epoch 3/100\n",
      "8000/8000 [==============================] - 118s 15ms/sample - loss: 0.2562 - acc: 0.9256 - val_loss: 0.2530 - val_acc: 0.9254\n",
      "Epoch 4/100\n",
      "8000/8000 [==============================] - 101s 13ms/sample - loss: 0.2634 - acc: 0.9254 - val_loss: 0.2448 - val_acc: 0.9289\n",
      "Epoch 5/100\n",
      "8000/8000 [==============================] - 109s 14ms/sample - loss: 0.2396 - acc: 0.9306 - val_loss: 0.2379 - val_acc: 0.9312\n",
      "Epoch 6/100\n",
      "8000/8000 [==============================] - 113s 14ms/sample - loss: 0.2310 - acc: 0.9333 - val_loss: 0.2295 - val_acc: 0.9332\n",
      "Epoch 7/100\n",
      "8000/8000 [==============================] - 116s 15ms/sample - loss: 0.2237 - acc: 0.9350 - val_loss: 0.2258 - val_acc: 0.9344\n",
      "Epoch 8/100\n",
      "8000/8000 [==============================] - 138s 17ms/sample - loss: 0.2166 - acc: 0.9373 - val_loss: 0.2208 - val_acc: 0.9355\n",
      "Epoch 9/100\n",
      "8000/8000 [==============================] - 124s 16ms/sample - loss: 0.2120 - acc: 0.9396 - val_loss: 0.2138 - val_acc: 0.9373\n",
      "Epoch 10/100\n",
      "8000/8000 [==============================] - 142s 18ms/sample - loss: 0.2033 - acc: 0.9410 - val_loss: 0.2127 - val_acc: 0.9383\n",
      "Epoch 11/100\n",
      "8000/8000 [==============================] - 125s 16ms/sample - loss: 0.1974 - acc: 0.9426 - val_loss: 0.2065 - val_acc: 0.9403\n",
      "Epoch 12/100\n",
      "8000/8000 [==============================] - 104s 13ms/sample - loss: 0.2052 - acc: 0.9406 - val_loss: 0.2122 - val_acc: 0.9387\n",
      "Epoch 13/100\n",
      "8000/8000 [==============================] - 125s 16ms/sample - loss: 0.1956 - acc: 0.9430 - val_loss: 0.2073 - val_acc: 0.9404\n",
      "Epoch 14/100\n",
      "8000/8000 [==============================] - 156s 19ms/sample - loss: 0.1866 - acc: 0.9455 - val_loss: 0.2021 - val_acc: 0.9409\n",
      "Epoch 15/100\n",
      "8000/8000 [==============================] - 120s 15ms/sample - loss: 0.1859 - acc: 0.9479 - val_loss: 0.1965 - val_acc: 0.9431\n",
      "Epoch 16/100\n",
      "8000/8000 [==============================] - 111s 14ms/sample - loss: 0.1739 - acc: 0.9493 - val_loss: 0.1955 - val_acc: 0.9434\n",
      "Epoch 17/100\n",
      "8000/8000 [==============================] - 116s 15ms/sample - loss: 0.1689 - acc: 0.9506 - val_loss: 0.1929 - val_acc: 0.9443\n",
      "Epoch 18/100\n",
      "8000/8000 [==============================] - 112s 14ms/sample - loss: 0.1651 - acc: 0.9516 - val_loss: 0.1896 - val_acc: 0.9456\n",
      "Epoch 19/100\n",
      "8000/8000 [==============================] - 109s 14ms/sample - loss: 0.1606 - acc: 0.9527 - val_loss: 0.1884 - val_acc: 0.9456\n",
      "Epoch 20/100\n",
      "8000/8000 [==============================] - 139s 17ms/sample - loss: 0.1564 - acc: 0.9542 - val_loss: 0.1875 - val_acc: 0.9456\n",
      "Epoch 21/100\n",
      "8000/8000 [==============================] - 114s 14ms/sample - loss: 0.1523 - acc: 0.9553 - val_loss: 0.1868 - val_acc: 0.9465\n",
      "Epoch 22/100\n",
      "8000/8000 [==============================] - 112s 14ms/sample - loss: 0.1491 - acc: 0.9560 - val_loss: 0.1846 - val_acc: 0.9473\n",
      "Epoch 23/100\n",
      "8000/8000 [==============================] - 112s 14ms/sample - loss: 0.1459 - acc: 0.9570 - val_loss: 0.1843 - val_acc: 0.9473\n",
      "Epoch 24/100\n",
      "8000/8000 [==============================] - 111s 14ms/sample - loss: 0.1421 - acc: 0.9582 - val_loss: 0.1838 - val_acc: 0.9479\n",
      "Epoch 25/100\n",
      "8000/8000 [==============================] - 112s 14ms/sample - loss: 0.1390 - acc: 0.9590 - val_loss: 0.1843 - val_acc: 0.9477\n",
      "Epoch 26/100\n",
      "8000/8000 [==============================] - 117s 15ms/sample - loss: 0.1359 - acc: 0.9597 - val_loss: 0.1848 - val_acc: 0.9474\n",
      "Epoch 27/100\n",
      "8000/8000 [==============================] - 119s 15ms/sample - loss: 0.1330 - acc: 0.9607 - val_loss: 0.1832 - val_acc: 0.9484\n",
      "Epoch 28/100\n",
      "8000/8000 [==============================] - 114s 14ms/sample - loss: 0.1300 - acc: 0.9615 - val_loss: 0.1833 - val_acc: 0.9483\n",
      "Epoch 29/100\n",
      "8000/8000 [==============================] - 117s 15ms/sample - loss: 0.1272 - acc: 0.9624 - val_loss: 0.1825 - val_acc: 0.9486\n",
      "Epoch 30/100\n",
      "8000/8000 [==============================] - 118s 15ms/sample - loss: 0.1245 - acc: 0.9631 - val_loss: 0.1841 - val_acc: 0.9492\n",
      "Epoch 31/100\n",
      "8000/8000 [==============================] - 121s 15ms/sample - loss: 0.1219 - acc: 0.9639 - val_loss: 0.1846 - val_acc: 0.9490\n",
      "Epoch 32/100\n",
      "8000/8000 [==============================] - 114s 14ms/sample - loss: 0.1195 - acc: 0.9645 - val_loss: 0.1854 - val_acc: 0.9488\n",
      "Epoch 33/100\n",
      "8000/8000 [==============================] - 122s 15ms/sample - loss: 0.1172 - acc: 0.9652 - val_loss: 0.1839 - val_acc: 0.9492\n",
      "Epoch 34/100\n",
      "8000/8000 [==============================] - 108s 13ms/sample - loss: 0.1152 - acc: 0.9655 - val_loss: 0.1850 - val_acc: 0.9497\n",
      "Epoch 35/100\n",
      "8000/8000 [==============================] - 95s 12ms/sample - loss: 0.1129 - acc: 0.9665 - val_loss: 0.1853 - val_acc: 0.9498\n",
      "Epoch 36/100\n",
      "8000/8000 [==============================] - 102s 13ms/sample - loss: 0.1107 - acc: 0.9670 - val_loss: 0.1844 - val_acc: 0.9497\n",
      "Epoch 37/100\n",
      "8000/8000 [==============================] - 102s 13ms/sample - loss: 0.1089 - acc: 0.9675 - val_loss: 0.1856 - val_acc: 0.9501\n",
      "Epoch 38/100\n",
      "8000/8000 [==============================] - 115s 14ms/sample - loss: 0.1067 - acc: 0.9683 - val_loss: 0.1903 - val_acc: 0.9490\n",
      "Epoch 39/100\n",
      "8000/8000 [==============================] - 123s 15ms/sample - loss: 0.1043 - acc: 0.9688 - val_loss: 0.1877 - val_acc: 0.9497\n",
      "Epoch 40/100\n",
      "8000/8000 [==============================] - 113s 14ms/sample - loss: 0.1029 - acc: 0.9692 - val_loss: 0.1871 - val_acc: 0.9504\n",
      "Epoch 41/100\n",
      "8000/8000 [==============================] - 108s 14ms/sample - loss: 0.1014 - acc: 0.9697 - val_loss: 0.1903 - val_acc: 0.9500\n",
      "Epoch 42/100\n",
      "8000/8000 [==============================] - 109s 14ms/sample - loss: 0.1006 - acc: 0.9700 - val_loss: 0.1882 - val_acc: 0.9502\n",
      "Epoch 43/100\n",
      "8000/8000 [==============================] - 106s 13ms/sample - loss: 0.0988 - acc: 0.9704 - val_loss: 0.1893 - val_acc: 0.9502\n",
      "Epoch 44/100\n",
      "8000/8000 [==============================] - 113s 14ms/sample - loss: 0.0970 - acc: 0.9710 - val_loss: 0.1899 - val_acc: 0.9508\n",
      "Epoch 45/100\n",
      "8000/8000 [==============================] - 115s 14ms/sample - loss: 0.0953 - acc: 0.9715 - val_loss: 0.1905 - val_acc: 0.9506\n",
      "Epoch 46/100\n",
      "8000/8000 [==============================] - 109s 14ms/sample - loss: 0.0938 - acc: 0.9718 - val_loss: 0.1922 - val_acc: 0.9509\n",
      "Epoch 47/100\n",
      "8000/8000 [==============================] - 108s 13ms/sample - loss: 0.0923 - acc: 0.9722 - val_loss: 0.1918 - val_acc: 0.9508\n",
      "Epoch 48/100\n",
      "8000/8000 [==============================] - 112s 14ms/sample - loss: 0.0908 - acc: 0.9727 - val_loss: 0.1924 - val_acc: 0.9507\n",
      "Epoch 49/100\n",
      "8000/8000 [==============================] - 109s 14ms/sample - loss: 0.0895 - acc: 0.9731 - val_loss: 0.1945 - val_acc: 0.9507\n",
      "Epoch 50/100\n",
      "8000/8000 [==============================] - 110s 14ms/sample - loss: 0.0879 - acc: 0.9737 - val_loss: 0.1953 - val_acc: 0.9508\n",
      "Epoch 51/100\n",
      "8000/8000 [==============================] - 117s 15ms/sample - loss: 0.0867 - acc: 0.9740 - val_loss: 0.1951 - val_acc: 0.9511\n",
      "Epoch 52/100\n",
      "8000/8000 [==============================] - 120s 15ms/sample - loss: 0.0853 - acc: 0.9743 - val_loss: 0.1951 - val_acc: 0.9511\n",
      "Epoch 53/100\n",
      "8000/8000 [==============================] - 129s 16ms/sample - loss: 0.0843 - acc: 0.9747 - val_loss: 0.1968 - val_acc: 0.9510\n",
      "Epoch 54/100\n",
      "8000/8000 [==============================] - 124s 15ms/sample - loss: 0.0838 - acc: 0.9749 - val_loss: 0.1979 - val_acc: 0.9514\n",
      "Epoch 55/100\n",
      "8000/8000 [==============================] - 112s 14ms/sample - loss: 0.0822 - acc: 0.9754 - val_loss: 0.2015 - val_acc: 0.9507\n",
      "Epoch 56/100\n",
      "8000/8000 [==============================] - 93s 12ms/sample - loss: 0.0810 - acc: 0.9757 - val_loss: 0.1991 - val_acc: 0.9509\n",
      "Epoch 57/100\n",
      "8000/8000 [==============================] - 94s 12ms/sample - loss: 0.0799 - acc: 0.9759 - val_loss: 0.2006 - val_acc: 0.9513\n",
      "Epoch 58/100\n",
      "8000/8000 [==============================] - 94s 12ms/sample - loss: 0.0788 - acc: 0.9762 - val_loss: 0.2001 - val_acc: 0.9513\n"
     ]
    },
    {
     "name": "stdout",
     "output_type": "stream",
     "text": [
      "Epoch 59/100\n",
      "8000/8000 [==============================] - 95s 12ms/sample - loss: 0.0778 - acc: 0.9765 - val_loss: 0.2022 - val_acc: 0.9511\n",
      "Epoch 60/100\n",
      "8000/8000 [==============================] - 95s 12ms/sample - loss: 0.0770 - acc: 0.9767 - val_loss: 0.2031 - val_acc: 0.9514\n",
      "Epoch 61/100\n",
      "8000/8000 [==============================] - 95s 12ms/sample - loss: 0.0761 - acc: 0.9769 - val_loss: 0.2031 - val_acc: 0.9514\n",
      "Epoch 62/100\n",
      "8000/8000 [==============================] - 95s 12ms/sample - loss: 0.0750 - acc: 0.9773 - val_loss: 0.2061 - val_acc: 0.9511\n",
      "Epoch 63/100\n",
      "8000/8000 [==============================] - 95s 12ms/sample - loss: 0.0744 - acc: 0.9775 - val_loss: 0.2049 - val_acc: 0.9513\n",
      "Epoch 64/100\n",
      "8000/8000 [==============================] - 95s 12ms/sample - loss: 0.0739 - acc: 0.9775 - val_loss: 0.2058 - val_acc: 0.9513\n",
      "Epoch 65/100\n",
      "8000/8000 [==============================] - 95s 12ms/sample - loss: 0.0726 - acc: 0.9780 - val_loss: 0.2079 - val_acc: 0.9515\n",
      "Epoch 66/100\n",
      "8000/8000 [==============================] - 95s 12ms/sample - loss: 0.0720 - acc: 0.9781 - val_loss: 0.2067 - val_acc: 0.9514\n",
      "Epoch 67/100\n",
      "8000/8000 [==============================] - 96s 12ms/sample - loss: 0.0713 - acc: 0.9782 - val_loss: 0.2076 - val_acc: 0.9514\n",
      "Epoch 68/100\n",
      "8000/8000 [==============================] - 95s 12ms/sample - loss: 0.0708 - acc: 0.9785 - val_loss: 0.2098 - val_acc: 0.9516\n",
      "Epoch 69/100\n",
      "8000/8000 [==============================] - 95s 12ms/sample - loss: 0.0698 - acc: 0.9788 - val_loss: 0.2096 - val_acc: 0.9516\n",
      "Epoch 70/100\n",
      "8000/8000 [==============================] - 95s 12ms/sample - loss: 0.0693 - acc: 0.9788 - val_loss: 0.2101 - val_acc: 0.9519\n",
      "Epoch 71/100\n",
      "8000/8000 [==============================] - 95s 12ms/sample - loss: 0.0686 - acc: 0.9790 - val_loss: 0.2104 - val_acc: 0.9521\n",
      "Epoch 72/100\n",
      "8000/8000 [==============================] - 95s 12ms/sample - loss: 0.0680 - acc: 0.9793 - val_loss: 0.2115 - val_acc: 0.9519\n",
      "Epoch 73/100\n",
      "8000/8000 [==============================] - 95s 12ms/sample - loss: 0.0674 - acc: 0.9792 - val_loss: 0.2128 - val_acc: 0.9519\n",
      "Epoch 74/100\n",
      "8000/8000 [==============================] - 95s 12ms/sample - loss: 0.0666 - acc: 0.9795 - val_loss: 0.2136 - val_acc: 0.9517\n",
      "Epoch 75/100\n",
      "8000/8000 [==============================] - 95s 12ms/sample - loss: 0.0661 - acc: 0.9798 - val_loss: 0.2142 - val_acc: 0.9518\n",
      "Epoch 76/100\n",
      "8000/8000 [==============================] - 98s 12ms/sample - loss: 0.0655 - acc: 0.9798 - val_loss: 0.2150 - val_acc: 0.9518\n",
      "Epoch 77/100\n",
      "8000/8000 [==============================] - 95s 12ms/sample - loss: 0.0650 - acc: 0.9800 - val_loss: 0.2147 - val_acc: 0.9517\n",
      "Epoch 78/100\n",
      "8000/8000 [==============================] - 95s 12ms/sample - loss: 0.0644 - acc: 0.9802 - val_loss: 0.2159 - val_acc: 0.9519\n",
      "Epoch 79/100\n",
      "8000/8000 [==============================] - 99s 12ms/sample - loss: 0.0639 - acc: 0.9802 - val_loss: 0.2183 - val_acc: 0.9520\n",
      "Epoch 80/100\n",
      "8000/8000 [==============================] - 95s 12ms/sample - loss: 0.0634 - acc: 0.9803 - val_loss: 0.2195 - val_acc: 0.9519\n",
      "Epoch 81/100\n",
      "8000/8000 [==============================] - 95s 12ms/sample - loss: 0.0628 - acc: 0.9806 - val_loss: 0.2193 - val_acc: 0.9519\n",
      "Epoch 82/100\n",
      "8000/8000 [==============================] - 95s 12ms/sample - loss: 0.0623 - acc: 0.9809 - val_loss: 0.2203 - val_acc: 0.9520\n",
      "Epoch 83/100\n",
      "8000/8000 [==============================] - 95s 12ms/sample - loss: 0.0619 - acc: 0.9808 - val_loss: 0.2200 - val_acc: 0.9521\n",
      "Epoch 84/100\n",
      "8000/8000 [==============================] - 95s 12ms/sample - loss: 0.0612 - acc: 0.9810 - val_loss: 0.2200 - val_acc: 0.9518\n",
      "Epoch 85/100\n",
      "8000/8000 [==============================] - 95s 12ms/sample - loss: 0.0609 - acc: 0.9812 - val_loss: 0.2220 - val_acc: 0.9517\n",
      "Epoch 86/100\n",
      "8000/8000 [==============================] - 95s 12ms/sample - loss: 0.0604 - acc: 0.9812 - val_loss: 0.2210 - val_acc: 0.9523\n",
      "Epoch 87/100\n",
      "8000/8000 [==============================] - 95s 12ms/sample - loss: 0.0600 - acc: 0.9812 - val_loss: 0.2237 - val_acc: 0.9522\n",
      "Epoch 88/100\n",
      "8000/8000 [==============================] - 95s 12ms/sample - loss: 0.0596 - acc: 0.9814 - val_loss: 0.2230 - val_acc: 0.9522\n",
      "Epoch 89/100\n",
      "8000/8000 [==============================] - 95s 12ms/sample - loss: 0.0590 - acc: 0.9816 - val_loss: 0.2239 - val_acc: 0.9517\n",
      "Epoch 90/100\n",
      "8000/8000 [==============================] - 95s 12ms/sample - loss: 0.0592 - acc: 0.9815 - val_loss: 0.2249 - val_acc: 0.9517\n",
      "Epoch 91/100\n",
      "8000/8000 [==============================] - 97s 12ms/sample - loss: 0.0617 - acc: 0.9812 - val_loss: 0.2249 - val_acc: 0.9522\n",
      "Epoch 92/100\n",
      "8000/8000 [==============================] - 95s 12ms/sample - loss: 0.0591 - acc: 0.9814 - val_loss: 0.2259 - val_acc: 0.9523\n",
      "Epoch 93/100\n",
      "8000/8000 [==============================] - 95s 12ms/sample - loss: 0.0587 - acc: 0.9815 - val_loss: 0.2251 - val_acc: 0.9521\n",
      "Epoch 94/100\n",
      "8000/8000 [==============================] - 95s 12ms/sample - loss: 0.0578 - acc: 0.9819 - val_loss: 0.2260 - val_acc: 0.9522\n",
      "Epoch 95/100\n",
      "8000/8000 [==============================] - 95s 12ms/sample - loss: 0.0572 - acc: 0.9821 - val_loss: 0.2267 - val_acc: 0.9521\n",
      "Epoch 96/100\n",
      "8000/8000 [==============================] - 95s 12ms/sample - loss: 0.0567 - acc: 0.9821 - val_loss: 0.2265 - val_acc: 0.9525\n",
      "Epoch 97/100\n",
      "8000/8000 [==============================] - 95s 12ms/sample - loss: 0.0559 - acc: 0.9824 - val_loss: 0.2287 - val_acc: 0.9521\n",
      "Epoch 98/100\n",
      "8000/8000 [==============================] - 95s 12ms/sample - loss: 0.0558 - acc: 0.9824 - val_loss: 0.2288 - val_acc: 0.9524\n",
      "Epoch 99/100\n",
      "8000/8000 [==============================] - 95s 12ms/sample - loss: 0.0555 - acc: 0.9825 - val_loss: 0.2297 - val_acc: 0.9522\n",
      "Epoch 100/100\n",
      "8000/8000 [==============================] - 95s 12ms/sample - loss: 0.0551 - acc: 0.9826 - val_loss: 0.2294 - val_acc: 0.9521\n"
     ]
    }
   ],
   "source": [
    "model.fit([encoder_input_data, decoder_input_data], decoder_target_data,\n",
    "          batch_size=batch_size,\n",
    "          epochs=epochs,\n",
    "          validation_split=0.2)\n",
    "# Save model\n",
    "model.save('s2s.h5')"
   ]
  },
  {
   "cell_type": "code",
   "execution_count": 52,
   "metadata": {},
   "outputs": [],
   "source": [
    "# Next: inference mode (sampling).\n",
    "# Here's the drill:\n",
    "# 1) encode input and retrieve initial decoder state\n",
    "# 2) run one step of decoder with this initial state\n",
    "# and a \"start of sequence\" token as target.\n",
    "# Output will be the next target token\n",
    "# 3) Repeat with the current target token and current states\n",
    "\n",
    "# Define sampling models\n",
    "encoder_model = Model(encoder_inputs, encoder_states)\n",
    "\n",
    "decoder_state_input_h = Input(shape=(latent_dim,))\n",
    "decoder_state_input_c = Input(shape=(latent_dim,))\n",
    "decoder_states_inputs = [decoder_state_input_h, decoder_state_input_c]\n",
    "decoder_outputs, state_h, state_c = decoder_lstm(decoder_inputs, initial_state=decoder_states_inputs)\n",
    "decoder_states = [state_h, state_c]\n",
    "decoder_outputs = decoder_dense(decoder_outputs)\n",
    "decoder_model = Model(\n",
    "    [decoder_inputs] + decoder_states_inputs,\n",
    "    [decoder_outputs] + decoder_states)"
   ]
  },
  {
   "cell_type": "code",
   "execution_count": 53,
   "metadata": {},
   "outputs": [],
   "source": [
    "# Reverse-lookup token index to decode sequences back to\n",
    "# something readable.\n",
    "reverse_input_char_index = dict(\n",
    "    (i, char) for char, i in input_token_index.items())\n",
    "reverse_target_char_index = dict(\n",
    "    (i, char) for char, i in target_token_index.items())"
   ]
  },
  {
   "cell_type": "code",
   "execution_count": 54,
   "metadata": {},
   "outputs": [],
   "source": [
    "def decode_sequence(input_seq):\n",
    "    # Encode the input as state vectors.\n",
    "    states_value = encoder_model.predict(input_seq)\n",
    "\n",
    "    # Generate empty target sequence of length 1.\n",
    "    target_seq = np.zeros((1, 1, num_decoder_tokens))\n",
    "    # Populate the first character of target sequence with the start character.\n",
    "    target_seq[0, 0, target_token_index['\\t']] = 1.\n",
    "\n",
    "    # Sampling loop for a batch of sequences\n",
    "    # (to simplify, here we assume a batch of size 1).\n",
    "    stop_condition = False\n",
    "    decoded_sentence = ''\n",
    "    while not stop_condition:\n",
    "        output_tokens, h, c = decoder_model.predict(\n",
    "            [target_seq] + states_value)\n",
    "\n",
    "        # Sample a token\n",
    "        sampled_token_index = np.argmax(output_tokens[0, -1, :])\n",
    "        sampled_char = reverse_target_char_index[sampled_token_index]\n",
    "        decoded_sentence += sampled_char\n",
    "\n",
    "        # Exit condition: either hit max length\n",
    "        # or find stop character.\n",
    "        if (sampled_char == '\\n' or\n",
    "           len(decoded_sentence) > max_decoder_seq_length):\n",
    "            stop_condition = True\n",
    "\n",
    "        # Update the target sequence (of length 1).\n",
    "        target_seq = np.zeros((1, 1, num_decoder_tokens))\n",
    "        target_seq[0, 0, sampled_token_index] = 1.\n",
    "\n",
    "        # Update states\n",
    "        states_value = [h, c]\n",
    "\n",
    "    return decoded_sentence"
   ]
  },
  {
   "cell_type": "code",
   "execution_count": 55,
   "metadata": {},
   "outputs": [],
   "source": [
    "si = 50"
   ]
  },
  {
   "cell_type": "code",
   "execution_count": 56,
   "metadata": {},
   "outputs": [
    {
     "name": "stdout",
     "output_type": "stream",
     "text": [
      "-\n",
      "Input sentence: Didn 't you get my message ?\n",
      "Decoded sentence: You didn 't see that ?\n",
      "\n"
     ]
    }
   ],
   "source": [
    "# Take one sequence (part of the training set)\n",
    "# for trying out decoding.\n",
    "input_seq = encoder_input_data[si: si + 1]\n",
    "decoded_sentence = decode_sequence(input_seq)\n",
    "print('-')\n",
    "print('Input sentence:', input_texts[si])\n",
    "print('Decoded sentence:', decoded_sentence)"
   ]
  },
  {
   "cell_type": "code",
   "execution_count": 57,
   "metadata": {},
   "outputs": [
    {
     "name": "stdout",
     "output_type": "stream",
     "text": [
      "-\n",
      "Input sentence: Jumby now wants to be born .\n",
      "Decoded sentence: Is everything ready ?\n",
      "\n",
      "-\n",
      "Input sentence: It was a difficult and long delivery .\n",
      "Decoded sentence: That was there as aboutide it .\n",
      "\n",
      "-\n",
      "Input sentence: I like to be beautiful everyday .\n",
      "Decoded sentence: I would rather die .\n",
      "\n",
      "-\n",
      "Input sentence: Bernadette wants a prenup .\n",
      "Decoded sentence: Put your seatbelt on .\n",
      "\n",
      "-\n",
      "Input sentence: Don 't say you don 't remember me .\n",
      "Decoded sentence: Don 't look at me like that .\n",
      "\n",
      "-\n",
      "Input sentence: Hyah ! Hmm .\n",
      "Decoded sentence: My father 's gone .\n",
      "\n",
      "-\n",
      "Input sentence: He believes in you .\n",
      "Decoded sentence: He won 't be coming back .\n",
      "\n",
      "-\n",
      "Input sentence: Sun 's going to come up soon .\n",
      "Decoded sentence: That 's a felon .\n",
      "\n",
      "-\n",
      "Input sentence: Mars-1 , Houston .\n",
      "Decoded sentence: The poor guy .\n",
      "\n",
      "-\n",
      "Input sentence: But we have no money .\n",
      "Decoded sentence: What about the children ?\n",
      "\n",
      "-\n",
      "Input sentence: Do you want to go first ?\n",
      "Decoded sentence: You want some help ?\n",
      "\n",
      "-\n",
      "Input sentence: I 'm not singing .\n",
      "Decoded sentence: I don 't feel very well .\n",
      "\n",
      "-\n",
      "Input sentence: Eternal life .\n",
      "Decoded sentence: There 's someone inside .\n",
      "\n",
      "-\n",
      "Input sentence: Did he commit suicide ?\n",
      "Decoded sentence: You didn 't hear ?\n",
      "\n",
      "-\n",
      "Input sentence: The war has begun .\n",
      "Decoded sentence: The war has started .\n",
      "\n",
      "-\n",
      "Input sentence: I kept my word .\n",
      "Decoded sentence: I know what you 're gonna say .\n",
      "\n",
      "-\n",
      "Input sentence: Good morning , Jack .\n",
      "Decoded sentence: Morning , sweetheart .\n",
      "\n",
      "-\n",
      "Input sentence: Are you a murderer ?\n",
      "Decoded sentence: You 're sure you 're OK ?\n",
      "\n",
      "-\n",
      "Input sentence: I 'm not sleeping well .\n",
      "Decoded sentence: I don 't feel very well .\n",
      "\n",
      "-\n",
      "Input sentence: You 're never gonna change .\n",
      "Decoded sentence: You won 't believe this .\n",
      "\n",
      "-\n",
      "Input sentence: Welcome to reality .\n",
      "Decoded sentence: We need to get outta here .\n",
      "\n",
      "-\n",
      "Input sentence: Do you wanna have kids ?\n",
      "Decoded sentence: You want some help ?\n",
      "\n",
      "-\n",
      "Input sentence: You two are coming with me .\n",
      "Decoded sentence: You should be ashamed .\n",
      "\n",
      "-\n",
      "Input sentence: I 've been promoted .\n",
      "Decoded sentence: I 've been trying to reach you .\n",
      "\n",
      "-\n",
      "Input sentence: You 'll have to die .\n",
      "Decoded sentence: You 're gonna like it .\n",
      "\n",
      "-\n",
      "Input sentence: What are you going to do with us ?\n",
      "Decoded sentence: Why are you sorry ?\n",
      "\n",
      "-\n",
      "Input sentence: I don 't have a brother .\n",
      "Decoded sentence: I have no other choice .\n",
      "\n",
      "-\n",
      "Input sentence: I 'm not signing .\n",
      "Decoded sentence: I don 't feel very well .\n",
      "\n",
      "-\n",
      "Input sentence: You 're not eating .\n",
      "Decoded sentence: You won 't believe this .\n",
      "\n",
      "-\n",
      "Input sentence: I need evidence .\n",
      "Decoded sentence: I need to go to the bathroom .\n",
      "\n",
      "-\n",
      "Input sentence: He 's got a fever .\n",
      "Decoded sentence: He 's not picking up .\n",
      "\n",
      "-\n",
      "Input sentence: I should get going , too .\n",
      "Decoded sentence: I won 't let that happen .\n",
      "\n",
      "-\n",
      "Input sentence: Want to switch ?\n",
      "Decoded sentence: You want a cup of coffee ?\n",
      "\n",
      "-\n",
      "Input sentence: They didn 't find anything .\n",
      "Decoded sentence: They won 't be back .\n",
      "\n",
      "-\n",
      "Input sentence: How could I be so blind ?\n",
      "Decoded sentence: What 's he look like ?\n",
      "\n",
      "-\n",
      "Input sentence: She 'll kill you .\n",
      "Decoded sentence: She 's gonna be okay .\n",
      "\n",
      "-\n",
      "Input sentence: Jack , can you hear me ?\n",
      "Decoded sentence: On your own ?\n",
      "\n",
      "-\n",
      "Input sentence: This will not stand , this aggression against , uh , Kuwait .\n",
      "Decoded sentence: This will not happen again .\n",
      "\n",
      "-\n",
      "Input sentence: Do you have a tissue ?\n",
      "Decoded sentence: You got a second ?\n",
      "\n",
      "-\n",
      "Input sentence: I 'll call a taxi .\n",
      "Decoded sentence: I 'm gonna go get some help .\n",
      "\n",
      "-\n",
      "Input sentence: This is our last chance .\n",
      "Decoded sentence: This will not happen again .\n",
      "\n",
      "-\n",
      "Input sentence: Am I beautiful ?\n",
      "Decoded sentence: Do what I tell you .\n",
      "\n",
      "-\n",
      "Input sentence: I 'm not working for you .\n",
      "Decoded sentence: I don 't feel very well .\n",
      "\n",
      "-\n",
      "Input sentence: It 's breakfast time .\n",
      "Decoded sentence: That 's not so easy .\n",
      "\n",
      "-\n",
      "Input sentence: I 've got two kids .\n",
      "Decoded sentence: I have to go back .\n",
      "\n",
      "-\n",
      "Input sentence: He 's choking .\n",
      "Decoded sentence: He 's not picking up .\n",
      "\n",
      "-\n",
      "Input sentence: We 're on holiday .\n",
      "Decoded sentence: We 're gonna die .\n",
      "\n",
      "-\n",
      "Input sentence: Who am I gonna tell ?\n",
      "Decoded sentence: Who would have thought it ?\n",
      "\n",
      "-\n",
      "Input sentence: How many children do you have ?\n",
      "Decoded sentence: How many of you are there ?\n",
      "\n",
      "-\n",
      "Input sentence: But I 'll be back .\n",
      "Decoded sentence: Put your belt on .\n",
      "\n",
      "-\n",
      "Input sentence: Didn 't you get my message ?\n",
      "Decoded sentence: You didn 't see that ?\n",
      "\n",
      "-\n",
      "Input sentence: It 's three in the morning .\n",
      "Decoded sentence: That 's not so easy .\n",
      "\n",
      "-\n",
      "Input sentence: How much do you have left ?\n",
      "Decoded sentence: How many of you are there ?\n",
      "\n",
      "-\n",
      "Input sentence: You 're miserable .\n",
      "Decoded sentence: You 're gonna like it .\n",
      "\n",
      "-\n",
      "Input sentence: He 's a lawyer .\n",
      "Decoded sentence: He 's gonna be fine .\n",
      "\n",
      "-\n",
      "Input sentence: Will you tell her ?\n",
      "Decoded sentence: You gonna come back ?\n",
      "\n",
      "-\n",
      "Input sentence: She 's fainted .\n",
      "Decoded sentence: She 's a monster .\n",
      "\n",
      "-\n",
      "Input sentence: We know everything .\n",
      "Decoded sentence: We have to get outta here .\n",
      "\n",
      "-\n",
      "Input sentence: He 's a criminal .\n",
      "Decoded sentence: He 's not picking up .\n",
      "\n",
      "-\n",
      "Input sentence: The witness may step down .\n",
      "Decoded sentence: The war has started .\n",
      "\n",
      "-\n",
      "Input sentence: Anchors aweigh .\n",
      "Decoded sentence: On your sweet .\n",
      "\n",
      "-\n",
      "Input sentence: Nothing 's going to happen to me .\n",
      "Decoded sentence: Nothing will happen .\n",
      "\n",
      "-\n",
      "Input sentence: They 'll find you .\n",
      "Decoded sentence: They 're going to find us .\n",
      "\n",
      "-\n",
      "Input sentence: I 'll see you in a couple of days .\n",
      "Decoded sentence: I 'll take the risk .\n",
      "\n",
      "-\n",
      "Input sentence: She 's coming over here .\n",
      "Decoded sentence: She 's gonna be okay .\n",
      "\n",
      "-\n",
      "Input sentence: Since just before i started pretending i loved it .\n",
      "Decoded sentence: Sound familiar ?\n",
      "\n",
      "-\n",
      "Input sentence: It 's nice being married , eh ?\n",
      "Decoded sentence: It 's nothing to be ent .\n",
      "\n",
      "-\n",
      "Input sentence: He is not dead what can to sleep eternally .\n",
      "Decoded sentence: He won 't be coming back .\n",
      "\n",
      "-\n",
      "Input sentence: I 'm a fast learner .\n",
      "Decoded sentence: I 'm sorry , honey .\n",
      "\n",
      "-\n",
      "Input sentence: Turn off the music .\n",
      "Decoded sentence: Turn the mamered .\n",
      "\n",
      "-\n",
      "Input sentence: I 'll kill you both .\n",
      "Decoded sentence: I 'm gonna go get some help .\n",
      "\n",
      "-\n",
      "Input sentence: I had everything under control .\n",
      "Decoded sentence: I have to go back .\n",
      "\n",
      "-\n",
      "Input sentence: They 'll find you .\n",
      "Decoded sentence: They 're going to find us .\n",
      "\n",
      "-\n",
      "Input sentence: I 'll sleep on the couch .\n",
      "Decoded sentence: I 'll take the risk .\n",
      "\n",
      "-\n",
      "Input sentence: This doesn 't prove anything .\n",
      "Decoded sentence: This will not happen again .\n",
      "\n",
      "-\n",
      "Input sentence: Godfreys , uh , get what they want .\n",
      "Decoded sentence: Please , gentlemen .\n",
      "\n",
      "-\n",
      "Input sentence: BETH ON TAPE :\n",
      "Decoded sentence: Put your hands behind your head .\n",
      "\n",
      "-\n",
      "Input sentence: Who owns the car ?\n",
      "Decoded sentence: Who would have thought it ?\n",
      "\n",
      "-\n",
      "Input sentence: Don 't turn on the lights .\n",
      "Decoded sentence: You don 't recognize me ?\n",
      "\n",
      "-\n",
      "Input sentence: How many kids do you have ?\n",
      "Decoded sentence: How many of you are there ?\n",
      "\n",
      "-\n",
      "Input sentence: In theory , yes .\n",
      "Decoded sentence: In the name of the Father , the Son and the Holy Spirit .\n",
      "\n",
      "-\n",
      "Input sentence: Been waiting long ?\n",
      "Decoded sentence: On whose authority ?\n",
      "\n",
      "-\n",
      "Input sentence: I 'm going to be a dad .\n",
      "Decoded sentence: I 'm gonna go get some coffee .\n",
      "\n",
      "-\n",
      "Input sentence: I am not leaving him .\n",
      "Decoded sentence: I won 't let that happen .\n",
      "\n",
      "-\n",
      "Input sentence: You hesitated .\n",
      "Decoded sentence: You may rely on me .\n",
      "\n",
      "-\n",
      "Input sentence: I 'd rather stand .\n",
      "Decoded sentence: I 've been trying to reach you .\n",
      "\n",
      "-\n",
      "Input sentence: It stopped raining .\n",
      "Decoded sentence: The rain stopped .\n",
      "\n",
      "-\n",
      "Input sentence: You want evidence ?\n",
      "Decoded sentence: You did your best .\n",
      "\n",
      "-\n",
      "Input sentence: Where 's the evidence ?\n",
      "Decoded sentence: Where do you want me to start ?\n",
      "\n",
      "-\n",
      "Input sentence: After the war , there 'll be mother for each survivor .\n",
      "Decoded sentence: Do you need something ?\n",
      "\n",
      "-\n",
      "Input sentence: You can be walking around lucky and not know it .\n",
      "Decoded sentence: You did your best .\n",
      "\n",
      "-\n",
      "Input sentence: Recurrent spontaneous psychokinesis .\n",
      "Decoded sentence: State your meat .\n",
      "\n",
      "-\n",
      "Input sentence: My older brother always says the nastiest shit .\n",
      "Decoded sentence: My father 's gone .\n",
      "\n",
      "-\n",
      "Input sentence: I 'll give you an extra $ 20 for a blowjob .\n",
      "Decoded sentence: I 'm gonna go get some help .\n",
      "\n",
      "-\n",
      "Input sentence: I kept hoping he 'd make it back .\n",
      "Decoded sentence: I know what you 're gonna do .\n",
      "\n",
      "-\n",
      "Input sentence: Get the fuck out and don 't come back .\n",
      "Decoded sentence: Put your hands behind your head .\n",
      "\n",
      "-\n",
      "Input sentence: Comanches call it Tahnimara .\n",
      "Decoded sentence: Come and get me .\n",
      "\n"
     ]
    },
    {
     "name": "stdout",
     "output_type": "stream",
     "text": [
      "-\n",
      "Input sentence: A drop of dew and the clock struck two .\n",
      "Decoded sentence: And what happened then ?\n",
      "\n",
      "-\n",
      "Input sentence: We have evidence .\n",
      "Decoded sentence: We have to get outta here .\n",
      "\n",
      "-\n",
      "Input sentence: He 's in critical condition .\n",
      "Decoded sentence: He won 't be back .\n",
      "\n"
     ]
    }
   ],
   "source": [
    "for seq_index in range(100):\n",
    "    # Take one sequence (part of the training set)\n",
    "    # for trying out decoding.\n",
    "    input_seq = encoder_input_data[seq_index: seq_index + 1]\n",
    "    decoded_sentence = decode_sequence(input_seq)\n",
    "    print('-')\n",
    "    print('Input sentence:', input_texts[seq_index])\n",
    "    print('Decoded sentence:', decoded_sentence)"
   ]
  },
  {
   "cell_type": "code",
   "execution_count": null,
   "metadata": {},
   "outputs": [],
   "source": []
  }
 ],
 "metadata": {
  "kernelspec": {
   "display_name": "Python 3",
   "language": "python",
   "name": "python3"
  },
  "language_info": {
   "codemirror_mode": {
    "name": "ipython",
    "version": 3
   },
   "file_extension": ".py",
   "mimetype": "text/x-python",
   "name": "python",
   "nbconvert_exporter": "python",
   "pygments_lexer": "ipython3",
   "version": "3.7.6"
  }
 },
 "nbformat": 4,
 "nbformat_minor": 4
}
