{
 "cells": [
  {
   "cell_type": "code",
   "execution_count": 1,
   "metadata": {},
   "outputs": [],
   "source": [
    "from IPython.display import Image"
   ]
  },
  {
   "cell_type": "markdown",
   "metadata": {},
   "source": [
    "* У мене вийшов не зовсім чистий тренувальний корпус.  Spacy помилково розпарсив багато речень з прямою мовою. Якусь частину таких багів я виправила (просто не додавала такі речення до датасету), але треба було більше приділити уваги постпроцесінгу.\n",
    "\n",
    "На фото - приклад такого помилкового парсингу. Кожен новий рядок - це нове речення (за версією spacy)"
   ]
  },
  {
   "cell_type": "markdown",
   "metadata": {},
   "source": [
    "![title](screenshot.png)\n"
   ]
  },
  {
   "cell_type": "markdown",
   "metadata": {},
   "source": [
    "* Я трохи запізно почала робити свої нграми, тому не встигла почистити їх. наприклад, треба було нормалізувати види кінцевої пунктуації до крапки (\"cat\" \"?\") -> (\"cat\" \".\")"
   ]
  },
  {
   "cell_type": "markdown",
   "metadata": {},
   "source": [
    "* Також, це дуже дивно, але додавання різних типів нграм (pos, lemma, word, dep) погіршили якість передбачення ~ на 10%. У мене нема ніякого іншого пояснення цьому, крім того, що зібраних біграм могло виявитися недостатньо. Біграми збиралися на 3.100.000 реченнях"
   ]
  },
  {
   "cell_type": "markdown",
   "metadata": {},
   "source": [
    "* Треба було використати більше лінгвістичних фіч (глибина дерева, взяти більше сусідів зліва/права), але функція яка збирає фічі працювала близько 2 годин, і вже просто не було часу на порівняння результатів з додатковими фічами"
   ]
  },
  {
   "cell_type": "markdown",
   "metadata": {},
   "source": [
    "* Не додаю до домашнього завдання файли з нграмами, так як вони завеликі для гіта"
   ]
  }
 ],
 "metadata": {
  "kernelspec": {
   "display_name": "Python 3",
   "language": "python",
   "name": "python3"
  },
  "language_info": {
   "codemirror_mode": {
    "name": "ipython",
    "version": 3
   },
   "file_extension": ".py",
   "mimetype": "text/x-python",
   "name": "python",
   "nbconvert_exporter": "python",
   "pygments_lexer": "ipython3",
   "version": "3.7.2"
  }
 },
 "nbformat": 4,
 "nbformat_minor": 2
}
