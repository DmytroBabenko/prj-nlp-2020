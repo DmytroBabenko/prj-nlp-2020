{
 "cells": [
  {
   "cell_type": "code",
   "execution_count": 1,
   "metadata": {},
   "outputs": [],
   "source": [
    "import sklearn_crfsuite\n",
    "import json\n",
    "import pickle\n",
    "from sklearn_crfsuite import metrics\n",
    "from sklearn.metrics import classification_report\n",
    "from sklearn.linear_model import LogisticRegression\n",
    "from sklearn.feature_extraction import DictVectorizer\n",
    "import spacy\n",
    "nlp = spacy.load(\"en_core_web_md\", disable = 'ner')"
   ]
  },
  {
   "cell_type": "code",
   "execution_count": 2,
   "metadata": {},
   "outputs": [],
   "source": [
    "with open('test_data/run-on-test.json') as f:\n",
    "    test_data = json.load(f)\n",
    "\n",
    "with (open(\"train_labels.pickle\", \"rb\")) as openfile:\n",
    "    train_labels = pickle.load(openfile)\n",
    "    \n",
    "with (open(\"train_tokens.pickle\", \"rb\")) as openfile:\n",
    "    train_tokens = pickle.load(openfile)"
   ]
  },
  {
   "cell_type": "code",
   "execution_count": 3,
   "metadata": {},
   "outputs": [],
   "source": [
    "test_tokens = [[pair[0] for pair in sentence] for sentence in test_data]\n",
    "test_labels = [[str(pair[1]) for pair in sentence] for sentence in test_data]\n",
    "\n",
    "test_labels_flat = [item for sublist in test_labels for item in sublist]"
   ]
  },
  {
   "cell_type": "code",
   "execution_count": 4,
   "metadata": {},
   "outputs": [],
   "source": [
    "def classify_data (train_features_flat, train_labels_flat, test_features_flat):\n",
    "\n",
    "    vec = DictVectorizer()\n",
    "    X = vec.fit_transform(train_features_flat)\n",
    "    clf = LogisticRegression(solver = 'sag',random_state=0).fit(X, train_labels_flat)\n",
    "    y_pred = clf.predict(vec.transform(test_features_flat))\n",
    "    return classification_report(test_labels_flat, y_pred, digits =4)\n"
   ]
  },
  {
   "cell_type": "markdown",
   "metadata": {},
   "source": [
    "## Baseline"
   ]
  },
  {
   "cell_type": "markdown",
   "metadata": {},
   "source": [
    "##### За бейзлайн я взяла ознаку написання наступного слова з великої букви. Тобто якшо після поточного токена йде слово з великої букви, то поточний токен - кінець речення."
   ]
  },
  {
   "cell_type": "markdown",
   "metadata": {},
   "source": [
    "##### На жаль, використовую логрегресію. Планувала робити класифікацію на CRF, але він повертав мені 0 правильних передбачених випадків для класу True. Очевидно, що я десь помилилася, але не змогла знайти помилку("
   ]
  },
  {
   "cell_type": "code",
   "execution_count": 9,
   "metadata": {},
   "outputs": [],
   "source": [
    "def word2features (sent, i):\n",
    "    features = dict()\n",
    "    if i == 0:\n",
    "        features['next_w_is_capitalized'] = 0\n",
    "    elif i < len(sent) - 1:\n",
    "        features['next_w_is_capitalized'] = 1 if sent[i + 1][0].isupper() else 0\n",
    "    else:\n",
    "        features['next_w_is_capitalized'] = 1\n",
    "    \n",
    "    return features\n",
    "\n",
    "def sent2features(sent):\n",
    "    return [word2features(sent, i) for i in range(len(sent))]"
   ]
  },
  {
   "cell_type": "code",
   "execution_count": 10,
   "metadata": {},
   "outputs": [],
   "source": [
    "train_features = [sent2features(sent) for sent in train_tokens]\n",
    "test_features = [sent2features(sent) for sent in test_tokens]\n",
    "\n",
    "test_features_flat = [item for sublist in test_features for item in sublist]\n",
    "train_features_flat = [item for sublist in train_features for item in sublist]\n",
    "train_labels_flat  = [item for sublist in train_labels for item in sublist]"
   ]
  },
  {
   "cell_type": "code",
   "execution_count": 11,
   "metadata": {},
   "outputs": [
    {
     "name": "stdout",
     "output_type": "stream",
     "text": [
      "              precision    recall  f1-score   support\n",
      "\n",
      "       False     0.9810    0.9071    0.9426      4542\n",
      "        True     0.1509    0.4839    0.2301       155\n",
      "\n",
      "    accuracy                         0.8931      4697\n",
      "   macro avg     0.5659    0.6955    0.5863      4697\n",
      "weighted avg     0.9536    0.8931    0.9191      4697\n",
      "\n"
     ]
    }
   ],
   "source": [
    "print(classify_data(train_features_flat, train_labels_flat, test_features_flat))\n"
   ]
  },
  {
   "cell_type": "markdown",
   "metadata": {},
   "source": [
    "## Improved"
   ]
  },
  {
   "cell_type": "code",
   "execution_count": 12,
   "metadata": {},
   "outputs": [],
   "source": [
    "with (open(\"bigrams-1/bigrams.pickle\", \"rb\")) as openfile:\n",
    "    word_bigrams = pickle.load(openfile)\n",
    "\n",
    "with (open(\"bigrams-1/lemma_bigrams.pickle\", \"rb\")) as openfile:\n",
    "    lemma_bigrams = pickle.load(openfile)\n",
    "\n",
    "with (open(\"bigrams-1/pos_bigrams.pickle\", \"rb\")) as openfile:\n",
    "    pos_bigrams = pickle.load(openfile)\n",
    "\n",
    "with (open(\"bigrams-1/tag_bigrams.pickle\", \"rb\")) as openfile:\n",
    "    tag_bigrams = pickle.load(openfile)\n",
    "    \n",
    "with (open(\"bigrams-1/dep_bigrams.pickle\", \"rb\")) as openfile:\n",
    "    dep_bigrams = pickle.load(openfile)"
   ]
  },
  {
   "cell_type": "code",
   "execution_count": 18,
   "metadata": {},
   "outputs": [],
   "source": [
    "def extract_ling_features (sentence):\n",
    "    \n",
    "    pos_tags,lemmas, deps, tags  = [], [], [], []\n",
    "    sentence = ' '.join(sentence)\n",
    "    sentence = nlp(sentence)\n",
    "    \n",
    "    for token in sentence:\n",
    "        pos_tags.append(token.pos_)\n",
    "        lemmas.append(token.lemma_)\n",
    "        deps.append(token.dep_)\n",
    "        tags.append(token.tag_)\n",
    "        \n",
    "    return (pos_tags, deps, lemmas, tags)\n",
    "\n",
    "def compare_ngrams (token, next_token, bigram_container):\n",
    "    \n",
    "    freq_1 = bigram_container.get((token, next_token), 0)\n",
    "    freq_2 = bigram_container.get((token, '.'), 0)\n",
    "    freq_3 = bigram_container.get(('<S>', next_token), 0)\n",
    "    if (freq_1 > freq_2) and (freq_1 > freq_3):\n",
    "        return True\n",
    "    else:\n",
    "        return False\n",
    "\n",
    "def word2features (sent, i):\n",
    "    features = dict()\n",
    "    \n",
    "    ling_features = extract_ling_features(sent)\n",
    "    \n",
    "    features['pos'] = ling_features[0][i]\n",
    "    features['dep'] = ling_features[1][i]\n",
    "    features['lemma'] = ling_features[2][i].lower()\n",
    "    features['tag'] = ling_features[3][i]\n",
    "    \n",
    "    if i == 0:\n",
    "        \n",
    "        features['next_w_is_capitalized'] = 0\n",
    "#         features['word_bigrams'] = compare_ngrams(sent[i].lower(), sent[i+1].lower(), word_bigrams)\n",
    "#         features['pos_bigrams'] = compare_ngrams(features['pos'], ling_features[0][i+1], pos_bigrams)\n",
    "#         features['lemma_bigrams'] = compare_ngrams(features['lemma'], ling_features[2][i+1].lower(), lemma_bigrams)\n",
    "#         features['tag_bigrams'] = compare_ngrams(features['tag'], ling_features[3][i+1], tag_bigrams)\n",
    "#         features['dep_bigrams'] = compare_ngrams(features['dep'], ling_features[2][i+1], dep_bigrams)\n",
    "\n",
    "    elif i < len(sent) - 1:\n",
    "        \n",
    "        features['next_w_is_capitalized'] = 1 if sent[i + 1][0].isupper() else 0\n",
    "#         features['word_bigrams'] = compare_ngrams(sent[i].lower(), sent[i+1].lower(), word_bigrams)\n",
    "#         features['pos_bigrams'] = compare_ngrams(features['pos'], ling_features[0][i+1], pos_bigrams)\n",
    "#         features['lemma_bigrams'] = compare_ngrams(features['lemma'], ling_features[2][i+1].lower(), lemma_bigrams)\n",
    "#         features['tag_bigrams'] = compare_ngrams(features['tag'], ling_features[3][i+1], tag_bigrams)\n",
    "#         features['dep_bigrams'] = compare_ngrams(features['dep'], ling_features[2][i+1], dep_bigrams)\n",
    "        \n",
    "    else:\n",
    "        features['next_w_is_capitalized'] = 1\n",
    "    \n",
    "    return features\n",
    "\n",
    "def sent2features(sent):\n",
    "    return [word2features(sent, i) for i in range(len(sent))]\n",
    "\n",
    "train_features_1 = [sent2features(sent) for sent in train_tokens]\n",
    "test_features_1 = [sent2features(sent) for sent in test_tokens]\n",
    "\n",
    "test_features_flat_1 = [item for sublist in test_features_1 for item in sublist]\n",
    "train_features_flat_1 = [item for sublist in train_features_1 for item in sublist]\n",
    "train_labels_flat_1  = [item for sublist in train_labels for item in sublist]"
   ]
  },
  {
   "cell_type": "markdown",
   "metadata": {},
   "source": [
    "#### Мій найкращий результат - комбінація лінгвістичних фіч без нграм"
   ]
  },
  {
   "cell_type": "code",
   "execution_count": 117,
   "metadata": {},
   "outputs": [
    {
     "name": "stdout",
     "output_type": "stream",
     "text": [
      "              precision    recall  f1-score   support\n",
      "\n",
      "       False     0.9815    0.9828    0.9822      4542\n",
      "        True     0.4765    0.4581    0.4671       155\n",
      "\n",
      "    accuracy                         0.9655      4697\n",
      "   macro avg     0.7290    0.7204    0.7246      4697\n",
      "weighted avg     0.9649    0.9655    0.9652      4697\n",
      "\n"
     ]
    },
    {
     "name": "stderr",
     "output_type": "stream",
     "text": [
      "/Users/valeria/anaconda3/lib/python3.7/site-packages/sklearn/linear_model/sag.py:337: ConvergenceWarning: The max_iter was reached which means the coef_ did not converge\n",
      "  \"the coef_ did not converge\", ConvergenceWarning)\n"
     ]
    }
   ],
   "source": [
    "print(classify_data(train_features_flat_1, train_labels_flat_1, test_features_flat_1))\n"
   ]
  },
  {
   "cell_type": "markdown",
   "metadata": {},
   "source": [
    "#### Результат з нграмами різних типів - якість падає на 10%"
   ]
  },
  {
   "cell_type": "code",
   "execution_count": 19,
   "metadata": {},
   "outputs": [
    {
     "name": "stdout",
     "output_type": "stream",
     "text": [
      "              precision    recall  f1-score   support\n",
      "\n",
      "       False     0.9809    0.9478    0.9641      4542\n",
      "        True     0.2305    0.4581    0.3067       155\n",
      "\n",
      "    accuracy                         0.9317      4697\n",
      "   macro avg     0.6057    0.7029    0.6354      4697\n",
      "weighted avg     0.9561    0.9317    0.9424      4697\n",
      "\n"
     ]
    },
    {
     "name": "stderr",
     "output_type": "stream",
     "text": [
      "/Users/valeria/anaconda3/lib/python3.7/site-packages/sklearn/linear_model/sag.py:337: ConvergenceWarning: The max_iter was reached which means the coef_ did not converge\n",
      "  \"the coef_ did not converge\", ConvergenceWarning)\n"
     ]
    }
   ],
   "source": [
    "print(classify_data(train_features_flat_1, train_labels_flat_1, test_features_flat_1))\n"
   ]
  },
  {
   "cell_type": "code",
   "execution_count": null,
   "metadata": {},
   "outputs": [],
   "source": []
  }
 ],
 "metadata": {
  "kernelspec": {
   "display_name": "Python 3",
   "language": "python",
   "name": "python3"
  },
  "language_info": {
   "codemirror_mode": {
    "name": "ipython",
    "version": 3
   },
   "file_extension": ".py",
   "mimetype": "text/x-python",
   "name": "python",
   "nbconvert_exporter": "python",
   "pygments_lexer": "ipython3",
   "version": "3.7.2"
  }
 },
 "nbformat": 4,
 "nbformat_minor": 2
}
