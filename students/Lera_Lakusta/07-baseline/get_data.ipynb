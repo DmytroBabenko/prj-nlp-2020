{
 "cells": [
  {
   "cell_type": "code",
   "execution_count": 1,
   "metadata": {},
   "outputs": [],
   "source": [
    "import requests\n",
    "import json\n",
    "import time\n",
    "import os\n",
    "from pathlib import Path\n",
    "from os import mkdir\n",
    "import youtube_dl"
   ]
  },
  {
   "cell_type": "markdown",
   "metadata": {},
   "source": [
    "##### Завантажую аудіо зі списків відтворення у Ютуб"
   ]
  },
  {
   "cell_type": "code",
   "execution_count": 25,
   "metadata": {},
   "outputs": [],
   "source": [
    "links = ['https://www.youtube.com/watch?v=eQ0hl7y1leU&list=PL1neMztLSbMMKbdNsHuwor7JQ02aKYVQn',\n",
    "'https://www.youtube.com/watch?v=PEBaZSXVngQ&list=PL1neMztLSbMNYWEfQIyaAummnEVXMZLSI',\n",
    "'https://www.youtube.com/watch?v=fmDqPVLPTWM&list=PL1neMztLSbMOnPCMvVW95dc7GIFE-xpvR',\n",
    "'https://www.youtube.com/watch?v=GXIw1w3EYYU&list=PL1neMztLSbMPHZJg5NVR5NtvebNCOwG_F']\n",
    "\n",
    "\n",
    "ydl_opts = { 'format': 'bestaudio[ext=m4a]',\n",
    "            'match_filter': youtube_dl.utils.match_filter_func(\"duration < 180\"),\n",
    "            'outtmpl': 'data/raw/%(playlist)s/%(playlist_index)s - %(title)s.%(ext)s' }\n",
    "\n",
    "\n",
    "with youtube_dl.YoutubeDL(ydl_opts) as ydl:\n",
    "    for link in links:\n",
    "        ydl.download([link])    "
   ]
  },
  {
   "cell_type": "markdown",
   "metadata": {},
   "source": [
    "##### Відправляю аудіо на сервер speech2text"
   ]
  },
  {
   "cell_type": "code",
   "execution_count": 2,
   "metadata": {},
   "outputs": [],
   "source": [
    "def wav_to_text (path):\n",
    "    print(path)\n",
    "    auth = (\"lakusta\", \"4d4RAQc6\") \n",
    "\n",
    "    with open(path, 'rb') as f:\n",
    "                \n",
    "        post_data = {'submit': 'yes', 'lang': 'uk_ua'}\n",
    "\n",
    "        response = requests.post(\"https://api.audionomic.com/v0.1/\", \n",
    "                            auth = auth,\n",
    "                            data = post_data, \n",
    "                            files = {'audiofile': f})\n",
    "        print(response.text)\n",
    "\n",
    "        url_w_punct = response.text.strip().replace('final.html', 'punct.html')\n",
    "        text = requests.get(url_w_punct, auth = auth).text\n",
    "\n",
    "        while text.startswith('Still recognizing'):\n",
    "            time.sleep(10)\n",
    "            text = requests.get(url_w_punct, auth=auth).text\n",
    "                       \n",
    "    return text"
   ]
  },
  {
   "cell_type": "code",
   "execution_count": null,
   "metadata": {},
   "outputs": [],
   "source": [
    "#looping over files in directories recursively\n",
    "for path in Path('data/wav/').rglob('*.wav'):\n",
    "\n",
    "    text = wav_to_text(path)\n",
    "    dir_name = path.parts[2]\n",
    "    file_name = path.parts[3].replace('wav','txt')\n",
    "    if not os.path.exists(f'data/text_punct/{dir_name}'):\n",
    "        mkdir(f'data/text_punct/{dir_name}')\n",
    "    with open(f'data/text_punct/{dir_name}/{file_name}', 'w+') as f:\n",
    "        f.write(text)\n",
    "        "
   ]
  }
 ],
 "metadata": {
  "kernelspec": {
   "display_name": "Python 3",
   "language": "python",
   "name": "python3"
  },
  "language_info": {
   "codemirror_mode": {
    "name": "ipython",
    "version": 3
   },
   "file_extension": ".py",
   "mimetype": "text/x-python",
   "name": "python",
   "nbconvert_exporter": "python",
   "pygments_lexer": "ipython3",
   "version": "3.7.2"
  }
 },
 "nbformat": 4,
 "nbformat_minor": 2
}
