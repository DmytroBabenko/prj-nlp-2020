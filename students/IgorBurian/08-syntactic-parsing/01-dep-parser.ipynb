{
 "cells": [
  {
   "cell_type": "markdown",
   "metadata": {},
   "source": [
    "# Практична робота"
   ]
  },
  {
   "cell_type": "markdown",
   "metadata": {},
   "source": [
    "## 1. Проглянути дані"
   ]
  },
  {
   "cell_type": "code",
   "execution_count": 4,
   "metadata": {},
   "outputs": [],
   "source": [
    "from conllu import parse\n",
    "from collections import OrderedDict\n",
    "\n",
    "PATH = 'UD_Ukrainian-IU'\n",
    "\n",
    "def load_treebank(file):\n",
    "    with open(PATH + '/' + file) as f:\n",
    "        data = f.read()\n",
    "\n",
    "    return parse(data)\n",
    "    \n",
    "train_trees = load_treebank('uk_iu-ud-train.conllu')\n",
    "test_trees = load_treebank('uk_iu-ud-dev.conllu')"
   ]
  },
  {
   "cell_type": "code",
   "execution_count": 2,
   "metadata": {},
   "outputs": [
    {
     "data": {
      "text/plain": [
       "[(2, 1),\n",
       " (6, 2),\n",
       " (4, 3),\n",
       " (2, 4),\n",
       " (4, 5),\n",
       " (0, 6),\n",
       " (8, 7),\n",
       " (6, 8),\n",
       " (10, 9),\n",
       " (8, 10),\n",
       " (10, 11),\n",
       " (13, 12),\n",
       " (11, 13),\n",
       " (6, 14)]"
      ]
     },
     "execution_count": 2,
     "metadata": {},
     "output_type": "execute_result"
    }
   ],
   "source": [
    "ROOT = OrderedDict([('id', 0), ('form', 'ROOT'), ('lemma', 'ROOT'), ('upostag', 'ROOT'),\n",
    "                    ('xpostag', None), ('feats', None), ('head', None), ('deprel', None),\n",
    "                    ('deps', None), ('misc', None)])\n",
    "\n",
    "def print_tree(tree):\n",
    "    for node in tree:\n",
    "        head = node['head']\n",
    "        print('{} <-- {}'.format(node['form'], tree[head - 1]['form'] if head > 0 else 'root'))\n",
    "\n",
    "def golden_rels(tree):\n",
    "    relations = []\n",
    "    for node in tree:\n",
    "        head = node['head']\n",
    "        relations.append((tree[head - 1]['id'] if head > 0 else 0, node['id']))\n",
    "    return relations\n",
    "\n",
    "tree = train_trees[0]\n",
    "golden_rels(tree)"
   ]
  },
  {
   "cell_type": "code",
   "execution_count": 3,
   "metadata": {},
   "outputs": [
    {
     "data": {
      "text/plain": [
       "OrderedDict([('id', 1),\n",
       "             ('form', 'У'),\n",
       "             ('lemma', 'у'),\n",
       "             ('upostag', 'ADP'),\n",
       "             ('xpostag', 'Spsl'),\n",
       "             ('feats', OrderedDict([('Case', 'Loc')])),\n",
       "             ('head', 2),\n",
       "             ('deprel', 'case'),\n",
       "             ('deps', [('case', 2)]),\n",
       "             ('misc',\n",
       "              OrderedDict([('Id', '0003'),\n",
       "                           ('LTranslit', 'u'),\n",
       "                           ('Translit', 'U')]))])"
      ]
     },
     "execution_count": 3,
     "metadata": {},
     "output_type": "execute_result"
    }
   ],
   "source": [
    "tree[0]"
   ]
  },
  {
   "cell_type": "markdown",
   "metadata": {},
   "source": [
    "## 2. Побудувати статичного оракула, який визначає послідовність дій для побудови дерева\n",
    "\n",
    "#### Визначення дій:\n",
    "- якщо черга порожня, REDUCE\n",
    "- якщо є залежність від вершини стеку до вершини черги, RIGHT\n",
    "- якщо є залежність від вершини черги до вершини стеку, LEFT\n",
    "- якщо вершина стеку вже має батька:\n",
    "    - якщо вершина черги має інші залежності серед елементів стеку, REDUCE\n",
    "    - в іншому випадку, SHIFT\n",
    "- в іншому випадку, SHIFT"
   ]
  },
  {
   "cell_type": "code",
   "execution_count": 33,
   "metadata": {},
   "outputs": [],
   "source": [
    "SHIFT = \"shift\"\n",
    "REDUCE = \"reduce\"\n",
    "RIGHT = \"right\"\n",
    "LEFT = \"left\"\n",
    "\n",
    "def is_left_arc(top_stack, top_queue):\n",
    "    return top_stack['head'] == top_queue['id']\n",
    "\n",
    "def it_right_arc(top_stack, top_queue):\n",
    "    return top_queue['head'] == top_stack['id']\n",
    "\n",
    "def has_parent(item, relations):\n",
    "    return item['id'] in [r[0] for r in relations]\n",
    "\n",
    "def has_head_in_stack(top_queue, stack):\n",
    "    return (top_queue['head'] < stack[-1]['id'] or \\\n",
    "            next((s for s in stack if s['head'] == top_queue['id']), None))\n",
    "\n",
    "def oracle(stack, queue, relations):\n",
    "    top_stack = stack[-1]\n",
    "    top_queue = queue[0] if queue else None\n",
    "    \n",
    "    if not top_queue:\n",
    "        return REDUCE\n",
    "    elif is_left_arc(top_stack, top_queue):\n",
    "        return LEFT\n",
    "    elif it_right_arc(top_stack, top_queue):\n",
    "        return RIGHT\n",
    "    elif has_parent(top_stack, relations) and \\\n",
    "         has_head_in_stack(top_queue, stack):\n",
    "        return REDUCE\n",
    "    else:\n",
    "        return SHIFT"
   ]
  },
  {
   "cell_type": "markdown",
   "metadata": {},
   "source": [
    "#### Застосування дій на дереві:\n",
    "- SHIFT - перенести вершину черги у стек\n",
    "- RIGHT - проставити залежність від вершини стеку до вершини черги і перенести вершину черги у стек\n",
    "- LEFT - проставити залежність від вершини черги до вершини стеку і видалити вершину стеку\n",
    "- REDUCE - видалити вершину стеку"
   ]
  },
  {
   "cell_type": "code",
   "execution_count": 33,
   "metadata": {},
   "outputs": [],
   "source": [
    "def apply(action, stack, queue, relations):\n",
    "    if action == SHIFT:\n",
    "        stack.append(queue.pop(0))\n",
    "    elif action == RIGHT:\n",
    "        relations.append((queue[0]['id'], stack[-1]['id']))\n",
    "        stack.append(queue.pop(0))\n",
    "    elif action == LEFT:\n",
    "        relations.append((stack[-1]['id'], queue[0]['id']))\n",
    "        stack.pop()\n",
    "    elif action == REDUCE:\n",
    "        stack.pop()\n",
    "    else:\n",
    "        raise 'unknown action'\n",
    "\n",
    "def traverse(tree):\n",
    "    stack, queue, relations = [ROOT], tree[:], []\n",
    "\n",
    "    while queue or stack:\n",
    "        action = oracle(stack, queue, relations)\n",
    "            \n",
    "        yield(stack, queue, relations, action)\n",
    "\n",
    "        apply(action, stack, queue, relations)"
   ]
  },
  {
   "cell_type": "code",
   "execution_count": 12,
   "metadata": {},
   "outputs": [
    {
     "name": "stdout",
     "output_type": "stream",
     "text": [
      "shift\n",
      "left\n",
      "shift\n",
      "shift\n",
      "left\n",
      "right\n",
      "right\n",
      "reduce\n",
      "reduce\n",
      "left\n",
      "right\n",
      "shift\n",
      "left\n",
      "right\n",
      "shift\n",
      "left\n",
      "right\n",
      "right\n",
      "shift\n",
      "left\n",
      "right\n",
      "reduce\n",
      "reduce\n",
      "reduce\n",
      "reduce\n",
      "right\n",
      "reduce\n",
      "reduce\n",
      "reduce\n"
     ]
    }
   ],
   "source": [
    "for _, _, _, action in traverse(tree):\n",
    "    print(action)"
   ]
  },
  {
   "cell_type": "markdown",
   "metadata": {},
   "source": [
    "## 3. Виділити ознаки\n",
    "\n",
    "Написати функцію, яка дістає з дерева набір переходів та набір ознак для цих переходів."
   ]
  },
  {
   "cell_type": "code",
   "execution_count": 13,
   "metadata": {},
   "outputs": [
    {
     "name": "stdout",
     "output_type": "stream",
     "text": [
      "{'stk-0-form': 'ROOT', 'stk-0-lemma': 'ROOT', 'stk-0-tag': 'ROOT', 'que-0-form': 'У', 'que-0-lemma': 'у', 'que-0-tag': 'ADP', 'que-1-form': 'домі', 'que-1-tag': 'NOUN', 'que-2-tag': 'ADJ', 'que-3-tag': 'NOUN'}\n",
      "shift\n"
     ]
    }
   ],
   "source": [
    "def extract_features(stack, queue, *args):\n",
    "    features = {}\n",
    "    \n",
    "    if stack:\n",
    "        features['stk-0-form'] = stack[-1]['form']\n",
    "        features['stk-0-lemma'] = stack[-1]['lemma']\n",
    "        features['stk-0-tag'] = stack[-1]['upostag'] \n",
    "    if len(stack) > 1:\n",
    "        features['stk-1-tag'] = stack[-2]['upostag']\n",
    "        \n",
    "    if queue:\n",
    "        features['que-0-form'] = queue[0]['form']\n",
    "        features['que-0-lemma']= queue[0]['lemma']\n",
    "        features['que-0-tag']= queue[0]['upostag']\n",
    "    if len(queue) > 1:\n",
    "        features['que-1-form'] = queue[1]['form']\n",
    "        features['que-1-tag'] = queue[1]['upostag']\n",
    "    if len(queue) > 2:\n",
    "        features['que-2-tag'] = queue[2]['upostag']\n",
    "    if len(queue) > 3:\n",
    "        features['que-3-tag'] = queue[3]['upostag']\n",
    "    \n",
    "    return features\n",
    "\n",
    "\n",
    "def get_data(tree):\n",
    "    features, labels = [], []\n",
    "\n",
    "    for stack, queue, relations, action in traverse(tree):\n",
    "        features.append(extract_features(stack, queue, relations, tree))\n",
    "        labels.append(action)\n",
    "\n",
    "    return features, labels\n",
    "\n",
    "\n",
    "features, labels = get_data(tree)\n",
    "print(features[0])\n",
    "print(labels[0])"
   ]
  },
  {
   "cell_type": "markdown",
   "metadata": {},
   "source": [
    "## 4. Дістати тренувальні та тестувальні дані\n",
    "\n",
    "- Пройтися по всіх деревах у тренувальній вибірці та дістати всі переходи з ознаками.\n",
    "- Пройтися по всіх деревах у тестувальній вибірці та дістати всі переходи з ознаками.\n",
    "- Тестувальні дані беремо з “uk_iu-ud-dev.conllu”."
   ]
  },
  {
   "cell_type": "code",
   "execution_count": 14,
   "metadata": {},
   "outputs": [],
   "source": [
    "def prepare_data(trees):\n",
    "    features, labels = [], []\n",
    "    for tree in trees:\n",
    "        try:\n",
    "            f, l = get_data([t for t in tree if type(t[\"id\"])==int])\n",
    "            features += f\n",
    "            labels += l  \n",
    "        except Exception as e:\n",
    "            # print('Error occured!')\n",
    "            raise(e)\n",
    "            pass\n",
    "    return features, labels"
   ]
  },
  {
   "cell_type": "code",
   "execution_count": 16,
   "metadata": {},
   "outputs": [
    {
     "name": "stdout",
     "output_type": "stream",
     "text": [
      "190298 190298\n"
     ]
    }
   ],
   "source": [
    "train_features, train_labels = prepare_data(train_trees)\n",
    "print(len(train_features), len(train_labels))"
   ]
  },
  {
   "cell_type": "code",
   "execution_count": 37,
   "metadata": {},
   "outputs": [
    {
     "name": "stdout",
     "output_type": "stream",
     "text": [
      "25820 25820\n"
     ]
    }
   ],
   "source": [
    "test_features, test_labels = prepare_data(test_trees)  \n",
    "print(len(test_features), len(test_labels))"
   ]
  },
  {
   "cell_type": "markdown",
   "metadata": {},
   "source": [
    "## 5. Натренувати класифікатор\n",
    "- Векторизувати ознаки тренувальної/тестувальної вибірки.\n",
    "- Натренувати класифікатор на тренувальній вибірці.\n",
    "- Протестувати класифікатор на тестувальній вибірці."
   ]
  },
  {
   "cell_type": "code",
   "execution_count": 18,
   "metadata": {},
   "outputs": [
    {
     "name": "stdout",
     "output_type": "stream",
     "text": [
      "Total number of features:  111126\n"
     ]
    }
   ],
   "source": [
    "from sklearn.linear_model import LogisticRegression\n",
    "from sklearn.feature_extraction import DictVectorizer\n",
    "from sklearn.metrics import confusion_matrix, classification_report\n",
    "\n",
    "vectorizer = DictVectorizer()\n",
    "vec = vectorizer.fit(train_features)\n",
    "\n",
    "print(\"Total number of features: \", len(vec.get_feature_names()))"
   ]
  },
  {
   "cell_type": "code",
   "execution_count": 19,
   "metadata": {},
   "outputs": [],
   "source": [
    "X_train = vec.transform(train_features)\n",
    "y_train  = train_labels\n",
    "\n",
    "X_test = vec.transform(test_features)\n",
    "y_test = test_labels"
   ]
  },
  {
   "cell_type": "code",
   "execution_count": 20,
   "metadata": {},
   "outputs": [
    {
     "name": "stderr",
     "output_type": "stream",
     "text": [
      "[Parallel(n_jobs=1)]: Using backend SequentialBackend with 1 concurrent workers.\n",
      "/Users/h8si2w8/.pyenv/versions/3.8.2/lib/python3.8/site-packages/sklearn/linear_model/_logistic.py:938: ConvergenceWarning: lbfgs failed to converge (status=1):\n",
      "STOP: TOTAL NO. of ITERATIONS REACHED LIMIT.\n",
      "\n",
      "Increase the number of iterations (max_iter) or scale the data as shown in:\n",
      "    https://scikit-learn.org/stable/modules/preprocessing.html\n",
      "Please also refer to the documentation for alternative solver options:\n",
      "    https://scikit-learn.org/stable/modules/linear_model.html#logistic-regression\n",
      "  n_iter_i = _check_optimize_result(\n",
      "[Parallel(n_jobs=1)]: Done   1 out of   1 | elapsed:   16.8s finished\n"
     ]
    },
    {
     "data": {
      "text/plain": [
       "LogisticRegression(C=1.0, class_weight=None, dual=False, fit_intercept=True,\n",
       "                   intercept_scaling=1, l1_ratio=None, max_iter=100,\n",
       "                   multi_class='multinomial', n_jobs=None, penalty='l2',\n",
       "                   random_state=None, solver='lbfgs', tol=0.0001, verbose=1,\n",
       "                   warm_start=False)"
      ]
     },
     "execution_count": 20,
     "metadata": {},
     "output_type": "execute_result"
    }
   ],
   "source": [
    "lrc = LogisticRegression(multi_class=\"multinomial\", verbose=1)\n",
    "lrc.fit(X_train, y_train)"
   ]
  },
  {
   "cell_type": "code",
   "execution_count": 21,
   "metadata": {},
   "outputs": [
    {
     "name": "stdout",
     "output_type": "stream",
     "text": [
      "[[5498  241  290  342]\n",
      " [ 400 5345  875  255]\n",
      " [ 210  576 4734  476]\n",
      " [ 311  118  383 5766]]\n",
      "\n",
      "              precision    recall  f1-score   support\n",
      "\n",
      "        left       0.86      0.86      0.86      6371\n",
      "      reduce       0.85      0.78      0.81      6875\n",
      "       right       0.75      0.79      0.77      5996\n",
      "       shift       0.84      0.88      0.86      6578\n",
      "\n",
      "    accuracy                           0.83     25820\n",
      "   macro avg       0.83      0.83      0.83     25820\n",
      "weighted avg       0.83      0.83      0.83     25820\n",
      "\n"
     ]
    }
   ],
   "source": [
    "y_pred = lrc.predict(X_test)\n",
    "\n",
    "print(confusion_matrix(y_test, y_pred))\n",
    "print()\n",
    "print(classification_report(y_test, y_pred))"
   ]
  },
  {
   "cell_type": "markdown",
   "metadata": {},
   "source": [
    "## 6. Вирахувати unlabeled attachment score (UAS)\n",
    "- Скільки залежностей у побудованому дереві збіглося з еталонним деревом?\n",
    "- Порахувати на тестувальній вибірці."
   ]
  },
  {
   "cell_type": "code",
   "execution_count": 38,
   "metadata": {},
   "outputs": [
    {
     "data": {
      "text/plain": [
       "0.63"
      ]
     },
     "execution_count": 38,
     "metadata": {},
     "output_type": "execute_result"
    }
   ],
   "source": [
    "def intersect(s1, s2):\n",
    "    return len(set(s1).intersection(set(s2)))\n",
    "\n",
    "def new_shiny_oracle(stack, queue, relations):\n",
    "    features = extract_features(stack, queue)\n",
    "    vec_features = vec.transform([features])\n",
    "    return lrc.predict(vec_features)[0]\n",
    "\n",
    "def dep_parse(tree):\n",
    "    stack, queue, relations = [ROOT], tree[:], []\n",
    "\n",
    "    while queue or stack:\n",
    "        action = new_shiny_oracle(stack, queue, relations)\n",
    "\n",
    "        apply(action, stack, queue, relations)\n",
    "\n",
    "    return sorted(relations)\n",
    "\n",
    "tree = test_trees[205]\n",
    "golden = [(node['id'], node['head']) for node in tree]\n",
    "predicted = dep_parse(tree)\n",
    "tp = intersect(golden, predicted)\n",
    "total = len(golden)\n",
    "round(tp/total, 2)"
   ]
  },
  {
   "cell_type": "code",
   "execution_count": 39,
   "metadata": {},
   "outputs": [],
   "source": [
    "def scores(trees):\n",
    "    total, tp, errors = 0, 0, 0\n",
    "    for i, tree in enumerate(trees):\n",
    "        try:\n",
    "            tree = [t for t in tree if type(t[\"id\"])==int]\n",
    "            golden = [(node['id'], node['head']) for node in tree]\n",
    "            predicted = dep_parse(tree)\n",
    "            total += len(tree)\n",
    "            tp += intersect(golden, predicted)\n",
    "        except Exception as e:\n",
    "            # print(tree)\n",
    "            # print('Error in tree №': i)\n",
    "            # print(total, tp, errors, round(tp/total, 2))\n",
    "            errors += 1\n",
    "            # raise(e)\n",
    "            pass\n",
    "    return total, errors, tp, round(tp/total, 2)\n",
    "\n",
    "def print_scores(total, errors, tp, uas):\n",
    "    print(\"Total:\", total)\n",
    "    print(\"Errors:\", errors)\n",
    "    print(\"Correct:\", tp)\n",
    "    print(\"UAS:\", round(tp/total, 2))\n",
    "    \n",
    "def uas_report(trees):\n",
    "    total, errors, tp, uas = scores(test_trees)\n",
    "    print_scores(total, errors, tp, uas)"
   ]
  },
  {
   "cell_type": "code",
   "execution_count": 32,
   "metadata": {},
   "outputs": [
    {
     "name": "stdout",
     "output_type": "stream",
     "text": [
      "Total: 12502\n",
      "Errors: 1\n",
      "Correct: 8635\n",
      "UAS: 0.69\n"
     ]
    }
   ],
   "source": [
    "scores_report(test_trees)"
   ]
  },
  {
   "cell_type": "code",
   "execution_count": null,
   "metadata": {},
   "outputs": [],
   "source": []
  }
 ],
 "metadata": {
  "kernelspec": {
   "display_name": "Python 3",
   "language": "python",
   "name": "python3"
  },
  "language_info": {
   "codemirror_mode": {
    "name": "ipython",
    "version": 3
   },
   "file_extension": ".py",
   "mimetype": "text/x-python",
   "name": "python",
   "nbconvert_exporter": "python",
   "pygments_lexer": "ipython3",
   "version": "3.8.2"
  }
 },
 "nbformat": 4,
 "nbformat_minor": 4
}
