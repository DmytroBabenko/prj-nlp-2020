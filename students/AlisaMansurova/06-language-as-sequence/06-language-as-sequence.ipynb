{
 "cells": [
  {
   "cell_type": "code",
   "execution_count": null,
   "metadata": {},
   "outputs": [],
   "source": [
    "import random\n",
    "import os\n",
    "import re\n",
    "import json\n",
    "import numpy as np"
   ]
  },
  {
   "cell_type": "code",
   "execution_count": null,
   "metadata": {},
   "outputs": [],
   "source": [
    "def generate_glued_sents(text):\n",
    "    res = []\n",
    "    num_sents = random.randint(2,4)\n",
    "#     print(num_sents)\n",
    "    text_split = [text[i:i+num_sents] for i in range(0, len(text), num_sents)]\n",
    "    \n",
    "    for spl in text_split:\n",
    "        sents = [x.strip().replace('\" ', '\"').replace(' \"', '\"') for x in spl if x.strip()]\n",
    "        out_of_seq = num_sents\n",
    "        num_lower = random.randint(0, out_of_seq)\n",
    "        if num_lower < len(sents):\n",
    "            sent_normalized = sents[num_lower]\n",
    "            s_lower = sent_normalized[:1].lower() + sent_normalized[1:]\n",
    "            sents[num_lower] = s_lower\n",
    "        res.append(' '.join(sents))\n",
    "    return res"
   ]
  },
  {
   "cell_type": "code",
   "execution_count": null,
   "metadata": {
    "scrolled": false
   },
   "outputs": [],
   "source": [
    "res = generate_glued_sents_1(src)\n",
    "for r in res:\n",
    "    print(r)\n",
    "    print('===')"
   ]
  },
  {
   "cell_type": "code",
   "execution_count": null,
   "metadata": {
    "scrolled": false
   },
   "outputs": [],
   "source": [
    "def generate_train_data(root, results_file_path):\n",
    "    for root, subdirs, files in os.walk(root):\n",
    "        res = []\n",
    "        for file in files:\n",
    "            if file.endswith('.txt'):\n",
    "                file_path = os.path.join(root, file)\n",
    "                with open(file_path) as f:\n",
    "                    content = [x.strip() for x in re.split('[\\.!\\?](?=\\W)', ' '.join([x.strip() for x in f.readlines() if x.strip()])) if x.strip()]\n",
    "                    res.append('\\n'.join(generate_glued_sents(content)))\n",
    "#                     res.append('\\n'.join([x.strip() for x in f.readlines() if x.strip()]))\n",
    "        with open(results_file_path, 'a') as f:\n",
    "            for r in res:\n",
    "                f.write(r)"
   ]
  },
  {
   "cell_type": "code",
   "execution_count": null,
   "metadata": {
    "scrolled": false
   },
   "outputs": [],
   "source": [
    "# ROOT = '../../../../../corpora/OANC-GrAF/data/written_1/journal/slate/1'\n",
    "ROOT = '../../../../../corpora/OANC-GrAF/data'\n",
    "DATA_FILE_PATH = './train_data.txt'\n",
    "# DATA_FILE_PATH = './test_data.txt'\n",
    "\n",
    "generate_train_data(ROOT, DATA_FILE_PATH)"
   ]
  },
  {
   "cell_type": "code",
   "execution_count": null,
   "metadata": {},
   "outputs": [],
   "source": [
    "with open('./train_data.txt') as f:\n",
    "    lines = f.readlines()\n",
    "    print(len(lines))"
   ]
  },
  {
   "cell_type": "code",
   "execution_count": null,
   "metadata": {},
   "outputs": [],
   "source": [
    "with open('./test_data.txt') as f:\n",
    "    lines = f.readlines()\n",
    "    print(len(lines))"
   ]
  },
  {
   "cell_type": "code",
   "execution_count": null,
   "metadata": {},
   "outputs": [],
   "source": []
  }
 ],
 "metadata": {
  "kernelspec": {
   "display_name": "Python 3",
   "language": "python",
   "name": "python3"
  },
  "language_info": {
   "codemirror_mode": {
    "name": "ipython",
    "version": 3
   },
   "file_extension": ".py",
   "mimetype": "text/x-python",
   "name": "python",
   "nbconvert_exporter": "python",
   "pygments_lexer": "ipython3",
   "version": "3.7.1"
  }
 },
 "nbformat": 4,
 "nbformat_minor": 4
}
